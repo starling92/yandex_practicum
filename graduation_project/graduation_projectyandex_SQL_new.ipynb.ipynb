{
 "cells": [
  {
   "cell_type": "markdown",
   "metadata": {},
   "source": [
    "# Проект: Исследование для платформы чтения книг"
   ]
  },
  {
   "cell_type": "markdown",
   "metadata": {},
   "source": [
    "# Описание проекта"
   ]
  },
  {
   "cell_type": "markdown",
   "metadata": {},
   "source": [
    "Компания приобрела сервис по чтению книг по подписке. Необходимо провести анализ имеющихся данных"
   ]
  },
  {
   "cell_type": "markdown",
   "metadata": {},
   "source": [
    "Описание данных\n",
    "\n",
    "Таблица books\n",
    "\n",
    "Содержит данные о книгах:\n",
    "\n",
    "- book_id — идентификатор книги;\n",
    "- author_id — идентификатор автора;\n",
    "- title — название книги;\n",
    "- num_pages — количество страниц;\n",
    "- publication_date — дата публикации книги;\n",
    "- publisher_id — идентификатор издателя.\n",
    "\n",
    "Таблица authors\n",
    "\n",
    "Содержит данные об авторах:\n",
    "\n",
    "- author_id — идентификатор автора;\n",
    "- author — имя автора.\n",
    "\n",
    "Таблица publishers\n",
    "\n",
    "- Содержит данные об издательствах:\n",
    "- publisher_id — идентификатор издательства;\n",
    "- publisher — название издательства;\n",
    "\n",
    "Таблица ratings\n",
    "\n",
    "Содержит данные о пользовательских оценках книг:\n",
    "\n",
    "- rating_id — идентификатор оценки;\n",
    "- book_id — идентификатор книги;\n",
    "- username — имя пользователя, оставившего оценку;\n",
    "- rating — оценка книги.\n",
    "\n",
    "Таблица reviews\n",
    "\n",
    "Содержит данные о пользовательских обзорах:\n",
    "\n",
    "- review_id — идентификатор обзора;\n",
    "- book_id — идентификатор книги;\n",
    "- username — имя автора обзора;\n",
    "- text — текст обзора."
   ]
  },
  {
   "cell_type": "markdown",
   "metadata": {},
   "source": [
    "## Подготовка и ознакомление с таблицами"
   ]
  },
  {
   "cell_type": "code",
   "execution_count": 1,
   "metadata": {},
   "outputs": [],
   "source": [
    "# импортируем библиотеки\n",
    "import pandas as pd\n",
    "import sqlalchemy as sa"
   ]
  },
  {
   "cell_type": "code",
   "execution_count": null,
   "metadata": {},
   "outputs": [],
   "source": [
    "# устанавливаем параметры\n",
    "db_config = {\n",
    "    'user': 'praktikum_student',  # имя пользователя\n",
    "    'pwd': 'Sdf4$2;d-d30pp',      # пароль\n",
    "    'host': 'rc1b-wcoijxj3yxfsf3fs.mdb.yandexcloud.net',\n",
    "    'port': 6432,                 # порт подключения\n",
    "    'db': 'data-analyst-final-project-db'  # название базы данных\n",
    "}\n",
    "\n",
    "connection_string = 'postgresql://{user}:{pwd}@{host}:{port}/{db}'.format(**db_config)\n",
    "\n",
    "# создаем коннектор\n",
    "engine = sa.create_engine(connection_string, connect_args={'sslmode': 'require'})\n",
    "\n",
    "# функция для выполнения SQL-запросов\n",
    "def get_sql_data(query: str, engine: sa.engine.base.Engine = engine) -> pd.DataFrame:\n",
    "    '''Открываем соединение, получаем данные из SQL, закрываем соединение'''\n",
    "    with engine.connect() as con:\n",
    "        return pd.read_sql(sql=sa.text(query), con=con)\n",
    "\n",
    "# SQL-запрос\n",
    "query = '''\n",
    "SELECT * \n",
    "FROM books \n",
    "LIMIT 5\n",
    "'''\n",
    "\n",
    "# Вызов функции и вывод результата\n",
    "result = get_sql_data(query)\n"
   ]
  },
  {
   "cell_type": "code",
   "execution_count": null,
   "metadata": {},
   "outputs": [],
   "source": [
    "result"
   ]
  },
  {
   "cell_type": "code",
   "execution_count": null,
   "metadata": {},
   "outputs": [],
   "source": [
    "# SQL-запросы для исследования таблиц\n",
    "tables = [\"books\", \"authors\", \"publishers\", \"ratings\", \"reviews\"]\n",
    "\n",
    "for table in tables:\n",
    "    display(f\"Таблица: {table}\")\n",
    "    display(get_sql_data(f\"SELECT * FROM {table} LIMIT 5\"))  # Первые строки\n",
    "    display(get_sql_data(f\"SELECT COUNT(*) AS count FROM {table}\"))  # Кол-во строк\n"
   ]
  },
  {
   "cell_type": "code",
   "execution_count": null,
   "metadata": {},
   "outputs": [],
   "source": [
    "books = '''\n",
    "SELECT \n",
    "    *\n",
    "FROM books\n",
    "'''\n",
    "books = get_sql_data(books)\n",
    "books.describe()"
   ]
  },
  {
   "cell_type": "markdown",
   "metadata": {},
   "source": [
    "Мы видим, что данные о тысячи книгах. В средням содержат 389 страниц"
   ]
  },
  {
   "cell_type": "code",
   "execution_count": null,
   "metadata": {},
   "outputs": [],
   "source": [
    "authors = '''\n",
    "SELECT \n",
    "    author_id,\n",
    "    author\n",
    "FROM authors\n",
    "\n",
    "'''\n",
    "authors = get_sql_data(authors)\n",
    "authors['author_id'].nunique()"
   ]
  },
  {
   "cell_type": "markdown",
   "metadata": {},
   "source": [
    "В данных 636 авторов"
   ]
  },
  {
   "cell_type": "code",
   "execution_count": null,
   "metadata": {},
   "outputs": [],
   "source": [
    "publishers = '''\n",
    "SELECT \n",
    "    *\n",
    "FROM publishers\n",
    "'''\n",
    "\n",
    "publishers = get_sql_data(publishers)\n",
    "publishers['publisher'].nunique()"
   ]
  },
  {
   "cell_type": "markdown",
   "metadata": {},
   "source": [
    "340 издательств"
   ]
  },
  {
   "cell_type": "code",
   "execution_count": null,
   "metadata": {},
   "outputs": [],
   "source": [
    "ratings = '''\n",
    "SELECT \n",
    "    *\n",
    "FROM ratings\n",
    "'''\n",
    "ratings = get_sql_data(ratings)\n",
    "ratings['rating_id'].nunique()"
   ]
  },
  {
   "cell_type": "markdown",
   "metadata": {},
   "source": [
    "6456 поставленных оценок "
   ]
  },
  {
   "cell_type": "code",
   "execution_count": null,
   "metadata": {},
   "outputs": [],
   "source": [
    "reviews = '''\n",
    "SELECT \n",
    "    *\n",
    "FROM reviews\n",
    "'''\n",
    "reviews = get_sql_data(reviews)\n",
    "reviews['review_id'].nunique()"
   ]
  },
  {
   "cell_type": "markdown",
   "metadata": {},
   "source": [
    "2793 пользовательских обзора"
   ]
  },
  {
   "cell_type": "markdown",
   "metadata": {},
   "source": [
    "## Анализ данных"
   ]
  },
  {
   "cell_type": "markdown",
   "metadata": {},
   "source": [
    "### Посчитать количество книг, вышедших после 1 января 2000 года"
   ]
  },
  {
   "cell_type": "code",
   "execution_count": null,
   "metadata": {},
   "outputs": [],
   "source": [
    "query = '''\n",
    "SELECT COUNT(*)\n",
    "FROM books\n",
    "WHERE publication_date > '2000-01-01';\n",
    "'''\n",
    "result = get_sql_data(query)\n",
    "result"
   ]
  },
  {
   "cell_type": "markdown",
   "metadata": {},
   "source": [
    "819 книг вышло после 1 января"
   ]
  },
  {
   "cell_type": "markdown",
   "metadata": {},
   "source": [
    "### Для каждой книги посчитаем количество обзоров и среднюю оценку"
   ]
  },
  {
   "cell_type": "code",
   "execution_count": null,
   "metadata": {},
   "outputs": [],
   "source": [
    "query = '''\n",
    "SELECT \n",
    "    b.book_id,\n",
    "    b.title,\n",
    "    COUNT(DISTINCT r.review_id) AS review_count,\n",
    "    AVG(rt.rating) AS avg_rating\n",
    "FROM books b\n",
    "LEFT JOIN reviews r ON b.book_id = r.book_id\n",
    "LEFT JOIN ratings rt ON b.book_id = rt.book_id\n",
    "GROUP BY b.book_id, b.title\n",
    "ORDER BY b.title;\n",
    "\n",
    "'''\n",
    "result = get_sql_data(query)\n",
    "result\n"
   ]
  },
  {
   "cell_type": "markdown",
   "metadata": {},
   "source": [
    "Для 1000 книг, средний рейтинг 3,9. Максимальное количество обзоров 7, медианное 3."
   ]
  },
  {
   "cell_type": "markdown",
   "metadata": {},
   "source": [
    "### Определить издательство, выпустившее наибольшее число книг толще 50 страниц"
   ]
  },
  {
   "cell_type": "code",
   "execution_count": null,
   "metadata": {},
   "outputs": [],
   "source": [
    "query = '''\n",
    "SELECT \n",
    "    p.publisher,\n",
    "    COUNT(*) AS books_count\n",
    "FROM books b\n",
    "JOIN publishers p ON b.publisher_id = p.publisher_id\n",
    "WHERE b.num_pages > 50\n",
    "GROUP BY p.publisher\n",
    "ORDER BY books_count DESC\n",
    "LIMIT 1;\n",
    "\n",
    "'''\n",
    "result = get_sql_data(query)\n",
    "result\n"
   ]
  },
  {
   "cell_type": "markdown",
   "metadata": {},
   "source": [
    "Издательство Penguin Books выпустило больше всего книг (от 50 страниц) = 42"
   ]
  },
  {
   "cell_type": "markdown",
   "metadata": {},
   "source": [
    "### Найти автора с самой высокой средней оценкой книг (учитывать книги с 50 и более оценками)"
   ]
  },
  {
   "cell_type": "raw",
   "metadata": {},
   "source": [
    "query = '''\n",
    "WITH book_ratings AS (\n",
    "    SELECT \n",
    "        b.author_id,\n",
    "        AVG(rt.rating) AS avg_rating,\n",
    "        COUNT(rt.rating) AS rating_count\n",
    "    FROM books b\n",
    "    JOIN ratings rt ON b.book_id = rt.book_id\n",
    "    GROUP BY b.author_id\n",
    "    HAVING COUNT(rt.rating) >= 50\n",
    ")\n",
    "SELECT \n",
    "    a.author,\n",
    "    br.avg_rating\n",
    "FROM book_ratings br\n",
    "JOIN authors a ON br.author_id = a.author_id\n",
    "ORDER BY br.avg_rating DESC\n",
    "LIMIT 1;\n",
    "\n",
    "'''\n",
    "\n",
    "result = get_sql_data(query)\n",
    "result"
   ]
  },
  {
   "cell_type": "raw",
   "metadata": {},
   "source": [
    "Diana Gabaldon - автор с самой высокой средней оценкой книг (учитывать книги с 50 и более оценками)"
   ]
  },
  {
   "cell_type": "code",
   "execution_count": null,
   "metadata": {},
   "outputs": [],
   "source": [
    "query = '''\n",
    "WITH book_ratings AS (\n",
    "   SELECT\n",
    "        b.book_id as book_50,\n",
    "        COUNT(rt.rating) as count_rating\n",
    "    FROM books b\n",
    "    JOIN\n",
    "    ratings rt ON rt.book_id = b.book_id\n",
    "    GROUP BY b.book_id\n",
    "    HAVING COUNT(rt.rating) >=50\n",
    ") \n",
    "\n",
    "SELECT \n",
    "    a.author,\n",
    "    AVG(r.rating) as rating_avg\n",
    "FROM authors a\n",
    "JOIN\n",
    "books b ON a.author_id = b.author_id\n",
    "JOIN\n",
    "ratings r ON r.book_id = b.book_id\n",
    "JOIN\n",
    "book_ratings br ON br.book_50 = b.book_id\n",
    "GROUP BY a.author\n",
    "ORDER BY rating_avg DESC\n",
    "LIMIT 1\n",
    " \n",
    "'''\n",
    "\n",
    "\n",
    "result = get_sql_data(query)\n",
    "result"
   ]
  },
  {
   "cell_type": "markdown",
   "metadata": {},
   "source": [
    "J.K. Rowling/Mary GrandPré - автор с самой высокой средней оценкой книг (учитывать книги с 50 и более оценками)"
   ]
  },
  {
   "cell_type": "markdown",
   "metadata": {},
   "source": [
    "### Посчитать среднее количество обзоров от пользователей, оставивших более 48 оценок"
   ]
  },
  {
   "cell_type": "code",
   "execution_count": null,
   "metadata": {},
   "outputs": [],
   "source": [
    "query = '''\n",
    "WITH active_users AS (\n",
    "    SELECT \n",
    "        username\n",
    "    FROM ratings\n",
    "    GROUP BY username\n",
    "    HAVING COUNT(rating) > 48\n",
    ")\n",
    "SELECT \n",
    "    AVG(review_count) AS avg_reviews_per_user\n",
    "FROM (\n",
    "    SELECT \n",
    "        u.username,\n",
    "        COUNT(r.review_id) AS review_count\n",
    "    FROM active_users u\n",
    "    JOIN reviews r ON u.username = r.username\n",
    "    GROUP BY u.username\n",
    ") user_reviews;\n",
    "\n",
    "'''\n",
    "result = get_sql_data(query)\n",
    "result"
   ]
  },
  {
   "cell_type": "markdown",
   "metadata": {},
   "source": [
    "24 - среднее количество обзоров от пользователей, оставивших более 48 оценок"
   ]
  },
  {
   "cell_type": "markdown",
   "metadata": {},
   "source": [
    "## Вывод"
   ]
  },
  {
   "cell_type": "markdown",
   "metadata": {},
   "source": [
    "Выводы\n",
    " - Общие данные:\n",
    "В таблицах содержатся данные о тысяче книгах. Среднее количество страниц в книгах составляет 389.\n",
    "\n",
    " - Данные об авторах:\n",
    "Всего в данных представлено 636 авторов.\n",
    "\n",
    "- Издательства:\n",
    "В базе данных числится 340 издательств, среди которых издательство Penguin Books выпустило наибольшее количество книг объемом более 50 страниц — 42 книги.\n",
    "\n",
    "- Оценки и обзоры:\n",
    "\n",
    "Всего пользователи оставили 6456 оценок для книг.\\\n",
    "Также было написано 2793 пользовательских обзора.\\\n",
    "Книги после 2000 года:\\\n",
    "После 1 января 2000 года вышло 819 книг.\\\n",
    "\n",
    "Средний рейтинг и обзоры:\n",
    "\n",
    "Средний рейтинг для 1000 книг составляет 3.9.\\\n",
    "Максимальное количество обзоров для одной книги — 7, медианное значение — 3.\\\n",
    "\n",
    "Лучший автор:\n",
    "Автор с самой высокой средней оценкой книг (учитывая только книги с 50 и более оценками) — J.K. Rowling/Mary GrandPré.\\\n",
    "\n",
    "Активные пользователи:\n",
    "Среднее количество обзоров от пользователей, оставивших более 48 оценок, составляет 24.\\"
   ]
  }
 ],
 "metadata": {
  "ExecuteTimeLog": [
   {
    "duration": 6755,
    "start_time": "2024-12-19T05:06:55.743Z"
   },
   {
    "duration": 14,
    "start_time": "2024-12-19T05:07:23.471Z"
   },
   {
    "duration": 42,
    "start_time": "2024-12-19T05:08:14.394Z"
   },
   {
    "duration": 45,
    "start_time": "2024-12-19T05:09:48.861Z"
   },
   {
    "duration": 58,
    "start_time": "2024-12-19T05:11:23.240Z"
   },
   {
    "duration": 49,
    "start_time": "2024-12-19T12:53:13.711Z"
   },
   {
    "duration": 6,
    "start_time": "2024-12-19T12:53:21.042Z"
   },
   {
    "duration": 6614,
    "start_time": "2024-12-19T12:53:30.228Z"
   },
   {
    "duration": 14,
    "start_time": "2024-12-19T12:53:36.844Z"
   },
   {
    "duration": 89,
    "start_time": "2024-12-19T12:53:36.860Z"
   },
   {
    "duration": 89,
    "start_time": "2024-12-19T12:53:36.951Z"
   },
   {
    "duration": 23,
    "start_time": "2024-12-19T12:57:26.940Z"
   },
   {
    "duration": 6,
    "start_time": "2024-12-19T13:01:31.859Z"
   },
   {
    "duration": 6,
    "start_time": "2024-12-19T13:03:43.830Z"
   },
   {
    "duration": 16,
    "start_time": "2024-12-19T13:03:51.112Z"
   },
   {
    "duration": 45,
    "start_time": "2024-12-19T13:09:17.312Z"
   },
   {
    "duration": 10,
    "start_time": "2024-12-19T13:12:31.238Z"
   },
   {
    "duration": 99,
    "start_time": "2024-12-19T13:13:29.944Z"
   },
   {
    "duration": 6371,
    "start_time": "2024-12-21T08:43:59.592Z"
   },
   {
    "duration": 14,
    "start_time": "2024-12-21T08:44:05.965Z"
   },
   {
    "duration": 85,
    "start_time": "2024-12-21T08:44:05.981Z"
   },
   {
    "duration": 9,
    "start_time": "2024-12-21T08:44:06.069Z"
   },
   {
    "duration": 23,
    "start_time": "2024-12-21T08:44:06.080Z"
   },
   {
    "duration": 3,
    "start_time": "2024-12-21T08:46:02.519Z"
   },
   {
    "duration": 80,
    "start_time": "2024-12-21T08:47:32.727Z"
   },
   {
    "duration": 26,
    "start_time": "2024-12-21T08:47:44.255Z"
   },
   {
    "duration": 71,
    "start_time": "2024-12-21T08:56:35.372Z"
   },
   {
    "duration": 15,
    "start_time": "2024-12-21T08:57:26.703Z"
   },
   {
    "duration": 16,
    "start_time": "2024-12-21T08:58:43.344Z"
   },
   {
    "duration": 8,
    "start_time": "2024-12-21T08:59:01.715Z"
   },
   {
    "duration": 6324,
    "start_time": "2024-12-21T08:59:24.499Z"
   },
   {
    "duration": 13,
    "start_time": "2024-12-21T08:59:30.825Z"
   },
   {
    "duration": 66,
    "start_time": "2024-12-21T08:59:30.839Z"
   },
   {
    "duration": 24,
    "start_time": "2024-12-21T08:59:30.907Z"
   },
   {
    "duration": 7,
    "start_time": "2024-12-21T08:59:30.934Z"
   },
   {
    "duration": 11,
    "start_time": "2024-12-21T08:59:30.943Z"
   },
   {
    "duration": 10,
    "start_time": "2024-12-21T08:59:30.956Z"
   },
   {
    "duration": 56,
    "start_time": "2024-12-21T09:00:51.995Z"
   },
   {
    "duration": 10,
    "start_time": "2024-12-21T09:02:07.801Z"
   },
   {
    "duration": 13,
    "start_time": "2024-12-21T09:02:54.820Z"
   },
   {
    "duration": 9,
    "start_time": "2024-12-21T09:03:19.824Z"
   },
   {
    "duration": 68,
    "start_time": "2024-12-21T09:04:28.579Z"
   },
   {
    "duration": 1064,
    "start_time": "2024-12-21T09:05:10.737Z"
   },
   {
    "duration": 21,
    "start_time": "2024-12-21T09:05:31.735Z"
   },
   {
    "duration": 57,
    "start_time": "2024-12-21T09:06:01.314Z"
   },
   {
    "duration": 13,
    "start_time": "2024-12-21T09:07:05.420Z"
   },
   {
    "duration": 27,
    "start_time": "2024-12-21T09:09:51.210Z"
   },
   {
    "duration": 30,
    "start_time": "2024-12-21T09:11:55.201Z"
   },
   {
    "duration": 74,
    "start_time": "2024-12-21T09:16:35.637Z"
   },
   {
    "duration": 2,
    "start_time": "2024-12-21T09:17:04.654Z"
   },
   {
    "duration": 11,
    "start_time": "2024-12-21T09:21:57.379Z"
   },
   {
    "duration": 13,
    "start_time": "2024-12-21T09:28:50.064Z"
   },
   {
    "duration": 12,
    "start_time": "2024-12-21T09:30:40.043Z"
   },
   {
    "duration": 55,
    "start_time": "2024-12-21T09:39:45.775Z"
   },
   {
    "duration": 518,
    "start_time": "2024-12-21T09:40:51.692Z"
   },
   {
    "duration": 6646,
    "start_time": "2024-12-21T09:40:52.212Z"
   },
   {
    "duration": 14,
    "start_time": "2024-12-21T09:40:58.859Z"
   },
   {
    "duration": 53,
    "start_time": "2024-12-21T09:40:58.875Z"
   },
   {
    "duration": 22,
    "start_time": "2024-12-21T09:40:58.930Z"
   },
   {
    "duration": 9,
    "start_time": "2024-12-21T09:40:58.954Z"
   },
   {
    "duration": 8,
    "start_time": "2024-12-21T09:40:58.965Z"
   },
   {
    "duration": 27,
    "start_time": "2024-12-21T09:40:58.974Z"
   },
   {
    "duration": 12,
    "start_time": "2024-12-21T09:40:59.003Z"
   },
   {
    "duration": 12,
    "start_time": "2024-12-21T09:40:59.017Z"
   },
   {
    "duration": 29,
    "start_time": "2024-12-21T09:40:59.030Z"
   },
   {
    "duration": 10,
    "start_time": "2024-12-21T09:40:59.060Z"
   },
   {
    "duration": 12,
    "start_time": "2024-12-21T09:40:59.086Z"
   },
   {
    "duration": 11,
    "start_time": "2024-12-21T09:40:59.101Z"
   },
   {
    "duration": 489,
    "start_time": "2024-12-22T06:55:28.053Z"
   },
   {
    "duration": 9876,
    "start_time": "2024-12-22T06:55:28.544Z"
   },
   {
    "duration": 14,
    "start_time": "2024-12-22T06:55:38.422Z"
   },
   {
    "duration": 468,
    "start_time": "2024-12-22T06:55:38.438Z"
   },
   {
    "duration": 86,
    "start_time": "2024-12-22T06:55:38.908Z"
   },
   {
    "duration": 50,
    "start_time": "2024-12-22T06:55:38.995Z"
   },
   {
    "duration": 48,
    "start_time": "2024-12-22T06:55:39.047Z"
   },
   {
    "duration": 80,
    "start_time": "2024-12-22T06:55:39.097Z"
   },
   {
    "duration": 63,
    "start_time": "2024-12-22T06:55:39.178Z"
   },
   {
    "duration": 51,
    "start_time": "2024-12-22T06:55:39.243Z"
   },
   {
    "duration": 73,
    "start_time": "2024-12-22T06:55:39.295Z"
   },
   {
    "duration": 52,
    "start_time": "2024-12-22T06:55:39.369Z"
   },
   {
    "duration": 54,
    "start_time": "2024-12-22T06:55:39.423Z"
   },
   {
    "duration": 54,
    "start_time": "2024-12-22T06:55:39.479Z"
   },
   {
    "duration": 54,
    "start_time": "2024-12-22T06:57:35.517Z"
   },
   {
    "duration": 55,
    "start_time": "2024-12-22T10:31:42.523Z"
   },
   {
    "duration": 527,
    "start_time": "2024-12-22T10:31:47.768Z"
   },
   {
    "duration": 6405,
    "start_time": "2024-12-22T10:31:48.297Z"
   },
   {
    "duration": 14,
    "start_time": "2024-12-22T10:31:54.704Z"
   },
   {
    "duration": 67,
    "start_time": "2024-12-22T10:31:54.719Z"
   },
   {
    "duration": 22,
    "start_time": "2024-12-22T10:31:54.787Z"
   },
   {
    "duration": 9,
    "start_time": "2024-12-22T10:31:54.810Z"
   },
   {
    "duration": 8,
    "start_time": "2024-12-22T10:31:54.820Z"
   },
   {
    "duration": 19,
    "start_time": "2024-12-22T10:31:54.830Z"
   },
   {
    "duration": 36,
    "start_time": "2024-12-22T10:31:54.851Z"
   },
   {
    "duration": 9,
    "start_time": "2024-12-22T10:31:54.889Z"
   },
   {
    "duration": 30,
    "start_time": "2024-12-22T10:31:54.899Z"
   },
   {
    "duration": 10,
    "start_time": "2024-12-22T10:31:54.930Z"
   },
   {
    "duration": 12,
    "start_time": "2024-12-22T10:31:54.941Z"
   },
   {
    "duration": 10,
    "start_time": "2024-12-22T10:31:54.954Z"
   },
   {
    "duration": 83,
    "start_time": "2024-12-22T10:42:13.683Z"
   },
   {
    "duration": 13,
    "start_time": "2024-12-22T11:05:50.616Z"
   },
   {
    "duration": 89,
    "start_time": "2024-12-22T11:13:37.703Z"
   },
   {
    "duration": 23,
    "start_time": "2024-12-22T11:14:17.925Z"
   },
   {
    "duration": 22,
    "start_time": "2024-12-22T11:14:28.536Z"
   },
   {
    "duration": 21,
    "start_time": "2024-12-22T11:15:06.876Z"
   },
   {
    "duration": 18,
    "start_time": "2024-12-22T11:15:21.245Z"
   },
   {
    "duration": 23,
    "start_time": "2024-12-22T11:15:53.936Z"
   },
   {
    "duration": 21,
    "start_time": "2024-12-22T11:16:02.926Z"
   },
   {
    "duration": 21,
    "start_time": "2024-12-22T11:17:06.537Z"
   },
   {
    "duration": 13,
    "start_time": "2024-12-22T11:17:39.073Z"
   },
   {
    "duration": 30,
    "start_time": "2024-12-22T11:25:17.311Z"
   },
   {
    "duration": 22,
    "start_time": "2024-12-22T11:25:28.035Z"
   },
   {
    "duration": 18,
    "start_time": "2024-12-22T11:25:51.857Z"
   },
   {
    "duration": 12,
    "start_time": "2024-12-22T11:26:16.018Z"
   },
   {
    "duration": 20,
    "start_time": "2024-12-22T11:27:13.896Z"
   },
   {
    "duration": 23,
    "start_time": "2024-12-22T11:27:38.437Z"
   },
   {
    "duration": 21,
    "start_time": "2024-12-22T11:28:06.382Z"
   },
   {
    "duration": 21,
    "start_time": "2024-12-22T11:30:11.563Z"
   },
   {
    "duration": 24,
    "start_time": "2024-12-22T11:31:08.925Z"
   },
   {
    "duration": 21,
    "start_time": "2024-12-22T11:31:28.483Z"
   },
   {
    "duration": 21,
    "start_time": "2024-12-22T11:32:09.922Z"
   },
   {
    "duration": 19,
    "start_time": "2024-12-22T11:32:38.680Z"
   },
   {
    "duration": 16,
    "start_time": "2024-12-22T11:38:11.473Z"
   },
   {
    "duration": 15,
    "start_time": "2024-12-22T11:41:34.985Z"
   },
   {
    "duration": 14,
    "start_time": "2024-12-22T11:42:24.226Z"
   },
   {
    "duration": 14,
    "start_time": "2024-12-22T11:48:03.915Z"
   },
   {
    "duration": 14,
    "start_time": "2024-12-22T11:48:11.967Z"
   },
   {
    "duration": 507,
    "start_time": "2024-12-22T11:48:25.200Z"
   },
   {
    "duration": 6024,
    "start_time": "2024-12-22T11:48:25.709Z"
   },
   {
    "duration": 14,
    "start_time": "2024-12-22T11:48:31.735Z"
   },
   {
    "duration": 82,
    "start_time": "2024-12-22T11:48:31.750Z"
   },
   {
    "duration": 23,
    "start_time": "2024-12-22T11:48:31.833Z"
   },
   {
    "duration": 36,
    "start_time": "2024-12-22T11:48:31.857Z"
   },
   {
    "duration": 68,
    "start_time": "2024-12-22T11:48:31.895Z"
   },
   {
    "duration": 19,
    "start_time": "2024-12-22T11:48:31.964Z"
   },
   {
    "duration": 16,
    "start_time": "2024-12-22T11:48:31.985Z"
   },
   {
    "duration": 8,
    "start_time": "2024-12-22T11:48:32.003Z"
   },
   {
    "duration": 30,
    "start_time": "2024-12-22T11:48:32.013Z"
   },
   {
    "duration": 10,
    "start_time": "2024-12-22T11:48:32.044Z"
   },
   {
    "duration": 35,
    "start_time": "2024-12-22T11:48:32.055Z"
   },
   {
    "duration": 12,
    "start_time": "2024-12-22T11:48:32.091Z"
   },
   {
    "duration": 492,
    "start_time": "2025-01-05T20:10:49.464Z"
   },
   {
    "duration": 8417,
    "start_time": "2025-01-05T20:10:49.958Z"
   },
   {
    "duration": 16,
    "start_time": "2025-01-05T20:10:58.377Z"
   },
   {
    "duration": 72,
    "start_time": "2025-01-05T20:10:58.396Z"
   },
   {
    "duration": 21,
    "start_time": "2025-01-05T20:10:58.470Z"
   },
   {
    "duration": 8,
    "start_time": "2025-01-05T20:10:58.493Z"
   },
   {
    "duration": 28,
    "start_time": "2025-01-05T20:10:58.503Z"
   },
   {
    "duration": 22,
    "start_time": "2025-01-05T20:10:58.532Z"
   },
   {
    "duration": 12,
    "start_time": "2025-01-05T20:10:58.556Z"
   },
   {
    "duration": 8,
    "start_time": "2025-01-05T20:10:58.570Z"
   },
   {
    "duration": 24,
    "start_time": "2025-01-05T20:10:58.580Z"
   },
   {
    "duration": 94,
    "start_time": "2025-01-05T20:10:58.606Z"
   },
   {
    "duration": 0,
    "start_time": "2025-01-05T20:10:58.702Z"
   },
   {
    "duration": 0,
    "start_time": "2025-01-05T20:10:58.703Z"
   },
   {
    "duration": 0,
    "start_time": "2025-01-05T20:10:58.704Z"
   },
   {
    "duration": 20,
    "start_time": "2025-01-05T20:11:15.707Z"
   },
   {
    "duration": 20,
    "start_time": "2025-01-05T20:12:02.817Z"
   },
   {
    "duration": 518,
    "start_time": "2025-01-05T20:12:26.118Z"
   },
   {
    "duration": 7700,
    "start_time": "2025-01-05T20:12:26.638Z"
   },
   {
    "duration": 14,
    "start_time": "2025-01-05T20:12:34.340Z"
   },
   {
    "duration": 73,
    "start_time": "2025-01-05T20:12:34.356Z"
   },
   {
    "duration": 31,
    "start_time": "2025-01-05T20:12:34.430Z"
   },
   {
    "duration": 8,
    "start_time": "2025-01-05T20:12:34.462Z"
   },
   {
    "duration": 22,
    "start_time": "2025-01-05T20:12:34.471Z"
   },
   {
    "duration": 38,
    "start_time": "2025-01-05T20:12:34.494Z"
   },
   {
    "duration": 12,
    "start_time": "2025-01-05T20:12:34.534Z"
   },
   {
    "duration": 8,
    "start_time": "2025-01-05T20:12:34.548Z"
   },
   {
    "duration": 24,
    "start_time": "2025-01-05T20:12:34.558Z"
   },
   {
    "duration": 85,
    "start_time": "2025-01-05T20:12:34.584Z"
   },
   {
    "duration": 0,
    "start_time": "2025-01-05T20:12:34.670Z"
   },
   {
    "duration": 0,
    "start_time": "2025-01-05T20:12:34.671Z"
   },
   {
    "duration": 0,
    "start_time": "2025-01-05T20:12:34.672Z"
   },
   {
    "duration": 21,
    "start_time": "2025-01-05T20:15:14.217Z"
   },
   {
    "duration": 20,
    "start_time": "2025-01-05T20:18:42.613Z"
   },
   {
    "duration": 22,
    "start_time": "2025-01-05T20:18:49.048Z"
   },
   {
    "duration": 23,
    "start_time": "2025-01-05T20:23:29.105Z"
   },
   {
    "duration": 741,
    "start_time": "2025-01-05T20:26:16.110Z"
   },
   {
    "duration": 24,
    "start_time": "2025-01-05T20:26:51.447Z"
   },
   {
    "duration": 25,
    "start_time": "2025-01-05T20:27:11.297Z"
   },
   {
    "duration": 26,
    "start_time": "2025-01-05T20:31:17.395Z"
   },
   {
    "duration": 25,
    "start_time": "2025-01-05T20:32:02.338Z"
   },
   {
    "duration": 25,
    "start_time": "2025-01-05T20:32:03.594Z"
   },
   {
    "duration": 20,
    "start_time": "2025-01-05T20:32:54.640Z"
   },
   {
    "duration": 25,
    "start_time": "2025-01-05T20:32:58.297Z"
   },
   {
    "duration": 20,
    "start_time": "2025-01-05T20:33:13.674Z"
   },
   {
    "duration": 110,
    "start_time": "2025-01-05T20:34:02.917Z"
   },
   {
    "duration": 18,
    "start_time": "2025-01-05T20:34:19.977Z"
   },
   {
    "duration": 19,
    "start_time": "2025-01-05T20:40:03.434Z"
   },
   {
    "duration": 22,
    "start_time": "2025-01-05T20:40:25.802Z"
   },
   {
    "duration": 12,
    "start_time": "2025-01-05T20:40:32.498Z"
   },
   {
    "duration": 19,
    "start_time": "2025-01-05T20:40:56.189Z"
   },
   {
    "duration": 18,
    "start_time": "2025-01-05T20:41:19.097Z"
   },
   {
    "duration": 21,
    "start_time": "2025-01-05T20:45:57.176Z"
   },
   {
    "duration": 20,
    "start_time": "2025-01-05T20:46:25.190Z"
   },
   {
    "duration": 21,
    "start_time": "2025-01-05T20:46:50.184Z"
   },
   {
    "duration": 21,
    "start_time": "2025-01-05T20:46:58.603Z"
   },
   {
    "duration": 14,
    "start_time": "2025-01-05T20:47:07.540Z"
   },
   {
    "duration": 15,
    "start_time": "2025-01-05T20:47:19.226Z"
   },
   {
    "duration": 21,
    "start_time": "2025-01-05T20:47:40.387Z"
   },
   {
    "duration": 21,
    "start_time": "2025-01-05T20:47:47.327Z"
   },
   {
    "duration": 21,
    "start_time": "2025-01-05T20:48:10.065Z"
   },
   {
    "duration": 19,
    "start_time": "2025-01-05T20:48:30.782Z"
   },
   {
    "duration": 18,
    "start_time": "2025-01-05T20:52:37.567Z"
   },
   {
    "duration": 18,
    "start_time": "2025-01-05T20:52:40.725Z"
   },
   {
    "duration": 19,
    "start_time": "2025-01-05T20:53:25.967Z"
   },
   {
    "duration": 20,
    "start_time": "2025-01-05T20:54:48.223Z"
   },
   {
    "duration": 13,
    "start_time": "2025-01-05T20:55:14.004Z"
   },
   {
    "duration": 20,
    "start_time": "2025-01-05T20:55:44.485Z"
   },
   {
    "duration": 13,
    "start_time": "2025-01-05T20:56:05.002Z"
   },
   {
    "duration": 18,
    "start_time": "2025-01-05T20:59:18.660Z"
   },
   {
    "duration": 49,
    "start_time": "2025-01-05T21:00:40.517Z"
   },
   {
    "duration": 18,
    "start_time": "2025-01-05T21:24:15.732Z"
   },
   {
    "duration": 21,
    "start_time": "2025-01-05T21:27:50.028Z"
   },
   {
    "duration": 499,
    "start_time": "2025-01-19T16:14:46.563Z"
   }
  ],
  "kernelspec": {
   "display_name": "Python 3 (ipykernel)",
   "language": "python",
   "name": "python3"
  },
  "language_info": {
   "codemirror_mode": {
    "name": "ipython",
    "version": 3
   },
   "file_extension": ".py",
   "mimetype": "text/x-python",
   "name": "python",
   "nbconvert_exporter": "python",
   "pygments_lexer": "ipython3",
   "version": "3.9.5"
  },
  "toc": {
   "base_numbering": 1,
   "nav_menu": {},
   "number_sections": true,
   "sideBar": true,
   "skip_h1_title": true,
   "title_cell": "Table of Contents",
   "title_sidebar": "Contents",
   "toc_cell": false,
   "toc_position": {},
   "toc_section_display": true,
   "toc_window_display": false
  }
 },
 "nbformat": 4,
 "nbformat_minor": 2
}
