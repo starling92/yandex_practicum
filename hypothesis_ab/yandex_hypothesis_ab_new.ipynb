{
 "cells": [
  {
   "cell_type": "markdown",
   "metadata": {},
   "source": [
    "# Проект: Принятие решений в бизнесе"
   ]
  },
  {
   "cell_type": "markdown",
   "metadata": {},
   "source": [
    "Я — аналитик крупного интернет-магазина. Вместе с отделом маркетинга мы подготовили список гипотез для увеличения выручки.\n",
    "Необходимо приоритизировать гипотезы, запустить A/B-тест и проанализировать результаты. "
   ]
  },
  {
   "cell_type": "markdown",
   "metadata": {},
   "source": [
    "###  Загрузка и подготовка данных к анализу"
   ]
  },
  {
   "cell_type": "code",
   "execution_count": 1,
   "metadata": {},
   "outputs": [],
   "source": [
    "# импорт библиотек\n",
    "import pandas as pd\n",
    "import numpy as np\n",
    "import seaborn as sns\n",
    "from matplotlib import pyplot as plt\n",
    "from datetime import datetime as dt\n",
    "import scipy.stats as stats\n",
    "pd.set_option('display.max_columns', 30)\n",
    "pd.set_option(\"display.float_format\", \"{:.3f}\".format)"
   ]
  },
  {
   "cell_type": "markdown",
   "metadata": {},
   "source": [
    "Описание данных\n",
    "\n",
    "Файл /datasets/hypothesis.csv. Скачать датасет\n",
    "- Hypothesis — краткое описание гипотезы;\n",
    "- Reach — охват пользователей по 10-балльной шкале;\n",
    "- Impact — влияние на пользователей по 10-балльной шкале;\n",
    "- Confidence — уверенность в гипотезе по 10-балльной шкале;\n",
    "- Efforts — затраты ресурсов на проверку гипотезы по 10-балльной шкале. Чем больше значение Efforts, тем дороже проверка гипотезы.\n",
    "\n",
    "Данные для второй части\n",
    "\n",
    "Файл /datasets/orders.csv\n",
    "- transactionId — идентификатор заказа;\n",
    "- visitorId — идентификатор пользователя, совершившего заказ;\n",
    "- date — дата, когда был совершён заказ;\n",
    "- revenue — выручка заказа;\n",
    "- group — группа A/B-теста, в которую попал заказ.\n",
    "\n",
    "Файл /datasets/visitors.csv\n",
    "- date — дата;\n",
    "- group — группа A/B-теста;\n",
    "- visitors — количество пользователей в указанную дату в указанной группе A/B-теста\n",
    "\n",
    "А\\В тест проводился в период 01.08.2019 - 01.09.2019"
   ]
  },
  {
   "cell_type": "code",
   "execution_count": 2,
   "metadata": {},
   "outputs": [],
   "source": [
    "# Загрузка данных\n",
    "hypothesis = pd.read_csv('/datasets/hypothesis.csv')\n",
    "orders = pd.read_csv('/datasets/orders.csv')\n",
    "visitors = pd.read_csv('/datasets/visitors.csv')"
   ]
  },
  {
   "cell_type": "code",
   "execution_count": 3,
   "metadata": {},
   "outputs": [
    {
     "data": {
      "text/html": [
       "<div>\n",
       "<style scoped>\n",
       "    .dataframe tbody tr th:only-of-type {\n",
       "        vertical-align: middle;\n",
       "    }\n",
       "\n",
       "    .dataframe tbody tr th {\n",
       "        vertical-align: top;\n",
       "    }\n",
       "\n",
       "    .dataframe thead th {\n",
       "        text-align: right;\n",
       "    }\n",
       "</style>\n",
       "<table border=\"1\" class=\"dataframe\">\n",
       "  <thead>\n",
       "    <tr style=\"text-align: right;\">\n",
       "      <th></th>\n",
       "      <th>Hypothesis</th>\n",
       "      <th>Reach</th>\n",
       "      <th>Impact</th>\n",
       "      <th>Confidence</th>\n",
       "      <th>Efforts</th>\n",
       "    </tr>\n",
       "  </thead>\n",
       "  <tbody>\n",
       "    <tr>\n",
       "      <th>0</th>\n",
       "      <td>Добавить два новых канала привлечения трафика,...</td>\n",
       "      <td>3</td>\n",
       "      <td>10</td>\n",
       "      <td>8</td>\n",
       "      <td>6</td>\n",
       "    </tr>\n",
       "    <tr>\n",
       "      <th>1</th>\n",
       "      <td>Запустить собственную службу доставки, что сок...</td>\n",
       "      <td>2</td>\n",
       "      <td>5</td>\n",
       "      <td>4</td>\n",
       "      <td>10</td>\n",
       "    </tr>\n",
       "    <tr>\n",
       "      <th>2</th>\n",
       "      <td>Добавить блоки рекомендаций товаров на сайт ин...</td>\n",
       "      <td>8</td>\n",
       "      <td>3</td>\n",
       "      <td>7</td>\n",
       "      <td>3</td>\n",
       "    </tr>\n",
       "    <tr>\n",
       "      <th>3</th>\n",
       "      <td>Изменить структура категорий, что увеличит кон...</td>\n",
       "      <td>8</td>\n",
       "      <td>3</td>\n",
       "      <td>3</td>\n",
       "      <td>8</td>\n",
       "    </tr>\n",
       "    <tr>\n",
       "      <th>4</th>\n",
       "      <td>Изменить цвет фона главной страницы, чтобы уве...</td>\n",
       "      <td>3</td>\n",
       "      <td>1</td>\n",
       "      <td>1</td>\n",
       "      <td>1</td>\n",
       "    </tr>\n",
       "    <tr>\n",
       "      <th>5</th>\n",
       "      <td>Добавить страницу отзывов клиентов о магазине,...</td>\n",
       "      <td>3</td>\n",
       "      <td>2</td>\n",
       "      <td>2</td>\n",
       "      <td>3</td>\n",
       "    </tr>\n",
       "    <tr>\n",
       "      <th>6</th>\n",
       "      <td>Показать на главной странице баннеры с актуаль...</td>\n",
       "      <td>5</td>\n",
       "      <td>3</td>\n",
       "      <td>8</td>\n",
       "      <td>3</td>\n",
       "    </tr>\n",
       "    <tr>\n",
       "      <th>7</th>\n",
       "      <td>Добавить форму подписки на все основные страни...</td>\n",
       "      <td>10</td>\n",
       "      <td>7</td>\n",
       "      <td>8</td>\n",
       "      <td>5</td>\n",
       "    </tr>\n",
       "    <tr>\n",
       "      <th>8</th>\n",
       "      <td>Запустить акцию, дающую скидку на товар в день...</td>\n",
       "      <td>1</td>\n",
       "      <td>9</td>\n",
       "      <td>9</td>\n",
       "      <td>5</td>\n",
       "    </tr>\n",
       "  </tbody>\n",
       "</table>\n",
       "</div>"
      ],
      "text/plain": [
       "                                          Hypothesis  Reach  Impact  \\\n",
       "0  Добавить два новых канала привлечения трафика,...      3      10   \n",
       "1  Запустить собственную службу доставки, что сок...      2       5   \n",
       "2  Добавить блоки рекомендаций товаров на сайт ин...      8       3   \n",
       "3  Изменить структура категорий, что увеличит кон...      8       3   \n",
       "4  Изменить цвет фона главной страницы, чтобы уве...      3       1   \n",
       "5  Добавить страницу отзывов клиентов о магазине,...      3       2   \n",
       "6  Показать на главной странице баннеры с актуаль...      5       3   \n",
       "7  Добавить форму подписки на все основные страни...     10       7   \n",
       "8  Запустить акцию, дающую скидку на товар в день...      1       9   \n",
       "\n",
       "   Confidence  Efforts  \n",
       "0           8        6  \n",
       "1           4       10  \n",
       "2           7        3  \n",
       "3           3        8  \n",
       "4           1        1  \n",
       "5           2        3  \n",
       "6           8        3  \n",
       "7           8        5  \n",
       "8           9        5  "
      ]
     },
     "execution_count": 3,
     "metadata": {},
     "output_type": "execute_result"
    }
   ],
   "source": [
    "hypothesis"
   ]
  },
  {
   "cell_type": "code",
   "execution_count": 4,
   "metadata": {},
   "outputs": [
    {
     "name": "stdout",
     "output_type": "stream",
     "text": [
      "0              Добавить два новых канала привлечения трафика, что позволит привлекать на 30% больше пользователей\n",
      "1                                       Запустить собственную службу доставки, что сократит срок доставки заказов\n",
      "2    Добавить блоки рекомендаций товаров на сайт интернет магазина, чтобы повысить конверсию и средний чек заказа\n",
      "3             Изменить структура категорий, что увеличит конверсию, т.к. пользователи быстрее найдут нужный товар\n",
      "4                                Изменить цвет фона главной страницы, чтобы увеличить вовлеченность пользователей\n",
      "5                        Добавить страницу отзывов клиентов о магазине, что позволит увеличить количество заказов\n",
      "6            Показать на главной странице баннеры с актуальными акциями и распродажами, чтобы увеличить конверсию\n",
      "7                Добавить форму подписки на все основные страницы, чтобы собрать базу клиентов для email-рассылок\n",
      "8                                                         Запустить акцию, дающую скидку на товар в день рождения\n",
      "Name: Hypothesis, dtype: object\n"
     ]
    }
   ],
   "source": [
    "with pd.option_context('display.max_colwidth', 200,):\n",
    "    print(hypothesis['Hypothesis'])"
   ]
  },
  {
   "cell_type": "code",
   "execution_count": 5,
   "metadata": {},
   "outputs": [
    {
     "data": {
      "text/html": [
       "<div>\n",
       "<style scoped>\n",
       "    .dataframe tbody tr th:only-of-type {\n",
       "        vertical-align: middle;\n",
       "    }\n",
       "\n",
       "    .dataframe tbody tr th {\n",
       "        vertical-align: top;\n",
       "    }\n",
       "\n",
       "    .dataframe thead th {\n",
       "        text-align: right;\n",
       "    }\n",
       "</style>\n",
       "<table border=\"1\" class=\"dataframe\">\n",
       "  <thead>\n",
       "    <tr style=\"text-align: right;\">\n",
       "      <th></th>\n",
       "      <th>transactionId</th>\n",
       "      <th>visitorId</th>\n",
       "      <th>date</th>\n",
       "      <th>revenue</th>\n",
       "      <th>group</th>\n",
       "    </tr>\n",
       "  </thead>\n",
       "  <tbody>\n",
       "    <tr>\n",
       "      <th>0</th>\n",
       "      <td>3667963787</td>\n",
       "      <td>3312258926</td>\n",
       "      <td>2019-08-15</td>\n",
       "      <td>1650</td>\n",
       "      <td>B</td>\n",
       "    </tr>\n",
       "    <tr>\n",
       "      <th>1</th>\n",
       "      <td>2804400009</td>\n",
       "      <td>3642806036</td>\n",
       "      <td>2019-08-15</td>\n",
       "      <td>730</td>\n",
       "      <td>B</td>\n",
       "    </tr>\n",
       "    <tr>\n",
       "      <th>2</th>\n",
       "      <td>2961555356</td>\n",
       "      <td>4069496402</td>\n",
       "      <td>2019-08-15</td>\n",
       "      <td>400</td>\n",
       "      <td>A</td>\n",
       "    </tr>\n",
       "    <tr>\n",
       "      <th>3</th>\n",
       "      <td>3797467345</td>\n",
       "      <td>1196621759</td>\n",
       "      <td>2019-08-15</td>\n",
       "      <td>9759</td>\n",
       "      <td>B</td>\n",
       "    </tr>\n",
       "    <tr>\n",
       "      <th>4</th>\n",
       "      <td>2282983706</td>\n",
       "      <td>2322279887</td>\n",
       "      <td>2019-08-15</td>\n",
       "      <td>2308</td>\n",
       "      <td>B</td>\n",
       "    </tr>\n",
       "  </tbody>\n",
       "</table>\n",
       "</div>"
      ],
      "text/plain": [
       "   transactionId   visitorId        date  revenue group\n",
       "0     3667963787  3312258926  2019-08-15     1650     B\n",
       "1     2804400009  3642806036  2019-08-15      730     B\n",
       "2     2961555356  4069496402  2019-08-15      400     A\n",
       "3     3797467345  1196621759  2019-08-15     9759     B\n",
       "4     2282983706  2322279887  2019-08-15     2308     B"
      ]
     },
     "execution_count": 5,
     "metadata": {},
     "output_type": "execute_result"
    }
   ],
   "source": [
    "orders.head(5)"
   ]
  },
  {
   "cell_type": "code",
   "execution_count": 6,
   "metadata": {},
   "outputs": [
    {
     "data": {
      "text/html": [
       "<div>\n",
       "<style scoped>\n",
       "    .dataframe tbody tr th:only-of-type {\n",
       "        vertical-align: middle;\n",
       "    }\n",
       "\n",
       "    .dataframe tbody tr th {\n",
       "        vertical-align: top;\n",
       "    }\n",
       "\n",
       "    .dataframe thead th {\n",
       "        text-align: right;\n",
       "    }\n",
       "</style>\n",
       "<table border=\"1\" class=\"dataframe\">\n",
       "  <thead>\n",
       "    <tr style=\"text-align: right;\">\n",
       "      <th></th>\n",
       "      <th>date</th>\n",
       "      <th>group</th>\n",
       "      <th>visitors</th>\n",
       "    </tr>\n",
       "  </thead>\n",
       "  <tbody>\n",
       "    <tr>\n",
       "      <th>0</th>\n",
       "      <td>2019-08-01</td>\n",
       "      <td>A</td>\n",
       "      <td>719</td>\n",
       "    </tr>\n",
       "    <tr>\n",
       "      <th>1</th>\n",
       "      <td>2019-08-02</td>\n",
       "      <td>A</td>\n",
       "      <td>619</td>\n",
       "    </tr>\n",
       "    <tr>\n",
       "      <th>2</th>\n",
       "      <td>2019-08-03</td>\n",
       "      <td>A</td>\n",
       "      <td>507</td>\n",
       "    </tr>\n",
       "    <tr>\n",
       "      <th>3</th>\n",
       "      <td>2019-08-04</td>\n",
       "      <td>A</td>\n",
       "      <td>717</td>\n",
       "    </tr>\n",
       "    <tr>\n",
       "      <th>4</th>\n",
       "      <td>2019-08-05</td>\n",
       "      <td>A</td>\n",
       "      <td>756</td>\n",
       "    </tr>\n",
       "  </tbody>\n",
       "</table>\n",
       "</div>"
      ],
      "text/plain": [
       "         date group  visitors\n",
       "0  2019-08-01     A       719\n",
       "1  2019-08-02     A       619\n",
       "2  2019-08-03     A       507\n",
       "3  2019-08-04     A       717\n",
       "4  2019-08-05     A       756"
      ]
     },
     "execution_count": 6,
     "metadata": {},
     "output_type": "execute_result"
    }
   ],
   "source": [
    "visitors.head(5)"
   ]
  },
  {
   "cell_type": "code",
   "execution_count": 7,
   "metadata": {},
   "outputs": [
    {
     "name": "stdout",
     "output_type": "stream",
     "text": [
      "Hypothesis    0\n",
      "Reach         0\n",
      "Impact        0\n",
      "Confidence    0\n",
      "Efforts       0\n",
      "dtype: int64\n",
      "\n",
      "Hypothesis    object\n",
      "Reach          int64\n",
      "Impact         int64\n",
      "Confidence     int64\n",
      "Efforts        int64\n",
      "dtype: object\n",
      "\n",
      "\n",
      "transactionId    0\n",
      "visitorId        0\n",
      "date             0\n",
      "revenue          0\n",
      "group            0\n",
      "dtype: int64\n",
      "\n",
      "transactionId     int64\n",
      "visitorId         int64\n",
      "date             object\n",
      "revenue           int64\n",
      "group            object\n",
      "dtype: object\n",
      "\n",
      "\n",
      "date        0\n",
      "group       0\n",
      "visitors    0\n",
      "dtype: int64\n",
      "\n",
      "date        object\n",
      "group       object\n",
      "visitors     int64\n",
      "dtype: object\n"
     ]
    }
   ],
   "source": [
    "# Проверка пропусков и типов данных\n",
    "print(hypothesis.isnull().sum())\n",
    "print()\n",
    "print(hypothesis.dtypes)\n",
    "print(\"\\n\")\n",
    "print(orders.isnull().sum())\n",
    "print()\n",
    "print(orders.dtypes)\n",
    "print(\"\\n\")\n",
    "print(visitors.isnull().sum())\n",
    "print()\n",
    "print(visitors.dtypes)"
   ]
  },
  {
   "cell_type": "code",
   "execution_count": 8,
   "metadata": {},
   "outputs": [
    {
     "name": "stdout",
     "output_type": "stream",
     "text": [
      "0\n",
      "0\n",
      "0\n"
     ]
    }
   ],
   "source": [
    "# Проверка дубликатов\n",
    "print(hypothesis.duplicated().sum())\n",
    "print(orders.duplicated().sum())\n",
    "print(visitors.duplicated().sum())"
   ]
  },
  {
   "cell_type": "markdown",
   "metadata": {},
   "source": [
    "Данные впорядке, пропусков и дубликатов нет, можно приступать к дальнейшей работе."
   ]
  },
  {
   "cell_type": "markdown",
   "metadata": {},
   "source": [
    "# Этап 1: Приоритизация гипотез"
   ]
  },
  {
   "cell_type": "code",
   "execution_count": 9,
   "metadata": {},
   "outputs": [
    {
     "name": "stdout",
     "output_type": "stream",
     "text": [
      "                                          Hypothesis    ICE\n",
      "8  Запустить акцию, дающую скидку на товар в день... 16.200\n",
      "0  Добавить два новых канала привлечения трафика,... 13.333\n",
      "7  Добавить форму подписки на все основные страни... 11.200\n",
      "6  Показать на главной странице баннеры с актуаль...  8.000\n",
      "2  Добавить блоки рекомендаций товаров на сайт ин...  7.000\n",
      "1  Запустить собственную службу доставки, что сок...  2.000\n",
      "5  Добавить страницу отзывов клиентов о магазине,...  1.333\n",
      "3  Изменить структура категорий, что увеличит кон...  1.125\n",
      "4  Изменить цвет фона главной страницы, чтобы уве...  1.000\n"
     ]
    }
   ],
   "source": [
    "# Приоритизация с помощью фреймворка ICE\n",
    "hypothesis['ICE'] = hypothesis['Impact'] * hypothesis['Confidence']/hypothesis['Efforts']\n",
    "\n",
    "print(hypothesis[[ 'Hypothesis', 'ICE']].sort_values(by='ICE', ascending=False))"
   ]
  },
  {
   "cell_type": "markdown",
   "metadata": {},
   "source": [
    "Вывод: Наиболее перспективные гипотезы по ICE: 8, 0, 7. "
   ]
  },
  {
   "cell_type": "code",
   "execution_count": 10,
   "metadata": {},
   "outputs": [
    {
     "name": "stdout",
     "output_type": "stream",
     "text": [
      "                                          Hypothesis    RICE\n",
      "7  Добавить форму подписки на все основные страни... 112.000\n",
      "2  Добавить блоки рекомендаций товаров на сайт ин...  56.000\n",
      "0  Добавить два новых канала привлечения трафика,...  40.000\n",
      "6  Показать на главной странице баннеры с актуаль...  40.000\n",
      "8  Запустить акцию, дающую скидку на товар в день...  16.200\n",
      "3  Изменить структура категорий, что увеличит кон...   9.000\n",
      "1  Запустить собственную службу доставки, что сок...   4.000\n",
      "5  Добавить страницу отзывов клиентов о магазине,...   4.000\n",
      "4  Изменить цвет фона главной страницы, чтобы уве...   3.000\n"
     ]
    }
   ],
   "source": [
    "# Приоритизация с помощью фреймворка RICE\n",
    "hypothesis['RICE'] = hypothesis['Reach'] * hypothesis['Impact'] * hypothesis['Confidence'] / hypothesis['Efforts']\n",
    "\n",
    "print(hypothesis[[ 'Hypothesis', 'RICE']].sort_values(by='RICE', ascending=False))"
   ]
  },
  {
   "cell_type": "markdown",
   "metadata": {},
   "source": [
    "Вывод: Наиболее перспективные гипотезы по RICE: 7, 2, 0, 6. "
   ]
  },
  {
   "cell_type": "markdown",
   "metadata": {},
   "source": [
    "Перспективные гипотизы 7, 0 сопадают при приоритизации по обоим методом. Когда мы применяем методику RICE, на первый план выходит форма для сбора базы ( гипотиза 7) так как она затронет большее количество людей."
   ]
  },
  {
   "cell_type": "markdown",
   "metadata": {},
   "source": [
    "Фреймворк ICE (Impact, Confidence, Effort) позволяет оценить гипотезы, учитывая их потенциальное влияние, уверенность в успехе и затраты ресурсов.\n",
    "\n",
    "Фреймворк RICE (Reach, Impact, Confidence, Effort) добавляет к сравнению охват (Reach), что позволяет учитывать масштаб потенциального влияния гипотезы. \n",
    "\n",
    "При использовании фреймворка RICE приоритет гипотез изменился главным образом за счет учета охвата. Гипотезы, которые оказывают влияние на более широкую аудиторию, поднялись в списке приоритета выше. Например, предложение \"Добавить форму подписки\", которое охватывает большую часть пользователей, взлетело на первое место. В то время как гипотеза \"Запустить акцию на день рождения\", хоть и сохраняет высокие баллы по остальным параметрам, оказалась ниже из-за малого охвата. Это демонстрирует важность охвата в оценке влияния гипотез на весь бизнес."
   ]
  },
  {
   "cell_type": "markdown",
   "metadata": {},
   "source": [
    "# Этап 2: Анализ A/B-теста"
   ]
  },
  {
   "cell_type": "markdown",
   "metadata": {},
   "source": [
    "## Стабильность кумулятивных метрик"
   ]
  },
  {
   "cell_type": "code",
   "execution_count": 11,
   "metadata": {},
   "outputs": [
    {
     "name": "stdout",
     "output_type": "stream",
     "text": [
      "   transactionId   visitorId       date  revenue group\n",
      "0     3667963787  3312258926 2019-08-15     1650     B\n",
      "1     2804400009  3642806036 2019-08-15      730     B\n",
      "2     2961555356  4069496402 2019-08-15      400     A\n",
      "3     3797467345  1196621759 2019-08-15     9759     B\n",
      "4     2282983706  2322279887 2019-08-15     2308     B\n",
      "        date group  visitors\n",
      "0 2019-08-01     A       719\n",
      "1 2019-08-02     A       619\n",
      "2 2019-08-03     A       507\n",
      "3 2019-08-04     A       717\n",
      "4 2019-08-05     A       756\n"
     ]
    }
   ],
   "source": [
    "orders['date'] = pd.to_datetime(orders['date'], format='%Y/%m/%d')\n",
    "visitors['date'] = pd.to_datetime(visitors['date'], format='%Y/%m/%d')\n",
    "                                  \n",
    "print(orders.head(5))\n",
    "print(visitors.head(5))"
   ]
  },
  {
   "cell_type": "code",
   "execution_count": 12,
   "metadata": {
    "scrolled": true
   },
   "outputs": [
    {
     "name": "stdout",
     "output_type": "stream",
     "text": [
      "        date group  orders  buyers  revenue  visitors\n",
      "0 2019-08-01     A      24      20   148579       719\n",
      "1 2019-08-01     B      21      20   101217       713\n",
      "2 2019-08-02     A      44      38   242401      1338\n",
      "3 2019-08-02     B      45      43   266748      1294\n",
      "4 2019-08-03     A      68      62   354874      1845\n"
     ]
    }
   ],
   "source": [
    "# Стабильность кумулятивных метрик, подготовка данных\n",
    "\n",
    "datesGroups = orders[['date','group']].drop_duplicates()\n",
    "\n",
    "ordersAggregated = datesGroups.apply(lambda x: orders[np.logical_and(orders['date'] <= x['date'], orders['group'] == x['group'])]\\\n",
    ".agg({'date' : 'max', 'group' : 'max', 'transactionId' : pd.Series.nunique, 'visitorId' : pd.Series.nunique, 'revenue' : 'sum'}), axis=1).sort_values(by=['date','group'])\n",
    "\n",
    "visitorsAggregated = datesGroups.apply(lambda x: visitors[np.logical_and(visitors['date'] <= x['date'], visitors['group'] == x['group'])].agg({'date' : 'max', 'group' : 'max', 'visitors' : 'sum'}), axis=1).sort_values(by=['date','group'])\n",
    "\n",
    "cumulativeData = ordersAggregated.merge(visitorsAggregated, left_on=['date', 'group'], right_on=['date', 'group'])\n",
    "cumulativeData.columns = ['date', 'group', 'orders', 'buyers', 'revenue', 'visitors']\n",
    "\n",
    "print(cumulativeData.head(5))\n",
    "\n",
    "cumulativeRevenueA = cumulativeData[cumulativeData['group'] == 'A'][\n",
    "    ['date', 'revenue', 'orders']\n",
    "]\n",
    "cumulativeRevenueB = cumulativeData[cumulativeData['group'] == 'B'][\n",
    "    ['date', 'revenue', 'orders']\n",
    "]"
   ]
  },
  {
   "cell_type": "code",
   "execution_count": 13,
   "metadata": {},
   "outputs": [
    {
     "data": {
      "text/plain": [
       "<matplotlib.legend.Legend at 0x7f20635024c0>"
      ]
     },
     "execution_count": 13,
     "metadata": {},
     "output_type": "execute_result"
    },
    {
     "data": {
      "image/png": "[encoded data removed]",
      "text/plain": [
       "<Figure size 1080x360 with 1 Axes>"
      ]
     },
     "metadata": {
      "needs_background": "light"
     },
     "output_type": "display_data"
    }
   ],
   "source": [
    "# графики кумулятивной выручки по дням по группам.\n",
    "plt.figure(figsize=(15, 5))\n",
    "plt.plot(cumulativeRevenueA['date'], cumulativeRevenueA['revenue'], label='A')\n",
    "plt.plot(cumulativeRevenueB['date'], cumulativeRevenueB['revenue'], label='B')\n",
    "\n",
    "plt.legend() "
   ]
  },
  {
   "cell_type": "markdown",
   "metadata": {},
   "source": [
    "В середине теста сегмент B еще больше вырвался вперёд и продолжал лидировать весь остаток теста. Возможно, что аномально большие заказы всё-таки влияют на результаты. При заключительном анализе их нужно удалить"
   ]
  },
  {
   "cell_type": "code",
   "execution_count": 14,
   "metadata": {},
   "outputs": [
    {
     "data": {
      "text/plain": [
       "<matplotlib.legend.Legend at 0x7f20634286a0>"
      ]
     },
     "execution_count": 14,
     "metadata": {},
     "output_type": "execute_result"
    },
    {
     "data": {
      "image/png": "[encoded data removed]",
      "text/plain": [
       "<Figure size 1080x360 with 1 Axes>"
      ]
     },
     "metadata": {
      "needs_background": "light"
     },
     "output_type": "display_data"
    }
   ],
   "source": [
    "# графики кумулятивного среднего чека по дням.\n",
    "plt.figure(figsize=(15, 5))\n",
    "plt.plot(cumulativeRevenueA['date'], cumulativeRevenueA['revenue']/cumulativeRevenueA['orders'], label='A')\n",
    "plt.plot(cumulativeRevenueB['date'], cumulativeRevenueB['revenue']/cumulativeRevenueB['orders'], label='B')\n",
    "plt.legend() \n"
   ]
  },
  {
   "cell_type": "markdown",
   "metadata": {},
   "source": [
    "По центральной предельной теореме значение кумулятивных метрик часто сходится и устанавливается около некоторого среднего. Сейчас данные колебаются, и есть резкие всплески, нужно исследовать дальше"
   ]
  },
  {
   "cell_type": "code",
   "execution_count": 15,
   "metadata": {},
   "outputs": [
    {
     "data": {
      "text/plain": [
       "<matplotlib.lines.Line2D at 0x7f206348d940>"
      ]
     },
     "execution_count": 15,
     "metadata": {},
     "output_type": "execute_result"
    },
    {
     "data": {
      "image/png": "[encoded data removed]",
      "text/plain": [
       "<Figure size 1080x360 with 1 Axes>"
      ]
     },
     "metadata": {
      "needs_background": "light"
     },
     "output_type": "display_data"
    }
   ],
   "source": [
    "# График относительно различия кумулятивного среднего чека группы B к группе A. \n",
    "mergedCumulativeRevenue = cumulativeRevenueA.merge(cumulativeRevenueB, left_on='date', right_on='date', how='left', suffixes=['A', 'B'])\n",
    "\n",
    "# cтроим отношение средних чеков\n",
    "plt.figure(figsize=(15, 5))\n",
    "plt.plot(mergedCumulativeRevenue['date'], (mergedCumulativeRevenue['revenueB']/mergedCumulativeRevenue['ordersB'])/(mergedCumulativeRevenue['revenueA']/mergedCumulativeRevenue['ordersA'])-1)\n",
    "\n",
    "# добавляем ось X\n",
    "plt.axhline(y=0, color='black', linestyle='--') "
   ]
  },
  {
   "cell_type": "markdown",
   "metadata": {},
   "source": [
    "Значения выше 0 указывают, что средний чек в группе B выше, чем в группе A, и наоборот. Результаты теста значительно и резко менялись в несколько дат. Видимо, именно тогда были совершены аномальные заказы."
   ]
  },
  {
   "cell_type": "code",
   "execution_count": 16,
   "metadata": {},
   "outputs": [
    {
     "data": {
      "text/plain": [
       "<matplotlib.legend.Legend at 0x7f2063061910>"
      ]
     },
     "execution_count": 16,
     "metadata": {},
     "output_type": "execute_result"
    },
    {
     "data": {
      "image/png": "[encoded data removed]",
      "text/plain": [
       "<Figure size 1080x360 with 1 Axes>"
      ]
     },
     "metadata": {
      "needs_background": "light"
     },
     "output_type": "display_data"
    }
   ],
   "source": [
    "# График кумулятивного среднего количества заказов на посетителя по группам и по дням.\n",
    "\n",
    "cumulativeData['conversion'] = cumulativeData['orders']/cumulativeData['visitors']\n",
    "\n",
    "cumulativeDataA = cumulativeData[cumulativeData['group']=='A']\n",
    "\n",
    "cumulativeDataB = cumulativeData[cumulativeData['group']=='B']\n",
    "\n",
    "# строим графики\n",
    "plt.figure(figsize=(15, 5))\n",
    "plt.plot(cumulativeDataA['date'], cumulativeDataA['conversion'], label='A')\n",
    "plt.plot(cumulativeDataB['date'], cumulativeDataB['conversion'], label='B')\n",
    "plt.legend()\n"
   ]
  },
  {
   "cell_type": "markdown",
   "metadata": {},
   "source": [
    "Абсолютное значение колебания в начале и в конце теста: от 29% до 37%. К концу теста колебания остановились, и среднее количество заказов по группам установилось около своего среднего значения."
   ]
  },
  {
   "cell_type": "code",
   "execution_count": 17,
   "metadata": {},
   "outputs": [
    {
     "name": "stderr",
     "output_type": "stream",
     "text": [
      "/tmp/ipykernel_78/121062134.py:3: SettingWithCopyWarning: \n",
      "A value is trying to be set on a copy of a slice from a DataFrame.\n",
      "Try using .loc[row_indexer,col_indexer] = value instead\n",
      "\n",
      "See the caveats in the documentation: https://pandas.pydata.org/pandas-docs/stable/user_guide/indexing.html#returning-a-view-versus-a-copy\n",
      "  cumulativeDataA['date'] = pd.to_datetime(cumulativeDataA['date'])\n",
      "/tmp/ipykernel_78/121062134.py:4: SettingWithCopyWarning: \n",
      "A value is trying to be set on a copy of a slice from a DataFrame.\n",
      "Try using .loc[row_indexer,col_indexer] = value instead\n",
      "\n",
      "See the caveats in the documentation: https://pandas.pydata.org/pandas-docs/stable/user_guide/indexing.html#returning-a-view-versus-a-copy\n",
      "  cumulativeDataB['date'] = pd.to_datetime(cumulativeDataB['date'])\n"
     ]
    },
    {
     "data": {
      "image/png": "[encoded data removed]",
      "text/plain": [
       "<Figure size 1080x360 with 1 Axes>"
      ]
     },
     "metadata": {
      "needs_background": "light"
     },
     "output_type": "display_data"
    }
   ],
   "source": [
    "# График относительного изменения кумулятивного среднего количества заказов на посетителя группы B к группе A.\n",
    "\n",
    "cumulativeDataA['date'] = pd.to_datetime(cumulativeDataA['date'])\n",
    "cumulativeDataB['date'] = pd.to_datetime(cumulativeDataB['date'])\n",
    "\n",
    "mergedCumulativeConversions = cumulativeDataA[['date','conversion']].merge(cumulativeDataB[['date','conversion']], left_on='date', right_on='date', how='left', suffixes=['A', 'B']) \n",
    "\n",
    "mergedCumulativeConversions['date'] = pd.to_datetime(mergedCumulativeConversions['date'])\n",
    "\n",
    "plt.figure(figsize=(15, 5))\n",
    "plt.plot(mergedCumulativeConversions['date'], mergedCumulativeConversions['conversionB']/mergedCumulativeConversions['conversionA']-1, label=\"Относительный прирост кумулятивного среднего количества заказов на посетителя группы B относительно группы A\")\n",
    "\n",
    "\n",
    "start_date = dt.strptime('2019-08-01', '%Y-%m-%d')\n",
    "end_date = dt.strptime('2019-09-01', '%Y-%m-%d')\n",
    "plt.axhline(y=0, color='black', linestyle='--', label='Нулевой уровень')\n",
    "plt.axhline(y=0.2, color='grey', linestyle='--', label='10% прирост')\n",
    "plt.axis([start_date, end_date, -0.5, 0.5])\n",
    "plt.legend()\n",
    "plt.show()"
   ]
  },
  {
   "cell_type": "markdown",
   "metadata": {},
   "source": [
    "В начале группа A в среднем имела больше заказов на посетителя, чем группа B. Далее график резко поднимается, падает, и снова выростает, после чего линия стабилизируется, оставаясь выше уровня 0. Это говорит о том, что в конце исследуемого периода группа B сохранила превосходство в количестве заказов на посетителя."
   ]
  },
  {
   "cell_type": "markdown",
   "metadata": {},
   "source": [
    "## Анализ выбросов и всплесков: крайние значения данных"
   ]
  },
  {
   "cell_type": "code",
   "execution_count": 18,
   "metadata": {},
   "outputs": [
    {
     "name": "stdout",
     "output_type": "stream",
     "text": [
      "          userId  orders\n",
      "1023  4256040402      11\n",
      "591   2458001652      11\n",
      "569   2378935119       9\n",
      "487   2038680547       8\n",
      "44     199603092       5\n",
      "744   3062433592       5\n",
      "55     237748145       5\n",
      "917   3803269165       5\n",
      "299   1230306981       5\n",
      "897   3717692402       5\n",
      "393   1614305549       4\n",
      "114    457167155       4\n",
      "619   2587333274       4\n",
      "340   1404934699       3\n",
      "937   3908431265       3\n",
      "726   2988190573       3\n",
      "97     393266494       3\n",
      "491   2044997962       3\n",
      "677   2780786433       3\n",
      "932   3891541246       3\n"
     ]
    }
   ],
   "source": [
    "ordersByUsers = (\n",
    "    orders.groupby('visitorId', as_index=False)\n",
    "    .agg({'transactionId': 'nunique'})\n",
    ")\n",
    "\n",
    "ordersByUsers.columns = ['userId', 'orders']\n",
    "\n",
    "print(ordersByUsers.sort_values(by = 'orders', ascending = False).head(20))"
   ]
  },
  {
   "cell_type": "markdown",
   "metadata": {},
   "source": [
    "Есть пользователи, которые совершили 3 и больше заказов, пока не понятно сколько их, исследуем дальше."
   ]
  },
  {
   "cell_type": "code",
   "execution_count": 19,
   "metadata": {},
   "outputs": [
    {
     "data": {
      "text/plain": [
       "(array([937.,  64.,  17.,   3.,   6.,   0.,   0.,   1.,   1.,   2.]),\n",
       " array([ 1.,  2.,  3.,  4.,  5.,  6.,  7.,  8.,  9., 10., 11.]),\n",
       " <BarContainer object of 10 artists>)"
      ]
     },
     "execution_count": 19,
     "metadata": {},
     "output_type": "execute_result"
    },
    {
     "data": {
      "image/png": "[encoded data removed]",
      "text/plain": [
       "<Figure size 720x360 with 1 Axes>"
      ]
     },
     "metadata": {
      "needs_background": "light"
     },
     "output_type": "display_data"
    }
   ],
   "source": [
    "# Гистограмма распределения числа заказов по пользователям методом hist().\n",
    "\n",
    "plt.figure(figsize=(10, 5))\n",
    "plt.hist(ordersByUsers['orders'])"
   ]
  },
  {
   "cell_type": "markdown",
   "metadata": {},
   "source": [
    "На графике что в основном пользователи делают 1-2 заказа. Посмотрим подробнее сколько пользователей совершают больше"
   ]
  },
  {
   "cell_type": "code",
   "execution_count": 20,
   "metadata": {},
   "outputs": [
    {
     "data": {
      "text/plain": [
       "<matplotlib.collections.PathCollection at 0x7f2062e5c220>"
      ]
     },
     "execution_count": 20,
     "metadata": {},
     "output_type": "execute_result"
    },
    {
     "data": {
      "image/png": "[encoded data removed]",
      "text/plain": [
       "<Figure size 720x360 with 1 Axes>"
      ]
     },
     "metadata": {
      "needs_background": "light"
     },
     "output_type": "display_data"
    }
   ],
   "source": [
    "# Диаграмма\n",
    "\n",
    "plt.figure(figsize=(10, 5))\n",
    "x_values = pd.Series(range(0,len(ordersByUsers)))\n",
    "plt.scatter(x_values, ordersByUsers['orders']) \n"
   ]
  },
  {
   "cell_type": "markdown",
   "metadata": {},
   "source": [
    "Видим что больше 2-х закахов сделали не так много человек, и есть несколько заказов больше 8. Это может делать тест некоректным."
   ]
  },
  {
   "cell_type": "code",
   "execution_count": 21,
   "metadata": {},
   "outputs": [
    {
     "name": "stdout",
     "output_type": "stream",
     "text": [
      "[1. 2. 4.]\n"
     ]
    }
   ],
   "source": [
    "# Считайте 90-й, 95-й и 99-й выборочные перцентили количества заказов по пользователям\n",
    "print(np.percentile(ordersByUsers['orders'], [90, 95, 99]))"
   ]
  },
  {
   "cell_type": "markdown",
   "metadata": {},
   "source": [
    "Не более 5% пользователей совершали больше двух заказов. И не более 1% пользователей — больше четырех заказов."
   ]
  },
  {
   "cell_type": "code",
   "execution_count": 22,
   "metadata": {},
   "outputs": [
    {
     "data": {
      "text/plain": [
       "(array([1.195e+03, 1.000e+00, 0.000e+00, 0.000e+00, 0.000e+00, 0.000e+00,\n",
       "        0.000e+00, 0.000e+00, 0.000e+00, 1.000e+00]),\n",
       " array([5.000000e+01, 1.294950e+05, 2.589400e+05, 3.883850e+05,\n",
       "        5.178300e+05, 6.472750e+05, 7.767200e+05, 9.061650e+05,\n",
       "        1.035610e+06, 1.165055e+06, 1.294500e+06]),\n",
       " <BarContainer object of 10 artists>)"
      ]
     },
     "execution_count": 22,
     "metadata": {},
     "output_type": "execute_result"
    },
    {
     "data": {
      "image/png": "[encoded data removed]",
      "text/plain": [
       "<Figure size 720x360 with 1 Axes>"
      ]
     },
     "metadata": {
      "needs_background": "light"
     },
     "output_type": "display_data"
    }
   ],
   "source": [
    "# Подсчитаем количество заказов по пользователям и посмотрим на результат \n",
    "# Строим гистограмму распределения выручек ('revenue') с заказов по пользователям \n",
    "plt.figure(figsize=(10, 5))\n",
    "plt.hist(orders['revenue']) "
   ]
  },
  {
   "cell_type": "markdown",
   "metadata": {},
   "source": [
    "Сумма большинства заказов меньше 200 000 рублей. Однако по гистограмме ничего не сказать о более дорогих, как и распределении более дешёвых. "
   ]
  },
  {
   "cell_type": "code",
   "execution_count": 23,
   "metadata": {},
   "outputs": [
    {
     "data": {
      "text/plain": [
       "<matplotlib.collections.PathCollection at 0x7f206314e520>"
      ]
     },
     "execution_count": 23,
     "metadata": {},
     "output_type": "execute_result"
    },
    {
     "data": {
      "image/png": "[encoded data removed]",
      "text/plain": [
       "<Figure size 432x288 with 1 Axes>"
      ]
     },
     "metadata": {
      "needs_background": "light"
     },
     "output_type": "display_data"
    }
   ],
   "source": [
    "# Гистограмма распределения выручек ('revenue') с заказов по пользователям\n",
    "x_values = pd.Series(range(0, len(orders['revenue'])))\n",
    "plt.scatter(x_values, orders['revenue'])"
   ]
  },
  {
   "cell_type": "markdown",
   "metadata": {},
   "source": [
    "Есть два анамальных заказа 200 000 и 1300 000 "
   ]
  },
  {
   "cell_type": "code",
   "execution_count": 24,
   "metadata": {},
   "outputs": [
    {
     "data": {
      "text/plain": [
       "array([18168. , 28000. , 58233.2])"
      ]
     },
     "execution_count": 24,
     "metadata": {},
     "output_type": "execute_result"
    }
   ],
   "source": [
    "# Cчитаtv 90-й, 95-й и 99-й выборочные перцентили выручки с заказов по пользователям.\n",
    "np.percentile(orders['revenue'], [90, 95, 99])"
   ]
  },
  {
   "cell_type": "markdown",
   "metadata": {},
   "source": [
    "Не более, чем у 5% заказов чек дороже 28000 рублей. И не больше, чем у 1% заказов — дороже 58233 рублей"
   ]
  },
  {
   "cell_type": "markdown",
   "metadata": {},
   "source": [
    "Оценили результаты A/B-теста визуально и выяснили, что в данных, скорее всего, есть выбросы;\n",
    "Увидели выбросы и нашли границу для их определения.\n",
    "Посчитаем статистическую значимость различий в среднем числе заказов на пользователя и среднем чеке между группами по «сырым» данным — без удаления аномальных пользователей.\n",
    "\n",
    "Сформулируем гипотезы. Нулевая: различий в среднем количестве заказов между группами нет. Альтернативная: различия в среднем между группами есть."
   ]
  },
  {
   "cell_type": "code",
   "execution_count": 25,
   "metadata": {},
   "outputs": [
    {
     "name": "stdout",
     "output_type": "stream",
     "text": [
      "        date  ordersPerDateA  revenuePerDateA  ordersPerDateB  \\\n",
      "0 2019-08-01              24           148579              21   \n",
      "1 2019-08-02              20            93822              24   \n",
      "2 2019-08-03              24           112473              16   \n",
      "3 2019-08-04              16            70825              17   \n",
      "4 2019-08-05              25           124218              23   \n",
      "\n",
      "   revenuePerDateB  ordersCummulativeA  revenueCummulativeA  \\\n",
      "0           101217                  24               148579   \n",
      "1           165531                  44               242401   \n",
      "2           114248                  68               354874   \n",
      "3           108571                  84               425699   \n",
      "4            92428                 109               549917   \n",
      "\n",
      "   ordersCummulativeB  revenueCummulativeB  visitorsPerDateA  \\\n",
      "0                  21               101217               719   \n",
      "1                  45               266748               619   \n",
      "2                  61               380996               507   \n",
      "3                  78               489567               717   \n",
      "4                 101               581995               756   \n",
      "\n",
      "   visitorsPerDateB  visitorsCummulativeA  visitorsCummulativeB  \n",
      "0               713                   719                   713  \n",
      "1               581                  1338                  1294  \n",
      "2               509                  1845                  1803  \n",
      "3               770                  2562                  2573  \n",
      "4               707                  3318                  3280  \n"
     ]
    }
   ],
   "source": [
    "visitorsADaily = visitors[visitors['group'] == 'A'][['date', 'visitors']]\n",
    "visitorsADaily.columns = ['date', 'visitorsPerDateA']\n",
    "\n",
    "visitorsACummulative = visitorsADaily.apply(\n",
    "    lambda x: visitorsADaily[visitorsADaily['date'] <= x['date']].agg(\n",
    "        {'date': 'max', 'visitorsPerDateA': 'sum'}\n",
    "    ),\n",
    "    axis=1,\n",
    ")\n",
    "visitorsACummulative.columns = ['date', 'visitorsCummulativeA']\n",
    "\n",
    "visitorsBDaily = visitors[visitors['group'] == 'B'][['date', 'visitors']]\n",
    "visitorsBDaily.columns = ['date', 'visitorsPerDateB']\n",
    "\n",
    "visitorsBCummulative = visitorsBDaily.apply(\n",
    "    lambda x: visitorsBDaily[visitorsBDaily['date'] <= x['date']].agg(\n",
    "        {'date': 'max', 'visitorsPerDateB': 'sum'}\n",
    "    ),\n",
    "    axis=1,\n",
    ")\n",
    "visitorsBCummulative.columns = ['date', 'visitorsCummulativeB']\n",
    "\n",
    "ordersADaily = (\n",
    "    orders[orders['group'] == 'A'][['date', 'transactionId', 'visitorId', 'revenue']]\n",
    "    .groupby('date', as_index=False)\n",
    "    .agg({'transactionId': pd.Series.nunique, 'revenue': 'sum'})\n",
    ")\n",
    "ordersADaily.columns = ['date', 'ordersPerDateA', 'revenuePerDateA']\n",
    "\n",
    "ordersACummulative = ordersADaily.apply(\n",
    "    lambda x: ordersADaily[ordersADaily['date'] <= x['date']].agg(\n",
    "        {'date': 'max', 'ordersPerDateA': 'sum', 'revenuePerDateA': 'sum'}\n",
    "    ),\n",
    "    axis=1,\n",
    ").sort_values(by=['date'])\n",
    "ordersACummulative.columns = [\n",
    "    'date',\n",
    "    'ordersCummulativeA',\n",
    "    'revenueCummulativeA',\n",
    "]\n",
    "\n",
    "ordersBDaily = (\n",
    "    orders[orders['group'] == 'B'][['date', 'transactionId', 'visitorId', 'revenue']]\n",
    "    .groupby('date', as_index=False)\n",
    "    .agg({'transactionId': pd.Series.nunique, 'revenue': 'sum'})\n",
    ")\n",
    "ordersBDaily.columns = ['date', 'ordersPerDateB', 'revenuePerDateB']\n",
    "\n",
    "ordersBCummulative = ordersBDaily.apply(\n",
    "    lambda x: ordersBDaily[ordersBDaily['date'] <= x['date']].agg(\n",
    "        {'date': 'max', 'ordersPerDateB': 'sum', 'revenuePerDateB': 'sum'}\n",
    "    ),\n",
    "    axis=1,\n",
    ").sort_values(by=['date'])\n",
    "ordersBCummulative.columns = [\n",
    "    'date',\n",
    "    'ordersCummulativeB',\n",
    "    'revenueCummulativeB',\n",
    "]\n",
    "\n",
    "data = (\n",
    "    ordersADaily.merge(\n",
    "        ordersBDaily, left_on='date', right_on='date', how='left'\n",
    "    )\n",
    "    .merge(ordersACummulative, left_on='date', right_on='date', how='left')\n",
    "    .merge(ordersBCummulative, left_on='date', right_on='date', how='left')\n",
    "    .merge(visitorsADaily, left_on='date', right_on='date', how='left')\n",
    "    .merge(visitorsBDaily, left_on='date', right_on='date', how='left')\n",
    "    .merge(visitorsACummulative, left_on='date', right_on='date', how='left')\n",
    "    .merge(visitorsBCummulative, left_on='date', right_on='date', how='left')\n",
    ")\n",
    "\n",
    "print(data.head(5))"
   ]
  },
  {
   "cell_type": "code",
   "execution_count": 26,
   "metadata": {},
   "outputs": [
    {
     "name": "stdout",
     "output_type": "stream",
     "text": [
      "p-значения:0.017\n",
      "Относительное изменение средних значений между группой B и А: 0.138\n"
     ]
    }
   ],
   "source": [
    "# Cчитаем статистическую значимость различия в среднем количестве заказов между группами.\n",
    "\n",
    "ordersByUsersA = (\n",
    "    orders[orders['group'] == 'A']\n",
    "    .groupby('visitorId', as_index=False)\n",
    "    .agg({'transactionId': pd.Series.nunique})\n",
    ")\n",
    "ordersByUsersA.columns = ['userId', 'orders']\n",
    "\n",
    "ordersByUsersB = (\n",
    "    orders[orders['group'] == 'B']\n",
    "    .groupby('visitorId', as_index=False)\n",
    "    .agg({'transactionId': pd.Series.nunique})\n",
    ")\n",
    "ordersByUsersB.columns = ['userId', 'orders'] \n",
    "     \n",
    "sampleA = pd.concat([ordersByUsersA['orders'],pd.Series(0, index=np.arange(data['visitorsPerDateA'].sum() - len(ordersByUsersA['orders'])), name='orders')],axis=0)\n",
    "\n",
    "sampleB = pd.concat([ordersByUsersB['orders'],pd.Series(0, index=np.arange(data['visitorsPerDateB'].sum() - len(ordersByUsersB['orders'])), name='orders')],axis=0)\n",
    "\n",
    "ordersByUsersA = (\n",
    "    orders[orders['group'] == 'A']\n",
    "    .groupby('visitorId', as_index=False)\n",
    "    .agg({'transactionId': pd.Series.nunique})\n",
    ")\n",
    "ordersByUsersA.columns = ['userId', 'orders']\n",
    "\n",
    "ordersByUsersB = (\n",
    "    orders[orders['group'] == 'B']\n",
    "    .groupby('visitorId', as_index=False)\n",
    "    .agg({'transactionId': pd.Series.nunique})\n",
    ")\n",
    "ordersByUsersB.columns = ['userId', 'orders']\n",
    "\n",
    "sampleA = pd.concat(\n",
    "    [\n",
    "        ordersByUsersA['orders'],\n",
    "        pd.Series(\n",
    "            0,\n",
    "            index=np.arange(\n",
    "                data['visitorsPerDateA'].sum() - len(ordersByUsersA['orders'])\n",
    "            ),\n",
    "            name='orders',\n",
    "        ),\n",
    "    ],\n",
    "    axis=0,\n",
    ")\n",
    "\n",
    "sampleB = pd.concat(\n",
    "    [\n",
    "        ordersByUsersB['orders'],\n",
    "        pd.Series(\n",
    "            0,\n",
    "            index=np.arange(\n",
    "                data['visitorsPerDateB'].sum() - len(ordersByUsersB['orders'])\n",
    "            ),\n",
    "            name='orders',\n",
    "        ),\n",
    "    ],\n",
    "    axis=0,\n",
    ")\n",
    "\n",
    "print(\"p-значения:{0:.3f}\".format(stats.mannwhitneyu(sampleA, sampleB)[1]))\n",
    "\n",
    "print(\"Относительное изменение средних значений между группой B и А: {0:.3f}\".format(sampleB.mean() / sampleA.mean() - 1))"
   ]
  },
  {
   "cell_type": "markdown",
   "metadata": {},
   "source": [
    "Согласно полученному p-значению, равному 0.017, которое меньше уровня значимости 0.05, мы можем отклонить нулевую гипотезу. Это свидетельствует о наличии статистически значимого различия в среднем количестве заказов между группами A и B.\n",
    "\n",
    "Средние число заказов группы B примерно на 13.8% больше, чем среднее значение группы A."
   ]
  },
  {
   "cell_type": "markdown",
   "metadata": {},
   "source": [
    "Проверим статистическую значимость различий в среднем чеке между сегментами. Нулевая гипотеза: различий в среднем чеке между группами нет. Альтернативная гипотеза: различия в среднем чеке между группами есть. "
   ]
  },
  {
   "cell_type": "code",
   "execution_count": 27,
   "metadata": {},
   "outputs": [
    {
     "name": "stdout",
     "output_type": "stream",
     "text": [
      "p-значения: 0.729\n",
      "Относительные различия в среднем чеке между группами:0.259\n"
     ]
    }
   ],
   "source": [
    "print('p-значения: {0:.3f}'.format(stats.mannwhitneyu(orders[orders['group']=='A']['revenue'], orders[orders['group']=='B']['revenue'])[1]))\n",
    "print('Относительные различия в среднем чеке между группами:{0:.3f}'.format(orders[orders['group']=='B']['revenue'].mean()/orders[orders['group']=='A']['revenue'].mean()-1))\n"
   ]
  },
  {
   "cell_type": "markdown",
   "metadata": {},
   "source": [
    "P-value больше 0.05. Значит, причин отвергать нулевую гипотезу и считать, что в среднем чеке есть различия, нет. \n",
    "\n",
    "Средний чек группы B примерно на 25,9% выше среднего чека группы A."
   ]
  },
  {
   "cell_type": "markdown",
   "metadata": {},
   "source": [
    "Примем за аномальных пользователей тех, кто совершил от 2 заказов или совершил заказ дороже 28 000 рублей. Так мы уберём 5% пользователей с наибольшим числом заказов и от 1% до 5% пользователей с дорогими заказами. \n",
    "\n",
    "Сделаем срезы пользователей с числом заказов больше 2 — usersWithManyOrders и пользователей, совершивших заказы дороже 28 000 — usersWithExpensiveOrders. Объединим их в таблице abnormalUsers.\n",
    "\n",
    "Узнаем, сколько всего аномальных пользователей"
   ]
  },
  {
   "cell_type": "code",
   "execution_count": 28,
   "metadata": {},
   "outputs": [
    {
     "name": "stdout",
     "output_type": "stream",
     "text": [
      "1099    148427295\n",
      "18      199603092\n",
      "928     204675465\n",
      "23      237748145\n",
      "37      249864742\n",
      "dtype: int64\n",
      "74\n"
     ]
    }
   ],
   "source": [
    "usersWithManyOrders = pd.concat(\n",
    "    [\n",
    "        ordersByUsersA[ordersByUsersA['orders'] > 2]['userId'],\n",
    "        ordersByUsersB[ordersByUsersB['orders'] > 2]['userId'],\n",
    "    ],\n",
    "    axis=0,\n",
    ")\n",
    "usersWithExpensiveOrders = orders[orders['revenue'] > 28000]['visitorId']\n",
    "abnormalUsers = (\n",
    "    pd.concat([usersWithManyOrders, usersWithExpensiveOrders], axis=0)\n",
    "    .drop_duplicates()\n",
    "    .sort_values()\n",
    ")\n",
    "print(abnormalUsers.head(5))\n",
    "print(abnormalUsers.shape[0]) "
   ]
  },
  {
   "cell_type": "code",
   "execution_count": 29,
   "metadata": {},
   "outputs": [
    {
     "name": "stdout",
     "output_type": "stream",
     "text": [
      "p-значения:0.013\n",
      "Относительное изменение среднего количества заказов между группой B и А: 0.173\n"
     ]
    }
   ],
   "source": [
    "sampleAFiltered = pd.concat(\n",
    "    [\n",
    "        ordersByUsersA[\n",
    "            np.logical_not(ordersByUsersA['userId'].isin(abnormalUsers))\n",
    "        ]['orders'],\n",
    "        pd.Series(\n",
    "            0,\n",
    "            index=np.arange(\n",
    "                data['visitorsPerDateA'].sum() - len(ordersByUsersA['orders'])\n",
    "            ),\n",
    "            name='orders',\n",
    "        ),\n",
    "    ],\n",
    "    axis=0,\n",
    ")\n",
    "\n",
    "sampleBFiltered = pd.concat(\n",
    "    [\n",
    "        ordersByUsersB[\n",
    "            np.logical_not(ordersByUsersB['userId'].isin(abnormalUsers))\n",
    "        ]['orders'],\n",
    "        pd.Series(\n",
    "            0,\n",
    "            index=np.arange(\n",
    "                data['visitorsPerDateB'].sum() - len(ordersByUsersB['orders'])\n",
    "            ),\n",
    "            name='orders',\n",
    "        ),\n",
    "    ],\n",
    "    axis=0,\n",
    ") \n",
    "\n",
    "print('p-значения:{0:.3f}'.format(stats.mannwhitneyu(sampleAFiltered, sampleBFiltered)[1]))\n",
    "print('Относительное изменение среднего количества заказов между группой B и А: {0:.3f}'.format(sampleBFiltered.mean()/sampleAFiltered.mean()-1)) "
   ]
  },
  {
   "cell_type": "markdown",
   "metadata": {},
   "source": [
    "P-value принял значение 0.013, что меньше порога значимости 0.05, нулевую гипотизу можно отвергнуть. \n",
    "Результаты по среднему количеству заказов стали меньше на 5% (с 0.173 на 0.138). \n",
    "\n",
    "С сырыми данными:    \n",
    "p-значения:0.017\n",
    "Относительное изменение средних значений между группой B и А: 0.138"
   ]
  },
  {
   "cell_type": "code",
   "execution_count": 30,
   "metadata": {},
   "outputs": [
    {
     "name": "stdout",
     "output_type": "stream",
     "text": [
      "p-значения: 0.738\n",
      "Относительные различия в среднем чеке между группами: -0.020\n"
     ]
    }
   ],
   "source": [
    "print(\n",
    "    'p-значения: {0:.3f}'.format(\n",
    "        stats.mannwhitneyu(\n",
    "            orders[\n",
    "                np.logical_and(\n",
    "                    orders['group'] == 'A',\n",
    "                    np.logical_not(orders['visitorId'].isin(abnormalUsers)),\n",
    "                )\n",
    "            ]['revenue'],\n",
    "            orders[\n",
    "                np.logical_and(\n",
    "                    orders['group'] == 'B',\n",
    "                    np.logical_not(orders['visitorId'].isin(abnormalUsers)),\n",
    "                )\n",
    "            ]['revenue'],\n",
    "        )[1]\n",
    "    )\n",
    ")\n",
    "\n",
    "print(\n",
    "    \"Относительные различия в среднем чеке между группами: {0:.3f}\".format(\n",
    "        orders[\n",
    "            np.logical_and(\n",
    "                orders['group'] == 'B',\n",
    "                np.logical_not(orders['visitorId'].isin(abnormalUsers)),\n",
    "            )\n",
    "        ]['revenue'].mean()\n",
    "        / orders[\n",
    "            np.logical_and(\n",
    "                orders['group'] == 'A',\n",
    "                np.logical_not(orders['visitorId'].isin(abnormalUsers)),\n",
    "            )\n",
    "        ]['revenue'].mean()\n",
    "        - 1\n",
    "    )\n",
    ") \n",
    "\n"
   ]
  },
  {
   "cell_type": "markdown",
   "metadata": {},
   "source": [
    "P-value принял значение 0.738, превышающее порог значимости 0.05. Это свидетельствует о том, что у нас нет достаточных оснований для отклонения нулевой гипотезы относительно среднего чека. Так же стоит отметить, что по сранению с данными до удаление выброс.\n",
    "\n",
    "При этом относительные различия показывают, что средний чек группы B был бы на 25.9% выше среднего чека группы A, после очистки данных,средний чек группы B примерно на 2% ниже среднего чека группы A.\n",
    "\n",
    "Результаты ранее:\n",
    "p-значения: 0.729\n",
    "Относительные различия в среднем чеке между группами:0.259\n",
    "\n"
   ]
  },
  {
   "cell_type": "markdown",
   "metadata": {},
   "source": [
    "УДАЛИЛА БЫ, не тот вывод. Какие выводы по тесту можем сделать?\n",
    "Имеющиеся факты:\n",
    "- Есть статистически значимого различия по среднему количеству заказов между группами по «сырым», ни по данным после фильтрации аномалий;\n",
    "- Нет статистически значимого различия по среднему чеку между группами ни по «сырым», ни по данным после фильтрации аномалий;\n",
    "- График различия среднего количества заказов между группами сообщает, что результаты группы B хуже группы A и нет значительной тенденции к улучшению:"
   ]
  },
  {
   "cell_type": "markdown",
   "metadata": {},
   "source": [
    "На основании предоставленных данных можно сделать следующий вывод о целесообразности продолжения A/B-теста с целью увеличения выручки:\n",
    "\n",
    "Результаты A/B-теста\\\n",
    "- Среднее количество заказов:\n",
    "Статистическая значимость: p-значение 0.017 (< 0.05) указывает на наличие статистически значимого различия между группами A и B.\n",
    "Изменение: В группе B среднее количество заказов на пользователя увеличилось на 13.8% (после обработки данных - на 17.3%), что является положительным знаком для бизнеса.\n",
    "- Средний чек:\n",
    "Статистическая значимость: p-значение 0.729 и 0.738 (до и после очистки данных соответственно) говорит о том, что различия в среднем чеке не являются статистически значимыми.\n",
    "Изменение: Средний чек группы B оказался на 20% ниже, чем в группе A, что может негативно сказаться на общей выручке, даже несмотря на рост количества заказов.\n",
    "\n",
    "Вывод\n",
    "\n",
    "\n",
    "Необходимо продолжить тест, так как:\n",
    "\n",
    "- Рост среднего количества заказов: Значительное увеличение среднего количества заказов на пользователя в группе B на 13.8% (и до 17.3% после удаления аномалий) может компенсировать падение среднего чека, особенно если это увеличение устойчиво и не временно. Это означает, что изменения, внедренные в группу B, способны привлечь больше покупателей или мотивировать их к совершению дополнительных покупок.\n",
    "- Гибкость стратегии: Существующее снижение среднего чека можно рассматривать как возможность для дальнейших исследований. Например, дополнительные тесты и анализ можно провести для выяснения причин, по которым средний чек низок. Это может потребовать новых подходов к ценообразованию, акций и скидок или улучшения асортимента товаров.\n",
    "\n",
    "P.s. Я бы параллельно с количеством заказов и средним чеком, проанализировала другие параметры, такие как конверсия сайта, стоимость привлечения клиента и удержание клиентов. Это бы дало более полную картину."
   ]
  },
  {
   "cell_type": "markdown",
   "metadata": {},
   "source": [
    "На основании предоставленных данных можно сделать следующий вывод о целесообразности продолжения A/B-теста с целью увеличения выручки:\n",
    "\n",
    "Результаты A/B-теста\\\n",
    "- Среднее количество заказов:\n",
    "Статистическая значимость: p-значение 0.017 (< 0.05) указывает на наличие статистически значимого различия между группами A и B.\n",
    "Изменение: В группе B среднее количество заказов на пользователя увеличилось на 13.8% (после обработки данных - на 17.3%), что является положительным знаком для бизнеса.\n",
    "- Средний чек:\n",
    "Статистическая значимость: p-значение 0.729 и 0.738 (до и после очистки данных соответственно) говорит о том, что различия в среднем чеке не являются статистически значимыми.\n",
    "Изменение: Относительное изменение среднего чека между группами стало отрицательным, но незначительным (-2%), что также не позволяет сделать вывод о различиях.\n",
    "\n",
    "Результаты теста показывают, что группа B демонстрирует статистически значимое увеличение среднего количества заказов по сравнению с группой A, и этот эффект усиливается после удаления аномалий. Однако, различий в среднем чеке между группами не выявлено, что указывает на отсутствие значимого влияния изменений на средний чек.\n",
    "\n",
    "Таким образом, тест можно считать успешным по критерию количества заказов — группа B показывает положительный эффект, и это обоснованно завершить тест и признать успешным.\n"
   ]
  }
 ],
 "metadata": {
  "ExecuteTimeLog": [
   {
    "duration": 1307,
    "start_time": "2024-10-31T08:14:09.597Z"
   },
   {
    "duration": 3,
    "start_time": "2024-10-31T08:18:04.365Z"
   },
   {
    "duration": 202,
    "start_time": "2024-10-31T08:18:06.774Z"
   },
   {
    "duration": 11,
    "start_time": "2024-10-31T08:18:08.946Z"
   },
   {
    "duration": 8,
    "start_time": "2024-10-31T08:18:13.106Z"
   },
   {
    "duration": 7,
    "start_time": "2024-10-31T08:18:16.138Z"
   },
   {
    "duration": 12,
    "start_time": "2024-10-31T08:19:20.111Z"
   },
   {
    "duration": 7,
    "start_time": "2024-10-31T08:20:55.017Z"
   },
   {
    "duration": 74,
    "start_time": "2024-10-31T08:21:49.100Z"
   },
   {
    "duration": 3,
    "start_time": "2024-10-31T08:39:47.934Z"
   },
   {
    "duration": 2,
    "start_time": "2024-10-31T08:39:49.351Z"
   },
   {
    "duration": 1119,
    "start_time": "2024-10-31T08:40:21.973Z"
   },
   {
    "duration": 797,
    "start_time": "2024-10-31T08:40:32.953Z"
   },
   {
    "duration": 807,
    "start_time": "2024-10-31T08:43:01.763Z"
   },
   {
    "duration": 9,
    "start_time": "2024-10-31T08:43:21.835Z"
   },
   {
    "duration": 9,
    "start_time": "2024-10-31T08:44:20.395Z"
   },
   {
    "duration": 8,
    "start_time": "2024-10-31T08:44:32.515Z"
   },
   {
    "duration": 8,
    "start_time": "2024-10-31T08:44:38.465Z"
   },
   {
    "duration": 7,
    "start_time": "2024-10-31T08:44:40.718Z"
   },
   {
    "duration": 7,
    "start_time": "2024-10-31T08:44:48.862Z"
   },
   {
    "duration": 10,
    "start_time": "2024-10-31T08:46:10.087Z"
   },
   {
    "duration": 8,
    "start_time": "2024-10-31T08:46:32.362Z"
   },
   {
    "duration": 3,
    "start_time": "2024-10-31T08:53:29.118Z"
   },
   {
    "duration": 1187,
    "start_time": "2024-10-31T08:53:34.319Z"
   },
   {
    "duration": 72,
    "start_time": "2024-10-31T08:53:35.508Z"
   },
   {
    "duration": 13,
    "start_time": "2024-10-31T08:53:35.582Z"
   },
   {
    "duration": 17,
    "start_time": "2024-10-31T08:53:35.596Z"
   },
   {
    "duration": 18,
    "start_time": "2024-10-31T08:53:35.616Z"
   },
   {
    "duration": 21,
    "start_time": "2024-10-31T08:53:35.635Z"
   },
   {
    "duration": 34,
    "start_time": "2024-10-31T08:53:35.658Z"
   },
   {
    "duration": 40,
    "start_time": "2024-10-31T08:53:35.693Z"
   },
   {
    "duration": 7,
    "start_time": "2024-10-31T08:53:35.735Z"
   },
   {
    "duration": 5,
    "start_time": "2024-10-31T08:53:53.472Z"
   },
   {
    "duration": 1181,
    "start_time": "2024-10-31T08:54:01.007Z"
   },
   {
    "duration": 70,
    "start_time": "2024-10-31T08:54:02.190Z"
   },
   {
    "duration": 11,
    "start_time": "2024-10-31T08:54:02.262Z"
   },
   {
    "duration": 22,
    "start_time": "2024-10-31T08:54:02.275Z"
   },
   {
    "duration": 69,
    "start_time": "2024-10-31T08:54:02.299Z"
   },
   {
    "duration": 36,
    "start_time": "2024-10-31T08:54:02.370Z"
   },
   {
    "duration": 8,
    "start_time": "2024-10-31T08:54:02.408Z"
   },
   {
    "duration": 49,
    "start_time": "2024-10-31T08:54:02.417Z"
   },
   {
    "duration": 27,
    "start_time": "2024-10-31T08:54:02.468Z"
   },
   {
    "duration": 52,
    "start_time": "2024-10-31T08:54:40.918Z"
   },
   {
    "duration": 4,
    "start_time": "2024-10-31T08:54:48.807Z"
   },
   {
    "duration": 1145,
    "start_time": "2024-10-31T08:54:53.492Z"
   },
   {
    "duration": 69,
    "start_time": "2024-10-31T08:54:54.639Z"
   },
   {
    "duration": 12,
    "start_time": "2024-10-31T08:54:54.710Z"
   },
   {
    "duration": 53,
    "start_time": "2024-10-31T08:54:54.724Z"
   },
   {
    "duration": 17,
    "start_time": "2024-10-31T08:54:54.780Z"
   },
   {
    "duration": 95,
    "start_time": "2024-10-31T08:54:54.798Z"
   },
   {
    "duration": 9,
    "start_time": "2024-10-31T08:54:54.894Z"
   },
   {
    "duration": 8,
    "start_time": "2024-10-31T08:54:54.904Z"
   },
   {
    "duration": 7,
    "start_time": "2024-10-31T08:54:54.913Z"
   },
   {
    "duration": 7,
    "start_time": "2024-10-31T08:56:38.817Z"
   },
   {
    "duration": 6,
    "start_time": "2024-10-31T08:56:59.791Z"
   },
   {
    "duration": 6,
    "start_time": "2024-10-31T08:57:22.520Z"
   },
   {
    "duration": 7,
    "start_time": "2024-10-31T08:57:46.858Z"
   },
   {
    "duration": 8,
    "start_time": "2024-10-31T08:57:55.140Z"
   },
   {
    "duration": 12,
    "start_time": "2024-10-31T08:58:08.730Z"
   },
   {
    "duration": 1171,
    "start_time": "2024-10-31T08:58:21.162Z"
   },
   {
    "duration": 69,
    "start_time": "2024-10-31T08:58:22.335Z"
   },
   {
    "duration": 15,
    "start_time": "2024-10-31T08:58:22.406Z"
   },
   {
    "duration": 23,
    "start_time": "2024-10-31T08:58:22.423Z"
   },
   {
    "duration": 13,
    "start_time": "2024-10-31T08:58:22.449Z"
   },
   {
    "duration": 11,
    "start_time": "2024-10-31T08:58:22.463Z"
   },
   {
    "duration": 8,
    "start_time": "2024-10-31T08:58:22.476Z"
   },
   {
    "duration": 8,
    "start_time": "2024-10-31T08:58:22.486Z"
   },
   {
    "duration": 7,
    "start_time": "2024-10-31T08:58:22.495Z"
   },
   {
    "duration": 4,
    "start_time": "2024-10-31T08:58:47.608Z"
   },
   {
    "duration": 4,
    "start_time": "2024-10-31T08:59:28.768Z"
   },
   {
    "duration": 4,
    "start_time": "2024-10-31T08:59:34.559Z"
   },
   {
    "duration": 4,
    "start_time": "2024-10-31T08:59:40.821Z"
   },
   {
    "duration": 5,
    "start_time": "2024-10-31T08:59:47.540Z"
   },
   {
    "duration": 4,
    "start_time": "2024-10-31T08:59:55.763Z"
   },
   {
    "duration": 5,
    "start_time": "2024-10-31T09:11:51.843Z"
   },
   {
    "duration": 361,
    "start_time": "2024-10-31T09:31:37.143Z"
   },
   {
    "duration": 3,
    "start_time": "2024-10-31T09:33:04.954Z"
   },
   {
    "duration": 1173,
    "start_time": "2024-10-31T09:33:08.475Z"
   },
   {
    "duration": 71,
    "start_time": "2024-10-31T09:33:09.649Z"
   },
   {
    "duration": 11,
    "start_time": "2024-10-31T09:33:09.721Z"
   },
   {
    "duration": 4,
    "start_time": "2024-10-31T09:33:09.733Z"
   },
   {
    "duration": 12,
    "start_time": "2024-10-31T09:33:09.739Z"
   },
   {
    "duration": 9,
    "start_time": "2024-10-31T09:33:09.752Z"
   },
   {
    "duration": 18,
    "start_time": "2024-10-31T09:33:09.763Z"
   },
   {
    "duration": 8,
    "start_time": "2024-10-31T09:33:09.782Z"
   },
   {
    "duration": 10,
    "start_time": "2024-10-31T09:33:09.791Z"
   },
   {
    "duration": 8,
    "start_time": "2024-10-31T09:33:09.802Z"
   },
   {
    "duration": 324,
    "start_time": "2024-10-31T09:33:09.812Z"
   },
   {
    "duration": 0,
    "start_time": "2024-10-31T09:33:10.138Z"
   },
   {
    "duration": 13,
    "start_time": "2024-10-31T09:33:50.594Z"
   },
   {
    "duration": 13,
    "start_time": "2024-10-31T09:34:00.898Z"
   },
   {
    "duration": 220,
    "start_time": "2024-10-31T09:34:30.251Z"
   },
   {
    "duration": 215,
    "start_time": "2024-10-31T09:35:01.491Z"
   },
   {
    "duration": 41,
    "start_time": "2024-10-31T09:37:51.763Z"
   },
   {
    "duration": 35,
    "start_time": "2024-10-31T09:38:48.959Z"
   },
   {
    "duration": 36,
    "start_time": "2024-10-31T09:39:09.709Z"
   },
   {
    "duration": 316,
    "start_time": "2024-10-31T09:42:36.916Z"
   },
   {
    "duration": 580,
    "start_time": "2024-10-31T09:44:44.978Z"
   },
   {
    "duration": 174,
    "start_time": "2024-10-31T09:47:12.537Z"
   },
   {
    "duration": 301,
    "start_time": "2024-10-31T09:47:15.806Z"
   },
   {
    "duration": 336,
    "start_time": "2024-10-31T09:48:52.107Z"
   },
   {
    "duration": 326,
    "start_time": "2024-10-31T09:48:59.485Z"
   },
   {
    "duration": 283,
    "start_time": "2024-10-31T09:57:43.594Z"
   },
   {
    "duration": 183,
    "start_time": "2024-10-31T09:57:56.482Z"
   },
   {
    "duration": 204,
    "start_time": "2024-10-31T09:58:08.235Z"
   },
   {
    "duration": 360,
    "start_time": "2024-10-31T10:37:19.403Z"
   },
   {
    "duration": 277,
    "start_time": "2024-10-31T10:37:36.322Z"
   },
   {
    "duration": 300,
    "start_time": "2024-10-31T10:40:19.281Z"
   },
   {
    "duration": 312,
    "start_time": "2024-10-31T10:41:15.350Z"
   },
   {
    "duration": 192,
    "start_time": "2024-10-31T10:41:18.741Z"
   },
   {
    "duration": 278,
    "start_time": "2024-10-31T10:41:39.722Z"
   },
   {
    "duration": 199,
    "start_time": "2024-10-31T10:44:41.462Z"
   },
   {
    "duration": 169,
    "start_time": "2024-10-31T10:46:39.581Z"
   },
   {
    "duration": 206,
    "start_time": "2024-10-31T10:47:32.407Z"
   },
   {
    "duration": 283,
    "start_time": "2024-10-31T10:48:46.878Z"
   },
   {
    "duration": 328,
    "start_time": "2024-10-31T10:48:58.040Z"
   },
   {
    "duration": 191,
    "start_time": "2024-10-31T10:54:23.629Z"
   },
   {
    "duration": 221,
    "start_time": "2024-10-31T10:54:51.175Z"
   },
   {
    "duration": 306,
    "start_time": "2024-10-31T10:55:18.337Z"
   },
   {
    "duration": 315,
    "start_time": "2024-10-31T11:00:59.900Z"
   },
   {
    "duration": 309,
    "start_time": "2024-10-31T11:01:31.708Z"
   },
   {
    "duration": 324,
    "start_time": "2024-10-31T11:04:05.187Z"
   },
   {
    "duration": 362,
    "start_time": "2024-10-31T11:04:32.445Z"
   },
   {
    "duration": 360,
    "start_time": "2024-10-31T11:05:43.851Z"
   },
   {
    "duration": 9,
    "start_time": "2024-10-31T11:20:25.929Z"
   },
   {
    "duration": 1004,
    "start_time": "2024-10-31T11:21:14.189Z"
   },
   {
    "duration": 126,
    "start_time": "2024-11-01T06:55:20.707Z"
   },
   {
    "duration": 59,
    "start_time": "2024-11-01T06:55:34.067Z"
   },
   {
    "duration": 51,
    "start_time": "2024-11-01T06:55:43.127Z"
   },
   {
    "duration": 8,
    "start_time": "2024-11-01T06:58:00.719Z"
   },
   {
    "duration": 1227,
    "start_time": "2024-11-01T06:59:39.409Z"
   },
   {
    "duration": 1042,
    "start_time": "2024-11-01T06:59:47.998Z"
   },
   {
    "duration": 218,
    "start_time": "2024-11-01T06:59:49.042Z"
   },
   {
    "duration": 10,
    "start_time": "2024-11-01T06:59:49.262Z"
   },
   {
    "duration": 9,
    "start_time": "2024-11-01T06:59:49.274Z"
   },
   {
    "duration": 20,
    "start_time": "2024-11-01T06:59:49.286Z"
   },
   {
    "duration": 74,
    "start_time": "2024-11-01T06:59:49.307Z"
   },
   {
    "duration": 14,
    "start_time": "2024-11-01T06:59:49.382Z"
   },
   {
    "duration": 49,
    "start_time": "2024-11-01T06:59:49.397Z"
   },
   {
    "duration": 8,
    "start_time": "2024-11-01T06:59:49.447Z"
   },
   {
    "duration": 7,
    "start_time": "2024-11-01T06:59:49.456Z"
   },
   {
    "duration": 561,
    "start_time": "2024-11-01T06:59:49.465Z"
   },
   {
    "duration": 0,
    "start_time": "2024-11-01T06:59:50.028Z"
   },
   {
    "duration": 0,
    "start_time": "2024-11-01T06:59:50.029Z"
   },
   {
    "duration": 0,
    "start_time": "2024-11-01T06:59:50.030Z"
   },
   {
    "duration": 0,
    "start_time": "2024-11-01T06:59:50.031Z"
   },
   {
    "duration": 0,
    "start_time": "2024-11-01T06:59:50.032Z"
   },
   {
    "duration": 0,
    "start_time": "2024-11-01T06:59:50.033Z"
   },
   {
    "duration": 5,
    "start_time": "2024-11-01T07:00:45.947Z"
   },
   {
    "duration": 10,
    "start_time": "2024-11-01T07:00:59.019Z"
   },
   {
    "duration": 7,
    "start_time": "2024-11-01T07:01:08.288Z"
   },
   {
    "duration": 55,
    "start_time": "2024-11-01T07:03:49.556Z"
   },
   {
    "duration": 1128,
    "start_time": "2024-11-01T07:04:08.226Z"
   },
   {
    "duration": 71,
    "start_time": "2024-11-01T07:04:09.356Z"
   },
   {
    "duration": 10,
    "start_time": "2024-11-01T07:04:09.429Z"
   },
   {
    "duration": 3,
    "start_time": "2024-11-01T07:04:09.441Z"
   },
   {
    "duration": 11,
    "start_time": "2024-11-01T07:04:09.446Z"
   },
   {
    "duration": 9,
    "start_time": "2024-11-01T07:04:09.459Z"
   },
   {
    "duration": 14,
    "start_time": "2024-11-01T07:04:09.469Z"
   },
   {
    "duration": 18,
    "start_time": "2024-11-01T07:04:09.484Z"
   },
   {
    "duration": 10,
    "start_time": "2024-11-01T07:04:09.503Z"
   },
   {
    "duration": 11,
    "start_time": "2024-11-01T07:04:09.515Z"
   },
   {
    "duration": 57,
    "start_time": "2024-11-01T07:04:09.527Z"
   },
   {
    "duration": 0,
    "start_time": "2024-11-01T07:04:09.585Z"
   },
   {
    "duration": 0,
    "start_time": "2024-11-01T07:04:09.586Z"
   },
   {
    "duration": 0,
    "start_time": "2024-11-01T07:04:09.587Z"
   },
   {
    "duration": 0,
    "start_time": "2024-11-01T07:04:09.588Z"
   },
   {
    "duration": 0,
    "start_time": "2024-11-01T07:04:09.589Z"
   },
   {
    "duration": 0,
    "start_time": "2024-11-01T07:04:09.590Z"
   },
   {
    "duration": 0,
    "start_time": "2024-11-01T07:04:09.590Z"
   },
   {
    "duration": 679,
    "start_time": "2024-11-01T07:04:55.335Z"
   },
   {
    "duration": 502,
    "start_time": "2024-11-01T07:12:34.153Z"
   },
   {
    "duration": 5,
    "start_time": "2024-11-01T07:13:12.027Z"
   },
   {
    "duration": 11,
    "start_time": "2024-11-01T07:18:01.975Z"
   },
   {
    "duration": 9,
    "start_time": "2024-11-01T07:26:15.825Z"
   },
   {
    "duration": 1013,
    "start_time": "2024-11-01T07:26:26.940Z"
   },
   {
    "duration": 71,
    "start_time": "2024-11-01T07:26:27.955Z"
   },
   {
    "duration": 10,
    "start_time": "2024-11-01T07:26:28.027Z"
   },
   {
    "duration": 13,
    "start_time": "2024-11-01T07:26:28.039Z"
   },
   {
    "duration": 10,
    "start_time": "2024-11-01T07:26:28.054Z"
   },
   {
    "duration": 11,
    "start_time": "2024-11-01T07:26:28.065Z"
   },
   {
    "duration": 18,
    "start_time": "2024-11-01T07:26:28.078Z"
   },
   {
    "duration": 11,
    "start_time": "2024-11-01T07:26:28.097Z"
   },
   {
    "duration": 33,
    "start_time": "2024-11-01T07:26:28.109Z"
   },
   {
    "duration": 99,
    "start_time": "2024-11-01T07:26:28.144Z"
   },
   {
    "duration": 29,
    "start_time": "2024-11-01T07:26:28.244Z"
   },
   {
    "duration": 298,
    "start_time": "2024-11-01T07:26:28.274Z"
   },
   {
    "duration": 251,
    "start_time": "2024-11-01T07:26:28.573Z"
   },
   {
    "duration": 170,
    "start_time": "2024-11-01T07:26:28.826Z"
   },
   {
    "duration": 251,
    "start_time": "2024-11-01T07:26:28.998Z"
   },
   {
    "duration": 230,
    "start_time": "2024-11-01T07:26:29.257Z"
   },
   {
    "duration": 391,
    "start_time": "2024-11-01T07:26:29.488Z"
   },
   {
    "duration": 0,
    "start_time": "2024-11-01T07:26:29.880Z"
   },
   {
    "duration": 276,
    "start_time": "2024-11-01T07:28:20.696Z"
   },
   {
    "duration": 163,
    "start_time": "2024-11-01T07:30:28.183Z"
   },
   {
    "duration": 162,
    "start_time": "2024-11-01T07:30:55.221Z"
   },
   {
    "duration": 211,
    "start_time": "2024-11-01T07:32:45.803Z"
   },
   {
    "duration": 12,
    "start_time": "2024-11-01T07:33:21.595Z"
   },
   {
    "duration": 155,
    "start_time": "2024-11-01T07:34:13.168Z"
   },
   {
    "duration": 1087,
    "start_time": "2024-11-01T07:36:28.236Z"
   },
   {
    "duration": 72,
    "start_time": "2024-11-01T07:36:29.325Z"
   },
   {
    "duration": 10,
    "start_time": "2024-11-01T07:36:29.398Z"
   },
   {
    "duration": 4,
    "start_time": "2024-11-01T07:36:29.411Z"
   },
   {
    "duration": 104,
    "start_time": "2024-11-01T07:36:29.416Z"
   },
   {
    "duration": 12,
    "start_time": "2024-11-01T07:36:29.522Z"
   },
   {
    "duration": 13,
    "start_time": "2024-11-01T07:36:29.535Z"
   },
   {
    "duration": 7,
    "start_time": "2024-11-01T07:36:29.549Z"
   },
   {
    "duration": 7,
    "start_time": "2024-11-01T07:36:29.558Z"
   },
   {
    "duration": 9,
    "start_time": "2024-11-01T07:36:29.567Z"
   },
   {
    "duration": 11,
    "start_time": "2024-11-01T07:36:29.577Z"
   },
   {
    "duration": 301,
    "start_time": "2024-11-01T07:36:29.589Z"
   },
   {
    "duration": 268,
    "start_time": "2024-11-01T07:36:29.891Z"
   },
   {
    "duration": 236,
    "start_time": "2024-11-01T07:36:30.161Z"
   },
   {
    "duration": 277,
    "start_time": "2024-11-01T07:36:30.399Z"
   },
   {
    "duration": 206,
    "start_time": "2024-11-01T07:36:30.678Z"
   },
   {
    "duration": 263,
    "start_time": "2024-11-01T07:36:30.885Z"
   },
   {
    "duration": 0,
    "start_time": "2024-11-01T07:36:31.150Z"
   },
   {
    "duration": 189,
    "start_time": "2024-11-01T07:38:33.184Z"
   },
   {
    "duration": 1126,
    "start_time": "2024-11-01T07:38:53.937Z"
   },
   {
    "duration": 72,
    "start_time": "2024-11-01T07:38:55.064Z"
   },
   {
    "duration": 10,
    "start_time": "2024-11-01T07:38:55.137Z"
   },
   {
    "duration": 4,
    "start_time": "2024-11-01T07:38:55.148Z"
   },
   {
    "duration": 21,
    "start_time": "2024-11-01T07:38:55.154Z"
   },
   {
    "duration": 14,
    "start_time": "2024-11-01T07:38:55.176Z"
   },
   {
    "duration": 12,
    "start_time": "2024-11-01T07:38:55.191Z"
   },
   {
    "duration": 9,
    "start_time": "2024-11-01T07:38:55.205Z"
   },
   {
    "duration": 27,
    "start_time": "2024-11-01T07:38:55.215Z"
   },
   {
    "duration": 17,
    "start_time": "2024-11-01T07:38:55.244Z"
   },
   {
    "duration": 13,
    "start_time": "2024-11-01T07:38:55.262Z"
   },
   {
    "duration": 300,
    "start_time": "2024-11-01T07:38:55.277Z"
   },
   {
    "duration": 255,
    "start_time": "2024-11-01T07:38:55.578Z"
   },
   {
    "duration": 184,
    "start_time": "2024-11-01T07:38:55.835Z"
   },
   {
    "duration": 280,
    "start_time": "2024-11-01T07:38:56.021Z"
   },
   {
    "duration": 209,
    "start_time": "2024-11-01T07:38:56.302Z"
   },
   {
    "duration": 294,
    "start_time": "2024-11-01T07:38:56.513Z"
   },
   {
    "duration": 110,
    "start_time": "2024-11-01T07:38:56.809Z"
   },
   {
    "duration": 272,
    "start_time": "2024-11-01T07:50:21.903Z"
   },
   {
    "duration": 366,
    "start_time": "2024-11-01T07:51:05.303Z"
   },
   {
    "duration": 15,
    "start_time": "2024-11-01T07:51:32.756Z"
   },
   {
    "duration": 8,
    "start_time": "2024-11-01T07:52:53.197Z"
   },
   {
    "duration": 99,
    "start_time": "2024-11-01T07:54:17.906Z"
   },
   {
    "duration": 113,
    "start_time": "2024-11-01T07:55:01.106Z"
   },
   {
    "duration": 155,
    "start_time": "2024-11-01T07:55:12.857Z"
   },
   {
    "duration": 9,
    "start_time": "2024-11-01T07:56:37.075Z"
   },
   {
    "duration": 8,
    "start_time": "2024-11-01T07:56:47.245Z"
   },
   {
    "duration": 126,
    "start_time": "2024-11-01T07:58:04.516Z"
   },
   {
    "duration": 54,
    "start_time": "2024-11-01T08:00:34.465Z"
   },
   {
    "duration": 47,
    "start_time": "2024-11-02T09:42:41.860Z"
   },
   {
    "duration": 1435,
    "start_time": "2024-11-02T09:42:50.722Z"
   },
   {
    "duration": 225,
    "start_time": "2024-11-02T09:42:52.159Z"
   },
   {
    "duration": 12,
    "start_time": "2024-11-02T09:42:52.386Z"
   },
   {
    "duration": 52,
    "start_time": "2024-11-02T09:42:52.400Z"
   },
   {
    "duration": 13,
    "start_time": "2024-11-02T09:42:52.455Z"
   },
   {
    "duration": 22,
    "start_time": "2024-11-02T09:42:52.470Z"
   },
   {
    "duration": 34,
    "start_time": "2024-11-02T09:42:52.494Z"
   },
   {
    "duration": 16,
    "start_time": "2024-11-02T09:42:52.529Z"
   },
   {
    "duration": 9,
    "start_time": "2024-11-02T09:42:52.546Z"
   },
   {
    "duration": 18,
    "start_time": "2024-11-02T09:42:52.557Z"
   },
   {
    "duration": 27,
    "start_time": "2024-11-02T09:42:52.577Z"
   },
   {
    "duration": 308,
    "start_time": "2024-11-02T09:42:52.606Z"
   },
   {
    "duration": 277,
    "start_time": "2024-11-02T09:42:52.916Z"
   },
   {
    "duration": 203,
    "start_time": "2024-11-02T09:42:53.196Z"
   },
   {
    "duration": 394,
    "start_time": "2024-11-02T09:42:53.401Z"
   },
   {
    "duration": 244,
    "start_time": "2024-11-02T09:42:53.798Z"
   },
   {
    "duration": 350,
    "start_time": "2024-11-02T09:42:54.044Z"
   },
   {
    "duration": 9,
    "start_time": "2024-11-02T09:42:54.395Z"
   },
   {
    "duration": 127,
    "start_time": "2024-11-02T09:42:54.406Z"
   },
   {
    "duration": 121,
    "start_time": "2024-11-02T09:42:54.543Z"
   },
   {
    "duration": 133,
    "start_time": "2024-11-02T09:43:10.673Z"
   },
   {
    "duration": 5,
    "start_time": "2024-11-02T09:58:09.154Z"
   },
   {
    "duration": 106,
    "start_time": "2024-11-02T10:00:00.494Z"
   },
   {
    "duration": 208,
    "start_time": "2024-11-02T10:00:32.277Z"
   },
   {
    "duration": 151,
    "start_time": "2024-11-02T10:00:49.003Z"
   },
   {
    "duration": 141,
    "start_time": "2024-11-02T10:02:30.562Z"
   },
   {
    "duration": 120,
    "start_time": "2024-11-02T10:02:40.898Z"
   },
   {
    "duration": 144,
    "start_time": "2024-11-02T10:02:56.139Z"
   },
   {
    "duration": 117,
    "start_time": "2024-11-02T10:03:00.416Z"
   },
   {
    "duration": 135,
    "start_time": "2024-11-02T10:08:28.813Z"
   },
   {
    "duration": 128,
    "start_time": "2024-11-02T10:08:36.180Z"
   },
   {
    "duration": 9,
    "start_time": "2024-11-02T10:12:29.399Z"
   },
   {
    "duration": 5,
    "start_time": "2024-11-02T10:12:37.501Z"
   },
   {
    "duration": 101,
    "start_time": "2024-11-02T10:18:19.650Z"
   },
   {
    "duration": 118,
    "start_time": "2024-11-02T10:19:56.928Z"
   },
   {
    "duration": 219,
    "start_time": "2024-11-02T10:20:31.832Z"
   },
   {
    "duration": 218,
    "start_time": "2024-11-02T10:22:33.808Z"
   },
   {
    "duration": 15,
    "start_time": "2024-11-02T10:22:38.111Z"
   },
   {
    "duration": 14,
    "start_time": "2024-11-02T10:23:11.419Z"
   },
   {
    "duration": 15,
    "start_time": "2024-11-02T10:23:17.655Z"
   },
   {
    "duration": 14,
    "start_time": "2024-11-02T10:24:52.758Z"
   },
   {
    "duration": 129,
    "start_time": "2024-11-02T10:26:19.993Z"
   },
   {
    "duration": 126,
    "start_time": "2024-11-02T10:26:47.767Z"
   },
   {
    "duration": 148,
    "start_time": "2024-11-02T10:27:14.775Z"
   },
   {
    "duration": 139,
    "start_time": "2024-11-02T10:27:40.491Z"
   },
   {
    "duration": 262,
    "start_time": "2024-11-02T10:28:48.465Z"
   },
   {
    "duration": 1226,
    "start_time": "2024-11-02T10:29:29.188Z"
   },
   {
    "duration": 76,
    "start_time": "2024-11-02T10:29:30.416Z"
   },
   {
    "duration": 12,
    "start_time": "2024-11-02T10:29:30.494Z"
   },
   {
    "duration": 18,
    "start_time": "2024-11-02T10:29:30.507Z"
   },
   {
    "duration": 9,
    "start_time": "2024-11-02T10:29:30.527Z"
   },
   {
    "duration": 33,
    "start_time": "2024-11-02T10:29:30.537Z"
   },
   {
    "duration": 33,
    "start_time": "2024-11-02T10:29:30.572Z"
   },
   {
    "duration": 62,
    "start_time": "2024-11-02T10:29:30.607Z"
   },
   {
    "duration": 12,
    "start_time": "2024-11-02T10:29:30.671Z"
   },
   {
    "duration": 23,
    "start_time": "2024-11-02T10:29:30.685Z"
   },
   {
    "duration": 25,
    "start_time": "2024-11-02T10:29:30.710Z"
   },
   {
    "duration": 361,
    "start_time": "2024-11-02T10:29:30.737Z"
   },
   {
    "duration": 308,
    "start_time": "2024-11-02T10:29:31.100Z"
   },
   {
    "duration": 235,
    "start_time": "2024-11-02T10:29:31.412Z"
   },
   {
    "duration": 316,
    "start_time": "2024-11-02T10:29:31.650Z"
   },
   {
    "duration": 231,
    "start_time": "2024-11-02T10:29:31.968Z"
   },
   {
    "duration": 377,
    "start_time": "2024-11-02T10:29:32.200Z"
   },
   {
    "duration": 9,
    "start_time": "2024-11-02T10:29:32.579Z"
   },
   {
    "duration": 136,
    "start_time": "2024-11-02T10:29:32.589Z"
   },
   {
    "duration": 156,
    "start_time": "2024-11-02T10:29:32.727Z"
   },
   {
    "duration": 4,
    "start_time": "2024-11-02T10:29:32.885Z"
   },
   {
    "duration": 185,
    "start_time": "2024-11-02T10:29:32.891Z"
   },
   {
    "duration": 233,
    "start_time": "2024-11-02T10:29:33.078Z"
   },
   {
    "duration": 4,
    "start_time": "2024-11-02T10:29:33.313Z"
   },
   {
    "duration": 227,
    "start_time": "2024-11-02T10:29:33.319Z"
   },
   {
    "duration": 324,
    "start_time": "2024-11-02T10:29:33.548Z"
   },
   {
    "duration": 5,
    "start_time": "2024-11-02T10:30:38.186Z"
   },
   {
    "duration": 274,
    "start_time": "2024-11-02T10:51:13.510Z"
   },
   {
    "duration": 268,
    "start_time": "2024-11-02T10:51:23.709Z"
   },
   {
    "duration": 13,
    "start_time": "2024-11-02T11:26:05.460Z"
   },
   {
    "duration": 12,
    "start_time": "2024-11-02T11:26:41.444Z"
   },
   {
    "duration": 69,
    "start_time": "2024-11-02T11:28:30.729Z"
   },
   {
    "duration": 15,
    "start_time": "2024-11-02T11:43:25.515Z"
   },
   {
    "duration": 9,
    "start_time": "2024-11-02T11:47:18.804Z"
   },
   {
    "duration": 8,
    "start_time": "2024-11-02T11:47:21.473Z"
   },
   {
    "duration": 30,
    "start_time": "2024-11-02T11:48:14.041Z"
   },
   {
    "duration": 30,
    "start_time": "2024-11-02T11:51:00.276Z"
   },
   {
    "duration": 30,
    "start_time": "2024-11-02T11:51:11.113Z"
   },
   {
    "duration": 50,
    "start_time": "2024-11-02T11:51:36.987Z"
   },
   {
    "duration": 1163,
    "start_time": "2024-11-02T11:52:32.126Z"
   },
   {
    "duration": 16,
    "start_time": "2024-11-02T11:53:08.035Z"
   },
   {
    "duration": 16,
    "start_time": "2024-11-02T11:59:41.876Z"
   },
   {
    "duration": 62,
    "start_time": "2024-11-02T12:03:33.571Z"
   },
   {
    "duration": 62,
    "start_time": "2024-11-03T05:41:03.821Z"
   },
   {
    "duration": 1422,
    "start_time": "2024-11-03T05:41:12.096Z"
   },
   {
    "duration": 223,
    "start_time": "2024-11-03T05:41:13.520Z"
   },
   {
    "duration": 11,
    "start_time": "2024-11-03T05:41:13.745Z"
   },
   {
    "duration": 4,
    "start_time": "2024-11-03T05:41:13.758Z"
   },
   {
    "duration": 10,
    "start_time": "2024-11-03T05:41:13.763Z"
   },
   {
    "duration": 10,
    "start_time": "2024-11-03T05:41:13.774Z"
   },
   {
    "duration": 11,
    "start_time": "2024-11-03T05:41:13.786Z"
   },
   {
    "duration": 22,
    "start_time": "2024-11-03T05:41:13.799Z"
   },
   {
    "duration": 9,
    "start_time": "2024-11-03T05:41:13.823Z"
   },
   {
    "duration": 8,
    "start_time": "2024-11-03T05:41:13.834Z"
   },
   {
    "duration": 55,
    "start_time": "2024-11-03T05:41:13.844Z"
   },
   {
    "duration": 0,
    "start_time": "2024-11-03T05:41:13.901Z"
   },
   {
    "duration": 0,
    "start_time": "2024-11-03T05:41:13.902Z"
   },
   {
    "duration": 0,
    "start_time": "2024-11-03T05:41:13.903Z"
   },
   {
    "duration": 0,
    "start_time": "2024-11-03T05:41:13.904Z"
   },
   {
    "duration": 0,
    "start_time": "2024-11-03T05:41:13.906Z"
   },
   {
    "duration": 0,
    "start_time": "2024-11-03T05:41:13.907Z"
   },
   {
    "duration": 0,
    "start_time": "2024-11-03T05:41:13.908Z"
   },
   {
    "duration": 0,
    "start_time": "2024-11-03T05:41:13.909Z"
   },
   {
    "duration": 0,
    "start_time": "2024-11-03T05:41:13.910Z"
   },
   {
    "duration": 0,
    "start_time": "2024-11-03T05:41:13.911Z"
   },
   {
    "duration": 0,
    "start_time": "2024-11-03T05:41:13.912Z"
   },
   {
    "duration": 0,
    "start_time": "2024-11-03T05:41:13.913Z"
   },
   {
    "duration": 0,
    "start_time": "2024-11-03T05:41:13.914Z"
   },
   {
    "duration": 0,
    "start_time": "2024-11-03T05:41:13.915Z"
   },
   {
    "duration": 0,
    "start_time": "2024-11-03T05:41:13.916Z"
   },
   {
    "duration": 0,
    "start_time": "2024-11-03T05:41:13.917Z"
   },
   {
    "duration": 0,
    "start_time": "2024-11-03T05:41:13.918Z"
   },
   {
    "duration": 0,
    "start_time": "2024-11-03T05:41:13.919Z"
   },
   {
    "duration": 0,
    "start_time": "2024-11-03T05:41:13.920Z"
   },
   {
    "duration": 0,
    "start_time": "2024-11-03T05:41:13.922Z"
   },
   {
    "duration": 1145,
    "start_time": "2024-11-03T06:00:45.658Z"
   },
   {
    "duration": 78,
    "start_time": "2024-11-03T06:00:46.806Z"
   },
   {
    "duration": 13,
    "start_time": "2024-11-03T06:00:46.886Z"
   },
   {
    "duration": 5,
    "start_time": "2024-11-03T06:00:46.901Z"
   },
   {
    "duration": 8,
    "start_time": "2024-11-03T06:00:46.910Z"
   },
   {
    "duration": 17,
    "start_time": "2024-11-03T06:00:46.921Z"
   },
   {
    "duration": 16,
    "start_time": "2024-11-03T06:00:46.940Z"
   },
   {
    "duration": 12,
    "start_time": "2024-11-03T06:00:46.957Z"
   },
   {
    "duration": 54,
    "start_time": "2024-11-03T06:00:46.971Z"
   },
   {
    "duration": 13,
    "start_time": "2024-11-03T06:00:47.028Z"
   },
   {
    "duration": 13,
    "start_time": "2024-11-03T06:00:47.044Z"
   },
   {
    "duration": 325,
    "start_time": "2024-11-03T06:00:47.059Z"
   },
   {
    "duration": 295,
    "start_time": "2024-11-03T06:00:47.386Z"
   },
   {
    "duration": 227,
    "start_time": "2024-11-03T06:00:47.684Z"
   },
   {
    "duration": 348,
    "start_time": "2024-11-03T06:00:47.918Z"
   },
   {
    "duration": 260,
    "start_time": "2024-11-03T06:00:48.269Z"
   },
   {
    "duration": 344,
    "start_time": "2024-11-03T06:00:48.532Z"
   },
   {
    "duration": 9,
    "start_time": "2024-11-03T06:00:48.878Z"
   },
   {
    "duration": 147,
    "start_time": "2024-11-03T06:00:48.888Z"
   },
   {
    "duration": 145,
    "start_time": "2024-11-03T06:00:49.038Z"
   },
   {
    "duration": 4,
    "start_time": "2024-11-03T06:00:49.185Z"
   },
   {
    "duration": 168,
    "start_time": "2024-11-03T06:00:49.191Z"
   },
   {
    "duration": 247,
    "start_time": "2024-11-03T06:00:49.361Z"
   },
   {
    "duration": 11,
    "start_time": "2024-11-03T06:00:49.610Z"
   },
   {
    "duration": 284,
    "start_time": "2024-11-03T06:00:49.623Z"
   },
   {
    "duration": 366,
    "start_time": "2024-11-03T06:00:49.910Z"
   },
   {
    "duration": 11,
    "start_time": "2024-11-03T06:00:50.279Z"
   },
   {
    "duration": 9,
    "start_time": "2024-11-03T06:00:50.293Z"
   },
   {
    "duration": 34,
    "start_time": "2024-11-03T06:00:50.318Z"
   },
   {
    "duration": 15,
    "start_time": "2024-11-03T06:00:50.354Z"
   },
   {
    "duration": 1171,
    "start_time": "2024-11-03T07:05:10.901Z"
   },
   {
    "duration": 74,
    "start_time": "2024-11-03T07:05:12.074Z"
   },
   {
    "duration": 11,
    "start_time": "2024-11-03T07:05:12.150Z"
   },
   {
    "duration": 18,
    "start_time": "2024-11-03T07:05:12.163Z"
   },
   {
    "duration": 13,
    "start_time": "2024-11-03T07:05:12.183Z"
   },
   {
    "duration": 8,
    "start_time": "2024-11-03T07:05:12.198Z"
   },
   {
    "duration": 13,
    "start_time": "2024-11-03T07:05:12.208Z"
   },
   {
    "duration": 9,
    "start_time": "2024-11-03T07:05:12.223Z"
   },
   {
    "duration": 8,
    "start_time": "2024-11-03T07:05:12.234Z"
   },
   {
    "duration": 8,
    "start_time": "2024-11-03T07:05:12.245Z"
   },
   {
    "duration": 15,
    "start_time": "2024-11-03T07:05:12.255Z"
   },
   {
    "duration": 354,
    "start_time": "2024-11-03T07:05:12.271Z"
   },
   {
    "duration": 305,
    "start_time": "2024-11-03T07:05:12.626Z"
   },
   {
    "duration": 231,
    "start_time": "2024-11-03T07:05:12.933Z"
   },
   {
    "duration": 300,
    "start_time": "2024-11-03T07:05:13.166Z"
   },
   {
    "duration": 223,
    "start_time": "2024-11-03T07:05:13.467Z"
   },
   {
    "duration": 353,
    "start_time": "2024-11-03T07:05:13.692Z"
   },
   {
    "duration": 9,
    "start_time": "2024-11-03T07:05:14.047Z"
   },
   {
    "duration": 130,
    "start_time": "2024-11-03T07:05:14.058Z"
   },
   {
    "duration": 137,
    "start_time": "2024-11-03T07:05:14.190Z"
   },
   {
    "duration": 4,
    "start_time": "2024-11-03T07:05:14.329Z"
   },
   {
    "duration": 144,
    "start_time": "2024-11-03T07:05:14.334Z"
   },
   {
    "duration": 226,
    "start_time": "2024-11-03T07:05:14.480Z"
   },
   {
    "duration": 10,
    "start_time": "2024-11-03T07:05:14.707Z"
   },
   {
    "duration": 239,
    "start_time": "2024-11-03T07:05:14.719Z"
   },
   {
    "duration": 297,
    "start_time": "2024-11-03T07:05:14.959Z"
   },
   {
    "duration": 12,
    "start_time": "2024-11-03T07:05:15.258Z"
   },
   {
    "duration": 9,
    "start_time": "2024-11-03T07:05:15.274Z"
   },
   {
    "duration": 56,
    "start_time": "2024-11-03T07:05:15.285Z"
   },
   {
    "duration": 14,
    "start_time": "2024-11-03T07:05:15.343Z"
   },
   {
    "duration": 72,
    "start_time": "2024-11-04T06:11:25.494Z"
   },
   {
    "duration": 1222,
    "start_time": "2024-11-04T07:27:46.547Z"
   },
   {
    "duration": 214,
    "start_time": "2024-11-04T07:27:47.771Z"
   },
   {
    "duration": 13,
    "start_time": "2024-11-04T07:27:47.987Z"
   },
   {
    "duration": 4,
    "start_time": "2024-11-04T07:27:48.002Z"
   },
   {
    "duration": 17,
    "start_time": "2024-11-04T07:27:48.008Z"
   },
   {
    "duration": 9,
    "start_time": "2024-11-04T07:27:48.026Z"
   },
   {
    "duration": 11,
    "start_time": "2024-11-04T07:27:48.037Z"
   },
   {
    "duration": 6,
    "start_time": "2024-11-04T07:27:48.050Z"
   },
   {
    "duration": 7,
    "start_time": "2024-11-04T07:27:48.058Z"
   },
   {
    "duration": 6,
    "start_time": "2024-11-04T07:27:48.066Z"
   },
   {
    "duration": 40,
    "start_time": "2024-11-04T07:27:48.073Z"
   },
   {
    "duration": 275,
    "start_time": "2024-11-04T07:27:48.114Z"
   },
   {
    "duration": 297,
    "start_time": "2024-11-04T07:27:48.390Z"
   },
   {
    "duration": 168,
    "start_time": "2024-11-04T07:27:48.690Z"
   },
   {
    "duration": 355,
    "start_time": "2024-11-04T07:27:48.859Z"
   },
   {
    "duration": 202,
    "start_time": "2024-11-04T07:27:49.216Z"
   },
   {
    "duration": 301,
    "start_time": "2024-11-04T07:27:49.419Z"
   },
   {
    "duration": 8,
    "start_time": "2024-11-04T07:27:49.722Z"
   },
   {
    "duration": 111,
    "start_time": "2024-11-04T07:27:49.731Z"
   },
   {
    "duration": 117,
    "start_time": "2024-11-04T07:27:49.843Z"
   },
   {
    "duration": 4,
    "start_time": "2024-11-04T07:27:49.961Z"
   },
   {
    "duration": 128,
    "start_time": "2024-11-04T07:27:49.966Z"
   },
   {
    "duration": 168,
    "start_time": "2024-11-04T07:27:50.095Z"
   },
   {
    "duration": 4,
    "start_time": "2024-11-04T07:27:50.264Z"
   },
   {
    "duration": 208,
    "start_time": "2024-11-04T07:27:50.270Z"
   },
   {
    "duration": 270,
    "start_time": "2024-11-04T07:27:50.480Z"
   },
   {
    "duration": 10,
    "start_time": "2024-11-04T07:27:50.752Z"
   },
   {
    "duration": 10,
    "start_time": "2024-11-04T07:27:50.763Z"
   },
   {
    "duration": 42,
    "start_time": "2024-11-04T07:27:50.775Z"
   },
   {
    "duration": 13,
    "start_time": "2024-11-04T07:27:50.819Z"
   },
   {
    "duration": 1345,
    "start_time": "2025-01-17T16:35:43.755Z"
   },
   {
    "duration": 234,
    "start_time": "2025-01-17T16:35:45.102Z"
   },
   {
    "duration": 11,
    "start_time": "2025-01-17T16:35:45.337Z"
   },
   {
    "duration": 11,
    "start_time": "2025-01-17T16:35:45.350Z"
   },
   {
    "duration": 22,
    "start_time": "2025-01-17T16:35:45.363Z"
   },
   {
    "duration": 22,
    "start_time": "2025-01-17T16:35:45.387Z"
   },
   {
    "duration": 18,
    "start_time": "2025-01-17T16:35:45.411Z"
   },
   {
    "duration": 10,
    "start_time": "2025-01-17T16:35:45.431Z"
   },
   {
    "duration": 14,
    "start_time": "2025-01-17T16:35:45.443Z"
   },
   {
    "duration": 16,
    "start_time": "2025-01-17T16:35:45.459Z"
   },
   {
    "duration": 25,
    "start_time": "2025-01-17T16:35:45.477Z"
   },
   {
    "duration": 320,
    "start_time": "2025-01-17T16:35:45.503Z"
   },
   {
    "duration": 293,
    "start_time": "2025-01-17T16:35:45.825Z"
   },
   {
    "duration": 217,
    "start_time": "2025-01-17T16:35:46.122Z"
   },
   {
    "duration": 344,
    "start_time": "2025-01-17T16:35:46.341Z"
   },
   {
    "duration": 232,
    "start_time": "2025-01-17T16:35:46.687Z"
   },
   {
    "duration": 351,
    "start_time": "2025-01-17T16:35:46.921Z"
   },
   {
    "duration": 10,
    "start_time": "2025-01-17T16:35:47.273Z"
   },
   {
    "duration": 141,
    "start_time": "2025-01-17T16:35:47.284Z"
   },
   {
    "duration": 148,
    "start_time": "2025-01-17T16:35:47.427Z"
   },
   {
    "duration": 4,
    "start_time": "2025-01-17T16:35:47.576Z"
   },
   {
    "duration": 155,
    "start_time": "2025-01-17T16:35:47.582Z"
   },
   {
    "duration": 206,
    "start_time": "2025-01-17T16:35:47.738Z"
   },
   {
    "duration": 5,
    "start_time": "2025-01-17T16:35:47.945Z"
   },
   {
    "duration": 235,
    "start_time": "2025-01-17T16:35:47.951Z"
   },
   {
    "duration": 327,
    "start_time": "2025-01-17T16:35:48.188Z"
   },
   {
    "duration": 18,
    "start_time": "2025-01-17T16:35:48.519Z"
   },
   {
    "duration": 20,
    "start_time": "2025-01-17T16:35:48.539Z"
   },
   {
    "duration": 29,
    "start_time": "2025-01-17T16:35:48.561Z"
   },
   {
    "duration": 13,
    "start_time": "2025-01-17T16:35:48.592Z"
   }
  ],
  "kernelspec": {
   "display_name": "Python 3 (ipykernel)",
   "language": "python",
   "name": "python3"
  },
  "language_info": {
   "codemirror_mode": {
    "name": "ipython",
    "version": 3
   },
   "file_extension": ".py",
   "mimetype": "text/x-python",
   "name": "python",
   "nbconvert_exporter": "python",
   "pygments_lexer": "ipython3",
   "version": "3.9.5"
  },
  "toc": {
   "base_numbering": 1,
   "nav_menu": {},
   "number_sections": true,
   "sideBar": true,
   "skip_h1_title": true,
   "title_cell": "Table of Contents",
   "title_sidebar": "Contents",
   "toc_cell": false,
   "toc_position": {},
   "toc_section_display": true,
   "toc_window_display": false
  }
 },
 "nbformat": 4,
 "nbformat_minor": 2
}
