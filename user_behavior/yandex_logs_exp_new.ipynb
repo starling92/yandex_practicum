{
 "cells": [
  {
   "cell_type": "markdown",
   "metadata": {},
   "source": [
    "# Сборный проект № 2: "
   ]
  },
  {
   "cell_type": "markdown",
   "metadata": {},
   "source": [
    "Описание проекта.\n",
    "\n",
    "Я работаю в стартапе, который продаёт продукты питания. Нужно разобраться, как ведут себя пользователи нашего мобильного приложения. \n",
    "\n",
    "Необходимо изучить воронку продаж. Как пользователи доходят до покупки. Сколько пользователей доходит до покупки, а сколько — «застревает» на предыдущих шагах? На каких именно?\n",
    "\n",
    "Исследовать результаты A/A/B-эксперимента.\\\n",
    "Дизайнеры захотели поменять шрифты во всём приложении, а менеджеры испугались, что пользователям будет непривычно. Договорились принять решение по результатам A/A/B-теста. Пользователей разбили на 3 группы: 2 контрольные со старыми шрифтами и одну экспериментальную — с новыми. Требуется выяснить, какой шрифт лучше."
   ]
  },
  {
   "cell_type": "markdown",
   "metadata": {},
   "source": [
    "Описание данных\n",
    "\n",
    "Каждая запись в логе — это действие пользователя, или событие.\n",
    "\n",
    "- EventName — название события;\n",
    "- DeviceIDHash — уникальный идентификатор пользователя;\n",
    "- EventTimestamp — время события;\n",
    "- ExpId — номер эксперимента: 246 и 247 — контрольные группы, а 248 — экспериментальная"
   ]
  },
  {
   "cell_type": "markdown",
   "metadata": {},
   "source": [
    "##  Загрузка и подготовка данных к анализу"
   ]
  },
  {
   "cell_type": "code",
   "execution_count": 1,
   "metadata": {},
   "outputs": [],
   "source": [
    "# импорт библиотек\n",
    "import pandas as pd\n",
    "import numpy as np\n",
    "import seaborn as sns\n",
    "from matplotlib import pyplot as plt\n",
    "from datetime import datetime as dt\n",
    "import scipy.stats as stats\n",
    "from statsmodels.stats.proportion import proportions_ztest\n",
    "import math as mth\n",
    "pd.set_option('display.max_columns', 30)\n",
    "pd.set_option(\"display.float_format\", \"{:.3f}\".format)"
   ]
  },
  {
   "cell_type": "code",
   "execution_count": 2,
   "metadata": {},
   "outputs": [
    {
     "data": {
      "text/html": [
       "<div>\n",
       "<style scoped>\n",
       "    .dataframe tbody tr th:only-of-type {\n",
       "        vertical-align: middle;\n",
       "    }\n",
       "\n",
       "    .dataframe tbody tr th {\n",
       "        vertical-align: top;\n",
       "    }\n",
       "\n",
       "    .dataframe thead th {\n",
       "        text-align: right;\n",
       "    }\n",
       "</style>\n",
       "<table border=\"1\" class=\"dataframe\">\n",
       "  <thead>\n",
       "    <tr style=\"text-align: right;\">\n",
       "      <th></th>\n",
       "      <th>EventName</th>\n",
       "      <th>DeviceIDHash</th>\n",
       "      <th>EventTimestamp</th>\n",
       "      <th>ExpId</th>\n",
       "    </tr>\n",
       "  </thead>\n",
       "  <tbody>\n",
       "    <tr>\n",
       "      <th>0</th>\n",
       "      <td>MainScreenAppear</td>\n",
       "      <td>4575588528974610257</td>\n",
       "      <td>1564029816</td>\n",
       "      <td>246</td>\n",
       "    </tr>\n",
       "    <tr>\n",
       "      <th>1</th>\n",
       "      <td>MainScreenAppear</td>\n",
       "      <td>7416695313311560658</td>\n",
       "      <td>1564053102</td>\n",
       "      <td>246</td>\n",
       "    </tr>\n",
       "    <tr>\n",
       "      <th>2</th>\n",
       "      <td>PaymentScreenSuccessful</td>\n",
       "      <td>3518123091307005509</td>\n",
       "      <td>1564054127</td>\n",
       "      <td>248</td>\n",
       "    </tr>\n",
       "    <tr>\n",
       "      <th>3</th>\n",
       "      <td>CartScreenAppear</td>\n",
       "      <td>3518123091307005509</td>\n",
       "      <td>1564054127</td>\n",
       "      <td>248</td>\n",
       "    </tr>\n",
       "    <tr>\n",
       "      <th>4</th>\n",
       "      <td>PaymentScreenSuccessful</td>\n",
       "      <td>6217807653094995999</td>\n",
       "      <td>1564055322</td>\n",
       "      <td>248</td>\n",
       "    </tr>\n",
       "    <tr>\n",
       "      <th>5</th>\n",
       "      <td>CartScreenAppear</td>\n",
       "      <td>6217807653094995999</td>\n",
       "      <td>1564055323</td>\n",
       "      <td>248</td>\n",
       "    </tr>\n",
       "    <tr>\n",
       "      <th>6</th>\n",
       "      <td>OffersScreenAppear</td>\n",
       "      <td>8351860793733343758</td>\n",
       "      <td>1564066242</td>\n",
       "      <td>246</td>\n",
       "    </tr>\n",
       "    <tr>\n",
       "      <th>7</th>\n",
       "      <td>MainScreenAppear</td>\n",
       "      <td>5682100281902512875</td>\n",
       "      <td>1564085677</td>\n",
       "      <td>246</td>\n",
       "    </tr>\n",
       "    <tr>\n",
       "      <th>8</th>\n",
       "      <td>MainScreenAppear</td>\n",
       "      <td>1850981295691852772</td>\n",
       "      <td>1564086702</td>\n",
       "      <td>247</td>\n",
       "    </tr>\n",
       "    <tr>\n",
       "      <th>9</th>\n",
       "      <td>MainScreenAppear</td>\n",
       "      <td>5407636962369102641</td>\n",
       "      <td>1564112112</td>\n",
       "      <td>246</td>\n",
       "    </tr>\n",
       "  </tbody>\n",
       "</table>\n",
       "</div>"
      ],
      "text/plain": [
       "                 EventName         DeviceIDHash  EventTimestamp  ExpId\n",
       "0         MainScreenAppear  4575588528974610257      1564029816    246\n",
       "1         MainScreenAppear  7416695313311560658      1564053102    246\n",
       "2  PaymentScreenSuccessful  3518123091307005509      1564054127    248\n",
       "3         CartScreenAppear  3518123091307005509      1564054127    248\n",
       "4  PaymentScreenSuccessful  6217807653094995999      1564055322    248\n",
       "5         CartScreenAppear  6217807653094995999      1564055323    248\n",
       "6       OffersScreenAppear  8351860793733343758      1564066242    246\n",
       "7         MainScreenAppear  5682100281902512875      1564085677    246\n",
       "8         MainScreenAppear  1850981295691852772      1564086702    247\n",
       "9         MainScreenAppear  5407636962369102641      1564112112    246"
      ]
     },
     "execution_count": 2,
     "metadata": {},
     "output_type": "execute_result"
    }
   ],
   "source": [
    "# Загрузка данных\n",
    "data = pd.read_csv('/datasets/logs_exp.csv', sep='\\t')\n",
    "data.head(10)"
   ]
  },
  {
   "cell_type": "code",
   "execution_count": 3,
   "metadata": {},
   "outputs": [
    {
     "data": {
      "text/plain": [
       "(event_name          0\n",
       " device_id_hash      0\n",
       " event_time_stamp    0\n",
       " exp_id              0\n",
       " dtype: int64,\n",
       " event_name          object\n",
       " device_id_hash       int64\n",
       " event_time_stamp     int64\n",
       " exp_id               int64\n",
       " dtype: object)"
      ]
     },
     "execution_count": 3,
     "metadata": {},
     "output_type": "execute_result"
    }
   ],
   "source": [
    "# Переименуем столбцы для удобства\n",
    "data.columns = ['event_name', 'device_id_hash', 'event_time_stamp', 'exp_id']\n",
    "\n",
    "# Проверка на пропуски и типы данных\n",
    "missing_data = data.isnull().sum()\n",
    "data_types = data.dtypes\n",
    "\n",
    "# Вывод данных для проверки изменений\n",
    "missing_data, data_types"
   ]
  },
  {
   "cell_type": "code",
   "execution_count": 4,
   "metadata": {},
   "outputs": [
    {
     "data": {
      "text/html": [
       "<div>\n",
       "<style scoped>\n",
       "    .dataframe tbody tr th:only-of-type {\n",
       "        vertical-align: middle;\n",
       "    }\n",
       "\n",
       "    .dataframe tbody tr th {\n",
       "        vertical-align: top;\n",
       "    }\n",
       "\n",
       "    .dataframe thead th {\n",
       "        text-align: right;\n",
       "    }\n",
       "</style>\n",
       "<table border=\"1\" class=\"dataframe\">\n",
       "  <thead>\n",
       "    <tr style=\"text-align: right;\">\n",
       "      <th></th>\n",
       "      <th>event_name</th>\n",
       "      <th>device_id_hash</th>\n",
       "      <th>event_time_stamp</th>\n",
       "      <th>exp_id</th>\n",
       "    </tr>\n",
       "  </thead>\n",
       "  <tbody>\n",
       "    <tr>\n",
       "      <th>0</th>\n",
       "      <td>MainScreenAppear</td>\n",
       "      <td>4575588528974610257</td>\n",
       "      <td>1564029816</td>\n",
       "      <td>246</td>\n",
       "    </tr>\n",
       "    <tr>\n",
       "      <th>1</th>\n",
       "      <td>MainScreenAppear</td>\n",
       "      <td>7416695313311560658</td>\n",
       "      <td>1564053102</td>\n",
       "      <td>246</td>\n",
       "    </tr>\n",
       "    <tr>\n",
       "      <th>2</th>\n",
       "      <td>PaymentScreenSuccessful</td>\n",
       "      <td>3518123091307005509</td>\n",
       "      <td>1564054127</td>\n",
       "      <td>248</td>\n",
       "    </tr>\n",
       "    <tr>\n",
       "      <th>3</th>\n",
       "      <td>CartScreenAppear</td>\n",
       "      <td>3518123091307005509</td>\n",
       "      <td>1564054127</td>\n",
       "      <td>248</td>\n",
       "    </tr>\n",
       "    <tr>\n",
       "      <th>4</th>\n",
       "      <td>PaymentScreenSuccessful</td>\n",
       "      <td>6217807653094995999</td>\n",
       "      <td>1564055322</td>\n",
       "      <td>248</td>\n",
       "    </tr>\n",
       "  </tbody>\n",
       "</table>\n",
       "</div>"
      ],
      "text/plain": [
       "                event_name       device_id_hash  event_time_stamp  exp_id\n",
       "0         MainScreenAppear  4575588528974610257        1564029816     246\n",
       "1         MainScreenAppear  7416695313311560658        1564053102     246\n",
       "2  PaymentScreenSuccessful  3518123091307005509        1564054127     248\n",
       "3         CartScreenAppear  3518123091307005509        1564054127     248\n",
       "4  PaymentScreenSuccessful  6217807653094995999        1564055322     248"
      ]
     },
     "execution_count": 4,
     "metadata": {},
     "output_type": "execute_result"
    }
   ],
   "source": [
    "data.head()"
   ]
  },
  {
   "cell_type": "code",
   "execution_count": 5,
   "metadata": {},
   "outputs": [
    {
     "data": {
      "text/html": [
       "<div>\n",
       "<style scoped>\n",
       "    .dataframe tbody tr th:only-of-type {\n",
       "        vertical-align: middle;\n",
       "    }\n",
       "\n",
       "    .dataframe tbody tr th {\n",
       "        vertical-align: top;\n",
       "    }\n",
       "\n",
       "    .dataframe thead th {\n",
       "        text-align: right;\n",
       "    }\n",
       "</style>\n",
       "<table border=\"1\" class=\"dataframe\">\n",
       "  <thead>\n",
       "    <tr style=\"text-align: right;\">\n",
       "      <th></th>\n",
       "      <th>event_name</th>\n",
       "      <th>device_id_hash</th>\n",
       "      <th>event_time_stamp</th>\n",
       "      <th>exp_id</th>\n",
       "    </tr>\n",
       "  </thead>\n",
       "  <tbody>\n",
       "    <tr>\n",
       "      <th>0</th>\n",
       "      <td>MainScreenAppear</td>\n",
       "      <td>4575588528974610257</td>\n",
       "      <td>2019-07-25 04:43:36</td>\n",
       "      <td>246</td>\n",
       "    </tr>\n",
       "    <tr>\n",
       "      <th>1</th>\n",
       "      <td>MainScreenAppear</td>\n",
       "      <td>7416695313311560658</td>\n",
       "      <td>2019-07-25 11:11:42</td>\n",
       "      <td>246</td>\n",
       "    </tr>\n",
       "    <tr>\n",
       "      <th>2</th>\n",
       "      <td>PaymentScreenSuccessful</td>\n",
       "      <td>3518123091307005509</td>\n",
       "      <td>2019-07-25 11:28:47</td>\n",
       "      <td>248</td>\n",
       "    </tr>\n",
       "    <tr>\n",
       "      <th>3</th>\n",
       "      <td>CartScreenAppear</td>\n",
       "      <td>3518123091307005509</td>\n",
       "      <td>2019-07-25 11:28:47</td>\n",
       "      <td>248</td>\n",
       "    </tr>\n",
       "    <tr>\n",
       "      <th>4</th>\n",
       "      <td>PaymentScreenSuccessful</td>\n",
       "      <td>6217807653094995999</td>\n",
       "      <td>2019-07-25 11:48:42</td>\n",
       "      <td>248</td>\n",
       "    </tr>\n",
       "  </tbody>\n",
       "</table>\n",
       "</div>"
      ],
      "text/plain": [
       "                event_name       device_id_hash    event_time_stamp  exp_id\n",
       "0         MainScreenAppear  4575588528974610257 2019-07-25 04:43:36     246\n",
       "1         MainScreenAppear  7416695313311560658 2019-07-25 11:11:42     246\n",
       "2  PaymentScreenSuccessful  3518123091307005509 2019-07-25 11:28:47     248\n",
       "3         CartScreenAppear  3518123091307005509 2019-07-25 11:28:47     248\n",
       "4  PaymentScreenSuccessful  6217807653094995999 2019-07-25 11:48:42     248"
      ]
     },
     "execution_count": 5,
     "metadata": {},
     "output_type": "execute_result"
    }
   ],
   "source": [
    "# Меняем формат даты\n",
    "data['event_time_stamp'] = pd.to_datetime(data['event_time_stamp'], unit='s')\n",
    "data.head()"
   ]
  },
  {
   "cell_type": "code",
   "execution_count": 6,
   "metadata": {},
   "outputs": [
    {
     "name": "stdout",
     "output_type": "stream",
     "text": [
      "<class 'pandas.core.frame.DataFrame'>\n",
      "RangeIndex: 244126 entries, 0 to 244125\n",
      "Data columns (total 4 columns):\n",
      " #   Column            Non-Null Count   Dtype         \n",
      "---  ------            --------------   -----         \n",
      " 0   event_name        244126 non-null  object        \n",
      " 1   device_id_hash    244126 non-null  int64         \n",
      " 2   event_time_stamp  244126 non-null  datetime64[ns]\n",
      " 3   exp_id            244126 non-null  int64         \n",
      "dtypes: datetime64[ns](1), int64(2), object(1)\n",
      "memory usage: 7.5+ MB\n"
     ]
    }
   ],
   "source": [
    "data.info()"
   ]
  },
  {
   "cell_type": "code",
   "execution_count": 7,
   "metadata": {},
   "outputs": [
    {
     "data": {
      "text/html": [
       "<div>\n",
       "<style scoped>\n",
       "    .dataframe tbody tr th:only-of-type {\n",
       "        vertical-align: middle;\n",
       "    }\n",
       "\n",
       "    .dataframe tbody tr th {\n",
       "        vertical-align: top;\n",
       "    }\n",
       "\n",
       "    .dataframe thead th {\n",
       "        text-align: right;\n",
       "    }\n",
       "</style>\n",
       "<table border=\"1\" class=\"dataframe\">\n",
       "  <thead>\n",
       "    <tr style=\"text-align: right;\">\n",
       "      <th></th>\n",
       "      <th>event_name</th>\n",
       "      <th>device_id_hash</th>\n",
       "      <th>event_time_stamp</th>\n",
       "      <th>exp_id</th>\n",
       "      <th>datе_event</th>\n",
       "    </tr>\n",
       "  </thead>\n",
       "  <tbody>\n",
       "    <tr>\n",
       "      <th>0</th>\n",
       "      <td>MainScreenAppear</td>\n",
       "      <td>4575588528974610257</td>\n",
       "      <td>2019-07-25 04:43:36</td>\n",
       "      <td>246</td>\n",
       "      <td>2019-07-25</td>\n",
       "    </tr>\n",
       "    <tr>\n",
       "      <th>1</th>\n",
       "      <td>MainScreenAppear</td>\n",
       "      <td>7416695313311560658</td>\n",
       "      <td>2019-07-25 11:11:42</td>\n",
       "      <td>246</td>\n",
       "      <td>2019-07-25</td>\n",
       "    </tr>\n",
       "    <tr>\n",
       "      <th>2</th>\n",
       "      <td>PaymentScreenSuccessful</td>\n",
       "      <td>3518123091307005509</td>\n",
       "      <td>2019-07-25 11:28:47</td>\n",
       "      <td>248</td>\n",
       "      <td>2019-07-25</td>\n",
       "    </tr>\n",
       "    <tr>\n",
       "      <th>3</th>\n",
       "      <td>CartScreenAppear</td>\n",
       "      <td>3518123091307005509</td>\n",
       "      <td>2019-07-25 11:28:47</td>\n",
       "      <td>248</td>\n",
       "      <td>2019-07-25</td>\n",
       "    </tr>\n",
       "    <tr>\n",
       "      <th>4</th>\n",
       "      <td>PaymentScreenSuccessful</td>\n",
       "      <td>6217807653094995999</td>\n",
       "      <td>2019-07-25 11:48:42</td>\n",
       "      <td>248</td>\n",
       "      <td>2019-07-25</td>\n",
       "    </tr>\n",
       "  </tbody>\n",
       "</table>\n",
       "</div>"
      ],
      "text/plain": [
       "                event_name       device_id_hash    event_time_stamp  exp_id  \\\n",
       "0         MainScreenAppear  4575588528974610257 2019-07-25 04:43:36     246   \n",
       "1         MainScreenAppear  7416695313311560658 2019-07-25 11:11:42     246   \n",
       "2  PaymentScreenSuccessful  3518123091307005509 2019-07-25 11:28:47     248   \n",
       "3         CartScreenAppear  3518123091307005509 2019-07-25 11:28:47     248   \n",
       "4  PaymentScreenSuccessful  6217807653094995999 2019-07-25 11:48:42     248   \n",
       "\n",
       "   datе_event  \n",
       "0  2019-07-25  \n",
       "1  2019-07-25  \n",
       "2  2019-07-25  \n",
       "3  2019-07-25  \n",
       "4  2019-07-25  "
      ]
     },
     "execution_count": 7,
     "metadata": {},
     "output_type": "execute_result"
    }
   ],
   "source": [
    "# Добавляем столбец даты и времени, а также отдельный столбец дат\n",
    "data['datе_event'] = data['event_time_stamp'].dt.date\n",
    "data.head()"
   ]
  },
  {
   "cell_type": "code",
   "execution_count": 8,
   "metadata": {},
   "outputs": [
    {
     "name": "stdout",
     "output_type": "stream",
     "text": [
      "413\n"
     ]
    }
   ],
   "source": [
    "#Проверим дубликаты\n",
    "print(data.duplicated().sum())"
   ]
  },
  {
   "cell_type": "markdown",
   "metadata": {},
   "source": [
    "413 дубликатов, можно их сразу удалить"
   ]
  },
  {
   "cell_type": "code",
   "execution_count": 9,
   "metadata": {},
   "outputs": [
    {
     "name": "stdout",
     "output_type": "stream",
     "text": [
      "0\n"
     ]
    }
   ],
   "source": [
    "#Проверим дубликаты\n",
    "data = data.drop_duplicates().reset_index(drop=True)\n",
    "print(data.duplicated().sum())"
   ]
  },
  {
   "cell_type": "markdown",
   "metadata": {},
   "source": [
    "## Изучаем и проверяем данные"
   ]
  },
  {
   "cell_type": "code",
   "execution_count": 10,
   "metadata": {},
   "outputs": [
    {
     "data": {
      "text/plain": [
       "243713"
      ]
     },
     "execution_count": 10,
     "metadata": {},
     "output_type": "execute_result"
    }
   ],
   "source": [
    "# Общее количество событий\n",
    "total_events = data.shape[0]\n",
    "total_events"
   ]
  },
  {
   "cell_type": "code",
   "execution_count": 11,
   "metadata": {},
   "outputs": [
    {
     "name": "stdout",
     "output_type": "stream",
     "text": [
      "5\n",
      "['MainScreenAppear' 'PaymentScreenSuccessful' 'CartScreenAppear'\n",
      " 'OffersScreenAppear' 'Tutorial']\n"
     ]
    }
   ],
   "source": [
    "# Какие бывают события?\n",
    "print(data['event_name'].nunique())\n",
    "print(data['event_name'].unique())"
   ]
  },
  {
   "cell_type": "markdown",
   "metadata": {},
   "source": [
    "- 'MainScreenAppear' - Окно главной страницы сайта\n",
    "- 'PaymentScreenSuccessful' - Окно \"Оплата прошла успешно\"\n",
    "- 'CartScreenAppear' -  Окно корзины\n",
    "- 'OffersScreenAppear' - Окно предложений\n",
    "- 'Tutorial' - Учебное пособие"
   ]
  },
  {
   "cell_type": "code",
   "execution_count": 12,
   "metadata": {},
   "outputs": [
    {
     "data": {
      "text/plain": [
       "7551"
      ]
     },
     "execution_count": 12,
     "metadata": {},
     "output_type": "execute_result"
    }
   ],
   "source": [
    "# Количество уникальных пользователей\n",
    "total_users = data['device_id_hash'].nunique()\n",
    "total_users"
   ]
  },
  {
   "cell_type": "code",
   "execution_count": 13,
   "metadata": {},
   "outputs": [
    {
     "data": {
      "text/html": [
       "<div>\n",
       "<style scoped>\n",
       "    .dataframe tbody tr th:only-of-type {\n",
       "        vertical-align: middle;\n",
       "    }\n",
       "\n",
       "    .dataframe tbody tr th {\n",
       "        vertical-align: top;\n",
       "    }\n",
       "\n",
       "    .dataframe thead th {\n",
       "        text-align: right;\n",
       "    }\n",
       "</style>\n",
       "<table border=\"1\" class=\"dataframe\">\n",
       "  <thead>\n",
       "    <tr style=\"text-align: right;\">\n",
       "      <th></th>\n",
       "      <th>device_id_hash</th>\n",
       "      <th>event_name</th>\n",
       "    </tr>\n",
       "  </thead>\n",
       "  <tbody>\n",
       "    <tr>\n",
       "      <th>count</th>\n",
       "      <td>7551.000</td>\n",
       "      <td>7551.000</td>\n",
       "    </tr>\n",
       "    <tr>\n",
       "      <th>mean</th>\n",
       "      <td>4677318727102441472.000</td>\n",
       "      <td>32.276</td>\n",
       "    </tr>\n",
       "    <tr>\n",
       "      <th>std</th>\n",
       "      <td>2655343100552021504.000</td>\n",
       "      <td>65.154</td>\n",
       "    </tr>\n",
       "    <tr>\n",
       "      <th>min</th>\n",
       "      <td>6888746892508752.000</td>\n",
       "      <td>1.000</td>\n",
       "    </tr>\n",
       "    <tr>\n",
       "      <th>25%</th>\n",
       "      <td>2397700422051031552.000</td>\n",
       "      <td>9.000</td>\n",
       "    </tr>\n",
       "    <tr>\n",
       "      <th>50%</th>\n",
       "      <td>4688021588771745792.000</td>\n",
       "      <td>20.000</td>\n",
       "    </tr>\n",
       "    <tr>\n",
       "      <th>75%</th>\n",
       "      <td>7007352523282521088.000</td>\n",
       "      <td>37.000</td>\n",
       "    </tr>\n",
       "    <tr>\n",
       "      <th>max</th>\n",
       "      <td>9222603179720523776.000</td>\n",
       "      <td>2307.000</td>\n",
       "    </tr>\n",
       "  </tbody>\n",
       "</table>\n",
       "</div>"
      ],
      "text/plain": [
       "               device_id_hash  event_name\n",
       "count                7551.000    7551.000\n",
       "mean  4677318727102441472.000      32.276\n",
       "std   2655343100552021504.000      65.154\n",
       "min      6888746892508752.000       1.000\n",
       "25%   2397700422051031552.000       9.000\n",
       "50%   4688021588771745792.000      20.000\n",
       "75%   7007352523282521088.000      37.000\n",
       "max   9222603179720523776.000    2307.000"
      ]
     },
     "execution_count": 13,
     "metadata": {},
     "output_type": "execute_result"
    }
   ],
   "source": [
    "# Среднее количество событий на пользователя\n",
    "research_event = data.groupby('device_id_hash')['event_name'].count().reset_index()\n",
    "research_event.describe()"
   ]
  },
  {
   "cell_type": "code",
   "execution_count": 14,
   "metadata": {},
   "outputs": [
    {
     "data": {
      "text/plain": [
       "array([ 64. ,  89. , 200.5])"
      ]
     },
     "execution_count": 14,
     "metadata": {},
     "output_type": "execute_result"
    }
   ],
   "source": [
    "np.percentile(research_event['event_name'], [90, 95, 99])"
   ]
  },
  {
   "cell_type": "markdown",
   "metadata": {},
   "source": [
    "Мы видим что среднее количество событий на одного человека 32, max число подозрительно 2308 событий, больше 64 событий было  у 10% процентов пользователей"
   ]
  },
  {
   "cell_type": "code",
   "execution_count": 15,
   "metadata": {},
   "outputs": [
    {
     "name": "stdout",
     "output_type": "stream",
     "text": [
      "device_id_hash    4562545007601322906\n",
      "event_name                      34380\n",
      "dtype: int64\n"
     ]
    }
   ],
   "source": [
    "research_event_1 = research_event[research_event['event_name'] > 200.5]\n",
    "print(research_event_1.sum())"
   ]
  },
  {
   "cell_type": "code",
   "execution_count": 16,
   "metadata": {},
   "outputs": [
    {
     "name": "stdout",
     "output_type": "stream",
     "text": [
      "Данные от 2019-07-25 04:43:36 до 2019-08-07 21:15:17, разница в 13 days 16:31:41.\n"
     ]
    }
   ],
   "source": [
    "# Минимальная и максимальная даты\n",
    "min_date = data['event_time_stamp'].min()\n",
    "max_date = data['event_time_stamp'].max()\n",
    "difference = max_date-min_date\n",
    "print(f'Данные от {min_date} до {max_date}, разница в {difference}.')"
   ]
  },
  {
   "cell_type": "code",
   "execution_count": 17,
   "metadata": {},
   "outputs": [
    {
     "data": {
      "text/html": [
       "<div>\n",
       "<style scoped>\n",
       "    .dataframe tbody tr th:only-of-type {\n",
       "        vertical-align: middle;\n",
       "    }\n",
       "\n",
       "    .dataframe tbody tr th {\n",
       "        vertical-align: top;\n",
       "    }\n",
       "\n",
       "    .dataframe thead th {\n",
       "        text-align: right;\n",
       "    }\n",
       "</style>\n",
       "<table border=\"1\" class=\"dataframe\">\n",
       "  <thead>\n",
       "    <tr style=\"text-align: right;\">\n",
       "      <th></th>\n",
       "      <th>datе_event</th>\n",
       "      <th>device_id_hash</th>\n",
       "    </tr>\n",
       "  </thead>\n",
       "  <tbody>\n",
       "    <tr>\n",
       "      <th>0</th>\n",
       "      <td>2019-07-25</td>\n",
       "      <td>9</td>\n",
       "    </tr>\n",
       "    <tr>\n",
       "      <th>1</th>\n",
       "      <td>2019-07-26</td>\n",
       "      <td>31</td>\n",
       "    </tr>\n",
       "    <tr>\n",
       "      <th>2</th>\n",
       "      <td>2019-07-27</td>\n",
       "      <td>55</td>\n",
       "    </tr>\n",
       "    <tr>\n",
       "      <th>3</th>\n",
       "      <td>2019-07-28</td>\n",
       "      <td>105</td>\n",
       "    </tr>\n",
       "    <tr>\n",
       "      <th>4</th>\n",
       "      <td>2019-07-29</td>\n",
       "      <td>184</td>\n",
       "    </tr>\n",
       "    <tr>\n",
       "      <th>5</th>\n",
       "      <td>2019-07-30</td>\n",
       "      <td>412</td>\n",
       "    </tr>\n",
       "    <tr>\n",
       "      <th>6</th>\n",
       "      <td>2019-07-31</td>\n",
       "      <td>2030</td>\n",
       "    </tr>\n",
       "    <tr>\n",
       "      <th>7</th>\n",
       "      <td>2019-08-01</td>\n",
       "      <td>36141</td>\n",
       "    </tr>\n",
       "    <tr>\n",
       "      <th>8</th>\n",
       "      <td>2019-08-02</td>\n",
       "      <td>35554</td>\n",
       "    </tr>\n",
       "    <tr>\n",
       "      <th>9</th>\n",
       "      <td>2019-08-03</td>\n",
       "      <td>33282</td>\n",
       "    </tr>\n",
       "    <tr>\n",
       "      <th>10</th>\n",
       "      <td>2019-08-04</td>\n",
       "      <td>32968</td>\n",
       "    </tr>\n",
       "    <tr>\n",
       "      <th>11</th>\n",
       "      <td>2019-08-05</td>\n",
       "      <td>36058</td>\n",
       "    </tr>\n",
       "    <tr>\n",
       "      <th>12</th>\n",
       "      <td>2019-08-06</td>\n",
       "      <td>35788</td>\n",
       "    </tr>\n",
       "    <tr>\n",
       "      <th>13</th>\n",
       "      <td>2019-08-07</td>\n",
       "      <td>31096</td>\n",
       "    </tr>\n",
       "  </tbody>\n",
       "</table>\n",
       "</div>"
      ],
      "text/plain": [
       "    datе_event  device_id_hash\n",
       "0   2019-07-25               9\n",
       "1   2019-07-26              31\n",
       "2   2019-07-27              55\n",
       "3   2019-07-28             105\n",
       "4   2019-07-29             184\n",
       "5   2019-07-30             412\n",
       "6   2019-07-31            2030\n",
       "7   2019-08-01           36141\n",
       "8   2019-08-02           35554\n",
       "9   2019-08-03           33282\n",
       "10  2019-08-04           32968\n",
       "11  2019-08-05           36058\n",
       "12  2019-08-06           35788\n",
       "13  2019-08-07           31096"
      ]
     },
     "execution_count": 17,
     "metadata": {},
     "output_type": "execute_result"
    }
   ],
   "source": [
    "cont_event_date = data.groupby('datе_event')['device_id_hash'].count().reset_index()\n",
    "cont_event_date"
   ]
  },
  {
   "cell_type": "code",
   "execution_count": 18,
   "metadata": {},
   "outputs": [
    {
     "data": {
      "text/html": [
       "<div>\n",
       "<style scoped>\n",
       "    .dataframe tbody tr th:only-of-type {\n",
       "        vertical-align: middle;\n",
       "    }\n",
       "\n",
       "    .dataframe tbody tr th {\n",
       "        vertical-align: top;\n",
       "    }\n",
       "\n",
       "    .dataframe thead th {\n",
       "        text-align: right;\n",
       "    }\n",
       "</style>\n",
       "<table border=\"1\" class=\"dataframe\">\n",
       "  <thead>\n",
       "    <tr style=\"text-align: right;\">\n",
       "      <th></th>\n",
       "      <th>datе_event</th>\n",
       "      <th>device_id_hash</th>\n",
       "      <th>percent</th>\n",
       "    </tr>\n",
       "  </thead>\n",
       "  <tbody>\n",
       "    <tr>\n",
       "      <th>0</th>\n",
       "      <td>2019-07-25</td>\n",
       "      <td>9</td>\n",
       "      <td>0.004</td>\n",
       "    </tr>\n",
       "    <tr>\n",
       "      <th>1</th>\n",
       "      <td>2019-07-26</td>\n",
       "      <td>31</td>\n",
       "      <td>0.013</td>\n",
       "    </tr>\n",
       "    <tr>\n",
       "      <th>2</th>\n",
       "      <td>2019-07-27</td>\n",
       "      <td>55</td>\n",
       "      <td>0.023</td>\n",
       "    </tr>\n",
       "    <tr>\n",
       "      <th>3</th>\n",
       "      <td>2019-07-28</td>\n",
       "      <td>105</td>\n",
       "      <td>0.043</td>\n",
       "    </tr>\n",
       "    <tr>\n",
       "      <th>4</th>\n",
       "      <td>2019-07-29</td>\n",
       "      <td>184</td>\n",
       "      <td>0.075</td>\n",
       "    </tr>\n",
       "    <tr>\n",
       "      <th>5</th>\n",
       "      <td>2019-07-30</td>\n",
       "      <td>412</td>\n",
       "      <td>0.169</td>\n",
       "    </tr>\n",
       "    <tr>\n",
       "      <th>6</th>\n",
       "      <td>2019-07-31</td>\n",
       "      <td>2030</td>\n",
       "      <td>0.833</td>\n",
       "    </tr>\n",
       "    <tr>\n",
       "      <th>7</th>\n",
       "      <td>2019-08-01</td>\n",
       "      <td>36141</td>\n",
       "      <td>14.829</td>\n",
       "    </tr>\n",
       "    <tr>\n",
       "      <th>8</th>\n",
       "      <td>2019-08-02</td>\n",
       "      <td>35554</td>\n",
       "      <td>14.588</td>\n",
       "    </tr>\n",
       "    <tr>\n",
       "      <th>9</th>\n",
       "      <td>2019-08-03</td>\n",
       "      <td>33282</td>\n",
       "      <td>13.656</td>\n",
       "    </tr>\n",
       "    <tr>\n",
       "      <th>10</th>\n",
       "      <td>2019-08-04</td>\n",
       "      <td>32968</td>\n",
       "      <td>13.527</td>\n",
       "    </tr>\n",
       "    <tr>\n",
       "      <th>11</th>\n",
       "      <td>2019-08-05</td>\n",
       "      <td>36058</td>\n",
       "      <td>14.795</td>\n",
       "    </tr>\n",
       "    <tr>\n",
       "      <th>12</th>\n",
       "      <td>2019-08-06</td>\n",
       "      <td>35788</td>\n",
       "      <td>14.684</td>\n",
       "    </tr>\n",
       "    <tr>\n",
       "      <th>13</th>\n",
       "      <td>2019-08-07</td>\n",
       "      <td>31096</td>\n",
       "      <td>12.759</td>\n",
       "    </tr>\n",
       "  </tbody>\n",
       "</table>\n",
       "</div>"
      ],
      "text/plain": [
       "    datе_event  device_id_hash  percent\n",
       "0   2019-07-25               9    0.004\n",
       "1   2019-07-26              31    0.013\n",
       "2   2019-07-27              55    0.023\n",
       "3   2019-07-28             105    0.043\n",
       "4   2019-07-29             184    0.075\n",
       "5   2019-07-30             412    0.169\n",
       "6   2019-07-31            2030    0.833\n",
       "7   2019-08-01           36141   14.829\n",
       "8   2019-08-02           35554   14.588\n",
       "9   2019-08-03           33282   13.656\n",
       "10  2019-08-04           32968   13.527\n",
       "11  2019-08-05           36058   14.795\n",
       "12  2019-08-06           35788   14.684\n",
       "13  2019-08-07           31096   12.759"
      ]
     },
     "execution_count": 18,
     "metadata": {},
     "output_type": "execute_result"
    }
   ],
   "source": [
    "cont_event_date['percent'] = cont_event_date['device_id_hash']/cont_event_date['device_id_hash'].sum()*100\n",
    "cont_event_date"
   ]
  },
  {
   "cell_type": "code",
   "execution_count": 19,
   "metadata": {},
   "outputs": [
    {
     "data": {
      "image/png": "[encoded data removed]",
      "text/plain": [
       "<Figure size 720x720 with 1 Axes>"
      ]
     },
     "metadata": {
      "needs_background": "light"
     },
     "output_type": "display_data"
    }
   ],
   "source": [
    "plt.figure(figsize=(10, 10))\n",
    "plt.bar(cont_event_date['datе_event'].astype(str), cont_event_date['device_id_hash'], color='skyblue')\n",
    "plt.title('Сумма значений событий по эксперименту')\n",
    "plt.xlabel('Все эксперименты')\n",
    "plt.ylabel('Количество событий')\n",
    "plt.xticks(rotation=45)\n",
    "\n",
    "plt.show()"
   ]
  },
  {
   "cell_type": "code",
   "execution_count": 20,
   "metadata": {},
   "outputs": [],
   "source": [
    "exp_id_246 = data[data['exp_id'] == 246]\n",
    "exp_id_247 = data[data['exp_id'] == 247]\n",
    "exp_id_248 = data[data['exp_id'] == 248]"
   ]
  },
  {
   "cell_type": "code",
   "execution_count": 21,
   "metadata": {},
   "outputs": [
    {
     "data": {
      "text/html": [
       "<div>\n",
       "<style scoped>\n",
       "    .dataframe tbody tr th:only-of-type {\n",
       "        vertical-align: middle;\n",
       "    }\n",
       "\n",
       "    .dataframe tbody tr th {\n",
       "        vertical-align: top;\n",
       "    }\n",
       "\n",
       "    .dataframe thead th {\n",
       "        text-align: right;\n",
       "    }\n",
       "</style>\n",
       "<table border=\"1\" class=\"dataframe\">\n",
       "  <thead>\n",
       "    <tr style=\"text-align: right;\">\n",
       "      <th></th>\n",
       "      <th>datе_event</th>\n",
       "      <th>device_id_hash</th>\n",
       "    </tr>\n",
       "  </thead>\n",
       "  <tbody>\n",
       "    <tr>\n",
       "      <th>0</th>\n",
       "      <td>2019-07-25</td>\n",
       "      <td>4</td>\n",
       "    </tr>\n",
       "    <tr>\n",
       "      <th>1</th>\n",
       "      <td>2019-07-26</td>\n",
       "      <td>14</td>\n",
       "    </tr>\n",
       "    <tr>\n",
       "      <th>2</th>\n",
       "      <td>2019-07-27</td>\n",
       "      <td>24</td>\n",
       "    </tr>\n",
       "    <tr>\n",
       "      <th>3</th>\n",
       "      <td>2019-07-28</td>\n",
       "      <td>33</td>\n",
       "    </tr>\n",
       "    <tr>\n",
       "      <th>4</th>\n",
       "      <td>2019-07-29</td>\n",
       "      <td>55</td>\n",
       "    </tr>\n",
       "    <tr>\n",
       "      <th>5</th>\n",
       "      <td>2019-07-30</td>\n",
       "      <td>129</td>\n",
       "    </tr>\n",
       "    <tr>\n",
       "      <th>6</th>\n",
       "      <td>2019-07-31</td>\n",
       "      <td>620</td>\n",
       "    </tr>\n",
       "    <tr>\n",
       "      <th>7</th>\n",
       "      <td>2019-08-01</td>\n",
       "      <td>11561</td>\n",
       "    </tr>\n",
       "    <tr>\n",
       "      <th>8</th>\n",
       "      <td>2019-08-02</td>\n",
       "      <td>10946</td>\n",
       "    </tr>\n",
       "    <tr>\n",
       "      <th>9</th>\n",
       "      <td>2019-08-03</td>\n",
       "      <td>10575</td>\n",
       "    </tr>\n",
       "    <tr>\n",
       "      <th>10</th>\n",
       "      <td>2019-08-04</td>\n",
       "      <td>11514</td>\n",
       "    </tr>\n",
       "    <tr>\n",
       "      <th>11</th>\n",
       "      <td>2019-08-05</td>\n",
       "      <td>12368</td>\n",
       "    </tr>\n",
       "    <tr>\n",
       "      <th>12</th>\n",
       "      <td>2019-08-06</td>\n",
       "      <td>11726</td>\n",
       "    </tr>\n",
       "    <tr>\n",
       "      <th>13</th>\n",
       "      <td>2019-08-07</td>\n",
       "      <td>10612</td>\n",
       "    </tr>\n",
       "  </tbody>\n",
       "</table>\n",
       "</div>"
      ],
      "text/plain": [
       "    datе_event  device_id_hash\n",
       "0   2019-07-25               4\n",
       "1   2019-07-26              14\n",
       "2   2019-07-27              24\n",
       "3   2019-07-28              33\n",
       "4   2019-07-29              55\n",
       "5   2019-07-30             129\n",
       "6   2019-07-31             620\n",
       "7   2019-08-01           11561\n",
       "8   2019-08-02           10946\n",
       "9   2019-08-03           10575\n",
       "10  2019-08-04           11514\n",
       "11  2019-08-05           12368\n",
       "12  2019-08-06           11726\n",
       "13  2019-08-07           10612"
      ]
     },
     "execution_count": 21,
     "metadata": {},
     "output_type": "execute_result"
    }
   ],
   "source": [
    "cont_event_date_246 = exp_id_246.groupby('datе_event')['device_id_hash'].count().reset_index()\n",
    "cont_event_date_246"
   ]
  },
  {
   "cell_type": "code",
   "execution_count": 22,
   "metadata": {},
   "outputs": [
    {
     "data": {
      "text/html": [
       "<div>\n",
       "<style scoped>\n",
       "    .dataframe tbody tr th:only-of-type {\n",
       "        vertical-align: middle;\n",
       "    }\n",
       "\n",
       "    .dataframe tbody tr th {\n",
       "        vertical-align: top;\n",
       "    }\n",
       "\n",
       "    .dataframe thead th {\n",
       "        text-align: right;\n",
       "    }\n",
       "</style>\n",
       "<table border=\"1\" class=\"dataframe\">\n",
       "  <thead>\n",
       "    <tr style=\"text-align: right;\">\n",
       "      <th></th>\n",
       "      <th>datе_event</th>\n",
       "      <th>device_id_hash</th>\n",
       "      <th>percent</th>\n",
       "    </tr>\n",
       "  </thead>\n",
       "  <tbody>\n",
       "    <tr>\n",
       "      <th>0</th>\n",
       "      <td>2019-07-25</td>\n",
       "      <td>9</td>\n",
       "      <td>0.000</td>\n",
       "    </tr>\n",
       "    <tr>\n",
       "      <th>1</th>\n",
       "      <td>2019-07-26</td>\n",
       "      <td>31</td>\n",
       "      <td>0.000</td>\n",
       "    </tr>\n",
       "    <tr>\n",
       "      <th>2</th>\n",
       "      <td>2019-07-27</td>\n",
       "      <td>55</td>\n",
       "      <td>0.000</td>\n",
       "    </tr>\n",
       "    <tr>\n",
       "      <th>3</th>\n",
       "      <td>2019-07-28</td>\n",
       "      <td>105</td>\n",
       "      <td>0.000</td>\n",
       "    </tr>\n",
       "    <tr>\n",
       "      <th>4</th>\n",
       "      <td>2019-07-29</td>\n",
       "      <td>184</td>\n",
       "      <td>0.001</td>\n",
       "    </tr>\n",
       "    <tr>\n",
       "      <th>5</th>\n",
       "      <td>2019-07-30</td>\n",
       "      <td>412</td>\n",
       "      <td>0.002</td>\n",
       "    </tr>\n",
       "    <tr>\n",
       "      <th>6</th>\n",
       "      <td>2019-07-31</td>\n",
       "      <td>2030</td>\n",
       "      <td>0.008</td>\n",
       "    </tr>\n",
       "    <tr>\n",
       "      <th>7</th>\n",
       "      <td>2019-08-01</td>\n",
       "      <td>36141</td>\n",
       "      <td>0.148</td>\n",
       "    </tr>\n",
       "    <tr>\n",
       "      <th>8</th>\n",
       "      <td>2019-08-02</td>\n",
       "      <td>35554</td>\n",
       "      <td>0.146</td>\n",
       "    </tr>\n",
       "    <tr>\n",
       "      <th>9</th>\n",
       "      <td>2019-08-03</td>\n",
       "      <td>33282</td>\n",
       "      <td>0.137</td>\n",
       "    </tr>\n",
       "    <tr>\n",
       "      <th>10</th>\n",
       "      <td>2019-08-04</td>\n",
       "      <td>32968</td>\n",
       "      <td>0.135</td>\n",
       "    </tr>\n",
       "    <tr>\n",
       "      <th>11</th>\n",
       "      <td>2019-08-05</td>\n",
       "      <td>36058</td>\n",
       "      <td>0.148</td>\n",
       "    </tr>\n",
       "    <tr>\n",
       "      <th>12</th>\n",
       "      <td>2019-08-06</td>\n",
       "      <td>35788</td>\n",
       "      <td>0.147</td>\n",
       "    </tr>\n",
       "    <tr>\n",
       "      <th>13</th>\n",
       "      <td>2019-08-07</td>\n",
       "      <td>31096</td>\n",
       "      <td>0.128</td>\n",
       "    </tr>\n",
       "  </tbody>\n",
       "</table>\n",
       "</div>"
      ],
      "text/plain": [
       "    datе_event  device_id_hash  percent\n",
       "0   2019-07-25               9    0.000\n",
       "1   2019-07-26              31    0.000\n",
       "2   2019-07-27              55    0.000\n",
       "3   2019-07-28             105    0.000\n",
       "4   2019-07-29             184    0.001\n",
       "5   2019-07-30             412    0.002\n",
       "6   2019-07-31            2030    0.008\n",
       "7   2019-08-01           36141    0.148\n",
       "8   2019-08-02           35554    0.146\n",
       "9   2019-08-03           33282    0.137\n",
       "10  2019-08-04           32968    0.135\n",
       "11  2019-08-05           36058    0.148\n",
       "12  2019-08-06           35788    0.147\n",
       "13  2019-08-07           31096    0.128"
      ]
     },
     "execution_count": 22,
     "metadata": {},
     "output_type": "execute_result"
    }
   ],
   "source": [
    "cont_event_date['percent'] = cont_event_date['device_id_hash']/cont_event_date['device_id_hash'].sum()\n",
    "cont_event_date"
   ]
  },
  {
   "cell_type": "code",
   "execution_count": 23,
   "metadata": {},
   "outputs": [
    {
     "data": {
      "image/png": "[encoded data removed]",
      "text/plain": [
       "<Figure size 432x288 with 1 Axes>"
      ]
     },
     "metadata": {
      "needs_background": "light"
     },
     "output_type": "display_data"
    }
   ],
   "source": [
    "# Построение диаграммы\n",
    "plt.bar(cont_event_date_246['datе_event'].astype(str), cont_event_date_246['device_id_hash'], color='skyblue')\n",
    "\n",
    "\n",
    "plt.title('Сумма значений событий по эксперименту')\n",
    "plt.xlabel('ID 246')\n",
    "plt.ylabel('Количество событий')\n",
    "plt.xticks(rotation=45)\n",
    "\n",
    "plt.show()"
   ]
  },
  {
   "cell_type": "code",
   "execution_count": null,
   "metadata": {},
   "outputs": [],
   "source": []
  },
  {
   "cell_type": "code",
   "execution_count": 24,
   "metadata": {},
   "outputs": [
    {
     "data": {
      "image/png": "[encoded data removed]",
      "text/plain": [
       "<Figure size 432x288 with 1 Axes>"
      ]
     },
     "metadata": {
      "needs_background": "light"
     },
     "output_type": "display_data"
    }
   ],
   "source": [
    "cont_event_date_247 = exp_id_247.groupby('datе_event')['device_id_hash'].count().reset_index()\n",
    "plt.bar(cont_event_date_247['datе_event'].astype(str), cont_event_date_247['device_id_hash'], color='skyblue')\n",
    "\n",
    "\n",
    "plt.title('Сумма значений событий по эксперименту')\n",
    "plt.xlabel('ID 247')\n",
    "plt.ylabel('Количество событий')\n",
    "plt.xticks(rotation=45)\n",
    "\n",
    "plt.show()"
   ]
  },
  {
   "cell_type": "code",
   "execution_count": 25,
   "metadata": {},
   "outputs": [
    {
     "data": {
      "image/png": "[encoded data removed]",
      "text/plain": [
       "<Figure size 432x288 with 1 Axes>"
      ]
     },
     "metadata": {
      "needs_background": "light"
     },
     "output_type": "display_data"
    }
   ],
   "source": [
    "cont_event_date_248 = exp_id_248.groupby('datе_event')['device_id_hash'].count().reset_index()\n",
    "plt.bar(cont_event_date_248['datе_event'].astype(str), cont_event_date_248['device_id_hash'], color='skyblue')\n",
    "\n",
    "plt.title('Сумма значений событий по эксперименту')\n",
    "plt.xlabel('ID 248')\n",
    "plt.ylabel('Количество событий')\n",
    "plt.xticks(rotation=45)\n",
    "\n",
    "plt.show()"
   ]
  },
  {
   "cell_type": "markdown",
   "metadata": {},
   "source": [
    "Исходя из графиков,мы видим что кодичество данных не равномерно, а до 31.07.2019 количество событий не превышает 1000."
   ]
  },
  {
   "cell_type": "markdown",
   "metadata": {},
   "source": [
    "При подготовке данных для дальнейшего анализа лучше убрать события до 01.08.2019 ( что составит меньше 1%).\n",
    "Так же убрать пользователя у которого больше 2000 событий"
   ]
  },
  {
   "cell_type": "code",
   "execution_count": 26,
   "metadata": {},
   "outputs": [
    {
     "data": {
      "text/plain": [
       "243713"
      ]
     },
     "execution_count": 26,
     "metadata": {},
     "output_type": "execute_result"
    }
   ],
   "source": [
    "data.shape[0]"
   ]
  },
  {
   "cell_type": "code",
   "execution_count": 27,
   "metadata": {},
   "outputs": [
    {
     "name": "stdout",
     "output_type": "stream",
     "text": [
      "Данные от 2019-08-01 00:07:28 до 2019-08-07 21:15:17, разница в 6 days 21:07:49.\n"
     ]
    }
   ],
   "source": [
    "# Преобразуем столбец в тип datetime\n",
    "data['datе_event'] = pd.to_datetime(data['datе_event'])\n",
    "\n",
    "df_clean = data\n",
    "\n",
    "# Фильтрация данных\n",
    "df_clean = df_clean.loc[df_clean['datе_event'] > '2019-07-31']\n",
    "min_date = df_clean['event_time_stamp'].min()\n",
    "max_date = df_clean['event_time_stamp'].max()\n",
    "difference = max_date-min_date\n",
    "print(f'Данные от {min_date} до {max_date}, разница в {difference}.')"
   ]
  },
  {
   "cell_type": "code",
   "execution_count": 28,
   "metadata": {},
   "outputs": [
    {
     "data": {
      "text/plain": [
       "240887"
      ]
     },
     "execution_count": 28,
     "metadata": {},
     "output_type": "execute_result"
    }
   ],
   "source": [
    "df_clean.shape[0]"
   ]
  },
  {
   "cell_type": "code",
   "execution_count": 29,
   "metadata": {},
   "outputs": [
    {
     "data": {
      "text/html": [
       "<div>\n",
       "<style scoped>\n",
       "    .dataframe tbody tr th:only-of-type {\n",
       "        vertical-align: middle;\n",
       "    }\n",
       "\n",
       "    .dataframe tbody tr th {\n",
       "        vertical-align: top;\n",
       "    }\n",
       "\n",
       "    .dataframe thead th {\n",
       "        text-align: right;\n",
       "    }\n",
       "</style>\n",
       "<table border=\"1\" class=\"dataframe\">\n",
       "  <thead>\n",
       "    <tr style=\"text-align: right;\">\n",
       "      <th></th>\n",
       "      <th>device_id_hash</th>\n",
       "      <th>event_name</th>\n",
       "    </tr>\n",
       "  </thead>\n",
       "  <tbody>\n",
       "    <tr>\n",
       "      <th>0</th>\n",
       "      <td>6888746892508752</td>\n",
       "      <td>1</td>\n",
       "    </tr>\n",
       "    <tr>\n",
       "      <th>1</th>\n",
       "      <td>6909561520679493</td>\n",
       "      <td>5</td>\n",
       "    </tr>\n",
       "    <tr>\n",
       "      <th>2</th>\n",
       "      <td>6922444491712477</td>\n",
       "      <td>47</td>\n",
       "    </tr>\n",
       "    <tr>\n",
       "      <th>3</th>\n",
       "      <td>7435777799948366</td>\n",
       "      <td>6</td>\n",
       "    </tr>\n",
       "    <tr>\n",
       "      <th>4</th>\n",
       "      <td>7702139951469979</td>\n",
       "      <td>137</td>\n",
       "    </tr>\n",
       "    <tr>\n",
       "      <th>...</th>\n",
       "      <td>...</td>\n",
       "      <td>...</td>\n",
       "    </tr>\n",
       "    <tr>\n",
       "      <th>7546</th>\n",
       "      <td>9217594193087726423</td>\n",
       "      <td>9</td>\n",
       "    </tr>\n",
       "    <tr>\n",
       "      <th>7547</th>\n",
       "      <td>9219463515465815368</td>\n",
       "      <td>17</td>\n",
       "    </tr>\n",
       "    <tr>\n",
       "      <th>7548</th>\n",
       "      <td>9220879493065341500</td>\n",
       "      <td>7</td>\n",
       "    </tr>\n",
       "    <tr>\n",
       "      <th>7549</th>\n",
       "      <td>9221926045299980007</td>\n",
       "      <td>7</td>\n",
       "    </tr>\n",
       "    <tr>\n",
       "      <th>7550</th>\n",
       "      <td>9222603179720523844</td>\n",
       "      <td>59</td>\n",
       "    </tr>\n",
       "  </tbody>\n",
       "</table>\n",
       "<p>7550 rows × 2 columns</p>\n",
       "</div>"
      ],
      "text/plain": [
       "           device_id_hash  event_name\n",
       "0        6888746892508752           1\n",
       "1        6909561520679493           5\n",
       "2        6922444491712477          47\n",
       "3        7435777799948366           6\n",
       "4        7702139951469979         137\n",
       "...                   ...         ...\n",
       "7546  9217594193087726423           9\n",
       "7547  9219463515465815368          17\n",
       "7548  9220879493065341500           7\n",
       "7549  9221926045299980007           7\n",
       "7550  9222603179720523844          59\n",
       "\n",
       "[7550 rows x 2 columns]"
      ]
     },
     "execution_count": 29,
     "metadata": {},
     "output_type": "execute_result"
    }
   ],
   "source": [
    "a = research_event[research_event['event_name'] < 2000]\n",
    "a"
   ]
  },
  {
   "cell_type": "code",
   "execution_count": 30,
   "metadata": {},
   "outputs": [
    {
     "data": {
      "text/html": [
       "<div>\n",
       "<style scoped>\n",
       "    .dataframe tbody tr th:only-of-type {\n",
       "        vertical-align: middle;\n",
       "    }\n",
       "\n",
       "    .dataframe tbody tr th {\n",
       "        vertical-align: top;\n",
       "    }\n",
       "\n",
       "    .dataframe thead th {\n",
       "        text-align: right;\n",
       "    }\n",
       "</style>\n",
       "<table border=\"1\" class=\"dataframe\">\n",
       "  <thead>\n",
       "    <tr style=\"text-align: right;\">\n",
       "      <th></th>\n",
       "      <th>device_id_hash</th>\n",
       "      <th>event_name</th>\n",
       "    </tr>\n",
       "  </thead>\n",
       "  <tbody>\n",
       "    <tr>\n",
       "      <th>count</th>\n",
       "      <td>7533.000</td>\n",
       "      <td>7533.000</td>\n",
       "    </tr>\n",
       "    <tr>\n",
       "      <th>mean</th>\n",
       "      <td>4675582907402660864.000</td>\n",
       "      <td>31.671</td>\n",
       "    </tr>\n",
       "    <tr>\n",
       "      <th>std</th>\n",
       "      <td>2655275802871305216.000</td>\n",
       "      <td>59.582</td>\n",
       "    </tr>\n",
       "    <tr>\n",
       "      <th>min</th>\n",
       "      <td>6888746892508752.000</td>\n",
       "      <td>1.000</td>\n",
       "    </tr>\n",
       "    <tr>\n",
       "      <th>25%</th>\n",
       "      <td>2396595853709742080.000</td>\n",
       "      <td>9.000</td>\n",
       "    </tr>\n",
       "    <tr>\n",
       "      <th>50%</th>\n",
       "      <td>4686234251836077056.000</td>\n",
       "      <td>19.000</td>\n",
       "    </tr>\n",
       "    <tr>\n",
       "      <th>75%</th>\n",
       "      <td>7007003297763794944.000</td>\n",
       "      <td>37.000</td>\n",
       "    </tr>\n",
       "    <tr>\n",
       "      <th>max</th>\n",
       "      <td>9222603179720523776.000</td>\n",
       "      <td>1996.000</td>\n",
       "    </tr>\n",
       "  </tbody>\n",
       "</table>\n",
       "</div>"
      ],
      "text/plain": [
       "               device_id_hash  event_name\n",
       "count                7533.000    7533.000\n",
       "mean  4675582907402660864.000      31.671\n",
       "std   2655275802871305216.000      59.582\n",
       "min      6888746892508752.000       1.000\n",
       "25%   2396595853709742080.000       9.000\n",
       "50%   4686234251836077056.000      19.000\n",
       "75%   7007003297763794944.000      37.000\n",
       "max   9222603179720523776.000    1996.000"
      ]
     },
     "execution_count": 30,
     "metadata": {},
     "output_type": "execute_result"
    }
   ],
   "source": [
    "df_clean = df_clean.loc[df_clean['device_id_hash'].isin(a['device_id_hash'])]\n",
    "research_event = df_clean.groupby('device_id_hash')['event_name'].count().reset_index()\n",
    "research_event.describe()"
   ]
  },
  {
   "cell_type": "code",
   "execution_count": 31,
   "metadata": {},
   "outputs": [
    {
     "data": {
      "text/plain": [
       "238580"
      ]
     },
     "execution_count": 31,
     "metadata": {},
     "output_type": "execute_result"
    }
   ],
   "source": [
    "df_clean.shape[0]"
   ]
  },
  {
   "cell_type": "markdown",
   "metadata": {},
   "source": [
    "Посмотрим, сколько событий и пользователей мы потеряли, отбросив данные\n"
   ]
  },
  {
   "cell_type": "code",
   "execution_count": 32,
   "metadata": {},
   "outputs": [
    {
     "name": "stdout",
     "output_type": "stream",
     "text": [
      "БЕЗ ЧИСТКИ: Всего событий 243713, типов событий 5. \n",
      "ПОСЛЕ ЧИСТКИ: Всего событий 238580, типов событий 5. \n",
      "ПОТЕРЯНО СОБЫТИЙ: 5133 событий.\n",
      "ПРОЦЕНТ ПОТЕРЯННЫХ СОБЫТИЙ: 2.11%.\n"
     ]
    }
   ],
   "source": [
    "# Количество событий до и после очистки\n",
    "total_events_before_cleaning = data.shape[0]\n",
    "total_events_after_cleaning = df_clean.shape[0]\n",
    "\n",
    "# Подсчет потерянных событий\n",
    "lost_events = total_events_before_cleaning - total_events_after_cleaning\n",
    "\n",
    "# Расчет процента потерянных событий\n",
    "percentage_lost_events = (lost_events / total_events_before_cleaning * 100)\n",
    "\n",
    "# Вывод информации о потерянных данных по событиям\n",
    "print(f'БЕЗ ЧИСТКИ: Всего событий {total_events_before_cleaning}, типов событий {data[\"event_name\"].nunique()}. ')\n",
    "print(f'ПОСЛЕ ЧИСТКИ: Всего событий {total_events_after_cleaning}, типов событий {df_clean[\"event_name\"].nunique()}. ')\n",
    "print(f'ПОТЕРЯНО СОБЫТИЙ: {lost_events} событий.')\n",
    "print(f'ПРОЦЕНТ ПОТЕРЯННЫХ СОБЫТИЙ: {percentage_lost_events:.2f}%.')"
   ]
  },
  {
   "cell_type": "code",
   "execution_count": 33,
   "metadata": {},
   "outputs": [
    {
     "name": "stdout",
     "output_type": "stream",
     "text": [
      "БЕЗ ЧИСТКИ: Всего пользователей в логе 7551.\n",
      "ПОСЛЕ ЧИСТКИ: Всего пользователей в логе 7533.\n",
      "ПОТЕРЯНО ПОЛЬЗОВАТЕЛЕЙ: 18 пользователей.\n",
      "ПРОЦЕНТ ПОТЕРЯННЫХ ПОЛЬЗОВАТЕЛЕЙ: 0.24%.\n"
     ]
    }
   ],
   "source": [
    "# Количество пользователей до и после очистки\n",
    "total_users_before_cleaning = data['device_id_hash'].nunique()\n",
    "total_users_after_cleaning = df_clean['device_id_hash'].nunique()\n",
    "\n",
    "# Подсчет потерянных пользователей\n",
    "lost_users = total_users_before_cleaning - total_users_after_cleaning\n",
    "\n",
    "# Расчет процента потерянных пользователей\n",
    "percentage_lost_users = (lost_users / total_users_before_cleaning * 100)\n",
    "\n",
    "# Вывод информации о потерянных данных по пользователям\n",
    "print(f\"БЕЗ ЧИСТКИ: Всего пользователей в логе {data['device_id_hash'].nunique()}.\")\n",
    "print(f\"ПОСЛЕ ЧИСТКИ: Всего пользователей в логе {df_clean['device_id_hash'].nunique()}.\")\n",
    "print(f\"ПОТЕРЯНО ПОЛЬЗОВАТЕЛЕЙ: {lost_users} пользователей.\")\n",
    "print(f\"ПРОЦЕНТ ПОТЕРЯННЫХ ПОЛЬЗОВАТЕЛЕЙ: {percentage_lost_users:.2f}%.\")"
   ]
  },
  {
   "cell_type": "code",
   "execution_count": 34,
   "metadata": {},
   "outputs": [
    {
     "name": "stdout",
     "output_type": "stream",
     "text": [
      "БЕЗ ЧИСТКИ: В среднем событий на пользователя 32.28.\n",
      "ПОСЛЕ ЧИСТКИ: В среднем событий на пользователя 31.67.\n",
      "ПОТЕРЯ СРЕДНЕГО КОЛИЧЕСТВА СОБЫТИЙ НА ПОЛЬЗОВАТЕЛЯ: 0.60.\n",
      "ПРОЦЕНТ ПОТЕРИ СРЕДНЕГО КОЛИЧЕСТВА СОБЫТИЙ НА ПОЛЬЗОВАТЕЛЯ: 1.87%.\n"
     ]
    }
   ],
   "source": [
    "# Среднее количество событий на пользователя до и после очистки\n",
    "avg_events_per_user_before = data.shape[0] / data['device_id_hash'].nunique()\n",
    "avg_events_per_user_after = df_clean.shape[0] / df_clean['device_id_hash'].nunique()\n",
    "\n",
    "\n",
    "absolute_change_avg_events = avg_events_per_user_before - avg_events_per_user_after\n",
    "\n",
    "# Относительное изменение среднего количества событий на пользователя в процентах\n",
    "percentage_change_avg_events = (absolute_change_avg_events / avg_events_per_user_before * 100)\n",
    "\n",
    "# Вывод информации об абсолютных и относительных потерях\n",
    "print(f\"БЕЗ ЧИСТКИ: В среднем событий на пользователя {avg_events_per_user_before:.2f}.\")\n",
    "print(f\"ПОСЛЕ ЧИСТКИ: В среднем событий на пользователя {avg_events_per_user_after:.2f}.\")\n",
    "print(f\"ПОТЕРЯ СРЕДНЕГО КОЛИЧЕСТВА СОБЫТИЙ НА ПОЛЬЗОВАТЕЛЯ: {absolute_change_avg_events:.2f}.\")\n",
    "print(f\"ПРОЦЕНТ ПОТЕРИ СРЕДНЕГО КОЛИЧЕСТВА СОБЫТИЙ НА ПОЛЬЗОВАТЕЛЯ: {percentage_change_avg_events:.2f}%.\")\n",
    "\n"
   ]
  },
  {
   "cell_type": "markdown",
   "metadata": {},
   "source": [
    "Максимум 2%, это приемлемый процент потери данных"
   ]
  },
  {
   "cell_type": "code",
   "execution_count": 35,
   "metadata": {},
   "outputs": [
    {
     "name": "stdout",
     "output_type": "stream",
     "text": [
      "        device_id_hash\n",
      "exp_id                \n",
      "246               2484\n",
      "247               2513\n",
      "248               2536\n"
     ]
    }
   ],
   "source": [
    "# Проверим, есть ли у нас пользователи из всех трёх экспериментальных групп.\n",
    "print(df_clean.groupby('exp_id').agg({'device_id_hash': 'nunique'}))"
   ]
  },
  {
   "cell_type": "markdown",
   "metadata": {},
   "source": [
    "Пользователи есть в трех группах и их количество примерно одинаково"
   ]
  },
  {
   "cell_type": "markdown",
   "metadata": {},
   "source": [
    "## Изучаем воронку событий"
   ]
  },
  {
   "cell_type": "markdown",
   "metadata": {},
   "source": [
    "Посмотрим, какие события есть в логах, как часто они встречаются. Отсортируем события по частоте."
   ]
  },
  {
   "cell_type": "code",
   "execution_count": 36,
   "metadata": {},
   "outputs": [
    {
     "data": {
      "text/plain": [
       "event_name\n",
       "Tutorial                     1005\n",
       "PaymentScreenSuccessful     32833\n",
       "CartScreenAppear            41203\n",
       "OffersScreenAppear          46257\n",
       "MainScreenAppear           117282\n",
       "Name: event_time_stamp, dtype: int64"
      ]
     },
     "execution_count": 36,
     "metadata": {},
     "output_type": "execute_result"
    }
   ],
   "source": [
    "event_name_count = df_clean.groupby('event_name')['event_time_stamp'].count().sort_values()\n",
    "event_name_count.head()"
   ]
  },
  {
   "cell_type": "markdown",
   "metadata": {},
   "source": [
    "Всего 5 событий, перечислим по мере встречаемости:\n",
    "\n",
    "1. 'MainScreenAppear' - Окно главной страницы сайта\n",
    "2. 'OffersScreenAppear' - Окно предложений\n",
    "3. 'CartScreenAppear' - Окно корзины\n",
    "4. 'PaymentScreenSuccessful' - Окно \"Оплата прошла успешно\"\n",
    "5. 'Tutorial' - Учебное пособие\n",
    " "
   ]
  },
  {
   "cell_type": "markdown",
   "metadata": {},
   "source": [
    "Посчитайте, сколько пользователей совершали каждое из этих событий. Отсортируйте события по числу пользователей. Посчитайте долю пользователей, которые хоть раз совершали событие"
   ]
  },
  {
   "cell_type": "code",
   "execution_count": 37,
   "metadata": {},
   "outputs": [
    {
     "data": {
      "text/plain": [
       "event_name\n",
       "Tutorial                    840\n",
       "PaymentScreenSuccessful    3538\n",
       "CartScreenAppear           3733\n",
       "OffersScreenAppear         4592\n",
       "MainScreenAppear           7418\n",
       "Name: device_id_hash, dtype: int64"
      ]
     },
     "execution_count": 37,
     "metadata": {},
     "output_type": "execute_result"
    }
   ],
   "source": [
    "users_per_event = df_clean.groupby('event_name')['device_id_hash'].nunique().sort_values()\n",
    "users_per_event"
   ]
  },
  {
   "cell_type": "code",
   "execution_count": 38,
   "metadata": {},
   "outputs": [
    {
     "data": {
      "text/plain": [
       "event_name\n",
       "Tutorial                  0.112\n",
       "PaymentScreenSuccessful   0.470\n",
       "CartScreenAppear          0.496\n",
       "OffersScreenAppear        0.610\n",
       "MainScreenAppear          0.985\n",
       "Name: device_id_hash, dtype: float64"
      ]
     },
     "execution_count": 38,
     "metadata": {},
     "output_type": "execute_result"
    }
   ],
   "source": [
    "# Доля пользователей, совершивших каждое событие\n",
    "user_share_per_event = users_per_event / df_clean['device_id_hash'].nunique()\n",
    "user_share_per_event"
   ]
  },
  {
   "cell_type": "markdown",
   "metadata": {},
   "source": [
    "Теперь расположим по убыванию количествыа пользователей:\n",
    "\n",
    "1. 'MainScreenAppear' - Окно главной страницы сайта\n",
    "2. 'OffersScreenAppear' - Окно предложений\n",
    "3. 'CartScreenAppear' - Окно корзины\n",
    "4. 'PaymentScreenSuccessful' - Окно \"Оплата прошла успешно\"\n",
    "5. 'Tutorial' - Учебное пособие\n",
    "    \n",
    "Я предпологаю, что так и будет выглядеть воронка, кроме  последнего события. К инструкции пользователь может перейти на любом этапе, когда ему что то не понятно   "
   ]
  },
  {
   "cell_type": "markdown",
   "metadata": {},
   "source": [
    "По воронке событий посчитаем, какая доля пользователей проходит на следующий шаг воронки (от числа пользователей на предыдущем)."
   ]
  },
  {
   "cell_type": "code",
   "execution_count": 39,
   "metadata": {},
   "outputs": [
    {
     "data": {
      "text/html": [
       "<div>\n",
       "<style scoped>\n",
       "    .dataframe tbody tr th:only-of-type {\n",
       "        vertical-align: middle;\n",
       "    }\n",
       "\n",
       "    .dataframe tbody tr th {\n",
       "        vertical-align: top;\n",
       "    }\n",
       "\n",
       "    .dataframe thead th {\n",
       "        text-align: right;\n",
       "    }\n",
       "</style>\n",
       "<table border=\"1\" class=\"dataframe\">\n",
       "  <thead>\n",
       "    <tr style=\"text-align: right;\">\n",
       "      <th></th>\n",
       "      <th>event_name</th>\n",
       "      <th>users_count</th>\n",
       "      <th>%</th>\n",
       "      <th>funnel</th>\n",
       "    </tr>\n",
       "  </thead>\n",
       "  <tbody>\n",
       "    <tr>\n",
       "      <th>0</th>\n",
       "      <td>MainScreenAppear</td>\n",
       "      <td>7418</td>\n",
       "      <td>0.985</td>\n",
       "      <td>1.000</td>\n",
       "    </tr>\n",
       "    <tr>\n",
       "      <th>1</th>\n",
       "      <td>OffersScreenAppear</td>\n",
       "      <td>4592</td>\n",
       "      <td>0.610</td>\n",
       "      <td>0.619</td>\n",
       "    </tr>\n",
       "    <tr>\n",
       "      <th>2</th>\n",
       "      <td>CartScreenAppear</td>\n",
       "      <td>3733</td>\n",
       "      <td>0.496</td>\n",
       "      <td>0.813</td>\n",
       "    </tr>\n",
       "    <tr>\n",
       "      <th>3</th>\n",
       "      <td>PaymentScreenSuccessful</td>\n",
       "      <td>3538</td>\n",
       "      <td>0.470</td>\n",
       "      <td>0.948</td>\n",
       "    </tr>\n",
       "    <tr>\n",
       "      <th>4</th>\n",
       "      <td>Tutorial</td>\n",
       "      <td>840</td>\n",
       "      <td>0.112</td>\n",
       "      <td>1.000</td>\n",
       "    </tr>\n",
       "  </tbody>\n",
       "</table>\n",
       "</div>"
      ],
      "text/plain": [
       "                event_name  users_count     %  funnel\n",
       "0         MainScreenAppear         7418 0.985   1.000\n",
       "1       OffersScreenAppear         4592 0.610   0.619\n",
       "2         CartScreenAppear         3733 0.496   0.813\n",
       "3  PaymentScreenSuccessful         3538 0.470   0.948\n",
       "4                 Tutorial          840 0.112   1.000"
      ]
     },
     "execution_count": 39,
     "metadata": {},
     "output_type": "execute_result"
    }
   ],
   "source": [
    " # сгруппируем таблицу по событиям\n",
    "event_users = df_clean.groupby('event_name').agg({'device_id_hash':'nunique'}).reset_index()\n",
    "event_users.set_axis(['event_name', 'users_count'], axis='columns', inplace=True)\n",
    "\n",
    "# добавитим столбец - какая доля уникальных пользователей совершала это событие\n",
    "event_users['%'] = event_users.users_count / df_clean['device_id_hash'].nunique()\n",
    "event_users = event_users.sort_values('users_count', ascending=False).reset_index(drop=True)\n",
    "\n",
    "# построим воронку\n",
    "event_users['funnel'] = 1\n",
    "for i in range(1, 4):\n",
    "    event_users.loc[i, 'funnel'] = event_users.loc[i, 'users_count'] /  (event_users.loc[i-1, 'users_count'])\n",
    "\n",
    "event_users"
   ]
  },
  {
   "cell_type": "code",
   "execution_count": 40,
   "metadata": {},
   "outputs": [
    {
     "data": {
      "image/png": "[encoded data removed]",
      "text/plain": [
       "<Figure size 1080x504 with 1 Axes>"
      ]
     },
     "metadata": {
      "needs_background": "light"
     },
     "output_type": "display_data"
    }
   ],
   "source": [
    "plt.figure(figsize=(15, 7))\n",
    "sns.barplot(data=event_users.loc[0:3], x='event_name', y='users_count', palette='crest')\n",
    "plt.title('Движение пользователей по приложению')\n",
    "plt.xlabel('События')\n",
    "plt.ylabel('Количество пользователей')\n",
    "plt.show()"
   ]
  },
  {
   "cell_type": "markdown",
   "metadata": {},
   "source": [
    "Мы видим, что большая часть пользователей теряется на этапе перехода с основной страницу, на страницу с предложением, около 40%. Дальше по ворнке пользователи идут более менее плавно. Оплату совершили 47% пользователей"
   ]
  },
  {
   "cell_type": "markdown",
   "metadata": {},
   "source": [
    "## Изучим результаты эксперимента"
   ]
  },
  {
   "cell_type": "code",
   "execution_count": 41,
   "metadata": {},
   "outputs": [
    {
     "data": {
      "text/plain": [
       "exp_id\n",
       "246    2484\n",
       "247    2513\n",
       "248    2536\n",
       "Name: device_id_hash, dtype: int64"
      ]
     },
     "execution_count": 41,
     "metadata": {},
     "output_type": "execute_result"
    }
   ],
   "source": [
    "users = df_clean.groupby('exp_id')['device_id_hash'].nunique()\n",
    "users"
   ]
  },
  {
   "cell_type": "markdown",
   "metadata": {},
   "source": [
    "Пользователей разбили на 3 группы: 2 контрольные со старыми шрифтами ( 246 - 2483 пользователя, 247 - 2513 пользователей) и одну экспериментальную — с новыми ( группа 248 - 2536 пользователя)"
   ]
  },
  {
   "cell_type": "markdown",
   "metadata": {},
   "source": [
    "Проверим корректность всех механизмов и расчётов. Находят ли статистические критерии разницу между выборками 246 и 247."
   ]
  },
  {
   "cell_type": "markdown",
   "metadata": {},
   "source": [
    "Критерии успешного A/A теста:\n",
    " - Количество пользователей в различных группах различается не более, чем на 1%;\n",
    " - Для всех групп фиксируют и отправляют в системы аналитики данные об одном и том же;\n",
    " - Различие ключевых метрик по группам не превышает 1% и не имеет статистической значимости;\n",
    " - Попавший в одну из групп посетитель остаётся в этой группе до конца теста."
   ]
  },
  {
   "cell_type": "code",
   "execution_count": 42,
   "metadata": {},
   "outputs": [
    {
     "name": "stdout",
     "output_type": "stream",
     "text": [
      "Разница между группой 246 и 247 составляет 1.15%\n",
      "Разница между группой 247 и 248 составляет 0.91%\n",
      "Разница между группой 248 и 246 составляет -2.09%\n"
     ]
    }
   ],
   "source": [
    "# разница в количестве пользователей\n",
    "for i in range(0, 3):\n",
    "    gr_list = [246, 247, 248, 246]\n",
    "    print(f'Разница между группой {gr_list[i]} и {gr_list[i+1]} составляет {1 - df_clean.query(\"exp_id == @gr_list[@i]\")[\"device_id_hash\"].nunique() / df_clean.query(\"exp_id == @gr_list[@i+1]\")[\"device_id_hash\"].nunique():.2%}')"
   ]
  },
  {
   "cell_type": "markdown",
   "metadata": {},
   "source": [
    "Процент примерно одинаковый."
   ]
  },
  {
   "cell_type": "code",
   "execution_count": 43,
   "metadata": {},
   "outputs": [
    {
     "data": {
      "text/plain": [
       "0"
      ]
     },
     "execution_count": 43,
     "metadata": {},
     "output_type": "execute_result"
    }
   ],
   "source": [
    "# распределение пользователей по группам\n",
    "len(df_clean.groupby('device_id_hash')['exp_id'].nunique().reset_index().query('exp_id > 1'))"
   ]
  },
  {
   "cell_type": "markdown",
   "metadata": {},
   "source": [
    "Попавший в одну из групп посетитель остаётся в этой группе до конца теста.( общих нет)"
   ]
  },
  {
   "cell_type": "markdown",
   "metadata": {},
   "source": [
    "Проверим различие ключевых метрик. Для каждого события подсчитаем, какая доля пользователей в каждой группе его совершила, и проверим, является ли отличие между группами статистически достоверным."
   ]
  },
  {
   "cell_type": "code",
   "execution_count": 44,
   "metadata": {},
   "outputs": [
    {
     "data": {
      "text/html": [
       "<div>\n",
       "<style scoped>\n",
       "    .dataframe tbody tr th:only-of-type {\n",
       "        vertical-align: middle;\n",
       "    }\n",
       "\n",
       "    .dataframe tbody tr th {\n",
       "        vertical-align: top;\n",
       "    }\n",
       "\n",
       "    .dataframe thead th {\n",
       "        text-align: right;\n",
       "    }\n",
       "</style>\n",
       "<table border=\"1\" class=\"dataframe\">\n",
       "  <thead>\n",
       "    <tr style=\"text-align: right;\">\n",
       "      <th>exp_id</th>\n",
       "      <th>246</th>\n",
       "      <th>247</th>\n",
       "      <th>248</th>\n",
       "      <th>246+247</th>\n",
       "    </tr>\n",
       "    <tr>\n",
       "      <th>event_name</th>\n",
       "      <th></th>\n",
       "      <th></th>\n",
       "      <th></th>\n",
       "      <th></th>\n",
       "    </tr>\n",
       "  </thead>\n",
       "  <tbody>\n",
       "    <tr>\n",
       "      <th>MainScreenAppear</th>\n",
       "      <td>2450</td>\n",
       "      <td>2476</td>\n",
       "      <td>2492</td>\n",
       "      <td>4926</td>\n",
       "    </tr>\n",
       "    <tr>\n",
       "      <th>OffersScreenAppear</th>\n",
       "      <td>1542</td>\n",
       "      <td>1520</td>\n",
       "      <td>1530</td>\n",
       "      <td>3062</td>\n",
       "    </tr>\n",
       "    <tr>\n",
       "      <th>CartScreenAppear</th>\n",
       "      <td>1266</td>\n",
       "      <td>1238</td>\n",
       "      <td>1229</td>\n",
       "      <td>2504</td>\n",
       "    </tr>\n",
       "    <tr>\n",
       "      <th>PaymentScreenSuccessful</th>\n",
       "      <td>1200</td>\n",
       "      <td>1158</td>\n",
       "      <td>1180</td>\n",
       "      <td>2358</td>\n",
       "    </tr>\n",
       "  </tbody>\n",
       "</table>\n",
       "</div>"
      ],
      "text/plain": [
       "exp_id                    246   247   248  246+247\n",
       "event_name                                        \n",
       "MainScreenAppear         2450  2476  2492     4926\n",
       "OffersScreenAppear       1542  1520  1530     3062\n",
       "CartScreenAppear         1266  1238  1229     2504\n",
       "PaymentScreenSuccessful  1200  1158  1180     2358"
      ]
     },
     "execution_count": 44,
     "metadata": {},
     "output_type": "execute_result"
    }
   ],
   "source": [
    "all_funnels = df_clean.pivot_table(index='event_name', columns='exp_id',values='device_id_hash',aggfunc='nunique')\\\n",
    "                       .sort_values(246,ascending=False)\n",
    "all_funnels['246+247'] = all_funnels[246] + all_funnels[247]\n",
    "all_funnels.drop(['Tutorial'], inplace=True)\n",
    "all_funnels"
   ]
  },
  {
   "cell_type": "code",
   "execution_count": 45,
   "metadata": {},
   "outputs": [],
   "source": [
    "users = users.to_frame().reset_index()\n",
    "users.loc[3] = ['246+247', 4997]"
   ]
  },
  {
   "cell_type": "code",
   "execution_count": 46,
   "metadata": {},
   "outputs": [
    {
     "data": {
      "text/html": [
       "<div>\n",
       "<style scoped>\n",
       "    .dataframe tbody tr th:only-of-type {\n",
       "        vertical-align: middle;\n",
       "    }\n",
       "\n",
       "    .dataframe tbody tr th {\n",
       "        vertical-align: top;\n",
       "    }\n",
       "\n",
       "    .dataframe thead th {\n",
       "        text-align: right;\n",
       "    }\n",
       "</style>\n",
       "<table border=\"1\" class=\"dataframe\">\n",
       "  <thead>\n",
       "    <tr style=\"text-align: right;\">\n",
       "      <th></th>\n",
       "      <th>device_id_hash</th>\n",
       "    </tr>\n",
       "    <tr>\n",
       "      <th>exp_id</th>\n",
       "      <th></th>\n",
       "    </tr>\n",
       "  </thead>\n",
       "  <tbody>\n",
       "    <tr>\n",
       "      <th>246</th>\n",
       "      <td>2484</td>\n",
       "    </tr>\n",
       "    <tr>\n",
       "      <th>247</th>\n",
       "      <td>2513</td>\n",
       "    </tr>\n",
       "    <tr>\n",
       "      <th>248</th>\n",
       "      <td>2536</td>\n",
       "    </tr>\n",
       "    <tr>\n",
       "      <th>246+247</th>\n",
       "      <td>4997</td>\n",
       "    </tr>\n",
       "  </tbody>\n",
       "</table>\n",
       "</div>"
      ],
      "text/plain": [
       "         device_id_hash\n",
       "exp_id                 \n",
       "246                2484\n",
       "247                2513\n",
       "248                2536\n",
       "246+247            4997"
      ]
     },
     "execution_count": 46,
     "metadata": {},
     "output_type": "execute_result"
    }
   ],
   "source": [
    "users = users.set_index(users.columns[0])\n",
    "users"
   ]
  },
  {
   "cell_type": "code",
   "execution_count": 47,
   "metadata": {},
   "outputs": [],
   "source": [
    "# Воспользуемся Z-критерием\n",
    "def z_test(exp1, exp2, event, alpha): \n",
    "    p1_ev = all_funnels.loc[event, exp1]\n",
    "    p2_ev = all_funnels.loc[event, exp2] \n",
    "    p1_us = users.loc[exp1, 'device_id_hash'] \n",
    "    p2_us = users.loc[exp2, 'device_id_hash'] \n",
    "    p1 = p1_ev / p1_us \n",
    "    p2 = p2_ev / p2_us \n",
    "    difference = p1 - p2\n",
    "    p_combined = (p1_ev + p2_ev) / (p1_us + p2_us) \n",
    "    z_value = difference / mth.sqrt(p_combined * (1 - p_combined) * (1 / p1_us + 1 / p2_us))\n",
    "    distr = stats.norm(0, 1)\n",
    "    p_value = (1 - distr.cdf(abs(z_value))) * 2\n",
    "    print('Проверка для  {} и {}, событие: {}, p-значение: {p_value:.2f}'.format(exp1, exp2, event, p_value=p_value))\n",
    "    if (p_value < alpha):\n",
    "        print(\"Отвергаем нулевую гипотезу\")\n",
    "    else:\n",
    "        print(\"Не получилось отвергнуть нулевую гипотезу\")"
   ]
  },
  {
   "cell_type": "markdown",
   "metadata": {},
   "source": [
    "Сформулируем гипотезу:\n",
    "\n",
    "Гипотеза H0: между долями нет значимой разницы\n",
    "\n",
    "Гипотеза H1: между долями есть значимая разница\n",
    "\n",
    "Критический уровень статистической значимости = 0,05"
   ]
  },
  {
   "cell_type": "code",
   "execution_count": 48,
   "metadata": {},
   "outputs": [
    {
     "name": "stdout",
     "output_type": "stream",
     "text": [
      "Проверка для  246 и 247, событие: MainScreenAppear, p-значение: 0.76\n",
      "Не получилось отвергнуть нулевую гипотезу\n",
      "\n",
      "Проверка для  246 и 247, событие: OffersScreenAppear, p-значение: 0.25\n",
      "Не получилось отвергнуть нулевую гипотезу\n",
      "\n",
      "Проверка для  246 и 247, событие: CartScreenAppear, p-значение: 0.23\n",
      "Не получилось отвергнуть нулевую гипотезу\n",
      "\n",
      "Проверка для  246 и 247, событие: PaymentScreenSuccessful, p-значение: 0.11\n",
      "Не получилось отвергнуть нулевую гипотезу\n",
      "\n"
     ]
    }
   ],
   "source": [
    "for event in all_funnels.index:\n",
    "    z_test(246, 247, event, 0.05)\n",
    "    print()"
   ]
  },
  {
   "cell_type": "code",
   "execution_count": 49,
   "metadata": {},
   "outputs": [
    {
     "name": "stdout",
     "output_type": "stream",
     "text": [
      "Проверка для  246 и 248, событие: MainScreenAppear, p-значение: 0.29\n",
      "Не получилось отвергнуть нулевую гипотезу\n",
      "\n",
      "Проверка для  246 и 248, событие: OffersScreenAppear, p-значение: 0.20\n",
      "Не получилось отвергнуть нулевую гипотезу\n",
      "\n",
      "Проверка для  246 и 248, событие: CartScreenAppear, p-значение: 0.08\n",
      "Не получилось отвергнуть нулевую гипотезу\n",
      "\n",
      "Проверка для  246 и 248, событие: PaymentScreenSuccessful, p-значение: 0.21\n",
      "Не получилось отвергнуть нулевую гипотезу\n",
      "\n"
     ]
    }
   ],
   "source": [
    "for event in all_funnels.index:\n",
    "    z_test(246, 248, event, 0.05)\n",
    "    print()"
   ]
  },
  {
   "cell_type": "code",
   "execution_count": 50,
   "metadata": {},
   "outputs": [
    {
     "name": "stdout",
     "output_type": "stream",
     "text": [
      "Проверка для  246+247 и 248, событие: MainScreenAppear, p-значение: 0.29\n",
      "Не получилось отвергнуть нулевую гипотезу\n",
      "\n",
      "Проверка для  246+247 и 248, событие: OffersScreenAppear, p-значение: 0.43\n",
      "Не получилось отвергнуть нулевую гипотезу\n",
      "\n",
      "Проверка для  246+247 и 248, событие: CartScreenAppear, p-значение: 0.18\n",
      "Не получилось отвергнуть нулевую гипотезу\n",
      "\n",
      "Проверка для  246+247 и 248, событие: PaymentScreenSuccessful, p-значение: 0.59\n",
      "Не получилось отвергнуть нулевую гипотезу\n",
      "\n"
     ]
    }
   ],
   "source": [
    "for event in all_funnels.index:\n",
    "    z_test('246+247', 248, event, 0.05)\n",
    "    print()"
   ]
  },
  {
   "cell_type": "markdown",
   "metadata": {},
   "source": [
    "При проверки мы увидели, что отвергнуть нулевую гипотизу не получилось.\n",
    "\n",
    "Это значит, что между группами нет значимой разницы"
   ]
  },
  {
   "cell_type": "markdown",
   "metadata": {},
   "source": [
    "Посчитаем, сколько проверок статистических гипотез мы сделали.Какой уровень значимости стоит применить?"
   ]
  },
  {
   "cell_type": "markdown",
   "metadata": {},
   "source": [
    "Критический уровень статистической значимости = 0,05\n",
    "В итоге мы сделали 4 AA теста и 12 AB теста"
   ]
  },
  {
   "cell_type": "code",
   "execution_count": 51,
   "metadata": {},
   "outputs": [
    {
     "name": "stdout",
     "output_type": "stream",
     "text": [
      "    m  alpha  alpha_bonf  fwer_bonf\n",
      "0  16  0.050       0.003      0.049\n"
     ]
    }
   ],
   "source": [
    "# Создаем DataFrame \n",
    "report = pd.DataFrame(index=[0])\n",
    "report['m'] = 16  # число тестов\n",
    "report['alpha'] = 0.05  # исходный уровень значимости\n",
    "\n",
    "# Считаем поправку Бонферрони\n",
    "report['alpha_bonf'] = report['alpha'] / report['m']  # расчёт откорректированного уровня значимости\n",
    "\n",
    "# Считаем FWER по методу Бонферрони\n",
    "report['fwer_bonf'] = 1 - (1 - report['alpha_bonf']) ** report['m']  # расчёт Family-Wise Error Rate\n",
    "\n",
    "# Выводим результаты\n",
    "print(report)"
   ]
  },
  {
   "cell_type": "markdown",
   "metadata": {},
   "source": [
    "Для коррекции уровня значимости мы использовали Метод Бонферрони, он показал, что a =  0.003. Но это не приведет изменениям в оценки гипотизы, так как самое меньшее p-значение: 0.08, что уже больше 0,05. \n",
    "\n",
    "Следовательно, нулевую гипотезу не удалось отвергнуть, и шрифт не влияет на взаимодействие пользователя с приложением"
   ]
  },
  {
   "cell_type": "markdown",
   "metadata": {},
   "source": [
    "Вывод\n",
    "\n",
    "В ходе исследования мобильного приложения магазина продуктов мы проанализировали данные, полученные в эксперименте. Нулевая гипотеза, предполагающая, что выбранный шрифт не влияет на взаимодействие пользователей, не была опровергнута, что может означать, что новый шрифт также удобен, как и старый."
   ]
  }
 ],
 "metadata": {
  "ExecuteTimeLog": [
   {
    "duration": 1273,
    "start_time": "2024-11-05T02:50:30.224Z"
   },
   {
    "duration": 881,
    "start_time": "2024-11-05T02:51:33.141Z"
   },
   {
    "duration": 304,
    "start_time": "2024-11-05T02:51:40.812Z"
   },
   {
    "duration": 66,
    "start_time": "2024-11-05T03:00:07.782Z"
   },
   {
    "duration": 276,
    "start_time": "2024-11-05T03:01:16.822Z"
   },
   {
    "duration": 64,
    "start_time": "2024-11-05T03:01:45.399Z"
   },
   {
    "duration": 278,
    "start_time": "2024-11-05T03:03:20.558Z"
   },
   {
    "duration": 144,
    "start_time": "2024-11-05T03:04:51.245Z"
   },
   {
    "duration": 226,
    "start_time": "2024-11-05T03:05:01.958Z"
   },
   {
    "duration": 150,
    "start_time": "2024-11-05T03:05:11.081Z"
   },
   {
    "duration": 141,
    "start_time": "2024-11-05T03:05:16.938Z"
   },
   {
    "duration": 7,
    "start_time": "2024-11-05T03:05:48.266Z"
   },
   {
    "duration": 143,
    "start_time": "2024-11-05T03:06:03.645Z"
   },
   {
    "duration": 2,
    "start_time": "2024-11-05T03:06:04.355Z"
   },
   {
    "duration": 7,
    "start_time": "2024-11-05T03:07:40.249Z"
   },
   {
    "duration": 73,
    "start_time": "2024-11-05T03:08:43.930Z"
   },
   {
    "duration": 259,
    "start_time": "2024-11-05T04:20:04.309Z"
   },
   {
    "duration": 251,
    "start_time": "2024-11-05T04:28:07.978Z"
   },
   {
    "duration": 251,
    "start_time": "2024-11-05T04:28:37.219Z"
   },
   {
    "duration": 254,
    "start_time": "2024-11-05T04:29:29.252Z"
   },
   {
    "duration": 1071,
    "start_time": "2024-11-05T04:29:36.505Z"
   },
   {
    "duration": 146,
    "start_time": "2024-11-05T04:29:37.578Z"
   },
   {
    "duration": 82,
    "start_time": "2024-11-05T04:29:37.726Z"
   },
   {
    "duration": 25,
    "start_time": "2024-11-05T04:29:37.809Z"
   },
   {
    "duration": 323,
    "start_time": "2024-11-05T04:33:57.537Z"
   },
   {
    "duration": 268,
    "start_time": "2024-11-05T04:34:11.598Z"
   },
   {
    "duration": 24,
    "start_time": "2024-11-05T04:34:31.726Z"
   },
   {
    "duration": 1043,
    "start_time": "2024-11-05T04:34:37.661Z"
   },
   {
    "duration": 155,
    "start_time": "2024-11-05T04:34:38.706Z"
   },
   {
    "duration": 14,
    "start_time": "2024-11-05T04:34:38.862Z"
   },
   {
    "duration": 23,
    "start_time": "2024-11-05T04:34:38.878Z"
   },
   {
    "duration": 7,
    "start_time": "2024-11-05T04:35:09.562Z"
   },
   {
    "duration": 30,
    "start_time": "2024-11-05T04:36:39.106Z"
   },
   {
    "duration": 45,
    "start_time": "2024-11-05T04:36:47.591Z"
   },
   {
    "duration": 117,
    "start_time": "2024-11-05T04:36:57.940Z"
   },
   {
    "duration": 39,
    "start_time": "2024-11-05T04:37:15.016Z"
   },
   {
    "duration": 521,
    "start_time": "2024-11-05T04:42:02.820Z"
   },
   {
    "duration": 16,
    "start_time": "2024-11-05T04:42:42.131Z"
   },
   {
    "duration": 13,
    "start_time": "2024-11-05T04:42:58.081Z"
   },
   {
    "duration": 14,
    "start_time": "2024-11-05T04:43:06.328Z"
   },
   {
    "duration": 1092,
    "start_time": "2024-11-05T04:43:15.211Z"
   },
   {
    "duration": 157,
    "start_time": "2024-11-05T04:43:16.304Z"
   },
   {
    "duration": 15,
    "start_time": "2024-11-05T04:43:16.462Z"
   },
   {
    "duration": 22,
    "start_time": "2024-11-05T04:43:16.479Z"
   },
   {
    "duration": 48,
    "start_time": "2024-11-05T04:43:16.502Z"
   },
   {
    "duration": 20,
    "start_time": "2024-11-05T04:43:16.551Z"
   },
   {
    "duration": 16,
    "start_time": "2024-11-05T04:43:34.565Z"
   },
   {
    "duration": 1436,
    "start_time": "2024-11-05T04:45:29.058Z"
   },
   {
    "duration": 1001,
    "start_time": "2024-11-05T04:45:39.486Z"
   },
   {
    "duration": 152,
    "start_time": "2024-11-05T04:45:40.488Z"
   },
   {
    "duration": 14,
    "start_time": "2024-11-05T04:45:40.641Z"
   },
   {
    "duration": 7,
    "start_time": "2024-11-05T04:45:40.657Z"
   },
   {
    "duration": 25,
    "start_time": "2024-11-05T04:45:40.665Z"
   },
   {
    "duration": 27,
    "start_time": "2024-11-05T04:45:40.691Z"
   },
   {
    "duration": 117,
    "start_time": "2024-11-05T04:48:28.464Z"
   },
   {
    "duration": 15,
    "start_time": "2024-11-05T04:48:33.703Z"
   },
   {
    "duration": 15,
    "start_time": "2024-11-05T04:48:46.860Z"
   },
   {
    "duration": 18,
    "start_time": "2024-11-05T04:48:59.269Z"
   },
   {
    "duration": 958,
    "start_time": "2024-11-05T04:54:35.852Z"
   },
   {
    "duration": 1040,
    "start_time": "2024-11-05T04:55:05.604Z"
   },
   {
    "duration": 2,
    "start_time": "2024-11-05T04:56:38.177Z"
   },
   {
    "duration": 3,
    "start_time": "2024-11-05T04:56:46.319Z"
   },
   {
    "duration": 25,
    "start_time": "2024-11-05T04:57:00.264Z"
   },
   {
    "duration": 9,
    "start_time": "2024-11-05T04:57:32.842Z"
   },
   {
    "duration": 9,
    "start_time": "2024-11-05T04:59:09.167Z"
   },
   {
    "duration": 26,
    "start_time": "2024-11-05T04:59:20.747Z"
   },
   {
    "duration": 35,
    "start_time": "2024-11-05T05:00:06.672Z"
   },
   {
    "duration": 43,
    "start_time": "2024-11-05T05:00:38.217Z"
   },
   {
    "duration": 11,
    "start_time": "2024-11-05T05:15:48.146Z"
   },
   {
    "duration": 3,
    "start_time": "2024-11-05T05:16:31.152Z"
   },
   {
    "duration": 4,
    "start_time": "2024-11-05T05:16:45.209Z"
   },
   {
    "duration": 36,
    "start_time": "2024-11-05T05:17:04.514Z"
   },
   {
    "duration": 1032,
    "start_time": "2024-11-05T05:23:10.258Z"
   },
   {
    "duration": 151,
    "start_time": "2024-11-05T05:23:11.292Z"
   },
   {
    "duration": 13,
    "start_time": "2024-11-05T05:23:11.445Z"
   },
   {
    "duration": 6,
    "start_time": "2024-11-05T05:23:11.460Z"
   },
   {
    "duration": 22,
    "start_time": "2024-11-05T05:23:11.468Z"
   },
   {
    "duration": 22,
    "start_time": "2024-11-05T05:23:11.492Z"
   },
   {
    "duration": 61,
    "start_time": "2024-11-05T05:23:11.516Z"
   },
   {
    "duration": 4,
    "start_time": "2024-11-05T05:23:11.579Z"
   },
   {
    "duration": 64,
    "start_time": "2024-11-05T05:23:11.584Z"
   },
   {
    "duration": 9,
    "start_time": "2024-11-05T05:23:11.650Z"
   },
   {
    "duration": 52,
    "start_time": "2024-11-05T05:23:11.660Z"
   },
   {
    "duration": 181,
    "start_time": "2024-11-05T05:23:11.714Z"
   },
   {
    "duration": 40,
    "start_time": "2024-11-05T05:26:08.153Z"
   },
   {
    "duration": 41,
    "start_time": "2024-11-05T05:26:17.484Z"
   },
   {
    "duration": 26,
    "start_time": "2024-11-05T05:27:54.815Z"
   },
   {
    "duration": 37,
    "start_time": "2024-11-05T05:28:06.069Z"
   },
   {
    "duration": 1043,
    "start_time": "2024-11-05T05:28:25.556Z"
   },
   {
    "duration": 153,
    "start_time": "2024-11-05T05:28:26.601Z"
   },
   {
    "duration": 14,
    "start_time": "2024-11-05T05:28:26.756Z"
   },
   {
    "duration": 18,
    "start_time": "2024-11-05T05:28:26.771Z"
   },
   {
    "duration": 30,
    "start_time": "2024-11-05T05:28:26.790Z"
   },
   {
    "duration": 17,
    "start_time": "2024-11-05T05:28:26.822Z"
   },
   {
    "duration": 74,
    "start_time": "2024-11-05T05:28:26.840Z"
   },
   {
    "duration": 26,
    "start_time": "2024-11-05T05:28:26.915Z"
   },
   {
    "duration": 50,
    "start_time": "2024-11-05T05:28:26.942Z"
   },
   {
    "duration": 9,
    "start_time": "2024-11-05T05:28:26.993Z"
   },
   {
    "duration": 51,
    "start_time": "2024-11-05T05:28:27.003Z"
   },
   {
    "duration": 204,
    "start_time": "2024-11-05T05:28:27.056Z"
   },
   {
    "duration": 35,
    "start_time": "2024-11-05T05:31:05.193Z"
   },
   {
    "duration": 24,
    "start_time": "2024-11-05T05:31:27.753Z"
   },
   {
    "duration": 89,
    "start_time": "2024-11-05T05:31:51.896Z"
   },
   {
    "duration": 25,
    "start_time": "2024-11-05T05:32:03.039Z"
   },
   {
    "duration": 22,
    "start_time": "2024-11-05T05:32:48.304Z"
   },
   {
    "duration": 23,
    "start_time": "2024-11-05T05:35:10.493Z"
   },
   {
    "duration": 11,
    "start_time": "2024-11-05T05:37:03.345Z"
   },
   {
    "duration": 10,
    "start_time": "2024-11-05T05:37:22.736Z"
   },
   {
    "duration": 8,
    "start_time": "2024-11-05T05:40:25.002Z"
   },
   {
    "duration": 1125,
    "start_time": "2024-11-05T05:40:46.559Z"
   },
   {
    "duration": 154,
    "start_time": "2024-11-05T05:40:47.686Z"
   },
   {
    "duration": 15,
    "start_time": "2024-11-05T05:40:47.841Z"
   },
   {
    "duration": 10,
    "start_time": "2024-11-05T05:40:47.858Z"
   },
   {
    "duration": 29,
    "start_time": "2024-11-05T05:40:47.870Z"
   },
   {
    "duration": 18,
    "start_time": "2024-11-05T05:40:47.907Z"
   },
   {
    "duration": 146,
    "start_time": "2024-11-05T05:40:47.926Z"
   },
   {
    "duration": 3,
    "start_time": "2024-11-05T05:40:48.074Z"
   },
   {
    "duration": 60,
    "start_time": "2024-11-05T05:40:48.079Z"
   },
   {
    "duration": 8,
    "start_time": "2024-11-05T05:40:48.141Z"
   },
   {
    "duration": 32,
    "start_time": "2024-11-05T05:40:48.150Z"
   },
   {
    "duration": 129,
    "start_time": "2024-11-05T05:40:48.183Z"
   },
   {
    "duration": 0,
    "start_time": "2024-11-05T05:40:48.313Z"
   },
   {
    "duration": 8,
    "start_time": "2024-11-05T05:41:14.291Z"
   },
   {
    "duration": 19,
    "start_time": "2024-11-05T05:41:21.361Z"
   },
   {
    "duration": 25,
    "start_time": "2024-11-05T05:41:28.732Z"
   },
   {
    "duration": 21,
    "start_time": "2024-11-05T05:41:56.877Z"
   },
   {
    "duration": 28,
    "start_time": "2024-11-05T05:51:27.040Z"
   },
   {
    "duration": 36,
    "start_time": "2024-11-05T05:52:28.257Z"
   },
   {
    "duration": 4,
    "start_time": "2024-11-05T05:53:12.417Z"
   },
   {
    "duration": 4,
    "start_time": "2024-11-05T05:53:23.722Z"
   },
   {
    "duration": 3,
    "start_time": "2024-11-05T05:53:24.203Z"
   },
   {
    "duration": 1145,
    "start_time": "2024-11-05T05:53:32.381Z"
   },
   {
    "duration": 148,
    "start_time": "2024-11-05T05:53:33.527Z"
   },
   {
    "duration": 14,
    "start_time": "2024-11-05T05:53:33.676Z"
   },
   {
    "duration": 16,
    "start_time": "2024-11-05T05:53:33.691Z"
   },
   {
    "duration": 16,
    "start_time": "2024-11-05T05:53:33.709Z"
   },
   {
    "duration": 15,
    "start_time": "2024-11-05T05:53:33.727Z"
   },
   {
    "duration": 73,
    "start_time": "2024-11-05T05:53:33.743Z"
   },
   {
    "duration": 16,
    "start_time": "2024-11-05T05:53:33.817Z"
   },
   {
    "duration": 70,
    "start_time": "2024-11-05T05:53:33.835Z"
   },
   {
    "duration": 8,
    "start_time": "2024-11-05T05:53:33.907Z"
   },
   {
    "duration": 27,
    "start_time": "2024-11-05T05:53:33.916Z"
   },
   {
    "duration": 3,
    "start_time": "2024-11-05T05:53:33.944Z"
   },
   {
    "duration": 6,
    "start_time": "2024-11-05T05:53:33.948Z"
   },
   {
    "duration": 206,
    "start_time": "2024-11-05T05:53:33.956Z"
   },
   {
    "duration": 5,
    "start_time": "2024-11-05T05:54:11.643Z"
   },
   {
    "duration": 68,
    "start_time": "2024-11-05T05:55:32.474Z"
   },
   {
    "duration": 66,
    "start_time": "2024-11-05T05:56:49.224Z"
   },
   {
    "duration": 24,
    "start_time": "2024-11-05T05:57:30.885Z"
   },
   {
    "duration": 5,
    "start_time": "2024-11-05T05:57:52.089Z"
   },
   {
    "duration": 66,
    "start_time": "2024-11-05T05:57:55.298Z"
   },
   {
    "duration": 1112,
    "start_time": "2024-11-05T06:00:48.975Z"
   },
   {
    "duration": 151,
    "start_time": "2024-11-05T06:00:50.089Z"
   },
   {
    "duration": 13,
    "start_time": "2024-11-05T06:00:50.242Z"
   },
   {
    "duration": 13,
    "start_time": "2024-11-05T06:00:50.257Z"
   },
   {
    "duration": 23,
    "start_time": "2024-11-05T06:00:50.271Z"
   },
   {
    "duration": 23,
    "start_time": "2024-11-05T06:00:50.295Z"
   },
   {
    "duration": 78,
    "start_time": "2024-11-05T06:00:50.319Z"
   },
   {
    "duration": 46,
    "start_time": "2024-11-05T06:00:50.398Z"
   },
   {
    "duration": 72,
    "start_time": "2024-11-05T06:00:50.445Z"
   },
   {
    "duration": 9,
    "start_time": "2024-11-05T06:00:50.520Z"
   },
   {
    "duration": 87,
    "start_time": "2024-11-05T06:00:50.530Z"
   },
   {
    "duration": 5,
    "start_time": "2024-11-05T06:00:50.619Z"
   },
   {
    "duration": 119,
    "start_time": "2024-11-05T06:00:50.625Z"
   },
   {
    "duration": 51,
    "start_time": "2024-11-05T06:08:06.711Z"
   },
   {
    "duration": 1072,
    "start_time": "2024-11-05T06:08:12.358Z"
   },
   {
    "duration": 755,
    "start_time": "2024-11-05T06:08:13.431Z"
   },
   {
    "duration": 13,
    "start_time": "2024-11-05T06:08:14.188Z"
   },
   {
    "duration": 15,
    "start_time": "2024-11-05T06:08:14.203Z"
   },
   {
    "duration": 38,
    "start_time": "2024-11-05T06:08:14.219Z"
   },
   {
    "duration": 19,
    "start_time": "2024-11-05T06:08:14.259Z"
   },
   {
    "duration": 68,
    "start_time": "2024-11-05T06:08:14.280Z"
   },
   {
    "duration": 4,
    "start_time": "2024-11-05T06:08:14.349Z"
   },
   {
    "duration": 62,
    "start_time": "2024-11-05T06:08:14.355Z"
   },
   {
    "duration": 9,
    "start_time": "2024-11-05T06:08:14.420Z"
   },
   {
    "duration": 27,
    "start_time": "2024-11-05T06:08:14.431Z"
   },
   {
    "duration": 5,
    "start_time": "2024-11-05T06:08:14.460Z"
   },
   {
    "duration": 99,
    "start_time": "2024-11-05T06:08:14.467Z"
   },
   {
    "duration": 1095,
    "start_time": "2024-11-05T06:10:39.788Z"
   },
   {
    "duration": 160,
    "start_time": "2024-11-05T06:10:40.884Z"
   },
   {
    "duration": 14,
    "start_time": "2024-11-05T06:10:41.046Z"
   },
   {
    "duration": 14,
    "start_time": "2024-11-05T06:10:41.062Z"
   },
   {
    "duration": 21,
    "start_time": "2024-11-05T06:10:41.078Z"
   },
   {
    "duration": 22,
    "start_time": "2024-11-05T06:10:41.100Z"
   },
   {
    "duration": 64,
    "start_time": "2024-11-05T06:10:41.123Z"
   },
   {
    "duration": 21,
    "start_time": "2024-11-05T06:10:41.188Z"
   },
   {
    "duration": 51,
    "start_time": "2024-11-05T06:10:41.211Z"
   },
   {
    "duration": 10,
    "start_time": "2024-11-05T06:10:41.264Z"
   },
   {
    "duration": 44,
    "start_time": "2024-11-05T06:10:41.275Z"
   },
   {
    "duration": 5,
    "start_time": "2024-11-05T06:10:41.321Z"
   },
   {
    "duration": 86,
    "start_time": "2024-11-05T06:10:41.327Z"
   },
   {
    "duration": 52,
    "start_time": "2024-11-05T06:10:41.414Z"
   },
   {
    "duration": 1175,
    "start_time": "2024-11-05T06:10:47.467Z"
   },
   {
    "duration": 1064,
    "start_time": "2024-11-05T06:11:44.654Z"
   },
   {
    "duration": 1185,
    "start_time": "2024-11-05T06:11:50.901Z"
   },
   {
    "duration": 10,
    "start_time": "2024-11-05T06:13:48.812Z"
   },
   {
    "duration": 1057,
    "start_time": "2024-11-05T06:13:55.239Z"
   },
   {
    "duration": 155,
    "start_time": "2024-11-05T06:13:56.298Z"
   },
   {
    "duration": 13,
    "start_time": "2024-11-05T06:13:56.455Z"
   },
   {
    "duration": 8,
    "start_time": "2024-11-05T06:13:56.469Z"
   },
   {
    "duration": 18,
    "start_time": "2024-11-05T06:13:56.479Z"
   },
   {
    "duration": 17,
    "start_time": "2024-11-05T06:13:56.507Z"
   },
   {
    "duration": 86,
    "start_time": "2024-11-05T06:13:56.525Z"
   },
   {
    "duration": 36,
    "start_time": "2024-11-05T06:13:56.612Z"
   },
   {
    "duration": 48,
    "start_time": "2024-11-05T06:13:56.649Z"
   },
   {
    "duration": 9,
    "start_time": "2024-11-05T06:13:56.698Z"
   },
   {
    "duration": 33,
    "start_time": "2024-11-05T06:13:56.708Z"
   },
   {
    "duration": 9,
    "start_time": "2024-11-05T06:13:56.743Z"
   },
   {
    "duration": 84,
    "start_time": "2024-11-05T06:13:56.753Z"
   },
   {
    "duration": 9,
    "start_time": "2024-11-05T06:13:56.839Z"
   },
   {
    "duration": 11,
    "start_time": "2024-11-05T06:14:16.808Z"
   },
   {
    "duration": 12,
    "start_time": "2024-11-05T06:14:29.172Z"
   },
   {
    "duration": 97,
    "start_time": "2024-11-05T06:15:23.829Z"
   },
   {
    "duration": 77491,
    "start_time": "2024-11-05T06:15:39.277Z"
   },
   {
    "duration": 79,
    "start_time": "2024-11-05T06:23:17.220Z"
   },
   {
    "duration": 11,
    "start_time": "2024-11-05T06:24:06.804Z"
   },
   {
    "duration": 5,
    "start_time": "2024-11-05T06:24:22.584Z"
   },
   {
    "duration": 99,
    "start_time": "2024-11-05T06:24:39.710Z"
   },
   {
    "duration": 93,
    "start_time": "2024-11-05T06:24:46.216Z"
   },
   {
    "duration": 962,
    "start_time": "2024-11-05T06:24:54.196Z"
   },
   {
    "duration": 5,
    "start_time": "2024-11-05T06:25:05.624Z"
   },
   {
    "duration": 101,
    "start_time": "2024-11-05T06:25:44.592Z"
   },
   {
    "duration": 5,
    "start_time": "2024-11-05T06:25:49.430Z"
   },
   {
    "duration": 47,
    "start_time": "2024-11-06T05:38:11.260Z"
   },
   {
    "duration": 1277,
    "start_time": "2024-11-06T05:38:53.633Z"
   },
   {
    "duration": 719,
    "start_time": "2024-11-06T05:38:54.912Z"
   },
   {
    "duration": 16,
    "start_time": "2024-11-06T05:38:55.632Z"
   },
   {
    "duration": 7,
    "start_time": "2024-11-06T05:38:55.650Z"
   },
   {
    "duration": 16,
    "start_time": "2024-11-06T05:38:55.659Z"
   },
   {
    "duration": 16,
    "start_time": "2024-11-06T05:38:55.676Z"
   },
   {
    "duration": 76,
    "start_time": "2024-11-06T05:38:55.693Z"
   },
   {
    "duration": 4,
    "start_time": "2024-11-06T05:38:55.770Z"
   },
   {
    "duration": 48,
    "start_time": "2024-11-06T05:38:55.775Z"
   },
   {
    "duration": 9,
    "start_time": "2024-11-06T05:38:55.825Z"
   },
   {
    "duration": 48,
    "start_time": "2024-11-06T05:38:55.835Z"
   },
   {
    "duration": 4,
    "start_time": "2024-11-06T05:38:55.884Z"
   },
   {
    "duration": 25,
    "start_time": "2024-11-06T05:38:55.890Z"
   },
   {
    "duration": 144,
    "start_time": "2024-11-06T05:38:55.917Z"
   },
   {
    "duration": 4,
    "start_time": "2024-11-06T05:38:56.062Z"
   },
   {
    "duration": 1270,
    "start_time": "2024-11-06T05:38:56.067Z"
   },
   {
    "duration": 0,
    "start_time": "2024-11-06T05:38:57.339Z"
   },
   {
    "duration": 21,
    "start_time": "2024-11-06T05:39:12.208Z"
   },
   {
    "duration": 25,
    "start_time": "2024-11-06T05:42:19.208Z"
   },
   {
    "duration": 1054,
    "start_time": "2024-11-06T05:43:40.278Z"
   },
   {
    "duration": 166,
    "start_time": "2024-11-06T05:43:41.333Z"
   },
   {
    "duration": 13,
    "start_time": "2024-11-06T05:43:41.501Z"
   },
   {
    "duration": 7,
    "start_time": "2024-11-06T05:43:41.516Z"
   },
   {
    "duration": 33,
    "start_time": "2024-11-06T05:43:41.524Z"
   },
   {
    "duration": 16,
    "start_time": "2024-11-06T05:43:41.559Z"
   },
   {
    "duration": 61,
    "start_time": "2024-11-06T05:43:41.576Z"
   },
   {
    "duration": 3,
    "start_time": "2024-11-06T05:43:41.638Z"
   },
   {
    "duration": 44,
    "start_time": "2024-11-06T05:43:41.657Z"
   },
   {
    "duration": 9,
    "start_time": "2024-11-06T05:43:41.703Z"
   },
   {
    "duration": 45,
    "start_time": "2024-11-06T05:43:41.713Z"
   },
   {
    "duration": 4,
    "start_time": "2024-11-06T05:43:41.759Z"
   },
   {
    "duration": 26,
    "start_time": "2024-11-06T05:43:41.765Z"
   },
   {
    "duration": 1067,
    "start_time": "2024-11-06T05:46:03.500Z"
   },
   {
    "duration": 158,
    "start_time": "2024-11-06T05:46:04.568Z"
   },
   {
    "duration": 14,
    "start_time": "2024-11-06T05:46:04.727Z"
   },
   {
    "duration": 6,
    "start_time": "2024-11-06T05:46:04.742Z"
   },
   {
    "duration": 20,
    "start_time": "2024-11-06T05:46:04.757Z"
   },
   {
    "duration": 16,
    "start_time": "2024-11-06T05:46:04.778Z"
   },
   {
    "duration": 76,
    "start_time": "2024-11-06T05:46:04.796Z"
   },
   {
    "duration": 16,
    "start_time": "2024-11-06T05:46:04.873Z"
   },
   {
    "duration": 69,
    "start_time": "2024-11-06T05:46:04.890Z"
   },
   {
    "duration": 8,
    "start_time": "2024-11-06T05:46:04.961Z"
   },
   {
    "duration": 24,
    "start_time": "2024-11-06T05:46:04.971Z"
   },
   {
    "duration": 4,
    "start_time": "2024-11-06T05:46:04.997Z"
   },
   {
    "duration": 109,
    "start_time": "2024-11-06T05:46:05.003Z"
   },
   {
    "duration": 0,
    "start_time": "2024-11-06T05:46:05.114Z"
   },
   {
    "duration": 0,
    "start_time": "2024-11-06T05:46:05.115Z"
   },
   {
    "duration": 0,
    "start_time": "2024-11-06T05:46:05.116Z"
   },
   {
    "duration": 0,
    "start_time": "2024-11-06T05:46:05.116Z"
   },
   {
    "duration": 0,
    "start_time": "2024-11-06T05:46:05.117Z"
   },
   {
    "duration": 0,
    "start_time": "2024-11-06T05:46:05.118Z"
   },
   {
    "duration": 34,
    "start_time": "2024-11-06T05:47:01.297Z"
   },
   {
    "duration": 14,
    "start_time": "2024-11-06T05:47:02.555Z"
   },
   {
    "duration": 1044,
    "start_time": "2024-11-06T05:50:08.808Z"
   },
   {
    "duration": 154,
    "start_time": "2024-11-06T05:50:09.853Z"
   },
   {
    "duration": 14,
    "start_time": "2024-11-06T05:50:10.008Z"
   },
   {
    "duration": 28,
    "start_time": "2024-11-06T05:50:10.024Z"
   },
   {
    "duration": 23,
    "start_time": "2024-11-06T05:50:10.054Z"
   },
   {
    "duration": 26,
    "start_time": "2024-11-06T05:50:10.080Z"
   },
   {
    "duration": 138,
    "start_time": "2024-11-06T05:50:10.108Z"
   },
   {
    "duration": 10,
    "start_time": "2024-11-06T05:50:10.248Z"
   },
   {
    "duration": 67,
    "start_time": "2024-11-06T05:50:10.259Z"
   },
   {
    "duration": 12,
    "start_time": "2024-11-06T05:50:10.329Z"
   },
   {
    "duration": 37,
    "start_time": "2024-11-06T05:50:10.343Z"
   },
   {
    "duration": 5,
    "start_time": "2024-11-06T05:50:10.381Z"
   },
   {
    "duration": 102,
    "start_time": "2024-11-06T05:50:10.387Z"
   },
   {
    "duration": 17,
    "start_time": "2024-11-06T05:50:10.490Z"
   },
   {
    "duration": 1081,
    "start_time": "2024-11-06T05:52:31.043Z"
   },
   {
    "duration": 157,
    "start_time": "2024-11-06T05:52:32.126Z"
   },
   {
    "duration": 15,
    "start_time": "2024-11-06T05:52:32.284Z"
   },
   {
    "duration": 10,
    "start_time": "2024-11-06T05:52:32.302Z"
   },
   {
    "duration": 18,
    "start_time": "2024-11-06T05:52:32.314Z"
   },
   {
    "duration": 36,
    "start_time": "2024-11-06T05:52:32.334Z"
   },
   {
    "duration": 63,
    "start_time": "2024-11-06T05:52:32.372Z"
   },
   {
    "duration": 17,
    "start_time": "2024-11-06T05:52:32.437Z"
   },
   {
    "duration": 53,
    "start_time": "2024-11-06T05:52:32.457Z"
   },
   {
    "duration": 9,
    "start_time": "2024-11-06T05:52:32.513Z"
   },
   {
    "duration": 37,
    "start_time": "2024-11-06T05:52:32.523Z"
   },
   {
    "duration": 5,
    "start_time": "2024-11-06T05:52:32.562Z"
   },
   {
    "duration": 34,
    "start_time": "2024-11-06T05:52:32.568Z"
   },
   {
    "duration": 16,
    "start_time": "2024-11-06T05:52:32.604Z"
   },
   {
    "duration": 1134,
    "start_time": "2024-11-06T05:53:13.528Z"
   },
   {
    "duration": 155,
    "start_time": "2024-11-06T05:53:14.663Z"
   },
   {
    "duration": 13,
    "start_time": "2024-11-06T05:53:14.820Z"
   },
   {
    "duration": 6,
    "start_time": "2024-11-06T05:53:14.834Z"
   },
   {
    "duration": 26,
    "start_time": "2024-11-06T05:53:14.841Z"
   },
   {
    "duration": 16,
    "start_time": "2024-11-06T05:53:14.868Z"
   },
   {
    "duration": 69,
    "start_time": "2024-11-06T05:53:14.885Z"
   },
   {
    "duration": 4,
    "start_time": "2024-11-06T05:53:14.957Z"
   },
   {
    "duration": 46,
    "start_time": "2024-11-06T05:53:14.962Z"
   },
   {
    "duration": 10,
    "start_time": "2024-11-06T05:53:15.010Z"
   },
   {
    "duration": 52,
    "start_time": "2024-11-06T05:53:15.022Z"
   },
   {
    "duration": 31,
    "start_time": "2024-11-06T05:53:15.076Z"
   },
   {
    "duration": 49,
    "start_time": "2024-11-06T05:53:15.109Z"
   },
   {
    "duration": 14,
    "start_time": "2024-11-06T05:53:15.160Z"
   },
   {
    "duration": 46,
    "start_time": "2024-11-06T05:53:15.175Z"
   },
   {
    "duration": 1143,
    "start_time": "2024-11-06T06:04:14.327Z"
   },
   {
    "duration": 156,
    "start_time": "2024-11-06T06:04:15.471Z"
   },
   {
    "duration": 14,
    "start_time": "2024-11-06T06:04:15.629Z"
   },
   {
    "duration": 16,
    "start_time": "2024-11-06T06:04:15.644Z"
   },
   {
    "duration": 37,
    "start_time": "2024-11-06T06:04:15.661Z"
   },
   {
    "duration": 38,
    "start_time": "2024-11-06T06:04:15.699Z"
   },
   {
    "duration": 66,
    "start_time": "2024-11-06T06:04:15.738Z"
   },
   {
    "duration": 5,
    "start_time": "2024-11-06T06:04:15.805Z"
   },
   {
    "duration": 53,
    "start_time": "2024-11-06T06:04:15.811Z"
   },
   {
    "duration": 9,
    "start_time": "2024-11-06T06:04:15.866Z"
   },
   {
    "duration": 27,
    "start_time": "2024-11-06T06:04:15.876Z"
   },
   {
    "duration": 6,
    "start_time": "2024-11-06T06:04:15.905Z"
   },
   {
    "duration": 58,
    "start_time": "2024-11-06T06:04:15.912Z"
   },
   {
    "duration": 12,
    "start_time": "2024-11-06T06:04:15.971Z"
   },
   {
    "duration": 83,
    "start_time": "2024-11-06T06:04:15.985Z"
   },
   {
    "duration": 1515,
    "start_time": "2024-11-06T06:04:16.069Z"
   },
   {
    "duration": 161,
    "start_time": "2024-11-06T06:04:48.468Z"
   },
   {
    "duration": 167,
    "start_time": "2024-11-06T06:07:25.391Z"
   },
   {
    "duration": 9,
    "start_time": "2024-11-06T06:08:10.391Z"
   },
   {
    "duration": 166,
    "start_time": "2024-11-06T06:08:18.893Z"
   },
   {
    "duration": 160,
    "start_time": "2024-11-06T06:08:48.100Z"
   },
   {
    "duration": 159,
    "start_time": "2024-11-06T06:11:03.112Z"
   },
   {
    "duration": 7,
    "start_time": "2024-11-06T06:11:24.413Z"
   },
   {
    "duration": 7,
    "start_time": "2024-11-06T06:11:37.847Z"
   },
   {
    "duration": 172,
    "start_time": "2024-11-06T06:12:19.000Z"
   },
   {
    "duration": 1111,
    "start_time": "2024-11-06T06:13:22.432Z"
   },
   {
    "duration": 168,
    "start_time": "2024-11-06T06:13:23.545Z"
   },
   {
    "duration": 13,
    "start_time": "2024-11-06T06:13:23.714Z"
   },
   {
    "duration": 6,
    "start_time": "2024-11-06T06:13:23.729Z"
   },
   {
    "duration": 30,
    "start_time": "2024-11-06T06:13:23.736Z"
   },
   {
    "duration": 17,
    "start_time": "2024-11-06T06:13:23.767Z"
   },
   {
    "duration": 73,
    "start_time": "2024-11-06T06:13:23.785Z"
   },
   {
    "duration": 4,
    "start_time": "2024-11-06T06:13:23.859Z"
   },
   {
    "duration": 54,
    "start_time": "2024-11-06T06:13:23.864Z"
   },
   {
    "duration": 8,
    "start_time": "2024-11-06T06:13:23.921Z"
   },
   {
    "duration": 39,
    "start_time": "2024-11-06T06:13:23.931Z"
   },
   {
    "duration": 5,
    "start_time": "2024-11-06T06:13:23.972Z"
   },
   {
    "duration": 136,
    "start_time": "2024-11-06T06:13:23.979Z"
   },
   {
    "duration": 0,
    "start_time": "2024-11-06T06:13:24.117Z"
   },
   {
    "duration": 0,
    "start_time": "2024-11-06T06:13:24.119Z"
   },
   {
    "duration": 0,
    "start_time": "2024-11-06T06:13:24.120Z"
   },
   {
    "duration": 0,
    "start_time": "2024-11-06T06:13:24.121Z"
   },
   {
    "duration": 0,
    "start_time": "2024-11-06T06:13:24.123Z"
   },
   {
    "duration": 0,
    "start_time": "2024-11-06T06:13:24.124Z"
   },
   {
    "duration": 0,
    "start_time": "2024-11-06T06:13:24.125Z"
   },
   {
    "duration": 24,
    "start_time": "2024-11-06T06:15:52.045Z"
   },
   {
    "duration": 22,
    "start_time": "2024-11-06T06:20:54.184Z"
   },
   {
    "duration": 8,
    "start_time": "2024-11-06T06:21:00.563Z"
   },
   {
    "duration": 22,
    "start_time": "2024-11-06T06:21:12.474Z"
   },
   {
    "duration": 171,
    "start_time": "2024-11-06T06:21:13.712Z"
   },
   {
    "duration": 1091,
    "start_time": "2024-11-06T06:21:42.552Z"
   },
   {
    "duration": 155,
    "start_time": "2024-11-06T06:21:43.645Z"
   },
   {
    "duration": 13,
    "start_time": "2024-11-06T06:21:43.802Z"
   },
   {
    "duration": 6,
    "start_time": "2024-11-06T06:21:43.817Z"
   },
   {
    "duration": 18,
    "start_time": "2024-11-06T06:21:43.824Z"
   },
   {
    "duration": 28,
    "start_time": "2024-11-06T06:21:43.844Z"
   },
   {
    "duration": 63,
    "start_time": "2024-11-06T06:21:43.873Z"
   },
   {
    "duration": 19,
    "start_time": "2024-11-06T06:21:43.938Z"
   },
   {
    "duration": 45,
    "start_time": "2024-11-06T06:21:43.958Z"
   },
   {
    "duration": 9,
    "start_time": "2024-11-06T06:21:44.004Z"
   },
   {
    "duration": 44,
    "start_time": "2024-11-06T06:21:44.014Z"
   },
   {
    "duration": 4,
    "start_time": "2024-11-06T06:21:44.059Z"
   },
   {
    "duration": 54,
    "start_time": "2024-11-06T06:21:44.064Z"
   },
   {
    "duration": 168,
    "start_time": "2024-11-06T06:21:44.120Z"
   },
   {
    "duration": 40,
    "start_time": "2024-11-06T06:21:44.289Z"
   },
   {
    "duration": 27,
    "start_time": "2024-11-06T06:21:44.331Z"
   },
   {
    "duration": 13,
    "start_time": "2024-11-06T06:21:44.359Z"
   },
   {
    "duration": 167,
    "start_time": "2024-11-06T06:21:44.373Z"
   },
   {
    "duration": 172,
    "start_time": "2024-11-06T06:21:44.541Z"
   },
   {
    "duration": 174,
    "start_time": "2024-11-06T06:21:44.714Z"
   },
   {
    "duration": 95,
    "start_time": "2024-11-06T06:21:44.889Z"
   },
   {
    "duration": 160,
    "start_time": "2024-11-06T06:23:04.882Z"
   },
   {
    "duration": 158,
    "start_time": "2024-11-06T06:23:06.013Z"
   },
   {
    "duration": 8,
    "start_time": "2024-11-06T06:23:07.084Z"
   },
   {
    "duration": 1078,
    "start_time": "2024-11-06T06:31:14.185Z"
   },
   {
    "duration": 153,
    "start_time": "2024-11-06T06:31:15.264Z"
   },
   {
    "duration": 14,
    "start_time": "2024-11-06T06:31:15.418Z"
   },
   {
    "duration": 7,
    "start_time": "2024-11-06T06:31:15.433Z"
   },
   {
    "duration": 25,
    "start_time": "2024-11-06T06:31:15.442Z"
   },
   {
    "duration": 17,
    "start_time": "2024-11-06T06:31:15.468Z"
   },
   {
    "duration": 80,
    "start_time": "2024-11-06T06:31:15.486Z"
   },
   {
    "duration": 3,
    "start_time": "2024-11-06T06:31:15.567Z"
   },
   {
    "duration": 48,
    "start_time": "2024-11-06T06:31:15.571Z"
   },
   {
    "duration": 9,
    "start_time": "2024-11-06T06:31:15.621Z"
   },
   {
    "duration": 44,
    "start_time": "2024-11-06T06:31:15.631Z"
   },
   {
    "duration": 4,
    "start_time": "2024-11-06T06:31:15.676Z"
   },
   {
    "duration": 41,
    "start_time": "2024-11-06T06:31:15.682Z"
   },
   {
    "duration": 177,
    "start_time": "2024-11-06T06:31:15.725Z"
   },
   {
    "duration": 34,
    "start_time": "2024-11-06T06:31:15.904Z"
   },
   {
    "duration": 22,
    "start_time": "2024-11-06T06:31:15.940Z"
   },
   {
    "duration": 13,
    "start_time": "2024-11-06T06:31:15.964Z"
   },
   {
    "duration": 162,
    "start_time": "2024-11-06T06:31:15.979Z"
   },
   {
    "duration": 165,
    "start_time": "2024-11-06T06:31:16.142Z"
   },
   {
    "duration": 169,
    "start_time": "2024-11-06T06:31:16.309Z"
   },
   {
    "duration": 53,
    "start_time": "2024-11-06T06:31:16.479Z"
   },
   {
    "duration": 0,
    "start_time": "2024-11-06T06:31:16.533Z"
   },
   {
    "duration": 261,
    "start_time": "2024-11-06T06:37:23.187Z"
   },
   {
    "duration": 184,
    "start_time": "2024-11-06T06:37:38.973Z"
   },
   {
    "duration": 13,
    "start_time": "2024-11-06T06:39:25.482Z"
   },
   {
    "duration": 61,
    "start_time": "2024-11-06T06:40:50.161Z"
   },
   {
    "duration": 95,
    "start_time": "2024-11-06T06:43:12.933Z"
   },
   {
    "duration": 5,
    "start_time": "2024-11-06T06:44:11.556Z"
   },
   {
    "duration": 960,
    "start_time": "2024-11-06T06:49:40.521Z"
   },
   {
    "duration": 5,
    "start_time": "2024-11-06T06:52:31.268Z"
   },
   {
    "duration": 7,
    "start_time": "2024-11-06T06:52:46.187Z"
   },
   {
    "duration": 73,
    "start_time": "2024-11-06T07:01:00.538Z"
   },
   {
    "duration": 65,
    "start_time": "2024-11-06T07:03:03.667Z"
   },
   {
    "duration": 54,
    "start_time": "2024-11-06T11:28:07.292Z"
   },
   {
    "duration": 6,
    "start_time": "2024-11-06T11:28:14.156Z"
   },
   {
    "duration": 1345,
    "start_time": "2024-11-06T11:28:28.326Z"
   },
   {
    "duration": 1011,
    "start_time": "2024-11-06T11:28:29.673Z"
   },
   {
    "duration": 18,
    "start_time": "2024-11-06T11:28:30.686Z"
   },
   {
    "duration": 17,
    "start_time": "2024-11-06T11:28:30.706Z"
   },
   {
    "duration": 40,
    "start_time": "2024-11-06T11:28:30.724Z"
   },
   {
    "duration": 42,
    "start_time": "2024-11-06T11:28:30.766Z"
   },
   {
    "duration": 94,
    "start_time": "2024-11-06T11:28:30.810Z"
   },
   {
    "duration": 5,
    "start_time": "2024-11-06T11:28:30.905Z"
   },
   {
    "duration": 67,
    "start_time": "2024-11-06T11:28:30.912Z"
   },
   {
    "duration": 19,
    "start_time": "2024-11-06T11:28:30.983Z"
   },
   {
    "duration": 46,
    "start_time": "2024-11-06T11:28:31.004Z"
   },
   {
    "duration": 9,
    "start_time": "2024-11-06T11:28:31.052Z"
   },
   {
    "duration": 6,
    "start_time": "2024-11-06T11:28:31.062Z"
   },
   {
    "duration": 9,
    "start_time": "2024-11-06T11:28:31.069Z"
   },
   {
    "duration": 52,
    "start_time": "2024-11-06T11:28:31.079Z"
   },
   {
    "duration": 78,
    "start_time": "2024-11-06T11:28:31.132Z"
   },
   {
    "duration": 0,
    "start_time": "2024-11-06T11:28:31.211Z"
   },
   {
    "duration": 0,
    "start_time": "2024-11-06T11:28:31.213Z"
   },
   {
    "duration": 0,
    "start_time": "2024-11-06T11:28:31.213Z"
   },
   {
    "duration": 1,
    "start_time": "2024-11-06T11:28:31.214Z"
   },
   {
    "duration": 0,
    "start_time": "2024-11-06T11:28:31.216Z"
   },
   {
    "duration": 0,
    "start_time": "2024-11-06T11:28:31.217Z"
   },
   {
    "duration": 0,
    "start_time": "2024-11-06T11:28:31.218Z"
   },
   {
    "duration": 0,
    "start_time": "2024-11-06T11:28:31.219Z"
   },
   {
    "duration": 0,
    "start_time": "2024-11-06T11:28:31.220Z"
   },
   {
    "duration": 99,
    "start_time": "2024-11-06T11:29:10.773Z"
   },
   {
    "duration": 9,
    "start_time": "2024-11-06T11:29:19.370Z"
   },
   {
    "duration": 65,
    "start_time": "2024-11-06T11:29:52.593Z"
   },
   {
    "duration": 9,
    "start_time": "2024-11-06T11:29:57.795Z"
   },
   {
    "duration": 57,
    "start_time": "2024-11-06T11:36:03.352Z"
   },
   {
    "duration": 1224,
    "start_time": "2024-11-06T11:36:12.373Z"
   },
   {
    "duration": 199,
    "start_time": "2024-11-06T11:36:13.600Z"
   },
   {
    "duration": 22,
    "start_time": "2024-11-06T11:36:13.801Z"
   },
   {
    "duration": 21,
    "start_time": "2024-11-06T11:36:13.825Z"
   },
   {
    "duration": 31,
    "start_time": "2024-11-06T11:36:13.848Z"
   },
   {
    "duration": 26,
    "start_time": "2024-11-06T11:36:13.881Z"
   },
   {
    "duration": 97,
    "start_time": "2024-11-06T11:36:13.909Z"
   },
   {
    "duration": 23,
    "start_time": "2024-11-06T11:36:14.007Z"
   },
   {
    "duration": 55,
    "start_time": "2024-11-06T11:36:14.032Z"
   },
   {
    "duration": 10,
    "start_time": "2024-11-06T11:36:14.089Z"
   },
   {
    "duration": 38,
    "start_time": "2024-11-06T11:36:14.100Z"
   },
   {
    "duration": 8,
    "start_time": "2024-11-06T11:36:14.140Z"
   },
   {
    "duration": 11,
    "start_time": "2024-11-06T11:36:14.150Z"
   },
   {
    "duration": 9,
    "start_time": "2024-11-06T11:36:14.163Z"
   },
   {
    "duration": 51,
    "start_time": "2024-11-06T11:36:14.173Z"
   },
   {
    "duration": 10,
    "start_time": "2024-11-06T11:36:14.225Z"
   },
   {
    "duration": 240,
    "start_time": "2024-11-06T11:36:14.236Z"
   },
   {
    "duration": 45,
    "start_time": "2024-11-06T11:36:14.478Z"
   },
   {
    "duration": 13,
    "start_time": "2024-11-06T11:36:14.524Z"
   },
   {
    "duration": 18,
    "start_time": "2024-11-06T11:36:14.539Z"
   },
   {
    "duration": 8,
    "start_time": "2024-11-06T11:36:14.558Z"
   },
   {
    "duration": 207,
    "start_time": "2024-11-06T11:36:14.568Z"
   },
   {
    "duration": 200,
    "start_time": "2024-11-06T11:36:14.777Z"
   },
   {
    "duration": 224,
    "start_time": "2024-11-06T11:36:14.979Z"
   },
   {
    "duration": 1157,
    "start_time": "2024-11-06T11:44:29.709Z"
   },
   {
    "duration": 197,
    "start_time": "2024-11-06T11:44:30.868Z"
   },
   {
    "duration": 20,
    "start_time": "2024-11-06T11:44:31.066Z"
   },
   {
    "duration": 13,
    "start_time": "2024-11-06T11:44:31.097Z"
   },
   {
    "duration": 22,
    "start_time": "2024-11-06T11:44:31.112Z"
   },
   {
    "duration": 23,
    "start_time": "2024-11-06T11:44:31.135Z"
   },
   {
    "duration": 103,
    "start_time": "2024-11-06T11:44:31.160Z"
   },
   {
    "duration": 4,
    "start_time": "2024-11-06T11:44:31.265Z"
   },
   {
    "duration": 74,
    "start_time": "2024-11-06T11:44:31.271Z"
   },
   {
    "duration": 10,
    "start_time": "2024-11-06T11:44:31.347Z"
   },
   {
    "duration": 49,
    "start_time": "2024-11-06T11:44:31.359Z"
   },
   {
    "duration": 7,
    "start_time": "2024-11-06T11:44:31.409Z"
   },
   {
    "duration": 73,
    "start_time": "2024-11-06T11:44:31.418Z"
   },
   {
    "duration": 26,
    "start_time": "2024-11-06T11:44:31.493Z"
   },
   {
    "duration": 42,
    "start_time": "2024-11-06T11:44:31.521Z"
   },
   {
    "duration": 13,
    "start_time": "2024-11-06T11:44:31.564Z"
   },
   {
    "duration": 253,
    "start_time": "2024-11-06T11:44:31.579Z"
   },
   {
    "duration": 39,
    "start_time": "2024-11-06T11:44:31.833Z"
   },
   {
    "duration": 13,
    "start_time": "2024-11-06T11:44:31.873Z"
   },
   {
    "duration": 35,
    "start_time": "2024-11-06T11:44:31.888Z"
   },
   {
    "duration": 8,
    "start_time": "2024-11-06T11:44:31.925Z"
   },
   {
    "duration": 201,
    "start_time": "2024-11-06T11:44:31.935Z"
   },
   {
    "duration": 203,
    "start_time": "2024-11-06T11:44:32.138Z"
   },
   {
    "duration": 220,
    "start_time": "2024-11-06T11:44:32.343Z"
   },
   {
    "duration": 97,
    "start_time": "2024-11-06T11:49:05.451Z"
   },
   {
    "duration": 209,
    "start_time": "2024-11-06T11:49:13.607Z"
   },
   {
    "duration": 372,
    "start_time": "2024-11-06T11:49:36.634Z"
   },
   {
    "duration": 3,
    "start_time": "2024-11-06T11:49:50.932Z"
   },
   {
    "duration": 3,
    "start_time": "2024-11-06T11:50:36.624Z"
   },
   {
    "duration": 58,
    "start_time": "2024-11-06T12:07:35.547Z"
   },
   {
    "duration": 45,
    "start_time": "2024-11-06T12:08:30.265Z"
   },
   {
    "duration": 28,
    "start_time": "2024-11-06T12:08:58.994Z"
   },
   {
    "duration": 14,
    "start_time": "2024-11-06T12:14:11.029Z"
   },
   {
    "duration": 3,
    "start_time": "2024-11-06T12:14:22.631Z"
   },
   {
    "duration": 26,
    "start_time": "2024-11-06T12:14:51.789Z"
   },
   {
    "duration": 6,
    "start_time": "2024-11-06T12:15:05.183Z"
   },
   {
    "duration": 9,
    "start_time": "2024-11-06T12:15:18.527Z"
   },
   {
    "duration": 11,
    "start_time": "2024-11-06T12:15:22.864Z"
   },
   {
    "duration": 17,
    "start_time": "2024-11-06T12:15:25.107Z"
   },
   {
    "duration": 19,
    "start_time": "2024-11-06T12:17:13.838Z"
   },
   {
    "duration": 24,
    "start_time": "2024-11-06T12:17:24.913Z"
   },
   {
    "duration": 23,
    "start_time": "2024-11-06T12:17:43.131Z"
   },
   {
    "duration": 31,
    "start_time": "2024-11-06T12:18:04.823Z"
   },
   {
    "duration": 44,
    "start_time": "2024-11-06T12:19:06.594Z"
   },
   {
    "duration": 36,
    "start_time": "2024-11-06T12:19:26.552Z"
   },
   {
    "duration": 131,
    "start_time": "2024-11-06T12:20:28.421Z"
   },
   {
    "duration": 40,
    "start_time": "2024-11-06T12:21:49.843Z"
   },
   {
    "duration": 11,
    "start_time": "2024-11-06T12:22:26.937Z"
   },
   {
    "duration": 11,
    "start_time": "2024-11-06T12:26:25.037Z"
   },
   {
    "duration": 60,
    "start_time": "2024-11-06T12:26:31.902Z"
   },
   {
    "duration": 13,
    "start_time": "2024-11-06T12:28:47.091Z"
   },
   {
    "duration": 61,
    "start_time": "2024-11-06T12:35:15.579Z"
   },
   {
    "duration": 24,
    "start_time": "2024-11-06T12:35:53.071Z"
   },
   {
    "duration": 59,
    "start_time": "2024-11-06T12:38:38.448Z"
   },
   {
    "duration": 53,
    "start_time": "2024-11-06T12:39:25.035Z"
   },
   {
    "duration": 17,
    "start_time": "2024-11-06T12:42:20.119Z"
   },
   {
    "duration": 4,
    "start_time": "2024-11-06T12:42:21.114Z"
   },
   {
    "duration": 15,
    "start_time": "2024-11-06T12:44:08.256Z"
   },
   {
    "duration": 1145,
    "start_time": "2024-11-06T12:45:05.640Z"
   },
   {
    "duration": 204,
    "start_time": "2024-11-06T12:45:06.787Z"
   },
   {
    "duration": 20,
    "start_time": "2024-11-06T12:45:06.993Z"
   },
   {
    "duration": 7,
    "start_time": "2024-11-06T12:45:07.015Z"
   },
   {
    "duration": 29,
    "start_time": "2024-11-06T12:45:07.024Z"
   },
   {
    "duration": 45,
    "start_time": "2024-11-06T12:45:07.054Z"
   },
   {
    "duration": 91,
    "start_time": "2024-11-06T12:45:07.100Z"
   },
   {
    "duration": 11,
    "start_time": "2024-11-06T12:45:07.192Z"
   },
   {
    "duration": 62,
    "start_time": "2024-11-06T12:45:07.205Z"
   },
   {
    "duration": 10,
    "start_time": "2024-11-06T12:45:07.269Z"
   },
   {
    "duration": 47,
    "start_time": "2024-11-06T12:45:07.280Z"
   },
   {
    "duration": 7,
    "start_time": "2024-11-06T12:45:07.329Z"
   },
   {
    "duration": 9,
    "start_time": "2024-11-06T12:45:07.338Z"
   },
   {
    "duration": 6,
    "start_time": "2024-11-06T12:45:07.350Z"
   },
   {
    "duration": 64,
    "start_time": "2024-11-06T12:45:07.357Z"
   },
   {
    "duration": 15,
    "start_time": "2024-11-06T12:45:07.423Z"
   },
   {
    "duration": 244,
    "start_time": "2024-11-06T12:45:07.439Z"
   },
   {
    "duration": 44,
    "start_time": "2024-11-06T12:45:07.685Z"
   },
   {
    "duration": 13,
    "start_time": "2024-11-06T12:45:07.731Z"
   },
   {
    "duration": 24,
    "start_time": "2024-11-06T12:45:07.746Z"
   },
   {
    "duration": 9,
    "start_time": "2024-11-06T12:45:07.772Z"
   },
   {
    "duration": 189,
    "start_time": "2024-11-06T12:45:07.797Z"
   },
   {
    "duration": 198,
    "start_time": "2024-11-06T12:45:07.988Z"
   },
   {
    "duration": 233,
    "start_time": "2024-11-06T12:45:08.188Z"
   },
   {
    "duration": 89,
    "start_time": "2024-11-06T12:45:08.423Z"
   },
   {
    "duration": 14,
    "start_time": "2024-11-06T12:45:08.514Z"
   },
   {
    "duration": 26,
    "start_time": "2024-11-06T12:45:08.531Z"
   },
   {
    "duration": 57,
    "start_time": "2024-11-06T12:45:08.559Z"
   },
   {
    "duration": 10,
    "start_time": "2024-11-06T12:45:08.617Z"
   },
   {
    "duration": 71,
    "start_time": "2024-11-06T12:45:08.628Z"
   },
   {
    "duration": 22,
    "start_time": "2024-11-06T12:45:08.701Z"
   },
   {
    "duration": 5,
    "start_time": "2024-11-06T12:45:08.724Z"
   },
   {
    "duration": 122,
    "start_time": "2024-11-06T12:48:25.389Z"
   },
   {
    "duration": 4,
    "start_time": "2024-11-06T12:48:52.931Z"
   },
   {
    "duration": 1146,
    "start_time": "2024-11-06T12:48:57.144Z"
   },
   {
    "duration": 251,
    "start_time": "2024-11-06T12:48:58.292Z"
   },
   {
    "duration": 19,
    "start_time": "2024-11-06T12:48:58.544Z"
   },
   {
    "duration": 33,
    "start_time": "2024-11-06T12:48:58.565Z"
   },
   {
    "duration": 30,
    "start_time": "2024-11-06T12:48:58.600Z"
   },
   {
    "duration": 22,
    "start_time": "2024-11-06T12:48:58.631Z"
   },
   {
    "duration": 102,
    "start_time": "2024-11-06T12:48:58.655Z"
   },
   {
    "duration": 5,
    "start_time": "2024-11-06T12:48:58.758Z"
   },
   {
    "duration": 81,
    "start_time": "2024-11-06T12:48:58.764Z"
   },
   {
    "duration": 10,
    "start_time": "2024-11-06T12:48:58.850Z"
   },
   {
    "duration": 58,
    "start_time": "2024-11-06T12:48:58.862Z"
   },
   {
    "duration": 9,
    "start_time": "2024-11-06T12:48:58.922Z"
   },
   {
    "duration": 20,
    "start_time": "2024-11-06T12:48:58.933Z"
   },
   {
    "duration": 9,
    "start_time": "2024-11-06T12:48:58.955Z"
   },
   {
    "duration": 48,
    "start_time": "2024-11-06T12:48:58.967Z"
   },
   {
    "duration": 11,
    "start_time": "2024-11-06T12:48:59.017Z"
   },
   {
    "duration": 285,
    "start_time": "2024-11-06T12:48:59.030Z"
   },
   {
    "duration": 39,
    "start_time": "2024-11-06T12:48:59.317Z"
   },
   {
    "duration": 14,
    "start_time": "2024-11-06T12:48:59.358Z"
   },
   {
    "duration": 35,
    "start_time": "2024-11-06T12:48:59.374Z"
   },
   {
    "duration": 14,
    "start_time": "2024-11-06T12:48:59.411Z"
   },
   {
    "duration": 210,
    "start_time": "2024-11-06T12:48:59.426Z"
   },
   {
    "duration": 221,
    "start_time": "2024-11-06T12:48:59.637Z"
   },
   {
    "duration": 222,
    "start_time": "2024-11-06T12:48:59.860Z"
   },
   {
    "duration": 73,
    "start_time": "2024-11-06T12:49:00.084Z"
   },
   {
    "duration": 4,
    "start_time": "2024-11-06T12:49:00.159Z"
   },
   {
    "duration": 40,
    "start_time": "2024-11-06T12:49:00.165Z"
   },
   {
    "duration": 81,
    "start_time": "2024-11-06T12:49:00.210Z"
   },
   {
    "duration": 4,
    "start_time": "2024-11-06T12:49:00.293Z"
   },
   {
    "duration": 38,
    "start_time": "2024-11-06T12:49:00.298Z"
   },
   {
    "duration": 103,
    "start_time": "2024-11-06T12:49:00.337Z"
   },
   {
    "duration": 19,
    "start_time": "2024-11-06T12:49:00.442Z"
   },
   {
    "duration": 58,
    "start_time": "2024-11-06T12:49:00.462Z"
   },
   {
    "duration": 4,
    "start_time": "2024-11-06T12:49:34.500Z"
   },
   {
    "duration": 7,
    "start_time": "2024-11-06T12:50:38.637Z"
   },
   {
    "duration": 1213,
    "start_time": "2024-11-06T12:50:44.961Z"
   },
   {
    "duration": 198,
    "start_time": "2024-11-06T12:50:46.176Z"
   },
   {
    "duration": 23,
    "start_time": "2024-11-06T12:50:46.375Z"
   },
   {
    "duration": 8,
    "start_time": "2024-11-06T12:50:46.400Z"
   },
   {
    "duration": 20,
    "start_time": "2024-11-06T12:50:46.410Z"
   },
   {
    "duration": 23,
    "start_time": "2024-11-06T12:50:46.432Z"
   },
   {
    "duration": 108,
    "start_time": "2024-11-06T12:50:46.456Z"
   },
   {
    "duration": 4,
    "start_time": "2024-11-06T12:50:46.566Z"
   },
   {
    "duration": 65,
    "start_time": "2024-11-06T12:50:46.571Z"
   },
   {
    "duration": 10,
    "start_time": "2024-11-06T12:50:46.638Z"
   },
   {
    "duration": 31,
    "start_time": "2024-11-06T12:50:46.650Z"
   },
   {
    "duration": 8,
    "start_time": "2024-11-06T12:50:46.698Z"
   },
   {
    "duration": 6,
    "start_time": "2024-11-06T12:50:46.707Z"
   },
   {
    "duration": 14,
    "start_time": "2024-11-06T12:50:46.716Z"
   },
   {
    "duration": 43,
    "start_time": "2024-11-06T12:50:46.732Z"
   },
   {
    "duration": 10,
    "start_time": "2024-11-06T12:50:46.777Z"
   },
   {
    "duration": 235,
    "start_time": "2024-11-06T12:50:46.798Z"
   },
   {
    "duration": 39,
    "start_time": "2024-11-06T12:50:47.034Z"
   },
   {
    "duration": 26,
    "start_time": "2024-11-06T12:50:47.075Z"
   },
   {
    "duration": 16,
    "start_time": "2024-11-06T12:50:47.103Z"
   },
   {
    "duration": 12,
    "start_time": "2024-11-06T12:50:47.121Z"
   },
   {
    "duration": 200,
    "start_time": "2024-11-06T12:50:47.135Z"
   },
   {
    "duration": 197,
    "start_time": "2024-11-06T12:50:47.337Z"
   },
   {
    "duration": 205,
    "start_time": "2024-11-06T12:50:47.535Z"
   },
   {
    "duration": 4,
    "start_time": "2024-11-06T12:50:47.742Z"
   },
   {
    "duration": 72,
    "start_time": "2024-11-06T12:50:47.748Z"
   },
   {
    "duration": 4,
    "start_time": "2024-11-06T12:50:47.821Z"
   },
   {
    "duration": 9,
    "start_time": "2024-11-06T12:50:47.827Z"
   },
   {
    "duration": 25,
    "start_time": "2024-11-06T12:50:47.837Z"
   },
   {
    "duration": 4,
    "start_time": "2024-11-06T12:50:47.863Z"
   },
   {
    "duration": 34,
    "start_time": "2024-11-06T12:50:47.868Z"
   },
   {
    "duration": 41,
    "start_time": "2024-11-06T12:50:47.903Z"
   },
   {
    "duration": 35,
    "start_time": "2024-11-06T12:50:47.945Z"
   },
   {
    "duration": 21,
    "start_time": "2024-11-06T12:50:47.981Z"
   },
   {
    "duration": 9,
    "start_time": "2024-11-06T12:51:52.998Z"
   },
   {
    "duration": 1267,
    "start_time": "2024-11-06T12:52:02.127Z"
   },
   {
    "duration": 204,
    "start_time": "2024-11-06T12:52:03.397Z"
   },
   {
    "duration": 28,
    "start_time": "2024-11-06T12:52:03.602Z"
   },
   {
    "duration": 23,
    "start_time": "2024-11-06T12:52:03.632Z"
   },
   {
    "duration": 30,
    "start_time": "2024-11-06T12:52:03.657Z"
   },
   {
    "duration": 33,
    "start_time": "2024-11-06T12:52:03.689Z"
   },
   {
    "duration": 102,
    "start_time": "2024-11-06T12:52:03.724Z"
   },
   {
    "duration": 4,
    "start_time": "2024-11-06T12:52:03.828Z"
   },
   {
    "duration": 86,
    "start_time": "2024-11-06T12:52:03.834Z"
   },
   {
    "duration": 11,
    "start_time": "2024-11-06T12:52:03.922Z"
   },
   {
    "duration": 38,
    "start_time": "2024-11-06T12:52:03.934Z"
   },
   {
    "duration": 28,
    "start_time": "2024-11-06T12:52:03.974Z"
   },
   {
    "duration": 22,
    "start_time": "2024-11-06T12:52:04.004Z"
   },
   {
    "duration": 6,
    "start_time": "2024-11-06T12:52:04.029Z"
   },
   {
    "duration": 34,
    "start_time": "2024-11-06T12:52:04.036Z"
   },
   {
    "duration": 28,
    "start_time": "2024-11-06T12:52:04.071Z"
   },
   {
    "duration": 256,
    "start_time": "2024-11-06T12:52:04.101Z"
   },
   {
    "duration": 54,
    "start_time": "2024-11-06T12:52:04.360Z"
   },
   {
    "duration": 15,
    "start_time": "2024-11-06T12:52:04.415Z"
   },
   {
    "duration": 30,
    "start_time": "2024-11-06T12:52:04.432Z"
   },
   {
    "duration": 10,
    "start_time": "2024-11-06T12:52:04.464Z"
   },
   {
    "duration": 220,
    "start_time": "2024-11-06T12:52:04.476Z"
   },
   {
    "duration": 224,
    "start_time": "2024-11-06T12:52:04.699Z"
   },
   {
    "duration": 222,
    "start_time": "2024-11-06T12:52:04.925Z"
   },
   {
    "duration": 4,
    "start_time": "2024-11-06T12:52:05.148Z"
   },
   {
    "duration": 76,
    "start_time": "2024-11-06T12:52:05.153Z"
   },
   {
    "duration": 10,
    "start_time": "2024-11-06T12:52:05.230Z"
   },
   {
    "duration": 18,
    "start_time": "2024-11-06T12:52:05.242Z"
   },
   {
    "duration": 70,
    "start_time": "2024-11-06T12:52:05.262Z"
   },
   {
    "duration": 4,
    "start_time": "2024-11-06T12:52:05.334Z"
   },
   {
    "duration": 10,
    "start_time": "2024-11-06T12:52:05.339Z"
   },
   {
    "duration": 84,
    "start_time": "2024-11-06T12:52:05.351Z"
   },
   {
    "duration": 18,
    "start_time": "2024-11-06T12:52:05.437Z"
   },
   {
    "duration": 4,
    "start_time": "2024-11-06T12:52:05.456Z"
   },
   {
    "duration": 562,
    "start_time": "2024-11-06T12:54:00.518Z"
   },
   {
    "duration": 1367,
    "start_time": "2024-11-06T13:19:03.595Z"
   },
   {
    "duration": 241,
    "start_time": "2024-11-06T13:19:04.964Z"
   },
   {
    "duration": 30,
    "start_time": "2024-11-06T13:19:05.208Z"
   },
   {
    "duration": 37,
    "start_time": "2024-11-06T13:19:05.240Z"
   },
   {
    "duration": 62,
    "start_time": "2024-11-06T13:19:05.279Z"
   },
   {
    "duration": 27,
    "start_time": "2024-11-06T13:19:05.342Z"
   },
   {
    "duration": 116,
    "start_time": "2024-11-06T13:19:05.370Z"
   },
   {
    "duration": 5,
    "start_time": "2024-11-06T13:19:05.488Z"
   },
   {
    "duration": 87,
    "start_time": "2024-11-06T13:19:05.497Z"
   },
   {
    "duration": 11,
    "start_time": "2024-11-06T13:19:05.586Z"
   },
   {
    "duration": 54,
    "start_time": "2024-11-06T13:19:05.603Z"
   },
   {
    "duration": 9,
    "start_time": "2024-11-06T13:19:05.659Z"
   },
   {
    "duration": 81,
    "start_time": "2024-11-06T13:19:05.669Z"
   },
   {
    "duration": 790,
    "start_time": "2024-11-06T13:19:05.753Z"
   },
   {
    "duration": 0,
    "start_time": "2024-11-06T13:19:06.545Z"
   },
   {
    "duration": 0,
    "start_time": "2024-11-06T13:19:06.546Z"
   },
   {
    "duration": 0,
    "start_time": "2024-11-06T13:19:06.547Z"
   },
   {
    "duration": 0,
    "start_time": "2024-11-06T13:19:06.548Z"
   },
   {
    "duration": 0,
    "start_time": "2024-11-06T13:19:06.550Z"
   },
   {
    "duration": 0,
    "start_time": "2024-11-06T13:19:06.551Z"
   },
   {
    "duration": 0,
    "start_time": "2024-11-06T13:19:06.552Z"
   },
   {
    "duration": 0,
    "start_time": "2024-11-06T13:19:06.553Z"
   },
   {
    "duration": 0,
    "start_time": "2024-11-06T13:19:06.554Z"
   },
   {
    "duration": 0,
    "start_time": "2024-11-06T13:19:06.556Z"
   },
   {
    "duration": 0,
    "start_time": "2024-11-06T13:19:06.557Z"
   },
   {
    "duration": 0,
    "start_time": "2024-11-06T13:19:06.558Z"
   },
   {
    "duration": 0,
    "start_time": "2024-11-06T13:19:06.559Z"
   },
   {
    "duration": 0,
    "start_time": "2024-11-06T13:19:06.560Z"
   },
   {
    "duration": 0,
    "start_time": "2024-11-06T13:19:06.561Z"
   },
   {
    "duration": 0,
    "start_time": "2024-11-06T13:19:06.562Z"
   },
   {
    "duration": 0,
    "start_time": "2024-11-06T13:19:06.563Z"
   },
   {
    "duration": 0,
    "start_time": "2024-11-06T13:19:06.565Z"
   },
   {
    "duration": 0,
    "start_time": "2024-11-06T13:19:06.567Z"
   },
   {
    "duration": 0,
    "start_time": "2024-11-06T13:19:06.568Z"
   },
   {
    "duration": 0,
    "start_time": "2024-11-06T13:19:06.569Z"
   },
   {
    "duration": 11,
    "start_time": "2024-11-06T13:19:26.846Z"
   },
   {
    "duration": 5,
    "start_time": "2024-11-06T13:20:16.264Z"
   },
   {
    "duration": 1296,
    "start_time": "2024-11-06T13:21:22.689Z"
   },
   {
    "duration": 228,
    "start_time": "2024-11-06T13:21:23.987Z"
   },
   {
    "duration": 20,
    "start_time": "2024-11-06T13:21:24.217Z"
   },
   {
    "duration": 8,
    "start_time": "2024-11-06T13:21:24.239Z"
   },
   {
    "duration": 21,
    "start_time": "2024-11-06T13:21:24.249Z"
   },
   {
    "duration": 55,
    "start_time": "2024-11-06T13:21:24.271Z"
   },
   {
    "duration": 110,
    "start_time": "2024-11-06T13:21:24.327Z"
   },
   {
    "duration": 4,
    "start_time": "2024-11-06T13:21:24.438Z"
   },
   {
    "duration": 82,
    "start_time": "2024-11-06T13:21:24.443Z"
   },
   {
    "duration": 11,
    "start_time": "2024-11-06T13:21:24.527Z"
   },
   {
    "duration": 41,
    "start_time": "2024-11-06T13:21:24.539Z"
   },
   {
    "duration": 24,
    "start_time": "2024-11-06T13:21:24.581Z"
   },
   {
    "duration": 12,
    "start_time": "2024-11-06T13:21:24.607Z"
   },
   {
    "duration": 8,
    "start_time": "2024-11-06T13:21:24.620Z"
   },
   {
    "duration": 8,
    "start_time": "2024-11-06T13:21:24.630Z"
   },
   {
    "duration": 80,
    "start_time": "2024-11-06T13:21:24.640Z"
   },
   {
    "duration": 17,
    "start_time": "2024-11-06T13:21:24.721Z"
   },
   {
    "duration": 276,
    "start_time": "2024-11-06T13:21:24.740Z"
   },
   {
    "duration": 41,
    "start_time": "2024-11-06T13:21:25.018Z"
   },
   {
    "duration": 16,
    "start_time": "2024-11-06T13:21:25.060Z"
   },
   {
    "duration": 23,
    "start_time": "2024-11-06T13:21:25.099Z"
   },
   {
    "duration": 24,
    "start_time": "2024-11-06T13:21:25.124Z"
   },
   {
    "duration": 218,
    "start_time": "2024-11-06T13:21:25.150Z"
   },
   {
    "duration": 220,
    "start_time": "2024-11-06T13:21:25.370Z"
   },
   {
    "duration": 243,
    "start_time": "2024-11-06T13:21:25.592Z"
   },
   {
    "duration": 4,
    "start_time": "2024-11-06T13:21:25.836Z"
   },
   {
    "duration": 90,
    "start_time": "2024-11-06T13:21:25.842Z"
   },
   {
    "duration": 5,
    "start_time": "2024-11-06T13:21:25.935Z"
   },
   {
    "duration": 10,
    "start_time": "2024-11-06T13:21:25.941Z"
   },
   {
    "duration": 78,
    "start_time": "2024-11-06T13:21:25.953Z"
   },
   {
    "duration": 4,
    "start_time": "2024-11-06T13:21:26.033Z"
   },
   {
    "duration": 16,
    "start_time": "2024-11-06T13:21:26.039Z"
   },
   {
    "duration": 108,
    "start_time": "2024-11-06T13:21:26.057Z"
   },
   {
    "duration": 18,
    "start_time": "2024-11-06T13:21:26.166Z"
   },
   {
    "duration": 33,
    "start_time": "2024-11-06T13:21:26.185Z"
   },
   {
    "duration": 60,
    "start_time": "2024-11-07T06:15:49.233Z"
   },
   {
    "duration": 48,
    "start_time": "2024-11-07T06:20:44.936Z"
   },
   {
    "duration": 1439,
    "start_time": "2024-11-07T06:20:51.251Z"
   },
   {
    "duration": 717,
    "start_time": "2024-11-07T06:20:52.693Z"
   },
   {
    "duration": 20,
    "start_time": "2024-11-07T06:20:53.412Z"
   },
   {
    "duration": 26,
    "start_time": "2024-11-07T06:20:53.434Z"
   },
   {
    "duration": 22,
    "start_time": "2024-11-07T06:20:53.463Z"
   },
   {
    "duration": 23,
    "start_time": "2024-11-07T06:20:53.487Z"
   },
   {
    "duration": 87,
    "start_time": "2024-11-07T06:20:53.512Z"
   },
   {
    "duration": 12,
    "start_time": "2024-11-07T06:20:53.600Z"
   },
   {
    "duration": 58,
    "start_time": "2024-11-07T06:20:53.622Z"
   },
   {
    "duration": 11,
    "start_time": "2024-11-07T06:20:53.682Z"
   },
   {
    "duration": 51,
    "start_time": "2024-11-07T06:20:53.695Z"
   },
   {
    "duration": 8,
    "start_time": "2024-11-07T06:20:53.748Z"
   },
   {
    "duration": 15,
    "start_time": "2024-11-07T06:20:53.758Z"
   },
   {
    "duration": 30,
    "start_time": "2024-11-07T06:20:53.776Z"
   },
   {
    "duration": 10,
    "start_time": "2024-11-07T06:20:53.808Z"
   },
   {
    "duration": 65,
    "start_time": "2024-11-07T06:20:53.820Z"
   },
   {
    "duration": 23,
    "start_time": "2024-11-07T06:20:53.887Z"
   },
   {
    "duration": 256,
    "start_time": "2024-11-07T06:20:53.912Z"
   },
   {
    "duration": 51,
    "start_time": "2024-11-07T06:20:54.170Z"
   },
   {
    "duration": 14,
    "start_time": "2024-11-07T06:20:54.222Z"
   },
   {
    "duration": 21,
    "start_time": "2024-11-07T06:20:54.238Z"
   },
   {
    "duration": 10,
    "start_time": "2024-11-07T06:20:54.260Z"
   },
   {
    "duration": 208,
    "start_time": "2024-11-07T06:20:54.272Z"
   },
   {
    "duration": 209,
    "start_time": "2024-11-07T06:20:54.482Z"
   },
   {
    "duration": 222,
    "start_time": "2024-11-07T06:20:54.693Z"
   },
   {
    "duration": 6,
    "start_time": "2024-11-07T06:20:54.916Z"
   },
   {
    "duration": 69,
    "start_time": "2024-11-07T06:20:54.923Z"
   },
   {
    "duration": 4,
    "start_time": "2024-11-07T06:20:54.993Z"
   },
   {
    "duration": 49,
    "start_time": "2024-11-07T06:20:54.999Z"
   },
   {
    "duration": 85,
    "start_time": "2024-11-07T06:20:55.050Z"
   },
   {
    "duration": 4,
    "start_time": "2024-11-07T06:20:55.138Z"
   },
   {
    "duration": 24,
    "start_time": "2024-11-07T06:20:55.144Z"
   },
   {
    "duration": 75,
    "start_time": "2024-11-07T06:20:55.170Z"
   },
   {
    "duration": 17,
    "start_time": "2024-11-07T06:20:55.247Z"
   },
   {
    "duration": 9,
    "start_time": "2024-11-07T06:20:55.265Z"
   },
   {
    "duration": 29,
    "start_time": "2024-11-07T06:20:55.276Z"
   },
   {
    "duration": 11,
    "start_time": "2024-11-07T06:21:14.748Z"
   },
   {
    "duration": 7,
    "start_time": "2024-11-07T06:21:32.222Z"
   },
   {
    "duration": 75,
    "start_time": "2024-11-07T06:22:21.734Z"
   },
   {
    "duration": 7,
    "start_time": "2024-11-07T06:23:53.120Z"
   },
   {
    "duration": 3,
    "start_time": "2024-11-07T06:31:46.176Z"
   },
   {
    "duration": 24,
    "start_time": "2024-11-07T06:42:22.598Z"
   },
   {
    "duration": 23,
    "start_time": "2024-11-07T06:42:46.326Z"
   },
   {
    "duration": 50,
    "start_time": "2024-11-07T06:43:38.430Z"
   },
   {
    "duration": 111,
    "start_time": "2024-11-07T07:18:58.633Z"
   },
   {
    "duration": 65,
    "start_time": "2024-11-07T07:19:10.374Z"
   },
   {
    "duration": 54,
    "start_time": "2024-11-07T07:19:17.586Z"
   },
   {
    "duration": 52,
    "start_time": "2024-11-07T07:19:33.695Z"
   },
   {
    "duration": 8,
    "start_time": "2024-11-07T07:23:07.264Z"
   },
   {
    "duration": 8,
    "start_time": "2024-11-07T07:23:14.585Z"
   },
   {
    "duration": 83,
    "start_time": "2024-11-07T07:28:48.912Z"
   },
   {
    "duration": 33,
    "start_time": "2024-11-07T07:28:58.586Z"
   },
   {
    "duration": 33,
    "start_time": "2024-11-07T07:29:24.746Z"
   },
   {
    "duration": 61,
    "start_time": "2024-11-07T08:21:17.935Z"
   },
   {
    "duration": 51,
    "start_time": "2024-11-07T08:22:05.302Z"
   },
   {
    "duration": 54,
    "start_time": "2024-11-07T08:23:05.535Z"
   },
   {
    "duration": 53,
    "start_time": "2024-11-07T08:23:11.351Z"
   },
   {
    "duration": 1223,
    "start_time": "2024-11-07T08:23:15.832Z"
   },
   {
    "duration": 204,
    "start_time": "2024-11-07T08:23:17.057Z"
   },
   {
    "duration": 19,
    "start_time": "2024-11-07T08:23:17.262Z"
   },
   {
    "duration": 7,
    "start_time": "2024-11-07T08:23:17.283Z"
   },
   {
    "duration": 40,
    "start_time": "2024-11-07T08:23:17.292Z"
   },
   {
    "duration": 24,
    "start_time": "2024-11-07T08:23:17.334Z"
   },
   {
    "duration": 100,
    "start_time": "2024-11-07T08:23:17.359Z"
   },
   {
    "duration": 26,
    "start_time": "2024-11-07T08:23:17.461Z"
   },
   {
    "duration": 63,
    "start_time": "2024-11-07T08:23:17.489Z"
   },
   {
    "duration": 10,
    "start_time": "2024-11-07T08:23:17.553Z"
   },
   {
    "duration": 59,
    "start_time": "2024-11-07T08:23:17.565Z"
   },
   {
    "duration": 8,
    "start_time": "2024-11-07T08:23:17.626Z"
   },
   {
    "duration": 12,
    "start_time": "2024-11-07T08:23:17.637Z"
   },
   {
    "duration": 11,
    "start_time": "2024-11-07T08:23:17.654Z"
   },
   {
    "duration": 6,
    "start_time": "2024-11-07T08:23:17.667Z"
   },
   {
    "duration": 56,
    "start_time": "2024-11-07T08:23:17.675Z"
   },
   {
    "duration": 10,
    "start_time": "2024-11-07T08:23:17.733Z"
   },
   {
    "duration": 261,
    "start_time": "2024-11-07T08:23:17.745Z"
   },
   {
    "duration": 49,
    "start_time": "2024-11-07T08:23:18.009Z"
   },
   {
    "duration": 16,
    "start_time": "2024-11-07T08:23:18.060Z"
   },
   {
    "duration": 18,
    "start_time": "2024-11-07T08:23:18.078Z"
   },
   {
    "duration": 13,
    "start_time": "2024-11-07T08:23:18.120Z"
   },
   {
    "duration": 222,
    "start_time": "2024-11-07T08:23:18.135Z"
   },
   {
    "duration": 221,
    "start_time": "2024-11-07T08:23:18.359Z"
   },
   {
    "duration": 220,
    "start_time": "2024-11-07T08:23:18.581Z"
   },
   {
    "duration": 4,
    "start_time": "2024-11-07T08:23:18.803Z"
   },
   {
    "duration": 62,
    "start_time": "2024-11-07T08:23:18.821Z"
   },
   {
    "duration": 4,
    "start_time": "2024-11-07T08:23:18.884Z"
   },
   {
    "duration": 12,
    "start_time": "2024-11-07T08:23:18.890Z"
   },
   {
    "duration": 52,
    "start_time": "2024-11-07T08:23:18.921Z"
   },
   {
    "duration": 4,
    "start_time": "2024-11-07T08:23:18.975Z"
   },
   {
    "duration": 18,
    "start_time": "2024-11-07T08:23:18.980Z"
   },
   {
    "duration": 80,
    "start_time": "2024-11-07T08:23:18.999Z"
   },
   {
    "duration": 18,
    "start_time": "2024-11-07T08:23:19.081Z"
   },
   {
    "duration": 5,
    "start_time": "2024-11-07T08:23:19.101Z"
   },
   {
    "duration": 36,
    "start_time": "2024-11-07T08:23:19.120Z"
   },
   {
    "duration": 25,
    "start_time": "2024-11-07T08:23:19.157Z"
   },
   {
    "duration": 73,
    "start_time": "2024-11-07T08:23:19.183Z"
   },
   {
    "duration": 122,
    "start_time": "2024-11-07T08:23:19.257Z"
   },
   {
    "duration": 0,
    "start_time": "2024-11-07T08:23:19.381Z"
   },
   {
    "duration": 58,
    "start_time": "2024-11-07T08:23:36.695Z"
   },
   {
    "duration": 29,
    "start_time": "2024-11-07T08:23:37.157Z"
   },
   {
    "duration": 54,
    "start_time": "2024-11-07T08:24:26.790Z"
   },
   {
    "duration": 10,
    "start_time": "2024-11-07T08:24:33.458Z"
   },
   {
    "duration": 71,
    "start_time": "2024-11-07T08:25:48.332Z"
   },
   {
    "duration": 170,
    "start_time": "2024-11-07T08:26:18.169Z"
   },
   {
    "duration": 49,
    "start_time": "2024-11-07T08:31:38.162Z"
   },
   {
    "duration": 9,
    "start_time": "2024-11-07T08:31:47.178Z"
   },
   {
    "duration": 12,
    "start_time": "2024-11-07T08:33:29.830Z"
   },
   {
    "duration": 9,
    "start_time": "2024-11-07T08:33:44.339Z"
   },
   {
    "duration": 3,
    "start_time": "2024-11-07T08:38:16.389Z"
   },
   {
    "duration": 53,
    "start_time": "2024-11-07T23:58:06.505Z"
   },
   {
    "duration": 1449,
    "start_time": "2024-11-07T23:58:14.004Z"
   },
   {
    "duration": 913,
    "start_time": "2024-11-07T23:58:15.456Z"
   },
   {
    "duration": 21,
    "start_time": "2024-11-07T23:58:16.371Z"
   },
   {
    "duration": 16,
    "start_time": "2024-11-07T23:58:16.393Z"
   },
   {
    "duration": 27,
    "start_time": "2024-11-07T23:58:16.412Z"
   },
   {
    "duration": 22,
    "start_time": "2024-11-07T23:58:16.441Z"
   },
   {
    "duration": 95,
    "start_time": "2024-11-07T23:58:16.465Z"
   },
   {
    "duration": 14,
    "start_time": "2024-11-07T23:58:16.561Z"
   },
   {
    "duration": 54,
    "start_time": "2024-11-07T23:58:16.577Z"
   },
   {
    "duration": 23,
    "start_time": "2024-11-07T23:58:16.633Z"
   },
   {
    "duration": 34,
    "start_time": "2024-11-07T23:58:16.657Z"
   },
   {
    "duration": 7,
    "start_time": "2024-11-07T23:58:16.692Z"
   },
   {
    "duration": 5,
    "start_time": "2024-11-07T23:58:16.701Z"
   },
   {
    "duration": 6,
    "start_time": "2024-11-07T23:58:16.709Z"
   },
   {
    "duration": 35,
    "start_time": "2024-11-07T23:58:16.717Z"
   },
   {
    "duration": 35,
    "start_time": "2024-11-07T23:58:16.754Z"
   },
   {
    "duration": 9,
    "start_time": "2024-11-07T23:58:16.790Z"
   },
   {
    "duration": 266,
    "start_time": "2024-11-07T23:58:16.800Z"
   },
   {
    "duration": 39,
    "start_time": "2024-11-07T23:58:17.068Z"
   },
   {
    "duration": 13,
    "start_time": "2024-11-07T23:58:17.109Z"
   },
   {
    "duration": 36,
    "start_time": "2024-11-07T23:58:17.124Z"
   },
   {
    "duration": 10,
    "start_time": "2024-11-07T23:58:17.162Z"
   },
   {
    "duration": 202,
    "start_time": "2024-11-07T23:58:17.174Z"
   },
   {
    "duration": 210,
    "start_time": "2024-11-07T23:58:17.377Z"
   },
   {
    "duration": 212,
    "start_time": "2024-11-07T23:58:17.588Z"
   },
   {
    "duration": 3,
    "start_time": "2024-11-07T23:58:17.802Z"
   },
   {
    "duration": 74,
    "start_time": "2024-11-07T23:58:17.806Z"
   },
   {
    "duration": 4,
    "start_time": "2024-11-07T23:58:17.881Z"
   },
   {
    "duration": 14,
    "start_time": "2024-11-07T23:58:17.886Z"
   },
   {
    "duration": 63,
    "start_time": "2024-11-07T23:58:17.902Z"
   },
   {
    "duration": 4,
    "start_time": "2024-11-07T23:58:17.966Z"
   },
   {
    "duration": 52,
    "start_time": "2024-11-07T23:58:17.971Z"
   },
   {
    "duration": 68,
    "start_time": "2024-11-07T23:58:18.024Z"
   },
   {
    "duration": 18,
    "start_time": "2024-11-07T23:58:18.094Z"
   },
   {
    "duration": 40,
    "start_time": "2024-11-07T23:58:18.114Z"
   },
   {
    "duration": 56,
    "start_time": "2024-11-07T23:58:18.156Z"
   },
   {
    "duration": 25,
    "start_time": "2024-11-07T23:58:18.214Z"
   },
   {
    "duration": 55,
    "start_time": "2024-11-07T23:58:18.241Z"
   },
   {
    "duration": 8,
    "start_time": "2024-11-07T23:58:18.298Z"
   },
   {
    "duration": 85,
    "start_time": "2024-11-07T23:58:18.308Z"
   },
   {
    "duration": 179,
    "start_time": "2024-11-07T23:58:18.397Z"
   },
   {
    "duration": 115,
    "start_time": "2024-11-07T23:58:18.578Z"
   },
   {
    "duration": 33,
    "start_time": "2024-11-07T23:59:04.566Z"
   },
   {
    "duration": 37,
    "start_time": "2024-11-08T01:30:28.101Z"
   },
   {
    "duration": 105,
    "start_time": "2024-11-08T01:31:19.169Z"
   },
   {
    "duration": 107,
    "start_time": "2024-11-08T01:38:23.007Z"
   },
   {
    "duration": 67,
    "start_time": "2024-11-08T01:39:38.704Z"
   },
   {
    "duration": 64,
    "start_time": "2024-11-08T01:39:41.904Z"
   },
   {
    "duration": 47,
    "start_time": "2024-11-08T01:44:21.842Z"
   },
   {
    "duration": 219,
    "start_time": "2024-11-08T01:47:32.813Z"
   },
   {
    "duration": 60,
    "start_time": "2024-11-08T01:52:51.997Z"
   },
   {
    "duration": 58,
    "start_time": "2024-11-08T01:53:07.484Z"
   },
   {
    "duration": 1195,
    "start_time": "2024-11-08T01:53:19.257Z"
   },
   {
    "duration": 210,
    "start_time": "2024-11-08T01:53:20.454Z"
   },
   {
    "duration": 19,
    "start_time": "2024-11-08T01:53:20.666Z"
   },
   {
    "duration": 8,
    "start_time": "2024-11-08T01:53:20.687Z"
   },
   {
    "duration": 31,
    "start_time": "2024-11-08T01:53:20.696Z"
   },
   {
    "duration": 40,
    "start_time": "2024-11-08T01:53:20.728Z"
   },
   {
    "duration": 100,
    "start_time": "2024-11-08T01:53:20.770Z"
   },
   {
    "duration": 4,
    "start_time": "2024-11-08T01:53:20.872Z"
   },
   {
    "duration": 57,
    "start_time": "2024-11-08T01:53:20.877Z"
   },
   {
    "duration": 11,
    "start_time": "2024-11-08T01:53:20.951Z"
   },
   {
    "duration": 34,
    "start_time": "2024-11-08T01:53:20.963Z"
   },
   {
    "duration": 8,
    "start_time": "2024-11-08T01:53:20.998Z"
   },
   {
    "duration": 8,
    "start_time": "2024-11-08T01:53:21.008Z"
   },
   {
    "duration": 35,
    "start_time": "2024-11-08T01:53:21.017Z"
   },
   {
    "duration": 5,
    "start_time": "2024-11-08T01:53:21.054Z"
   },
   {
    "duration": 36,
    "start_time": "2024-11-08T01:53:21.061Z"
   },
   {
    "duration": 9,
    "start_time": "2024-11-08T01:53:21.099Z"
   },
   {
    "duration": 251,
    "start_time": "2024-11-08T01:53:21.109Z"
   },
   {
    "duration": 41,
    "start_time": "2024-11-08T01:53:21.362Z"
   },
   {
    "duration": 13,
    "start_time": "2024-11-08T01:53:21.405Z"
   },
   {
    "duration": 41,
    "start_time": "2024-11-08T01:53:21.419Z"
   },
   {
    "duration": 33,
    "start_time": "2024-11-08T01:53:21.461Z"
   },
   {
    "duration": 194,
    "start_time": "2024-11-08T01:53:21.495Z"
   },
   {
    "duration": 208,
    "start_time": "2024-11-08T01:53:21.691Z"
   },
   {
    "duration": 216,
    "start_time": "2024-11-08T01:53:21.900Z"
   },
   {
    "duration": 4,
    "start_time": "2024-11-08T01:53:22.118Z"
   },
   {
    "duration": 91,
    "start_time": "2024-11-08T01:53:22.123Z"
   },
   {
    "duration": 4,
    "start_time": "2024-11-08T01:53:22.218Z"
   },
   {
    "duration": 49,
    "start_time": "2024-11-08T01:53:22.223Z"
   },
   {
    "duration": 49,
    "start_time": "2024-11-08T01:53:22.274Z"
   },
   {
    "duration": 4,
    "start_time": "2024-11-08T01:53:22.324Z"
   },
   {
    "duration": 24,
    "start_time": "2024-11-08T01:53:22.329Z"
   },
   {
    "duration": 60,
    "start_time": "2024-11-08T01:53:22.355Z"
   },
   {
    "duration": 36,
    "start_time": "2024-11-08T01:53:22.416Z"
   },
   {
    "duration": 4,
    "start_time": "2024-11-08T01:53:22.454Z"
   },
   {
    "duration": 34,
    "start_time": "2024-11-08T01:53:22.460Z"
   },
   {
    "duration": 24,
    "start_time": "2024-11-08T01:53:22.496Z"
   },
   {
    "duration": 88,
    "start_time": "2024-11-08T01:53:22.521Z"
   },
   {
    "duration": 8,
    "start_time": "2024-11-08T01:53:22.611Z"
   },
   {
    "duration": 81,
    "start_time": "2024-11-08T01:53:22.621Z"
   },
   {
    "duration": 179,
    "start_time": "2024-11-08T01:53:22.704Z"
   },
   {
    "duration": 32,
    "start_time": "2024-11-08T01:53:22.885Z"
   },
   {
    "duration": 220,
    "start_time": "2024-11-08T01:53:22.918Z"
   },
   {
    "duration": 54,
    "start_time": "2024-11-08T01:53:23.140Z"
   },
   {
    "duration": 69,
    "start_time": "2024-11-08T01:53:23.196Z"
   },
   {
    "duration": 232,
    "start_time": "2024-11-08T01:54:04.324Z"
   },
   {
    "duration": 225,
    "start_time": "2024-11-08T01:54:12.318Z"
   },
   {
    "duration": 232,
    "start_time": "2024-11-08T01:54:25.529Z"
   },
   {
    "duration": 226,
    "start_time": "2024-11-08T01:54:44.867Z"
   },
   {
    "duration": 227,
    "start_time": "2024-11-08T01:55:06.650Z"
   },
   {
    "duration": 236,
    "start_time": "2024-11-08T01:55:14.652Z"
   },
   {
    "duration": 225,
    "start_time": "2024-11-08T01:55:32.856Z"
   },
   {
    "duration": 227,
    "start_time": "2024-11-08T01:56:04.298Z"
   },
   {
    "duration": 4,
    "start_time": "2024-11-08T02:28:54.825Z"
   },
   {
    "duration": 5,
    "start_time": "2024-11-08T02:43:29.689Z"
   },
   {
    "duration": 19,
    "start_time": "2024-11-08T02:44:17.638Z"
   },
   {
    "duration": 1262,
    "start_time": "2024-11-08T02:44:42.090Z"
   },
   {
    "duration": 206,
    "start_time": "2024-11-08T02:44:43.354Z"
   },
   {
    "duration": 20,
    "start_time": "2024-11-08T02:44:43.561Z"
   },
   {
    "duration": 8,
    "start_time": "2024-11-08T02:44:43.582Z"
   },
   {
    "duration": 32,
    "start_time": "2024-11-08T02:44:43.592Z"
   },
   {
    "duration": 32,
    "start_time": "2024-11-08T02:44:43.626Z"
   },
   {
    "duration": 101,
    "start_time": "2024-11-08T02:44:43.659Z"
   },
   {
    "duration": 4,
    "start_time": "2024-11-08T02:44:43.762Z"
   },
   {
    "duration": 57,
    "start_time": "2024-11-08T02:44:43.767Z"
   },
   {
    "duration": 31,
    "start_time": "2024-11-08T02:44:43.825Z"
   },
   {
    "duration": 45,
    "start_time": "2024-11-08T02:44:43.858Z"
   },
   {
    "duration": 13,
    "start_time": "2024-11-08T02:44:43.906Z"
   },
   {
    "duration": 34,
    "start_time": "2024-11-08T02:44:43.921Z"
   },
   {
    "duration": 14,
    "start_time": "2024-11-08T02:44:43.960Z"
   },
   {
    "duration": 8,
    "start_time": "2024-11-08T02:44:43.977Z"
   },
   {
    "duration": 35,
    "start_time": "2024-11-08T02:44:43.987Z"
   },
   {
    "duration": 35,
    "start_time": "2024-11-08T02:44:44.024Z"
   },
   {
    "duration": 251,
    "start_time": "2024-11-08T02:44:44.060Z"
   },
   {
    "duration": 50,
    "start_time": "2024-11-08T02:44:44.312Z"
   },
   {
    "duration": 14,
    "start_time": "2024-11-08T02:44:44.364Z"
   },
   {
    "duration": 19,
    "start_time": "2024-11-08T02:44:44.380Z"
   },
   {
    "duration": 23,
    "start_time": "2024-11-08T02:44:44.400Z"
   },
   {
    "duration": 210,
    "start_time": "2024-11-08T02:44:44.425Z"
   },
   {
    "duration": 210,
    "start_time": "2024-11-08T02:44:44.637Z"
   },
   {
    "duration": 211,
    "start_time": "2024-11-08T02:44:44.849Z"
   },
   {
    "duration": 4,
    "start_time": "2024-11-08T02:44:45.062Z"
   },
   {
    "duration": 75,
    "start_time": "2024-11-08T02:44:45.067Z"
   },
   {
    "duration": 10,
    "start_time": "2024-11-08T02:44:45.143Z"
   },
   {
    "duration": 20,
    "start_time": "2024-11-08T02:44:45.154Z"
   },
   {
    "duration": 49,
    "start_time": "2024-11-08T02:44:45.176Z"
   },
   {
    "duration": 3,
    "start_time": "2024-11-08T02:44:45.227Z"
   },
   {
    "duration": 23,
    "start_time": "2024-11-08T02:44:45.232Z"
   },
   {
    "duration": 76,
    "start_time": "2024-11-08T02:44:45.257Z"
   },
   {
    "duration": 28,
    "start_time": "2024-11-08T02:44:45.334Z"
   },
   {
    "duration": 4,
    "start_time": "2024-11-08T02:44:45.364Z"
   },
   {
    "duration": 43,
    "start_time": "2024-11-08T02:44:45.370Z"
   },
   {
    "duration": 24,
    "start_time": "2024-11-08T02:44:45.415Z"
   },
   {
    "duration": 71,
    "start_time": "2024-11-08T02:44:45.453Z"
   },
   {
    "duration": 9,
    "start_time": "2024-11-08T02:44:45.525Z"
   },
   {
    "duration": 71,
    "start_time": "2024-11-08T02:44:45.536Z"
   },
   {
    "duration": 188,
    "start_time": "2024-11-08T02:44:45.610Z"
   },
   {
    "duration": 32,
    "start_time": "2024-11-08T02:44:45.800Z"
   },
   {
    "duration": 237,
    "start_time": "2024-11-08T02:44:45.834Z"
   },
   {
    "duration": 47,
    "start_time": "2024-11-08T02:44:46.074Z"
   },
   {
    "duration": 239,
    "start_time": "2024-11-08T02:44:46.123Z"
   },
   {
    "duration": 4,
    "start_time": "2024-11-08T02:44:46.363Z"
   },
   {
    "duration": 16,
    "start_time": "2024-11-08T02:44:46.368Z"
   },
   {
    "duration": 1208,
    "start_time": "2024-11-08T02:46:31.082Z"
   },
   {
    "duration": 205,
    "start_time": "2024-11-08T02:46:32.293Z"
   },
   {
    "duration": 21,
    "start_time": "2024-11-08T02:46:32.500Z"
   },
   {
    "duration": 29,
    "start_time": "2024-11-08T02:46:32.523Z"
   },
   {
    "duration": 19,
    "start_time": "2024-11-08T02:46:32.554Z"
   },
   {
    "duration": 23,
    "start_time": "2024-11-08T02:46:32.574Z"
   },
   {
    "duration": 104,
    "start_time": "2024-11-08T02:46:32.599Z"
   },
   {
    "duration": 3,
    "start_time": "2024-11-08T02:46:32.705Z"
   },
   {
    "duration": 82,
    "start_time": "2024-11-08T02:46:32.710Z"
   },
   {
    "duration": 10,
    "start_time": "2024-11-08T02:46:32.794Z"
   },
   {
    "duration": 48,
    "start_time": "2024-11-08T02:46:32.805Z"
   },
   {
    "duration": 8,
    "start_time": "2024-11-08T02:46:32.854Z"
   },
   {
    "duration": 17,
    "start_time": "2024-11-08T02:46:32.864Z"
   },
   {
    "duration": 22,
    "start_time": "2024-11-08T02:46:32.884Z"
   },
   {
    "duration": 7,
    "start_time": "2024-11-08T02:46:32.907Z"
   },
   {
    "duration": 37,
    "start_time": "2024-11-08T02:46:32.916Z"
   },
   {
    "duration": 9,
    "start_time": "2024-11-08T02:46:32.954Z"
   },
   {
    "duration": 250,
    "start_time": "2024-11-08T02:46:32.965Z"
   },
   {
    "duration": 48,
    "start_time": "2024-11-08T02:46:33.217Z"
   },
   {
    "duration": 15,
    "start_time": "2024-11-08T02:46:33.266Z"
   },
   {
    "duration": 39,
    "start_time": "2024-11-08T02:46:33.282Z"
   },
   {
    "duration": 8,
    "start_time": "2024-11-08T02:46:33.323Z"
   },
   {
    "duration": 190,
    "start_time": "2024-11-08T02:46:33.333Z"
   },
   {
    "duration": 198,
    "start_time": "2024-11-08T02:46:33.524Z"
   },
   {
    "duration": 232,
    "start_time": "2024-11-08T02:46:33.724Z"
   },
   {
    "duration": 5,
    "start_time": "2024-11-08T02:46:33.958Z"
   },
   {
    "duration": 67,
    "start_time": "2024-11-08T02:46:33.964Z"
   },
   {
    "duration": 22,
    "start_time": "2024-11-08T02:46:34.032Z"
   },
   {
    "duration": 15,
    "start_time": "2024-11-08T02:46:34.056Z"
   },
   {
    "duration": 49,
    "start_time": "2024-11-08T02:46:34.073Z"
   },
   {
    "duration": 3,
    "start_time": "2024-11-08T02:46:34.124Z"
   },
   {
    "duration": 10,
    "start_time": "2024-11-08T02:46:34.152Z"
   },
   {
    "duration": 60,
    "start_time": "2024-11-08T02:46:34.164Z"
   },
   {
    "duration": 40,
    "start_time": "2024-11-08T02:46:34.226Z"
   },
   {
    "duration": 24,
    "start_time": "2024-11-08T02:46:34.268Z"
   },
   {
    "duration": 51,
    "start_time": "2024-11-08T02:46:34.293Z"
   },
   {
    "duration": 23,
    "start_time": "2024-11-08T02:46:34.345Z"
   },
   {
    "duration": 53,
    "start_time": "2024-11-08T02:46:34.370Z"
   },
   {
    "duration": 27,
    "start_time": "2024-11-08T02:46:34.425Z"
   },
   {
    "duration": 99,
    "start_time": "2024-11-08T02:46:34.454Z"
   },
   {
    "duration": 180,
    "start_time": "2024-11-08T02:46:34.556Z"
   },
   {
    "duration": 35,
    "start_time": "2024-11-08T02:46:34.738Z"
   },
   {
    "duration": 213,
    "start_time": "2024-11-08T02:46:34.775Z"
   },
   {
    "duration": 43,
    "start_time": "2024-11-08T02:46:34.990Z"
   },
   {
    "duration": 233,
    "start_time": "2024-11-08T02:46:35.034Z"
   },
   {
    "duration": 3,
    "start_time": "2024-11-08T02:46:35.269Z"
   },
   {
    "duration": 70,
    "start_time": "2024-11-08T02:46:35.274Z"
   },
   {
    "duration": 87,
    "start_time": "2024-11-08T03:08:22.107Z"
   },
   {
    "duration": 12,
    "start_time": "2024-11-08T03:13:40.041Z"
   },
   {
    "duration": 1244,
    "start_time": "2024-11-08T03:14:55.218Z"
   },
   {
    "duration": 209,
    "start_time": "2024-11-08T03:14:56.464Z"
   },
   {
    "duration": 21,
    "start_time": "2024-11-08T03:14:56.675Z"
   },
   {
    "duration": 8,
    "start_time": "2024-11-08T03:14:56.699Z"
   },
   {
    "duration": 46,
    "start_time": "2024-11-08T03:14:56.709Z"
   },
   {
    "duration": 25,
    "start_time": "2024-11-08T03:14:56.757Z"
   },
   {
    "duration": 109,
    "start_time": "2024-11-08T03:14:56.784Z"
   },
   {
    "duration": 4,
    "start_time": "2024-11-08T03:14:56.896Z"
   },
   {
    "duration": 74,
    "start_time": "2024-11-08T03:14:56.902Z"
   },
   {
    "duration": 11,
    "start_time": "2024-11-08T03:14:56.979Z"
   },
   {
    "duration": 35,
    "start_time": "2024-11-08T03:14:56.991Z"
   },
   {
    "duration": 29,
    "start_time": "2024-11-08T03:14:57.028Z"
   },
   {
    "duration": 6,
    "start_time": "2024-11-08T03:14:57.058Z"
   },
   {
    "duration": 7,
    "start_time": "2024-11-08T03:14:57.065Z"
   },
   {
    "duration": 7,
    "start_time": "2024-11-08T03:14:57.074Z"
   },
   {
    "duration": 34,
    "start_time": "2024-11-08T03:14:57.082Z"
   },
   {
    "duration": 43,
    "start_time": "2024-11-08T03:14:57.117Z"
   },
   {
    "duration": 250,
    "start_time": "2024-11-08T03:14:57.162Z"
   },
   {
    "duration": 49,
    "start_time": "2024-11-08T03:14:57.413Z"
   },
   {
    "duration": 15,
    "start_time": "2024-11-08T03:14:57.463Z"
   },
   {
    "duration": 18,
    "start_time": "2024-11-08T03:14:57.479Z"
   },
   {
    "duration": 14,
    "start_time": "2024-11-08T03:14:57.499Z"
   },
   {
    "duration": 218,
    "start_time": "2024-11-08T03:14:57.515Z"
   },
   {
    "duration": 210,
    "start_time": "2024-11-08T03:14:57.735Z"
   },
   {
    "duration": 211,
    "start_time": "2024-11-08T03:14:57.947Z"
   },
   {
    "duration": 3,
    "start_time": "2024-11-08T03:14:58.160Z"
   },
   {
    "duration": 67,
    "start_time": "2024-11-08T03:14:58.164Z"
   },
   {
    "duration": 19,
    "start_time": "2024-11-08T03:14:58.235Z"
   },
   {
    "duration": 10,
    "start_time": "2024-11-08T03:14:58.256Z"
   },
   {
    "duration": 50,
    "start_time": "2024-11-08T03:14:58.268Z"
   },
   {
    "duration": 3,
    "start_time": "2024-11-08T03:14:58.320Z"
   },
   {
    "duration": 11,
    "start_time": "2024-11-08T03:14:58.351Z"
   },
   {
    "duration": 71,
    "start_time": "2024-11-08T03:14:58.364Z"
   },
   {
    "duration": 27,
    "start_time": "2024-11-08T03:14:58.437Z"
   },
   {
    "duration": 4,
    "start_time": "2024-11-08T03:14:58.466Z"
   },
   {
    "duration": 39,
    "start_time": "2024-11-08T03:14:58.472Z"
   },
   {
    "duration": 44,
    "start_time": "2024-11-08T03:14:58.513Z"
   },
   {
    "duration": 72,
    "start_time": "2024-11-08T03:14:58.559Z"
   },
   {
    "duration": 10,
    "start_time": "2024-11-08T03:14:58.632Z"
   },
   {
    "duration": 74,
    "start_time": "2024-11-08T03:14:58.643Z"
   },
   {
    "duration": 193,
    "start_time": "2024-11-08T03:14:58.718Z"
   },
   {
    "duration": 40,
    "start_time": "2024-11-08T03:14:58.913Z"
   },
   {
    "duration": 221,
    "start_time": "2024-11-08T03:14:58.955Z"
   },
   {
    "duration": 49,
    "start_time": "2024-11-08T03:14:59.178Z"
   },
   {
    "duration": 239,
    "start_time": "2024-11-08T03:14:59.229Z"
   },
   {
    "duration": 3,
    "start_time": "2024-11-08T03:14:59.470Z"
   },
   {
    "duration": 22,
    "start_time": "2024-11-08T03:14:59.475Z"
   },
   {
    "duration": 61,
    "start_time": "2024-11-08T03:14:59.499Z"
   },
   {
    "duration": 13,
    "start_time": "2024-11-08T03:14:59.562Z"
   },
   {
    "duration": 1182,
    "start_time": "2024-11-08T03:20:28.173Z"
   },
   {
    "duration": 203,
    "start_time": "2024-11-08T03:20:29.357Z"
   },
   {
    "duration": 20,
    "start_time": "2024-11-08T03:20:29.561Z"
   },
   {
    "duration": 29,
    "start_time": "2024-11-08T03:20:29.583Z"
   },
   {
    "duration": 24,
    "start_time": "2024-11-08T03:20:29.614Z"
   },
   {
    "duration": 23,
    "start_time": "2024-11-08T03:20:29.640Z"
   },
   {
    "duration": 95,
    "start_time": "2024-11-08T03:20:29.665Z"
   },
   {
    "duration": 4,
    "start_time": "2024-11-08T03:20:29.761Z"
   },
   {
    "duration": 55,
    "start_time": "2024-11-08T03:20:29.767Z"
   },
   {
    "duration": 35,
    "start_time": "2024-11-08T03:20:29.826Z"
   },
   {
    "duration": 50,
    "start_time": "2024-11-08T03:20:29.862Z"
   },
   {
    "duration": 8,
    "start_time": "2024-11-08T03:20:29.913Z"
   },
   {
    "duration": 10,
    "start_time": "2024-11-08T03:20:29.923Z"
   },
   {
    "duration": 17,
    "start_time": "2024-11-08T03:20:29.935Z"
   },
   {
    "duration": 6,
    "start_time": "2024-11-08T03:20:29.954Z"
   },
   {
    "duration": 33,
    "start_time": "2024-11-08T03:20:29.962Z"
   },
   {
    "duration": 11,
    "start_time": "2024-11-08T03:20:29.996Z"
   },
   {
    "duration": 279,
    "start_time": "2024-11-08T03:20:30.008Z"
   },
   {
    "duration": 40,
    "start_time": "2024-11-08T03:20:30.288Z"
   },
   {
    "duration": 28,
    "start_time": "2024-11-08T03:20:30.330Z"
   },
   {
    "duration": 84,
    "start_time": "2024-11-08T03:20:30.360Z"
   },
   {
    "duration": 19,
    "start_time": "2024-11-08T03:20:30.446Z"
   },
   {
    "duration": 197,
    "start_time": "2024-11-08T03:20:30.467Z"
   },
   {
    "duration": 211,
    "start_time": "2024-11-08T03:20:30.666Z"
   },
   {
    "duration": 219,
    "start_time": "2024-11-08T03:20:30.879Z"
   },
   {
    "duration": 3,
    "start_time": "2024-11-08T03:20:31.100Z"
   },
   {
    "duration": 71,
    "start_time": "2024-11-08T03:20:31.105Z"
   },
   {
    "duration": 4,
    "start_time": "2024-11-08T03:20:31.179Z"
   },
   {
    "duration": 24,
    "start_time": "2024-11-08T03:20:31.184Z"
   },
   {
    "duration": 57,
    "start_time": "2024-11-08T03:20:31.210Z"
   },
   {
    "duration": 4,
    "start_time": "2024-11-08T03:20:31.269Z"
   },
   {
    "duration": 40,
    "start_time": "2024-11-08T03:20:31.275Z"
   },
   {
    "duration": 80,
    "start_time": "2024-11-08T03:20:31.317Z"
   },
   {
    "duration": 19,
    "start_time": "2024-11-08T03:20:31.399Z"
   },
   {
    "duration": 5,
    "start_time": "2024-11-08T03:20:31.419Z"
   },
   {
    "duration": 63,
    "start_time": "2024-11-08T03:20:31.425Z"
   },
   {
    "duration": 25,
    "start_time": "2024-11-08T03:20:31.490Z"
   },
   {
    "duration": 75,
    "start_time": "2024-11-08T03:20:31.516Z"
   },
   {
    "duration": 22,
    "start_time": "2024-11-08T03:20:31.593Z"
   },
   {
    "duration": 77,
    "start_time": "2024-11-08T03:20:31.616Z"
   },
   {
    "duration": 194,
    "start_time": "2024-11-08T03:20:31.694Z"
   },
   {
    "duration": 32,
    "start_time": "2024-11-08T03:20:31.890Z"
   },
   {
    "duration": 228,
    "start_time": "2024-11-08T03:20:31.924Z"
   },
   {
    "duration": 44,
    "start_time": "2024-11-08T03:20:32.153Z"
   },
   {
    "duration": 8,
    "start_time": "2024-11-08T03:20:32.199Z"
   },
   {
    "duration": 0,
    "start_time": "2024-11-08T03:20:32.209Z"
   },
   {
    "duration": 0,
    "start_time": "2024-11-08T03:20:32.210Z"
   },
   {
    "duration": 0,
    "start_time": "2024-11-08T03:20:32.211Z"
   },
   {
    "duration": 0,
    "start_time": "2024-11-08T03:20:32.212Z"
   },
   {
    "duration": 0,
    "start_time": "2024-11-08T03:20:32.213Z"
   },
   {
    "duration": 93,
    "start_time": "2024-11-08T03:21:17.201Z"
   },
   {
    "duration": 9,
    "start_time": "2024-11-08T03:21:34.090Z"
   },
   {
    "duration": 3,
    "start_time": "2024-11-08T03:22:40.988Z"
   },
   {
    "duration": 36,
    "start_time": "2024-11-08T03:22:45.297Z"
   },
   {
    "duration": 1232,
    "start_time": "2024-11-08T03:23:28.321Z"
   },
   {
    "duration": 201,
    "start_time": "2024-11-08T03:23:29.555Z"
   },
   {
    "duration": 19,
    "start_time": "2024-11-08T03:23:29.758Z"
   },
   {
    "duration": 38,
    "start_time": "2024-11-08T03:23:29.779Z"
   },
   {
    "duration": 21,
    "start_time": "2024-11-08T03:23:29.821Z"
   },
   {
    "duration": 27,
    "start_time": "2024-11-08T03:23:29.844Z"
   },
   {
    "duration": 101,
    "start_time": "2024-11-08T03:23:29.872Z"
   },
   {
    "duration": 4,
    "start_time": "2024-11-08T03:23:29.974Z"
   },
   {
    "duration": 58,
    "start_time": "2024-11-08T03:23:29.979Z"
   },
   {
    "duration": 22,
    "start_time": "2024-11-08T03:23:30.038Z"
   },
   {
    "duration": 47,
    "start_time": "2024-11-08T03:23:30.062Z"
   },
   {
    "duration": 9,
    "start_time": "2024-11-08T03:23:30.111Z"
   },
   {
    "duration": 44,
    "start_time": "2024-11-08T03:23:30.121Z"
   },
   {
    "duration": 26,
    "start_time": "2024-11-08T03:23:30.169Z"
   },
   {
    "duration": 38,
    "start_time": "2024-11-08T03:23:30.197Z"
   },
   {
    "duration": 54,
    "start_time": "2024-11-08T03:23:30.237Z"
   },
   {
    "duration": 30,
    "start_time": "2024-11-08T03:23:30.293Z"
   },
   {
    "duration": 292,
    "start_time": "2024-11-08T03:23:30.325Z"
   },
   {
    "duration": 47,
    "start_time": "2024-11-08T03:23:30.619Z"
   },
   {
    "duration": 13,
    "start_time": "2024-11-08T03:23:30.668Z"
   },
   {
    "duration": 28,
    "start_time": "2024-11-08T03:23:30.683Z"
   },
   {
    "duration": 9,
    "start_time": "2024-11-08T03:23:30.713Z"
   },
   {
    "duration": 213,
    "start_time": "2024-11-08T03:23:30.724Z"
   },
   {
    "duration": 209,
    "start_time": "2024-11-08T03:23:30.939Z"
   },
   {
    "duration": 210,
    "start_time": "2024-11-08T03:23:31.152Z"
   },
   {
    "duration": 4,
    "start_time": "2024-11-08T03:23:31.364Z"
   },
   {
    "duration": 60,
    "start_time": "2024-11-08T03:23:31.369Z"
   },
   {
    "duration": 3,
    "start_time": "2024-11-08T03:23:31.431Z"
   },
   {
    "duration": 25,
    "start_time": "2024-11-08T03:23:31.436Z"
   },
   {
    "duration": 56,
    "start_time": "2024-11-08T03:23:31.463Z"
   },
   {
    "duration": 3,
    "start_time": "2024-11-08T03:23:31.521Z"
   },
   {
    "duration": 52,
    "start_time": "2024-11-08T03:23:31.526Z"
   },
   {
    "duration": 109,
    "start_time": "2024-11-08T03:23:31.580Z"
   },
   {
    "duration": 18,
    "start_time": "2024-11-08T03:23:31.691Z"
   },
   {
    "duration": 51,
    "start_time": "2024-11-08T03:23:31.711Z"
   },
   {
    "duration": 37,
    "start_time": "2024-11-08T03:23:31.764Z"
   },
   {
    "duration": 24,
    "start_time": "2024-11-08T03:23:31.803Z"
   },
   {
    "duration": 57,
    "start_time": "2024-11-08T03:23:31.829Z"
   },
   {
    "duration": 23,
    "start_time": "2024-11-08T03:23:31.887Z"
   },
   {
    "duration": 74,
    "start_time": "2024-11-08T03:23:31.911Z"
   },
   {
    "duration": 191,
    "start_time": "2024-11-08T03:23:31.989Z"
   },
   {
    "duration": 31,
    "start_time": "2024-11-08T03:23:32.182Z"
   },
   {
    "duration": 232,
    "start_time": "2024-11-08T03:23:32.215Z"
   },
   {
    "duration": 44,
    "start_time": "2024-11-08T03:23:32.449Z"
   },
   {
    "duration": 98,
    "start_time": "2024-11-08T03:23:32.495Z"
   },
   {
    "duration": 8,
    "start_time": "2024-11-08T03:23:32.594Z"
   },
   {
    "duration": 98,
    "start_time": "2024-11-08T03:23:32.603Z"
   },
   {
    "duration": 0,
    "start_time": "2024-11-08T03:23:32.702Z"
   },
   {
    "duration": 0,
    "start_time": "2024-11-08T03:23:32.704Z"
   },
   {
    "duration": 0,
    "start_time": "2024-11-08T03:23:32.704Z"
   },
   {
    "duration": 0,
    "start_time": "2024-11-08T03:23:32.706Z"
   },
   {
    "duration": 0,
    "start_time": "2024-11-08T03:23:32.707Z"
   },
   {
    "duration": 8,
    "start_time": "2024-11-08T03:23:56.726Z"
   },
   {
    "duration": 5,
    "start_time": "2024-11-08T03:24:23.335Z"
   },
   {
    "duration": 823,
    "start_time": "2024-11-08T03:24:36.731Z"
   },
   {
    "duration": 5,
    "start_time": "2024-11-08T03:25:49.188Z"
   },
   {
    "duration": 13,
    "start_time": "2024-11-08T03:25:51.878Z"
   },
   {
    "duration": 1250,
    "start_time": "2024-11-08T03:26:45.162Z"
   },
   {
    "duration": 203,
    "start_time": "2024-11-08T03:26:46.414Z"
   },
   {
    "duration": 20,
    "start_time": "2024-11-08T03:26:46.619Z"
   },
   {
    "duration": 16,
    "start_time": "2024-11-08T03:26:46.641Z"
   },
   {
    "duration": 24,
    "start_time": "2024-11-08T03:26:46.659Z"
   },
   {
    "duration": 23,
    "start_time": "2024-11-08T03:26:46.685Z"
   },
   {
    "duration": 104,
    "start_time": "2024-11-08T03:26:46.710Z"
   },
   {
    "duration": 4,
    "start_time": "2024-11-08T03:26:46.815Z"
   },
   {
    "duration": 75,
    "start_time": "2024-11-08T03:26:46.821Z"
   },
   {
    "duration": 10,
    "start_time": "2024-11-08T03:26:46.899Z"
   },
   {
    "duration": 47,
    "start_time": "2024-11-08T03:26:46.910Z"
   },
   {
    "duration": 9,
    "start_time": "2024-11-08T03:26:46.958Z"
   },
   {
    "duration": 5,
    "start_time": "2024-11-08T03:26:46.968Z"
   },
   {
    "duration": 10,
    "start_time": "2024-11-08T03:26:46.975Z"
   },
   {
    "duration": 5,
    "start_time": "2024-11-08T03:26:46.987Z"
   },
   {
    "duration": 66,
    "start_time": "2024-11-08T03:26:46.994Z"
   },
   {
    "duration": 9,
    "start_time": "2024-11-08T03:26:47.062Z"
   },
   {
    "duration": 256,
    "start_time": "2024-11-08T03:26:47.073Z"
   },
   {
    "duration": 49,
    "start_time": "2024-11-08T03:26:47.330Z"
   },
   {
    "duration": 14,
    "start_time": "2024-11-08T03:26:47.381Z"
   },
   {
    "duration": 21,
    "start_time": "2024-11-08T03:26:47.397Z"
   },
   {
    "duration": 10,
    "start_time": "2024-11-08T03:26:47.420Z"
   },
   {
    "duration": 201,
    "start_time": "2024-11-08T03:26:47.451Z"
   },
   {
    "duration": 220,
    "start_time": "2024-11-08T03:26:47.655Z"
   },
   {
    "duration": 217,
    "start_time": "2024-11-08T03:26:47.877Z"
   },
   {
    "duration": 4,
    "start_time": "2024-11-08T03:26:48.096Z"
   },
   {
    "duration": 75,
    "start_time": "2024-11-08T03:26:48.102Z"
   },
   {
    "duration": 4,
    "start_time": "2024-11-08T03:26:48.182Z"
   },
   {
    "duration": 10,
    "start_time": "2024-11-08T03:26:48.188Z"
   },
   {
    "duration": 79,
    "start_time": "2024-11-08T03:26:48.200Z"
   },
   {
    "duration": 5,
    "start_time": "2024-11-08T03:26:48.281Z"
   },
   {
    "duration": 11,
    "start_time": "2024-11-08T03:26:48.287Z"
   },
   {
    "duration": 86,
    "start_time": "2024-11-08T03:26:48.300Z"
   },
   {
    "duration": 19,
    "start_time": "2024-11-08T03:26:48.388Z"
   },
   {
    "duration": 15,
    "start_time": "2024-11-08T03:26:48.409Z"
   },
   {
    "duration": 51,
    "start_time": "2024-11-08T03:26:48.426Z"
   },
   {
    "duration": 25,
    "start_time": "2024-11-08T03:26:48.479Z"
   },
   {
    "duration": 76,
    "start_time": "2024-11-08T03:26:48.506Z"
   },
   {
    "duration": 9,
    "start_time": "2024-11-08T03:26:48.584Z"
   },
   {
    "duration": 93,
    "start_time": "2024-11-08T03:26:48.595Z"
   },
   {
    "duration": 185,
    "start_time": "2024-11-08T03:26:48.690Z"
   },
   {
    "duration": 34,
    "start_time": "2024-11-08T03:26:48.877Z"
   },
   {
    "duration": 226,
    "start_time": "2024-11-08T03:26:48.913Z"
   },
   {
    "duration": 51,
    "start_time": "2024-11-08T03:26:49.141Z"
   },
   {
    "duration": 99,
    "start_time": "2024-11-08T03:26:49.194Z"
   },
   {
    "duration": 7,
    "start_time": "2024-11-08T03:26:49.294Z"
   },
   {
    "duration": 16,
    "start_time": "2024-11-08T03:26:49.302Z"
   },
   {
    "duration": 6,
    "start_time": "2024-11-08T03:26:49.319Z"
   },
   {
    "duration": 26,
    "start_time": "2024-11-08T03:26:49.326Z"
   },
   {
    "duration": 0,
    "start_time": "2024-11-08T03:26:49.354Z"
   },
   {
    "duration": 0,
    "start_time": "2024-11-08T03:26:49.355Z"
   },
   {
    "duration": 0,
    "start_time": "2024-11-08T03:26:49.356Z"
   },
   {
    "duration": 0,
    "start_time": "2024-11-08T03:26:49.357Z"
   },
   {
    "duration": 0,
    "start_time": "2024-11-08T03:26:49.359Z"
   },
   {
    "duration": 0,
    "start_time": "2024-11-08T03:26:49.360Z"
   },
   {
    "duration": 8,
    "start_time": "2024-11-08T03:28:03.925Z"
   },
   {
    "duration": 10,
    "start_time": "2024-11-08T03:28:10.596Z"
   },
   {
    "duration": 10,
    "start_time": "2024-11-08T03:31:04.177Z"
   },
   {
    "duration": 63,
    "start_time": "2024-11-08T03:31:08.888Z"
   },
   {
    "duration": 10,
    "start_time": "2024-11-08T03:32:17.300Z"
   },
   {
    "duration": 9,
    "start_time": "2024-11-08T03:33:01.635Z"
   },
   {
    "duration": 6,
    "start_time": "2024-11-08T03:34:42.448Z"
   },
   {
    "duration": 1164,
    "start_time": "2024-11-08T03:34:47.101Z"
   },
   {
    "duration": 202,
    "start_time": "2024-11-08T03:34:48.267Z"
   },
   {
    "duration": 19,
    "start_time": "2024-11-08T03:34:48.471Z"
   },
   {
    "duration": 14,
    "start_time": "2024-11-08T03:34:48.491Z"
   },
   {
    "duration": 21,
    "start_time": "2024-11-08T03:34:48.509Z"
   },
   {
    "duration": 42,
    "start_time": "2024-11-08T03:34:48.532Z"
   },
   {
    "duration": 100,
    "start_time": "2024-11-08T03:34:48.576Z"
   },
   {
    "duration": 5,
    "start_time": "2024-11-08T03:34:48.678Z"
   },
   {
    "duration": 76,
    "start_time": "2024-11-08T03:34:48.684Z"
   },
   {
    "duration": 11,
    "start_time": "2024-11-08T03:34:48.761Z"
   },
   {
    "duration": 35,
    "start_time": "2024-11-08T03:34:48.773Z"
   },
   {
    "duration": 10,
    "start_time": "2024-11-08T03:34:48.810Z"
   },
   {
    "duration": 34,
    "start_time": "2024-11-08T03:34:48.822Z"
   },
   {
    "duration": 51,
    "start_time": "2024-11-08T03:34:48.860Z"
   },
   {
    "duration": 13,
    "start_time": "2024-11-08T03:34:48.913Z"
   },
   {
    "duration": 34,
    "start_time": "2024-11-08T03:34:48.929Z"
   },
   {
    "duration": 9,
    "start_time": "2024-11-08T03:34:48.966Z"
   },
   {
    "duration": 249,
    "start_time": "2024-11-08T03:34:48.977Z"
   },
   {
    "duration": 44,
    "start_time": "2024-11-08T03:34:49.228Z"
   },
   {
    "duration": 14,
    "start_time": "2024-11-08T03:34:49.273Z"
   },
   {
    "duration": 20,
    "start_time": "2024-11-08T03:34:49.289Z"
   },
   {
    "duration": 10,
    "start_time": "2024-11-08T03:34:49.310Z"
   },
   {
    "duration": 218,
    "start_time": "2024-11-08T03:34:49.321Z"
   },
   {
    "duration": 206,
    "start_time": "2024-11-08T03:34:49.541Z"
   },
   {
    "duration": 208,
    "start_time": "2024-11-08T03:34:49.751Z"
   },
   {
    "duration": 4,
    "start_time": "2024-11-08T03:34:49.960Z"
   },
   {
    "duration": 61,
    "start_time": "2024-11-08T03:34:49.966Z"
   },
   {
    "duration": 4,
    "start_time": "2024-11-08T03:34:50.029Z"
   },
   {
    "duration": 10,
    "start_time": "2024-11-08T03:34:50.053Z"
   },
   {
    "duration": 56,
    "start_time": "2024-11-08T03:34:50.065Z"
   },
   {
    "duration": 4,
    "start_time": "2024-11-08T03:34:50.122Z"
   },
   {
    "duration": 29,
    "start_time": "2024-11-08T03:34:50.128Z"
   },
   {
    "duration": 63,
    "start_time": "2024-11-08T03:34:50.159Z"
   },
   {
    "duration": 36,
    "start_time": "2024-11-08T03:34:50.224Z"
   },
   {
    "duration": 5,
    "start_time": "2024-11-08T03:34:50.261Z"
   },
   {
    "duration": 40,
    "start_time": "2024-11-08T03:34:50.267Z"
   },
   {
    "duration": 25,
    "start_time": "2024-11-08T03:34:50.309Z"
   },
   {
    "duration": 67,
    "start_time": "2024-11-08T03:34:50.335Z"
   },
   {
    "duration": 9,
    "start_time": "2024-11-08T03:34:50.404Z"
   },
   {
    "duration": 89,
    "start_time": "2024-11-08T03:34:50.415Z"
   },
   {
    "duration": 186,
    "start_time": "2024-11-08T03:34:50.508Z"
   },
   {
    "duration": 33,
    "start_time": "2024-11-08T03:34:50.696Z"
   },
   {
    "duration": 225,
    "start_time": "2024-11-08T03:34:50.731Z"
   },
   {
    "duration": 43,
    "start_time": "2024-11-08T03:34:50.958Z"
   },
   {
    "duration": 100,
    "start_time": "2024-11-08T03:34:51.003Z"
   },
   {
    "duration": 7,
    "start_time": "2024-11-08T03:34:51.105Z"
   },
   {
    "duration": 35,
    "start_time": "2024-11-08T03:34:51.113Z"
   },
   {
    "duration": 24,
    "start_time": "2024-11-08T03:34:51.149Z"
   },
   {
    "duration": 26,
    "start_time": "2024-11-08T03:34:51.174Z"
   },
   {
    "duration": 41,
    "start_time": "2024-11-08T03:34:51.202Z"
   },
   {
    "duration": 0,
    "start_time": "2024-11-08T03:34:51.245Z"
   },
   {
    "duration": 0,
    "start_time": "2024-11-08T03:34:51.246Z"
   },
   {
    "duration": 0,
    "start_time": "2024-11-08T03:34:51.248Z"
   },
   {
    "duration": 0,
    "start_time": "2024-11-08T03:34:51.249Z"
   },
   {
    "duration": 0,
    "start_time": "2024-11-08T03:34:51.250Z"
   },
   {
    "duration": 0,
    "start_time": "2024-11-08T03:34:51.250Z"
   },
   {
    "duration": 0,
    "start_time": "2024-11-08T03:34:51.252Z"
   },
   {
    "duration": 0,
    "start_time": "2024-11-08T03:34:51.253Z"
   },
   {
    "duration": 6,
    "start_time": "2024-11-08T03:35:16.296Z"
   },
   {
    "duration": 12,
    "start_time": "2024-11-08T03:35:19.226Z"
   },
   {
    "duration": 9,
    "start_time": "2024-11-08T03:38:03.850Z"
   },
   {
    "duration": 9,
    "start_time": "2024-11-08T03:38:08.048Z"
   },
   {
    "duration": 6,
    "start_time": "2024-11-08T03:41:34.820Z"
   },
   {
    "duration": 1276,
    "start_time": "2024-11-08T03:41:40.678Z"
   },
   {
    "duration": 205,
    "start_time": "2024-11-08T03:41:41.956Z"
   },
   {
    "duration": 19,
    "start_time": "2024-11-08T03:41:42.162Z"
   },
   {
    "duration": 24,
    "start_time": "2024-11-08T03:41:42.183Z"
   },
   {
    "duration": 34,
    "start_time": "2024-11-08T03:41:42.209Z"
   },
   {
    "duration": 23,
    "start_time": "2024-11-08T03:41:42.245Z"
   },
   {
    "duration": 105,
    "start_time": "2024-11-08T03:41:42.270Z"
   },
   {
    "duration": 6,
    "start_time": "2024-11-08T03:41:42.377Z"
   },
   {
    "duration": 70,
    "start_time": "2024-11-08T03:41:42.385Z"
   },
   {
    "duration": 10,
    "start_time": "2024-11-08T03:41:42.458Z"
   },
   {
    "duration": 46,
    "start_time": "2024-11-08T03:41:42.470Z"
   },
   {
    "duration": 8,
    "start_time": "2024-11-08T03:41:42.518Z"
   },
   {
    "duration": 15,
    "start_time": "2024-11-08T03:41:42.528Z"
   },
   {
    "duration": 19,
    "start_time": "2024-11-08T03:41:42.545Z"
   },
   {
    "duration": 6,
    "start_time": "2024-11-08T03:41:42.566Z"
   },
   {
    "duration": 43,
    "start_time": "2024-11-08T03:41:42.574Z"
   },
   {
    "duration": 27,
    "start_time": "2024-11-08T03:41:42.619Z"
   },
   {
    "duration": 270,
    "start_time": "2024-11-08T03:41:42.648Z"
   },
   {
    "duration": 50,
    "start_time": "2024-11-08T03:41:42.920Z"
   },
   {
    "duration": 16,
    "start_time": "2024-11-08T03:41:42.971Z"
   },
   {
    "duration": 24,
    "start_time": "2024-11-08T03:41:42.989Z"
   },
   {
    "duration": 27,
    "start_time": "2024-11-08T03:41:43.015Z"
   },
   {
    "duration": 206,
    "start_time": "2024-11-08T03:41:43.044Z"
   },
   {
    "duration": 210,
    "start_time": "2024-11-08T03:41:43.252Z"
   },
   {
    "duration": 224,
    "start_time": "2024-11-08T03:41:43.464Z"
   },
   {
    "duration": 4,
    "start_time": "2024-11-08T03:41:43.689Z"
   },
   {
    "duration": 77,
    "start_time": "2024-11-08T03:41:43.695Z"
   },
   {
    "duration": 4,
    "start_time": "2024-11-08T03:41:43.776Z"
   },
   {
    "duration": 28,
    "start_time": "2024-11-08T03:41:43.782Z"
   },
   {
    "duration": 62,
    "start_time": "2024-11-08T03:41:43.812Z"
   },
   {
    "duration": 5,
    "start_time": "2024-11-08T03:41:43.876Z"
   },
   {
    "duration": 42,
    "start_time": "2024-11-08T03:41:43.883Z"
   },
   {
    "duration": 97,
    "start_time": "2024-11-08T03:41:43.927Z"
   },
   {
    "duration": 20,
    "start_time": "2024-11-08T03:41:44.026Z"
   },
   {
    "duration": 5,
    "start_time": "2024-11-08T03:41:44.052Z"
   },
   {
    "duration": 48,
    "start_time": "2024-11-08T03:41:44.059Z"
   },
   {
    "duration": 25,
    "start_time": "2024-11-08T03:41:44.108Z"
   },
   {
    "duration": 67,
    "start_time": "2024-11-08T03:41:44.135Z"
   },
   {
    "duration": 9,
    "start_time": "2024-11-08T03:41:44.204Z"
   },
   {
    "duration": 86,
    "start_time": "2024-11-08T03:41:44.215Z"
   },
   {
    "duration": 190,
    "start_time": "2024-11-08T03:41:44.302Z"
   },
   {
    "duration": 33,
    "start_time": "2024-11-08T03:41:44.493Z"
   },
   {
    "duration": 226,
    "start_time": "2024-11-08T03:41:44.528Z"
   },
   {
    "duration": 44,
    "start_time": "2024-11-08T03:41:44.756Z"
   },
   {
    "duration": 103,
    "start_time": "2024-11-08T03:41:44.802Z"
   },
   {
    "duration": 7,
    "start_time": "2024-11-08T03:41:44.907Z"
   },
   {
    "duration": 35,
    "start_time": "2024-11-08T03:41:44.916Z"
   },
   {
    "duration": 8,
    "start_time": "2024-11-08T03:41:44.953Z"
   },
   {
    "duration": 14,
    "start_time": "2024-11-08T03:41:44.963Z"
   },
   {
    "duration": 14,
    "start_time": "2024-11-08T03:41:44.978Z"
   },
   {
    "duration": 48,
    "start_time": "2024-11-08T03:41:44.993Z"
   },
   {
    "duration": 47,
    "start_time": "2024-11-08T03:41:45.043Z"
   },
   {
    "duration": 0,
    "start_time": "2024-11-08T03:41:45.092Z"
   },
   {
    "duration": 0,
    "start_time": "2024-11-08T03:41:45.093Z"
   },
   {
    "duration": 0,
    "start_time": "2024-11-08T03:41:45.094Z"
   },
   {
    "duration": 0,
    "start_time": "2024-11-08T03:41:45.095Z"
   },
   {
    "duration": 0,
    "start_time": "2024-11-08T03:41:45.096Z"
   },
   {
    "duration": 57,
    "start_time": "2024-11-08T03:47:08.270Z"
   },
   {
    "duration": 11,
    "start_time": "2024-11-08T03:59:29.507Z"
   },
   {
    "duration": 10,
    "start_time": "2024-11-08T03:59:42.404Z"
   },
   {
    "duration": 67,
    "start_time": "2024-11-08T04:01:46.759Z"
   },
   {
    "duration": 13,
    "start_time": "2024-11-08T04:02:02.125Z"
   },
   {
    "duration": 64,
    "start_time": "2024-11-08T04:06:02.189Z"
   },
   {
    "duration": 210,
    "start_time": "2024-11-08T04:09:26.656Z"
   },
   {
    "duration": 188,
    "start_time": "2024-11-08T04:09:31.566Z"
   },
   {
    "duration": 199,
    "start_time": "2024-11-08T04:09:41.269Z"
   },
   {
    "duration": 1213,
    "start_time": "2024-11-08T04:12:34.743Z"
   },
   {
    "duration": 203,
    "start_time": "2024-11-08T04:12:35.958Z"
   },
   {
    "duration": 20,
    "start_time": "2024-11-08T04:12:36.162Z"
   },
   {
    "duration": 25,
    "start_time": "2024-11-08T04:12:36.183Z"
   },
   {
    "duration": 20,
    "start_time": "2024-11-08T04:12:36.210Z"
   },
   {
    "duration": 47,
    "start_time": "2024-11-08T04:12:36.232Z"
   },
   {
    "duration": 86,
    "start_time": "2024-11-08T04:12:36.281Z"
   },
   {
    "duration": 4,
    "start_time": "2024-11-08T04:12:36.368Z"
   },
   {
    "duration": 80,
    "start_time": "2024-11-08T04:12:36.373Z"
   },
   {
    "duration": 10,
    "start_time": "2024-11-08T04:12:36.455Z"
   },
   {
    "duration": 37,
    "start_time": "2024-11-08T04:12:36.467Z"
   },
   {
    "duration": 9,
    "start_time": "2024-11-08T04:12:36.505Z"
   },
   {
    "duration": 41,
    "start_time": "2024-11-08T04:12:36.516Z"
   },
   {
    "duration": 43,
    "start_time": "2024-11-08T04:12:36.561Z"
   },
   {
    "duration": 23,
    "start_time": "2024-11-08T04:12:36.606Z"
   },
   {
    "duration": 54,
    "start_time": "2024-11-08T04:12:36.631Z"
   },
   {
    "duration": 31,
    "start_time": "2024-11-08T04:12:36.687Z"
   },
   {
    "duration": 297,
    "start_time": "2024-11-08T04:12:36.720Z"
   },
   {
    "duration": 49,
    "start_time": "2024-11-08T04:12:37.019Z"
   },
   {
    "duration": 16,
    "start_time": "2024-11-08T04:12:37.070Z"
   },
   {
    "duration": 19,
    "start_time": "2024-11-08T04:12:37.088Z"
   },
   {
    "duration": 9,
    "start_time": "2024-11-08T04:12:37.108Z"
   },
   {
    "duration": 224,
    "start_time": "2024-11-08T04:12:37.119Z"
   },
   {
    "duration": 210,
    "start_time": "2024-11-08T04:12:37.345Z"
   },
   {
    "duration": 215,
    "start_time": "2024-11-08T04:12:37.556Z"
   },
   {
    "duration": 3,
    "start_time": "2024-11-08T04:12:37.773Z"
   },
   {
    "duration": 87,
    "start_time": "2024-11-08T04:12:37.778Z"
   },
   {
    "duration": 4,
    "start_time": "2024-11-08T04:12:37.866Z"
   },
   {
    "duration": 51,
    "start_time": "2024-11-08T04:12:37.872Z"
   },
   {
    "duration": 72,
    "start_time": "2024-11-08T04:12:37.924Z"
   },
   {
    "duration": 4,
    "start_time": "2024-11-08T04:12:37.998Z"
   },
   {
    "duration": 29,
    "start_time": "2024-11-08T04:12:38.003Z"
   },
   {
    "duration": 75,
    "start_time": "2024-11-08T04:12:38.034Z"
   },
   {
    "duration": 19,
    "start_time": "2024-11-08T04:12:38.111Z"
   },
   {
    "duration": 4,
    "start_time": "2024-11-08T04:12:38.131Z"
   },
   {
    "duration": 32,
    "start_time": "2024-11-08T04:12:38.152Z"
   },
   {
    "duration": 24,
    "start_time": "2024-11-08T04:12:38.186Z"
   },
   {
    "duration": 73,
    "start_time": "2024-11-08T04:12:38.211Z"
   },
   {
    "duration": 8,
    "start_time": "2024-11-08T04:12:38.285Z"
   },
   {
    "duration": 83,
    "start_time": "2024-11-08T04:12:38.295Z"
   },
   {
    "duration": 180,
    "start_time": "2024-11-08T04:12:38.381Z"
   },
   {
    "duration": 32,
    "start_time": "2024-11-08T04:12:38.563Z"
   },
   {
    "duration": 219,
    "start_time": "2024-11-08T04:12:38.596Z"
   },
   {
    "duration": 47,
    "start_time": "2024-11-08T04:12:38.817Z"
   },
   {
    "duration": 87,
    "start_time": "2024-11-08T04:12:38.866Z"
   },
   {
    "duration": 8,
    "start_time": "2024-11-08T04:12:38.954Z"
   },
   {
    "duration": 11,
    "start_time": "2024-11-08T04:12:38.963Z"
   },
   {
    "duration": 61,
    "start_time": "2024-11-08T04:12:38.976Z"
   },
   {
    "duration": 15,
    "start_time": "2024-11-08T04:12:39.039Z"
   },
   {
    "duration": 9,
    "start_time": "2024-11-08T04:12:39.056Z"
   },
   {
    "duration": 9,
    "start_time": "2024-11-08T04:12:39.067Z"
   },
   {
    "duration": 9,
    "start_time": "2024-11-08T04:12:39.078Z"
   },
   {
    "duration": 1245,
    "start_time": "2024-11-08T04:18:24.214Z"
   },
   {
    "duration": 206,
    "start_time": "2024-11-08T04:18:25.461Z"
   },
   {
    "duration": 20,
    "start_time": "2024-11-08T04:18:25.668Z"
   },
   {
    "duration": 8,
    "start_time": "2024-11-08T04:18:25.690Z"
   },
   {
    "duration": 23,
    "start_time": "2024-11-08T04:18:25.699Z"
   },
   {
    "duration": 40,
    "start_time": "2024-11-08T04:18:25.724Z"
   },
   {
    "duration": 106,
    "start_time": "2024-11-08T04:18:25.766Z"
   },
   {
    "duration": 4,
    "start_time": "2024-11-08T04:18:25.874Z"
   },
   {
    "duration": 78,
    "start_time": "2024-11-08T04:18:25.880Z"
   },
   {
    "duration": 10,
    "start_time": "2024-11-08T04:18:25.961Z"
   },
   {
    "duration": 33,
    "start_time": "2024-11-08T04:18:25.973Z"
   },
   {
    "duration": 5,
    "start_time": "2024-11-08T04:18:26.008Z"
   },
   {
    "duration": 40,
    "start_time": "2024-11-08T04:18:26.014Z"
   },
   {
    "duration": 9,
    "start_time": "2024-11-08T04:18:26.055Z"
   },
   {
    "duration": 43,
    "start_time": "2024-11-08T04:18:26.066Z"
   },
   {
    "duration": 9,
    "start_time": "2024-11-08T04:18:26.111Z"
   },
   {
    "duration": 256,
    "start_time": "2024-11-08T04:18:26.122Z"
   },
   {
    "duration": 41,
    "start_time": "2024-11-08T04:18:26.380Z"
   },
   {
    "duration": 30,
    "start_time": "2024-11-08T04:18:26.423Z"
   },
   {
    "duration": 12,
    "start_time": "2024-11-08T04:18:26.456Z"
   },
   {
    "duration": 215,
    "start_time": "2024-11-08T04:18:26.470Z"
   },
   {
    "duration": 209,
    "start_time": "2024-11-08T04:18:26.687Z"
   },
   {
    "duration": 218,
    "start_time": "2024-11-08T04:18:26.897Z"
   },
   {
    "duration": 4,
    "start_time": "2024-11-08T04:18:27.117Z"
   },
   {
    "duration": 74,
    "start_time": "2024-11-08T04:18:27.123Z"
   },
   {
    "duration": 4,
    "start_time": "2024-11-08T04:18:27.199Z"
   },
   {
    "duration": 15,
    "start_time": "2024-11-08T04:18:27.205Z"
   },
   {
    "duration": 62,
    "start_time": "2024-11-08T04:18:27.224Z"
   },
   {
    "duration": 4,
    "start_time": "2024-11-08T04:18:27.288Z"
   },
   {
    "duration": 76,
    "start_time": "2024-11-08T04:18:27.294Z"
   },
   {
    "duration": 18,
    "start_time": "2024-11-08T04:18:27.372Z"
   },
   {
    "duration": 4,
    "start_time": "2024-11-08T04:18:27.392Z"
   },
   {
    "duration": 62,
    "start_time": "2024-11-08T04:18:27.397Z"
   },
   {
    "duration": 24,
    "start_time": "2024-11-08T04:18:27.461Z"
   },
   {
    "duration": 66,
    "start_time": "2024-11-08T04:18:27.487Z"
   },
   {
    "duration": 10,
    "start_time": "2024-11-08T04:18:27.555Z"
   },
   {
    "duration": 68,
    "start_time": "2024-11-08T04:18:27.566Z"
   },
   {
    "duration": 185,
    "start_time": "2024-11-08T04:18:27.653Z"
   },
   {
    "duration": 38,
    "start_time": "2024-11-08T04:18:27.840Z"
   },
   {
    "duration": 223,
    "start_time": "2024-11-08T04:18:27.880Z"
   },
   {
    "duration": 53,
    "start_time": "2024-11-08T04:18:28.105Z"
   },
   {
    "duration": 94,
    "start_time": "2024-11-08T04:18:28.160Z"
   },
   {
    "duration": 7,
    "start_time": "2024-11-08T04:18:28.256Z"
   },
   {
    "duration": 11,
    "start_time": "2024-11-08T04:18:28.265Z"
   },
   {
    "duration": 10,
    "start_time": "2024-11-08T04:18:28.278Z"
   },
   {
    "duration": 11,
    "start_time": "2024-11-08T04:18:28.290Z"
   },
   {
    "duration": 10,
    "start_time": "2024-11-08T04:18:28.303Z"
   },
   {
    "duration": 38,
    "start_time": "2024-11-08T04:18:28.315Z"
   },
   {
    "duration": 10,
    "start_time": "2024-11-08T04:18:28.355Z"
   },
   {
    "duration": 1235,
    "start_time": "2024-11-08T04:20:11.417Z"
   },
   {
    "duration": 204,
    "start_time": "2024-11-08T04:20:12.654Z"
   },
   {
    "duration": 20,
    "start_time": "2024-11-08T04:20:12.859Z"
   },
   {
    "duration": 11,
    "start_time": "2024-11-08T04:20:12.881Z"
   },
   {
    "duration": 28,
    "start_time": "2024-11-08T04:20:12.894Z"
   },
   {
    "duration": 37,
    "start_time": "2024-11-08T04:20:12.924Z"
   },
   {
    "duration": 100,
    "start_time": "2024-11-08T04:20:12.963Z"
   },
   {
    "duration": 4,
    "start_time": "2024-11-08T04:20:13.065Z"
   },
   {
    "duration": 56,
    "start_time": "2024-11-08T04:20:13.070Z"
   },
   {
    "duration": 31,
    "start_time": "2024-11-08T04:20:13.128Z"
   },
   {
    "duration": 36,
    "start_time": "2024-11-08T04:20:13.161Z"
   },
   {
    "duration": 6,
    "start_time": "2024-11-08T04:20:13.200Z"
   },
   {
    "duration": 15,
    "start_time": "2024-11-08T04:20:13.208Z"
   },
   {
    "duration": 28,
    "start_time": "2024-11-08T04:20:13.228Z"
   },
   {
    "duration": 46,
    "start_time": "2024-11-08T04:20:13.258Z"
   },
   {
    "duration": 10,
    "start_time": "2024-11-08T04:20:13.307Z"
   },
   {
    "duration": 259,
    "start_time": "2024-11-08T04:20:13.319Z"
   },
   {
    "duration": 42,
    "start_time": "2024-11-08T04:20:13.580Z"
   },
   {
    "duration": 35,
    "start_time": "2024-11-08T04:20:13.623Z"
   },
   {
    "duration": 10,
    "start_time": "2024-11-08T04:20:13.660Z"
   },
   {
    "duration": 216,
    "start_time": "2024-11-08T04:20:13.672Z"
   },
   {
    "duration": 239,
    "start_time": "2024-11-08T04:20:13.890Z"
   },
   {
    "duration": 217,
    "start_time": "2024-11-08T04:20:14.130Z"
   },
   {
    "duration": 4,
    "start_time": "2024-11-08T04:20:14.352Z"
   },
   {
    "duration": 61,
    "start_time": "2024-11-08T04:20:14.357Z"
   },
   {
    "duration": 4,
    "start_time": "2024-11-08T04:20:14.420Z"
   },
   {
    "duration": 30,
    "start_time": "2024-11-08T04:20:14.425Z"
   },
   {
    "duration": 49,
    "start_time": "2024-11-08T04:20:14.457Z"
   },
   {
    "duration": 4,
    "start_time": "2024-11-08T04:20:14.508Z"
   },
   {
    "duration": 81,
    "start_time": "2024-11-08T04:20:14.513Z"
   },
   {
    "duration": 18,
    "start_time": "2024-11-08T04:20:14.595Z"
   },
   {
    "duration": 4,
    "start_time": "2024-11-08T04:20:14.615Z"
   },
   {
    "duration": 57,
    "start_time": "2024-11-08T04:20:14.621Z"
   },
   {
    "duration": 24,
    "start_time": "2024-11-08T04:20:14.679Z"
   },
   {
    "duration": 70,
    "start_time": "2024-11-08T04:20:14.705Z"
   },
   {
    "duration": 15,
    "start_time": "2024-11-08T04:20:14.776Z"
   },
   {
    "duration": 82,
    "start_time": "2024-11-08T04:20:14.792Z"
   },
   {
    "duration": 189,
    "start_time": "2024-11-08T04:20:14.876Z"
   },
   {
    "duration": 34,
    "start_time": "2024-11-08T04:20:15.067Z"
   },
   {
    "duration": 226,
    "start_time": "2024-11-08T04:20:15.103Z"
   },
   {
    "duration": 50,
    "start_time": "2024-11-08T04:20:15.333Z"
   },
   {
    "duration": 100,
    "start_time": "2024-11-08T04:20:15.385Z"
   },
   {
    "duration": 7,
    "start_time": "2024-11-08T04:20:15.487Z"
   },
   {
    "duration": 22,
    "start_time": "2024-11-08T04:20:15.496Z"
   },
   {
    "duration": 8,
    "start_time": "2024-11-08T04:20:15.520Z"
   },
   {
    "duration": 23,
    "start_time": "2024-11-08T04:20:15.530Z"
   },
   {
    "duration": 10,
    "start_time": "2024-11-08T04:20:15.555Z"
   },
   {
    "duration": 20,
    "start_time": "2024-11-08T04:20:15.567Z"
   },
   {
    "duration": 11,
    "start_time": "2024-11-08T04:20:15.589Z"
   },
   {
    "duration": 1216,
    "start_time": "2024-11-08T08:59:37.556Z"
   },
   {
    "duration": 195,
    "start_time": "2024-11-08T08:59:38.774Z"
   },
   {
    "duration": 17,
    "start_time": "2024-11-08T08:59:38.971Z"
   },
   {
    "duration": 8,
    "start_time": "2024-11-08T08:59:39.000Z"
   },
   {
    "duration": 19,
    "start_time": "2024-11-08T08:59:39.010Z"
   },
   {
    "duration": 22,
    "start_time": "2024-11-08T08:59:39.031Z"
   },
   {
    "duration": 109,
    "start_time": "2024-11-08T08:59:39.054Z"
   },
   {
    "duration": 3,
    "start_time": "2024-11-08T08:59:39.165Z"
   },
   {
    "duration": 63,
    "start_time": "2024-11-08T08:59:39.170Z"
   },
   {
    "duration": 10,
    "start_time": "2024-11-08T08:59:39.235Z"
   },
   {
    "duration": 32,
    "start_time": "2024-11-08T08:59:39.247Z"
   },
   {
    "duration": 6,
    "start_time": "2024-11-08T08:59:39.300Z"
   },
   {
    "duration": 13,
    "start_time": "2024-11-08T08:59:39.307Z"
   },
   {
    "duration": 17,
    "start_time": "2024-11-08T08:59:39.322Z"
   },
   {
    "duration": 36,
    "start_time": "2024-11-08T08:59:39.341Z"
   },
   {
    "duration": 25,
    "start_time": "2024-11-08T08:59:39.379Z"
   },
   {
    "duration": 233,
    "start_time": "2024-11-08T08:59:39.405Z"
   },
   {
    "duration": 41,
    "start_time": "2024-11-08T08:59:39.640Z"
   },
   {
    "duration": 31,
    "start_time": "2024-11-08T08:59:39.682Z"
   },
   {
    "duration": 11,
    "start_time": "2024-11-08T08:59:39.715Z"
   },
   {
    "duration": 230,
    "start_time": "2024-11-08T08:59:39.728Z"
   },
   {
    "duration": 212,
    "start_time": "2024-11-08T08:59:39.960Z"
   },
   {
    "duration": 204,
    "start_time": "2024-11-08T08:59:40.173Z"
   },
   {
    "duration": 4,
    "start_time": "2024-11-08T08:59:40.379Z"
   },
   {
    "duration": 69,
    "start_time": "2024-11-08T08:59:40.385Z"
   },
   {
    "duration": 4,
    "start_time": "2024-11-08T08:59:40.456Z"
   },
   {
    "duration": 11,
    "start_time": "2024-11-08T08:59:40.461Z"
   },
   {
    "duration": 63,
    "start_time": "2024-11-08T08:59:40.476Z"
   },
   {
    "duration": 4,
    "start_time": "2024-11-08T08:59:40.540Z"
   },
   {
    "duration": 71,
    "start_time": "2024-11-08T08:59:40.545Z"
   },
   {
    "duration": 17,
    "start_time": "2024-11-08T08:59:40.617Z"
   },
   {
    "duration": 4,
    "start_time": "2024-11-08T08:59:40.636Z"
   },
   {
    "duration": 46,
    "start_time": "2024-11-08T08:59:40.642Z"
   },
   {
    "duration": 24,
    "start_time": "2024-11-08T08:59:40.700Z"
   },
   {
    "duration": 52,
    "start_time": "2024-11-08T08:59:40.726Z"
   },
   {
    "duration": 10,
    "start_time": "2024-11-08T08:59:40.799Z"
   },
   {
    "duration": 64,
    "start_time": "2024-11-08T08:59:40.811Z"
   },
   {
    "duration": 190,
    "start_time": "2024-11-08T08:59:40.878Z"
   },
   {
    "duration": 40,
    "start_time": "2024-11-08T08:59:41.069Z"
   },
   {
    "duration": 213,
    "start_time": "2024-11-08T08:59:41.111Z"
   },
   {
    "duration": 40,
    "start_time": "2024-11-08T08:59:41.326Z"
   },
   {
    "duration": 89,
    "start_time": "2024-11-08T08:59:41.368Z"
   },
   {
    "duration": 7,
    "start_time": "2024-11-08T08:59:41.459Z"
   },
   {
    "duration": 10,
    "start_time": "2024-11-08T08:59:41.467Z"
   },
   {
    "duration": 23,
    "start_time": "2024-11-08T08:59:41.479Z"
   },
   {
    "duration": 9,
    "start_time": "2024-11-08T08:59:41.504Z"
   },
   {
    "duration": 11,
    "start_time": "2024-11-08T08:59:41.515Z"
   },
   {
    "duration": 11,
    "start_time": "2024-11-08T08:59:41.528Z"
   },
   {
    "duration": 11,
    "start_time": "2024-11-08T08:59:41.541Z"
   },
   {
    "duration": 65,
    "start_time": "2024-11-09T09:11:56.198Z"
   },
   {
    "duration": 1550,
    "start_time": "2024-11-09T09:12:04.889Z"
   },
   {
    "duration": 759,
    "start_time": "2024-11-09T09:12:06.441Z"
   },
   {
    "duration": 47,
    "start_time": "2024-11-09T09:12:07.203Z"
   },
   {
    "duration": 12,
    "start_time": "2024-11-09T09:12:07.257Z"
   },
   {
    "duration": 22,
    "start_time": "2024-11-09T09:12:07.270Z"
   },
   {
    "duration": 58,
    "start_time": "2024-11-09T09:12:07.294Z"
   },
   {
    "duration": 110,
    "start_time": "2024-11-09T09:12:07.361Z"
   },
   {
    "duration": 111,
    "start_time": "2024-11-09T09:12:07.473Z"
   },
   {
    "duration": 160,
    "start_time": "2024-11-09T09:12:07.585Z"
   },
   {
    "duration": 5,
    "start_time": "2024-11-09T09:12:07.750Z"
   },
   {
    "duration": 109,
    "start_time": "2024-11-09T09:12:07.757Z"
   },
   {
    "duration": 10,
    "start_time": "2024-11-09T09:12:07.871Z"
   },
   {
    "duration": 40,
    "start_time": "2024-11-09T09:12:07.883Z"
   },
   {
    "duration": 8,
    "start_time": "2024-11-09T09:12:07.925Z"
   },
   {
    "duration": 35,
    "start_time": "2024-11-09T09:12:07.936Z"
   },
   {
    "duration": 9,
    "start_time": "2024-11-09T09:12:07.972Z"
   },
   {
    "duration": 27,
    "start_time": "2024-11-09T09:12:07.982Z"
   },
   {
    "duration": 24,
    "start_time": "2024-11-09T09:12:08.011Z"
   },
   {
    "duration": 313,
    "start_time": "2024-11-09T09:12:08.042Z"
   },
   {
    "duration": 19,
    "start_time": "2024-11-09T09:12:08.357Z"
   },
   {
    "duration": 18,
    "start_time": "2024-11-09T09:12:08.378Z"
   },
   {
    "duration": 43,
    "start_time": "2024-11-09T09:12:08.398Z"
   },
   {
    "duration": 262,
    "start_time": "2024-11-09T09:12:08.449Z"
   },
   {
    "duration": 292,
    "start_time": "2024-11-09T09:12:08.713Z"
   },
   {
    "duration": 248,
    "start_time": "2024-11-09T09:12:09.008Z"
   },
   {
    "duration": 5,
    "start_time": "2024-11-09T09:12:09.257Z"
   },
   {
    "duration": 75,
    "start_time": "2024-11-09T09:12:09.263Z"
   },
   {
    "duration": 10,
    "start_time": "2024-11-09T09:12:09.347Z"
   },
   {
    "duration": 21,
    "start_time": "2024-11-09T09:12:09.360Z"
   },
   {
    "duration": 80,
    "start_time": "2024-11-09T09:12:09.383Z"
   },
   {
    "duration": 6,
    "start_time": "2024-11-09T09:12:09.465Z"
   },
   {
    "duration": 83,
    "start_time": "2024-11-09T09:12:09.472Z"
   },
   {
    "duration": 28,
    "start_time": "2024-11-09T09:12:09.557Z"
   },
   {
    "duration": 6,
    "start_time": "2024-11-09T09:12:09.587Z"
   },
   {
    "duration": 67,
    "start_time": "2024-11-09T09:12:09.594Z"
   },
   {
    "duration": 60,
    "start_time": "2024-11-09T09:12:09.664Z"
   },
   {
    "duration": 71,
    "start_time": "2024-11-09T09:12:09.726Z"
   },
   {
    "duration": 24,
    "start_time": "2024-11-09T09:12:09.799Z"
   },
   {
    "duration": 82,
    "start_time": "2024-11-09T09:12:09.829Z"
   },
   {
    "duration": 220,
    "start_time": "2024-11-09T09:12:09.913Z"
   },
   {
    "duration": 48,
    "start_time": "2024-11-09T09:12:10.135Z"
   },
   {
    "duration": 310,
    "start_time": "2024-11-09T09:12:10.185Z"
   },
   {
    "duration": 70,
    "start_time": "2024-11-09T09:12:10.497Z"
   },
   {
    "duration": 134,
    "start_time": "2024-11-09T09:12:10.569Z"
   },
   {
    "duration": 28,
    "start_time": "2024-11-09T09:12:10.706Z"
   },
   {
    "duration": 16,
    "start_time": "2024-11-09T09:12:10.735Z"
   },
   {
    "duration": 26,
    "start_time": "2024-11-09T09:12:10.752Z"
   },
   {
    "duration": 13,
    "start_time": "2024-11-09T09:12:10.780Z"
   },
   {
    "duration": 15,
    "start_time": "2024-11-09T09:12:10.795Z"
   },
   {
    "duration": 36,
    "start_time": "2024-11-09T09:12:10.812Z"
   },
   {
    "duration": 19,
    "start_time": "2024-11-09T09:12:10.850Z"
   },
   {
    "duration": 86,
    "start_time": "2024-11-09T09:13:06.800Z"
   },
   {
    "duration": 1337,
    "start_time": "2024-11-09T09:14:12.398Z"
   },
   {
    "duration": 228,
    "start_time": "2024-11-09T09:14:13.741Z"
   },
   {
    "duration": 20,
    "start_time": "2024-11-09T09:14:13.971Z"
   },
   {
    "duration": 8,
    "start_time": "2024-11-09T09:14:13.993Z"
   },
   {
    "duration": 52,
    "start_time": "2024-11-09T09:14:14.002Z"
   },
   {
    "duration": 53,
    "start_time": "2024-11-09T09:14:14.056Z"
   },
   {
    "duration": 106,
    "start_time": "2024-11-09T09:14:14.111Z"
   },
   {
    "duration": 129,
    "start_time": "2024-11-09T09:14:14.219Z"
   },
   {
    "duration": 51,
    "start_time": "2024-11-09T09:14:14.359Z"
   },
   {
    "duration": 0,
    "start_time": "2024-11-09T09:14:14.413Z"
   },
   {
    "duration": 0,
    "start_time": "2024-11-09T09:14:14.415Z"
   },
   {
    "duration": 0,
    "start_time": "2024-11-09T09:14:14.416Z"
   },
   {
    "duration": 0,
    "start_time": "2024-11-09T09:14:14.417Z"
   },
   {
    "duration": 0,
    "start_time": "2024-11-09T09:14:14.418Z"
   },
   {
    "duration": 0,
    "start_time": "2024-11-09T09:14:14.419Z"
   },
   {
    "duration": 0,
    "start_time": "2024-11-09T09:14:14.424Z"
   },
   {
    "duration": 0,
    "start_time": "2024-11-09T09:14:14.427Z"
   },
   {
    "duration": 0,
    "start_time": "2024-11-09T09:14:14.428Z"
   },
   {
    "duration": 0,
    "start_time": "2024-11-09T09:14:14.428Z"
   },
   {
    "duration": 0,
    "start_time": "2024-11-09T09:14:14.429Z"
   },
   {
    "duration": 0,
    "start_time": "2024-11-09T09:14:14.430Z"
   },
   {
    "duration": 0,
    "start_time": "2024-11-09T09:14:14.431Z"
   },
   {
    "duration": 0,
    "start_time": "2024-11-09T09:14:14.433Z"
   },
   {
    "duration": 0,
    "start_time": "2024-11-09T09:14:14.437Z"
   },
   {
    "duration": 0,
    "start_time": "2024-11-09T09:14:14.438Z"
   },
   {
    "duration": 0,
    "start_time": "2024-11-09T09:14:14.439Z"
   },
   {
    "duration": 0,
    "start_time": "2024-11-09T09:14:14.440Z"
   },
   {
    "duration": 0,
    "start_time": "2024-11-09T09:14:14.454Z"
   },
   {
    "duration": 0,
    "start_time": "2024-11-09T09:14:14.455Z"
   },
   {
    "duration": 0,
    "start_time": "2024-11-09T09:14:14.456Z"
   },
   {
    "duration": 0,
    "start_time": "2024-11-09T09:14:14.457Z"
   },
   {
    "duration": 0,
    "start_time": "2024-11-09T09:14:14.457Z"
   },
   {
    "duration": 0,
    "start_time": "2024-11-09T09:14:14.459Z"
   },
   {
    "duration": 0,
    "start_time": "2024-11-09T09:14:14.460Z"
   },
   {
    "duration": 0,
    "start_time": "2024-11-09T09:14:14.461Z"
   },
   {
    "duration": 0,
    "start_time": "2024-11-09T09:14:14.464Z"
   },
   {
    "duration": 0,
    "start_time": "2024-11-09T09:14:14.465Z"
   },
   {
    "duration": 0,
    "start_time": "2024-11-09T09:14:14.466Z"
   },
   {
    "duration": 0,
    "start_time": "2024-11-09T09:14:14.470Z"
   },
   {
    "duration": 0,
    "start_time": "2024-11-09T09:14:14.471Z"
   },
   {
    "duration": 0,
    "start_time": "2024-11-09T09:14:14.472Z"
   },
   {
    "duration": 0,
    "start_time": "2024-11-09T09:14:14.473Z"
   },
   {
    "duration": 0,
    "start_time": "2024-11-09T09:14:14.474Z"
   },
   {
    "duration": 0,
    "start_time": "2024-11-09T09:14:14.475Z"
   },
   {
    "duration": 0,
    "start_time": "2024-11-09T09:14:14.477Z"
   },
   {
    "duration": 0,
    "start_time": "2024-11-09T09:14:14.477Z"
   },
   {
    "duration": 0,
    "start_time": "2024-11-09T09:14:14.478Z"
   },
   {
    "duration": 0,
    "start_time": "2024-11-09T09:14:14.480Z"
   },
   {
    "duration": 0,
    "start_time": "2024-11-09T09:14:14.481Z"
   },
   {
    "duration": 0,
    "start_time": "2024-11-09T09:14:14.482Z"
   },
   {
    "duration": 0,
    "start_time": "2024-11-09T09:14:14.483Z"
   },
   {
    "duration": 0,
    "start_time": "2024-11-09T09:14:14.530Z"
   },
   {
    "duration": 229,
    "start_time": "2024-11-09T09:14:30.076Z"
   },
   {
    "duration": 1323,
    "start_time": "2024-11-09T09:18:17.686Z"
   },
   {
    "duration": 235,
    "start_time": "2024-11-09T09:18:19.011Z"
   },
   {
    "duration": 27,
    "start_time": "2024-11-09T09:18:19.248Z"
   },
   {
    "duration": 8,
    "start_time": "2024-11-09T09:18:19.278Z"
   },
   {
    "duration": 49,
    "start_time": "2024-11-09T09:18:19.287Z"
   },
   {
    "duration": 43,
    "start_time": "2024-11-09T09:18:19.338Z"
   },
   {
    "duration": 158,
    "start_time": "2024-11-09T09:18:19.389Z"
   },
   {
    "duration": 118,
    "start_time": "2024-11-09T09:18:19.549Z"
   },
   {
    "duration": 284,
    "start_time": "2024-11-09T09:18:19.669Z"
   },
   {
    "duration": 8,
    "start_time": "2024-11-09T09:18:19.956Z"
   },
   {
    "duration": 129,
    "start_time": "2024-11-09T09:18:19.966Z"
   },
   {
    "duration": 52,
    "start_time": "2024-11-09T09:18:20.097Z"
   },
   {
    "duration": 59,
    "start_time": "2024-11-09T09:18:20.159Z"
   },
   {
    "duration": 7,
    "start_time": "2024-11-09T09:18:20.220Z"
   },
   {
    "duration": 46,
    "start_time": "2024-11-09T09:18:20.230Z"
   },
   {
    "duration": 19,
    "start_time": "2024-11-09T09:18:20.278Z"
   },
   {
    "duration": 53,
    "start_time": "2024-11-09T09:18:20.299Z"
   },
   {
    "duration": 15,
    "start_time": "2024-11-09T09:18:20.354Z"
   },
   {
    "duration": 316,
    "start_time": "2024-11-09T09:18:20.370Z"
   },
   {
    "duration": 44,
    "start_time": "2024-11-09T09:18:20.688Z"
   },
   {
    "duration": 31,
    "start_time": "2024-11-09T09:18:20.734Z"
   },
   {
    "duration": 9,
    "start_time": "2024-11-09T09:18:20.768Z"
   },
   {
    "duration": 244,
    "start_time": "2024-11-09T09:18:20.779Z"
   },
   {
    "duration": 254,
    "start_time": "2024-11-09T09:18:21.029Z"
   },
   {
    "duration": 283,
    "start_time": "2024-11-09T09:18:21.285Z"
   },
   {
    "duration": 5,
    "start_time": "2024-11-09T09:18:21.570Z"
   },
   {
    "duration": 84,
    "start_time": "2024-11-09T09:18:21.577Z"
   },
   {
    "duration": 27,
    "start_time": "2024-11-09T09:18:21.666Z"
   },
   {
    "duration": 14,
    "start_time": "2024-11-09T09:18:21.695Z"
   },
   {
    "duration": 93,
    "start_time": "2024-11-09T09:18:21.711Z"
   },
   {
    "duration": 5,
    "start_time": "2024-11-09T09:18:21.806Z"
   },
   {
    "duration": 105,
    "start_time": "2024-11-09T09:18:21.813Z"
   },
   {
    "duration": 31,
    "start_time": "2024-11-09T09:18:21.920Z"
   },
   {
    "duration": 50,
    "start_time": "2024-11-09T09:18:21.953Z"
   },
   {
    "duration": 65,
    "start_time": "2024-11-09T09:18:22.012Z"
   },
   {
    "duration": 29,
    "start_time": "2024-11-09T09:18:22.080Z"
   },
   {
    "duration": 82,
    "start_time": "2024-11-09T09:18:22.111Z"
   },
   {
    "duration": 9,
    "start_time": "2024-11-09T09:18:22.195Z"
   },
   {
    "duration": 94,
    "start_time": "2024-11-09T09:18:22.205Z"
   },
   {
    "duration": 211,
    "start_time": "2024-11-09T09:18:22.301Z"
   },
   {
    "duration": 46,
    "start_time": "2024-11-09T09:18:22.514Z"
   },
   {
    "duration": 307,
    "start_time": "2024-11-09T09:18:22.562Z"
   },
   {
    "duration": 59,
    "start_time": "2024-11-09T09:18:22.871Z"
   },
   {
    "duration": 137,
    "start_time": "2024-11-09T09:18:22.932Z"
   },
   {
    "duration": 8,
    "start_time": "2024-11-09T09:18:23.072Z"
   },
   {
    "duration": 11,
    "start_time": "2024-11-09T09:18:23.082Z"
   },
   {
    "duration": 6,
    "start_time": "2024-11-09T09:18:23.095Z"
   },
   {
    "duration": 17,
    "start_time": "2024-11-09T09:18:23.131Z"
   },
   {
    "duration": 13,
    "start_time": "2024-11-09T09:18:23.150Z"
   },
   {
    "duration": 13,
    "start_time": "2024-11-09T09:18:23.165Z"
   },
   {
    "duration": 11,
    "start_time": "2024-11-09T09:18:23.180Z"
   },
   {
    "duration": 112,
    "start_time": "2024-11-09T09:19:45.587Z"
   },
   {
    "duration": 64,
    "start_time": "2024-11-09T09:25:05.174Z"
   },
   {
    "duration": 66,
    "start_time": "2024-11-09T09:25:26.459Z"
   },
   {
    "duration": 5,
    "start_time": "2024-11-09T09:44:16.091Z"
   },
   {
    "duration": 70,
    "start_time": "2024-11-09T09:44:30.700Z"
   },
   {
    "duration": 68,
    "start_time": "2024-11-09T09:44:58.010Z"
   },
   {
    "duration": 34,
    "start_time": "2024-11-09T09:46:55.216Z"
   },
   {
    "duration": 29,
    "start_time": "2024-11-09T09:47:35.117Z"
   },
   {
    "duration": 13,
    "start_time": "2024-11-09T09:48:37.099Z"
   },
   {
    "duration": 13,
    "start_time": "2024-11-09T09:50:13.852Z"
   },
   {
    "duration": 67,
    "start_time": "2024-11-09T09:51:19.010Z"
   },
   {
    "duration": 11,
    "start_time": "2024-11-09T09:51:19.634Z"
   },
   {
    "duration": 20,
    "start_time": "2024-11-09T09:51:20.320Z"
   },
   {
    "duration": 5,
    "start_time": "2024-11-09T09:51:22.778Z"
   },
   {
    "duration": 14,
    "start_time": "2024-11-09T09:55:09.744Z"
   },
   {
    "duration": 57,
    "start_time": "2024-11-09T09:56:18.775Z"
   },
   {
    "duration": 26,
    "start_time": "2024-11-09T10:01:14.113Z"
   },
   {
    "duration": 1293,
    "start_time": "2024-11-09T10:01:49.044Z"
   },
   {
    "duration": 212,
    "start_time": "2024-11-09T10:01:50.340Z"
   },
   {
    "duration": 20,
    "start_time": "2024-11-09T10:01:50.553Z"
   },
   {
    "duration": 34,
    "start_time": "2024-11-09T10:01:50.575Z"
   },
   {
    "duration": 34,
    "start_time": "2024-11-09T10:01:50.611Z"
   },
   {
    "duration": 24,
    "start_time": "2024-11-09T10:01:50.646Z"
   },
   {
    "duration": 105,
    "start_time": "2024-11-09T10:01:50.672Z"
   },
   {
    "duration": 120,
    "start_time": "2024-11-09T10:01:50.779Z"
   },
   {
    "duration": 225,
    "start_time": "2024-11-09T10:01:50.900Z"
   },
   {
    "duration": 7,
    "start_time": "2024-11-09T10:01:51.127Z"
   },
   {
    "duration": 48,
    "start_time": "2024-11-09T10:01:51.137Z"
   },
   {
    "duration": 8,
    "start_time": "2024-11-09T10:01:51.187Z"
   },
   {
    "duration": 38,
    "start_time": "2024-11-09T10:01:51.220Z"
   },
   {
    "duration": 5,
    "start_time": "2024-11-09T10:01:51.261Z"
   },
   {
    "duration": 9,
    "start_time": "2024-11-09T10:01:51.267Z"
   },
   {
    "duration": 5,
    "start_time": "2024-11-09T10:01:51.278Z"
   },
   {
    "duration": 57,
    "start_time": "2024-11-09T10:01:51.285Z"
   },
   {
    "duration": 17,
    "start_time": "2024-11-09T10:01:51.344Z"
   },
   {
    "duration": 255,
    "start_time": "2024-11-09T10:01:51.363Z"
   },
   {
    "duration": 24,
    "start_time": "2024-11-09T10:01:51.621Z"
   },
   {
    "duration": 22,
    "start_time": "2024-11-09T10:01:51.647Z"
   },
   {
    "duration": 22,
    "start_time": "2024-11-09T10:01:51.671Z"
   },
   {
    "duration": 224,
    "start_time": "2024-11-09T10:01:51.694Z"
   },
   {
    "duration": 232,
    "start_time": "2024-11-09T10:01:51.920Z"
   },
   {
    "duration": 230,
    "start_time": "2024-11-09T10:01:52.154Z"
   },
   {
    "duration": 4,
    "start_time": "2024-11-09T10:01:52.386Z"
   },
   {
    "duration": 77,
    "start_time": "2024-11-09T10:01:52.391Z"
   },
   {
    "duration": 4,
    "start_time": "2024-11-09T10:01:52.469Z"
   },
   {
    "duration": 29,
    "start_time": "2024-11-09T10:01:52.474Z"
   },
   {
    "duration": 61,
    "start_time": "2024-11-09T10:01:52.505Z"
   },
   {
    "duration": 4,
    "start_time": "2024-11-09T10:01:52.567Z"
   },
   {
    "duration": 74,
    "start_time": "2024-11-09T10:01:52.573Z"
   },
   {
    "duration": 11,
    "start_time": "2024-11-09T10:01:52.648Z"
   },
   {
    "duration": 17,
    "start_time": "2024-11-09T10:01:52.660Z"
   },
   {
    "duration": 42,
    "start_time": "2024-11-09T10:01:52.679Z"
   },
   {
    "duration": 7,
    "start_time": "2024-11-09T10:01:52.722Z"
   },
   {
    "duration": 37,
    "start_time": "2024-11-09T10:01:52.731Z"
   },
   {
    "duration": 23,
    "start_time": "2024-11-09T10:01:52.770Z"
   },
   {
    "duration": 84,
    "start_time": "2024-11-09T10:01:52.795Z"
   },
   {
    "duration": 8,
    "start_time": "2024-11-09T10:01:52.881Z"
   },
   {
    "duration": 95,
    "start_time": "2024-11-09T10:01:52.893Z"
   },
   {
    "duration": 199,
    "start_time": "2024-11-09T10:01:52.989Z"
   },
   {
    "duration": 39,
    "start_time": "2024-11-09T10:01:53.190Z"
   },
   {
    "duration": 234,
    "start_time": "2024-11-09T10:01:53.231Z"
   },
   {
    "duration": 57,
    "start_time": "2024-11-09T10:01:53.467Z"
   },
   {
    "duration": 97,
    "start_time": "2024-11-09T10:01:53.526Z"
   },
   {
    "duration": 11,
    "start_time": "2024-11-09T10:01:53.631Z"
   },
   {
    "duration": 8,
    "start_time": "2024-11-09T10:01:53.645Z"
   },
   {
    "duration": 5,
    "start_time": "2024-11-09T10:01:53.655Z"
   },
   {
    "duration": 13,
    "start_time": "2024-11-09T10:01:53.662Z"
   },
   {
    "duration": 12,
    "start_time": "2024-11-09T10:01:53.677Z"
   },
   {
    "duration": 37,
    "start_time": "2024-11-09T10:01:53.692Z"
   },
   {
    "duration": 35,
    "start_time": "2024-11-09T10:01:53.731Z"
   },
   {
    "duration": 81,
    "start_time": "2024-11-09T10:04:08.906Z"
   },
   {
    "duration": 63,
    "start_time": "2024-11-09T10:04:13.999Z"
   },
   {
    "duration": 20,
    "start_time": "2024-11-09T10:05:43.880Z"
   },
   {
    "duration": 11,
    "start_time": "2024-11-09T10:06:06.935Z"
   },
   {
    "duration": 11,
    "start_time": "2024-11-09T10:06:43.347Z"
   },
   {
    "duration": 13,
    "start_time": "2024-11-09T10:07:34.468Z"
   },
   {
    "duration": 13,
    "start_time": "2024-11-09T10:08:04.721Z"
   },
   {
    "duration": 13,
    "start_time": "2024-11-09T10:08:12.243Z"
   },
   {
    "duration": 58,
    "start_time": "2024-11-09T10:09:21.331Z"
   },
   {
    "duration": 81,
    "start_time": "2024-11-09T10:10:42.352Z"
   },
   {
    "duration": 17,
    "start_time": "2024-11-09T10:11:21.231Z"
   },
   {
    "duration": 59,
    "start_time": "2024-11-09T10:11:26.883Z"
   },
   {
    "duration": 1257,
    "start_time": "2024-11-09T10:12:08.687Z"
   },
   {
    "duration": 197,
    "start_time": "2024-11-09T10:12:09.946Z"
   },
   {
    "duration": 20,
    "start_time": "2024-11-09T10:12:10.144Z"
   },
   {
    "duration": 46,
    "start_time": "2024-11-09T10:12:10.165Z"
   },
   {
    "duration": 94,
    "start_time": "2024-11-09T10:12:10.214Z"
   },
   {
    "duration": 23,
    "start_time": "2024-11-09T10:12:10.309Z"
   },
   {
    "duration": 116,
    "start_time": "2024-11-09T10:12:10.334Z"
   },
   {
    "duration": 95,
    "start_time": "2024-11-09T10:12:10.452Z"
   },
   {
    "duration": 221,
    "start_time": "2024-11-09T10:12:10.549Z"
   },
   {
    "duration": 4,
    "start_time": "2024-11-09T10:12:10.772Z"
   },
   {
    "duration": 84,
    "start_time": "2024-11-09T10:12:10.778Z"
   },
   {
    "duration": 8,
    "start_time": "2024-11-09T10:12:10.864Z"
   },
   {
    "duration": 79,
    "start_time": "2024-11-09T10:12:10.873Z"
   },
   {
    "duration": 5,
    "start_time": "2024-11-09T10:12:10.956Z"
   },
   {
    "duration": 9,
    "start_time": "2024-11-09T10:12:10.963Z"
   },
   {
    "duration": 6,
    "start_time": "2024-11-09T10:12:10.975Z"
   },
   {
    "duration": 58,
    "start_time": "2024-11-09T10:12:10.982Z"
   },
   {
    "duration": 14,
    "start_time": "2024-11-09T10:12:11.042Z"
   },
   {
    "duration": 257,
    "start_time": "2024-11-09T10:12:11.058Z"
   },
   {
    "duration": 20,
    "start_time": "2024-11-09T10:12:11.317Z"
   },
   {
    "duration": 22,
    "start_time": "2024-11-09T10:12:11.339Z"
   },
   {
    "duration": 9,
    "start_time": "2024-11-09T10:12:11.363Z"
   },
   {
    "duration": 218,
    "start_time": "2024-11-09T10:12:11.375Z"
   },
   {
    "duration": 226,
    "start_time": "2024-11-09T10:12:11.595Z"
   },
   {
    "duration": 218,
    "start_time": "2024-11-09T10:12:11.824Z"
   },
   {
    "duration": 4,
    "start_time": "2024-11-09T10:12:12.044Z"
   },
   {
    "duration": 71,
    "start_time": "2024-11-09T10:12:12.050Z"
   },
   {
    "duration": 4,
    "start_time": "2024-11-09T10:12:12.123Z"
   },
   {
    "duration": 79,
    "start_time": "2024-11-09T10:12:12.129Z"
   },
   {
    "duration": 118,
    "start_time": "2024-11-09T10:12:12.210Z"
   },
   {
    "duration": 4,
    "start_time": "2024-11-09T10:12:12.330Z"
   },
   {
    "duration": 61,
    "start_time": "2024-11-09T10:12:12.335Z"
   },
   {
    "duration": 37,
    "start_time": "2024-11-09T10:12:12.397Z"
   },
   {
    "duration": 12,
    "start_time": "2024-11-09T10:12:12.435Z"
   },
   {
    "duration": 34,
    "start_time": "2024-11-09T10:12:12.449Z"
   },
   {
    "duration": 46,
    "start_time": "2024-11-09T10:12:12.485Z"
   },
   {
    "duration": 54,
    "start_time": "2024-11-09T10:12:12.532Z"
   },
   {
    "duration": 9,
    "start_time": "2024-11-09T10:12:12.588Z"
   },
   {
    "duration": 85,
    "start_time": "2024-11-09T10:12:12.599Z"
   },
   {
    "duration": 203,
    "start_time": "2024-11-09T10:12:12.686Z"
   },
   {
    "duration": 41,
    "start_time": "2024-11-09T10:12:12.893Z"
   },
   {
    "duration": 212,
    "start_time": "2024-11-09T10:12:12.936Z"
   },
   {
    "duration": 43,
    "start_time": "2024-11-09T10:12:13.149Z"
   },
   {
    "duration": 90,
    "start_time": "2024-11-09T10:12:13.194Z"
   },
   {
    "duration": 7,
    "start_time": "2024-11-09T10:12:13.285Z"
   },
   {
    "duration": 19,
    "start_time": "2024-11-09T10:12:13.294Z"
   },
   {
    "duration": 11,
    "start_time": "2024-11-09T10:12:13.314Z"
   },
   {
    "duration": 11,
    "start_time": "2024-11-09T10:12:13.327Z"
   },
   {
    "duration": 22,
    "start_time": "2024-11-09T10:12:13.340Z"
   },
   {
    "duration": 13,
    "start_time": "2024-11-09T10:12:13.364Z"
   },
   {
    "duration": 10,
    "start_time": "2024-11-09T10:12:13.379Z"
   },
   {
    "duration": 1205,
    "start_time": "2024-11-09T10:16:54.423Z"
   },
   {
    "duration": 206,
    "start_time": "2024-11-09T10:16:55.630Z"
   },
   {
    "duration": 20,
    "start_time": "2024-11-09T10:16:55.837Z"
   },
   {
    "duration": 27,
    "start_time": "2024-11-09T10:16:55.860Z"
   },
   {
    "duration": 42,
    "start_time": "2024-11-09T10:16:55.890Z"
   },
   {
    "duration": 23,
    "start_time": "2024-11-09T10:16:55.934Z"
   },
   {
    "duration": 95,
    "start_time": "2024-11-09T10:16:55.959Z"
   },
   {
    "duration": 103,
    "start_time": "2024-11-09T10:16:56.056Z"
   },
   {
    "duration": 203,
    "start_time": "2024-11-09T10:16:56.160Z"
   },
   {
    "duration": 3,
    "start_time": "2024-11-09T10:16:56.365Z"
   },
   {
    "duration": 61,
    "start_time": "2024-11-09T10:16:56.370Z"
   },
   {
    "duration": 7,
    "start_time": "2024-11-09T10:16:56.433Z"
   },
   {
    "duration": 30,
    "start_time": "2024-11-09T10:16:56.442Z"
   },
   {
    "duration": 5,
    "start_time": "2024-11-09T10:16:56.475Z"
   },
   {
    "duration": 9,
    "start_time": "2024-11-09T10:16:56.482Z"
   },
   {
    "duration": 31,
    "start_time": "2024-11-09T10:16:56.493Z"
   },
   {
    "duration": 34,
    "start_time": "2024-11-09T10:16:56.526Z"
   },
   {
    "duration": 10,
    "start_time": "2024-11-09T10:16:56.562Z"
   },
   {
    "duration": 247,
    "start_time": "2024-11-09T10:16:56.574Z"
   },
   {
    "duration": 18,
    "start_time": "2024-11-09T10:16:56.823Z"
   },
   {
    "duration": 16,
    "start_time": "2024-11-09T10:16:56.843Z"
   },
   {
    "duration": 11,
    "start_time": "2024-11-09T10:16:56.861Z"
   },
   {
    "duration": 223,
    "start_time": "2024-11-09T10:16:56.874Z"
   },
   {
    "duration": 221,
    "start_time": "2024-11-09T10:16:57.099Z"
   },
   {
    "duration": 213,
    "start_time": "2024-11-09T10:16:57.322Z"
   },
   {
    "duration": 4,
    "start_time": "2024-11-09T10:16:57.537Z"
   },
   {
    "duration": 57,
    "start_time": "2024-11-09T10:16:57.542Z"
   },
   {
    "duration": 4,
    "start_time": "2024-11-09T10:16:57.620Z"
   },
   {
    "duration": 22,
    "start_time": "2024-11-09T10:16:57.626Z"
   },
   {
    "duration": 47,
    "start_time": "2024-11-09T10:16:57.650Z"
   },
   {
    "duration": 4,
    "start_time": "2024-11-09T10:16:57.698Z"
   },
   {
    "duration": 76,
    "start_time": "2024-11-09T10:16:57.703Z"
   },
   {
    "duration": 19,
    "start_time": "2024-11-09T10:16:57.781Z"
   },
   {
    "duration": 54,
    "start_time": "2024-11-09T10:16:57.802Z"
   },
   {
    "duration": 34,
    "start_time": "2024-11-09T10:16:57.857Z"
   },
   {
    "duration": 25,
    "start_time": "2024-11-09T10:16:57.893Z"
   },
   {
    "duration": 58,
    "start_time": "2024-11-09T10:16:57.920Z"
   },
   {
    "duration": 10,
    "start_time": "2024-11-09T10:16:57.980Z"
   },
   {
    "duration": 92,
    "start_time": "2024-11-09T10:16:57.992Z"
   },
   {
    "duration": 186,
    "start_time": "2024-11-09T10:16:58.086Z"
   },
   {
    "duration": 44,
    "start_time": "2024-11-09T10:16:58.277Z"
   },
   {
    "duration": 242,
    "start_time": "2024-11-09T10:16:58.323Z"
   },
   {
    "duration": 65,
    "start_time": "2024-11-09T10:16:58.568Z"
   },
   {
    "duration": 135,
    "start_time": "2024-11-09T10:16:58.636Z"
   },
   {
    "duration": 7,
    "start_time": "2024-11-09T10:16:58.773Z"
   },
   {
    "duration": 12,
    "start_time": "2024-11-09T10:16:58.782Z"
   },
   {
    "duration": 25,
    "start_time": "2024-11-09T10:16:58.796Z"
   },
   {
    "duration": 12,
    "start_time": "2024-11-09T10:16:58.823Z"
   },
   {
    "duration": 11,
    "start_time": "2024-11-09T10:16:58.837Z"
   },
   {
    "duration": 12,
    "start_time": "2024-11-09T10:16:58.850Z"
   },
   {
    "duration": 12,
    "start_time": "2024-11-09T10:16:58.864Z"
   },
   {
    "duration": 1155,
    "start_time": "2025-01-17T16:41:55.555Z"
   },
   {
    "duration": 332,
    "start_time": "2025-01-17T16:41:56.713Z"
   },
   {
    "duration": 19,
    "start_time": "2025-01-17T16:41:57.046Z"
   },
   {
    "duration": 9,
    "start_time": "2025-01-17T16:41:57.068Z"
   },
   {
    "duration": 21,
    "start_time": "2025-01-17T16:41:57.079Z"
   },
   {
    "duration": 57,
    "start_time": "2025-01-17T16:41:57.102Z"
   },
   {
    "duration": 100,
    "start_time": "2025-01-17T16:41:57.162Z"
   },
   {
    "duration": 103,
    "start_time": "2025-01-17T16:41:57.263Z"
   },
   {
    "duration": 217,
    "start_time": "2025-01-17T16:41:57.367Z"
   },
   {
    "duration": 3,
    "start_time": "2025-01-17T16:41:57.587Z"
   },
   {
    "duration": 64,
    "start_time": "2025-01-17T16:41:57.591Z"
   },
   {
    "duration": 7,
    "start_time": "2025-01-17T16:41:57.657Z"
   },
   {
    "duration": 30,
    "start_time": "2025-01-17T16:41:57.666Z"
   },
   {
    "duration": 5,
    "start_time": "2025-01-17T16:41:57.698Z"
   },
   {
    "duration": 36,
    "start_time": "2025-01-17T16:41:57.704Z"
   },
   {
    "duration": 5,
    "start_time": "2025-01-17T16:41:57.742Z"
   },
   {
    "duration": 25,
    "start_time": "2025-01-17T16:41:57.749Z"
   },
   {
    "duration": 9,
    "start_time": "2025-01-17T16:41:57.775Z"
   },
   {
    "duration": 261,
    "start_time": "2025-01-17T16:41:57.786Z"
   },
   {
    "duration": 19,
    "start_time": "2025-01-17T16:41:58.048Z"
   },
   {
    "duration": 16,
    "start_time": "2025-01-17T16:41:58.068Z"
   },
   {
    "duration": 8,
    "start_time": "2025-01-17T16:41:58.086Z"
   },
   {
    "duration": 243,
    "start_time": "2025-01-17T16:41:58.096Z"
   },
   {
    "duration": 205,
    "start_time": "2025-01-17T16:41:58.341Z"
   },
   {
    "duration": 203,
    "start_time": "2025-01-17T16:41:58.547Z"
   },
   {
    "duration": 3,
    "start_time": "2025-01-17T16:41:58.752Z"
   },
   {
    "duration": 54,
    "start_time": "2025-01-17T16:41:58.757Z"
   },
   {
    "duration": 4,
    "start_time": "2025-01-17T16:41:58.836Z"
   },
   {
    "duration": 9,
    "start_time": "2025-01-17T16:41:58.842Z"
   },
   {
    "duration": 67,
    "start_time": "2025-01-17T16:41:58.853Z"
   },
   {
    "duration": 3,
    "start_time": "2025-01-17T16:41:58.922Z"
   },
   {
    "duration": 70,
    "start_time": "2025-01-17T16:41:58.927Z"
   },
   {
    "duration": 39,
    "start_time": "2025-01-17T16:41:58.999Z"
   },
   {
    "duration": 12,
    "start_time": "2025-01-17T16:41:59.040Z"
   },
   {
    "duration": 31,
    "start_time": "2025-01-17T16:41:59.054Z"
   },
   {
    "duration": 52,
    "start_time": "2025-01-17T16:41:59.086Z"
   },
   {
    "duration": 49,
    "start_time": "2025-01-17T16:41:59.139Z"
   },
   {
    "duration": 7,
    "start_time": "2025-01-17T16:41:59.190Z"
   },
   {
    "duration": 88,
    "start_time": "2025-01-17T16:41:59.199Z"
   },
   {
    "duration": 182,
    "start_time": "2025-01-17T16:41:59.288Z"
   },
   {
    "duration": 33,
    "start_time": "2025-01-17T16:41:59.472Z"
   },
   {
    "duration": 218,
    "start_time": "2025-01-17T16:41:59.507Z"
   },
   {
    "duration": 43,
    "start_time": "2025-01-17T16:41:59.727Z"
   },
   {
    "duration": 101,
    "start_time": "2025-01-17T16:41:59.771Z"
   },
   {
    "duration": 6,
    "start_time": "2025-01-17T16:41:59.874Z"
   },
   {
    "duration": 15,
    "start_time": "2025-01-17T16:41:59.882Z"
   },
   {
    "duration": 8,
    "start_time": "2025-01-17T16:41:59.899Z"
   },
   {
    "duration": 30,
    "start_time": "2025-01-17T16:41:59.909Z"
   },
   {
    "duration": 8,
    "start_time": "2025-01-17T16:41:59.942Z"
   },
   {
    "duration": 13,
    "start_time": "2025-01-17T16:41:59.951Z"
   },
   {
    "duration": 20,
    "start_time": "2025-01-17T16:41:59.965Z"
   }
  ],
  "kernelspec": {
   "display_name": "Python 3 (ipykernel)",
   "language": "python",
   "name": "python3"
  },
  "language_info": {
   "codemirror_mode": {
    "name": "ipython",
    "version": 3
   },
   "file_extension": ".py",
   "mimetype": "text/x-python",
   "name": "python",
   "nbconvert_exporter": "python",
   "pygments_lexer": "ipython3",
   "version": "3.9.5"
  },
  "toc": {
   "base_numbering": 1,
   "nav_menu": {},
   "number_sections": true,
   "sideBar": true,
   "skip_h1_title": true,
   "title_cell": "Table of Contents",
   "title_sidebar": "Contents",
   "toc_cell": false,
   "toc_position": {},
   "toc_section_display": true,
   "toc_window_display": false
  }
 },
 "nbformat": 4,
 "nbformat_minor": 2
}
