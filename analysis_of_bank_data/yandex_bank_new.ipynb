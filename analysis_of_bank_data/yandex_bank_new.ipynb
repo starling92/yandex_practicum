{
 "cells": [
  {
   "cell_type": "markdown",
   "id": "386f2ae7",
   "metadata": {
    "deletable": false,
    "editable": false,
    "id": "386f2ae7"
   },
   "source": [
    "# Исследование надежности заемщиков\n"
   ]
  },
  {
   "cell_type": "markdown",
   "id": "ffe86f65",
   "metadata": {
    "deletable": false,
    "editable": false,
    "id": "ffe86f65"
   },
   "source": [
    "Во второй части проекта вы выполните шаги 3 и 4. Их вручную проверит ревьюер.\n",
    "Чтобы вам не пришлось писать код заново для шагов 1 и 2, мы добавили авторские решения в ячейки с кодом. \n",
    "\n"
   ]
  },
  {
   "cell_type": "markdown",
   "id": "26613308",
   "metadata": {
    "deletable": false,
    "editable": false,
    "id": "26613308"
   },
   "source": [
    "## Откройте таблицу и изучите общую информацию о данных"
   ]
  },
  {
   "cell_type": "markdown",
   "id": "3c9f838e",
   "metadata": {
    "deletable": false,
    "editable": false,
    "id": "3c9f838e"
   },
   "source": [
    "**Задание 1. Импортируйте библиотеку pandas. Считайте данные из csv-файла в датафрейм и сохраните в переменную `data`. Путь к файлу:**\n",
    "\n",
    "`/datasets/data.csv`"
   ]
  },
  {
   "cell_type": "code",
   "execution_count": 1,
   "id": "77a68a90",
   "metadata": {
    "deletable": false,
    "id": "77a68a90"
   },
   "outputs": [],
   "source": [
    "import pandas as pd\n",
    "\n",
    "try:\n",
    "    data = pd.read_csv('/datasets/data.csv')\n",
    "except:\n",
    "    data = pd.read_csv('https://code.s3.yandex.net/datasets/data.csv')"
   ]
  },
  {
   "cell_type": "markdown",
   "id": "45365635",
   "metadata": {
    "deletable": false,
    "editable": false,
    "id": "45365635"
   },
   "source": [
    "**Задание 2. Выведите первые 20 строчек датафрейма `data` на экран.**"
   ]
  },
  {
   "cell_type": "code",
   "execution_count": 2,
   "id": "b0451a9a",
   "metadata": {
    "deletable": false,
    "id": "b0451a9a",
    "outputId": "1a8f3ef2-d323-4ec2-ddf7-89670b5944c4"
   },
   "outputs": [
    {
     "data": {
      "text/html": [
       "<div>\n",
       "<style scoped>\n",
       "    .dataframe tbody tr th:only-of-type {\n",
       "        vertical-align: middle;\n",
       "    }\n",
       "\n",
       "    .dataframe tbody tr th {\n",
       "        vertical-align: top;\n",
       "    }\n",
       "\n",
       "    .dataframe thead th {\n",
       "        text-align: right;\n",
       "    }\n",
       "</style>\n",
       "<table border=\"1\" class=\"dataframe\">\n",
       "  <thead>\n",
       "    <tr style=\"text-align: right;\">\n",
       "      <th></th>\n",
       "      <th>children</th>\n",
       "      <th>days_employed</th>\n",
       "      <th>dob_years</th>\n",
       "      <th>education</th>\n",
       "      <th>education_id</th>\n",
       "      <th>family_status</th>\n",
       "      <th>family_status_id</th>\n",
       "      <th>gender</th>\n",
       "      <th>income_type</th>\n",
       "      <th>debt</th>\n",
       "      <th>total_income</th>\n",
       "      <th>purpose</th>\n",
       "    </tr>\n",
       "  </thead>\n",
       "  <tbody>\n",
       "    <tr>\n",
       "      <th>0</th>\n",
       "      <td>1</td>\n",
       "      <td>-8437.673028</td>\n",
       "      <td>42</td>\n",
       "      <td>высшее</td>\n",
       "      <td>0</td>\n",
       "      <td>женат / замужем</td>\n",
       "      <td>0</td>\n",
       "      <td>F</td>\n",
       "      <td>сотрудник</td>\n",
       "      <td>0</td>\n",
       "      <td>253875.639453</td>\n",
       "      <td>покупка жилья</td>\n",
       "    </tr>\n",
       "    <tr>\n",
       "      <th>1</th>\n",
       "      <td>1</td>\n",
       "      <td>-4024.803754</td>\n",
       "      <td>36</td>\n",
       "      <td>среднее</td>\n",
       "      <td>1</td>\n",
       "      <td>женат / замужем</td>\n",
       "      <td>0</td>\n",
       "      <td>F</td>\n",
       "      <td>сотрудник</td>\n",
       "      <td>0</td>\n",
       "      <td>112080.014102</td>\n",
       "      <td>приобретение автомобиля</td>\n",
       "    </tr>\n",
       "    <tr>\n",
       "      <th>2</th>\n",
       "      <td>0</td>\n",
       "      <td>-5623.422610</td>\n",
       "      <td>33</td>\n",
       "      <td>Среднее</td>\n",
       "      <td>1</td>\n",
       "      <td>женат / замужем</td>\n",
       "      <td>0</td>\n",
       "      <td>M</td>\n",
       "      <td>сотрудник</td>\n",
       "      <td>0</td>\n",
       "      <td>145885.952297</td>\n",
       "      <td>покупка жилья</td>\n",
       "    </tr>\n",
       "    <tr>\n",
       "      <th>3</th>\n",
       "      <td>3</td>\n",
       "      <td>-4124.747207</td>\n",
       "      <td>32</td>\n",
       "      <td>среднее</td>\n",
       "      <td>1</td>\n",
       "      <td>женат / замужем</td>\n",
       "      <td>0</td>\n",
       "      <td>M</td>\n",
       "      <td>сотрудник</td>\n",
       "      <td>0</td>\n",
       "      <td>267628.550329</td>\n",
       "      <td>дополнительное образование</td>\n",
       "    </tr>\n",
       "    <tr>\n",
       "      <th>4</th>\n",
       "      <td>0</td>\n",
       "      <td>340266.072047</td>\n",
       "      <td>53</td>\n",
       "      <td>среднее</td>\n",
       "      <td>1</td>\n",
       "      <td>гражданский брак</td>\n",
       "      <td>1</td>\n",
       "      <td>F</td>\n",
       "      <td>пенсионер</td>\n",
       "      <td>0</td>\n",
       "      <td>158616.077870</td>\n",
       "      <td>сыграть свадьбу</td>\n",
       "    </tr>\n",
       "    <tr>\n",
       "      <th>5</th>\n",
       "      <td>0</td>\n",
       "      <td>-926.185831</td>\n",
       "      <td>27</td>\n",
       "      <td>высшее</td>\n",
       "      <td>0</td>\n",
       "      <td>гражданский брак</td>\n",
       "      <td>1</td>\n",
       "      <td>M</td>\n",
       "      <td>компаньон</td>\n",
       "      <td>0</td>\n",
       "      <td>255763.565419</td>\n",
       "      <td>покупка жилья</td>\n",
       "    </tr>\n",
       "    <tr>\n",
       "      <th>6</th>\n",
       "      <td>0</td>\n",
       "      <td>-2879.202052</td>\n",
       "      <td>43</td>\n",
       "      <td>высшее</td>\n",
       "      <td>0</td>\n",
       "      <td>женат / замужем</td>\n",
       "      <td>0</td>\n",
       "      <td>F</td>\n",
       "      <td>компаньон</td>\n",
       "      <td>0</td>\n",
       "      <td>240525.971920</td>\n",
       "      <td>операции с жильем</td>\n",
       "    </tr>\n",
       "    <tr>\n",
       "      <th>7</th>\n",
       "      <td>0</td>\n",
       "      <td>-152.779569</td>\n",
       "      <td>50</td>\n",
       "      <td>СРЕДНЕЕ</td>\n",
       "      <td>1</td>\n",
       "      <td>женат / замужем</td>\n",
       "      <td>0</td>\n",
       "      <td>M</td>\n",
       "      <td>сотрудник</td>\n",
       "      <td>0</td>\n",
       "      <td>135823.934197</td>\n",
       "      <td>образование</td>\n",
       "    </tr>\n",
       "    <tr>\n",
       "      <th>8</th>\n",
       "      <td>2</td>\n",
       "      <td>-6929.865299</td>\n",
       "      <td>35</td>\n",
       "      <td>ВЫСШЕЕ</td>\n",
       "      <td>0</td>\n",
       "      <td>гражданский брак</td>\n",
       "      <td>1</td>\n",
       "      <td>F</td>\n",
       "      <td>сотрудник</td>\n",
       "      <td>0</td>\n",
       "      <td>95856.832424</td>\n",
       "      <td>на проведение свадьбы</td>\n",
       "    </tr>\n",
       "    <tr>\n",
       "      <th>9</th>\n",
       "      <td>0</td>\n",
       "      <td>-2188.756445</td>\n",
       "      <td>41</td>\n",
       "      <td>среднее</td>\n",
       "      <td>1</td>\n",
       "      <td>женат / замужем</td>\n",
       "      <td>0</td>\n",
       "      <td>M</td>\n",
       "      <td>сотрудник</td>\n",
       "      <td>0</td>\n",
       "      <td>144425.938277</td>\n",
       "      <td>покупка жилья для семьи</td>\n",
       "    </tr>\n",
       "    <tr>\n",
       "      <th>10</th>\n",
       "      <td>2</td>\n",
       "      <td>-4171.483647</td>\n",
       "      <td>36</td>\n",
       "      <td>высшее</td>\n",
       "      <td>0</td>\n",
       "      <td>женат / замужем</td>\n",
       "      <td>0</td>\n",
       "      <td>M</td>\n",
       "      <td>компаньон</td>\n",
       "      <td>0</td>\n",
       "      <td>113943.491460</td>\n",
       "      <td>покупка недвижимости</td>\n",
       "    </tr>\n",
       "    <tr>\n",
       "      <th>11</th>\n",
       "      <td>0</td>\n",
       "      <td>-792.701887</td>\n",
       "      <td>40</td>\n",
       "      <td>среднее</td>\n",
       "      <td>1</td>\n",
       "      <td>женат / замужем</td>\n",
       "      <td>0</td>\n",
       "      <td>F</td>\n",
       "      <td>сотрудник</td>\n",
       "      <td>0</td>\n",
       "      <td>77069.234271</td>\n",
       "      <td>покупка коммерческой недвижимости</td>\n",
       "    </tr>\n",
       "    <tr>\n",
       "      <th>12</th>\n",
       "      <td>0</td>\n",
       "      <td>NaN</td>\n",
       "      <td>65</td>\n",
       "      <td>среднее</td>\n",
       "      <td>1</td>\n",
       "      <td>гражданский брак</td>\n",
       "      <td>1</td>\n",
       "      <td>M</td>\n",
       "      <td>пенсионер</td>\n",
       "      <td>0</td>\n",
       "      <td>NaN</td>\n",
       "      <td>сыграть свадьбу</td>\n",
       "    </tr>\n",
       "    <tr>\n",
       "      <th>13</th>\n",
       "      <td>0</td>\n",
       "      <td>-1846.641941</td>\n",
       "      <td>54</td>\n",
       "      <td>неоконченное высшее</td>\n",
       "      <td>2</td>\n",
       "      <td>женат / замужем</td>\n",
       "      <td>0</td>\n",
       "      <td>F</td>\n",
       "      <td>сотрудник</td>\n",
       "      <td>0</td>\n",
       "      <td>130458.228857</td>\n",
       "      <td>приобретение автомобиля</td>\n",
       "    </tr>\n",
       "    <tr>\n",
       "      <th>14</th>\n",
       "      <td>0</td>\n",
       "      <td>-1844.956182</td>\n",
       "      <td>56</td>\n",
       "      <td>высшее</td>\n",
       "      <td>0</td>\n",
       "      <td>гражданский брак</td>\n",
       "      <td>1</td>\n",
       "      <td>F</td>\n",
       "      <td>компаньон</td>\n",
       "      <td>1</td>\n",
       "      <td>165127.911772</td>\n",
       "      <td>покупка жилой недвижимости</td>\n",
       "    </tr>\n",
       "    <tr>\n",
       "      <th>15</th>\n",
       "      <td>1</td>\n",
       "      <td>-972.364419</td>\n",
       "      <td>26</td>\n",
       "      <td>среднее</td>\n",
       "      <td>1</td>\n",
       "      <td>женат / замужем</td>\n",
       "      <td>0</td>\n",
       "      <td>F</td>\n",
       "      <td>сотрудник</td>\n",
       "      <td>0</td>\n",
       "      <td>116820.904450</td>\n",
       "      <td>строительство собственной недвижимости</td>\n",
       "    </tr>\n",
       "    <tr>\n",
       "      <th>16</th>\n",
       "      <td>0</td>\n",
       "      <td>-1719.934226</td>\n",
       "      <td>35</td>\n",
       "      <td>среднее</td>\n",
       "      <td>1</td>\n",
       "      <td>женат / замужем</td>\n",
       "      <td>0</td>\n",
       "      <td>F</td>\n",
       "      <td>сотрудник</td>\n",
       "      <td>0</td>\n",
       "      <td>289202.704229</td>\n",
       "      <td>недвижимость</td>\n",
       "    </tr>\n",
       "    <tr>\n",
       "      <th>17</th>\n",
       "      <td>0</td>\n",
       "      <td>-2369.999720</td>\n",
       "      <td>33</td>\n",
       "      <td>высшее</td>\n",
       "      <td>0</td>\n",
       "      <td>гражданский брак</td>\n",
       "      <td>1</td>\n",
       "      <td>M</td>\n",
       "      <td>сотрудник</td>\n",
       "      <td>0</td>\n",
       "      <td>90410.586745</td>\n",
       "      <td>строительство недвижимости</td>\n",
       "    </tr>\n",
       "    <tr>\n",
       "      <th>18</th>\n",
       "      <td>0</td>\n",
       "      <td>400281.136913</td>\n",
       "      <td>53</td>\n",
       "      <td>среднее</td>\n",
       "      <td>1</td>\n",
       "      <td>вдовец / вдова</td>\n",
       "      <td>2</td>\n",
       "      <td>F</td>\n",
       "      <td>пенсионер</td>\n",
       "      <td>0</td>\n",
       "      <td>56823.777243</td>\n",
       "      <td>на покупку подержанного автомобиля</td>\n",
       "    </tr>\n",
       "    <tr>\n",
       "      <th>19</th>\n",
       "      <td>0</td>\n",
       "      <td>-10038.818549</td>\n",
       "      <td>48</td>\n",
       "      <td>СРЕДНЕЕ</td>\n",
       "      <td>1</td>\n",
       "      <td>в разводе</td>\n",
       "      <td>3</td>\n",
       "      <td>F</td>\n",
       "      <td>сотрудник</td>\n",
       "      <td>0</td>\n",
       "      <td>242831.107982</td>\n",
       "      <td>на покупку своего автомобиля</td>\n",
       "    </tr>\n",
       "  </tbody>\n",
       "</table>\n",
       "</div>"
      ],
      "text/plain": [
       "    children  days_employed  dob_years            education  education_id  \\\n",
       "0          1   -8437.673028         42               высшее             0   \n",
       "1          1   -4024.803754         36              среднее             1   \n",
       "2          0   -5623.422610         33              Среднее             1   \n",
       "3          3   -4124.747207         32              среднее             1   \n",
       "4          0  340266.072047         53              среднее             1   \n",
       "5          0    -926.185831         27               высшее             0   \n",
       "6          0   -2879.202052         43               высшее             0   \n",
       "7          0    -152.779569         50              СРЕДНЕЕ             1   \n",
       "8          2   -6929.865299         35               ВЫСШЕЕ             0   \n",
       "9          0   -2188.756445         41              среднее             1   \n",
       "10         2   -4171.483647         36               высшее             0   \n",
       "11         0    -792.701887         40              среднее             1   \n",
       "12         0            NaN         65              среднее             1   \n",
       "13         0   -1846.641941         54  неоконченное высшее             2   \n",
       "14         0   -1844.956182         56               высшее             0   \n",
       "15         1    -972.364419         26              среднее             1   \n",
       "16         0   -1719.934226         35              среднее             1   \n",
       "17         0   -2369.999720         33               высшее             0   \n",
       "18         0  400281.136913         53              среднее             1   \n",
       "19         0  -10038.818549         48              СРЕДНЕЕ             1   \n",
       "\n",
       "       family_status  family_status_id gender income_type  debt  \\\n",
       "0    женат / замужем                 0      F   сотрудник     0   \n",
       "1    женат / замужем                 0      F   сотрудник     0   \n",
       "2    женат / замужем                 0      M   сотрудник     0   \n",
       "3    женат / замужем                 0      M   сотрудник     0   \n",
       "4   гражданский брак                 1      F   пенсионер     0   \n",
       "5   гражданский брак                 1      M   компаньон     0   \n",
       "6    женат / замужем                 0      F   компаньон     0   \n",
       "7    женат / замужем                 0      M   сотрудник     0   \n",
       "8   гражданский брак                 1      F   сотрудник     0   \n",
       "9    женат / замужем                 0      M   сотрудник     0   \n",
       "10   женат / замужем                 0      M   компаньон     0   \n",
       "11   женат / замужем                 0      F   сотрудник     0   \n",
       "12  гражданский брак                 1      M   пенсионер     0   \n",
       "13   женат / замужем                 0      F   сотрудник     0   \n",
       "14  гражданский брак                 1      F   компаньон     1   \n",
       "15   женат / замужем                 0      F   сотрудник     0   \n",
       "16   женат / замужем                 0      F   сотрудник     0   \n",
       "17  гражданский брак                 1      M   сотрудник     0   \n",
       "18    вдовец / вдова                 2      F   пенсионер     0   \n",
       "19         в разводе                 3      F   сотрудник     0   \n",
       "\n",
       "     total_income                                 purpose  \n",
       "0   253875.639453                           покупка жилья  \n",
       "1   112080.014102                 приобретение автомобиля  \n",
       "2   145885.952297                           покупка жилья  \n",
       "3   267628.550329              дополнительное образование  \n",
       "4   158616.077870                         сыграть свадьбу  \n",
       "5   255763.565419                           покупка жилья  \n",
       "6   240525.971920                       операции с жильем  \n",
       "7   135823.934197                             образование  \n",
       "8    95856.832424                   на проведение свадьбы  \n",
       "9   144425.938277                 покупка жилья для семьи  \n",
       "10  113943.491460                    покупка недвижимости  \n",
       "11   77069.234271       покупка коммерческой недвижимости  \n",
       "12            NaN                         сыграть свадьбу  \n",
       "13  130458.228857                 приобретение автомобиля  \n",
       "14  165127.911772              покупка жилой недвижимости  \n",
       "15  116820.904450  строительство собственной недвижимости  \n",
       "16  289202.704229                            недвижимость  \n",
       "17   90410.586745              строительство недвижимости  \n",
       "18   56823.777243      на покупку подержанного автомобиля  \n",
       "19  242831.107982            на покупку своего автомобиля  "
      ]
     },
     "execution_count": 2,
     "metadata": {},
     "output_type": "execute_result"
    }
   ],
   "source": [
    "data.head(20)"
   ]
  },
  {
   "cell_type": "markdown",
   "id": "0ed8f27f",
   "metadata": {
    "deletable": false,
    "editable": false,
    "id": "0ed8f27f"
   },
   "source": [
    "**Задание 3. Выведите основную информацию о датафрейме с помощью метода `info()`.**"
   ]
  },
  {
   "cell_type": "code",
   "execution_count": 3,
   "id": "ab3f863b",
   "metadata": {
    "deletable": false,
    "id": "ab3f863b",
    "outputId": "15376089-8dad-46c9-b520-c05248d43158"
   },
   "outputs": [
    {
     "name": "stdout",
     "output_type": "stream",
     "text": [
      "<class 'pandas.core.frame.DataFrame'>\n",
      "RangeIndex: 21525 entries, 0 to 21524\n",
      "Data columns (total 12 columns):\n",
      " #   Column            Non-Null Count  Dtype  \n",
      "---  ------            --------------  -----  \n",
      " 0   children          21525 non-null  int64  \n",
      " 1   days_employed     19351 non-null  float64\n",
      " 2   dob_years         21525 non-null  int64  \n",
      " 3   education         21525 non-null  object \n",
      " 4   education_id      21525 non-null  int64  \n",
      " 5   family_status     21525 non-null  object \n",
      " 6   family_status_id  21525 non-null  int64  \n",
      " 7   gender            21525 non-null  object \n",
      " 8   income_type       21525 non-null  object \n",
      " 9   debt              21525 non-null  int64  \n",
      " 10  total_income      19351 non-null  float64\n",
      " 11  purpose           21525 non-null  object \n",
      "dtypes: float64(2), int64(5), object(5)\n",
      "memory usage: 2.0+ MB\n"
     ]
    }
   ],
   "source": [
    "data.info()"
   ]
  },
  {
   "cell_type": "markdown",
   "id": "60e3e22d",
   "metadata": {
    "deletable": false,
    "editable": false,
    "id": "60e3e22d"
   },
   "source": [
    "## Предобработка данных"
   ]
  },
  {
   "cell_type": "markdown",
   "id": "03dc170c",
   "metadata": {
    "deletable": false,
    "editable": false,
    "id": "03dc170c"
   },
   "source": [
    "### Удаление пропусков"
   ]
  },
  {
   "cell_type": "markdown",
   "id": "a4f54eef",
   "metadata": {
    "deletable": false,
    "editable": false,
    "id": "a4f54eef"
   },
   "source": [
    "**Задание 4. Выведите количество пропущенных значений для каждого столбца. Используйте комбинацию двух методов.**"
   ]
  },
  {
   "cell_type": "code",
   "execution_count": 4,
   "id": "2dc372b2",
   "metadata": {
    "deletable": false,
    "id": "2dc372b2",
    "outputId": "81f4d817-781c-465c-ed15-91ce4446810d"
   },
   "outputs": [
    {
     "data": {
      "text/plain": [
       "children               0\n",
       "days_employed       2174\n",
       "dob_years              0\n",
       "education              0\n",
       "education_id           0\n",
       "family_status          0\n",
       "family_status_id       0\n",
       "gender                 0\n",
       "income_type            0\n",
       "debt                   0\n",
       "total_income        2174\n",
       "purpose                0\n",
       "dtype: int64"
      ]
     },
     "execution_count": 4,
     "metadata": {},
     "output_type": "execute_result"
    }
   ],
   "source": [
    "data.isna().sum()"
   ]
  },
  {
   "cell_type": "markdown",
   "id": "14f011b1",
   "metadata": {
    "deletable": false,
    "editable": false,
    "id": "14f011b1"
   },
   "source": [
    "**Задание 5. В двух столбцах есть пропущенные значения. Один из них — `days_employed`. Пропуски в этом столбце вы обработаете на следующем этапе. Другой столбец с пропущенными значениями — `total_income` — хранит данные о доходах. На сумму дохода сильнее всего влияет тип занятости, поэтому заполнить пропуски в этом столбце нужно медианным значением по каждому типу из столбца `income_type`. Например, у человека с типом занятости `сотрудник` пропуск в столбце `total_income` должен быть заполнен медианным доходом среди всех записей с тем же типом.**"
   ]
  },
  {
   "cell_type": "code",
   "execution_count": 5,
   "id": "bdabfb6e",
   "metadata": {
    "deletable": false,
    "id": "bdabfb6e"
   },
   "outputs": [],
   "source": [
    "for t in data['income_type'].unique():\n",
    "    data.loc[(data['income_type'] == t) & (data['total_income'].isna()), 'total_income'] = \\\n",
    "    data.loc[(data['income_type'] == t), 'total_income'].median()"
   ]
  },
  {
   "cell_type": "markdown",
   "id": "5be34059",
   "metadata": {
    "deletable": false,
    "editable": false,
    "id": "5be34059"
   },
   "source": [
    "### Обработка аномальных значений"
   ]
  },
  {
   "cell_type": "markdown",
   "id": "a87606cb",
   "metadata": {
    "deletable": false,
    "editable": false,
    "id": "a87606cb"
   },
   "source": [
    "**Задание 6. В данных могут встречаться артефакты (аномалии) — значения, которые не отражают действительность и появились по какой-то ошибке. таким артефактом будет отрицательное количество дней трудового стажа в столбце `days_employed`. Для реальных данных это нормально. Обработайте значения в этом столбце: замените все отрицательные значения положительными с помощью метода `abs()`.**"
   ]
  },
  {
   "cell_type": "code",
   "execution_count": 6,
   "id": "020c46cc",
   "metadata": {
    "deletable": false,
    "id": "020c46cc"
   },
   "outputs": [],
   "source": [
    "data['days_employed'] = data['days_employed'].abs()"
   ]
  },
  {
   "cell_type": "markdown",
   "id": "45538a3a",
   "metadata": {
    "deletable": false,
    "editable": false,
    "id": "45538a3a"
   },
   "source": [
    "**Задание 7. Для каждого типа занятости выведите медианное значение трудового стажа `days_employed` в днях.**"
   ]
  },
  {
   "cell_type": "code",
   "execution_count": 7,
   "id": "cd3e6328",
   "metadata": {
    "deletable": false,
    "id": "cd3e6328",
    "outputId": "801ef80e-522b-4668-f34e-565af7432bcf"
   },
   "outputs": [
    {
     "data": {
      "text/plain": [
       "income_type\n",
       "безработный        366413.652744\n",
       "в декрете            3296.759962\n",
       "госслужащий          2689.368353\n",
       "компаньон            1547.382223\n",
       "пенсионер          365213.306266\n",
       "предприниматель       520.848083\n",
       "сотрудник            1574.202821\n",
       "студент               578.751554\n",
       "Name: days_employed, dtype: float64"
      ]
     },
     "execution_count": 7,
     "metadata": {},
     "output_type": "execute_result"
    }
   ],
   "source": [
    "data.groupby('income_type')['days_employed'].agg('median')"
   ]
  },
  {
   "cell_type": "markdown",
   "id": "90c5f058",
   "metadata": {
    "deletable": false,
    "editable": false,
    "id": "90c5f058"
   },
   "source": [
    "У двух типов (безработные и пенсионеры) получатся аномально большие значения. Исправить такие значения сложно, поэтому оставьте их как есть."
   ]
  },
  {
   "cell_type": "markdown",
   "id": "9652e50d",
   "metadata": {
    "deletable": false,
    "editable": false,
    "id": "9652e50d"
   },
   "source": [
    "**Задание 8. Выведите перечень уникальных значений столбца `children`.**"
   ]
  },
  {
   "cell_type": "code",
   "execution_count": 8,
   "id": "dbb37b8e",
   "metadata": {
    "deletable": false,
    "id": "dbb37b8e",
    "outputId": "6975b15c-7f95-4697-d16d-a0c79b657b03"
   },
   "outputs": [
    {
     "data": {
      "text/plain": [
       "array([ 1,  0,  3,  2, -1,  4, 20,  5])"
      ]
     },
     "execution_count": 8,
     "metadata": {},
     "output_type": "execute_result"
    }
   ],
   "source": [
    "data['children'].unique()"
   ]
  },
  {
   "cell_type": "markdown",
   "id": "2b8b0715",
   "metadata": {
    "deletable": false,
    "editable": false,
    "id": "2b8b0715"
   },
   "source": [
    "**Задание 9. В столбце `children` есть два аномальных значения. Удалите строки, в которых встречаются такие аномальные значения из датафрейма `data`.**"
   ]
  },
  {
   "cell_type": "code",
   "execution_count": 9,
   "id": "20009df8",
   "metadata": {
    "deletable": false,
    "id": "20009df8"
   },
   "outputs": [],
   "source": [
    "data = data[(data['children'] != -1) & (data['children'] != 20)]"
   ]
  },
  {
   "cell_type": "markdown",
   "id": "8c6ac9f1",
   "metadata": {
    "deletable": false,
    "editable": false,
    "id": "8c6ac9f1"
   },
   "source": [
    "**Задание 10. Ещё раз выведите перечень уникальных значений столбца `children`, чтобы убедиться, что артефакты удалены.**"
   ]
  },
  {
   "cell_type": "code",
   "execution_count": 10,
   "id": "07337b81",
   "metadata": {
    "deletable": false,
    "id": "07337b81",
    "outputId": "b2097101-d49d-44d9-901b-32a65c9463d1"
   },
   "outputs": [
    {
     "data": {
      "text/plain": [
       "array([1, 0, 3, 2, 4, 5])"
      ]
     },
     "execution_count": 10,
     "metadata": {},
     "output_type": "execute_result"
    }
   ],
   "source": [
    "data['children'].unique()"
   ]
  },
  {
   "cell_type": "markdown",
   "id": "ee3f52d4",
   "metadata": {
    "deletable": false,
    "editable": false,
    "id": "ee3f52d4"
   },
   "source": [
    "### Удаление пропусков (продолжение)"
   ]
  },
  {
   "cell_type": "markdown",
   "id": "a700b0e4",
   "metadata": {
    "deletable": false,
    "editable": false,
    "id": "a700b0e4"
   },
   "source": [
    "**Задание 11. Заполните пропуски в столбце `days_employed` медианными значениями по каждого типа занятости `income_type`.**"
   ]
  },
  {
   "cell_type": "code",
   "execution_count": 11,
   "id": "61946b83",
   "metadata": {
    "deletable": false,
    "id": "61946b83"
   },
   "outputs": [],
   "source": [
    "for t in data['income_type'].unique():\n",
    "    data.loc[(data['income_type'] == t) & (data['days_employed'].isna()), 'days_employed'] = \\\n",
    "    data.loc[(data['income_type'] == t), 'days_employed'].median()"
   ]
  },
  {
   "cell_type": "markdown",
   "id": "550dcd9b",
   "metadata": {
    "deletable": false,
    "editable": false,
    "id": "550dcd9b"
   },
   "source": [
    "**Задание 12. Убедитесь, что все пропуски заполнены. Проверьте себя и ещё раз выведите количество пропущенных значений для каждого столбца с помощью двух методов.**"
   ]
  },
  {
   "cell_type": "code",
   "execution_count": 12,
   "id": "937c7014",
   "metadata": {
    "deletable": false,
    "id": "937c7014",
    "outputId": "8da1e4e1-358e-4e87-98c9-f261bce0a7b2"
   },
   "outputs": [
    {
     "data": {
      "text/plain": [
       "children            0\n",
       "days_employed       0\n",
       "dob_years           0\n",
       "education           0\n",
       "education_id        0\n",
       "family_status       0\n",
       "family_status_id    0\n",
       "gender              0\n",
       "income_type         0\n",
       "debt                0\n",
       "total_income        0\n",
       "purpose             0\n",
       "dtype: int64"
      ]
     },
     "execution_count": 12,
     "metadata": {},
     "output_type": "execute_result"
    }
   ],
   "source": [
    "data.isna().sum()"
   ]
  },
  {
   "cell_type": "markdown",
   "id": "d522e295",
   "metadata": {
    "deletable": false,
    "editable": false,
    "id": "d522e295"
   },
   "source": [
    "### Изменение типов данных"
   ]
  },
  {
   "cell_type": "markdown",
   "id": "c229c581",
   "metadata": {
    "deletable": false,
    "editable": false,
    "id": "c229c581"
   },
   "source": [
    "**Задание 13. Замените вещественный тип данных в столбце `total_income` на целочисленный с помощью метода `astype()`.**"
   ]
  },
  {
   "cell_type": "code",
   "execution_count": 13,
   "id": "31036462",
   "metadata": {
    "deletable": false,
    "id": "31036462"
   },
   "outputs": [],
   "source": [
    "data['total_income'] = data['total_income'].astype(int)"
   ]
  },
  {
   "cell_type": "markdown",
   "id": "b8e3d1d9",
   "metadata": {
    "deletable": false,
    "editable": false,
    "id": "b8e3d1d9"
   },
   "source": [
    "### Обработка дубликатов"
   ]
  },
  {
   "cell_type": "markdown",
   "id": "9be53c49",
   "metadata": {
    "deletable": false,
    "editable": false,
    "id": "9be53c49"
   },
   "source": [
    "**Задание 14. Обработайте неявные дубликаты в столбце `education`. В этом столбце есть одни и те же значения, но записанные по-разному: с использованием заглавных и строчных букв. Приведите их к нижнему регистру.**"
   ]
  },
  {
   "cell_type": "code",
   "execution_count": 14,
   "id": "d89e73e1",
   "metadata": {
    "deletable": false,
    "id": "d89e73e1"
   },
   "outputs": [],
   "source": [
    "data['education'] = data['education'].str.lower()"
   ]
  },
  {
   "cell_type": "markdown",
   "id": "01d4500e",
   "metadata": {
    "deletable": false,
    "editable": false,
    "id": "01d4500e"
   },
   "source": [
    "**Задание 15. Выведите на экран количество строк-дубликатов в данных. Если такие строки присутствуют, удалите их.**"
   ]
  },
  {
   "cell_type": "code",
   "execution_count": 15,
   "id": "e10efb23",
   "metadata": {
    "deletable": false,
    "id": "e10efb23",
    "outputId": "9684deba-1934-42d1-99e1-cda61740f822"
   },
   "outputs": [
    {
     "data": {
      "text/plain": [
       "71"
      ]
     },
     "execution_count": 15,
     "metadata": {},
     "output_type": "execute_result"
    }
   ],
   "source": [
    "data.duplicated().sum()"
   ]
  },
  {
   "cell_type": "code",
   "execution_count": 16,
   "id": "df853f20",
   "metadata": {
    "deletable": false,
    "id": "df853f20"
   },
   "outputs": [],
   "source": [
    "data = data.drop_duplicates()"
   ]
  },
  {
   "cell_type": "markdown",
   "id": "627be38f",
   "metadata": {
    "deletable": false,
    "editable": false,
    "id": "627be38f"
   },
   "source": [
    "### Категоризация данных"
   ]
  },
  {
   "cell_type": "markdown",
   "id": "4684c3e0",
   "metadata": {
    "deletable": false,
    "editable": false,
    "id": "4684c3e0"
   },
   "source": [
    "**Задание 16. На основании диапазонов, указанных ниже, создайте в датафрейме `data` столбец `total_income_category` с категориями:**\n",
    "\n",
    "- 0–30000 — `'E'`;\n",
    "- 30001–50000 — `'D'`;\n",
    "- 50001–200000 — `'C'`;\n",
    "- 200001–1000000 — `'B'`;\n",
    "- 1000001 и выше — `'A'`.\n",
    "\n",
    "\n",
    "**Например, кредитополучателю с доходом 25000 нужно назначить категорию `'E'`, а клиенту, получающему 235000, — `'B'`. Используйте собственную функцию с именем `categorize_income()` и метод `apply()`.**"
   ]
  },
  {
   "cell_type": "code",
   "execution_count": 17,
   "id": "78965238",
   "metadata": {
    "deletable": false,
    "id": "78965238"
   },
   "outputs": [],
   "source": [
    "def categorize_income(income):\n",
    "    try:\n",
    "        if 0 <= income <= 30000:\n",
    "            return 'E'\n",
    "        elif 30001 <= income <= 50000:\n",
    "            return 'D'\n",
    "        elif 50001 <= income <= 200000:\n",
    "            return 'C'\n",
    "        elif 200001 <= income <= 1000000:\n",
    "            return 'B'\n",
    "        elif income >= 1000001:\n",
    "            return 'A'\n",
    "    except:\n",
    "        pass"
   ]
  },
  {
   "cell_type": "code",
   "execution_count": 18,
   "id": "0980ada1",
   "metadata": {
    "deletable": false,
    "id": "0980ada1"
   },
   "outputs": [],
   "source": [
    "data['total_income_category'] = data['total_income'].apply(categorize_income)"
   ]
  },
  {
   "cell_type": "markdown",
   "id": "9917bba0",
   "metadata": {
    "deletable": false,
    "editable": false,
    "id": "9917bba0"
   },
   "source": [
    "**Задание 17. Выведите на экран перечень уникальных целей взятия кредита из столбца `purpose`.**"
   ]
  },
  {
   "cell_type": "code",
   "execution_count": 19,
   "id": "ee07b65e",
   "metadata": {
    "deletable": false,
    "id": "ee07b65e",
    "outputId": "673c12d9-7d7e-4ae0-9812-c622c89dd244"
   },
   "outputs": [
    {
     "data": {
      "text/plain": [
       "array(['покупка жилья', 'приобретение автомобиля',\n",
       "       'дополнительное образование', 'сыграть свадьбу',\n",
       "       'операции с жильем', 'образование', 'на проведение свадьбы',\n",
       "       'покупка жилья для семьи', 'покупка недвижимости',\n",
       "       'покупка коммерческой недвижимости', 'покупка жилой недвижимости',\n",
       "       'строительство собственной недвижимости', 'недвижимость',\n",
       "       'строительство недвижимости', 'на покупку подержанного автомобиля',\n",
       "       'на покупку своего автомобиля',\n",
       "       'операции с коммерческой недвижимостью',\n",
       "       'строительство жилой недвижимости', 'жилье',\n",
       "       'операции со своей недвижимостью', 'автомобили',\n",
       "       'заняться образованием', 'сделка с подержанным автомобилем',\n",
       "       'получение образования', 'автомобиль', 'свадьба',\n",
       "       'получение дополнительного образования', 'покупка своего жилья',\n",
       "       'операции с недвижимостью', 'получение высшего образования',\n",
       "       'свой автомобиль', 'сделка с автомобилем',\n",
       "       'профильное образование', 'высшее образование',\n",
       "       'покупка жилья для сдачи', 'на покупку автомобиля', 'ремонт жилью',\n",
       "       'заняться высшим образованием'], dtype=object)"
      ]
     },
     "execution_count": 19,
     "metadata": {},
     "output_type": "execute_result"
    }
   ],
   "source": [
    "data['purpose'].unique()"
   ]
  },
  {
   "cell_type": "markdown",
   "id": "52b79d56",
   "metadata": {
    "deletable": false,
    "editable": false,
    "id": "52b79d56"
   },
   "source": [
    "**Задание 18. Создайте функцию, которая на основании данных из столбца `purpose` сформирует новый столбец `purpose_category`, в который войдут следующие категории:**\n",
    "\n",
    "- `'операции с автомобилем'`,\n",
    "- `'операции с недвижимостью'`,\n",
    "- `'проведение свадьбы'`,\n",
    "- `'получение образования'`.\n",
    "\n",
    "**Например, если в столбце `purpose` находится подстрока `'на покупку автомобиля'`, то в столбце `purpose_category` должна появиться строка `'операции с автомобилем'`.**\n",
    "\n",
    "**Используйте собственную функцию с именем `categorize_purpose()` и метод `apply()`. Изучите данные в столбце `purpose` и определите, какие подстроки помогут вам правильно определить категорию.**"
   ]
  },
  {
   "cell_type": "code",
   "execution_count": 20,
   "id": "be41da5d",
   "metadata": {
    "deletable": false,
    "id": "be41da5d"
   },
   "outputs": [],
   "source": [
    "def categorize_purpose(row):\n",
    "    try:\n",
    "        if 'автом' in row:\n",
    "            return 'операции с автомобилем'\n",
    "        elif 'жил' in row or 'недвиж' in row:\n",
    "            return 'операции с недвижимостью'\n",
    "        elif 'свад' in row:\n",
    "            return 'проведение свадьбы'\n",
    "        elif 'образов' in row:\n",
    "            return 'получение образования'\n",
    "    except:\n",
    "        return 'нет категории'"
   ]
  },
  {
   "cell_type": "code",
   "execution_count": 21,
   "id": "94c4a19a",
   "metadata": {
    "deletable": false,
    "id": "94c4a19a"
   },
   "outputs": [],
   "source": [
    "data['purpose_category'] = data['purpose'].apply(categorize_purpose)"
   ]
  },
  {
   "cell_type": "markdown",
   "id": "3d596c34",
   "metadata": {
    "deletable": false,
    "editable": false,
    "id": "3d596c34"
   },
   "source": [
    "### Шаг 3. Исследуйте данные и ответьте на вопросы"
   ]
  },
  {
   "cell_type": "markdown",
   "id": "648db036",
   "metadata": {
    "deletable": false,
    "editable": false,
    "id": "648db036"
   },
   "source": [
    "#### 3.1 Есть ли зависимость между количеством детей и возвратом кредита в срок?"
   ]
  },
  {
   "cell_type": "code",
   "execution_count": 22,
   "id": "7fcff25e",
   "metadata": {
    "deletable": false,
    "id": "7fcff25e"
   },
   "outputs": [
    {
     "data": {
      "text/html": [
       "<div>\n",
       "<style scoped>\n",
       "    .dataframe tbody tr th:only-of-type {\n",
       "        vertical-align: middle;\n",
       "    }\n",
       "\n",
       "    .dataframe tbody tr th {\n",
       "        vertical-align: top;\n",
       "    }\n",
       "\n",
       "    .dataframe thead th {\n",
       "        text-align: right;\n",
       "    }\n",
       "</style>\n",
       "<table border=\"1\" class=\"dataframe\">\n",
       "  <thead>\n",
       "    <tr style=\"text-align: right;\">\n",
       "      <th></th>\n",
       "      <th>number_of_children</th>\n",
       "      <th>overdue_loans</th>\n",
       "      <th>total_loans</th>\n",
       "      <th>share_of_overdue_loans</th>\n",
       "    </tr>\n",
       "  </thead>\n",
       "  <tbody>\n",
       "    <tr>\n",
       "      <th>5</th>\n",
       "      <td>5</td>\n",
       "      <td>0</td>\n",
       "      <td>9</td>\n",
       "      <td>0.000</td>\n",
       "    </tr>\n",
       "    <tr>\n",
       "      <th>0</th>\n",
       "      <td>0</td>\n",
       "      <td>1063</td>\n",
       "      <td>14091</td>\n",
       "      <td>0.075</td>\n",
       "    </tr>\n",
       "    <tr>\n",
       "      <th>3</th>\n",
       "      <td>3</td>\n",
       "      <td>27</td>\n",
       "      <td>330</td>\n",
       "      <td>0.082</td>\n",
       "    </tr>\n",
       "    <tr>\n",
       "      <th>1</th>\n",
       "      <td>1</td>\n",
       "      <td>444</td>\n",
       "      <td>4808</td>\n",
       "      <td>0.092</td>\n",
       "    </tr>\n",
       "    <tr>\n",
       "      <th>2</th>\n",
       "      <td>2</td>\n",
       "      <td>194</td>\n",
       "      <td>2052</td>\n",
       "      <td>0.095</td>\n",
       "    </tr>\n",
       "    <tr>\n",
       "      <th>4</th>\n",
       "      <td>4</td>\n",
       "      <td>4</td>\n",
       "      <td>41</td>\n",
       "      <td>0.098</td>\n",
       "    </tr>\n",
       "  </tbody>\n",
       "</table>\n",
       "</div>"
      ],
      "text/plain": [
       "   number_of_children  overdue_loans  total_loans  share_of_overdue_loans\n",
       "5                   5              0            9                   0.000\n",
       "0                   0           1063        14091                   0.075\n",
       "3                   3             27          330                   0.082\n",
       "1                   1            444         4808                   0.092\n",
       "2                   2            194         2052                   0.095\n",
       "4                   4              4           41                   0.098"
      ]
     },
     "execution_count": 22,
     "metadata": {},
     "output_type": "execute_result"
    }
   ],
   "source": [
    "def check_dependency(df, parameter, parameter_name):\n",
    "    \n",
    "    df_pivot = df.pivot_table(index= parameter \n",
    "                            , values='debt' \n",
    "                            , aggfunc=['sum', 'count']).reset_index()   \n",
    "    \n",
    " \n",
    "    df_pivot.columns = [parameter_name,'overdue_loans', 'total_loans']\n",
    "    \n",
    "    df_pivot['share_of_overdue_loans'] = round(df_pivot['overdue_loans'] \\\n",
    "                                           / df_pivot['total_loans']\n",
    "                                           , 3)\n",
    "    \n",
    "    return df_pivot.sort_values(by = 'share_of_overdue_loans')\n",
    "\n",
    "check_dependency(data, 'children', 'number_of_children' )\n",
    "\n"
   ]
  },
  {
   "cell_type": "markdown",
   "id": "2eb9088e",
   "metadata": {
    "deletable": false,
    "id": "2eb9088e"
   },
   "source": [
    "**Вывод:** Семьи без детей чаще возвращают кредиты, чем семьи с детьми. Семьи с 1-2 детьми более чем в 9 % случаев не возвращают кредит в срок. Для точного анализа семей с детьми больше 2 мало данных."
   ]
  },
  {
   "cell_type": "markdown",
   "id": "74c9b3a7",
   "metadata": {
    "deletable": false,
    "editable": false,
    "id": "74c9b3a7"
   },
   "source": [
    "#### 3.2 Есть ли зависимость между семейным положением и возвратом кредита в срок?"
   ]
  },
  {
   "cell_type": "code",
   "execution_count": 23,
   "id": "8098ab3b",
   "metadata": {
    "deletable": false,
    "id": "8098ab3b"
   },
   "outputs": [
    {
     "data": {
      "text/html": [
       "<div>\n",
       "<style scoped>\n",
       "    .dataframe tbody tr th:only-of-type {\n",
       "        vertical-align: middle;\n",
       "    }\n",
       "\n",
       "    .dataframe tbody tr th {\n",
       "        vertical-align: top;\n",
       "    }\n",
       "\n",
       "    .dataframe thead th {\n",
       "        text-align: right;\n",
       "    }\n",
       "</style>\n",
       "<table border=\"1\" class=\"dataframe\">\n",
       "  <thead>\n",
       "    <tr style=\"text-align: right;\">\n",
       "      <th></th>\n",
       "      <th>family_status</th>\n",
       "      <th>overdue_loans</th>\n",
       "      <th>total_loans</th>\n",
       "      <th>share_of_overdue_loans</th>\n",
       "    </tr>\n",
       "  </thead>\n",
       "  <tbody>\n",
       "    <tr>\n",
       "      <th>2</th>\n",
       "      <td>вдовец / вдова</td>\n",
       "      <td>63</td>\n",
       "      <td>951</td>\n",
       "      <td>0.066</td>\n",
       "    </tr>\n",
       "    <tr>\n",
       "      <th>1</th>\n",
       "      <td>в разводе</td>\n",
       "      <td>84</td>\n",
       "      <td>1189</td>\n",
       "      <td>0.071</td>\n",
       "    </tr>\n",
       "    <tr>\n",
       "      <th>4</th>\n",
       "      <td>женат / замужем</td>\n",
       "      <td>927</td>\n",
       "      <td>12261</td>\n",
       "      <td>0.076</td>\n",
       "    </tr>\n",
       "    <tr>\n",
       "      <th>3</th>\n",
       "      <td>гражданский брак</td>\n",
       "      <td>385</td>\n",
       "      <td>4134</td>\n",
       "      <td>0.093</td>\n",
       "    </tr>\n",
       "    <tr>\n",
       "      <th>0</th>\n",
       "      <td>Не женат / не замужем</td>\n",
       "      <td>273</td>\n",
       "      <td>2796</td>\n",
       "      <td>0.098</td>\n",
       "    </tr>\n",
       "  </tbody>\n",
       "</table>\n",
       "</div>"
      ],
      "text/plain": [
       "           family_status  overdue_loans  total_loans  share_of_overdue_loans\n",
       "2         вдовец / вдова             63          951                   0.066\n",
       "1              в разводе             84         1189                   0.071\n",
       "4        женат / замужем            927        12261                   0.076\n",
       "3       гражданский брак            385         4134                   0.093\n",
       "0  Не женат / не замужем            273         2796                   0.098"
      ]
     },
     "execution_count": 23,
     "metadata": {},
     "output_type": "execute_result"
    }
   ],
   "source": [
    "check_dependency(data, 'family_status', 'family_status' )"
   ]
  },
  {
   "cell_type": "markdown",
   "id": "c389ca63",
   "metadata": {
    "deletable": false,
    "id": "c389ca63"
   },
   "source": [
    "**Вывод:** Да зависимость, есть. Вдовцы с большой вероятностью чем остальные группы вернут кредит в срок. У людей в браке и разводе примерно одинаковый процент невозврата кредита в срок. Клиенты в гражданском браке и без опыта брака более чем в 9% случаев не возвращают кредит в срок"
   ]
  },
  {
   "cell_type": "markdown",
   "id": "9529de68",
   "metadata": {
    "deletable": false,
    "editable": false,
    "id": "9529de68"
   },
   "source": [
    "#### 3.3 Есть ли зависимость между уровнем дохода и возвратом кредита в срок?"
   ]
  },
  {
   "cell_type": "code",
   "execution_count": 24,
   "id": "8787f44a",
   "metadata": {
    "deletable": false,
    "id": "8787f44a"
   },
   "outputs": [
    {
     "data": {
      "text/html": [
       "<div>\n",
       "<style scoped>\n",
       "    .dataframe tbody tr th:only-of-type {\n",
       "        vertical-align: middle;\n",
       "    }\n",
       "\n",
       "    .dataframe tbody tr th {\n",
       "        vertical-align: top;\n",
       "    }\n",
       "\n",
       "    .dataframe thead th {\n",
       "        text-align: right;\n",
       "    }\n",
       "</style>\n",
       "<table border=\"1\" class=\"dataframe\">\n",
       "  <thead>\n",
       "    <tr style=\"text-align: right;\">\n",
       "      <th></th>\n",
       "      <th>total_income_category</th>\n",
       "      <th>overdue_loans</th>\n",
       "      <th>total_loans</th>\n",
       "      <th>share_of_overdue_loans</th>\n",
       "    </tr>\n",
       "  </thead>\n",
       "  <tbody>\n",
       "    <tr>\n",
       "      <th>3</th>\n",
       "      <td>D</td>\n",
       "      <td>21</td>\n",
       "      <td>349</td>\n",
       "      <td>0.060</td>\n",
       "    </tr>\n",
       "    <tr>\n",
       "      <th>1</th>\n",
       "      <td>B</td>\n",
       "      <td>354</td>\n",
       "      <td>5014</td>\n",
       "      <td>0.071</td>\n",
       "    </tr>\n",
       "    <tr>\n",
       "      <th>0</th>\n",
       "      <td>A</td>\n",
       "      <td>2</td>\n",
       "      <td>25</td>\n",
       "      <td>0.080</td>\n",
       "    </tr>\n",
       "    <tr>\n",
       "      <th>2</th>\n",
       "      <td>C</td>\n",
       "      <td>1353</td>\n",
       "      <td>15921</td>\n",
       "      <td>0.085</td>\n",
       "    </tr>\n",
       "    <tr>\n",
       "      <th>4</th>\n",
       "      <td>E</td>\n",
       "      <td>2</td>\n",
       "      <td>22</td>\n",
       "      <td>0.091</td>\n",
       "    </tr>\n",
       "  </tbody>\n",
       "</table>\n",
       "</div>"
      ],
      "text/plain": [
       "  total_income_category  overdue_loans  total_loans  share_of_overdue_loans\n",
       "3                     D             21          349                   0.060\n",
       "1                     B            354         5014                   0.071\n",
       "0                     A              2           25                   0.080\n",
       "2                     C           1353        15921                   0.085\n",
       "4                     E              2           22                   0.091"
      ]
     },
     "execution_count": 24,
     "metadata": {},
     "output_type": "execute_result"
    }
   ],
   "source": [
    "check_dependency(data, 'total_income_category', 'total_income_category' )"
   ]
  },
  {
   "cell_type": "markdown",
   "id": "6dd14b57",
   "metadata": {
    "deletable": false,
    "id": "6dd14b57"
   },
   "source": [
    "**Вывод:** \n",
    "- 0–30000 — `'E'`;\n",
    "- 30001–50000 — `'D'`;\n",
    "- 50001–200000 — `'C'`;\n",
    "- 200001–1000000 — `'B'`;\n",
    "- 1000001 и выше — `'A'`.\n",
    "\n",
    "Вероятно клиенты с низким доходом, чаще задерживают выплаты по кредитам, но нужно учесть, что данных по группе E, а так же D и A недостаточно, для достоверного анализа. Клиенты из группы B чаще вовзращают кредит в срок, чем клиенты группы С \n"
   ]
  },
  {
   "cell_type": "markdown",
   "id": "1dcc9b12",
   "metadata": {
    "deletable": false,
    "editable": false,
    "id": "1dcc9b12"
   },
   "source": [
    "#### 3.4 Как разные цели кредита влияют на его возврат в срок?"
   ]
  },
  {
   "cell_type": "code",
   "execution_count": 25,
   "id": "c602bc8b",
   "metadata": {
    "deletable": false,
    "id": "c602bc8b"
   },
   "outputs": [
    {
     "data": {
      "text/html": [
       "<div>\n",
       "<style scoped>\n",
       "    .dataframe tbody tr th:only-of-type {\n",
       "        vertical-align: middle;\n",
       "    }\n",
       "\n",
       "    .dataframe tbody tr th {\n",
       "        vertical-align: top;\n",
       "    }\n",
       "\n",
       "    .dataframe thead th {\n",
       "        text-align: right;\n",
       "    }\n",
       "</style>\n",
       "<table border=\"1\" class=\"dataframe\">\n",
       "  <thead>\n",
       "    <tr style=\"text-align: right;\">\n",
       "      <th></th>\n",
       "      <th>purpose_category</th>\n",
       "      <th>overdue_loans</th>\n",
       "      <th>total_loans</th>\n",
       "      <th>share_of_overdue_loans</th>\n",
       "    </tr>\n",
       "  </thead>\n",
       "  <tbody>\n",
       "    <tr>\n",
       "      <th>1</th>\n",
       "      <td>операции с недвижимостью</td>\n",
       "      <td>780</td>\n",
       "      <td>10751</td>\n",
       "      <td>0.073</td>\n",
       "    </tr>\n",
       "    <tr>\n",
       "      <th>3</th>\n",
       "      <td>проведение свадьбы</td>\n",
       "      <td>183</td>\n",
       "      <td>2313</td>\n",
       "      <td>0.079</td>\n",
       "    </tr>\n",
       "    <tr>\n",
       "      <th>0</th>\n",
       "      <td>операции с автомобилем</td>\n",
       "      <td>400</td>\n",
       "      <td>4279</td>\n",
       "      <td>0.093</td>\n",
       "    </tr>\n",
       "    <tr>\n",
       "      <th>2</th>\n",
       "      <td>получение образования</td>\n",
       "      <td>369</td>\n",
       "      <td>3988</td>\n",
       "      <td>0.093</td>\n",
       "    </tr>\n",
       "  </tbody>\n",
       "</table>\n",
       "</div>"
      ],
      "text/plain": [
       "           purpose_category  overdue_loans  total_loans  \\\n",
       "1  операции с недвижимостью            780        10751   \n",
       "3        проведение свадьбы            183         2313   \n",
       "0    операции с автомобилем            400         4279   \n",
       "2     получение образования            369         3988   \n",
       "\n",
       "   share_of_overdue_loans  \n",
       "1                   0.073  \n",
       "3                   0.079  \n",
       "0                   0.093  \n",
       "2                   0.093  "
      ]
     },
     "execution_count": 25,
     "metadata": {},
     "output_type": "execute_result"
    }
   ],
   "source": [
    "check_dependency(data, 'purpose_category', 'purpose_category' )"
   ]
  },
  {
   "cell_type": "markdown",
   "id": "cf05ed63",
   "metadata": {
    "deletable": false,
    "id": "cf05ed63"
   },
   "source": [
    "**Вывод:** Клиенты которые берут кредит на операции с недвижимостью и с большой вероятностью чем остальные группы вернут кредит в срок. Клиенты с кредитами для операци с автомобилем и получение образования более чем в 9% случаев не возвращают кредит в срок\n"
   ]
  },
  {
   "cell_type": "markdown",
   "id": "46c1f10b",
   "metadata": {
    "deletable": false,
    "editable": false,
    "id": "46c1f10b"
   },
   "source": [
    "#### 3.5 Приведите возможные причины появления пропусков в исходных данных."
   ]
  },
  {
   "cell_type": "markdown",
   "id": "3697d2a9",
   "metadata": {
    "deletable": false,
    "id": "3697d2a9"
   },
   "source": [
    "*Ответ:* Причины: неправильный вводб, сокрытие информации, техниченские ошибки, объединение данных"
   ]
  },
  {
   "cell_type": "markdown",
   "id": "3137d257",
   "metadata": {
    "deletable": false,
    "editable": false,
    "id": "3137d257"
   },
   "source": [
    "#### 3.6 Объясните, почему заполнить пропуски медианным значением — лучшее решение для количественных переменных."
   ]
  },
  {
   "cell_type": "markdown",
   "id": "cf40012a",
   "metadata": {
    "deletable": false,
    "id": "cf40012a"
   },
   "source": [
    "*Ответ:* Медиана лучше, чем среднее, характеризует данные, когда некоторые значения сильно выделяются среди большинства"
   ]
  },
  {
   "cell_type": "markdown",
   "id": "57bc304e",
   "metadata": {
    "deletable": false,
    "editable": false,
    "id": "57bc304e"
   },
   "source": [
    "### Шаг 4: общий вывод."
   ]
  },
  {
   "cell_type": "markdown",
   "id": "1ab75d1c",
   "metadata": {
    "deletable": false,
    "id": "1ab75d1c"
   },
   "source": [
    "Напишите ваш общий вывод. Перед анализом была проведенна проверка изначальнных данных, убраны отрицательные и пустые значения, которые искажали результат. Для оптимального представления данные были сгрупированны по категория. Особое внимание стоит обратить на клиентов в гражданском браке  и без опыта брака с 1,2 и 4 детьми."
   ]
  }
 ],
 "metadata": {
  "ExecuteTimeLog": [
   {
    "duration": 57,
    "start_time": "2024-05-05T09:34:39.357Z"
   },
   {
    "duration": 727,
    "start_time": "2024-05-05T09:34:46.757Z"
   },
   {
    "duration": 22,
    "start_time": "2024-05-05T09:34:47.486Z"
   },
   {
    "duration": 15,
    "start_time": "2024-05-05T09:34:47.509Z"
   },
   {
    "duration": 10,
    "start_time": "2024-05-05T09:34:47.525Z"
   },
   {
    "duration": 52,
    "start_time": "2024-05-05T09:34:47.537Z"
   },
   {
    "duration": 4,
    "start_time": "2024-05-05T09:34:47.590Z"
   },
   {
    "duration": 39,
    "start_time": "2024-05-05T09:34:47.595Z"
   },
   {
    "duration": 5,
    "start_time": "2024-05-05T09:34:47.636Z"
   },
   {
    "duration": 14,
    "start_time": "2024-05-05T09:34:47.642Z"
   },
   {
    "duration": 4,
    "start_time": "2024-05-05T09:34:47.658Z"
   },
   {
    "duration": 42,
    "start_time": "2024-05-05T09:34:47.664Z"
   },
   {
    "duration": 10,
    "start_time": "2024-05-05T09:34:47.708Z"
   },
   {
    "duration": 4,
    "start_time": "2024-05-05T09:34:47.720Z"
   },
   {
    "duration": 17,
    "start_time": "2024-05-05T09:34:47.727Z"
   },
   {
    "duration": 42,
    "start_time": "2024-05-05T09:34:47.745Z"
   },
   {
    "duration": 17,
    "start_time": "2024-05-05T09:34:47.789Z"
   },
   {
    "duration": 4,
    "start_time": "2024-05-05T09:34:47.808Z"
   },
   {
    "duration": 12,
    "start_time": "2024-05-05T09:34:47.813Z"
   },
   {
    "duration": 33,
    "start_time": "2024-05-05T09:34:47.826Z"
   },
   {
    "duration": 4,
    "start_time": "2024-05-05T09:34:47.860Z"
   },
   {
    "duration": 30,
    "start_time": "2024-05-05T09:34:47.865Z"
   },
   {
    "duration": 6,
    "start_time": "2024-05-05T09:34:47.896Z"
   },
   {
    "duration": 19,
    "start_time": "2024-05-05T09:34:47.904Z"
   },
   {
    "duration": 15,
    "start_time": "2024-05-05T09:34:47.924Z"
   },
   {
    "duration": 7,
    "start_time": "2024-05-05T09:34:47.940Z"
   },
   {
    "duration": 20,
    "start_time": "2024-05-05T09:35:08.553Z"
   },
   {
    "duration": 65,
    "start_time": "2024-05-05T11:01:24.883Z"
   },
   {
    "duration": 65,
    "start_time": "2024-05-05T11:01:35.363Z"
   },
   {
    "duration": 76,
    "start_time": "2024-05-05T11:47:48.397Z"
   },
   {
    "duration": 498,
    "start_time": "2024-05-05T12:01:36.071Z"
   },
   {
    "duration": 24,
    "start_time": "2024-05-05T12:01:36.571Z"
   },
   {
    "duration": 17,
    "start_time": "2024-05-05T12:01:36.597Z"
   },
   {
    "duration": 16,
    "start_time": "2024-05-05T12:01:36.616Z"
   },
   {
    "duration": 50,
    "start_time": "2024-05-05T12:01:36.633Z"
   },
   {
    "duration": 4,
    "start_time": "2024-05-05T12:01:36.685Z"
   },
   {
    "duration": 16,
    "start_time": "2024-05-05T12:01:36.691Z"
   },
   {
    "duration": 4,
    "start_time": "2024-05-05T12:01:36.709Z"
   },
   {
    "duration": 16,
    "start_time": "2024-05-05T12:01:36.715Z"
   },
   {
    "duration": 7,
    "start_time": "2024-05-05T12:01:36.734Z"
   },
   {
    "duration": 75,
    "start_time": "2024-05-05T12:01:36.743Z"
   },
   {
    "duration": 12,
    "start_time": "2024-05-05T12:01:36.819Z"
   },
   {
    "duration": 23,
    "start_time": "2024-05-05T12:01:36.833Z"
   },
   {
    "duration": 26,
    "start_time": "2024-05-05T12:01:36.857Z"
   },
   {
    "duration": 27,
    "start_time": "2024-05-05T12:01:36.885Z"
   },
   {
    "duration": 18,
    "start_time": "2024-05-05T12:01:36.914Z"
   },
   {
    "duration": 5,
    "start_time": "2024-05-05T12:01:36.933Z"
   },
   {
    "duration": 41,
    "start_time": "2024-05-05T12:01:36.940Z"
   },
   {
    "duration": 8,
    "start_time": "2024-05-05T12:01:36.983Z"
   },
   {
    "duration": 4,
    "start_time": "2024-05-05T12:01:36.994Z"
   },
   {
    "duration": 14,
    "start_time": "2024-05-05T12:01:36.999Z"
   },
   {
    "duration": 6,
    "start_time": "2024-05-05T12:01:37.015Z"
   },
   {
    "duration": 41,
    "start_time": "2024-05-05T12:01:37.023Z"
   },
   {
    "duration": 100,
    "start_time": "2024-05-05T12:01:37.066Z"
   },
   {
    "duration": 0,
    "start_time": "2024-05-05T12:01:37.168Z"
   },
   {
    "duration": 7,
    "start_time": "2024-05-05T12:01:46.667Z"
   },
   {
    "duration": 5,
    "start_time": "2024-05-05T12:03:07.675Z"
   },
   {
    "duration": 4,
    "start_time": "2024-05-05T12:03:21.570Z"
   },
   {
    "duration": 514,
    "start_time": "2024-05-05T12:03:26.945Z"
   },
   {
    "duration": 23,
    "start_time": "2024-05-05T12:03:27.461Z"
   },
   {
    "duration": 17,
    "start_time": "2024-05-05T12:03:27.485Z"
   },
   {
    "duration": 11,
    "start_time": "2024-05-05T12:03:27.504Z"
   },
   {
    "duration": 61,
    "start_time": "2024-05-05T12:03:27.516Z"
   },
   {
    "duration": 4,
    "start_time": "2024-05-05T12:03:27.578Z"
   },
   {
    "duration": 10,
    "start_time": "2024-05-05T12:03:27.583Z"
   },
   {
    "duration": 5,
    "start_time": "2024-05-05T12:03:27.595Z"
   },
   {
    "duration": 10,
    "start_time": "2024-05-05T12:03:27.602Z"
   },
   {
    "duration": 6,
    "start_time": "2024-05-05T12:03:27.616Z"
   },
   {
    "duration": 77,
    "start_time": "2024-05-05T12:03:27.624Z"
   },
   {
    "duration": 13,
    "start_time": "2024-05-05T12:03:27.702Z"
   },
   {
    "duration": 5,
    "start_time": "2024-05-05T12:03:27.716Z"
   },
   {
    "duration": 32,
    "start_time": "2024-05-05T12:03:27.722Z"
   },
   {
    "duration": 46,
    "start_time": "2024-05-05T12:03:27.756Z"
   },
   {
    "duration": 26,
    "start_time": "2024-05-05T12:03:27.805Z"
   },
   {
    "duration": 5,
    "start_time": "2024-05-05T12:03:27.834Z"
   },
   {
    "duration": 32,
    "start_time": "2024-05-05T12:03:27.841Z"
   },
   {
    "duration": 6,
    "start_time": "2024-05-05T12:03:27.875Z"
   },
   {
    "duration": 3,
    "start_time": "2024-05-05T12:03:27.883Z"
   },
   {
    "duration": 9,
    "start_time": "2024-05-05T12:03:27.893Z"
   },
   {
    "duration": 11,
    "start_time": "2024-05-05T12:03:27.903Z"
   },
   {
    "duration": 63,
    "start_time": "2024-05-05T12:03:27.916Z"
   },
   {
    "duration": 18,
    "start_time": "2024-05-05T12:03:27.981Z"
   },
   {
    "duration": 6,
    "start_time": "2024-05-05T12:03:28.001Z"
   },
   {
    "duration": 37,
    "start_time": "2024-05-05T12:05:23.487Z"
   },
   {
    "duration": 4,
    "start_time": "2024-05-05T12:06:32.307Z"
   },
   {
    "duration": 4,
    "start_time": "2024-05-05T12:06:49.655Z"
   },
   {
    "duration": 68,
    "start_time": "2024-05-05T12:12:11.564Z"
   },
   {
    "duration": 5,
    "start_time": "2024-05-05T12:12:30.658Z"
   },
   {
    "duration": 6,
    "start_time": "2024-05-05T12:12:43.138Z"
   },
   {
    "duration": 7,
    "start_time": "2024-05-05T12:13:03.054Z"
   },
   {
    "duration": 12,
    "start_time": "2024-05-05T12:17:14.930Z"
   },
   {
    "duration": 6,
    "start_time": "2024-05-05T12:23:35.362Z"
   },
   {
    "duration": 10,
    "start_time": "2024-05-05T12:35:08.554Z"
   },
   {
    "duration": 6,
    "start_time": "2024-05-05T12:35:41.667Z"
   },
   {
    "duration": 12,
    "start_time": "2024-05-05T12:43:38.059Z"
   },
   {
    "duration": 8,
    "start_time": "2024-05-05T12:45:49.355Z"
   },
   {
    "duration": 21,
    "start_time": "2024-05-05T12:46:26.809Z"
   },
   {
    "duration": 553,
    "start_time": "2024-05-05T12:46:43.238Z"
   },
   {
    "duration": 34,
    "start_time": "2024-05-05T12:46:43.793Z"
   },
   {
    "duration": 24,
    "start_time": "2024-05-05T12:46:43.829Z"
   },
   {
    "duration": 32,
    "start_time": "2024-05-05T12:46:43.856Z"
   },
   {
    "duration": 54,
    "start_time": "2024-05-05T12:46:43.891Z"
   },
   {
    "duration": 4,
    "start_time": "2024-05-05T12:46:43.947Z"
   },
   {
    "duration": 35,
    "start_time": "2024-05-05T12:46:43.953Z"
   },
   {
    "duration": 9,
    "start_time": "2024-05-05T12:46:43.990Z"
   },
   {
    "duration": 33,
    "start_time": "2024-05-05T12:46:44.000Z"
   },
   {
    "duration": 17,
    "start_time": "2024-05-05T12:46:44.035Z"
   },
   {
    "duration": 59,
    "start_time": "2024-05-05T12:46:44.054Z"
   },
   {
    "duration": 12,
    "start_time": "2024-05-05T12:46:44.115Z"
   },
   {
    "duration": 21,
    "start_time": "2024-05-05T12:46:44.129Z"
   },
   {
    "duration": 41,
    "start_time": "2024-05-05T12:46:44.153Z"
   },
   {
    "duration": 52,
    "start_time": "2024-05-05T12:46:44.195Z"
   },
   {
    "duration": 17,
    "start_time": "2024-05-05T12:46:44.249Z"
   },
   {
    "duration": 29,
    "start_time": "2024-05-05T12:46:44.268Z"
   },
   {
    "duration": 51,
    "start_time": "2024-05-05T12:46:44.299Z"
   },
   {
    "duration": 15,
    "start_time": "2024-05-05T12:46:44.351Z"
   },
   {
    "duration": 25,
    "start_time": "2024-05-05T12:46:44.368Z"
   },
   {
    "duration": 53,
    "start_time": "2024-05-05T12:46:44.394Z"
   },
   {
    "duration": 45,
    "start_time": "2024-05-05T12:46:44.449Z"
   },
   {
    "duration": 19,
    "start_time": "2024-05-05T12:46:44.495Z"
   },
   {
    "duration": 66,
    "start_time": "2024-05-05T12:46:44.516Z"
   },
   {
    "duration": 3,
    "start_time": "2024-05-05T12:46:44.584Z"
   },
   {
    "duration": 14,
    "start_time": "2024-05-05T12:49:29.394Z"
   },
   {
    "duration": 15,
    "start_time": "2024-05-05T12:49:47.790Z"
   },
   {
    "duration": 16,
    "start_time": "2024-05-05T12:49:57.170Z"
   },
   {
    "duration": 528,
    "start_time": "2024-05-05T12:50:34.466Z"
   },
   {
    "duration": 25,
    "start_time": "2024-05-05T12:50:34.997Z"
   },
   {
    "duration": 29,
    "start_time": "2024-05-05T12:50:35.024Z"
   },
   {
    "duration": 39,
    "start_time": "2024-05-05T12:50:35.055Z"
   },
   {
    "duration": 55,
    "start_time": "2024-05-05T12:50:35.098Z"
   },
   {
    "duration": 3,
    "start_time": "2024-05-05T12:50:35.155Z"
   },
   {
    "duration": 20,
    "start_time": "2024-05-05T12:50:35.160Z"
   },
   {
    "duration": 12,
    "start_time": "2024-05-05T12:50:35.181Z"
   },
   {
    "duration": 12,
    "start_time": "2024-05-05T12:50:35.195Z"
   },
   {
    "duration": 15,
    "start_time": "2024-05-05T12:50:35.209Z"
   },
   {
    "duration": 50,
    "start_time": "2024-05-05T12:50:35.226Z"
   },
   {
    "duration": 11,
    "start_time": "2024-05-05T12:50:35.279Z"
   },
   {
    "duration": 8,
    "start_time": "2024-05-05T12:50:35.292Z"
   },
   {
    "duration": 26,
    "start_time": "2024-05-05T12:50:35.302Z"
   },
   {
    "duration": 44,
    "start_time": "2024-05-05T12:50:35.329Z"
   },
   {
    "duration": 18,
    "start_time": "2024-05-05T12:50:35.375Z"
   },
   {
    "duration": 4,
    "start_time": "2024-05-05T12:50:35.394Z"
   },
   {
    "duration": 19,
    "start_time": "2024-05-05T12:50:35.399Z"
   },
   {
    "duration": 9,
    "start_time": "2024-05-05T12:50:35.419Z"
   },
   {
    "duration": 12,
    "start_time": "2024-05-05T12:50:35.430Z"
   },
   {
    "duration": 18,
    "start_time": "2024-05-05T12:50:35.443Z"
   },
   {
    "duration": 38,
    "start_time": "2024-05-05T12:50:35.463Z"
   },
   {
    "duration": 3,
    "start_time": "2024-05-05T12:50:35.503Z"
   },
   {
    "duration": 50,
    "start_time": "2024-05-05T12:50:35.508Z"
   },
   {
    "duration": 6,
    "start_time": "2024-05-05T12:50:35.560Z"
   },
   {
    "duration": 70,
    "start_time": "2024-05-05T12:56:52.335Z"
   },
   {
    "duration": 21,
    "start_time": "2024-05-05T12:57:28.688Z"
   },
   {
    "duration": 4,
    "start_time": "2024-05-05T12:58:27.247Z"
   },
   {
    "duration": 3,
    "start_time": "2024-05-05T12:58:29.478Z"
   },
   {
    "duration": 7,
    "start_time": "2024-05-05T12:58:40.331Z"
   },
   {
    "duration": 9,
    "start_time": "2024-05-05T12:58:47.305Z"
   },
   {
    "duration": 24,
    "start_time": "2024-05-05T12:59:30.763Z"
   },
   {
    "duration": 14,
    "start_time": "2024-05-05T12:59:43.844Z"
   },
   {
    "duration": 19,
    "start_time": "2024-05-05T13:00:06.908Z"
   },
   {
    "duration": 72,
    "start_time": "2024-05-05T13:01:34.399Z"
   },
   {
    "duration": 18,
    "start_time": "2024-05-05T13:02:12.377Z"
   },
   {
    "duration": 519,
    "start_time": "2024-05-05T13:04:03.871Z"
   },
   {
    "duration": 36,
    "start_time": "2024-05-05T13:04:04.392Z"
   },
   {
    "duration": 26,
    "start_time": "2024-05-05T13:04:04.430Z"
   },
   {
    "duration": 25,
    "start_time": "2024-05-05T13:04:04.458Z"
   },
   {
    "duration": 54,
    "start_time": "2024-05-05T13:04:04.485Z"
   },
   {
    "duration": 7,
    "start_time": "2024-05-05T13:04:04.540Z"
   },
   {
    "duration": 26,
    "start_time": "2024-05-05T13:04:04.548Z"
   },
   {
    "duration": 16,
    "start_time": "2024-05-05T13:04:04.576Z"
   },
   {
    "duration": 9,
    "start_time": "2024-05-05T13:04:04.594Z"
   },
   {
    "duration": 6,
    "start_time": "2024-05-05T13:04:04.605Z"
   },
   {
    "duration": 56,
    "start_time": "2024-05-05T13:04:04.613Z"
   },
   {
    "duration": 11,
    "start_time": "2024-05-05T13:04:04.671Z"
   },
   {
    "duration": 4,
    "start_time": "2024-05-05T13:04:04.683Z"
   },
   {
    "duration": 38,
    "start_time": "2024-05-05T13:04:04.689Z"
   },
   {
    "duration": 22,
    "start_time": "2024-05-05T13:04:04.729Z"
   },
   {
    "duration": 17,
    "start_time": "2024-05-05T13:04:04.753Z"
   },
   {
    "duration": 4,
    "start_time": "2024-05-05T13:04:04.772Z"
   },
   {
    "duration": 14,
    "start_time": "2024-05-05T13:04:04.777Z"
   },
   {
    "duration": 10,
    "start_time": "2024-05-05T13:04:04.792Z"
   },
   {
    "duration": 19,
    "start_time": "2024-05-05T13:04:04.804Z"
   },
   {
    "duration": 13,
    "start_time": "2024-05-05T13:04:04.824Z"
   },
   {
    "duration": 26,
    "start_time": "2024-05-05T13:04:04.838Z"
   },
   {
    "duration": 11,
    "start_time": "2024-05-05T13:04:04.865Z"
   },
   {
    "duration": 27,
    "start_time": "2024-05-05T13:04:04.877Z"
   },
   {
    "duration": 17,
    "start_time": "2024-05-05T13:04:04.905Z"
   },
   {
    "duration": 65,
    "start_time": "2024-05-05T13:22:47.104Z"
   },
   {
    "duration": 88,
    "start_time": "2024-05-05T13:22:53.539Z"
   },
   {
    "duration": 18,
    "start_time": "2024-05-05T13:23:25.746Z"
   },
   {
    "duration": 25,
    "start_time": "2024-05-05T13:23:28.799Z"
   },
   {
    "duration": 35,
    "start_time": "2024-05-05T13:23:38.091Z"
   },
   {
    "duration": 733,
    "start_time": "2024-05-06T10:14:03.975Z"
   },
   {
    "duration": 31,
    "start_time": "2024-05-06T10:14:04.710Z"
   },
   {
    "duration": 46,
    "start_time": "2024-05-06T10:14:04.744Z"
   },
   {
    "duration": 14,
    "start_time": "2024-05-06T10:14:04.792Z"
   },
   {
    "duration": 50,
    "start_time": "2024-05-06T10:14:04.808Z"
   },
   {
    "duration": 4,
    "start_time": "2024-05-06T10:14:04.860Z"
   },
   {
    "duration": 35,
    "start_time": "2024-05-06T10:14:04.866Z"
   },
   {
    "duration": 14,
    "start_time": "2024-05-06T10:14:04.904Z"
   },
   {
    "duration": 11,
    "start_time": "2024-05-06T10:14:04.920Z"
   },
   {
    "duration": 5,
    "start_time": "2024-05-06T10:14:04.935Z"
   },
   {
    "duration": 58,
    "start_time": "2024-05-06T10:14:04.942Z"
   },
   {
    "duration": 13,
    "start_time": "2024-05-06T10:14:05.002Z"
   },
   {
    "duration": 20,
    "start_time": "2024-05-06T10:14:05.017Z"
   },
   {
    "duration": 55,
    "start_time": "2024-05-06T10:14:05.039Z"
   },
   {
    "duration": 49,
    "start_time": "2024-05-06T10:14:05.096Z"
   },
   {
    "duration": 26,
    "start_time": "2024-05-06T10:14:05.146Z"
   },
   {
    "duration": 18,
    "start_time": "2024-05-06T10:14:05.174Z"
   },
   {
    "duration": 21,
    "start_time": "2024-05-06T10:14:05.194Z"
   },
   {
    "duration": 40,
    "start_time": "2024-05-06T10:14:05.217Z"
   },
   {
    "duration": 13,
    "start_time": "2024-05-06T10:14:05.258Z"
   },
   {
    "duration": 23,
    "start_time": "2024-05-06T10:14:05.273Z"
   },
   {
    "duration": 27,
    "start_time": "2024-05-06T10:14:05.298Z"
   },
   {
    "duration": 2,
    "start_time": "2024-05-06T10:14:05.327Z"
   },
   {
    "duration": 33,
    "start_time": "2024-05-06T10:14:05.331Z"
   },
   {
    "duration": 8,
    "start_time": "2024-05-06T10:14:05.366Z"
   },
   {
    "duration": 476,
    "start_time": "2024-05-06T10:20:13.040Z"
   },
   {
    "duration": 24,
    "start_time": "2024-05-06T10:20:13.518Z"
   },
   {
    "duration": 19,
    "start_time": "2024-05-06T10:20:13.544Z"
   },
   {
    "duration": 27,
    "start_time": "2024-05-06T10:20:13.565Z"
   },
   {
    "duration": 40,
    "start_time": "2024-05-06T10:20:13.595Z"
   },
   {
    "duration": 3,
    "start_time": "2024-05-06T10:20:13.637Z"
   },
   {
    "duration": 11,
    "start_time": "2024-05-06T10:20:13.642Z"
   },
   {
    "duration": 5,
    "start_time": "2024-05-06T10:20:13.655Z"
   },
   {
    "duration": 34,
    "start_time": "2024-05-06T10:20:13.661Z"
   },
   {
    "duration": 5,
    "start_time": "2024-05-06T10:20:13.697Z"
   },
   {
    "duration": 40,
    "start_time": "2024-05-06T10:20:13.703Z"
   },
   {
    "duration": 11,
    "start_time": "2024-05-06T10:20:13.745Z"
   },
   {
    "duration": 11,
    "start_time": "2024-05-06T10:20:13.758Z"
   },
   {
    "duration": 13,
    "start_time": "2024-05-06T10:20:13.791Z"
   },
   {
    "duration": 24,
    "start_time": "2024-05-06T10:20:13.806Z"
   },
   {
    "duration": 19,
    "start_time": "2024-05-06T10:20:13.831Z"
   },
   {
    "duration": 4,
    "start_time": "2024-05-06T10:20:13.851Z"
   },
   {
    "duration": 38,
    "start_time": "2024-05-06T10:20:13.857Z"
   },
   {
    "duration": 10,
    "start_time": "2024-05-06T10:20:13.897Z"
   },
   {
    "duration": 6,
    "start_time": "2024-05-06T10:20:13.909Z"
   },
   {
    "duration": 13,
    "start_time": "2024-05-06T10:20:13.916Z"
   },
   {
    "duration": 108,
    "start_time": "2024-05-06T10:20:13.931Z"
   },
   {
    "duration": 0,
    "start_time": "2024-05-06T10:20:14.041Z"
   },
   {
    "duration": 0,
    "start_time": "2024-05-06T10:20:14.043Z"
   },
   {
    "duration": 0,
    "start_time": "2024-05-06T10:20:14.045Z"
   },
   {
    "duration": 487,
    "start_time": "2024-05-06T10:20:54.220Z"
   },
   {
    "duration": 24,
    "start_time": "2024-05-06T10:20:54.709Z"
   },
   {
    "duration": 17,
    "start_time": "2024-05-06T10:20:54.735Z"
   },
   {
    "duration": 30,
    "start_time": "2024-05-06T10:20:54.754Z"
   },
   {
    "duration": 52,
    "start_time": "2024-05-06T10:20:54.786Z"
   },
   {
    "duration": 3,
    "start_time": "2024-05-06T10:20:54.840Z"
   },
   {
    "duration": 21,
    "start_time": "2024-05-06T10:20:54.845Z"
   },
   {
    "duration": 7,
    "start_time": "2024-05-06T10:20:54.868Z"
   },
   {
    "duration": 21,
    "start_time": "2024-05-06T10:20:54.877Z"
   },
   {
    "duration": 17,
    "start_time": "2024-05-06T10:20:54.899Z"
   },
   {
    "duration": 59,
    "start_time": "2024-05-06T10:20:54.918Z"
   },
   {
    "duration": 12,
    "start_time": "2024-05-06T10:20:54.979Z"
   },
   {
    "duration": 8,
    "start_time": "2024-05-06T10:20:54.993Z"
   },
   {
    "duration": 15,
    "start_time": "2024-05-06T10:20:55.004Z"
   },
   {
    "duration": 37,
    "start_time": "2024-05-06T10:20:55.021Z"
   },
   {
    "duration": 35,
    "start_time": "2024-05-06T10:20:55.060Z"
   },
   {
    "duration": 4,
    "start_time": "2024-05-06T10:20:55.098Z"
   },
   {
    "duration": 36,
    "start_time": "2024-05-06T10:20:55.105Z"
   },
   {
    "duration": 11,
    "start_time": "2024-05-06T10:20:55.143Z"
   },
   {
    "duration": 10,
    "start_time": "2024-05-06T10:20:55.156Z"
   },
   {
    "duration": 19,
    "start_time": "2024-05-06T10:20:55.168Z"
   },
   {
    "duration": 47,
    "start_time": "2024-05-06T10:20:55.188Z"
   },
   {
    "duration": 2,
    "start_time": "2024-05-06T10:20:55.237Z"
   },
   {
    "duration": 49,
    "start_time": "2024-05-06T10:20:55.241Z"
   },
   {
    "duration": 32,
    "start_time": "2024-05-06T10:20:55.292Z"
   },
   {
    "duration": 6,
    "start_time": "2024-05-06T10:30:46.783Z"
   },
   {
    "duration": 6,
    "start_time": "2024-05-06T10:31:34.193Z"
   },
   {
    "duration": 72,
    "start_time": "2024-05-06T10:32:10.094Z"
   },
   {
    "duration": 12,
    "start_time": "2024-05-06T10:33:25.516Z"
   },
   {
    "duration": 10,
    "start_time": "2024-05-06T10:45:22.592Z"
   },
   {
    "duration": 10,
    "start_time": "2024-05-06T10:46:29.435Z"
   },
   {
    "duration": 1150,
    "start_time": "2024-05-06T10:47:47.026Z"
   },
   {
    "duration": 66,
    "start_time": "2024-05-06T10:48:02.121Z"
   },
   {
    "duration": 69,
    "start_time": "2024-05-06T10:48:16.548Z"
   },
   {
    "duration": 4,
    "start_time": "2024-05-06T10:49:08.201Z"
   },
   {
    "duration": 8,
    "start_time": "2024-05-06T10:49:11.940Z"
   },
   {
    "duration": 8,
    "start_time": "2024-05-06T10:49:22.741Z"
   },
   {
    "duration": 25,
    "start_time": "2024-05-06T10:51:21.177Z"
   },
   {
    "duration": 7,
    "start_time": "2024-05-06T10:52:28.663Z"
   },
   {
    "duration": 29,
    "start_time": "2024-05-06T10:52:59.124Z"
   },
   {
    "duration": 119,
    "start_time": "2024-05-06T10:53:42.822Z"
   },
   {
    "duration": 9,
    "start_time": "2024-05-06T10:53:51.496Z"
   },
   {
    "duration": 8,
    "start_time": "2024-05-06T11:01:42.686Z"
   },
   {
    "duration": 6,
    "start_time": "2024-05-06T11:01:55.675Z"
   },
   {
    "duration": 8,
    "start_time": "2024-05-06T11:02:15.997Z"
   },
   {
    "duration": 511,
    "start_time": "2024-05-06T11:16:31.997Z"
   },
   {
    "duration": 33,
    "start_time": "2024-05-06T11:16:32.510Z"
   },
   {
    "duration": 394,
    "start_time": "2024-05-06T11:16:32.544Z"
   },
   {
    "duration": 180,
    "start_time": "2024-05-06T11:16:32.941Z"
   },
   {
    "duration": 159,
    "start_time": "2024-05-06T11:16:33.123Z"
   },
   {
    "duration": 14,
    "start_time": "2024-05-06T11:16:33.284Z"
   },
   {
    "duration": 18,
    "start_time": "2024-05-06T11:16:33.300Z"
   },
   {
    "duration": 22,
    "start_time": "2024-05-06T11:16:33.320Z"
   },
   {
    "duration": 18,
    "start_time": "2024-05-06T11:16:33.344Z"
   },
   {
    "duration": 6,
    "start_time": "2024-05-06T11:16:33.364Z"
   },
   {
    "duration": 39,
    "start_time": "2024-05-06T11:16:33.372Z"
   },
   {
    "duration": 11,
    "start_time": "2024-05-06T11:16:33.413Z"
   },
   {
    "duration": 15,
    "start_time": "2024-05-06T11:16:33.425Z"
   },
   {
    "duration": 44,
    "start_time": "2024-05-06T11:16:33.441Z"
   },
   {
    "duration": 45,
    "start_time": "2024-05-06T11:16:33.487Z"
   },
   {
    "duration": 25,
    "start_time": "2024-05-06T11:16:33.533Z"
   },
   {
    "duration": 4,
    "start_time": "2024-05-06T11:16:33.559Z"
   },
   {
    "duration": 18,
    "start_time": "2024-05-06T11:16:33.564Z"
   },
   {
    "duration": 6,
    "start_time": "2024-05-06T11:16:33.583Z"
   },
   {
    "duration": 25,
    "start_time": "2024-05-06T11:16:33.591Z"
   },
   {
    "duration": 21,
    "start_time": "2024-05-06T11:16:33.618Z"
   },
   {
    "duration": 97,
    "start_time": "2024-05-06T11:16:33.640Z"
   },
   {
    "duration": 0,
    "start_time": "2024-05-06T11:16:33.739Z"
   },
   {
    "duration": 0,
    "start_time": "2024-05-06T11:16:33.740Z"
   },
   {
    "duration": 498,
    "start_time": "2024-05-06T11:17:49.715Z"
   },
   {
    "duration": 24,
    "start_time": "2024-05-06T11:17:50.215Z"
   },
   {
    "duration": 23,
    "start_time": "2024-05-06T11:17:50.241Z"
   },
   {
    "duration": 21,
    "start_time": "2024-05-06T11:17:50.265Z"
   },
   {
    "duration": 48,
    "start_time": "2024-05-06T11:17:50.288Z"
   },
   {
    "duration": 3,
    "start_time": "2024-05-06T11:17:50.338Z"
   },
   {
    "duration": 38,
    "start_time": "2024-05-06T11:17:50.343Z"
   },
   {
    "duration": 16,
    "start_time": "2024-05-06T11:17:50.383Z"
   },
   {
    "duration": 25,
    "start_time": "2024-05-06T11:17:50.401Z"
   },
   {
    "duration": 11,
    "start_time": "2024-05-06T11:17:50.427Z"
   },
   {
    "duration": 60,
    "start_time": "2024-05-06T11:17:50.439Z"
   },
   {
    "duration": 11,
    "start_time": "2024-05-06T11:17:50.500Z"
   },
   {
    "duration": 4,
    "start_time": "2024-05-06T11:17:50.513Z"
   },
   {
    "duration": 46,
    "start_time": "2024-05-06T11:17:50.519Z"
   },
   {
    "duration": 69,
    "start_time": "2024-05-06T11:17:50.567Z"
   },
   {
    "duration": 44,
    "start_time": "2024-05-06T11:17:50.638Z"
   },
   {
    "duration": 11,
    "start_time": "2024-05-06T11:17:50.684Z"
   },
   {
    "duration": 36,
    "start_time": "2024-05-06T11:17:50.696Z"
   },
   {
    "duration": 22,
    "start_time": "2024-05-06T11:17:50.734Z"
   },
   {
    "duration": 15,
    "start_time": "2024-05-06T11:17:50.757Z"
   },
   {
    "duration": 20,
    "start_time": "2024-05-06T11:17:50.773Z"
   },
   {
    "duration": 62,
    "start_time": "2024-05-06T11:17:50.794Z"
   },
   {
    "duration": 7,
    "start_time": "2024-05-06T11:17:50.857Z"
   },
   {
    "duration": 47,
    "start_time": "2024-05-06T11:17:50.866Z"
   },
   {
    "duration": 25,
    "start_time": "2024-05-06T11:18:49.584Z"
   },
   {
    "duration": 24,
    "start_time": "2024-05-06T11:21:14.271Z"
   },
   {
    "duration": 25,
    "start_time": "2024-05-06T11:39:14.962Z"
   },
   {
    "duration": 8,
    "start_time": "2024-05-06T11:40:47.125Z"
   },
   {
    "duration": 3,
    "start_time": "2024-05-06T11:41:30.179Z"
   },
   {
    "duration": 72,
    "start_time": "2024-05-06T11:41:57.554Z"
   },
   {
    "duration": 4,
    "start_time": "2024-05-06T11:42:44.384Z"
   },
   {
    "duration": 71,
    "start_time": "2024-05-06T11:43:00.838Z"
   },
   {
    "duration": 4,
    "start_time": "2024-05-06T11:43:15.974Z"
   },
   {
    "duration": 4,
    "start_time": "2024-05-06T11:43:53.395Z"
   },
   {
    "duration": 81,
    "start_time": "2024-05-06T11:44:11.904Z"
   },
   {
    "duration": 80,
    "start_time": "2024-05-06T11:44:35.631Z"
   },
   {
    "duration": 23,
    "start_time": "2024-05-06T11:44:47.791Z"
   },
   {
    "duration": 25,
    "start_time": "2024-05-06T11:44:59.930Z"
   },
   {
    "duration": 27,
    "start_time": "2024-05-06T11:50:17.234Z"
   },
   {
    "duration": 528,
    "start_time": "2024-05-06T12:05:51.288Z"
   },
   {
    "duration": 34,
    "start_time": "2024-05-06T12:05:51.818Z"
   },
   {
    "duration": 18,
    "start_time": "2024-05-06T12:05:51.854Z"
   },
   {
    "duration": 41,
    "start_time": "2024-05-06T12:05:51.874Z"
   },
   {
    "duration": 43,
    "start_time": "2024-05-06T12:05:51.917Z"
   },
   {
    "duration": 4,
    "start_time": "2024-05-06T12:05:51.962Z"
   },
   {
    "duration": 30,
    "start_time": "2024-05-06T12:05:51.967Z"
   },
   {
    "duration": 17,
    "start_time": "2024-05-06T12:05:51.999Z"
   },
   {
    "duration": 8,
    "start_time": "2024-05-06T12:05:52.017Z"
   },
   {
    "duration": 12,
    "start_time": "2024-05-06T12:05:52.028Z"
   },
   {
    "duration": 64,
    "start_time": "2024-05-06T12:05:52.041Z"
   },
   {
    "duration": 16,
    "start_time": "2024-05-06T12:05:52.107Z"
   },
   {
    "duration": 7,
    "start_time": "2024-05-06T12:05:52.125Z"
   },
   {
    "duration": 62,
    "start_time": "2024-05-06T12:05:52.133Z"
   },
   {
    "duration": 47,
    "start_time": "2024-05-06T12:05:52.197Z"
   },
   {
    "duration": 18,
    "start_time": "2024-05-06T12:05:52.247Z"
   },
   {
    "duration": 10,
    "start_time": "2024-05-06T12:05:52.267Z"
   },
   {
    "duration": 62,
    "start_time": "2024-05-06T12:05:52.278Z"
   },
   {
    "duration": 24,
    "start_time": "2024-05-06T12:05:52.342Z"
   },
   {
    "duration": 31,
    "start_time": "2024-05-06T12:05:52.367Z"
   },
   {
    "duration": 12,
    "start_time": "2024-05-06T12:05:52.399Z"
   },
   {
    "duration": 40,
    "start_time": "2024-05-06T12:05:52.413Z"
   },
   {
    "duration": 33,
    "start_time": "2024-05-06T12:05:52.455Z"
   },
   {
    "duration": 49,
    "start_time": "2024-05-06T12:05:52.489Z"
   },
   {
    "duration": 53,
    "start_time": "2024-05-06T12:05:52.539Z"
   },
   {
    "duration": 73,
    "start_time": "2024-05-06T13:15:07.445Z"
   },
   {
    "duration": 45,
    "start_time": "2024-05-06T13:15:09.869Z"
   },
   {
    "duration": 7,
    "start_time": "2024-05-06T13:15:15.451Z"
   },
   {
    "duration": 500,
    "start_time": "2024-05-06T13:15:21.304Z"
   },
   {
    "duration": 28,
    "start_time": "2024-05-06T13:15:25.230Z"
   },
   {
    "duration": 15,
    "start_time": "2024-05-06T13:15:30.730Z"
   },
   {
    "duration": 683,
    "start_time": "2024-05-22T13:21:09.378Z"
   },
   {
    "duration": 20,
    "start_time": "2024-05-22T13:21:10.064Z"
   },
   {
    "duration": 13,
    "start_time": "2024-05-22T13:21:10.085Z"
   },
   {
    "duration": 9,
    "start_time": "2024-05-22T13:21:10.100Z"
   },
   {
    "duration": 43,
    "start_time": "2024-05-22T13:21:10.111Z"
   },
   {
    "duration": 4,
    "start_time": "2024-05-22T13:21:10.155Z"
   },
   {
    "duration": 8,
    "start_time": "2024-05-22T13:21:10.160Z"
   },
   {
    "duration": 4,
    "start_time": "2024-05-22T13:21:10.169Z"
   },
   {
    "duration": 24,
    "start_time": "2024-05-22T13:21:10.175Z"
   },
   {
    "duration": 5,
    "start_time": "2024-05-22T13:21:10.201Z"
   },
   {
    "duration": 34,
    "start_time": "2024-05-22T13:21:10.208Z"
   },
   {
    "duration": 10,
    "start_time": "2024-05-22T13:21:10.244Z"
   },
   {
    "duration": 3,
    "start_time": "2024-05-22T13:21:10.255Z"
   },
   {
    "duration": 11,
    "start_time": "2024-05-22T13:21:10.261Z"
   },
   {
    "duration": 42,
    "start_time": "2024-05-22T13:21:10.274Z"
   },
   {
    "duration": 16,
    "start_time": "2024-05-22T13:21:10.318Z"
   },
   {
    "duration": 4,
    "start_time": "2024-05-22T13:21:10.336Z"
   },
   {
    "duration": 10,
    "start_time": "2024-05-22T13:21:10.342Z"
   },
   {
    "duration": 6,
    "start_time": "2024-05-22T13:21:10.354Z"
   },
   {
    "duration": 38,
    "start_time": "2024-05-22T13:21:10.361Z"
   },
   {
    "duration": 9,
    "start_time": "2024-05-22T13:21:10.401Z"
   },
   {
    "duration": 33,
    "start_time": "2024-05-22T13:21:10.412Z"
   },
   {
    "duration": 32,
    "start_time": "2024-05-22T13:21:10.447Z"
   },
   {
    "duration": 31,
    "start_time": "2024-05-22T13:21:10.500Z"
   },
   {
    "duration": 22,
    "start_time": "2024-05-22T13:21:10.533Z"
   },
   {
    "duration": 463,
    "start_time": "2024-05-22T13:21:43.115Z"
   },
   {
    "duration": 20,
    "start_time": "2024-05-22T13:21:43.580Z"
   },
   {
    "duration": 14,
    "start_time": "2024-05-22T13:21:43.602Z"
   },
   {
    "duration": 9,
    "start_time": "2024-05-22T13:21:43.617Z"
   },
   {
    "duration": 36,
    "start_time": "2024-05-22T13:21:43.628Z"
   },
   {
    "duration": 3,
    "start_time": "2024-05-22T13:21:43.665Z"
   },
   {
    "duration": 30,
    "start_time": "2024-05-22T13:21:43.670Z"
   },
   {
    "duration": 4,
    "start_time": "2024-05-22T13:21:43.702Z"
   },
   {
    "duration": 9,
    "start_time": "2024-05-22T13:21:43.707Z"
   },
   {
    "duration": 4,
    "start_time": "2024-05-22T13:21:43.718Z"
   },
   {
    "duration": 34,
    "start_time": "2024-05-22T13:21:43.723Z"
   },
   {
    "duration": 10,
    "start_time": "2024-05-22T13:21:43.758Z"
   },
   {
    "duration": 30,
    "start_time": "2024-05-22T13:21:43.769Z"
   },
   {
    "duration": 11,
    "start_time": "2024-05-22T13:21:43.802Z"
   },
   {
    "duration": 19,
    "start_time": "2024-05-22T13:21:43.814Z"
   },
   {
    "duration": 15,
    "start_time": "2024-05-22T13:21:43.835Z"
   },
   {
    "duration": 4,
    "start_time": "2024-05-22T13:21:43.851Z"
   },
   {
    "duration": 11,
    "start_time": "2024-05-22T13:21:43.856Z"
   },
   {
    "duration": 31,
    "start_time": "2024-05-22T13:21:43.869Z"
   },
   {
    "duration": 3,
    "start_time": "2024-05-22T13:21:43.902Z"
   },
   {
    "duration": 8,
    "start_time": "2024-05-22T13:21:43.907Z"
   },
   {
    "duration": 23,
    "start_time": "2024-05-22T13:21:43.916Z"
   },
   {
    "duration": 23,
    "start_time": "2024-05-22T13:21:43.941Z"
   },
   {
    "duration": 49,
    "start_time": "2024-05-22T13:21:43.965Z"
   },
   {
    "duration": 23,
    "start_time": "2024-05-22T13:21:44.015Z"
   },
   {
    "duration": 462,
    "start_time": "2025-01-17T10:28:18.608Z"
   },
   {
    "duration": 23,
    "start_time": "2025-01-17T10:28:19.071Z"
   },
   {
    "duration": 20,
    "start_time": "2025-01-17T10:28:19.095Z"
   },
   {
    "duration": 10,
    "start_time": "2025-01-17T10:28:19.117Z"
   },
   {
    "duration": 65,
    "start_time": "2025-01-17T10:28:19.129Z"
   },
   {
    "duration": 4,
    "start_time": "2025-01-17T10:28:19.196Z"
   },
   {
    "duration": 12,
    "start_time": "2025-01-17T10:28:19.201Z"
   },
   {
    "duration": 16,
    "start_time": "2025-01-17T10:28:19.215Z"
   },
   {
    "duration": 112,
    "start_time": "2025-01-17T10:28:19.233Z"
   },
   {
    "duration": 3,
    "start_time": "2025-01-17T10:28:19.348Z"
   },
   {
    "duration": 46,
    "start_time": "2025-01-17T10:28:19.353Z"
   },
   {
    "duration": 11,
    "start_time": "2025-01-17T10:28:19.401Z"
   },
   {
    "duration": 6,
    "start_time": "2025-01-17T10:28:19.414Z"
   },
   {
    "duration": 15,
    "start_time": "2025-01-17T10:28:19.421Z"
   },
   {
    "duration": 36,
    "start_time": "2025-01-17T10:28:19.438Z"
   },
   {
    "duration": 18,
    "start_time": "2025-01-17T10:28:19.476Z"
   },
   {
    "duration": 69,
    "start_time": "2025-01-17T10:28:19.495Z"
   },
   {
    "duration": 17,
    "start_time": "2025-01-17T10:28:19.565Z"
   },
   {
    "duration": 13,
    "start_time": "2025-01-17T10:28:19.583Z"
   },
   {
    "duration": 4,
    "start_time": "2025-01-17T10:28:19.597Z"
   },
   {
    "duration": 88,
    "start_time": "2025-01-17T10:28:19.602Z"
   },
   {
    "duration": 35,
    "start_time": "2025-01-17T10:28:19.692Z"
   },
   {
    "duration": 24,
    "start_time": "2025-01-17T10:28:19.728Z"
   },
   {
    "duration": 29,
    "start_time": "2025-01-17T10:28:19.754Z"
   },
   {
    "duration": 34,
    "start_time": "2025-01-17T10:28:19.784Z"
   }
  ],
  "colab": {
   "provenance": []
  },
  "kernelspec": {
   "display_name": "Python 3 (ipykernel)",
   "language": "python",
   "name": "python3"
  },
  "language_info": {
   "codemirror_mode": {
    "name": "ipython",
    "version": 3
   },
   "file_extension": ".py",
   "mimetype": "text/x-python",
   "name": "python",
   "nbconvert_exporter": "python",
   "pygments_lexer": "ipython3",
   "version": "3.9.5"
  },
  "toc": {
   "base_numbering": 1,
   "nav_menu": {},
   "number_sections": true,
   "sideBar": true,
   "skip_h1_title": true,
   "title_cell": "Table of Contents",
   "title_sidebar": "Contents",
   "toc_cell": false,
   "toc_position": {
    "height": "calc(100% - 180px)",
    "left": "10px",
    "top": "150px",
    "width": "307px"
   },
   "toc_section_display": true,
   "toc_window_display": true
  }
 },
 "nbformat": 4,
 "nbformat_minor": 5
}
