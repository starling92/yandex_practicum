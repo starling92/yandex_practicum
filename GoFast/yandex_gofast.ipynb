{
 "cells": [
  {
   "cell_type": "markdown",
   "id": "c12af8b3",
   "metadata": {},
   "source": [
    "# Иследование данных о поездках пользователей  сервиса аренды самокатов GoFast"
   ]
  },
  {
   "cell_type": "markdown",
   "id": "499cffb3",
   "metadata": {},
   "source": [
    "Аренда самокатов на данный момент является одной из популярных и развивающихся услуг. В данной сфере необходимо учитывать много факторов, для контроля и управления деятельностью."
   ]
  },
  {
   "cell_type": "markdown",
   "id": "335f5653",
   "metadata": {},
   "source": [
    "**Цель иследования:** Проверить как заданные гипотизы повлияют на рост бизнеса."
   ]
  },
  {
   "cell_type": "markdown",
   "id": "da5b763a",
   "metadata": {},
   "source": [
    "**Ход исследования:**\n",
    "\n",
    "Подготовка данных: загрузка и изучение общей информации из предоставленного датасета.\n",
    "\n",
    "Предобработка данных: обработка пропущенных значений, корректировка типа данных, дубликатов и других аномалий.\n",
    "\n",
    "Расширение набора данных: добавление новых столбцов, таких как  суммарное расстояние, количество поездок и суммарное время для каждого пользователя за каждый месяц, помесячная выручка по каждому пользователю\n",
    "Объединение данных из разных датафреймов\n",
    "\n",
    "Исследовательский анализ данных: изучение и визуализация общей информации о пользователях и поездках, а также выявление и обработка аномалий.\n",
    "\n",
    "Проверить гипотизы:\n",
    "    "
   ]
  },
  {
   "cell_type": "markdown",
   "id": "d1c5b648",
   "metadata": {},
   "source": [
    "**Общий вывод:** резюмирование полученных результатов, формулировка ключевых выводов и рекомендаций."
   ]
  },
  {
   "cell_type": "markdown",
   "id": "e2e99500",
   "metadata": {},
   "source": [
    "С помощью данного иследования нам необходимо дать рекомендации для принятия решений по увелечению выручки компании."
   ]
  },
  {
   "cell_type": "markdown",
   "id": "c42cbe00",
   "metadata": {},
   "source": [
    "#### Шаг 1. Загрузка данных"
   ]
  },
  {
   "cell_type": "code",
   "execution_count": 1,
   "id": "e3779fec",
   "metadata": {},
   "outputs": [],
   "source": [
    "import pandas as pd\n",
    "import matplotlib.pyplot as plt\n",
    "import seaborn as sns\n",
    "import numpy as np\n",
    "from scipy import stats as st"
   ]
  },
  {
   "cell_type": "code",
   "execution_count": 2,
   "id": "9938a3dd",
   "metadata": {},
   "outputs": [],
   "source": [
    "pd.set_option('display.max_columns', None)\n",
    "\n",
    "users = pd.read_csv('/datasets/users_go.csv', sep = ',')\n",
    "rides = pd.read_csv('/datasets/rides_go.csv', sep = ',')\n",
    "subscriptions = pd.read_csv('/datasets/subscriptions_go.csv', sep = ',')"
   ]
  },
  {
   "cell_type": "code",
   "execution_count": 3,
   "id": "96ab5099",
   "metadata": {},
   "outputs": [],
   "source": [
    "def data_info(data):\n",
    "    display(data.sample(7))\n",
    "    data.info()\n",
    "    data.hist(figsize=(5, 5)) # как добавить в функцию дубликаты и др"
   ]
  },
  {
   "cell_type": "code",
   "execution_count": 4,
   "id": "088e8ace",
   "metadata": {},
   "outputs": [
    {
     "data": {
      "text/html": [
       "<div>\n",
       "<style scoped>\n",
       "    .dataframe tbody tr th:only-of-type {\n",
       "        vertical-align: middle;\n",
       "    }\n",
       "\n",
       "    .dataframe tbody tr th {\n",
       "        vertical-align: top;\n",
       "    }\n",
       "\n",
       "    .dataframe thead th {\n",
       "        text-align: right;\n",
       "    }\n",
       "</style>\n",
       "<table border=\"1\" class=\"dataframe\">\n",
       "  <thead>\n",
       "    <tr style=\"text-align: right;\">\n",
       "      <th></th>\n",
       "      <th>user_id</th>\n",
       "      <th>name</th>\n",
       "      <th>age</th>\n",
       "      <th>city</th>\n",
       "      <th>subscription_type</th>\n",
       "    </tr>\n",
       "  </thead>\n",
       "  <tbody>\n",
       "    <tr>\n",
       "      <th>393</th>\n",
       "      <td>394</td>\n",
       "      <td>Алиса</td>\n",
       "      <td>31</td>\n",
       "      <td>Ростов-на-Дону</td>\n",
       "      <td>ultra</td>\n",
       "    </tr>\n",
       "    <tr>\n",
       "      <th>1179</th>\n",
       "      <td>1180</td>\n",
       "      <td>Регина</td>\n",
       "      <td>26</td>\n",
       "      <td>Омск</td>\n",
       "      <td>free</td>\n",
       "    </tr>\n",
       "    <tr>\n",
       "      <th>769</th>\n",
       "      <td>770</td>\n",
       "      <td>Снежана</td>\n",
       "      <td>27</td>\n",
       "      <td>Краснодар</td>\n",
       "      <td>free</td>\n",
       "    </tr>\n",
       "    <tr>\n",
       "      <th>412</th>\n",
       "      <td>413</td>\n",
       "      <td>Нелли</td>\n",
       "      <td>19</td>\n",
       "      <td>Ростов-на-Дону</td>\n",
       "      <td>ultra</td>\n",
       "    </tr>\n",
       "    <tr>\n",
       "      <th>1310</th>\n",
       "      <td>1311</td>\n",
       "      <td>Яна</td>\n",
       "      <td>24</td>\n",
       "      <td>Пятигорск</td>\n",
       "      <td>free</td>\n",
       "    </tr>\n",
       "    <tr>\n",
       "      <th>1326</th>\n",
       "      <td>1327</td>\n",
       "      <td>Алла</td>\n",
       "      <td>22</td>\n",
       "      <td>Пятигорск</td>\n",
       "      <td>free</td>\n",
       "    </tr>\n",
       "    <tr>\n",
       "      <th>249</th>\n",
       "      <td>250</td>\n",
       "      <td>Аделина</td>\n",
       "      <td>18</td>\n",
       "      <td>Сочи</td>\n",
       "      <td>ultra</td>\n",
       "    </tr>\n",
       "  </tbody>\n",
       "</table>\n",
       "</div>"
      ],
      "text/plain": [
       "      user_id     name  age            city subscription_type\n",
       "393       394    Алиса   31  Ростов-на-Дону             ultra\n",
       "1179     1180   Регина   26            Омск              free\n",
       "769       770  Снежана   27       Краснодар              free\n",
       "412       413    Нелли   19  Ростов-на-Дону             ultra\n",
       "1310     1311      Яна   24       Пятигорск              free\n",
       "1326     1327     Алла   22       Пятигорск              free\n",
       "249       250  Аделина   18            Сочи             ultra"
      ]
     },
     "metadata": {},
     "output_type": "display_data"
    },
    {
     "name": "stdout",
     "output_type": "stream",
     "text": [
      "<class 'pandas.core.frame.DataFrame'>\n",
      "RangeIndex: 1565 entries, 0 to 1564\n",
      "Data columns (total 5 columns):\n",
      " #   Column             Non-Null Count  Dtype \n",
      "---  ------             --------------  ----- \n",
      " 0   user_id            1565 non-null   int64 \n",
      " 1   name               1565 non-null   object\n",
      " 2   age                1565 non-null   int64 \n",
      " 3   city               1565 non-null   object\n",
      " 4   subscription_type  1565 non-null   object\n",
      "dtypes: int64(2), object(3)\n",
      "memory usage: 61.3+ KB\n",
      "None\n",
      "\n",
      "user_id              0\n",
      "name                 0\n",
      "age                  0\n",
      "city                 0\n",
      "subscription_type    0\n",
      "dtype: int64\n",
      "\n",
      "дубликаты\n",
      "\n",
      "31\n",
      "\n",
      "           user_id          age\n",
      "count  1565.000000  1565.000000\n",
      "mean    762.633866    24.922045\n",
      "std     443.260155     4.553496\n",
      "min       1.000000    12.000000\n",
      "25%     378.000000    22.000000\n",
      "50%     762.000000    25.000000\n",
      "75%    1146.000000    28.000000\n",
      "max    1534.000000    43.000000\n"
     ]
    },
    {
     "data": {
      "image/png": "[encoded data removed]",
      "text/plain": [
       "<Figure size 360x360 with 2 Axes>"
      ]
     },
     "metadata": {
      "needs_background": "light"
     },
     "output_type": "display_data"
    }
   ],
   "source": [
    "print(data_info(users), users.isna().sum(), 'дубликаты', users.duplicated().sum(), users.describe(), sep='\\n\\n')"
   ]
  },
  {
   "cell_type": "markdown",
   "id": "f54d3c65",
   "metadata": {},
   "source": [
    "На данном этапе по датафрейму пользователи: дубликаты 31, выбросов нет, пропущенных значений нет."
   ]
  },
  {
   "cell_type": "code",
   "execution_count": 5,
   "id": "6bdf33c5",
   "metadata": {},
   "outputs": [
    {
     "data": {
      "text/html": [
       "<div>\n",
       "<style scoped>\n",
       "    .dataframe tbody tr th:only-of-type {\n",
       "        vertical-align: middle;\n",
       "    }\n",
       "\n",
       "    .dataframe tbody tr th {\n",
       "        vertical-align: top;\n",
       "    }\n",
       "\n",
       "    .dataframe thead th {\n",
       "        text-align: right;\n",
       "    }\n",
       "</style>\n",
       "<table border=\"1\" class=\"dataframe\">\n",
       "  <thead>\n",
       "    <tr style=\"text-align: right;\">\n",
       "      <th></th>\n",
       "      <th>user_id</th>\n",
       "      <th>distance</th>\n",
       "      <th>duration</th>\n",
       "      <th>date</th>\n",
       "    </tr>\n",
       "  </thead>\n",
       "  <tbody>\n",
       "    <tr>\n",
       "      <th>2765</th>\n",
       "      <td>295</td>\n",
       "      <td>3156.039440</td>\n",
       "      <td>19.624158</td>\n",
       "      <td>2021-04-08</td>\n",
       "    </tr>\n",
       "    <tr>\n",
       "      <th>17591</th>\n",
       "      <td>1502</td>\n",
       "      <td>4524.585800</td>\n",
       "      <td>12.695541</td>\n",
       "      <td>2021-03-11</td>\n",
       "    </tr>\n",
       "    <tr>\n",
       "      <th>3766</th>\n",
       "      <td>404</td>\n",
       "      <td>648.322984</td>\n",
       "      <td>10.440718</td>\n",
       "      <td>2021-12-10</td>\n",
       "    </tr>\n",
       "    <tr>\n",
       "      <th>17188</th>\n",
       "      <td>1473</td>\n",
       "      <td>3648.330080</td>\n",
       "      <td>18.681238</td>\n",
       "      <td>2021-05-09</td>\n",
       "    </tr>\n",
       "    <tr>\n",
       "      <th>10400</th>\n",
       "      <td>985</td>\n",
       "      <td>3639.916376</td>\n",
       "      <td>32.854089</td>\n",
       "      <td>2021-06-09</td>\n",
       "    </tr>\n",
       "    <tr>\n",
       "      <th>1992</th>\n",
       "      <td>215</td>\n",
       "      <td>3810.425921</td>\n",
       "      <td>19.886931</td>\n",
       "      <td>2021-05-30</td>\n",
       "    </tr>\n",
       "    <tr>\n",
       "      <th>1958</th>\n",
       "      <td>212</td>\n",
       "      <td>3221.767449</td>\n",
       "      <td>18.370944</td>\n",
       "      <td>2021-02-20</td>\n",
       "    </tr>\n",
       "  </tbody>\n",
       "</table>\n",
       "</div>"
      ],
      "text/plain": [
       "       user_id     distance   duration        date\n",
       "2765       295  3156.039440  19.624158  2021-04-08\n",
       "17591     1502  4524.585800  12.695541  2021-03-11\n",
       "3766       404   648.322984  10.440718  2021-12-10\n",
       "17188     1473  3648.330080  18.681238  2021-05-09\n",
       "10400      985  3639.916376  32.854089  2021-06-09\n",
       "1992       215  3810.425921  19.886931  2021-05-30\n",
       "1958       212  3221.767449  18.370944  2021-02-20"
      ]
     },
     "metadata": {},
     "output_type": "display_data"
    },
    {
     "name": "stdout",
     "output_type": "stream",
     "text": [
      "<class 'pandas.core.frame.DataFrame'>\n",
      "RangeIndex: 18068 entries, 0 to 18067\n",
      "Data columns (total 4 columns):\n",
      " #   Column    Non-Null Count  Dtype  \n",
      "---  ------    --------------  -----  \n",
      " 0   user_id   18068 non-null  int64  \n",
      " 1   distance  18068 non-null  float64\n",
      " 2   duration  18068 non-null  float64\n",
      " 3   date      18068 non-null  object \n",
      "dtypes: float64(2), int64(1), object(1)\n",
      "memory usage: 564.8+ KB\n",
      "None\n",
      "\n",
      "user_id     0\n",
      "distance    0\n",
      "duration    0\n",
      "date        0\n",
      "dtype: int64\n",
      "\n",
      "дубликаты\n",
      "\n",
      "0\n",
      "\n",
      "            user_id      distance      duration\n",
      "count  18068.000000  18068.000000  18068.000000\n",
      "mean     842.869936   3070.659976     17.805011\n",
      "std      434.734317   1116.831209      6.091051\n",
      "min        1.000000      0.855683      0.500000\n",
      "25%      487.000000   2543.226360     13.597563\n",
      "50%      889.000000   3133.609994     17.678395\n",
      "75%     1213.250000   3776.222735     21.724800\n",
      "max     1534.000000   7211.007745     40.823963\n"
     ]
    },
    {
     "data": {
      "image/png": "[encoded data removed]",
      "text/plain": [
       "<Figure size 360x360 with 4 Axes>"
      ]
     },
     "metadata": {
      "needs_background": "light"
     },
     "output_type": "display_data"
    }
   ],
   "source": [
    "print(data_info(rides),\n",
    "      rides.isna().sum(),\n",
    "      'дубликаты', rides.duplicated().sum(),\n",
    "      rides.describe(),\n",
    "      sep='\\n\\n')"
   ]
  },
  {
   "cell_type": "markdown",
   "id": "f194cc0c",
   "metadata": {},
   "source": [
    "На данном этапе по датафрейму пользователи: дубликатов нет, выбросов вроде нет, проверить поездку в 6000 м, пропущенных значений нет."
   ]
  },
  {
   "cell_type": "code",
   "execution_count": 6,
   "id": "49436d0c",
   "metadata": {},
   "outputs": [
    {
     "data": {
      "text/html": [
       "<div>\n",
       "<style scoped>\n",
       "    .dataframe tbody tr th:only-of-type {\n",
       "        vertical-align: middle;\n",
       "    }\n",
       "\n",
       "    .dataframe tbody tr th {\n",
       "        vertical-align: top;\n",
       "    }\n",
       "\n",
       "    .dataframe thead th {\n",
       "        text-align: right;\n",
       "    }\n",
       "</style>\n",
       "<table border=\"1\" class=\"dataframe\">\n",
       "  <thead>\n",
       "    <tr style=\"text-align: right;\">\n",
       "      <th></th>\n",
       "      <th>subscription_type</th>\n",
       "      <th>minute_price</th>\n",
       "      <th>start_ride_price</th>\n",
       "      <th>subscription_fee</th>\n",
       "    </tr>\n",
       "  </thead>\n",
       "  <tbody>\n",
       "    <tr>\n",
       "      <th>0</th>\n",
       "      <td>free</td>\n",
       "      <td>8</td>\n",
       "      <td>50</td>\n",
       "      <td>0</td>\n",
       "    </tr>\n",
       "    <tr>\n",
       "      <th>1</th>\n",
       "      <td>ultra</td>\n",
       "      <td>6</td>\n",
       "      <td>0</td>\n",
       "      <td>199</td>\n",
       "    </tr>\n",
       "  </tbody>\n",
       "</table>\n",
       "</div>"
      ],
      "text/plain": [
       "  subscription_type  minute_price  start_ride_price  subscription_fee\n",
       "0              free             8                50                 0\n",
       "1             ultra             6                 0               199"
      ]
     },
     "execution_count": 6,
     "metadata": {},
     "output_type": "execute_result"
    }
   ],
   "source": [
    "subscriptions"
   ]
  },
  {
   "cell_type": "markdown",
   "id": "e95ebca7",
   "metadata": {},
   "source": [
    "#### Шаг 2. Предобработка данных"
   ]
  },
  {
   "cell_type": "markdown",
   "id": "ae898d63",
   "metadata": {},
   "source": [
    "2.1 Приведите столбец date к типу даты pandas."
   ]
  },
  {
   "cell_type": "code",
   "execution_count": 7,
   "id": "af6d202c",
   "metadata": {},
   "outputs": [],
   "source": [
    "rides['date'] = pd.to_datetime(rides['date'], format='%Y-%m-%d')"
   ]
  },
  {
   "cell_type": "code",
   "execution_count": 8,
   "id": "859c1858",
   "metadata": {},
   "outputs": [
    {
     "name": "stdout",
     "output_type": "stream",
     "text": [
      "<class 'pandas.core.frame.DataFrame'>\n",
      "RangeIndex: 18068 entries, 0 to 18067\n",
      "Data columns (total 4 columns):\n",
      " #   Column    Non-Null Count  Dtype         \n",
      "---  ------    --------------  -----         \n",
      " 0   user_id   18068 non-null  int64         \n",
      " 1   distance  18068 non-null  float64       \n",
      " 2   duration  18068 non-null  float64       \n",
      " 3   date      18068 non-null  datetime64[ns]\n",
      "dtypes: datetime64[ns](1), float64(2), int64(1)\n",
      "memory usage: 564.8 KB\n"
     ]
    }
   ],
   "source": [
    "rides.info()"
   ]
  },
  {
   "cell_type": "markdown",
   "id": "d9cd84e5",
   "metadata": {},
   "source": [
    "2.2 Создайте новый столбец с номером месяца на основе столбца date."
   ]
  },
  {
   "cell_type": "code",
   "execution_count": 9,
   "id": "34734192",
   "metadata": {},
   "outputs": [],
   "source": [
    "rides['num_month'] = rides['date'].dt.month"
   ]
  },
  {
   "cell_type": "markdown",
   "id": "966fd520",
   "metadata": {},
   "source": [
    "2.3 Проверьте наличие пропущенных значений и дубликатов в датафреймах. Обработайте их, если такие значения присутствуют. - смотрела ранее, были дубликаты, надо их проверить"
   ]
  },
  {
   "cell_type": "code",
   "execution_count": 10,
   "id": "eae605d3",
   "metadata": {
    "scrolled": true
   },
   "outputs": [
    {
     "data": {
      "text/html": [
       "<div>\n",
       "<style scoped>\n",
       "    .dataframe tbody tr th:only-of-type {\n",
       "        vertical-align: middle;\n",
       "    }\n",
       "\n",
       "    .dataframe tbody tr th {\n",
       "        vertical-align: top;\n",
       "    }\n",
       "\n",
       "    .dataframe thead th {\n",
       "        text-align: right;\n",
       "    }\n",
       "</style>\n",
       "<table border=\"1\" class=\"dataframe\">\n",
       "  <thead>\n",
       "    <tr style=\"text-align: right;\">\n",
       "      <th></th>\n",
       "      <th>user_id</th>\n",
       "      <th>name</th>\n",
       "      <th>age</th>\n",
       "      <th>city</th>\n",
       "      <th>subscription_type</th>\n",
       "    </tr>\n",
       "  </thead>\n",
       "  <tbody>\n",
       "    <tr>\n",
       "      <th>1535</th>\n",
       "      <td>16</td>\n",
       "      <td>Амалия</td>\n",
       "      <td>27</td>\n",
       "      <td>Краснодар</td>\n",
       "      <td>ultra</td>\n",
       "    </tr>\n",
       "    <tr>\n",
       "      <th>1539</th>\n",
       "      <td>43</td>\n",
       "      <td>Стефания</td>\n",
       "      <td>22</td>\n",
       "      <td>Омск</td>\n",
       "      <td>ultra</td>\n",
       "    </tr>\n",
       "    <tr>\n",
       "      <th>1563</th>\n",
       "      <td>47</td>\n",
       "      <td>Юрий</td>\n",
       "      <td>28</td>\n",
       "      <td>Тюмень</td>\n",
       "      <td>ultra</td>\n",
       "    </tr>\n",
       "    <tr>\n",
       "      <th>1555</th>\n",
       "      <td>72</td>\n",
       "      <td>Никита</td>\n",
       "      <td>25</td>\n",
       "      <td>Москва</td>\n",
       "      <td>ultra</td>\n",
       "    </tr>\n",
       "    <tr>\n",
       "      <th>1549</th>\n",
       "      <td>108</td>\n",
       "      <td>Влада</td>\n",
       "      <td>29</td>\n",
       "      <td>Тюмень</td>\n",
       "      <td>ultra</td>\n",
       "    </tr>\n",
       "    <tr>\n",
       "      <th>1553</th>\n",
       "      <td>121</td>\n",
       "      <td>Алина</td>\n",
       "      <td>25</td>\n",
       "      <td>Пятигорск</td>\n",
       "      <td>ultra</td>\n",
       "    </tr>\n",
       "    <tr>\n",
       "      <th>1540</th>\n",
       "      <td>127</td>\n",
       "      <td>Павел</td>\n",
       "      <td>25</td>\n",
       "      <td>Пятигорск</td>\n",
       "      <td>ultra</td>\n",
       "    </tr>\n",
       "    <tr>\n",
       "      <th>1548</th>\n",
       "      <td>136</td>\n",
       "      <td>Марсель</td>\n",
       "      <td>25</td>\n",
       "      <td>Тюмень</td>\n",
       "      <td>ultra</td>\n",
       "    </tr>\n",
       "    <tr>\n",
       "      <th>1543</th>\n",
       "      <td>153</td>\n",
       "      <td>Герман</td>\n",
       "      <td>23</td>\n",
       "      <td>Москва</td>\n",
       "      <td>ultra</td>\n",
       "    </tr>\n",
       "    <tr>\n",
       "      <th>1542</th>\n",
       "      <td>204</td>\n",
       "      <td>Руслан</td>\n",
       "      <td>30</td>\n",
       "      <td>Пятигорск</td>\n",
       "      <td>ultra</td>\n",
       "    </tr>\n",
       "    <tr>\n",
       "      <th>1559</th>\n",
       "      <td>209</td>\n",
       "      <td>Андрей</td>\n",
       "      <td>23</td>\n",
       "      <td>Омск</td>\n",
       "      <td>ultra</td>\n",
       "    </tr>\n",
       "    <tr>\n",
       "      <th>1534</th>\n",
       "      <td>293</td>\n",
       "      <td>Агата</td>\n",
       "      <td>26</td>\n",
       "      <td>Краснодар</td>\n",
       "      <td>ultra</td>\n",
       "    </tr>\n",
       "    <tr>\n",
       "      <th>1552</th>\n",
       "      <td>297</td>\n",
       "      <td>Егор</td>\n",
       "      <td>33</td>\n",
       "      <td>Пятигорск</td>\n",
       "      <td>ultra</td>\n",
       "    </tr>\n",
       "    <tr>\n",
       "      <th>1562</th>\n",
       "      <td>307</td>\n",
       "      <td>Ясмина</td>\n",
       "      <td>19</td>\n",
       "      <td>Краснодар</td>\n",
       "      <td>ultra</td>\n",
       "    </tr>\n",
       "    <tr>\n",
       "      <th>1537</th>\n",
       "      <td>403</td>\n",
       "      <td>Полина</td>\n",
       "      <td>19</td>\n",
       "      <td>Сочи</td>\n",
       "      <td>ultra</td>\n",
       "    </tr>\n",
       "    <tr>\n",
       "      <th>1556</th>\n",
       "      <td>422</td>\n",
       "      <td>Кирилл</td>\n",
       "      <td>27</td>\n",
       "      <td>Сочи</td>\n",
       "      <td>ultra</td>\n",
       "    </tr>\n",
       "    <tr>\n",
       "      <th>1557</th>\n",
       "      <td>611</td>\n",
       "      <td>Владимир</td>\n",
       "      <td>28</td>\n",
       "      <td>Омск</td>\n",
       "      <td>ultra</td>\n",
       "    </tr>\n",
       "    <tr>\n",
       "      <th>1547</th>\n",
       "      <td>635</td>\n",
       "      <td>Герман</td>\n",
       "      <td>21</td>\n",
       "      <td>Москва</td>\n",
       "      <td>ultra</td>\n",
       "    </tr>\n",
       "    <tr>\n",
       "      <th>1541</th>\n",
       "      <td>659</td>\n",
       "      <td>Злата</td>\n",
       "      <td>27</td>\n",
       "      <td>Ростов-на-Дону</td>\n",
       "      <td>ultra</td>\n",
       "    </tr>\n",
       "    <tr>\n",
       "      <th>1551</th>\n",
       "      <td>666</td>\n",
       "      <td>Зарина</td>\n",
       "      <td>29</td>\n",
       "      <td>Москва</td>\n",
       "      <td>ultra</td>\n",
       "    </tr>\n",
       "    <tr>\n",
       "      <th>1550</th>\n",
       "      <td>737</td>\n",
       "      <td>Мелания</td>\n",
       "      <td>27</td>\n",
       "      <td>Ростов-на-Дону</td>\n",
       "      <td>free</td>\n",
       "    </tr>\n",
       "    <tr>\n",
       "      <th>1545</th>\n",
       "      <td>807</td>\n",
       "      <td>Александр</td>\n",
       "      <td>28</td>\n",
       "      <td>Екатеринбург</td>\n",
       "      <td>free</td>\n",
       "    </tr>\n",
       "    <tr>\n",
       "      <th>1561</th>\n",
       "      <td>809</td>\n",
       "      <td>Юрий</td>\n",
       "      <td>26</td>\n",
       "      <td>Сочи</td>\n",
       "      <td>free</td>\n",
       "    </tr>\n",
       "    <tr>\n",
       "      <th>1560</th>\n",
       "      <td>829</td>\n",
       "      <td>Федор</td>\n",
       "      <td>29</td>\n",
       "      <td>Пятигорск</td>\n",
       "      <td>free</td>\n",
       "    </tr>\n",
       "    <tr>\n",
       "      <th>1538</th>\n",
       "      <td>908</td>\n",
       "      <td>Рустам</td>\n",
       "      <td>30</td>\n",
       "      <td>Тюмень</td>\n",
       "      <td>free</td>\n",
       "    </tr>\n",
       "    <tr>\n",
       "      <th>1536</th>\n",
       "      <td>909</td>\n",
       "      <td>Константин</td>\n",
       "      <td>20</td>\n",
       "      <td>Екатеринбург</td>\n",
       "      <td>free</td>\n",
       "    </tr>\n",
       "    <tr>\n",
       "      <th>1546</th>\n",
       "      <td>924</td>\n",
       "      <td>Мария</td>\n",
       "      <td>23</td>\n",
       "      <td>Пятигорск</td>\n",
       "      <td>free</td>\n",
       "    </tr>\n",
       "    <tr>\n",
       "      <th>1564</th>\n",
       "      <td>1045</td>\n",
       "      <td>Артемий</td>\n",
       "      <td>28</td>\n",
       "      <td>Ростов-на-Дону</td>\n",
       "      <td>free</td>\n",
       "    </tr>\n",
       "    <tr>\n",
       "      <th>1554</th>\n",
       "      <td>1198</td>\n",
       "      <td>Демид</td>\n",
       "      <td>29</td>\n",
       "      <td>Ростов-на-Дону</td>\n",
       "      <td>free</td>\n",
       "    </tr>\n",
       "    <tr>\n",
       "      <th>1558</th>\n",
       "      <td>1237</td>\n",
       "      <td>Евгения</td>\n",
       "      <td>23</td>\n",
       "      <td>Тюмень</td>\n",
       "      <td>free</td>\n",
       "    </tr>\n",
       "    <tr>\n",
       "      <th>1544</th>\n",
       "      <td>1245</td>\n",
       "      <td>Регина</td>\n",
       "      <td>27</td>\n",
       "      <td>Пятигорск</td>\n",
       "      <td>free</td>\n",
       "    </tr>\n",
       "  </tbody>\n",
       "</table>\n",
       "</div>"
      ],
      "text/plain": [
       "      user_id        name  age            city subscription_type\n",
       "1535       16      Амалия   27       Краснодар             ultra\n",
       "1539       43    Стефания   22            Омск             ultra\n",
       "1563       47        Юрий   28          Тюмень             ultra\n",
       "1555       72      Никита   25          Москва             ultra\n",
       "1549      108       Влада   29          Тюмень             ultra\n",
       "1553      121       Алина   25       Пятигорск             ultra\n",
       "1540      127       Павел   25       Пятигорск             ultra\n",
       "1548      136     Марсель   25          Тюмень             ultra\n",
       "1543      153      Герман   23          Москва             ultra\n",
       "1542      204      Руслан   30       Пятигорск             ultra\n",
       "1559      209      Андрей   23            Омск             ultra\n",
       "1534      293       Агата   26       Краснодар             ultra\n",
       "1552      297        Егор   33       Пятигорск             ultra\n",
       "1562      307      Ясмина   19       Краснодар             ultra\n",
       "1537      403      Полина   19            Сочи             ultra\n",
       "1556      422      Кирилл   27            Сочи             ultra\n",
       "1557      611    Владимир   28            Омск             ultra\n",
       "1547      635      Герман   21          Москва             ultra\n",
       "1541      659       Злата   27  Ростов-на-Дону             ultra\n",
       "1551      666      Зарина   29          Москва             ultra\n",
       "1550      737     Мелания   27  Ростов-на-Дону              free\n",
       "1545      807   Александр   28    Екатеринбург              free\n",
       "1561      809        Юрий   26            Сочи              free\n",
       "1560      829       Федор   29       Пятигорск              free\n",
       "1538      908      Рустам   30          Тюмень              free\n",
       "1536      909  Константин   20    Екатеринбург              free\n",
       "1546      924       Мария   23       Пятигорск              free\n",
       "1564     1045     Артемий   28  Ростов-на-Дону              free\n",
       "1554     1198       Демид   29  Ростов-на-Дону              free\n",
       "1558     1237     Евгения   23          Тюмень              free\n",
       "1544     1245      Регина   27       Пятигорск              free"
      ]
     },
     "execution_count": 10,
     "metadata": {},
     "output_type": "execute_result"
    }
   ],
   "source": [
    "i = users[users.duplicated()]\n",
    "i.sort_values(by = 'user_id')"
   ]
  },
  {
   "cell_type": "code",
   "execution_count": 11,
   "id": "76864aba",
   "metadata": {},
   "outputs": [],
   "source": [
    "users = users.drop_duplicates()"
   ]
  },
  {
   "cell_type": "code",
   "execution_count": 12,
   "id": "d85d43d3",
   "metadata": {},
   "outputs": [
    {
     "data": {
      "text/plain": [
       "0"
      ]
     },
     "execution_count": 12,
     "metadata": {},
     "output_type": "execute_result"
    }
   ],
   "source": [
    "users.duplicated().sum()"
   ]
  },
  {
   "cell_type": "markdown",
   "id": "1213bec4",
   "metadata": {},
   "source": [
    "Создала столбец с датой в нужной формате и вынесла номер месяца. Проверила наличие пропущенных значений и дубликатов в датафреймах"
   ]
  },
  {
   "cell_type": "markdown",
   "id": "212593c7",
   "metadata": {},
   "source": [
    "#### Шаг 3. Исследовательский анализ данных"
   ]
  },
  {
   "cell_type": "markdown",
   "id": "37b11d65",
   "metadata": {},
   "source": [
    "Опишите и визуализируйте общую информацию о пользователях и поездках:\n",
    "\n",
    "3.1 частота встречаемости городов;"
   ]
  },
  {
   "cell_type": "code",
   "execution_count": 13,
   "id": "bb814b41",
   "metadata": {},
   "outputs": [
    {
     "data": {
      "text/html": [
       "<div>\n",
       "<style scoped>\n",
       "    .dataframe tbody tr th:only-of-type {\n",
       "        vertical-align: middle;\n",
       "    }\n",
       "\n",
       "    .dataframe tbody tr th {\n",
       "        vertical-align: top;\n",
       "    }\n",
       "\n",
       "    .dataframe thead th {\n",
       "        text-align: right;\n",
       "    }\n",
       "</style>\n",
       "<table border=\"1\" class=\"dataframe\">\n",
       "  <thead>\n",
       "    <tr style=\"text-align: right;\">\n",
       "      <th></th>\n",
       "      <th>city</th>\n",
       "      <th>count</th>\n",
       "      <th>ratio</th>\n",
       "    </tr>\n",
       "  </thead>\n",
       "  <tbody>\n",
       "    <tr>\n",
       "      <th>0</th>\n",
       "      <td>Пятигорск</td>\n",
       "      <td>219</td>\n",
       "      <td>14.276402</td>\n",
       "    </tr>\n",
       "    <tr>\n",
       "      <th>1</th>\n",
       "      <td>Екатеринбург</td>\n",
       "      <td>204</td>\n",
       "      <td>13.298566</td>\n",
       "    </tr>\n",
       "    <tr>\n",
       "      <th>2</th>\n",
       "      <td>Ростов-на-Дону</td>\n",
       "      <td>198</td>\n",
       "      <td>12.907432</td>\n",
       "    </tr>\n",
       "    <tr>\n",
       "      <th>3</th>\n",
       "      <td>Краснодар</td>\n",
       "      <td>193</td>\n",
       "      <td>12.581486</td>\n",
       "    </tr>\n",
       "    <tr>\n",
       "      <th>4</th>\n",
       "      <td>Сочи</td>\n",
       "      <td>189</td>\n",
       "      <td>12.320730</td>\n",
       "    </tr>\n",
       "    <tr>\n",
       "      <th>5</th>\n",
       "      <td>Омск</td>\n",
       "      <td>183</td>\n",
       "      <td>11.929596</td>\n",
       "    </tr>\n",
       "    <tr>\n",
       "      <th>6</th>\n",
       "      <td>Тюмень</td>\n",
       "      <td>180</td>\n",
       "      <td>11.734029</td>\n",
       "    </tr>\n",
       "    <tr>\n",
       "      <th>7</th>\n",
       "      <td>Москва</td>\n",
       "      <td>168</td>\n",
       "      <td>10.951760</td>\n",
       "    </tr>\n",
       "  </tbody>\n",
       "</table>\n",
       "</div>"
      ],
      "text/plain": [
       "             city  count      ratio\n",
       "0       Пятигорск    219  14.276402\n",
       "1    Екатеринбург    204  13.298566\n",
       "2  Ростов-на-Дону    198  12.907432\n",
       "3       Краснодар    193  12.581486\n",
       "4            Сочи    189  12.320730\n",
       "5            Омск    183  11.929596\n",
       "6          Тюмень    180  11.734029\n",
       "7          Москва    168  10.951760"
      ]
     },
     "execution_count": 13,
     "metadata": {},
     "output_type": "execute_result"
    }
   ],
   "source": [
    "city = users['city'].value_counts().reset_index()\n",
    "city.columns = ['city', 'count']\n",
    "city['ratio'] = city['count'] / city['count'].sum() * 100\n",
    "city"
   ]
  },
  {
   "cell_type": "code",
   "execution_count": 14,
   "id": "7acd50c4",
   "metadata": {},
   "outputs": [
    {
     "data": {
      "text/plain": [
       "Text(0.5, 1.0, 'Частота встречаемости городов')"
      ]
     },
     "execution_count": 14,
     "metadata": {},
     "output_type": "execute_result"
    },
    {
     "data": {
      "image/png": "[encoded data removed]",
      "text/plain": [
       "<Figure size 864x504 with 1 Axes>"
      ]
     },
     "metadata": {
      "needs_background": "light"
     },
     "output_type": "display_data"
    }
   ],
   "source": [
    "plt.figure(figsize=(12,7))\n",
    "sns.barplot(x=city['city'], y = city['ratio'], data=city)\n",
    "plt.xlabel('Города')\n",
    "plt.ylabel('Пользователи')\n",
    "plt.title('Частота встречаемости городов')"
   ]
  },
  {
   "cell_type": "markdown",
   "id": "753d1bc8",
   "metadata": {},
   "source": [
    "В данных информация по семи городам, показывает что количество пользователей примерно одинаково. Пятигорск - город с самым большим количеством пользователей, Москва с наименьшим."
   ]
  },
  {
   "cell_type": "markdown",
   "id": "7bdc59cf",
   "metadata": {},
   "source": [
    "3.2 соотношение пользователей с подпиской и без подписки;"
   ]
  },
  {
   "cell_type": "code",
   "execution_count": 15,
   "id": "e8113572",
   "metadata": {},
   "outputs": [
    {
     "data": {
      "text/html": [
       "<div>\n",
       "<style scoped>\n",
       "    .dataframe tbody tr th:only-of-type {\n",
       "        vertical-align: middle;\n",
       "    }\n",
       "\n",
       "    .dataframe tbody tr th {\n",
       "        vertical-align: top;\n",
       "    }\n",
       "\n",
       "    .dataframe thead th {\n",
       "        text-align: right;\n",
       "    }\n",
       "</style>\n",
       "<table border=\"1\" class=\"dataframe\">\n",
       "  <thead>\n",
       "    <tr style=\"text-align: right;\">\n",
       "      <th></th>\n",
       "      <th>subscription_type</th>\n",
       "      <th>count</th>\n",
       "    </tr>\n",
       "  </thead>\n",
       "  <tbody>\n",
       "    <tr>\n",
       "      <th>0</th>\n",
       "      <td>free</td>\n",
       "      <td>835</td>\n",
       "    </tr>\n",
       "    <tr>\n",
       "      <th>1</th>\n",
       "      <td>ultra</td>\n",
       "      <td>699</td>\n",
       "    </tr>\n",
       "  </tbody>\n",
       "</table>\n",
       "</div>"
      ],
      "text/plain": [
       "  subscription_type  count\n",
       "0              free    835\n",
       "1             ultra    699"
      ]
     },
     "execution_count": 15,
     "metadata": {},
     "output_type": "execute_result"
    }
   ],
   "source": [
    "subscription = users.groupby('subscription_type')['subscription_type'].agg(['count']).reset_index()\n",
    "subscription"
   ]
  },
  {
   "cell_type": "code",
   "execution_count": 16,
   "id": "f6f83dcd",
   "metadata": {},
   "outputs": [
    {
     "data": {
      "image/png": "[encoded data removed]",
      "text/plain": [
       "<Figure size 432x288 with 1 Axes>"
      ]
     },
     "metadata": {},
     "output_type": "display_data"
    }
   ],
   "source": [
    "labels = subscription['subscription_type']\n",
    "values = subscription['count']\n",
    "plt.title('Пользователь с подписками и без')\n",
    "plt.pie(values,labels=labels,shadow=True,autopct='%1.1f%%',startangle=180 )\n",
    "plt.axis('equal')\n",
    "plt.show()"
   ]
  },
  {
   "cell_type": "markdown",
   "id": "dc8f7ed5",
   "metadata": {},
   "source": [
    "Пользователей с подпиской на 10% меньше, чем без."
   ]
  },
  {
   "cell_type": "markdown",
   "id": "df558ad1",
   "metadata": {},
   "source": [
    "3.3 возраст пользователей;"
   ]
  },
  {
   "cell_type": "code",
   "execution_count": 17,
   "id": "b54a41c2",
   "metadata": {},
   "outputs": [
    {
     "data": {
      "text/html": [
       "<div>\n",
       "<style scoped>\n",
       "    .dataframe tbody tr th:only-of-type {\n",
       "        vertical-align: middle;\n",
       "    }\n",
       "\n",
       "    .dataframe tbody tr th {\n",
       "        vertical-align: top;\n",
       "    }\n",
       "\n",
       "    .dataframe thead th {\n",
       "        text-align: right;\n",
       "    }\n",
       "</style>\n",
       "<table border=\"1\" class=\"dataframe\">\n",
       "  <thead>\n",
       "    <tr style=\"text-align: right;\">\n",
       "      <th></th>\n",
       "      <th>age</th>\n",
       "      <th>count</th>\n",
       "    </tr>\n",
       "  </thead>\n",
       "  <tbody>\n",
       "    <tr>\n",
       "      <th>0</th>\n",
       "      <td>12</td>\n",
       "      <td>4</td>\n",
       "    </tr>\n",
       "    <tr>\n",
       "      <th>1</th>\n",
       "      <td>13</td>\n",
       "      <td>8</td>\n",
       "    </tr>\n",
       "    <tr>\n",
       "      <th>2</th>\n",
       "      <td>14</td>\n",
       "      <td>9</td>\n",
       "    </tr>\n",
       "    <tr>\n",
       "      <th>3</th>\n",
       "      <td>15</td>\n",
       "      <td>13</td>\n",
       "    </tr>\n",
       "    <tr>\n",
       "      <th>4</th>\n",
       "      <td>16</td>\n",
       "      <td>19</td>\n",
       "    </tr>\n",
       "    <tr>\n",
       "      <th>5</th>\n",
       "      <td>17</td>\n",
       "      <td>26</td>\n",
       "    </tr>\n",
       "    <tr>\n",
       "      <th>6</th>\n",
       "      <td>18</td>\n",
       "      <td>46</td>\n",
       "    </tr>\n",
       "    <tr>\n",
       "      <th>7</th>\n",
       "      <td>19</td>\n",
       "      <td>47</td>\n",
       "    </tr>\n",
       "    <tr>\n",
       "      <th>8</th>\n",
       "      <td>20</td>\n",
       "      <td>71</td>\n",
       "    </tr>\n",
       "    <tr>\n",
       "      <th>9</th>\n",
       "      <td>21</td>\n",
       "      <td>93</td>\n",
       "    </tr>\n",
       "    <tr>\n",
       "      <th>10</th>\n",
       "      <td>22</td>\n",
       "      <td>119</td>\n",
       "    </tr>\n",
       "    <tr>\n",
       "      <th>11</th>\n",
       "      <td>23</td>\n",
       "      <td>129</td>\n",
       "    </tr>\n",
       "    <tr>\n",
       "      <th>12</th>\n",
       "      <td>24</td>\n",
       "      <td>132</td>\n",
       "    </tr>\n",
       "    <tr>\n",
       "      <th>13</th>\n",
       "      <td>25</td>\n",
       "      <td>145</td>\n",
       "    </tr>\n",
       "    <tr>\n",
       "      <th>14</th>\n",
       "      <td>26</td>\n",
       "      <td>131</td>\n",
       "    </tr>\n",
       "    <tr>\n",
       "      <th>15</th>\n",
       "      <td>27</td>\n",
       "      <td>119</td>\n",
       "    </tr>\n",
       "    <tr>\n",
       "      <th>16</th>\n",
       "      <td>28</td>\n",
       "      <td>112</td>\n",
       "    </tr>\n",
       "    <tr>\n",
       "      <th>17</th>\n",
       "      <td>29</td>\n",
       "      <td>68</td>\n",
       "    </tr>\n",
       "    <tr>\n",
       "      <th>18</th>\n",
       "      <td>30</td>\n",
       "      <td>68</td>\n",
       "    </tr>\n",
       "    <tr>\n",
       "      <th>19</th>\n",
       "      <td>31</td>\n",
       "      <td>48</td>\n",
       "    </tr>\n",
       "    <tr>\n",
       "      <th>20</th>\n",
       "      <td>32</td>\n",
       "      <td>41</td>\n",
       "    </tr>\n",
       "    <tr>\n",
       "      <th>21</th>\n",
       "      <td>33</td>\n",
       "      <td>39</td>\n",
       "    </tr>\n",
       "    <tr>\n",
       "      <th>22</th>\n",
       "      <td>34</td>\n",
       "      <td>19</td>\n",
       "    </tr>\n",
       "    <tr>\n",
       "      <th>23</th>\n",
       "      <td>35</td>\n",
       "      <td>15</td>\n",
       "    </tr>\n",
       "    <tr>\n",
       "      <th>24</th>\n",
       "      <td>36</td>\n",
       "      <td>6</td>\n",
       "    </tr>\n",
       "    <tr>\n",
       "      <th>25</th>\n",
       "      <td>37</td>\n",
       "      <td>2</td>\n",
       "    </tr>\n",
       "    <tr>\n",
       "      <th>26</th>\n",
       "      <td>38</td>\n",
       "      <td>3</td>\n",
       "    </tr>\n",
       "    <tr>\n",
       "      <th>27</th>\n",
       "      <td>39</td>\n",
       "      <td>1</td>\n",
       "    </tr>\n",
       "    <tr>\n",
       "      <th>28</th>\n",
       "      <td>43</td>\n",
       "      <td>1</td>\n",
       "    </tr>\n",
       "  </tbody>\n",
       "</table>\n",
       "</div>"
      ],
      "text/plain": [
       "    age  count\n",
       "0    12      4\n",
       "1    13      8\n",
       "2    14      9\n",
       "3    15     13\n",
       "4    16     19\n",
       "5    17     26\n",
       "6    18     46\n",
       "7    19     47\n",
       "8    20     71\n",
       "9    21     93\n",
       "10   22    119\n",
       "11   23    129\n",
       "12   24    132\n",
       "13   25    145\n",
       "14   26    131\n",
       "15   27    119\n",
       "16   28    112\n",
       "17   29     68\n",
       "18   30     68\n",
       "19   31     48\n",
       "20   32     41\n",
       "21   33     39\n",
       "22   34     19\n",
       "23   35     15\n",
       "24   36      6\n",
       "25   37      2\n",
       "26   38      3\n",
       "27   39      1\n",
       "28   43      1"
      ]
     },
     "execution_count": 17,
     "metadata": {},
     "output_type": "execute_result"
    }
   ],
   "source": [
    "ages = users.groupby('age')['age'].agg(['count']).reset_index()\n",
    "ages"
   ]
  },
  {
   "cell_type": "code",
   "execution_count": 18,
   "id": "84cef803",
   "metadata": {},
   "outputs": [
    {
     "data": {
      "image/png": "[encoded data removed]",
      "text/plain": [
       "<Figure size 576x576 with 1 Axes>"
      ]
     },
     "metadata": {
      "needs_background": "light"
     },
     "output_type": "display_data"
    }
   ],
   "source": [
    "ages.plot(x='age', y='count', style='o-', xlim=(11, 44), grid=True, figsize=(8, 8));\n",
    "plt.xlabel('Возраст');\n",
    "plt.ylabel('Пользователи');\n",
    "plt.title('Возраст пользователей');"
   ]
  },
  {
   "cell_type": "code",
   "execution_count": 19,
   "id": "5a77f338",
   "metadata": {},
   "outputs": [
    {
     "data": {
      "image/png": "[encoded data removed]",
      "text/plain": [
       "<Figure size 576x576 with 1 Axes>"
      ]
     },
     "metadata": {
      "needs_background": "light"
     },
     "output_type": "display_data"
    }
   ],
   "source": [
    "users['age'].hist(bins=44, figsize=(8, 8));\n",
    "plt.xlabel('Возраст');\n",
    "plt.ylabel('Пользователи');\n",
    "plt.title('Возраст пользователей');"
   ]
  },
  {
   "cell_type": "markdown",
   "id": "a589522e",
   "metadata": {},
   "source": [
    "Из графика, мы видим что большинство пользователей, от 20 до 30 лет"
   ]
  },
  {
   "cell_type": "markdown",
   "id": "b7054719",
   "metadata": {},
   "source": [
    "3.4 расстояние, которое пользователь преодолел за одну поездку;"
   ]
  },
  {
   "cell_type": "code",
   "execution_count": 20,
   "id": "2e4f656e",
   "metadata": {},
   "outputs": [
    {
     "data": {
      "text/plain": [
       "count    18068.000000\n",
       "mean      3070.659976\n",
       "std       1116.831209\n",
       "min          0.855683\n",
       "25%       2543.226360\n",
       "50%       3133.609994\n",
       "75%       3776.222735\n",
       "max       7211.007745\n",
       "Name: distance, dtype: float64"
      ]
     },
     "execution_count": 20,
     "metadata": {},
     "output_type": "execute_result"
    }
   ],
   "source": [
    "rides['distance'].describe()"
   ]
  },
  {
   "cell_type": "code",
   "execution_count": 21,
   "id": "3116323f",
   "metadata": {},
   "outputs": [
    {
     "data": {
      "image/png": "[encoded data removed]",
      "text/plain": [
       "<Figure size 432x288 with 1 Axes>"
      ]
     },
     "metadata": {
      "needs_background": "light"
     },
     "output_type": "display_data"
    }
   ],
   "source": [
    "rides['distance'].hist();\n",
    "plt.xlabel('Метры');\n",
    "plt.ylabel('Поездки');\n",
    "plt.title('Средняя дистанция за одну поездку');"
   ]
  },
  {
   "cell_type": "markdown",
   "id": "d127de3f",
   "metadata": {},
   "source": [
    "Средняя дистанция 3 км, большая часть пользователей проезжает от 2,5 до 3,5 км"
   ]
  },
  {
   "cell_type": "markdown",
   "id": "20e30377",
   "metadata": {},
   "source": [
    "3.5 продолжительность поездок"
   ]
  },
  {
   "cell_type": "code",
   "execution_count": 22,
   "id": "935a7172",
   "metadata": {},
   "outputs": [
    {
     "data": {
      "text/html": [
       "<div>\n",
       "<style scoped>\n",
       "    .dataframe tbody tr th:only-of-type {\n",
       "        vertical-align: middle;\n",
       "    }\n",
       "\n",
       "    .dataframe tbody tr th {\n",
       "        vertical-align: top;\n",
       "    }\n",
       "\n",
       "    .dataframe thead th {\n",
       "        text-align: right;\n",
       "    }\n",
       "</style>\n",
       "<table border=\"1\" class=\"dataframe\">\n",
       "  <thead>\n",
       "    <tr style=\"text-align: right;\">\n",
       "      <th></th>\n",
       "      <th>user_id</th>\n",
       "      <th>distance</th>\n",
       "      <th>duration</th>\n",
       "      <th>date</th>\n",
       "      <th>num_month</th>\n",
       "    </tr>\n",
       "  </thead>\n",
       "  <tbody>\n",
       "    <tr>\n",
       "      <th>0</th>\n",
       "      <td>1</td>\n",
       "      <td>4409.919140</td>\n",
       "      <td>25.599769</td>\n",
       "      <td>2021-01-01</td>\n",
       "      <td>1</td>\n",
       "    </tr>\n",
       "    <tr>\n",
       "      <th>1</th>\n",
       "      <td>1</td>\n",
       "      <td>2617.592153</td>\n",
       "      <td>15.816871</td>\n",
       "      <td>2021-01-18</td>\n",
       "      <td>1</td>\n",
       "    </tr>\n",
       "    <tr>\n",
       "      <th>2</th>\n",
       "      <td>1</td>\n",
       "      <td>754.159807</td>\n",
       "      <td>6.232113</td>\n",
       "      <td>2021-04-20</td>\n",
       "      <td>4</td>\n",
       "    </tr>\n",
       "    <tr>\n",
       "      <th>3</th>\n",
       "      <td>1</td>\n",
       "      <td>2694.783254</td>\n",
       "      <td>18.511000</td>\n",
       "      <td>2021-08-11</td>\n",
       "      <td>8</td>\n",
       "    </tr>\n",
       "    <tr>\n",
       "      <th>4</th>\n",
       "      <td>1</td>\n",
       "      <td>4028.687306</td>\n",
       "      <td>26.265803</td>\n",
       "      <td>2021-08-28</td>\n",
       "      <td>8</td>\n",
       "    </tr>\n",
       "    <tr>\n",
       "      <th>5</th>\n",
       "      <td>1</td>\n",
       "      <td>2770.890808</td>\n",
       "      <td>16.650138</td>\n",
       "      <td>2021-10-09</td>\n",
       "      <td>10</td>\n",
       "    </tr>\n",
       "    <tr>\n",
       "      <th>6</th>\n",
       "      <td>1</td>\n",
       "      <td>3039.020292</td>\n",
       "      <td>14.927879</td>\n",
       "      <td>2021-10-19</td>\n",
       "      <td>10</td>\n",
       "    </tr>\n",
       "    <tr>\n",
       "      <th>7</th>\n",
       "      <td>1</td>\n",
       "      <td>2842.118050</td>\n",
       "      <td>23.117468</td>\n",
       "      <td>2021-11-06</td>\n",
       "      <td>11</td>\n",
       "    </tr>\n",
       "    <tr>\n",
       "      <th>8</th>\n",
       "      <td>1</td>\n",
       "      <td>3412.690668</td>\n",
       "      <td>15.238072</td>\n",
       "      <td>2021-11-14</td>\n",
       "      <td>11</td>\n",
       "    </tr>\n",
       "    <tr>\n",
       "      <th>9</th>\n",
       "      <td>1</td>\n",
       "      <td>748.690645</td>\n",
       "      <td>15.041884</td>\n",
       "      <td>2021-11-22</td>\n",
       "      <td>11</td>\n",
       "    </tr>\n",
       "  </tbody>\n",
       "</table>\n",
       "</div>"
      ],
      "text/plain": [
       "   user_id     distance   duration       date  num_month\n",
       "0        1  4409.919140  25.599769 2021-01-01          1\n",
       "1        1  2617.592153  15.816871 2021-01-18          1\n",
       "2        1   754.159807   6.232113 2021-04-20          4\n",
       "3        1  2694.783254  18.511000 2021-08-11          8\n",
       "4        1  4028.687306  26.265803 2021-08-28          8\n",
       "5        1  2770.890808  16.650138 2021-10-09         10\n",
       "6        1  3039.020292  14.927879 2021-10-19         10\n",
       "7        1  2842.118050  23.117468 2021-11-06         11\n",
       "8        1  3412.690668  15.238072 2021-11-14         11\n",
       "9        1   748.690645  15.041884 2021-11-22         11"
      ]
     },
     "execution_count": 22,
     "metadata": {},
     "output_type": "execute_result"
    }
   ],
   "source": [
    "rides.head(10)"
   ]
  },
  {
   "cell_type": "code",
   "execution_count": 23,
   "id": "dce6293b",
   "metadata": {},
   "outputs": [
    {
     "data": {
      "text/html": [
       "<div>\n",
       "<style scoped>\n",
       "    .dataframe tbody tr th:only-of-type {\n",
       "        vertical-align: middle;\n",
       "    }\n",
       "\n",
       "    .dataframe tbody tr th {\n",
       "        vertical-align: top;\n",
       "    }\n",
       "\n",
       "    .dataframe thead th {\n",
       "        text-align: right;\n",
       "    }\n",
       "</style>\n",
       "<table border=\"1\" class=\"dataframe\">\n",
       "  <thead>\n",
       "    <tr style=\"text-align: right;\">\n",
       "      <th></th>\n",
       "      <th>user_id</th>\n",
       "      <th>distance</th>\n",
       "      <th>duration</th>\n",
       "      <th>date</th>\n",
       "      <th>num_month</th>\n",
       "    </tr>\n",
       "  </thead>\n",
       "  <tbody>\n",
       "    <tr>\n",
       "      <th>0</th>\n",
       "      <td>1</td>\n",
       "      <td>4409.919140</td>\n",
       "      <td>25.599769</td>\n",
       "      <td>2021-01-01</td>\n",
       "      <td>1</td>\n",
       "    </tr>\n",
       "    <tr>\n",
       "      <th>1</th>\n",
       "      <td>1</td>\n",
       "      <td>2617.592153</td>\n",
       "      <td>15.816871</td>\n",
       "      <td>2021-01-18</td>\n",
       "      <td>1</td>\n",
       "    </tr>\n",
       "    <tr>\n",
       "      <th>2</th>\n",
       "      <td>1</td>\n",
       "      <td>754.159807</td>\n",
       "      <td>6.232113</td>\n",
       "      <td>2021-04-20</td>\n",
       "      <td>4</td>\n",
       "    </tr>\n",
       "    <tr>\n",
       "      <th>3</th>\n",
       "      <td>1</td>\n",
       "      <td>2694.783254</td>\n",
       "      <td>18.511000</td>\n",
       "      <td>2021-08-11</td>\n",
       "      <td>8</td>\n",
       "    </tr>\n",
       "    <tr>\n",
       "      <th>4</th>\n",
       "      <td>1</td>\n",
       "      <td>4028.687306</td>\n",
       "      <td>26.265803</td>\n",
       "      <td>2021-08-28</td>\n",
       "      <td>8</td>\n",
       "    </tr>\n",
       "    <tr>\n",
       "      <th>5</th>\n",
       "      <td>1</td>\n",
       "      <td>2770.890808</td>\n",
       "      <td>16.650138</td>\n",
       "      <td>2021-10-09</td>\n",
       "      <td>10</td>\n",
       "    </tr>\n",
       "    <tr>\n",
       "      <th>6</th>\n",
       "      <td>1</td>\n",
       "      <td>3039.020292</td>\n",
       "      <td>14.927879</td>\n",
       "      <td>2021-10-19</td>\n",
       "      <td>10</td>\n",
       "    </tr>\n",
       "    <tr>\n",
       "      <th>7</th>\n",
       "      <td>1</td>\n",
       "      <td>2842.118050</td>\n",
       "      <td>23.117468</td>\n",
       "      <td>2021-11-06</td>\n",
       "      <td>11</td>\n",
       "    </tr>\n",
       "    <tr>\n",
       "      <th>8</th>\n",
       "      <td>1</td>\n",
       "      <td>3412.690668</td>\n",
       "      <td>15.238072</td>\n",
       "      <td>2021-11-14</td>\n",
       "      <td>11</td>\n",
       "    </tr>\n",
       "    <tr>\n",
       "      <th>9</th>\n",
       "      <td>1</td>\n",
       "      <td>748.690645</td>\n",
       "      <td>15.041884</td>\n",
       "      <td>2021-11-22</td>\n",
       "      <td>11</td>\n",
       "    </tr>\n",
       "    <tr>\n",
       "      <th>10</th>\n",
       "      <td>1</td>\n",
       "      <td>4031.020195</td>\n",
       "      <td>17.674448</td>\n",
       "      <td>2021-12-14</td>\n",
       "      <td>12</td>\n",
       "    </tr>\n",
       "    <tr>\n",
       "      <th>11</th>\n",
       "      <td>1</td>\n",
       "      <td>2720.609748</td>\n",
       "      <td>9.529463</td>\n",
       "      <td>2021-12-22</td>\n",
       "      <td>12</td>\n",
       "    </tr>\n",
       "  </tbody>\n",
       "</table>\n",
       "</div>"
      ],
      "text/plain": [
       "    user_id     distance   duration       date  num_month\n",
       "0         1  4409.919140  25.599769 2021-01-01          1\n",
       "1         1  2617.592153  15.816871 2021-01-18          1\n",
       "2         1   754.159807   6.232113 2021-04-20          4\n",
       "3         1  2694.783254  18.511000 2021-08-11          8\n",
       "4         1  4028.687306  26.265803 2021-08-28          8\n",
       "5         1  2770.890808  16.650138 2021-10-09         10\n",
       "6         1  3039.020292  14.927879 2021-10-19         10\n",
       "7         1  2842.118050  23.117468 2021-11-06         11\n",
       "8         1  3412.690668  15.238072 2021-11-14         11\n",
       "9         1   748.690645  15.041884 2021-11-22         11\n",
       "10        1  4031.020195  17.674448 2021-12-14         12\n",
       "11        1  2720.609748   9.529463 2021-12-22         12"
      ]
     },
     "execution_count": 23,
     "metadata": {},
     "output_type": "execute_result"
    }
   ],
   "source": [
    "rides.query(\"user_id == 1\")"
   ]
  },
  {
   "cell_type": "code",
   "execution_count": 24,
   "id": "ac50a84c",
   "metadata": {},
   "outputs": [
    {
     "data": {
      "text/html": [
       "<div>\n",
       "<style scoped>\n",
       "    .dataframe tbody tr th:only-of-type {\n",
       "        vertical-align: middle;\n",
       "    }\n",
       "\n",
       "    .dataframe tbody tr th {\n",
       "        vertical-align: top;\n",
       "    }\n",
       "\n",
       "    .dataframe thead tr th {\n",
       "        text-align: left;\n",
       "    }\n",
       "\n",
       "    .dataframe thead tr:last-of-type th {\n",
       "        text-align: right;\n",
       "    }\n",
       "</style>\n",
       "<table border=\"1\" class=\"dataframe\">\n",
       "  <thead>\n",
       "    <tr>\n",
       "      <th></th>\n",
       "      <th colspan=\"3\" halign=\"left\">duration</th>\n",
       "    </tr>\n",
       "    <tr>\n",
       "      <th></th>\n",
       "      <th>mean</th>\n",
       "      <th>min</th>\n",
       "      <th>max</th>\n",
       "    </tr>\n",
       "    <tr>\n",
       "      <th>user_id</th>\n",
       "      <th></th>\n",
       "      <th></th>\n",
       "      <th></th>\n",
       "    </tr>\n",
       "  </thead>\n",
       "  <tbody>\n",
       "    <tr>\n",
       "      <th>1</th>\n",
       "      <td>17.050409</td>\n",
       "      <td>6.232113</td>\n",
       "      <td>26.265803</td>\n",
       "    </tr>\n",
       "    <tr>\n",
       "      <th>2</th>\n",
       "      <td>17.967662</td>\n",
       "      <td>6.914760</td>\n",
       "      <td>26.027432</td>\n",
       "    </tr>\n",
       "    <tr>\n",
       "      <th>3</th>\n",
       "      <td>19.432793</td>\n",
       "      <td>12.654443</td>\n",
       "      <td>25.848038</td>\n",
       "    </tr>\n",
       "    <tr>\n",
       "      <th>4</th>\n",
       "      <td>20.611684</td>\n",
       "      <td>11.811399</td>\n",
       "      <td>35.896929</td>\n",
       "    </tr>\n",
       "    <tr>\n",
       "      <th>5</th>\n",
       "      <td>15.824903</td>\n",
       "      <td>11.087710</td>\n",
       "      <td>21.680107</td>\n",
       "    </tr>\n",
       "    <tr>\n",
       "      <th>...</th>\n",
       "      <td>...</td>\n",
       "      <td>...</td>\n",
       "      <td>...</td>\n",
       "    </tr>\n",
       "    <tr>\n",
       "      <th>1530</th>\n",
       "      <td>17.198049</td>\n",
       "      <td>5.267070</td>\n",
       "      <td>31.466011</td>\n",
       "    </tr>\n",
       "    <tr>\n",
       "      <th>1531</th>\n",
       "      <td>17.747487</td>\n",
       "      <td>5.406654</td>\n",
       "      <td>30.428027</td>\n",
       "    </tr>\n",
       "    <tr>\n",
       "      <th>1532</th>\n",
       "      <td>16.320011</td>\n",
       "      <td>7.792490</td>\n",
       "      <td>32.013212</td>\n",
       "    </tr>\n",
       "    <tr>\n",
       "      <th>1533</th>\n",
       "      <td>18.506177</td>\n",
       "      <td>6.299996</td>\n",
       "      <td>27.989727</td>\n",
       "    </tr>\n",
       "    <tr>\n",
       "      <th>1534</th>\n",
       "      <td>17.679625</td>\n",
       "      <td>6.469074</td>\n",
       "      <td>26.916544</td>\n",
       "    </tr>\n",
       "  </tbody>\n",
       "</table>\n",
       "<p>1534 rows × 3 columns</p>\n",
       "</div>"
      ],
      "text/plain": [
       "          duration                      \n",
       "              mean        min        max\n",
       "user_id                                 \n",
       "1        17.050409   6.232113  26.265803\n",
       "2        17.967662   6.914760  26.027432\n",
       "3        19.432793  12.654443  25.848038\n",
       "4        20.611684  11.811399  35.896929\n",
       "5        15.824903  11.087710  21.680107\n",
       "...            ...        ...        ...\n",
       "1530     17.198049   5.267070  31.466011\n",
       "1531     17.747487   5.406654  30.428027\n",
       "1532     16.320011   7.792490  32.013212\n",
       "1533     18.506177   6.299996  27.989727\n",
       "1534     17.679625   6.469074  26.916544\n",
       "\n",
       "[1534 rows x 3 columns]"
      ]
     },
     "execution_count": 24,
     "metadata": {},
     "output_type": "execute_result"
    }
   ],
   "source": [
    "durations = rides.groupby('user_id').agg({'duration':['mean','min','max']})\n",
    "durations"
   ]
  },
  {
   "cell_type": "code",
   "execution_count": 25,
   "id": "e0d9076a",
   "metadata": {},
   "outputs": [
    {
     "data": {
      "text/html": [
       "<div>\n",
       "<style scoped>\n",
       "    .dataframe tbody tr th:only-of-type {\n",
       "        vertical-align: middle;\n",
       "    }\n",
       "\n",
       "    .dataframe tbody tr th {\n",
       "        vertical-align: top;\n",
       "    }\n",
       "\n",
       "    .dataframe thead tr th {\n",
       "        text-align: left;\n",
       "    }\n",
       "</style>\n",
       "<table border=\"1\" class=\"dataframe\">\n",
       "  <thead>\n",
       "    <tr>\n",
       "      <th></th>\n",
       "      <th colspan=\"3\" halign=\"left\">duration</th>\n",
       "    </tr>\n",
       "    <tr>\n",
       "      <th></th>\n",
       "      <th>mean</th>\n",
       "      <th>min</th>\n",
       "      <th>max</th>\n",
       "    </tr>\n",
       "  </thead>\n",
       "  <tbody>\n",
       "    <tr>\n",
       "      <th>count</th>\n",
       "      <td>1534.000000</td>\n",
       "      <td>1534.000000</td>\n",
       "      <td>1534.000000</td>\n",
       "    </tr>\n",
       "    <tr>\n",
       "      <th>mean</th>\n",
       "      <td>17.926440</td>\n",
       "      <td>8.859821</td>\n",
       "      <td>27.786594</td>\n",
       "    </tr>\n",
       "    <tr>\n",
       "      <th>std</th>\n",
       "      <td>1.971150</td>\n",
       "      <td>3.849273</td>\n",
       "      <td>3.877322</td>\n",
       "    </tr>\n",
       "    <tr>\n",
       "      <th>min</th>\n",
       "      <td>11.163431</td>\n",
       "      <td>0.500000</td>\n",
       "      <td>15.277024</td>\n",
       "    </tr>\n",
       "    <tr>\n",
       "      <th>25%</th>\n",
       "      <td>16.613880</td>\n",
       "      <td>6.348307</td>\n",
       "      <td>25.051467</td>\n",
       "    </tr>\n",
       "    <tr>\n",
       "      <th>50%</th>\n",
       "      <td>17.903937</td>\n",
       "      <td>9.292523</td>\n",
       "      <td>27.801024</td>\n",
       "    </tr>\n",
       "    <tr>\n",
       "      <th>75%</th>\n",
       "      <td>19.198581</td>\n",
       "      <td>11.557701</td>\n",
       "      <td>30.659016</td>\n",
       "    </tr>\n",
       "    <tr>\n",
       "      <th>max</th>\n",
       "      <td>26.136000</td>\n",
       "      <td>21.694555</td>\n",
       "      <td>40.823963</td>\n",
       "    </tr>\n",
       "  </tbody>\n",
       "</table>\n",
       "</div>"
      ],
      "text/plain": [
       "          duration                          \n",
       "              mean          min          max\n",
       "count  1534.000000  1534.000000  1534.000000\n",
       "mean     17.926440     8.859821    27.786594\n",
       "std       1.971150     3.849273     3.877322\n",
       "min      11.163431     0.500000    15.277024\n",
       "25%      16.613880     6.348307    25.051467\n",
       "50%      17.903937     9.292523    27.801024\n",
       "75%      19.198581    11.557701    30.659016\n",
       "max      26.136000    21.694555    40.823963"
      ]
     },
     "execution_count": 25,
     "metadata": {},
     "output_type": "execute_result"
    }
   ],
   "source": [
    "durations.describe()"
   ]
  },
  {
   "cell_type": "code",
   "execution_count": 26,
   "id": "4b64f2b7",
   "metadata": {},
   "outputs": [
    {
     "data": {
      "text/html": [
       "<div>\n",
       "<style scoped>\n",
       "    .dataframe tbody tr th:only-of-type {\n",
       "        vertical-align: middle;\n",
       "    }\n",
       "\n",
       "    .dataframe tbody tr th {\n",
       "        vertical-align: top;\n",
       "    }\n",
       "\n",
       "    .dataframe thead th {\n",
       "        text-align: right;\n",
       "    }\n",
       "</style>\n",
       "<table border=\"1\" class=\"dataframe\">\n",
       "  <thead>\n",
       "    <tr style=\"text-align: right;\">\n",
       "      <th></th>\n",
       "      <th>user_id</th>\n",
       "      <th>distance</th>\n",
       "      <th>duration</th>\n",
       "      <th>num_month</th>\n",
       "    </tr>\n",
       "  </thead>\n",
       "  <tbody>\n",
       "    <tr>\n",
       "      <th>count</th>\n",
       "      <td>18068.000000</td>\n",
       "      <td>18068.000000</td>\n",
       "      <td>18068.000000</td>\n",
       "      <td>18068.000000</td>\n",
       "    </tr>\n",
       "    <tr>\n",
       "      <th>mean</th>\n",
       "      <td>842.869936</td>\n",
       "      <td>3070.659976</td>\n",
       "      <td>17.805011</td>\n",
       "      <td>6.486772</td>\n",
       "    </tr>\n",
       "    <tr>\n",
       "      <th>std</th>\n",
       "      <td>434.734317</td>\n",
       "      <td>1116.831209</td>\n",
       "      <td>6.091051</td>\n",
       "      <td>3.437410</td>\n",
       "    </tr>\n",
       "    <tr>\n",
       "      <th>min</th>\n",
       "      <td>1.000000</td>\n",
       "      <td>0.855683</td>\n",
       "      <td>0.500000</td>\n",
       "      <td>1.000000</td>\n",
       "    </tr>\n",
       "    <tr>\n",
       "      <th>25%</th>\n",
       "      <td>487.000000</td>\n",
       "      <td>2543.226360</td>\n",
       "      <td>13.597563</td>\n",
       "      <td>4.000000</td>\n",
       "    </tr>\n",
       "    <tr>\n",
       "      <th>50%</th>\n",
       "      <td>889.000000</td>\n",
       "      <td>3133.609994</td>\n",
       "      <td>17.678395</td>\n",
       "      <td>6.000000</td>\n",
       "    </tr>\n",
       "    <tr>\n",
       "      <th>75%</th>\n",
       "      <td>1213.250000</td>\n",
       "      <td>3776.222735</td>\n",
       "      <td>21.724800</td>\n",
       "      <td>9.000000</td>\n",
       "    </tr>\n",
       "    <tr>\n",
       "      <th>max</th>\n",
       "      <td>1534.000000</td>\n",
       "      <td>7211.007745</td>\n",
       "      <td>40.823963</td>\n",
       "      <td>12.000000</td>\n",
       "    </tr>\n",
       "  </tbody>\n",
       "</table>\n",
       "</div>"
      ],
      "text/plain": [
       "            user_id      distance      duration     num_month\n",
       "count  18068.000000  18068.000000  18068.000000  18068.000000\n",
       "mean     842.869936   3070.659976     17.805011      6.486772\n",
       "std      434.734317   1116.831209      6.091051      3.437410\n",
       "min        1.000000      0.855683      0.500000      1.000000\n",
       "25%      487.000000   2543.226360     13.597563      4.000000\n",
       "50%      889.000000   3133.609994     17.678395      6.000000\n",
       "75%     1213.250000   3776.222735     21.724800      9.000000\n",
       "max     1534.000000   7211.007745     40.823963     12.000000"
      ]
     },
     "execution_count": 26,
     "metadata": {},
     "output_type": "execute_result"
    }
   ],
   "source": [
    "rides.describe()"
   ]
  },
  {
   "cell_type": "code",
   "execution_count": 27,
   "id": "43da95c5",
   "metadata": {},
   "outputs": [
    {
     "data": {
      "image/png": "[encoded data removed]",
      "text/plain": [
       "<Figure size 432x288 with 1 Axes>"
      ]
     },
     "metadata": {
      "needs_background": "light"
     },
     "output_type": "display_data"
    }
   ],
   "source": [
    "rides['duration'].hist();\n",
    "plt.xlabel('Минуты');\n",
    "plt.ylabel('Поезки');\n",
    "plt.title('Средняя продолжителность поездки');"
   ]
  },
  {
   "cell_type": "markdown",
   "id": "4843da61",
   "metadata": {},
   "source": [
    "Среднее продолжительность поздки 17 минут. У большей части пользователей поездка занимает от 13 до 21 минуты"
   ]
  },
  {
   "cell_type": "markdown",
   "id": "4ef51331",
   "metadata": {},
   "source": [
    "#### Шаг 4. Объединение данных"
   ]
  },
  {
   "cell_type": "markdown",
   "id": "0d5a334a",
   "metadata": {},
   "source": [
    "4.1 Объедините данные о пользователях, поездках и подписках в один датафрейм. Для этого воспользуйтесь методом merge()."
   ]
  },
  {
   "cell_type": "code",
   "execution_count": 28,
   "id": "c0664ff1",
   "metadata": {},
   "outputs": [
    {
     "data": {
      "text/plain": [
       "(18068, 5)"
      ]
     },
     "execution_count": 28,
     "metadata": {},
     "output_type": "execute_result"
    }
   ],
   "source": [
    "rides.shape"
   ]
  },
  {
   "cell_type": "code",
   "execution_count": 29,
   "id": "ab4e8ff6",
   "metadata": {},
   "outputs": [
    {
     "data": {
      "text/html": [
       "<div>\n",
       "<style scoped>\n",
       "    .dataframe tbody tr th:only-of-type {\n",
       "        vertical-align: middle;\n",
       "    }\n",
       "\n",
       "    .dataframe tbody tr th {\n",
       "        vertical-align: top;\n",
       "    }\n",
       "\n",
       "    .dataframe thead th {\n",
       "        text-align: right;\n",
       "    }\n",
       "</style>\n",
       "<table border=\"1\" class=\"dataframe\">\n",
       "  <thead>\n",
       "    <tr style=\"text-align: right;\">\n",
       "      <th></th>\n",
       "      <th>user_id</th>\n",
       "      <th>distance</th>\n",
       "      <th>duration</th>\n",
       "      <th>date</th>\n",
       "      <th>num_month</th>\n",
       "      <th>name</th>\n",
       "      <th>age</th>\n",
       "      <th>city</th>\n",
       "      <th>subscription_type</th>\n",
       "    </tr>\n",
       "  </thead>\n",
       "  <tbody>\n",
       "    <tr>\n",
       "      <th>0</th>\n",
       "      <td>1</td>\n",
       "      <td>4409.919140</td>\n",
       "      <td>25.599769</td>\n",
       "      <td>2021-01-01</td>\n",
       "      <td>1</td>\n",
       "      <td>Кира</td>\n",
       "      <td>22</td>\n",
       "      <td>Тюмень</td>\n",
       "      <td>ultra</td>\n",
       "    </tr>\n",
       "    <tr>\n",
       "      <th>1</th>\n",
       "      <td>1</td>\n",
       "      <td>2617.592153</td>\n",
       "      <td>15.816871</td>\n",
       "      <td>2021-01-18</td>\n",
       "      <td>1</td>\n",
       "      <td>Кира</td>\n",
       "      <td>22</td>\n",
       "      <td>Тюмень</td>\n",
       "      <td>ultra</td>\n",
       "    </tr>\n",
       "    <tr>\n",
       "      <th>2</th>\n",
       "      <td>1</td>\n",
       "      <td>754.159807</td>\n",
       "      <td>6.232113</td>\n",
       "      <td>2021-04-20</td>\n",
       "      <td>4</td>\n",
       "      <td>Кира</td>\n",
       "      <td>22</td>\n",
       "      <td>Тюмень</td>\n",
       "      <td>ultra</td>\n",
       "    </tr>\n",
       "    <tr>\n",
       "      <th>3</th>\n",
       "      <td>1</td>\n",
       "      <td>2694.783254</td>\n",
       "      <td>18.511000</td>\n",
       "      <td>2021-08-11</td>\n",
       "      <td>8</td>\n",
       "      <td>Кира</td>\n",
       "      <td>22</td>\n",
       "      <td>Тюмень</td>\n",
       "      <td>ultra</td>\n",
       "    </tr>\n",
       "    <tr>\n",
       "      <th>4</th>\n",
       "      <td>1</td>\n",
       "      <td>4028.687306</td>\n",
       "      <td>26.265803</td>\n",
       "      <td>2021-08-28</td>\n",
       "      <td>8</td>\n",
       "      <td>Кира</td>\n",
       "      <td>22</td>\n",
       "      <td>Тюмень</td>\n",
       "      <td>ultra</td>\n",
       "    </tr>\n",
       "    <tr>\n",
       "      <th>...</th>\n",
       "      <td>...</td>\n",
       "      <td>...</td>\n",
       "      <td>...</td>\n",
       "      <td>...</td>\n",
       "      <td>...</td>\n",
       "      <td>...</td>\n",
       "      <td>...</td>\n",
       "      <td>...</td>\n",
       "      <td>...</td>\n",
       "    </tr>\n",
       "    <tr>\n",
       "      <th>18063</th>\n",
       "      <td>1534</td>\n",
       "      <td>3781.098080</td>\n",
       "      <td>19.822962</td>\n",
       "      <td>2021-11-04</td>\n",
       "      <td>11</td>\n",
       "      <td>Альберт</td>\n",
       "      <td>25</td>\n",
       "      <td>Краснодар</td>\n",
       "      <td>free</td>\n",
       "    </tr>\n",
       "    <tr>\n",
       "      <th>18064</th>\n",
       "      <td>1534</td>\n",
       "      <td>2840.423057</td>\n",
       "      <td>21.409799</td>\n",
       "      <td>2021-11-16</td>\n",
       "      <td>11</td>\n",
       "      <td>Альберт</td>\n",
       "      <td>25</td>\n",
       "      <td>Краснодар</td>\n",
       "      <td>free</td>\n",
       "    </tr>\n",
       "    <tr>\n",
       "      <th>18065</th>\n",
       "      <td>1534</td>\n",
       "      <td>3826.185507</td>\n",
       "      <td>18.435051</td>\n",
       "      <td>2021-11-18</td>\n",
       "      <td>11</td>\n",
       "      <td>Альберт</td>\n",
       "      <td>25</td>\n",
       "      <td>Краснодар</td>\n",
       "      <td>free</td>\n",
       "    </tr>\n",
       "    <tr>\n",
       "      <th>18066</th>\n",
       "      <td>1534</td>\n",
       "      <td>2902.308661</td>\n",
       "      <td>16.674362</td>\n",
       "      <td>2021-11-27</td>\n",
       "      <td>11</td>\n",
       "      <td>Альберт</td>\n",
       "      <td>25</td>\n",
       "      <td>Краснодар</td>\n",
       "      <td>free</td>\n",
       "    </tr>\n",
       "    <tr>\n",
       "      <th>18067</th>\n",
       "      <td>1534</td>\n",
       "      <td>2371.711192</td>\n",
       "      <td>15.893917</td>\n",
       "      <td>2021-12-29</td>\n",
       "      <td>12</td>\n",
       "      <td>Альберт</td>\n",
       "      <td>25</td>\n",
       "      <td>Краснодар</td>\n",
       "      <td>free</td>\n",
       "    </tr>\n",
       "  </tbody>\n",
       "</table>\n",
       "<p>18068 rows × 9 columns</p>\n",
       "</div>"
      ],
      "text/plain": [
       "       user_id     distance   duration       date  num_month     name  age  \\\n",
       "0            1  4409.919140  25.599769 2021-01-01          1     Кира   22   \n",
       "1            1  2617.592153  15.816871 2021-01-18          1     Кира   22   \n",
       "2            1   754.159807   6.232113 2021-04-20          4     Кира   22   \n",
       "3            1  2694.783254  18.511000 2021-08-11          8     Кира   22   \n",
       "4            1  4028.687306  26.265803 2021-08-28          8     Кира   22   \n",
       "...        ...          ...        ...        ...        ...      ...  ...   \n",
       "18063     1534  3781.098080  19.822962 2021-11-04         11  Альберт   25   \n",
       "18064     1534  2840.423057  21.409799 2021-11-16         11  Альберт   25   \n",
       "18065     1534  3826.185507  18.435051 2021-11-18         11  Альберт   25   \n",
       "18066     1534  2902.308661  16.674362 2021-11-27         11  Альберт   25   \n",
       "18067     1534  2371.711192  15.893917 2021-12-29         12  Альберт   25   \n",
       "\n",
       "            city subscription_type  \n",
       "0         Тюмень             ultra  \n",
       "1         Тюмень             ultra  \n",
       "2         Тюмень             ultra  \n",
       "3         Тюмень             ultra  \n",
       "4         Тюмень             ultra  \n",
       "...          ...               ...  \n",
       "18063  Краснодар              free  \n",
       "18064  Краснодар              free  \n",
       "18065  Краснодар              free  \n",
       "18066  Краснодар              free  \n",
       "18067  Краснодар              free  \n",
       "\n",
       "[18068 rows x 9 columns]"
      ]
     },
     "execution_count": 29,
     "metadata": {},
     "output_type": "execute_result"
    }
   ],
   "source": [
    "rides_users = rides.merge(users, on='user_id', how='outer')\n",
    "rides_users"
   ]
  },
  {
   "cell_type": "code",
   "execution_count": 30,
   "id": "3977d0c6",
   "metadata": {},
   "outputs": [
    {
     "data": {
      "text/plain": [
       "user_id              0\n",
       "distance             0\n",
       "duration             0\n",
       "date                 0\n",
       "num_month            0\n",
       "name                 0\n",
       "age                  0\n",
       "city                 0\n",
       "subscription_type    0\n",
       "dtype: int64"
      ]
     },
     "execution_count": 30,
     "metadata": {},
     "output_type": "execute_result"
    }
   ],
   "source": [
    "rides_users.isna().sum()"
   ]
  },
  {
   "cell_type": "code",
   "execution_count": 31,
   "id": "0bfec376",
   "metadata": {},
   "outputs": [
    {
     "data": {
      "text/plain": [
       "(18068, 9)"
      ]
     },
     "execution_count": 31,
     "metadata": {},
     "output_type": "execute_result"
    }
   ],
   "source": [
    "rides_users.shape"
   ]
  },
  {
   "cell_type": "markdown",
   "id": "d28aa87a",
   "metadata": {},
   "source": [
    "4.2 Создайте ещё два датафрейма из датафрейма, созданного на этапе 4.1:"
   ]
  },
  {
   "cell_type": "markdown",
   "id": "cd6f0a1a",
   "metadata": {},
   "source": [
    "c данными о пользователях без подписки;"
   ]
  },
  {
   "cell_type": "code",
   "execution_count": 32,
   "id": "ca75a029",
   "metadata": {},
   "outputs": [
    {
     "data": {
      "text/html": [
       "<div>\n",
       "<style scoped>\n",
       "    .dataframe tbody tr th:only-of-type {\n",
       "        vertical-align: middle;\n",
       "    }\n",
       "\n",
       "    .dataframe tbody tr th {\n",
       "        vertical-align: top;\n",
       "    }\n",
       "\n",
       "    .dataframe thead th {\n",
       "        text-align: right;\n",
       "    }\n",
       "</style>\n",
       "<table border=\"1\" class=\"dataframe\">\n",
       "  <thead>\n",
       "    <tr style=\"text-align: right;\">\n",
       "      <th></th>\n",
       "      <th>user_id</th>\n",
       "      <th>distance</th>\n",
       "      <th>duration</th>\n",
       "      <th>date</th>\n",
       "      <th>num_month</th>\n",
       "      <th>name</th>\n",
       "      <th>age</th>\n",
       "      <th>city</th>\n",
       "      <th>subscription_type</th>\n",
       "    </tr>\n",
       "  </thead>\n",
       "  <tbody>\n",
       "    <tr>\n",
       "      <th>6500</th>\n",
       "      <td>700</td>\n",
       "      <td>2515.690719</td>\n",
       "      <td>14.944286</td>\n",
       "      <td>2021-01-02</td>\n",
       "      <td>1</td>\n",
       "      <td>Айдар</td>\n",
       "      <td>22</td>\n",
       "      <td>Омск</td>\n",
       "      <td>free</td>\n",
       "    </tr>\n",
       "    <tr>\n",
       "      <th>6501</th>\n",
       "      <td>700</td>\n",
       "      <td>846.932642</td>\n",
       "      <td>16.234663</td>\n",
       "      <td>2021-02-01</td>\n",
       "      <td>2</td>\n",
       "      <td>Айдар</td>\n",
       "      <td>22</td>\n",
       "      <td>Омск</td>\n",
       "      <td>free</td>\n",
       "    </tr>\n",
       "    <tr>\n",
       "      <th>6502</th>\n",
       "      <td>700</td>\n",
       "      <td>4004.434142</td>\n",
       "      <td>20.016628</td>\n",
       "      <td>2021-02-04</td>\n",
       "      <td>2</td>\n",
       "      <td>Айдар</td>\n",
       "      <td>22</td>\n",
       "      <td>Омск</td>\n",
       "      <td>free</td>\n",
       "    </tr>\n",
       "    <tr>\n",
       "      <th>6503</th>\n",
       "      <td>700</td>\n",
       "      <td>1205.911290</td>\n",
       "      <td>9.782872</td>\n",
       "      <td>2021-02-10</td>\n",
       "      <td>2</td>\n",
       "      <td>Айдар</td>\n",
       "      <td>22</td>\n",
       "      <td>Омск</td>\n",
       "      <td>free</td>\n",
       "    </tr>\n",
       "    <tr>\n",
       "      <th>6504</th>\n",
       "      <td>700</td>\n",
       "      <td>3047.379435</td>\n",
       "      <td>17.427673</td>\n",
       "      <td>2021-02-14</td>\n",
       "      <td>2</td>\n",
       "      <td>Айдар</td>\n",
       "      <td>22</td>\n",
       "      <td>Омск</td>\n",
       "      <td>free</td>\n",
       "    </tr>\n",
       "    <tr>\n",
       "      <th>...</th>\n",
       "      <td>...</td>\n",
       "      <td>...</td>\n",
       "      <td>...</td>\n",
       "      <td>...</td>\n",
       "      <td>...</td>\n",
       "      <td>...</td>\n",
       "      <td>...</td>\n",
       "      <td>...</td>\n",
       "      <td>...</td>\n",
       "    </tr>\n",
       "    <tr>\n",
       "      <th>18063</th>\n",
       "      <td>1534</td>\n",
       "      <td>3781.098080</td>\n",
       "      <td>19.822962</td>\n",
       "      <td>2021-11-04</td>\n",
       "      <td>11</td>\n",
       "      <td>Альберт</td>\n",
       "      <td>25</td>\n",
       "      <td>Краснодар</td>\n",
       "      <td>free</td>\n",
       "    </tr>\n",
       "    <tr>\n",
       "      <th>18064</th>\n",
       "      <td>1534</td>\n",
       "      <td>2840.423057</td>\n",
       "      <td>21.409799</td>\n",
       "      <td>2021-11-16</td>\n",
       "      <td>11</td>\n",
       "      <td>Альберт</td>\n",
       "      <td>25</td>\n",
       "      <td>Краснодар</td>\n",
       "      <td>free</td>\n",
       "    </tr>\n",
       "    <tr>\n",
       "      <th>18065</th>\n",
       "      <td>1534</td>\n",
       "      <td>3826.185507</td>\n",
       "      <td>18.435051</td>\n",
       "      <td>2021-11-18</td>\n",
       "      <td>11</td>\n",
       "      <td>Альберт</td>\n",
       "      <td>25</td>\n",
       "      <td>Краснодар</td>\n",
       "      <td>free</td>\n",
       "    </tr>\n",
       "    <tr>\n",
       "      <th>18066</th>\n",
       "      <td>1534</td>\n",
       "      <td>2902.308661</td>\n",
       "      <td>16.674362</td>\n",
       "      <td>2021-11-27</td>\n",
       "      <td>11</td>\n",
       "      <td>Альберт</td>\n",
       "      <td>25</td>\n",
       "      <td>Краснодар</td>\n",
       "      <td>free</td>\n",
       "    </tr>\n",
       "    <tr>\n",
       "      <th>18067</th>\n",
       "      <td>1534</td>\n",
       "      <td>2371.711192</td>\n",
       "      <td>15.893917</td>\n",
       "      <td>2021-12-29</td>\n",
       "      <td>12</td>\n",
       "      <td>Альберт</td>\n",
       "      <td>25</td>\n",
       "      <td>Краснодар</td>\n",
       "      <td>free</td>\n",
       "    </tr>\n",
       "  </tbody>\n",
       "</table>\n",
       "<p>11568 rows × 9 columns</p>\n",
       "</div>"
      ],
      "text/plain": [
       "       user_id     distance   duration       date  num_month     name  age  \\\n",
       "6500       700  2515.690719  14.944286 2021-01-02          1    Айдар   22   \n",
       "6501       700   846.932642  16.234663 2021-02-01          2    Айдар   22   \n",
       "6502       700  4004.434142  20.016628 2021-02-04          2    Айдар   22   \n",
       "6503       700  1205.911290   9.782872 2021-02-10          2    Айдар   22   \n",
       "6504       700  3047.379435  17.427673 2021-02-14          2    Айдар   22   \n",
       "...        ...          ...        ...        ...        ...      ...  ...   \n",
       "18063     1534  3781.098080  19.822962 2021-11-04         11  Альберт   25   \n",
       "18064     1534  2840.423057  21.409799 2021-11-16         11  Альберт   25   \n",
       "18065     1534  3826.185507  18.435051 2021-11-18         11  Альберт   25   \n",
       "18066     1534  2902.308661  16.674362 2021-11-27         11  Альберт   25   \n",
       "18067     1534  2371.711192  15.893917 2021-12-29         12  Альберт   25   \n",
       "\n",
       "            city subscription_type  \n",
       "6500        Омск              free  \n",
       "6501        Омск              free  \n",
       "6502        Омск              free  \n",
       "6503        Омск              free  \n",
       "6504        Омск              free  \n",
       "...          ...               ...  \n",
       "18063  Краснодар              free  \n",
       "18064  Краснодар              free  \n",
       "18065  Краснодар              free  \n",
       "18066  Краснодар              free  \n",
       "18067  Краснодар              free  \n",
       "\n",
       "[11568 rows x 9 columns]"
      ]
     },
     "execution_count": 32,
     "metadata": {},
     "output_type": "execute_result"
    }
   ],
   "source": [
    "free_users = rides_users.query(\"subscription_type == 'free'\")\n",
    "free_users"
   ]
  },
  {
   "cell_type": "markdown",
   "id": "5281fa42",
   "metadata": {},
   "source": [
    "с данными о пользователях с подпиской."
   ]
  },
  {
   "cell_type": "code",
   "execution_count": 33,
   "id": "59a4d8e2",
   "metadata": {},
   "outputs": [
    {
     "data": {
      "text/html": [
       "<div>\n",
       "<style scoped>\n",
       "    .dataframe tbody tr th:only-of-type {\n",
       "        vertical-align: middle;\n",
       "    }\n",
       "\n",
       "    .dataframe tbody tr th {\n",
       "        vertical-align: top;\n",
       "    }\n",
       "\n",
       "    .dataframe thead th {\n",
       "        text-align: right;\n",
       "    }\n",
       "</style>\n",
       "<table border=\"1\" class=\"dataframe\">\n",
       "  <thead>\n",
       "    <tr style=\"text-align: right;\">\n",
       "      <th></th>\n",
       "      <th>user_id</th>\n",
       "      <th>distance</th>\n",
       "      <th>duration</th>\n",
       "      <th>date</th>\n",
       "      <th>num_month</th>\n",
       "      <th>name</th>\n",
       "      <th>age</th>\n",
       "      <th>city</th>\n",
       "      <th>subscription_type</th>\n",
       "    </tr>\n",
       "  </thead>\n",
       "  <tbody>\n",
       "    <tr>\n",
       "      <th>0</th>\n",
       "      <td>1</td>\n",
       "      <td>4409.919140</td>\n",
       "      <td>25.599769</td>\n",
       "      <td>2021-01-01</td>\n",
       "      <td>1</td>\n",
       "      <td>Кира</td>\n",
       "      <td>22</td>\n",
       "      <td>Тюмень</td>\n",
       "      <td>ultra</td>\n",
       "    </tr>\n",
       "    <tr>\n",
       "      <th>1</th>\n",
       "      <td>1</td>\n",
       "      <td>2617.592153</td>\n",
       "      <td>15.816871</td>\n",
       "      <td>2021-01-18</td>\n",
       "      <td>1</td>\n",
       "      <td>Кира</td>\n",
       "      <td>22</td>\n",
       "      <td>Тюмень</td>\n",
       "      <td>ultra</td>\n",
       "    </tr>\n",
       "    <tr>\n",
       "      <th>2</th>\n",
       "      <td>1</td>\n",
       "      <td>754.159807</td>\n",
       "      <td>6.232113</td>\n",
       "      <td>2021-04-20</td>\n",
       "      <td>4</td>\n",
       "      <td>Кира</td>\n",
       "      <td>22</td>\n",
       "      <td>Тюмень</td>\n",
       "      <td>ultra</td>\n",
       "    </tr>\n",
       "    <tr>\n",
       "      <th>3</th>\n",
       "      <td>1</td>\n",
       "      <td>2694.783254</td>\n",
       "      <td>18.511000</td>\n",
       "      <td>2021-08-11</td>\n",
       "      <td>8</td>\n",
       "      <td>Кира</td>\n",
       "      <td>22</td>\n",
       "      <td>Тюмень</td>\n",
       "      <td>ultra</td>\n",
       "    </tr>\n",
       "    <tr>\n",
       "      <th>4</th>\n",
       "      <td>1</td>\n",
       "      <td>4028.687306</td>\n",
       "      <td>26.265803</td>\n",
       "      <td>2021-08-28</td>\n",
       "      <td>8</td>\n",
       "      <td>Кира</td>\n",
       "      <td>22</td>\n",
       "      <td>Тюмень</td>\n",
       "      <td>ultra</td>\n",
       "    </tr>\n",
       "    <tr>\n",
       "      <th>...</th>\n",
       "      <td>...</td>\n",
       "      <td>...</td>\n",
       "      <td>...</td>\n",
       "      <td>...</td>\n",
       "      <td>...</td>\n",
       "      <td>...</td>\n",
       "      <td>...</td>\n",
       "      <td>...</td>\n",
       "      <td>...</td>\n",
       "    </tr>\n",
       "    <tr>\n",
       "      <th>6495</th>\n",
       "      <td>699</td>\n",
       "      <td>3973.046497</td>\n",
       "      <td>24.671163</td>\n",
       "      <td>2021-08-29</td>\n",
       "      <td>8</td>\n",
       "      <td>Оксана</td>\n",
       "      <td>22</td>\n",
       "      <td>Москва</td>\n",
       "      <td>ultra</td>\n",
       "    </tr>\n",
       "    <tr>\n",
       "      <th>6496</th>\n",
       "      <td>699</td>\n",
       "      <td>3288.702563</td>\n",
       "      <td>15.892886</td>\n",
       "      <td>2021-09-12</td>\n",
       "      <td>9</td>\n",
       "      <td>Оксана</td>\n",
       "      <td>22</td>\n",
       "      <td>Москва</td>\n",
       "      <td>ultra</td>\n",
       "    </tr>\n",
       "    <tr>\n",
       "      <th>6497</th>\n",
       "      <td>699</td>\n",
       "      <td>3076.159348</td>\n",
       "      <td>14.389525</td>\n",
       "      <td>2021-09-26</td>\n",
       "      <td>9</td>\n",
       "      <td>Оксана</td>\n",
       "      <td>22</td>\n",
       "      <td>Москва</td>\n",
       "      <td>ultra</td>\n",
       "    </tr>\n",
       "    <tr>\n",
       "      <th>6498</th>\n",
       "      <td>699</td>\n",
       "      <td>4707.845501</td>\n",
       "      <td>15.839579</td>\n",
       "      <td>2021-10-17</td>\n",
       "      <td>10</td>\n",
       "      <td>Оксана</td>\n",
       "      <td>22</td>\n",
       "      <td>Москва</td>\n",
       "      <td>ultra</td>\n",
       "    </tr>\n",
       "    <tr>\n",
       "      <th>6499</th>\n",
       "      <td>699</td>\n",
       "      <td>3202.890770</td>\n",
       "      <td>25.217345</td>\n",
       "      <td>2021-12-03</td>\n",
       "      <td>12</td>\n",
       "      <td>Оксана</td>\n",
       "      <td>22</td>\n",
       "      <td>Москва</td>\n",
       "      <td>ultra</td>\n",
       "    </tr>\n",
       "  </tbody>\n",
       "</table>\n",
       "<p>6500 rows × 9 columns</p>\n",
       "</div>"
      ],
      "text/plain": [
       "      user_id     distance   duration       date  num_month    name  age  \\\n",
       "0           1  4409.919140  25.599769 2021-01-01          1    Кира   22   \n",
       "1           1  2617.592153  15.816871 2021-01-18          1    Кира   22   \n",
       "2           1   754.159807   6.232113 2021-04-20          4    Кира   22   \n",
       "3           1  2694.783254  18.511000 2021-08-11          8    Кира   22   \n",
       "4           1  4028.687306  26.265803 2021-08-28          8    Кира   22   \n",
       "...       ...          ...        ...        ...        ...     ...  ...   \n",
       "6495      699  3973.046497  24.671163 2021-08-29          8  Оксана   22   \n",
       "6496      699  3288.702563  15.892886 2021-09-12          9  Оксана   22   \n",
       "6497      699  3076.159348  14.389525 2021-09-26          9  Оксана   22   \n",
       "6498      699  4707.845501  15.839579 2021-10-17         10  Оксана   22   \n",
       "6499      699  3202.890770  25.217345 2021-12-03         12  Оксана   22   \n",
       "\n",
       "        city subscription_type  \n",
       "0     Тюмень             ultra  \n",
       "1     Тюмень             ultra  \n",
       "2     Тюмень             ultra  \n",
       "3     Тюмень             ultra  \n",
       "4     Тюмень             ultra  \n",
       "...      ...               ...  \n",
       "6495  Москва             ultra  \n",
       "6496  Москва             ultra  \n",
       "6497  Москва             ultra  \n",
       "6498  Москва             ultra  \n",
       "6499  Москва             ultra  \n",
       "\n",
       "[6500 rows x 9 columns]"
      ]
     },
     "execution_count": 33,
     "metadata": {},
     "output_type": "execute_result"
    }
   ],
   "source": [
    "ultra_users = rides_users.query(\"subscription_type == 'ultra'\")\n",
    "ultra_users"
   ]
  },
  {
   "cell_type": "markdown",
   "id": "1115a4a3",
   "metadata": {},
   "source": [
    "4.3 Визуализируйте информацию о расстоянии и времени поездок для пользователей обеих категорий."
   ]
  },
  {
   "cell_type": "code",
   "execution_count": 34,
   "id": "60d6a287",
   "metadata": {},
   "outputs": [
    {
     "data": {
      "text/plain": [
       "count    11568.000000\n",
       "mean      3045.495282\n",
       "std       1246.173806\n",
       "min          0.855683\n",
       "25%       2366.562689\n",
       "50%       3114.648465\n",
       "75%       3905.697894\n",
       "max       7211.007745\n",
       "Name: distance, dtype: float64"
      ]
     },
     "execution_count": 34,
     "metadata": {},
     "output_type": "execute_result"
    }
   ],
   "source": [
    "free_users['distance'].describe()"
   ]
  },
  {
   "cell_type": "code",
   "execution_count": 35,
   "id": "48f04b2e",
   "metadata": {},
   "outputs": [
    {
     "data": {
      "text/plain": [
       "count    11568.000000\n",
       "mean        17.390909\n",
       "std          6.326803\n",
       "min          0.500000\n",
       "25%         12.958437\n",
       "50%         17.326890\n",
       "75%         21.594071\n",
       "max         34.948498\n",
       "Name: duration, dtype: float64"
      ]
     },
     "execution_count": 35,
     "metadata": {},
     "output_type": "execute_result"
    }
   ],
   "source": [
    "free_users['duration'].describe()"
   ]
  },
  {
   "cell_type": "code",
   "execution_count": 36,
   "id": "bebc38b2",
   "metadata": {},
   "outputs": [
    {
     "data": {
      "text/plain": [
       "count    6500.000000\n",
       "mean     3115.445388\n",
       "std       836.895330\n",
       "min       244.210438\n",
       "25%      2785.444017\n",
       "50%      3148.637229\n",
       "75%      3560.574425\n",
       "max      5699.769662\n",
       "Name: distance, dtype: float64"
      ]
     },
     "execution_count": 36,
     "metadata": {},
     "output_type": "execute_result"
    }
   ],
   "source": [
    "ultra_users['distance'].describe()"
   ]
  },
  {
   "cell_type": "code",
   "execution_count": 37,
   "id": "3cbd8708",
   "metadata": {},
   "outputs": [
    {
     "data": {
      "text/plain": [
       "count    6500.000000\n",
       "mean       18.541985\n",
       "std         5.572048\n",
       "min         3.760353\n",
       "25%        14.524654\n",
       "50%        18.178153\n",
       "75%        21.884129\n",
       "max        40.823963\n",
       "Name: duration, dtype: float64"
      ]
     },
     "execution_count": 37,
     "metadata": {},
     "output_type": "execute_result"
    }
   ],
   "source": [
    "ultra_users['duration'].describe()"
   ]
  },
  {
   "cell_type": "code",
   "execution_count": 38,
   "id": "7613209a-f300-423e-8bad-d14d3bfc24e4",
   "metadata": {},
   "outputs": [
    {
     "data": {
      "text/plain": [
       "Text(0, 0.5, 'duration(min)')"
      ]
     },
     "execution_count": 38,
     "metadata": {},
     "output_type": "execute_result"
    },
    {
     "data": {
      "image/png": "[encoded data removed]",
      "text/plain": [
       "<Figure size 216x576 with 1 Axes>"
      ]
     },
     "metadata": {
      "needs_background": "light"
     },
     "output_type": "display_data"
    }
   ],
   "source": [
    "plt.figure(figsize=(3,8))\n",
    "sns.boxplot(y=\"duration\", data=free_users, orient='v');\n",
    "plt.title('box-plot of duration free');\n",
    "plt.ylabel('duration(min)')"
   ]
  },
  {
   "cell_type": "code",
   "execution_count": 39,
   "id": "6de2c034",
   "metadata": {},
   "outputs": [
    {
     "data": {
      "text/plain": [
       "Text(0, 0.5, 'duration(min)')"
      ]
     },
     "execution_count": 39,
     "metadata": {},
     "output_type": "execute_result"
    },
    {
     "data": {
      "image/png": "[encoded data removed]",
      "text/plain": [
       "<Figure size 216x576 with 1 Axes>"
      ]
     },
     "metadata": {
      "needs_background": "light"
     },
     "output_type": "display_data"
    }
   ],
   "source": [
    "plt.figure(figsize=(3,8))\n",
    "sns.boxplot(y=\"duration\", data=ultra_users,  orient='v');\n",
    "plt.title('box-plot of duration ultra');\n",
    "plt.ylabel('duration(min)')"
   ]
  },
  {
   "cell_type": "markdown",
   "id": "c5eb8ce0",
   "metadata": {},
   "source": [
    "Средняя продолжительность поездки для пользователей с подпиской и без около 18 минут.Минимальная позкдка для пользователей без подписки 0 минут, максимальная 34.  Минимальная позкдка для пользователей с подпиской 3 минуты, максимальная 40. Мы видим что пользователи с подпиской используют самокат дольше."
   ]
  },
  {
   "cell_type": "code",
   "execution_count": 40,
   "id": "e17c72de-551b-4826-acfb-0d690d51a8ed",
   "metadata": {},
   "outputs": [
    {
     "data": {
      "image/png": "[encoded data removed]",
      "text/plain": [
       "<Figure size 216x576 with 1 Axes>"
      ]
     },
     "metadata": {
      "needs_background": "light"
     },
     "output_type": "display_data"
    }
   ],
   "source": [
    "plt.figure(figsize=(3,8))\n",
    "sns.boxplot(y=\"distance\", data=free_users, orient='v');\n",
    "plt.title('box-plot of distance free');\n"
   ]
  },
  {
   "cell_type": "code",
   "execution_count": 41,
   "id": "cf6dbf6f-69af-4255-98c5-6bfa18ef7a98",
   "metadata": {},
   "outputs": [
    {
     "data": {
      "image/png": "[encoded data removed]",
      "text/plain": [
       "<Figure size 216x576 with 1 Axes>"
      ]
     },
     "metadata": {
      "needs_background": "light"
     },
     "output_type": "display_data"
    }
   ],
   "source": [
    "plt.figure(figsize=(3,8))\n",
    "sns.boxplot(y=\"distance\", data=ultra_users,  orient='v');\n",
    "plt.title('box-plot of distance ultra');"
   ]
  },
  {
   "cell_type": "markdown",
   "id": "f4e677d4",
   "metadata": {},
   "source": [
    "У пользователей без подписки максимальная дальность поездки больше, чем у пользователей с подпиской. А средний показатель примерно равен 3000 метрам."
   ]
  },
  {
   "cell_type": "markdown",
   "id": "402d620f",
   "metadata": {},
   "source": [
    "#### Шаг 5. Подсчёт выручки"
   ]
  },
  {
   "cell_type": "code",
   "execution_count": 42,
   "id": "8987d845-ef06-4f06-9f44-4806e6f1d93f",
   "metadata": {},
   "outputs": [],
   "source": [
    "data_users = users\n",
    "data_rides = rides\n",
    "data_subscription = subscriptions\n",
    "data_rides[\"date\"] = pd.to_datetime(data_rides[\"date\"] , format = \"%Y-%m-%d\")\n",
    "data_rides[\"month\"] = data_rides[\"date\"].apply(lambda x: x.month)\n",
    "data_users = data_users.drop_duplicates()\n",
    "data_users = data_users.reset_index(drop = True)\n",
    "data_all = data_rides.merge(data_users)\n",
    "data_all = data_all.merge(data_subscription)"
   ]
  },
  {
   "cell_type": "markdown",
   "id": "b4bac793",
   "metadata": {},
   "source": [
    "5.1 Создайте датафрейм с агрегированными данными о поездках на основе датафрейма с объединёнными данными из шага 4: найдите суммарное расстояние, количество поездок и суммарное время для каждого пользователя за каждый месяц."
   ]
  },
  {
   "cell_type": "code",
   "execution_count": 43,
   "id": "0b2c9f2d-3ed2-4ce0-9e10-16f3b060785e",
   "metadata": {},
   "outputs": [
    {
     "data": {
      "text/html": [
       "<div>\n",
       "<style scoped>\n",
       "    .dataframe tbody tr th:only-of-type {\n",
       "        vertical-align: middle;\n",
       "    }\n",
       "\n",
       "    .dataframe tbody tr th {\n",
       "        vertical-align: top;\n",
       "    }\n",
       "\n",
       "    .dataframe thead th {\n",
       "        text-align: right;\n",
       "    }\n",
       "</style>\n",
       "<table border=\"1\" class=\"dataframe\">\n",
       "  <thead>\n",
       "    <tr style=\"text-align: right;\">\n",
       "      <th></th>\n",
       "      <th>month</th>\n",
       "      <th>user_id</th>\n",
       "      <th>count</th>\n",
       "      <th>distance_sum</th>\n",
       "      <th>duration_sum</th>\n",
       "    </tr>\n",
       "  </thead>\n",
       "  <tbody>\n",
       "    <tr>\n",
       "      <th>0</th>\n",
       "      <td>1</td>\n",
       "      <td>1</td>\n",
       "      <td>2</td>\n",
       "      <td>7027.5</td>\n",
       "      <td>42.0</td>\n",
       "    </tr>\n",
       "    <tr>\n",
       "      <th>1</th>\n",
       "      <td>1</td>\n",
       "      <td>3</td>\n",
       "      <td>1</td>\n",
       "      <td>3061.8</td>\n",
       "      <td>13.0</td>\n",
       "    </tr>\n",
       "    <tr>\n",
       "      <th>2</th>\n",
       "      <td>1</td>\n",
       "      <td>5</td>\n",
       "      <td>1</td>\n",
       "      <td>3914.6</td>\n",
       "      <td>13.0</td>\n",
       "    </tr>\n",
       "    <tr>\n",
       "      <th>3</th>\n",
       "      <td>1</td>\n",
       "      <td>7</td>\n",
       "      <td>2</td>\n",
       "      <td>6478.1</td>\n",
       "      <td>28.0</td>\n",
       "    </tr>\n",
       "    <tr>\n",
       "      <th>4</th>\n",
       "      <td>1</td>\n",
       "      <td>12</td>\n",
       "      <td>1</td>\n",
       "      <td>3577.2</td>\n",
       "      <td>33.0</td>\n",
       "    </tr>\n",
       "    <tr>\n",
       "      <th>5</th>\n",
       "      <td>1</td>\n",
       "      <td>13</td>\n",
       "      <td>2</td>\n",
       "      <td>6688.0</td>\n",
       "      <td>42.0</td>\n",
       "    </tr>\n",
       "    <tr>\n",
       "      <th>6</th>\n",
       "      <td>1</td>\n",
       "      <td>14</td>\n",
       "      <td>2</td>\n",
       "      <td>7699.6</td>\n",
       "      <td>34.0</td>\n",
       "    </tr>\n",
       "    <tr>\n",
       "      <th>7</th>\n",
       "      <td>1</td>\n",
       "      <td>15</td>\n",
       "      <td>1</td>\n",
       "      <td>4187.6</td>\n",
       "      <td>39.0</td>\n",
       "    </tr>\n",
       "    <tr>\n",
       "      <th>8</th>\n",
       "      <td>1</td>\n",
       "      <td>20</td>\n",
       "      <td>1</td>\n",
       "      <td>3516.7</td>\n",
       "      <td>29.0</td>\n",
       "    </tr>\n",
       "    <tr>\n",
       "      <th>9</th>\n",
       "      <td>1</td>\n",
       "      <td>22</td>\n",
       "      <td>1</td>\n",
       "      <td>3058.7</td>\n",
       "      <td>13.0</td>\n",
       "    </tr>\n",
       "    <tr>\n",
       "      <th>10</th>\n",
       "      <td>1</td>\n",
       "      <td>25</td>\n",
       "      <td>1</td>\n",
       "      <td>3440.4</td>\n",
       "      <td>17.0</td>\n",
       "    </tr>\n",
       "    <tr>\n",
       "      <th>11</th>\n",
       "      <td>1</td>\n",
       "      <td>26</td>\n",
       "      <td>2</td>\n",
       "      <td>6546.0</td>\n",
       "      <td>27.0</td>\n",
       "    </tr>\n",
       "    <tr>\n",
       "      <th>12</th>\n",
       "      <td>1</td>\n",
       "      <td>30</td>\n",
       "      <td>2</td>\n",
       "      <td>7774.7</td>\n",
       "      <td>25.0</td>\n",
       "    </tr>\n",
       "    <tr>\n",
       "      <th>13</th>\n",
       "      <td>1</td>\n",
       "      <td>32</td>\n",
       "      <td>1</td>\n",
       "      <td>3735.0</td>\n",
       "      <td>25.0</td>\n",
       "    </tr>\n",
       "    <tr>\n",
       "      <th>14</th>\n",
       "      <td>1</td>\n",
       "      <td>35</td>\n",
       "      <td>3</td>\n",
       "      <td>9707.8</td>\n",
       "      <td>57.0</td>\n",
       "    </tr>\n",
       "    <tr>\n",
       "      <th>15</th>\n",
       "      <td>1</td>\n",
       "      <td>42</td>\n",
       "      <td>1</td>\n",
       "      <td>4329.8</td>\n",
       "      <td>23.0</td>\n",
       "    </tr>\n",
       "    <tr>\n",
       "      <th>16</th>\n",
       "      <td>1</td>\n",
       "      <td>43</td>\n",
       "      <td>2</td>\n",
       "      <td>6322.2</td>\n",
       "      <td>47.0</td>\n",
       "    </tr>\n",
       "    <tr>\n",
       "      <th>17</th>\n",
       "      <td>1</td>\n",
       "      <td>44</td>\n",
       "      <td>2</td>\n",
       "      <td>2944.4</td>\n",
       "      <td>19.0</td>\n",
       "    </tr>\n",
       "    <tr>\n",
       "      <th>18</th>\n",
       "      <td>1</td>\n",
       "      <td>45</td>\n",
       "      <td>2</td>\n",
       "      <td>3702.4</td>\n",
       "      <td>27.0</td>\n",
       "    </tr>\n",
       "    <tr>\n",
       "      <th>19</th>\n",
       "      <td>1</td>\n",
       "      <td>46</td>\n",
       "      <td>1</td>\n",
       "      <td>3242.1</td>\n",
       "      <td>20.0</td>\n",
       "    </tr>\n",
       "  </tbody>\n",
       "</table>\n",
       "</div>"
      ],
      "text/plain": [
       "    month  user_id  count  distance_sum  duration_sum\n",
       "0       1        1      2        7027.5          42.0\n",
       "1       1        3      1        3061.8          13.0\n",
       "2       1        5      1        3914.6          13.0\n",
       "3       1        7      2        6478.1          28.0\n",
       "4       1       12      1        3577.2          33.0\n",
       "5       1       13      2        6688.0          42.0\n",
       "6       1       14      2        7699.6          34.0\n",
       "7       1       15      1        4187.6          39.0\n",
       "8       1       20      1        3516.7          29.0\n",
       "9       1       22      1        3058.7          13.0\n",
       "10      1       25      1        3440.4          17.0\n",
       "11      1       26      2        6546.0          27.0\n",
       "12      1       30      2        7774.7          25.0\n",
       "13      1       32      1        3735.0          25.0\n",
       "14      1       35      3        9707.8          57.0\n",
       "15      1       42      1        4329.8          23.0\n",
       "16      1       43      2        6322.2          47.0\n",
       "17      1       44      2        2944.4          19.0\n",
       "18      1       45      2        3702.4          27.0\n",
       "19      1       46      1        3242.1          20.0"
      ]
     },
     "execution_count": 43,
     "metadata": {},
     "output_type": "execute_result"
    }
   ],
   "source": [
    "data_pivo = data_all.drop(['date'] , axis = 1).groupby([\"month\" , \"user_id\"]).agg([\"count\" , \"sum\"])[[\"distance\" , \"duration\"]][\"distance\"].reset_index()\n",
    "data_pivo.rename(columns = {'sum':'distance_sum'}, inplace = True )\n",
    "tmp = data_all.drop(['date'] , axis = 1).groupby([\"month\" , \"user_id\"]).agg([\"count\" , \"sum\"])[[\"distance\" , \"duration\"]][\"duration\"].reset_index()\n",
    "data_pivo = data_pivo.merge(tmp)\n",
    "data_pivo.rename(columns = {'sum':'duration_sum'}, inplace = True )\n",
    "data_pivo[\"distance_sum\"] = data_pivo[\"distance_sum\"].apply(lambda x: round(x , 1))\n",
    "data_pivo[\"duration_sum\"] = data_pivo[\"duration_sum\"].apply(lambda x: np.ceil(x))\n",
    "data_pivo.head(20)"
   ]
  },
  {
   "cell_type": "markdown",
   "id": "7e51e7e5",
   "metadata": {},
   "source": [
    "5.2 В этот же датафрейм добавьте столбец с помесячной выручкой, которую принёс каждый пользователь. Для этого обратитесь к информации об условиях оплаты для подписчиков и тех, у кого нет подписки"
   ]
  },
  {
   "cell_type": "code",
   "execution_count": 44,
   "id": "44cfb2e2-d037-43eb-b05c-9b063a3ce962",
   "metadata": {},
   "outputs": [
    {
     "data": {
      "text/html": [
       "<div>\n",
       "<style scoped>\n",
       "    .dataframe tbody tr th:only-of-type {\n",
       "        vertical-align: middle;\n",
       "    }\n",
       "\n",
       "    .dataframe tbody tr th {\n",
       "        vertical-align: top;\n",
       "    }\n",
       "\n",
       "    .dataframe thead th {\n",
       "        text-align: right;\n",
       "    }\n",
       "</style>\n",
       "<table border=\"1\" class=\"dataframe\">\n",
       "  <thead>\n",
       "    <tr style=\"text-align: right;\">\n",
       "      <th></th>\n",
       "      <th>month</th>\n",
       "      <th>user_id</th>\n",
       "      <th>count</th>\n",
       "      <th>distance_sum</th>\n",
       "      <th>duration_sum</th>\n",
       "      <th>subscription_type</th>\n",
       "    </tr>\n",
       "  </thead>\n",
       "  <tbody>\n",
       "    <tr>\n",
       "      <th>0</th>\n",
       "      <td>1</td>\n",
       "      <td>1</td>\n",
       "      <td>2</td>\n",
       "      <td>7027.5</td>\n",
       "      <td>42.0</td>\n",
       "      <td>ultra</td>\n",
       "    </tr>\n",
       "    <tr>\n",
       "      <th>1</th>\n",
       "      <td>4</td>\n",
       "      <td>1</td>\n",
       "      <td>1</td>\n",
       "      <td>754.2</td>\n",
       "      <td>7.0</td>\n",
       "      <td>ultra</td>\n",
       "    </tr>\n",
       "    <tr>\n",
       "      <th>2</th>\n",
       "      <td>8</td>\n",
       "      <td>1</td>\n",
       "      <td>2</td>\n",
       "      <td>6723.5</td>\n",
       "      <td>45.0</td>\n",
       "      <td>ultra</td>\n",
       "    </tr>\n",
       "    <tr>\n",
       "      <th>3</th>\n",
       "      <td>10</td>\n",
       "      <td>1</td>\n",
       "      <td>2</td>\n",
       "      <td>5809.9</td>\n",
       "      <td>32.0</td>\n",
       "      <td>ultra</td>\n",
       "    </tr>\n",
       "    <tr>\n",
       "      <th>4</th>\n",
       "      <td>11</td>\n",
       "      <td>1</td>\n",
       "      <td>3</td>\n",
       "      <td>7003.5</td>\n",
       "      <td>54.0</td>\n",
       "      <td>ultra</td>\n",
       "    </tr>\n",
       "    <tr>\n",
       "      <th>...</th>\n",
       "      <td>...</td>\n",
       "      <td>...</td>\n",
       "      <td>...</td>\n",
       "      <td>...</td>\n",
       "      <td>...</td>\n",
       "      <td>...</td>\n",
       "    </tr>\n",
       "    <tr>\n",
       "      <th>11326</th>\n",
       "      <td>11</td>\n",
       "      <td>1348</td>\n",
       "      <td>2</td>\n",
       "      <td>6622.8</td>\n",
       "      <td>38.0</td>\n",
       "      <td>free</td>\n",
       "    </tr>\n",
       "    <tr>\n",
       "      <th>11327</th>\n",
       "      <td>12</td>\n",
       "      <td>1348</td>\n",
       "      <td>2</td>\n",
       "      <td>6308.8</td>\n",
       "      <td>40.0</td>\n",
       "      <td>free</td>\n",
       "    </tr>\n",
       "    <tr>\n",
       "      <th>11328</th>\n",
       "      <td>9</td>\n",
       "      <td>636</td>\n",
       "      <td>1</td>\n",
       "      <td>1159.9</td>\n",
       "      <td>13.0</td>\n",
       "      <td>ultra</td>\n",
       "    </tr>\n",
       "    <tr>\n",
       "      <th>11329</th>\n",
       "      <td>10</td>\n",
       "      <td>636</td>\n",
       "      <td>3</td>\n",
       "      <td>8885.2</td>\n",
       "      <td>71.0</td>\n",
       "      <td>ultra</td>\n",
       "    </tr>\n",
       "    <tr>\n",
       "      <th>11330</th>\n",
       "      <td>11</td>\n",
       "      <td>636</td>\n",
       "      <td>1</td>\n",
       "      <td>3128.3</td>\n",
       "      <td>15.0</td>\n",
       "      <td>ultra</td>\n",
       "    </tr>\n",
       "  </tbody>\n",
       "</table>\n",
       "<p>11331 rows × 6 columns</p>\n",
       "</div>"
      ],
      "text/plain": [
       "       month  user_id  count  distance_sum  duration_sum subscription_type\n",
       "0          1        1      2        7027.5          42.0             ultra\n",
       "1          4        1      1         754.2           7.0             ultra\n",
       "2          8        1      2        6723.5          45.0             ultra\n",
       "3         10        1      2        5809.9          32.0             ultra\n",
       "4         11        1      3        7003.5          54.0             ultra\n",
       "...      ...      ...    ...           ...           ...               ...\n",
       "11326     11     1348      2        6622.8          38.0              free\n",
       "11327     12     1348      2        6308.8          40.0              free\n",
       "11328      9      636      1        1159.9          13.0             ultra\n",
       "11329     10      636      3        8885.2          71.0             ultra\n",
       "11330     11      636      1        3128.3          15.0             ultra\n",
       "\n",
       "[11331 rows x 6 columns]"
      ]
     },
     "execution_count": 44,
     "metadata": {},
     "output_type": "execute_result"
    }
   ],
   "source": [
    "data_pivo = data_pivo.merge(data_users)\n",
    "data_pivot = data_pivo[[\"month\" , \"user_id\" ,\"count\" , \"distance_sum\" , \"duration_sum\" , \"subscription_type\"]]\n",
    "data_pivot"
   ]
  },
  {
   "cell_type": "code",
   "execution_count": 45,
   "id": "1429af16-0f77-4f90-8010-1f047287ffa4",
   "metadata": {},
   "outputs": [
    {
     "data": {
      "text/plain": [
       "month                0\n",
       "user_id              0\n",
       "count                0\n",
       "distance_sum         0\n",
       "duration_sum         0\n",
       "subscription_type    0\n",
       "dtype: int64"
      ]
     },
     "execution_count": 45,
     "metadata": {},
     "output_type": "execute_result"
    }
   ],
   "source": [
    "data_pivot.isna().sum()"
   ]
  },
  {
   "cell_type": "code",
   "execution_count": 46,
   "id": "03101614-8082-4448-9860-113e522c9194",
   "metadata": {},
   "outputs": [
    {
     "data": {
      "text/html": [
       "<div>\n",
       "<style scoped>\n",
       "    .dataframe tbody tr th:only-of-type {\n",
       "        vertical-align: middle;\n",
       "    }\n",
       "\n",
       "    .dataframe tbody tr th {\n",
       "        vertical-align: top;\n",
       "    }\n",
       "\n",
       "    .dataframe thead th {\n",
       "        text-align: right;\n",
       "    }\n",
       "</style>\n",
       "<table border=\"1\" class=\"dataframe\">\n",
       "  <thead>\n",
       "    <tr style=\"text-align: right;\">\n",
       "      <th></th>\n",
       "      <th>month</th>\n",
       "      <th>user_id</th>\n",
       "      <th>count</th>\n",
       "      <th>distance_sum</th>\n",
       "      <th>duration_sum</th>\n",
       "      <th>subscription_type</th>\n",
       "      <th>money</th>\n",
       "    </tr>\n",
       "  </thead>\n",
       "  <tbody>\n",
       "    <tr>\n",
       "      <th>0</th>\n",
       "      <td>1</td>\n",
       "      <td>1</td>\n",
       "      <td>2</td>\n",
       "      <td>7027.5</td>\n",
       "      <td>42.0</td>\n",
       "      <td>ultra</td>\n",
       "      <td>451.0</td>\n",
       "    </tr>\n",
       "    <tr>\n",
       "      <th>1</th>\n",
       "      <td>4</td>\n",
       "      <td>1</td>\n",
       "      <td>1</td>\n",
       "      <td>754.2</td>\n",
       "      <td>7.0</td>\n",
       "      <td>ultra</td>\n",
       "      <td>241.0</td>\n",
       "    </tr>\n",
       "    <tr>\n",
       "      <th>2</th>\n",
       "      <td>8</td>\n",
       "      <td>1</td>\n",
       "      <td>2</td>\n",
       "      <td>6723.5</td>\n",
       "      <td>45.0</td>\n",
       "      <td>ultra</td>\n",
       "      <td>469.0</td>\n",
       "    </tr>\n",
       "    <tr>\n",
       "      <th>3</th>\n",
       "      <td>10</td>\n",
       "      <td>1</td>\n",
       "      <td>2</td>\n",
       "      <td>5809.9</td>\n",
       "      <td>32.0</td>\n",
       "      <td>ultra</td>\n",
       "      <td>391.0</td>\n",
       "    </tr>\n",
       "    <tr>\n",
       "      <th>4</th>\n",
       "      <td>11</td>\n",
       "      <td>1</td>\n",
       "      <td>3</td>\n",
       "      <td>7003.5</td>\n",
       "      <td>54.0</td>\n",
       "      <td>ultra</td>\n",
       "      <td>523.0</td>\n",
       "    </tr>\n",
       "    <tr>\n",
       "      <th>...</th>\n",
       "      <td>...</td>\n",
       "      <td>...</td>\n",
       "      <td>...</td>\n",
       "      <td>...</td>\n",
       "      <td>...</td>\n",
       "      <td>...</td>\n",
       "      <td>...</td>\n",
       "    </tr>\n",
       "    <tr>\n",
       "      <th>11326</th>\n",
       "      <td>11</td>\n",
       "      <td>1348</td>\n",
       "      <td>2</td>\n",
       "      <td>6622.8</td>\n",
       "      <td>38.0</td>\n",
       "      <td>free</td>\n",
       "      <td>404.0</td>\n",
       "    </tr>\n",
       "    <tr>\n",
       "      <th>11327</th>\n",
       "      <td>12</td>\n",
       "      <td>1348</td>\n",
       "      <td>2</td>\n",
       "      <td>6308.8</td>\n",
       "      <td>40.0</td>\n",
       "      <td>free</td>\n",
       "      <td>420.0</td>\n",
       "    </tr>\n",
       "    <tr>\n",
       "      <th>11328</th>\n",
       "      <td>9</td>\n",
       "      <td>636</td>\n",
       "      <td>1</td>\n",
       "      <td>1159.9</td>\n",
       "      <td>13.0</td>\n",
       "      <td>ultra</td>\n",
       "      <td>277.0</td>\n",
       "    </tr>\n",
       "    <tr>\n",
       "      <th>11329</th>\n",
       "      <td>10</td>\n",
       "      <td>636</td>\n",
       "      <td>3</td>\n",
       "      <td>8885.2</td>\n",
       "      <td>71.0</td>\n",
       "      <td>ultra</td>\n",
       "      <td>625.0</td>\n",
       "    </tr>\n",
       "    <tr>\n",
       "      <th>11330</th>\n",
       "      <td>11</td>\n",
       "      <td>636</td>\n",
       "      <td>1</td>\n",
       "      <td>3128.3</td>\n",
       "      <td>15.0</td>\n",
       "      <td>ultra</td>\n",
       "      <td>289.0</td>\n",
       "    </tr>\n",
       "  </tbody>\n",
       "</table>\n",
       "<p>11331 rows × 7 columns</p>\n",
       "</div>"
      ],
      "text/plain": [
       "       month  user_id  count  distance_sum  duration_sum subscription_type  \\\n",
       "0          1        1      2        7027.5          42.0             ultra   \n",
       "1          4        1      1         754.2           7.0             ultra   \n",
       "2          8        1      2        6723.5          45.0             ultra   \n",
       "3         10        1      2        5809.9          32.0             ultra   \n",
       "4         11        1      3        7003.5          54.0             ultra   \n",
       "...      ...      ...    ...           ...           ...               ...   \n",
       "11326     11     1348      2        6622.8          38.0              free   \n",
       "11327     12     1348      2        6308.8          40.0              free   \n",
       "11328      9      636      1        1159.9          13.0             ultra   \n",
       "11329     10      636      3        8885.2          71.0             ultra   \n",
       "11330     11      636      1        3128.3          15.0             ultra   \n",
       "\n",
       "       money  \n",
       "0      451.0  \n",
       "1      241.0  \n",
       "2      469.0  \n",
       "3      391.0  \n",
       "4      523.0  \n",
       "...      ...  \n",
       "11326  404.0  \n",
       "11327  420.0  \n",
       "11328  277.0  \n",
       "11329  625.0  \n",
       "11330  289.0  \n",
       "\n",
       "[11331 rows x 7 columns]"
      ]
     },
     "execution_count": 46,
     "metadata": {},
     "output_type": "execute_result"
    }
   ],
   "source": [
    "def salary(items):\n",
    "    res = 0\n",
    "    if items[\"subscription_type\"] == \"free\":\n",
    "        res += 50 * items[\"count\"]\n",
    "        res += 8 * items[\"duration_sum\"]\n",
    "        return res\n",
    "    if items[\"subscription_type\"] == \"ultra\":\n",
    "        res += 199\n",
    "        res += 6 * items[\"duration_sum\"]\n",
    "        return res \n",
    "\n",
    "    \n",
    "\n",
    "\n",
    "data_pivot = data_pivot.copy()  \n",
    "data_pivot.loc[:, \"money\"] = data_pivot.apply(salary, axis=1)\n",
    "\n",
    "data_pivot"
   ]
  },
  {
   "cell_type": "markdown",
   "id": "41545ac0",
   "metadata": {},
   "source": [
    "#### Шаг 6. Проверка гипотез"
   ]
  },
  {
   "cell_type": "markdown",
   "id": "a8e79469",
   "metadata": {},
   "source": [
    "6.1 Важно понять, тратят ли пользователи с подпиской больше времени на поездки? Если да, то пользователи с подпиской могут быть «выгоднее» для компании. Проверьте гипотезу. Используйте исходные данные о продолжительности каждой сессии — отдельно для подписчиков и тех, у кого нет подписки."
   ]
  },
  {
   "cell_type": "markdown",
   "id": "7a08a82a-2886-4114-833d-3aa778cb571e",
   "metadata": {},
   "source": [
    "Обозначим настоящую среднюю времени на поездки пользователей с подпиской как μ1, пользователей без подписки как μ2 тогда<br>\n",
    "Но: μ1 = μ2\n",
    "<br>\n",
    "H1: μ1 > μ2\n",
    "<br>\n",
    "alpha = 0.05"
   ]
  },
  {
   "cell_type": "code",
   "execution_count": 47,
   "id": "4486d428",
   "metadata": {},
   "outputs": [
    {
     "name": "stdout",
     "output_type": "stream",
     "text": [
      "p-value 1.2804098316645618e-34\n",
      "Принимаем альтернативную гипотезу\n"
     ]
    }
   ],
   "source": [
    "test_ultra = ultra_users['duration']\n",
    "test_free = free_users['duration']\n",
    "\n",
    "\n",
    "alpha = 0.05\n",
    "\n",
    "results = st.ttest_ind(test_ultra, test_free, alternative = 'greater')\n",
    "\n",
    "print('p-value', results.pvalue)\n",
    "\n",
    "if (results.pvalue < alpha):\n",
    "    print(\"Принимаем альтернативную гипотезу\")\n",
    "else:\n",
    "    print(\"Опровергнуть нулевую гипотезу нельзя\")"
   ]
  },
  {
   "cell_type": "markdown",
   "id": "54d66e95-3147-4d03-a134-ef347a16d3ef",
   "metadata": {},
   "source": [
    "**Выгоднее**"
   ]
  },
  {
   "cell_type": "markdown",
   "id": "681b4c03",
   "metadata": {},
   "source": [
    "6.2 Расстояние одной поездки в \n",
    "3130\n",
    "3130 метров — оптимальное с точки зрения износа самоката. Можно ли сказать, что среднее расстояние, которое проезжают пользователи с подпиской за одну поездку, не превышает \n",
    "3130\n",
    "3130 метров? Проверьте гипотезу и сделайте выводы."
   ]
  },
  {
   "cell_type": "markdown",
   "id": "41a96c1f-edaa-4879-894b-31b0bdff5353",
   "metadata": {},
   "source": [
    "Обозначим настоящую среднее расстояние за 1 поездку пользователей с подпиской как μ,  тогда<br>\n",
    "Но: μ1 = 3130\n",
    "<br>\n",
    "H1: μ1 > 3130\n",
    "<br>\n",
    "alpha = 0.05"
   ]
  },
  {
   "cell_type": "code",
   "execution_count": 48,
   "id": "add3cef4",
   "metadata": {},
   "outputs": [
    {
     "name": "stdout",
     "output_type": "stream",
     "text": [
      "p-value 0.9195368847849785\n",
      "Опровергнуть нулевую гипотезу нельзя\n"
     ]
    }
   ],
   "source": [
    "distance_hypothesis = 3130\n",
    "\n",
    "results = st.ttest_1samp(rides_users[rides_users['subscription_type'] == 'ultra']['distance'], distance_hypothesis, alternative='greater')\n",
    "\n",
    "print('p-value', results.pvalue)\n",
    "\n",
    "if results.pvalue < alpha:\n",
    "    print(\"Принимаем альтернативную гипотезу\")\n",
    "else:\n",
    "    print(\"Опровергнуть нулевую гипотезу нельзя\")"
   ]
  },
  {
   "cell_type": "markdown",
   "id": "45bdf505",
   "metadata": {},
   "source": [
    "6.3 Проверьте гипотезу о том, будет ли помесячная выручка от пользователей с подпиской по месяцам выше, чем выручка от пользователей без подписки. Сделайте вывод."
   ]
  },
  {
   "cell_type": "markdown",
   "id": "aa306faa-701e-4729-9e74-84fa8e0921ed",
   "metadata": {},
   "source": [
    "Обозначим настоящую среднюю выручку за месяц от пользователей с подпиской как μ1, пользователей без подписки как μ2 тогда<br>\n",
    "Но: μ1 = μ2 \n",
    "<br>\n",
    "H1: μ1 > μ2\n",
    "<br>\n",
    "alpha = 0.05"
   ]
  },
  {
   "cell_type": "code",
   "execution_count": 49,
   "id": "0f1d0010",
   "metadata": {},
   "outputs": [
    {
     "name": "stdout",
     "output_type": "stream",
     "text": [
      "p-value 2.8130926188487286e-35\n",
      "Принимаем альтернативную гипотезу\n"
     ]
    }
   ],
   "source": [
    "ultra = data_pivot.query('subscription_type == \"ultra\"')['money']\n",
    "free = data_pivot.query('subscription_type == \"free\"')['money']\n",
    "\n",
    "alpha = 0.05\n",
    "\n",
    "results = st.ttest_ind(ultra, free, alternative= 'greater')\n",
    "\n",
    "print('p-value', results.pvalue)\n",
    "\n",
    "if (results.pvalue < alpha ):\n",
    "    print(\"Принимаем альтернативную гипотезу\")\n",
    "else:\n",
    "    print(\"Опровергнуть нулевую гипотезу нельзя\")"
   ]
  },
  {
   "cell_type": "markdown",
   "id": "e40f2cb3",
   "metadata": {},
   "source": [
    "6.4 Представьте такую ситуацию: техническая команда сервиса обновила сервера, с которыми взаимодействует мобильное приложение. Она надеется, что из-за этого количество обращений в техподдержку значимо снизилось. Некоторый файл содержит для каждого пользователя данные о количестве обращений до обновления и после него. Какой тест вам понадобился бы для проверки этой гипотезы?"
   ]
  },
  {
   "cell_type": "markdown",
   "id": "4b3f480b-dda6-43aa-98ab-3b630a580ed6",
   "metadata": {},
   "source": [
    "Для проверки данной гипотизы используем Т-тест\n",
    "\n",
    "Н0 - Средне количесство обращений осталось прежним\n",
    "\n",
    "н1 - Среднее количество обращени снизилось"
   ]
  },
  {
   "cell_type": "markdown",
   "id": "61213c5e",
   "metadata": {},
   "source": [
    "#### Шаг 7. Вывод"
   ]
  },
  {
   "cell_type": "markdown",
   "id": "346854b3-5b42-4c5b-9597-1e84c9e88221",
   "metadata": {},
   "source": [
    "   Загрузили 3 датафрейма: с пользователями, информацией о поездках, информацией о подписках.\n",
    "<br>\n",
    "<br>\n",
    "    Далее проверили данные на пропуски, их не оказалось ни в одной таблице. Поменяли тип данных у столбца \"date\" из датафрейма data_riders к типу date. Также добавили столбец month с номером месяца. И удалили полные дубликаты строк из датафрейма с пользователями.\n",
    "<br>\n",
    "<br>\n",
    "Провели исследовательский анализ данных:\n",
    "<br>\n",
    "    Выявили, что количество пользователей по городам примерно одинаково, нет анамальных значений. Больше всего пользователей в Пятигорске - 219. Меньше всего пользователей в Москве - 168.\n",
    "Пользователей, использующих бесплатную подписку больше - 835 человек, это примерно 54% от общего числа пользователей. На платной подписке 699 пользователей, это примерно 46%.\n",
    "Больше всего пользователей в возрасте от 20 до 30 лет\n",
    "В основном пользователи проезжают от 2500 до 3800 метров.\n",
    "Чаще всего длительность поездки состовляет 12 - 22 минуты.\n",
    "<br>\n",
    "<br>\n",
    "    Объединили данные о пользователях, поездках и подписках в один датафрейм. На основе объединенного датафрейма создали еще 2 датафрейма:\n",
    "<br>\n",
    "Для пользователей с ultra подпиской\n",
    "<br>\n",
    "Для пользователей с free подпиской\n",
    "<br>\n",
    "Дальше визуализировали информацию о расстоянии и времени поездки для пользоватей каждого тарифа.\n",
    "<br>\n",
    "\n",
    "   Для бесплатного тарифа время поездки составляет от 10 до 30 минут, и проезжают от 2 до 5 км, есть пользователи, которые проехали даже 6, 6.5 км.\n",
    "Платный тариф. В основном время укладывается в промежуток от 15 до 25 минут. Пик расстояния приходится на 3км.\n",
    "Нашли суммарное расстояние, количество поездок и суммарное время для каждого пользователя за каждый месяц - вывели все данные в отдельный датафрейм data_pivot. Добавили в датафрейм data_pivot столбец с помесячной выручкой \"money\".\n",
    "<br>\n",
    "<br>\n",
    "Проверили гипотезы:\n",
    "<br>\n",
    "Пользователи с подпиской тратят больше времени на поездки, чем пользователи на бесплатном тарифе\n",
    "Принимаем альтернативную гипотезу\n",
    "<br>\n",
    "Среднее расстояние, которое проезжают пользователи с подпиской за одну поездку, около 3130\n",
    "Не получилось отвергнуть нулевую гипотезу о равенстве среднего дистанций\n",
    "<br>\n",
    "Помесячная выручка от пользователей с подпиской по месяцам выше, чем выручка от пользователей без подписки.\n",
    "Принимаем альтернативную гипотезу"
   ]
  }
 ],
 "metadata": {
  "ExecuteTimeLog": [
   {
    "duration": 1424,
    "start_time": "2024-07-10T10:02:01.091Z"
   },
   {
    "duration": 71,
    "start_time": "2024-07-10T10:02:02.806Z"
   },
   {
    "duration": 11,
    "start_time": "2024-07-10T10:02:03.406Z"
   },
   {
    "duration": 28,
    "start_time": "2024-07-10T10:02:13.019Z"
   },
   {
    "duration": 13,
    "start_time": "2024-07-10T10:02:13.586Z"
   },
   {
    "duration": 9,
    "start_time": "2024-07-10T10:25:14.612Z"
   },
   {
    "duration": 103,
    "start_time": "2024-07-10T10:28:00.454Z"
   },
   {
    "duration": 14,
    "start_time": "2024-07-10T10:28:10.038Z"
   },
   {
    "duration": 9,
    "start_time": "2024-07-10T10:31:17.340Z"
   },
   {
    "duration": 4,
    "start_time": "2024-07-10T10:32:26.167Z"
   },
   {
    "duration": 460,
    "start_time": "2024-07-10T10:33:08.575Z"
   },
   {
    "duration": 3,
    "start_time": "2024-07-10T10:33:27.636Z"
   },
   {
    "duration": 424,
    "start_time": "2024-07-10T10:33:29.922Z"
   },
   {
    "duration": 4,
    "start_time": "2024-07-10T10:35:44.175Z"
   },
   {
    "duration": 397,
    "start_time": "2024-07-10T10:35:45.137Z"
   },
   {
    "duration": 3,
    "start_time": "2024-07-10T10:36:48.985Z"
   },
   {
    "duration": 255,
    "start_time": "2024-07-10T10:36:49.853Z"
   },
   {
    "duration": 16,
    "start_time": "2024-07-10T12:03:30.442Z"
   },
   {
    "duration": 1349,
    "start_time": "2024-07-10T12:03:37.247Z"
   },
   {
    "duration": 165,
    "start_time": "2024-07-10T12:03:38.598Z"
   },
   {
    "duration": 4,
    "start_time": "2024-07-10T12:03:38.765Z"
   },
   {
    "duration": 341,
    "start_time": "2024-07-10T12:03:38.772Z"
   },
   {
    "duration": 75,
    "start_time": "2024-07-10T12:03:39.115Z"
   },
   {
    "duration": 0,
    "start_time": "2024-07-10T12:03:39.192Z"
   },
   {
    "duration": 3,
    "start_time": "2024-07-10T12:03:54.291Z"
   },
   {
    "duration": 7,
    "start_time": "2024-07-10T12:03:55.612Z"
   },
   {
    "duration": 385,
    "start_time": "2024-07-10T12:23:00.223Z"
   },
   {
    "duration": 257,
    "start_time": "2024-07-10T12:23:17.829Z"
   },
   {
    "duration": 6,
    "start_time": "2024-07-10T12:32:21.315Z"
   },
   {
    "duration": 7,
    "start_time": "2024-07-10T12:32:35.314Z"
   },
   {
    "duration": 265,
    "start_time": "2024-07-10T12:33:29.088Z"
   },
   {
    "duration": 75,
    "start_time": "2024-07-10T12:34:14.425Z"
   },
   {
    "duration": 66,
    "start_time": "2024-07-10T12:34:25.636Z"
   },
   {
    "duration": 67,
    "start_time": "2024-07-10T12:34:31.724Z"
   },
   {
    "duration": 65,
    "start_time": "2024-07-10T12:34:40.783Z"
   },
   {
    "duration": 404,
    "start_time": "2024-07-10T12:37:07.652Z"
   },
   {
    "duration": 9,
    "start_time": "2024-07-10T12:37:09.805Z"
   },
   {
    "duration": 261,
    "start_time": "2024-07-10T12:38:10.142Z"
   },
   {
    "duration": 361,
    "start_time": "2024-07-10T12:39:51.780Z"
   },
   {
    "duration": 341,
    "start_time": "2024-07-10T12:50:16.076Z"
   },
   {
    "duration": 261,
    "start_time": "2024-07-10T13:09:59.161Z"
   },
   {
    "duration": 1211,
    "start_time": "2024-07-10T13:11:21.560Z"
   },
   {
    "duration": 67,
    "start_time": "2024-07-10T13:11:22.774Z"
   },
   {
    "duration": 3,
    "start_time": "2024-07-10T13:11:22.843Z"
   },
   {
    "duration": 295,
    "start_time": "2024-07-10T13:11:22.848Z"
   },
   {
    "duration": 352,
    "start_time": "2024-07-10T13:11:23.146Z"
   },
   {
    "duration": 376,
    "start_time": "2024-07-10T13:11:23.500Z"
   },
   {
    "duration": 7,
    "start_time": "2024-07-10T13:12:06.124Z"
   },
   {
    "duration": 13,
    "start_time": "2024-07-10T13:15:59.471Z"
   },
   {
    "duration": 1158,
    "start_time": "2024-07-10T13:16:11.577Z"
   },
   {
    "duration": 1147,
    "start_time": "2024-07-10T13:16:32.526Z"
   },
   {
    "duration": 1251,
    "start_time": "2024-07-10T13:16:43.323Z"
   },
   {
    "duration": 70,
    "start_time": "2024-07-10T13:16:44.576Z"
   },
   {
    "duration": 3,
    "start_time": "2024-07-10T13:16:44.648Z"
   },
   {
    "duration": 313,
    "start_time": "2024-07-10T13:16:44.652Z"
   },
   {
    "duration": 382,
    "start_time": "2024-07-10T13:16:44.967Z"
   },
   {
    "duration": 15,
    "start_time": "2024-07-10T13:16:45.350Z"
   },
   {
    "duration": 1133,
    "start_time": "2024-07-10T13:16:45.367Z"
   },
   {
    "duration": 1229,
    "start_time": "2024-07-10T13:17:17.547Z"
   },
   {
    "duration": 6,
    "start_time": "2024-07-10T13:17:25.960Z"
   },
   {
    "duration": 8,
    "start_time": "2024-07-10T13:21:50.116Z"
   },
   {
    "duration": 20,
    "start_time": "2024-07-10T13:22:08.267Z"
   },
   {
    "duration": 15,
    "start_time": "2024-07-10T13:28:48.099Z"
   },
   {
    "duration": 10,
    "start_time": "2024-07-10T13:31:51.373Z"
   },
   {
    "duration": 14,
    "start_time": "2024-07-10T14:22:00.947Z"
   },
   {
    "duration": 10,
    "start_time": "2024-07-10T14:22:13.637Z"
   },
   {
    "duration": 10,
    "start_time": "2024-07-10T14:53:29.590Z"
   },
   {
    "duration": 8,
    "start_time": "2024-07-10T14:53:52.077Z"
   },
   {
    "duration": 6,
    "start_time": "2024-07-10T14:54:06.226Z"
   },
   {
    "duration": 14,
    "start_time": "2024-07-10T14:56:35.051Z"
   },
   {
    "duration": 7,
    "start_time": "2024-07-10T14:56:46.925Z"
   },
   {
    "duration": 5,
    "start_time": "2024-07-10T14:58:26.104Z"
   },
   {
    "duration": 13,
    "start_time": "2024-07-10T14:58:39.066Z"
   },
   {
    "duration": 1212,
    "start_time": "2024-07-10T14:59:13.753Z"
   },
   {
    "duration": 67,
    "start_time": "2024-07-10T14:59:14.967Z"
   },
   {
    "duration": 3,
    "start_time": "2024-07-10T14:59:15.036Z"
   },
   {
    "duration": 349,
    "start_time": "2024-07-10T14:59:15.040Z"
   },
   {
    "duration": 349,
    "start_time": "2024-07-10T14:59:15.391Z"
   },
   {
    "duration": 7,
    "start_time": "2024-07-10T14:59:15.742Z"
   },
   {
    "duration": 82,
    "start_time": "2024-07-10T14:59:15.751Z"
   },
   {
    "duration": 10,
    "start_time": "2024-07-10T14:59:15.835Z"
   },
   {
    "duration": 5,
    "start_time": "2024-07-10T14:59:15.847Z"
   },
   {
    "duration": 13,
    "start_time": "2024-07-10T14:59:15.854Z"
   },
   {
    "duration": 8,
    "start_time": "2024-07-10T15:00:01.598Z"
   },
   {
    "duration": 12,
    "start_time": "2024-07-10T15:00:21.838Z"
   },
   {
    "duration": 52,
    "start_time": "2024-07-12T06:26:34.111Z"
   },
   {
    "duration": 1461,
    "start_time": "2024-07-12T06:26:44.910Z"
   },
   {
    "duration": 214,
    "start_time": "2024-07-12T06:26:46.373Z"
   },
   {
    "duration": 5,
    "start_time": "2024-07-12T06:26:46.589Z"
   },
   {
    "duration": 367,
    "start_time": "2024-07-12T06:26:46.596Z"
   },
   {
    "duration": 374,
    "start_time": "2024-07-12T06:26:46.965Z"
   },
   {
    "duration": 7,
    "start_time": "2024-07-12T06:26:47.340Z"
   },
   {
    "duration": 9,
    "start_time": "2024-07-12T06:26:47.349Z"
   },
   {
    "duration": 17,
    "start_time": "2024-07-12T06:26:47.360Z"
   },
   {
    "duration": 4,
    "start_time": "2024-07-12T06:26:47.379Z"
   },
   {
    "duration": 68,
    "start_time": "2024-07-12T06:26:47.384Z"
   },
   {
    "duration": 35,
    "start_time": "2024-07-12T06:26:47.453Z"
   },
   {
    "duration": 107,
    "start_time": "2024-07-12T06:27:13.738Z"
   },
   {
    "duration": 11,
    "start_time": "2024-07-12T06:27:48.662Z"
   },
   {
    "duration": 7,
    "start_time": "2024-07-12T06:31:31.543Z"
   },
   {
    "duration": 7,
    "start_time": "2024-07-12T06:31:49.400Z"
   },
   {
    "duration": 5,
    "start_time": "2024-07-12T06:32:05.765Z"
   },
   {
    "duration": 10,
    "start_time": "2024-07-12T06:45:13.830Z"
   },
   {
    "duration": 9,
    "start_time": "2024-07-12T06:45:18.766Z"
   },
   {
    "duration": 13,
    "start_time": "2024-07-12T06:46:16.363Z"
   },
   {
    "duration": 11,
    "start_time": "2024-07-12T06:46:33.553Z"
   },
   {
    "duration": 12,
    "start_time": "2024-07-12T06:46:51.438Z"
   },
   {
    "duration": 5,
    "start_time": "2024-07-12T06:47:20.252Z"
   },
   {
    "duration": 8,
    "start_time": "2024-07-12T06:48:02.249Z"
   },
   {
    "duration": 8,
    "start_time": "2024-07-12T06:48:08.138Z"
   },
   {
    "duration": 10,
    "start_time": "2024-07-12T06:48:32.975Z"
   },
   {
    "duration": 12,
    "start_time": "2024-07-12T06:48:43.439Z"
   },
   {
    "duration": 10,
    "start_time": "2024-07-12T06:48:49.266Z"
   },
   {
    "duration": 6,
    "start_time": "2024-07-12T06:49:05.497Z"
   },
   {
    "duration": 17,
    "start_time": "2024-07-12T06:50:10.731Z"
   },
   {
    "duration": 19,
    "start_time": "2024-07-12T06:51:06.887Z"
   },
   {
    "duration": 18,
    "start_time": "2024-07-12T06:51:16.858Z"
   },
   {
    "duration": 1138,
    "start_time": "2024-07-12T06:51:54.826Z"
   },
   {
    "duration": 78,
    "start_time": "2024-07-12T06:51:55.967Z"
   },
   {
    "duration": 7,
    "start_time": "2024-07-12T06:51:56.047Z"
   },
   {
    "duration": 301,
    "start_time": "2024-07-12T06:51:56.057Z"
   },
   {
    "duration": 354,
    "start_time": "2024-07-12T06:51:56.360Z"
   },
   {
    "duration": 7,
    "start_time": "2024-07-12T06:51:56.715Z"
   },
   {
    "duration": 12,
    "start_time": "2024-07-12T06:51:56.723Z"
   },
   {
    "duration": 9,
    "start_time": "2024-07-12T06:51:56.736Z"
   },
   {
    "duration": 4,
    "start_time": "2024-07-12T06:51:56.747Z"
   },
   {
    "duration": 12,
    "start_time": "2024-07-12T06:51:56.753Z"
   },
   {
    "duration": 4,
    "start_time": "2024-07-12T06:51:56.767Z"
   },
   {
    "duration": 38,
    "start_time": "2024-07-12T06:51:56.772Z"
   },
   {
    "duration": 125,
    "start_time": "2024-07-12T06:51:56.811Z"
   },
   {
    "duration": 0,
    "start_time": "2024-07-12T06:51:56.938Z"
   },
   {
    "duration": 22,
    "start_time": "2024-07-12T06:53:44.834Z"
   },
   {
    "duration": 22,
    "start_time": "2024-07-12T06:53:51.346Z"
   },
   {
    "duration": 12,
    "start_time": "2024-07-12T06:54:27.084Z"
   },
   {
    "duration": 9,
    "start_time": "2024-07-12T06:54:44.201Z"
   },
   {
    "duration": 7,
    "start_time": "2024-07-12T06:56:16.054Z"
   },
   {
    "duration": 11,
    "start_time": "2024-07-12T06:56:21.066Z"
   },
   {
    "duration": 7,
    "start_time": "2024-07-12T06:57:18.299Z"
   },
   {
    "duration": 12,
    "start_time": "2024-07-12T06:57:26.274Z"
   },
   {
    "duration": 74,
    "start_time": "2024-07-12T06:59:25.702Z"
   },
   {
    "duration": 9,
    "start_time": "2024-07-12T06:59:30.419Z"
   },
   {
    "duration": 14,
    "start_time": "2024-07-12T06:59:37.624Z"
   },
   {
    "duration": 73,
    "start_time": "2024-07-12T07:00:44.432Z"
   },
   {
    "duration": 84,
    "start_time": "2024-07-12T08:11:24.693Z"
   },
   {
    "duration": 15,
    "start_time": "2024-07-12T08:11:30.506Z"
   },
   {
    "duration": 5,
    "start_time": "2024-07-12T08:17:17.123Z"
   },
   {
    "duration": 6,
    "start_time": "2024-07-12T08:18:07.648Z"
   },
   {
    "duration": 13,
    "start_time": "2024-07-12T08:18:28.744Z"
   },
   {
    "duration": 6,
    "start_time": "2024-07-12T08:18:35.415Z"
   },
   {
    "duration": 7,
    "start_time": "2024-07-12T08:18:52.822Z"
   },
   {
    "duration": 9,
    "start_time": "2024-07-12T08:21:53.375Z"
   },
   {
    "duration": 116,
    "start_time": "2024-07-12T08:22:57.688Z"
   },
   {
    "duration": 112,
    "start_time": "2024-07-12T08:25:13.657Z"
   },
   {
    "duration": 151,
    "start_time": "2024-07-12T08:25:51.151Z"
   },
   {
    "duration": 152,
    "start_time": "2024-07-12T08:26:46.052Z"
   },
   {
    "duration": 182,
    "start_time": "2024-07-12T08:30:33.540Z"
   },
   {
    "duration": 156,
    "start_time": "2024-07-12T08:31:12.370Z"
   },
   {
    "duration": 11,
    "start_time": "2024-07-12T08:44:10.771Z"
   },
   {
    "duration": 5,
    "start_time": "2024-07-12T08:44:15.249Z"
   },
   {
    "duration": 67,
    "start_time": "2024-07-12T08:48:28.348Z"
   },
   {
    "duration": 19,
    "start_time": "2024-07-12T08:55:46.286Z"
   },
   {
    "duration": 17,
    "start_time": "2024-07-12T08:56:44.672Z"
   },
   {
    "duration": 11,
    "start_time": "2024-07-12T08:57:25.956Z"
   },
   {
    "duration": 10,
    "start_time": "2024-07-12T08:57:47.374Z"
   },
   {
    "duration": 14,
    "start_time": "2024-07-12T08:57:49.884Z"
   },
   {
    "duration": 5,
    "start_time": "2024-07-12T08:58:37.812Z"
   },
   {
    "duration": 18,
    "start_time": "2024-07-12T08:58:47.863Z"
   },
   {
    "duration": 9,
    "start_time": "2024-07-12T09:05:40.639Z"
   },
   {
    "duration": 5,
    "start_time": "2024-07-12T09:05:41.135Z"
   },
   {
    "duration": 10,
    "start_time": "2024-07-12T09:08:44.363Z"
   },
   {
    "duration": 9,
    "start_time": "2024-07-12T09:09:20.991Z"
   },
   {
    "duration": 1158,
    "start_time": "2024-07-12T09:09:26.626Z"
   },
   {
    "duration": 67,
    "start_time": "2024-07-12T09:09:27.786Z"
   },
   {
    "duration": 3,
    "start_time": "2024-07-12T09:09:27.855Z"
   },
   {
    "duration": 279,
    "start_time": "2024-07-12T09:09:27.859Z"
   },
   {
    "duration": 354,
    "start_time": "2024-07-12T09:09:28.140Z"
   },
   {
    "duration": 13,
    "start_time": "2024-07-12T09:09:28.496Z"
   },
   {
    "duration": 25,
    "start_time": "2024-07-12T09:09:28.511Z"
   },
   {
    "duration": 14,
    "start_time": "2024-07-12T09:09:28.538Z"
   },
   {
    "duration": 6,
    "start_time": "2024-07-12T09:09:28.553Z"
   },
   {
    "duration": 14,
    "start_time": "2024-07-12T09:09:28.560Z"
   },
   {
    "duration": 6,
    "start_time": "2024-07-12T09:09:28.575Z"
   },
   {
    "duration": 55,
    "start_time": "2024-07-12T09:09:28.583Z"
   },
   {
    "duration": 29,
    "start_time": "2024-07-12T09:09:28.640Z"
   },
   {
    "duration": 161,
    "start_time": "2024-07-12T09:09:28.671Z"
   },
   {
    "duration": 4,
    "start_time": "2024-07-12T09:09:28.834Z"
   },
   {
    "duration": 36,
    "start_time": "2024-07-12T09:09:28.839Z"
   },
   {
    "duration": 17,
    "start_time": "2024-07-12T09:09:28.876Z"
   },
   {
    "duration": 114,
    "start_time": "2024-07-12T09:09:28.895Z"
   },
   {
    "duration": 12,
    "start_time": "2024-07-12T09:09:45.390Z"
   },
   {
    "duration": 12,
    "start_time": "2024-07-12T09:10:45.032Z"
   },
   {
    "duration": 15,
    "start_time": "2024-07-12T09:11:28.862Z"
   },
   {
    "duration": 9,
    "start_time": "2024-07-12T09:11:37.751Z"
   },
   {
    "duration": 16,
    "start_time": "2024-07-12T09:12:00.823Z"
   },
   {
    "duration": 13,
    "start_time": "2024-07-12T09:12:47.099Z"
   },
   {
    "duration": 9,
    "start_time": "2024-07-12T09:12:58.854Z"
   },
   {
    "duration": 12,
    "start_time": "2024-07-12T09:13:29.171Z"
   },
   {
    "duration": 48,
    "start_time": "2024-07-15T14:01:27.919Z"
   },
   {
    "duration": 6,
    "start_time": "2024-07-15T14:01:40.118Z"
   },
   {
    "duration": 1297,
    "start_time": "2024-07-15T14:02:02.677Z"
   },
   {
    "duration": 345,
    "start_time": "2024-07-15T14:02:03.976Z"
   },
   {
    "duration": 2,
    "start_time": "2024-07-15T14:02:04.323Z"
   },
   {
    "duration": 258,
    "start_time": "2024-07-15T14:02:04.327Z"
   },
   {
    "duration": 311,
    "start_time": "2024-07-15T14:02:04.587Z"
   },
   {
    "duration": 7,
    "start_time": "2024-07-15T14:02:04.899Z"
   },
   {
    "duration": 11,
    "start_time": "2024-07-15T14:02:04.907Z"
   },
   {
    "duration": 9,
    "start_time": "2024-07-15T14:02:04.919Z"
   },
   {
    "duration": 8,
    "start_time": "2024-07-15T14:02:04.929Z"
   },
   {
    "duration": 12,
    "start_time": "2024-07-15T14:02:04.939Z"
   },
   {
    "duration": 4,
    "start_time": "2024-07-15T14:02:04.952Z"
   },
   {
    "duration": 29,
    "start_time": "2024-07-15T14:02:04.958Z"
   },
   {
    "duration": 14,
    "start_time": "2024-07-15T14:02:04.988Z"
   },
   {
    "duration": 164,
    "start_time": "2024-07-15T14:02:05.003Z"
   },
   {
    "duration": 4,
    "start_time": "2024-07-15T14:02:05.168Z"
   },
   {
    "duration": 17,
    "start_time": "2024-07-15T14:02:05.174Z"
   },
   {
    "duration": 6,
    "start_time": "2024-07-15T14:02:05.192Z"
   },
   {
    "duration": 16,
    "start_time": "2024-07-15T14:02:05.199Z"
   },
   {
    "duration": 19,
    "start_time": "2024-07-15T14:02:05.216Z"
   },
   {
    "duration": 115,
    "start_time": "2024-07-15T14:02:05.236Z"
   },
   {
    "duration": 52,
    "start_time": "2024-07-15T14:04:17.928Z"
   },
   {
    "duration": 5,
    "start_time": "2024-07-15T14:06:49.794Z"
   },
   {
    "duration": 11,
    "start_time": "2024-07-15T14:06:58.834Z"
   },
   {
    "duration": 9,
    "start_time": "2024-07-15T14:07:10.347Z"
   },
   {
    "duration": 9,
    "start_time": "2024-07-15T14:07:28.664Z"
   },
   {
    "duration": 509,
    "start_time": "2024-07-15T14:12:56.478Z"
   },
   {
    "duration": 529,
    "start_time": "2024-07-15T14:13:25.686Z"
   },
   {
    "duration": 466,
    "start_time": "2024-07-15T14:13:35.081Z"
   },
   {
    "duration": 471,
    "start_time": "2024-07-15T14:13:45.233Z"
   },
   {
    "duration": 292,
    "start_time": "2024-07-15T14:13:51.407Z"
   },
   {
    "duration": 457,
    "start_time": "2024-07-15T14:14:56.433Z"
   },
   {
    "duration": 187,
    "start_time": "2024-07-15T14:15:33.864Z"
   },
   {
    "duration": 548,
    "start_time": "2024-07-15T14:17:08.056Z"
   },
   {
    "duration": 125,
    "start_time": "2024-07-15T14:23:49.639Z"
   },
   {
    "duration": 8,
    "start_time": "2024-07-15T14:28:50.062Z"
   },
   {
    "duration": 19,
    "start_time": "2024-07-15T14:29:07.636Z"
   },
   {
    "duration": 8,
    "start_time": "2024-07-15T14:31:20.327Z"
   },
   {
    "duration": 15,
    "start_time": "2024-07-15T14:31:28.359Z"
   },
   {
    "duration": 16,
    "start_time": "2024-07-15T14:32:16.735Z"
   },
   {
    "duration": 15,
    "start_time": "2024-07-15T14:32:23.885Z"
   },
   {
    "duration": 6,
    "start_time": "2024-07-15T14:32:40.571Z"
   },
   {
    "duration": 440,
    "start_time": "2024-07-15T14:32:48.688Z"
   },
   {
    "duration": 15,
    "start_time": "2024-07-15T14:32:54.579Z"
   },
   {
    "duration": 146,
    "start_time": "2024-07-15T14:34:30.716Z"
   },
   {
    "duration": 165,
    "start_time": "2024-07-15T14:35:00.865Z"
   },
   {
    "duration": 169,
    "start_time": "2024-07-15T14:35:47.064Z"
   },
   {
    "duration": 162,
    "start_time": "2024-07-15T14:36:31.395Z"
   },
   {
    "duration": 240,
    "start_time": "2024-07-15T14:36:41.987Z"
   },
   {
    "duration": 118,
    "start_time": "2024-07-15T14:36:52.251Z"
   },
   {
    "duration": 119,
    "start_time": "2024-07-15T14:36:59.941Z"
   },
   {
    "duration": 122,
    "start_time": "2024-07-15T14:38:12.622Z"
   },
   {
    "duration": 50,
    "start_time": "2024-07-16T11:54:00.879Z"
   },
   {
    "duration": 1265,
    "start_time": "2024-07-16T11:54:06.341Z"
   },
   {
    "duration": 268,
    "start_time": "2024-07-16T11:54:07.608Z"
   },
   {
    "duration": 3,
    "start_time": "2024-07-16T11:54:07.878Z"
   },
   {
    "duration": 223,
    "start_time": "2024-07-16T11:54:07.883Z"
   },
   {
    "duration": 282,
    "start_time": "2024-07-16T11:54:08.109Z"
   },
   {
    "duration": 7,
    "start_time": "2024-07-16T11:54:08.393Z"
   },
   {
    "duration": 35,
    "start_time": "2024-07-16T11:54:08.401Z"
   },
   {
    "duration": 20,
    "start_time": "2024-07-16T11:54:08.438Z"
   },
   {
    "duration": 14,
    "start_time": "2024-07-16T11:54:08.460Z"
   },
   {
    "duration": 12,
    "start_time": "2024-07-16T11:54:08.475Z"
   },
   {
    "duration": 4,
    "start_time": "2024-07-16T11:54:08.488Z"
   },
   {
    "duration": 12,
    "start_time": "2024-07-16T11:54:08.493Z"
   },
   {
    "duration": 17,
    "start_time": "2024-07-16T11:54:08.506Z"
   },
   {
    "duration": 135,
    "start_time": "2024-07-16T11:54:08.526Z"
   },
   {
    "duration": 9,
    "start_time": "2024-07-16T11:54:08.662Z"
   },
   {
    "duration": 93,
    "start_time": "2024-07-16T11:54:08.672Z"
   },
   {
    "duration": 6,
    "start_time": "2024-07-16T11:54:08.767Z"
   },
   {
    "duration": 5,
    "start_time": "2024-07-16T12:01:24.206Z"
   },
   {
    "duration": 9,
    "start_time": "2024-07-16T12:01:30.754Z"
   },
   {
    "duration": 173,
    "start_time": "2024-07-16T12:02:10.317Z"
   },
   {
    "duration": 131,
    "start_time": "2024-07-16T12:03:34.726Z"
   },
   {
    "duration": 154,
    "start_time": "2024-07-16T12:06:33.420Z"
   },
   {
    "duration": 124,
    "start_time": "2024-07-16T12:07:58.894Z"
   },
   {
    "duration": 79,
    "start_time": "2024-07-16T12:08:06.693Z"
   },
   {
    "duration": 111,
    "start_time": "2024-07-16T12:08:25.073Z"
   },
   {
    "duration": 120,
    "start_time": "2024-07-16T12:08:51.745Z"
   },
   {
    "duration": 133,
    "start_time": "2024-07-16T12:09:44.680Z"
   },
   {
    "duration": 7,
    "start_time": "2024-07-16T12:13:49.930Z"
   },
   {
    "duration": 8,
    "start_time": "2024-07-16T12:14:58.078Z"
   },
   {
    "duration": 15,
    "start_time": "2024-07-16T12:21:57.142Z"
   },
   {
    "duration": 56,
    "start_time": "2024-07-16T12:22:17.094Z"
   },
   {
    "duration": 22,
    "start_time": "2024-07-16T12:22:48.629Z"
   },
   {
    "duration": 15,
    "start_time": "2024-07-16T12:23:08.385Z"
   },
   {
    "duration": 8,
    "start_time": "2024-07-16T12:29:59.647Z"
   },
   {
    "duration": 57,
    "start_time": "2024-07-16T12:38:23.681Z"
   },
   {
    "duration": 13,
    "start_time": "2024-07-16T12:38:43.197Z"
   },
   {
    "duration": 15,
    "start_time": "2024-07-16T12:39:32.911Z"
   },
   {
    "duration": 17,
    "start_time": "2024-07-16T12:41:15.411Z"
   },
   {
    "duration": 23,
    "start_time": "2024-07-16T13:16:44.725Z"
   },
   {
    "duration": 20,
    "start_time": "2024-07-16T13:17:19.167Z"
   },
   {
    "duration": 15,
    "start_time": "2024-07-16T13:17:24.547Z"
   },
   {
    "duration": 18,
    "start_time": "2024-07-16T13:18:20.507Z"
   },
   {
    "duration": 21,
    "start_time": "2024-07-16T13:18:25.604Z"
   },
   {
    "duration": 27,
    "start_time": "2024-07-16T13:18:39.939Z"
   },
   {
    "duration": 1300,
    "start_time": "2024-07-16T13:24:55.651Z"
   },
   {
    "duration": 14,
    "start_time": "2024-07-16T13:25:27.680Z"
   },
   {
    "duration": 1042,
    "start_time": "2024-07-16T13:25:52.469Z"
   },
   {
    "duration": 22,
    "start_time": "2024-07-16T13:25:59.756Z"
   },
   {
    "duration": 18,
    "start_time": "2024-07-16T13:26:20.445Z"
   },
   {
    "duration": 13,
    "start_time": "2024-07-16T13:26:58.704Z"
   },
   {
    "duration": 9,
    "start_time": "2024-07-16T13:27:22.879Z"
   },
   {
    "duration": 17,
    "start_time": "2024-07-16T13:27:29.035Z"
   },
   {
    "duration": 17,
    "start_time": "2024-07-16T13:27:45.286Z"
   },
   {
    "duration": 15,
    "start_time": "2024-07-16T13:29:58.083Z"
   },
   {
    "duration": 21,
    "start_time": "2024-07-16T13:30:23.731Z"
   },
   {
    "duration": 64,
    "start_time": "2024-07-16T13:30:37.102Z"
   },
   {
    "duration": 18,
    "start_time": "2024-07-16T13:30:41.930Z"
   },
   {
    "duration": 18,
    "start_time": "2024-07-16T13:30:56.385Z"
   },
   {
    "duration": 15,
    "start_time": "2024-07-16T13:31:13.286Z"
   },
   {
    "duration": 986,
    "start_time": "2024-07-16T13:31:25.106Z"
   },
   {
    "duration": 69,
    "start_time": "2024-07-16T13:31:26.094Z"
   },
   {
    "duration": 3,
    "start_time": "2024-07-16T13:31:26.164Z"
   },
   {
    "duration": 235,
    "start_time": "2024-07-16T13:31:26.168Z"
   },
   {
    "duration": 278,
    "start_time": "2024-07-16T13:31:26.406Z"
   },
   {
    "duration": 7,
    "start_time": "2024-07-16T13:31:26.686Z"
   },
   {
    "duration": 11,
    "start_time": "2024-07-16T13:31:26.695Z"
   },
   {
    "duration": 11,
    "start_time": "2024-07-16T13:31:26.707Z"
   },
   {
    "duration": 38,
    "start_time": "2024-07-16T13:31:26.720Z"
   },
   {
    "duration": 14,
    "start_time": "2024-07-16T13:31:26.759Z"
   },
   {
    "duration": 5,
    "start_time": "2024-07-16T13:31:26.774Z"
   },
   {
    "duration": 12,
    "start_time": "2024-07-16T13:31:26.781Z"
   },
   {
    "duration": 14,
    "start_time": "2024-07-16T13:31:26.795Z"
   },
   {
    "duration": 168,
    "start_time": "2024-07-16T13:31:26.811Z"
   },
   {
    "duration": 11,
    "start_time": "2024-07-16T13:31:26.981Z"
   },
   {
    "duration": 102,
    "start_time": "2024-07-16T13:31:26.994Z"
   },
   {
    "duration": 104,
    "start_time": "2024-07-16T13:31:27.098Z"
   },
   {
    "duration": 0,
    "start_time": "2024-07-16T13:31:27.204Z"
   },
   {
    "duration": 0,
    "start_time": "2024-07-16T13:31:27.205Z"
   },
   {
    "duration": 0,
    "start_time": "2024-07-16T13:31:27.206Z"
   },
   {
    "duration": 0,
    "start_time": "2024-07-16T13:31:27.207Z"
   },
   {
    "duration": 0,
    "start_time": "2024-07-16T13:31:27.208Z"
   },
   {
    "duration": 0,
    "start_time": "2024-07-16T13:31:27.209Z"
   },
   {
    "duration": 1018,
    "start_time": "2024-07-16T13:32:09.491Z"
   },
   {
    "duration": 62,
    "start_time": "2024-07-16T13:32:10.511Z"
   },
   {
    "duration": 2,
    "start_time": "2024-07-16T13:32:10.575Z"
   },
   {
    "duration": 225,
    "start_time": "2024-07-16T13:32:10.579Z"
   },
   {
    "duration": 284,
    "start_time": "2024-07-16T13:32:10.805Z"
   },
   {
    "duration": 6,
    "start_time": "2024-07-16T13:32:11.090Z"
   },
   {
    "duration": 21,
    "start_time": "2024-07-16T13:32:11.098Z"
   },
   {
    "duration": 10,
    "start_time": "2024-07-16T13:32:11.120Z"
   },
   {
    "duration": 4,
    "start_time": "2024-07-16T13:32:11.132Z"
   },
   {
    "duration": 15,
    "start_time": "2024-07-16T13:32:11.157Z"
   },
   {
    "duration": 5,
    "start_time": "2024-07-16T13:32:11.174Z"
   },
   {
    "duration": 7,
    "start_time": "2024-07-16T13:32:11.181Z"
   },
   {
    "duration": 33,
    "start_time": "2024-07-16T13:32:11.190Z"
   },
   {
    "duration": 154,
    "start_time": "2024-07-16T13:32:11.224Z"
   },
   {
    "duration": 9,
    "start_time": "2024-07-16T13:32:11.380Z"
   },
   {
    "duration": 92,
    "start_time": "2024-07-16T13:32:11.390Z"
   },
   {
    "duration": 104,
    "start_time": "2024-07-16T13:32:11.484Z"
   },
   {
    "duration": 0,
    "start_time": "2024-07-16T13:32:11.589Z"
   },
   {
    "duration": 0,
    "start_time": "2024-07-16T13:32:11.590Z"
   },
   {
    "duration": 0,
    "start_time": "2024-07-16T13:32:11.592Z"
   },
   {
    "duration": 1,
    "start_time": "2024-07-16T13:32:11.592Z"
   },
   {
    "duration": 0,
    "start_time": "2024-07-16T13:32:11.593Z"
   },
   {
    "duration": 0,
    "start_time": "2024-07-16T13:32:11.594Z"
   },
   {
    "duration": 1021,
    "start_time": "2024-07-16T13:32:38.681Z"
   },
   {
    "duration": 63,
    "start_time": "2024-07-16T13:32:39.703Z"
   },
   {
    "duration": 3,
    "start_time": "2024-07-16T13:32:39.767Z"
   },
   {
    "duration": 223,
    "start_time": "2024-07-16T13:32:39.771Z"
   },
   {
    "duration": 283,
    "start_time": "2024-07-16T13:32:39.997Z"
   },
   {
    "duration": 6,
    "start_time": "2024-07-16T13:32:40.281Z"
   },
   {
    "duration": 9,
    "start_time": "2024-07-16T13:32:40.289Z"
   },
   {
    "duration": 21,
    "start_time": "2024-07-16T13:32:40.299Z"
   },
   {
    "duration": 4,
    "start_time": "2024-07-16T13:32:40.322Z"
   },
   {
    "duration": 41,
    "start_time": "2024-07-16T13:32:40.328Z"
   },
   {
    "duration": 5,
    "start_time": "2024-07-16T13:32:40.371Z"
   },
   {
    "duration": 7,
    "start_time": "2024-07-16T13:32:40.377Z"
   },
   {
    "duration": 14,
    "start_time": "2024-07-16T13:32:40.385Z"
   },
   {
    "duration": 182,
    "start_time": "2024-07-16T13:32:40.402Z"
   },
   {
    "duration": 13,
    "start_time": "2024-07-16T13:32:40.585Z"
   },
   {
    "duration": 99,
    "start_time": "2024-07-16T13:32:40.600Z"
   },
   {
    "duration": 9,
    "start_time": "2024-07-16T13:32:40.700Z"
   },
   {
    "duration": 150,
    "start_time": "2024-07-16T13:32:40.710Z"
   },
   {
    "duration": 7,
    "start_time": "2024-07-16T13:32:40.862Z"
   },
   {
    "duration": 15,
    "start_time": "2024-07-16T13:32:40.870Z"
   },
   {
    "duration": 11,
    "start_time": "2024-07-16T13:32:40.886Z"
   },
   {
    "duration": 20,
    "start_time": "2024-07-16T13:32:40.899Z"
   },
   {
    "duration": 18,
    "start_time": "2024-07-16T13:32:53.510Z"
   },
   {
    "duration": 166,
    "start_time": "2024-07-16T13:34:08.997Z"
   },
   {
    "duration": 263,
    "start_time": "2024-07-16T13:34:38.329Z"
   },
   {
    "duration": 17,
    "start_time": "2024-07-16T13:35:21.866Z"
   },
   {
    "duration": 221,
    "start_time": "2024-07-16T13:35:29.947Z"
   },
   {
    "duration": 214,
    "start_time": "2024-07-16T13:36:02.487Z"
   },
   {
    "duration": 300,
    "start_time": "2024-07-16T13:36:16.681Z"
   },
   {
    "duration": 212,
    "start_time": "2024-07-16T13:36:28.026Z"
   },
   {
    "duration": 182,
    "start_time": "2024-07-16T13:36:43.753Z"
   },
   {
    "duration": 1079,
    "start_time": "2024-07-16T13:37:41.672Z"
   },
   {
    "duration": 175,
    "start_time": "2024-07-16T13:38:01.730Z"
   },
   {
    "duration": 19,
    "start_time": "2024-07-16T13:39:26.281Z"
   },
   {
    "duration": 114,
    "start_time": "2024-07-16T13:42:46.090Z"
   },
   {
    "duration": 18,
    "start_time": "2024-07-16T13:43:27.657Z"
   },
   {
    "duration": 6,
    "start_time": "2024-07-16T14:43:10.352Z"
   },
   {
    "duration": 106,
    "start_time": "2024-07-16T14:44:34.999Z"
   },
   {
    "duration": 105,
    "start_time": "2024-07-16T14:48:10.548Z"
   },
   {
    "duration": 137,
    "start_time": "2024-07-16T14:48:48.520Z"
   },
   {
    "duration": 153,
    "start_time": "2024-07-16T14:50:21.496Z"
   },
   {
    "duration": 121,
    "start_time": "2024-07-16T14:50:30.857Z"
   },
   {
    "duration": 103,
    "start_time": "2024-07-16T14:51:29.249Z"
   },
   {
    "duration": 123,
    "start_time": "2024-07-16T14:51:40.052Z"
   },
   {
    "duration": 130,
    "start_time": "2024-07-16T14:52:09.115Z"
   },
   {
    "duration": 142,
    "start_time": "2024-07-16T14:52:41.407Z"
   },
   {
    "duration": 88,
    "start_time": "2024-07-16T15:00:58.340Z"
   },
   {
    "duration": 28,
    "start_time": "2024-07-16T15:01:06.456Z"
   },
   {
    "duration": 6,
    "start_time": "2024-07-16T15:03:46.159Z"
   },
   {
    "duration": 11,
    "start_time": "2024-07-16T15:06:00.859Z"
   },
   {
    "duration": 23,
    "start_time": "2024-07-16T15:06:27.301Z"
   },
   {
    "duration": 12,
    "start_time": "2024-07-16T15:07:24.051Z"
   },
   {
    "duration": 31,
    "start_time": "2024-07-16T15:07:27.432Z"
   },
   {
    "duration": 11,
    "start_time": "2024-07-16T15:07:33.366Z"
   },
   {
    "duration": 38,
    "start_time": "2024-07-16T15:07:38.629Z"
   },
   {
    "duration": 25,
    "start_time": "2024-07-16T15:07:45.759Z"
   },
   {
    "duration": 24,
    "start_time": "2024-07-16T15:08:36.611Z"
   },
   {
    "duration": 22,
    "start_time": "2024-07-16T15:16:25.680Z"
   },
   {
    "duration": 61,
    "start_time": "2024-07-16T15:18:06.195Z"
   },
   {
    "duration": 24,
    "start_time": "2024-07-16T15:18:13.837Z"
   },
   {
    "duration": 7,
    "start_time": "2024-07-16T15:19:06.687Z"
   },
   {
    "duration": 18,
    "start_time": "2024-07-16T15:19:26.409Z"
   },
   {
    "duration": 15,
    "start_time": "2024-07-16T15:19:29.483Z"
   },
   {
    "duration": 15,
    "start_time": "2024-07-16T15:19:32.551Z"
   },
   {
    "duration": 15,
    "start_time": "2024-07-16T15:19:33.890Z"
   },
   {
    "duration": 132,
    "start_time": "2024-07-16T15:23:26.196Z"
   },
   {
    "duration": 272,
    "start_time": "2024-07-16T15:23:40.197Z"
   },
   {
    "duration": 3,
    "start_time": "2024-07-16T15:24:43.121Z"
   },
   {
    "duration": 19,
    "start_time": "2024-07-16T15:24:43.779Z"
   },
   {
    "duration": 8,
    "start_time": "2024-07-16T15:25:50.964Z"
   },
   {
    "duration": 9,
    "start_time": "2024-07-16T15:26:20.268Z"
   },
   {
    "duration": 3,
    "start_time": "2024-07-16T15:27:36.803Z"
   },
   {
    "duration": 23,
    "start_time": "2024-07-16T15:27:38.674Z"
   },
   {
    "duration": 12,
    "start_time": "2024-07-16T15:31:30.227Z"
   },
   {
    "duration": 8,
    "start_time": "2024-07-16T15:31:42.536Z"
   },
   {
    "duration": 4,
    "start_time": "2024-07-16T15:31:49.190Z"
   },
   {
    "duration": 21,
    "start_time": "2024-07-16T15:31:50.674Z"
   },
   {
    "duration": 1067,
    "start_time": "2024-07-16T15:31:55.840Z"
   },
   {
    "duration": 62,
    "start_time": "2024-07-16T15:31:56.909Z"
   },
   {
    "duration": 2,
    "start_time": "2024-07-16T15:31:56.973Z"
   },
   {
    "duration": 217,
    "start_time": "2024-07-16T15:31:56.977Z"
   },
   {
    "duration": 271,
    "start_time": "2024-07-16T15:31:57.195Z"
   },
   {
    "duration": 7,
    "start_time": "2024-07-16T15:31:57.467Z"
   },
   {
    "duration": 6,
    "start_time": "2024-07-16T15:31:57.475Z"
   },
   {
    "duration": 7,
    "start_time": "2024-07-16T15:31:57.483Z"
   },
   {
    "duration": 4,
    "start_time": "2024-07-16T15:31:57.492Z"
   },
   {
    "duration": 11,
    "start_time": "2024-07-16T15:31:57.499Z"
   },
   {
    "duration": 4,
    "start_time": "2024-07-16T15:31:57.557Z"
   },
   {
    "duration": 6,
    "start_time": "2024-07-16T15:31:57.563Z"
   },
   {
    "duration": 11,
    "start_time": "2024-07-16T15:31:57.570Z"
   },
   {
    "duration": 155,
    "start_time": "2024-07-16T15:31:57.582Z"
   },
   {
    "duration": 9,
    "start_time": "2024-07-16T15:31:57.738Z"
   },
   {
    "duration": 72,
    "start_time": "2024-07-16T15:31:57.758Z"
   },
   {
    "duration": 26,
    "start_time": "2024-07-16T15:31:57.832Z"
   },
   {
    "duration": 153,
    "start_time": "2024-07-16T15:31:57.859Z"
   },
   {
    "duration": 159,
    "start_time": "2024-07-16T15:31:58.013Z"
   },
   {
    "duration": 7,
    "start_time": "2024-07-16T15:31:58.173Z"
   },
   {
    "duration": 176,
    "start_time": "2024-07-16T15:31:58.182Z"
   },
   {
    "duration": 8,
    "start_time": "2024-07-16T15:31:58.360Z"
   },
   {
    "duration": 53,
    "start_time": "2024-07-16T15:31:58.369Z"
   },
   {
    "duration": 15,
    "start_time": "2024-07-16T15:31:58.424Z"
   },
   {
    "duration": 25,
    "start_time": "2024-07-16T15:31:58.441Z"
   },
   {
    "duration": 17,
    "start_time": "2024-07-16T15:31:58.467Z"
   },
   {
    "duration": 134,
    "start_time": "2024-07-16T15:31:58.485Z"
   },
   {
    "duration": 3,
    "start_time": "2024-07-16T15:31:58.622Z"
   },
   {
    "duration": 39,
    "start_time": "2024-07-16T15:31:58.626Z"
   },
   {
    "duration": 7,
    "start_time": "2024-07-16T15:31:58.667Z"
   },
   {
    "duration": 22,
    "start_time": "2024-07-16T15:31:58.676Z"
   },
   {
    "duration": 17,
    "start_time": "2024-07-16T15:31:58.699Z"
   },
   {
    "duration": 310,
    "start_time": "2024-07-16T15:31:58.717Z"
   },
   {
    "duration": 16,
    "start_time": "2024-07-16T15:31:59.028Z"
   },
   {
    "duration": 15,
    "start_time": "2024-07-16T15:31:59.057Z"
   },
   {
    "duration": 269,
    "start_time": "2024-07-16T15:32:24.488Z"
   },
   {
    "duration": 215,
    "start_time": "2024-07-16T15:32:56.465Z"
   },
   {
    "duration": 113,
    "start_time": "2024-07-16T15:34:04.755Z"
   },
   {
    "duration": 7,
    "start_time": "2024-07-16T15:34:28.732Z"
   },
   {
    "duration": 663,
    "start_time": "2024-07-16T15:36:30.707Z"
   },
   {
    "duration": 194,
    "start_time": "2024-07-16T15:37:11.275Z"
   },
   {
    "duration": 11,
    "start_time": "2024-07-16T15:39:58.966Z"
   },
   {
    "duration": 14,
    "start_time": "2024-07-16T15:40:04.370Z"
   },
   {
    "duration": 152,
    "start_time": "2024-07-16T15:46:08.442Z"
   },
   {
    "duration": 143,
    "start_time": "2024-07-16T15:49:57.807Z"
   },
   {
    "duration": 9,
    "start_time": "2024-07-16T15:50:41.375Z"
   },
   {
    "duration": 127,
    "start_time": "2024-07-16T15:50:43.595Z"
   },
   {
    "duration": 67,
    "start_time": "2024-07-16T15:51:45.409Z"
   },
   {
    "duration": 62,
    "start_time": "2024-07-16T15:52:27.614Z"
   },
   {
    "duration": 280,
    "start_time": "2024-07-16T15:52:40.069Z"
   },
   {
    "duration": 171,
    "start_time": "2024-07-16T15:52:53.224Z"
   },
   {
    "duration": 70,
    "start_time": "2024-07-17T06:28:22.304Z"
   },
   {
    "duration": 8,
    "start_time": "2024-07-17T06:28:26.345Z"
   },
   {
    "duration": 1421,
    "start_time": "2024-07-17T06:28:31.184Z"
   },
   {
    "duration": 272,
    "start_time": "2024-07-17T06:28:32.608Z"
   },
   {
    "duration": 3,
    "start_time": "2024-07-17T06:28:32.882Z"
   },
   {
    "duration": 313,
    "start_time": "2024-07-17T06:28:32.886Z"
   },
   {
    "duration": 369,
    "start_time": "2024-07-17T06:28:33.201Z"
   },
   {
    "duration": 7,
    "start_time": "2024-07-17T06:28:33.572Z"
   },
   {
    "duration": 27,
    "start_time": "2024-07-17T06:28:33.581Z"
   },
   {
    "duration": 17,
    "start_time": "2024-07-17T06:28:33.609Z"
   },
   {
    "duration": 5,
    "start_time": "2024-07-17T06:28:33.628Z"
   },
   {
    "duration": 30,
    "start_time": "2024-07-17T06:28:33.634Z"
   },
   {
    "duration": 5,
    "start_time": "2024-07-17T06:28:33.665Z"
   },
   {
    "duration": 25,
    "start_time": "2024-07-17T06:28:33.672Z"
   },
   {
    "duration": 24,
    "start_time": "2024-07-17T06:28:33.699Z"
   },
   {
    "duration": 157,
    "start_time": "2024-07-17T06:28:33.726Z"
   },
   {
    "duration": 9,
    "start_time": "2024-07-17T06:28:33.885Z"
   },
   {
    "duration": 114,
    "start_time": "2024-07-17T06:28:33.896Z"
   },
   {
    "duration": 10,
    "start_time": "2024-07-17T06:28:34.012Z"
   },
   {
    "duration": 188,
    "start_time": "2024-07-17T06:28:34.024Z"
   },
   {
    "duration": 215,
    "start_time": "2024-07-17T06:28:34.214Z"
   },
   {
    "duration": 20,
    "start_time": "2024-07-17T06:28:34.431Z"
   },
   {
    "duration": 235,
    "start_time": "2024-07-17T06:28:34.453Z"
   },
   {
    "duration": 9,
    "start_time": "2024-07-17T06:28:34.690Z"
   },
   {
    "duration": 13,
    "start_time": "2024-07-17T06:28:34.700Z"
   },
   {
    "duration": 38,
    "start_time": "2024-07-17T06:28:34.714Z"
   },
   {
    "duration": 22,
    "start_time": "2024-07-17T06:28:34.753Z"
   },
   {
    "duration": 21,
    "start_time": "2024-07-17T06:28:34.776Z"
   },
   {
    "duration": 173,
    "start_time": "2024-07-17T06:28:34.798Z"
   },
   {
    "duration": 4,
    "start_time": "2024-07-17T06:28:34.972Z"
   },
   {
    "duration": 25,
    "start_time": "2024-07-17T06:28:34.977Z"
   },
   {
    "duration": 9,
    "start_time": "2024-07-17T06:28:35.004Z"
   },
   {
    "duration": 49,
    "start_time": "2024-07-17T06:28:35.015Z"
   },
   {
    "duration": 19,
    "start_time": "2024-07-17T06:28:35.066Z"
   },
   {
    "duration": 8,
    "start_time": "2024-07-17T06:28:35.087Z"
   },
   {
    "duration": 255,
    "start_time": "2024-07-17T06:28:35.096Z"
   },
   {
    "duration": 9,
    "start_time": "2024-07-17T06:28:35.353Z"
   },
   {
    "duration": 226,
    "start_time": "2024-07-17T06:28:35.364Z"
   },
   {
    "duration": 19,
    "start_time": "2024-07-17T06:28:35.591Z"
   },
   {
    "duration": 41,
    "start_time": "2024-07-17T06:28:35.612Z"
   },
   {
    "duration": 13,
    "start_time": "2024-07-17T06:28:35.655Z"
   },
   {
    "duration": 125,
    "start_time": "2024-07-17T06:28:35.671Z"
   },
   {
    "duration": 1213,
    "start_time": "2024-07-17T06:29:17.506Z"
   },
   {
    "duration": 69,
    "start_time": "2024-07-17T06:29:18.724Z"
   },
   {
    "duration": 10,
    "start_time": "2024-07-17T06:29:18.795Z"
   },
   {
    "duration": 287,
    "start_time": "2024-07-17T06:29:18.808Z"
   },
   {
    "duration": 369,
    "start_time": "2024-07-17T06:29:19.097Z"
   },
   {
    "duration": 8,
    "start_time": "2024-07-17T06:29:19.468Z"
   },
   {
    "duration": 13,
    "start_time": "2024-07-17T06:29:19.478Z"
   },
   {
    "duration": 21,
    "start_time": "2024-07-17T06:29:19.493Z"
   },
   {
    "duration": 22,
    "start_time": "2024-07-17T06:29:19.516Z"
   },
   {
    "duration": 52,
    "start_time": "2024-07-17T06:29:19.539Z"
   },
   {
    "duration": 11,
    "start_time": "2024-07-17T06:29:19.593Z"
   },
   {
    "duration": 33,
    "start_time": "2024-07-17T06:29:19.605Z"
   },
   {
    "duration": 91,
    "start_time": "2024-07-17T06:29:19.640Z"
   },
   {
    "duration": 217,
    "start_time": "2024-07-17T06:29:19.735Z"
   },
   {
    "duration": 10,
    "start_time": "2024-07-17T06:29:19.954Z"
   },
   {
    "duration": 125,
    "start_time": "2024-07-17T06:29:19.966Z"
   },
   {
    "duration": 14,
    "start_time": "2024-07-17T06:29:20.093Z"
   },
   {
    "duration": 218,
    "start_time": "2024-07-17T06:29:20.108Z"
   },
   {
    "duration": 255,
    "start_time": "2024-07-17T06:29:20.328Z"
   },
   {
    "duration": 9,
    "start_time": "2024-07-17T06:29:20.585Z"
   },
   {
    "duration": 262,
    "start_time": "2024-07-17T06:29:20.595Z"
   },
   {
    "duration": 10,
    "start_time": "2024-07-17T06:29:20.858Z"
   },
   {
    "duration": 22,
    "start_time": "2024-07-17T06:29:20.870Z"
   },
   {
    "duration": 32,
    "start_time": "2024-07-17T06:29:20.893Z"
   },
   {
    "duration": 23,
    "start_time": "2024-07-17T06:29:20.945Z"
   },
   {
    "duration": 30,
    "start_time": "2024-07-17T06:29:20.970Z"
   },
   {
    "duration": 164,
    "start_time": "2024-07-17T06:29:21.001Z"
   },
   {
    "duration": 4,
    "start_time": "2024-07-17T06:29:21.166Z"
   },
   {
    "duration": 30,
    "start_time": "2024-07-17T06:29:21.172Z"
   },
   {
    "duration": 10,
    "start_time": "2024-07-17T06:29:21.204Z"
   },
   {
    "duration": 50,
    "start_time": "2024-07-17T06:29:21.216Z"
   },
   {
    "duration": 22,
    "start_time": "2024-07-17T06:29:21.268Z"
   },
   {
    "duration": 11,
    "start_time": "2024-07-17T06:29:21.292Z"
   },
   {
    "duration": 273,
    "start_time": "2024-07-17T06:29:21.305Z"
   },
   {
    "duration": 10,
    "start_time": "2024-07-17T06:29:21.580Z"
   },
   {
    "duration": 224,
    "start_time": "2024-07-17T06:29:21.592Z"
   },
   {
    "duration": 35,
    "start_time": "2024-07-17T06:29:21.817Z"
   },
   {
    "duration": 19,
    "start_time": "2024-07-17T06:29:21.854Z"
   },
   {
    "duration": 14,
    "start_time": "2024-07-17T06:29:21.874Z"
   },
   {
    "duration": 8,
    "start_time": "2024-07-17T06:29:21.890Z"
   },
   {
    "duration": 4,
    "start_time": "2024-07-17T06:30:09.189Z"
   },
   {
    "duration": 19,
    "start_time": "2024-07-17T06:30:15.332Z"
   },
   {
    "duration": 145,
    "start_time": "2024-07-17T06:30:28.717Z"
   },
   {
    "duration": 14,
    "start_time": "2024-07-17T06:32:22.077Z"
   },
   {
    "duration": 5,
    "start_time": "2024-07-17T06:32:51.952Z"
   },
   {
    "duration": 13,
    "start_time": "2024-07-17T06:34:15.048Z"
   },
   {
    "duration": 12,
    "start_time": "2024-07-17T06:34:52.417Z"
   },
   {
    "duration": 13,
    "start_time": "2024-07-17T06:54:54.401Z"
   },
   {
    "duration": 13,
    "start_time": "2024-07-17T06:55:00.337Z"
   },
   {
    "duration": 12,
    "start_time": "2024-07-17T06:55:14.919Z"
   },
   {
    "duration": 1236,
    "start_time": "2024-07-17T06:55:23.488Z"
   },
   {
    "duration": 68,
    "start_time": "2024-07-17T06:55:24.726Z"
   },
   {
    "duration": 3,
    "start_time": "2024-07-17T06:55:24.795Z"
   },
   {
    "duration": 293,
    "start_time": "2024-07-17T06:55:24.800Z"
   },
   {
    "duration": 357,
    "start_time": "2024-07-17T06:55:25.094Z"
   },
   {
    "duration": 7,
    "start_time": "2024-07-17T06:55:25.453Z"
   },
   {
    "duration": 13,
    "start_time": "2024-07-17T06:55:25.462Z"
   },
   {
    "duration": 22,
    "start_time": "2024-07-17T06:55:25.476Z"
   },
   {
    "duration": 4,
    "start_time": "2024-07-17T06:55:25.500Z"
   },
   {
    "duration": 13,
    "start_time": "2024-07-17T06:55:25.507Z"
   },
   {
    "duration": 28,
    "start_time": "2024-07-17T06:55:25.521Z"
   },
   {
    "duration": 33,
    "start_time": "2024-07-17T06:55:25.551Z"
   },
   {
    "duration": 17,
    "start_time": "2024-07-17T06:55:25.586Z"
   },
   {
    "duration": 175,
    "start_time": "2024-07-17T06:55:25.605Z"
   },
   {
    "duration": 12,
    "start_time": "2024-07-17T06:55:25.782Z"
   },
   {
    "duration": 116,
    "start_time": "2024-07-17T06:55:25.796Z"
   },
   {
    "duration": 12,
    "start_time": "2024-07-17T06:55:25.914Z"
   },
   {
    "duration": 184,
    "start_time": "2024-07-17T06:55:25.945Z"
   },
   {
    "duration": 224,
    "start_time": "2024-07-17T06:55:26.131Z"
   },
   {
    "duration": 9,
    "start_time": "2024-07-17T06:55:26.356Z"
   },
   {
    "duration": 243,
    "start_time": "2024-07-17T06:55:26.367Z"
   },
   {
    "duration": 10,
    "start_time": "2024-07-17T06:55:26.611Z"
   },
   {
    "duration": 111,
    "start_time": "2024-07-17T06:55:26.623Z"
   },
   {
    "duration": 15,
    "start_time": "2024-07-17T06:55:26.736Z"
   },
   {
    "duration": 22,
    "start_time": "2024-07-17T06:55:26.753Z"
   },
   {
    "duration": 21,
    "start_time": "2024-07-17T06:55:26.777Z"
   },
   {
    "duration": 163,
    "start_time": "2024-07-17T06:55:26.800Z"
   },
   {
    "duration": 4,
    "start_time": "2024-07-17T06:55:26.967Z"
   },
   {
    "duration": 33,
    "start_time": "2024-07-17T06:55:26.972Z"
   },
   {
    "duration": 10,
    "start_time": "2024-07-17T06:55:27.006Z"
   },
   {
    "duration": 47,
    "start_time": "2024-07-17T06:55:27.017Z"
   },
   {
    "duration": 21,
    "start_time": "2024-07-17T06:55:27.066Z"
   },
   {
    "duration": 15,
    "start_time": "2024-07-17T06:55:27.089Z"
   },
   {
    "duration": 245,
    "start_time": "2024-07-17T06:55:27.106Z"
   },
   {
    "duration": 9,
    "start_time": "2024-07-17T06:55:27.353Z"
   },
   {
    "duration": 223,
    "start_time": "2024-07-17T06:55:27.364Z"
   },
   {
    "duration": 20,
    "start_time": "2024-07-17T06:55:27.588Z"
   },
   {
    "duration": 41,
    "start_time": "2024-07-17T06:55:27.609Z"
   },
   {
    "duration": 16,
    "start_time": "2024-07-17T06:55:27.652Z"
   },
   {
    "duration": 6,
    "start_time": "2024-07-17T06:55:27.670Z"
   },
   {
    "duration": 6,
    "start_time": "2024-07-17T06:56:57.122Z"
   },
   {
    "duration": 50,
    "start_time": "2024-07-18T08:21:32.136Z"
   },
   {
    "duration": 1484,
    "start_time": "2024-07-18T08:21:38.376Z"
   },
   {
    "duration": 296,
    "start_time": "2024-07-18T08:21:39.863Z"
   },
   {
    "duration": 4,
    "start_time": "2024-07-18T08:21:40.160Z"
   },
   {
    "duration": 330,
    "start_time": "2024-07-18T08:21:40.166Z"
   },
   {
    "duration": 396,
    "start_time": "2024-07-18T08:21:40.499Z"
   },
   {
    "duration": 8,
    "start_time": "2024-07-18T08:21:40.896Z"
   },
   {
    "duration": 42,
    "start_time": "2024-07-18T08:21:40.906Z"
   },
   {
    "duration": 27,
    "start_time": "2024-07-18T08:21:40.950Z"
   },
   {
    "duration": 6,
    "start_time": "2024-07-18T08:21:40.979Z"
   },
   {
    "duration": 21,
    "start_time": "2024-07-18T08:21:40.988Z"
   },
   {
    "duration": 5,
    "start_time": "2024-07-18T08:21:41.011Z"
   },
   {
    "duration": 9,
    "start_time": "2024-07-18T08:21:41.018Z"
   },
   {
    "duration": 27,
    "start_time": "2024-07-18T08:21:41.028Z"
   },
   {
    "duration": 170,
    "start_time": "2024-07-18T08:21:41.066Z"
   },
   {
    "duration": 11,
    "start_time": "2024-07-18T08:21:41.238Z"
   },
   {
    "duration": 102,
    "start_time": "2024-07-18T08:21:41.251Z"
   },
   {
    "duration": 11,
    "start_time": "2024-07-18T08:21:41.366Z"
   },
   {
    "duration": 176,
    "start_time": "2024-07-18T08:21:41.379Z"
   },
   {
    "duration": 228,
    "start_time": "2024-07-18T08:21:41.557Z"
   },
   {
    "duration": 10,
    "start_time": "2024-07-18T08:21:41.787Z"
   },
   {
    "duration": 247,
    "start_time": "2024-07-18T08:21:41.798Z"
   },
   {
    "duration": 19,
    "start_time": "2024-07-18T08:21:42.047Z"
   },
   {
    "duration": 26,
    "start_time": "2024-07-18T08:21:42.068Z"
   },
   {
    "duration": 22,
    "start_time": "2024-07-18T08:21:42.096Z"
   },
   {
    "duration": 47,
    "start_time": "2024-07-18T08:21:42.119Z"
   },
   {
    "duration": 24,
    "start_time": "2024-07-18T08:21:42.168Z"
   },
   {
    "duration": 167,
    "start_time": "2024-07-18T08:21:42.194Z"
   },
   {
    "duration": 4,
    "start_time": "2024-07-18T08:21:42.368Z"
   },
   {
    "duration": 71,
    "start_time": "2024-07-18T08:21:42.373Z"
   },
   {
    "duration": 13,
    "start_time": "2024-07-18T08:21:42.447Z"
   },
   {
    "duration": 24,
    "start_time": "2024-07-18T08:21:42.462Z"
   },
   {
    "duration": 21,
    "start_time": "2024-07-18T08:21:42.487Z"
   },
   {
    "duration": 8,
    "start_time": "2024-07-18T08:21:42.510Z"
   },
   {
    "duration": 272,
    "start_time": "2024-07-18T08:21:42.520Z"
   },
   {
    "duration": 9,
    "start_time": "2024-07-18T08:21:42.794Z"
   },
   {
    "duration": 213,
    "start_time": "2024-07-18T08:21:42.805Z"
   },
   {
    "duration": 20,
    "start_time": "2024-07-18T08:21:43.020Z"
   },
   {
    "duration": 33,
    "start_time": "2024-07-18T08:21:43.042Z"
   },
   {
    "duration": 14,
    "start_time": "2024-07-18T08:21:43.077Z"
   },
   {
    "duration": 3,
    "start_time": "2024-07-18T08:21:43.092Z"
   },
   {
    "duration": 1563,
    "start_time": "2024-07-18T08:21:43.096Z"
   },
   {
    "duration": 5,
    "start_time": "2024-07-18T08:21:57.796Z"
   },
   {
    "duration": 12,
    "start_time": "2024-07-18T08:22:11.933Z"
   },
   {
    "duration": 288,
    "start_time": "2024-07-18T08:23:26.809Z"
   },
   {
    "duration": 1229,
    "start_time": "2024-07-18T08:23:55.126Z"
   },
   {
    "duration": 72,
    "start_time": "2024-07-18T08:23:56.357Z"
   },
   {
    "duration": 4,
    "start_time": "2024-07-18T08:23:56.431Z"
   },
   {
    "duration": 288,
    "start_time": "2024-07-18T08:23:56.437Z"
   },
   {
    "duration": 352,
    "start_time": "2024-07-18T08:23:56.727Z"
   },
   {
    "duration": 7,
    "start_time": "2024-07-18T08:23:57.080Z"
   },
   {
    "duration": 13,
    "start_time": "2024-07-18T08:23:57.089Z"
   },
   {
    "duration": 12,
    "start_time": "2024-07-18T08:23:57.104Z"
   },
   {
    "duration": 5,
    "start_time": "2024-07-18T08:23:57.117Z"
   },
   {
    "duration": 13,
    "start_time": "2024-07-18T08:23:57.124Z"
   },
   {
    "duration": 29,
    "start_time": "2024-07-18T08:23:57.139Z"
   },
   {
    "duration": 6,
    "start_time": "2024-07-18T08:23:57.170Z"
   },
   {
    "duration": 14,
    "start_time": "2024-07-18T08:23:57.178Z"
   },
   {
    "duration": 176,
    "start_time": "2024-07-18T08:23:57.193Z"
   },
   {
    "duration": 10,
    "start_time": "2024-07-18T08:23:57.371Z"
   },
   {
    "duration": 101,
    "start_time": "2024-07-18T08:23:57.382Z"
   },
   {
    "duration": 11,
    "start_time": "2024-07-18T08:23:57.485Z"
   },
   {
    "duration": 218,
    "start_time": "2024-07-18T08:23:57.498Z"
   },
   {
    "duration": 206,
    "start_time": "2024-07-18T08:23:57.718Z"
   },
   {
    "duration": 9,
    "start_time": "2024-07-18T08:23:57.925Z"
   },
   {
    "duration": 238,
    "start_time": "2024-07-18T08:23:57.936Z"
   },
   {
    "duration": 11,
    "start_time": "2024-07-18T08:23:58.175Z"
   },
   {
    "duration": 13,
    "start_time": "2024-07-18T08:23:58.188Z"
   },
   {
    "duration": 17,
    "start_time": "2024-07-18T08:23:58.203Z"
   },
   {
    "duration": 54,
    "start_time": "2024-07-18T08:23:58.221Z"
   },
   {
    "duration": 21,
    "start_time": "2024-07-18T08:23:58.277Z"
   },
   {
    "duration": 152,
    "start_time": "2024-07-18T08:23:58.300Z"
   },
   {
    "duration": 16,
    "start_time": "2024-07-18T08:23:58.456Z"
   },
   {
    "duration": 30,
    "start_time": "2024-07-18T08:23:58.475Z"
   },
   {
    "duration": 11,
    "start_time": "2024-07-18T08:23:58.507Z"
   },
   {
    "duration": 23,
    "start_time": "2024-07-18T08:23:58.519Z"
   },
   {
    "duration": 22,
    "start_time": "2024-07-18T08:23:58.565Z"
   },
   {
    "duration": 18,
    "start_time": "2024-07-18T08:23:58.589Z"
   },
   {
    "duration": 276,
    "start_time": "2024-07-18T08:23:58.608Z"
   },
   {
    "duration": 8,
    "start_time": "2024-07-18T08:23:58.886Z"
   },
   {
    "duration": 187,
    "start_time": "2024-07-18T08:23:58.896Z"
   },
   {
    "duration": 17,
    "start_time": "2024-07-18T08:23:59.085Z"
   },
   {
    "duration": 16,
    "start_time": "2024-07-18T08:23:59.104Z"
   },
   {
    "duration": 24,
    "start_time": "2024-07-18T08:23:59.121Z"
   },
   {
    "duration": 394,
    "start_time": "2024-07-18T08:23:59.147Z"
   },
   {
    "duration": 0,
    "start_time": "2024-07-18T08:23:59.542Z"
   },
   {
    "duration": 0,
    "start_time": "2024-07-18T08:23:59.543Z"
   },
   {
    "duration": 3,
    "start_time": "2024-07-18T08:24:21.927Z"
   },
   {
    "duration": 11,
    "start_time": "2024-07-18T08:24:26.322Z"
   },
   {
    "duration": 258,
    "start_time": "2024-07-18T08:24:57.351Z"
   },
   {
    "duration": 272,
    "start_time": "2024-07-18T08:25:21.947Z"
   },
   {
    "duration": 5,
    "start_time": "2024-07-18T08:25:42.726Z"
   },
   {
    "duration": 17,
    "start_time": "2024-07-18T08:25:56.877Z"
   },
   {
    "duration": 1266,
    "start_time": "2024-07-18T08:26:21.661Z"
   },
   {
    "duration": 75,
    "start_time": "2024-07-18T08:26:22.929Z"
   },
   {
    "duration": 4,
    "start_time": "2024-07-18T08:26:23.006Z"
   },
   {
    "duration": 283,
    "start_time": "2024-07-18T08:26:23.012Z"
   },
   {
    "duration": 344,
    "start_time": "2024-07-18T08:26:23.296Z"
   },
   {
    "duration": 7,
    "start_time": "2024-07-18T08:26:23.642Z"
   },
   {
    "duration": 14,
    "start_time": "2024-07-18T08:26:23.651Z"
   },
   {
    "duration": 11,
    "start_time": "2024-07-18T08:26:23.666Z"
   },
   {
    "duration": 5,
    "start_time": "2024-07-18T08:26:23.679Z"
   },
   {
    "duration": 13,
    "start_time": "2024-07-18T08:26:23.687Z"
   },
   {
    "duration": 5,
    "start_time": "2024-07-18T08:26:23.702Z"
   },
   {
    "duration": 17,
    "start_time": "2024-07-18T08:26:23.709Z"
   },
   {
    "duration": 38,
    "start_time": "2024-07-18T08:26:23.728Z"
   },
   {
    "duration": 169,
    "start_time": "2024-07-18T08:26:23.768Z"
   },
   {
    "duration": 9,
    "start_time": "2024-07-18T08:26:23.938Z"
   },
   {
    "duration": 156,
    "start_time": "2024-07-18T08:26:23.949Z"
   },
   {
    "duration": 10,
    "start_time": "2024-07-18T08:26:24.107Z"
   },
   {
    "duration": 172,
    "start_time": "2024-07-18T08:26:24.119Z"
   },
   {
    "duration": 196,
    "start_time": "2024-07-18T08:26:24.293Z"
   },
   {
    "duration": 9,
    "start_time": "2024-07-18T08:26:24.490Z"
   },
   {
    "duration": 273,
    "start_time": "2024-07-18T08:26:24.501Z"
   },
   {
    "duration": 10,
    "start_time": "2024-07-18T08:26:24.776Z"
   },
   {
    "duration": 16,
    "start_time": "2024-07-18T08:26:24.788Z"
   },
   {
    "duration": 15,
    "start_time": "2024-07-18T08:26:24.806Z"
   },
   {
    "duration": 43,
    "start_time": "2024-07-18T08:26:24.823Z"
   },
   {
    "duration": 21,
    "start_time": "2024-07-18T08:26:24.868Z"
   },
   {
    "duration": 149,
    "start_time": "2024-07-18T08:26:24.891Z"
   },
   {
    "duration": 3,
    "start_time": "2024-07-18T08:26:25.043Z"
   },
   {
    "duration": 39,
    "start_time": "2024-07-18T08:26:25.048Z"
   },
   {
    "duration": 10,
    "start_time": "2024-07-18T08:26:25.088Z"
   },
   {
    "duration": 24,
    "start_time": "2024-07-18T08:26:25.100Z"
   },
   {
    "duration": 40,
    "start_time": "2024-07-18T08:26:25.125Z"
   },
   {
    "duration": 8,
    "start_time": "2024-07-18T08:26:25.167Z"
   },
   {
    "duration": 244,
    "start_time": "2024-07-18T08:26:25.176Z"
   },
   {
    "duration": 9,
    "start_time": "2024-07-18T08:26:25.421Z"
   },
   {
    "duration": 197,
    "start_time": "2024-07-18T08:26:25.431Z"
   },
   {
    "duration": 21,
    "start_time": "2024-07-18T08:26:25.630Z"
   },
   {
    "duration": 31,
    "start_time": "2024-07-18T08:26:25.652Z"
   },
   {
    "duration": 14,
    "start_time": "2024-07-18T08:26:25.684Z"
   },
   {
    "duration": 7,
    "start_time": "2024-07-18T08:26:25.700Z"
   },
   {
    "duration": 20,
    "start_time": "2024-07-18T08:26:25.708Z"
   },
   {
    "duration": 41,
    "start_time": "2024-07-18T08:26:25.729Z"
   },
   {
    "duration": 411,
    "start_time": "2024-07-18T08:27:14.802Z"
   },
   {
    "duration": 5,
    "start_time": "2024-07-18T08:27:48.940Z"
   },
   {
    "duration": 67,
    "start_time": "2024-07-18T08:28:20.903Z"
   },
   {
    "duration": 12,
    "start_time": "2024-07-18T08:28:37.608Z"
   },
   {
    "duration": 1180,
    "start_time": "2024-07-18T08:28:57.619Z"
   },
   {
    "duration": 73,
    "start_time": "2024-07-18T08:28:58.801Z"
   },
   {
    "duration": 4,
    "start_time": "2024-07-18T08:28:58.876Z"
   },
   {
    "duration": 309,
    "start_time": "2024-07-18T08:28:58.884Z"
   },
   {
    "duration": 384,
    "start_time": "2024-07-18T08:28:59.195Z"
   },
   {
    "duration": 9,
    "start_time": "2024-07-18T08:28:59.581Z"
   },
   {
    "duration": 11,
    "start_time": "2024-07-18T08:28:59.592Z"
   },
   {
    "duration": 12,
    "start_time": "2024-07-18T08:28:59.605Z"
   },
   {
    "duration": 6,
    "start_time": "2024-07-18T08:28:59.619Z"
   },
   {
    "duration": 40,
    "start_time": "2024-07-18T08:28:59.628Z"
   },
   {
    "duration": 6,
    "start_time": "2024-07-18T08:28:59.669Z"
   },
   {
    "duration": 9,
    "start_time": "2024-07-18T08:28:59.678Z"
   },
   {
    "duration": 17,
    "start_time": "2024-07-18T08:28:59.689Z"
   },
   {
    "duration": 219,
    "start_time": "2024-07-18T08:28:59.708Z"
   },
   {
    "duration": 13,
    "start_time": "2024-07-18T08:28:59.929Z"
   },
   {
    "duration": 117,
    "start_time": "2024-07-18T08:28:59.944Z"
   },
   {
    "duration": 32,
    "start_time": "2024-07-18T08:29:00.064Z"
   },
   {
    "duration": 217,
    "start_time": "2024-07-18T08:29:00.098Z"
   },
   {
    "duration": 231,
    "start_time": "2024-07-18T08:29:00.317Z"
   },
   {
    "duration": 21,
    "start_time": "2024-07-18T08:29:00.549Z"
   },
   {
    "duration": 342,
    "start_time": "2024-07-18T08:29:00.572Z"
   },
   {
    "duration": 10,
    "start_time": "2024-07-18T08:29:00.916Z"
   },
   {
    "duration": 57,
    "start_time": "2024-07-18T08:29:00.928Z"
   },
   {
    "duration": 38,
    "start_time": "2024-07-18T08:29:00.988Z"
   },
   {
    "duration": 53,
    "start_time": "2024-07-18T08:29:01.028Z"
   },
   {
    "duration": 76,
    "start_time": "2024-07-18T08:29:01.083Z"
   },
   {
    "duration": 165,
    "start_time": "2024-07-18T08:29:01.161Z"
   },
   {
    "duration": 3,
    "start_time": "2024-07-18T08:29:01.330Z"
   },
   {
    "duration": 70,
    "start_time": "2024-07-18T08:29:01.335Z"
   },
   {
    "duration": 76,
    "start_time": "2024-07-18T08:29:01.407Z"
   },
   {
    "duration": 123,
    "start_time": "2024-07-18T08:29:01.485Z"
   },
   {
    "duration": 30,
    "start_time": "2024-07-18T08:29:01.611Z"
   },
   {
    "duration": 10,
    "start_time": "2024-07-18T08:29:01.643Z"
   },
   {
    "duration": 265,
    "start_time": "2024-07-18T08:29:01.655Z"
   },
   {
    "duration": 10,
    "start_time": "2024-07-18T08:29:01.922Z"
   },
   {
    "duration": 197,
    "start_time": "2024-07-18T08:29:01.934Z"
   },
   {
    "duration": 33,
    "start_time": "2024-07-18T08:29:02.133Z"
   },
   {
    "duration": 20,
    "start_time": "2024-07-18T08:29:02.168Z"
   },
   {
    "duration": 17,
    "start_time": "2024-07-18T08:29:02.189Z"
   },
   {
    "duration": 483,
    "start_time": "2024-07-18T08:29:02.208Z"
   },
   {
    "duration": 0,
    "start_time": "2024-07-18T08:29:02.693Z"
   },
   {
    "duration": 1,
    "start_time": "2024-07-18T08:29:02.695Z"
   },
   {
    "duration": 11,
    "start_time": "2024-07-18T08:29:40.957Z"
   },
   {
    "duration": 3,
    "start_time": "2024-07-18T08:30:06.790Z"
   },
   {
    "duration": 15,
    "start_time": "2024-07-18T08:30:10.758Z"
   },
   {
    "duration": 14,
    "start_time": "2024-07-18T08:30:29.790Z"
   },
   {
    "duration": 3,
    "start_time": "2024-07-18T08:30:39.500Z"
   },
   {
    "duration": 12,
    "start_time": "2024-07-18T08:30:40.340Z"
   },
   {
    "duration": 4,
    "start_time": "2024-07-18T08:32:22.107Z"
   },
   {
    "duration": 14,
    "start_time": "2024-07-18T08:32:32.536Z"
   },
   {
    "duration": 47,
    "start_time": "2024-07-19T09:44:43.516Z"
   },
   {
    "duration": 1480,
    "start_time": "2024-07-19T09:44:49.933Z"
   },
   {
    "duration": 281,
    "start_time": "2024-07-19T09:44:51.416Z"
   },
   {
    "duration": 4,
    "start_time": "2024-07-19T09:44:51.698Z"
   },
   {
    "duration": 301,
    "start_time": "2024-07-19T09:44:51.704Z"
   },
   {
    "duration": 375,
    "start_time": "2024-07-19T09:44:52.007Z"
   },
   {
    "duration": 8,
    "start_time": "2024-07-19T09:44:52.384Z"
   },
   {
    "duration": 22,
    "start_time": "2024-07-19T09:44:52.394Z"
   },
   {
    "duration": 18,
    "start_time": "2024-07-19T09:44:52.418Z"
   },
   {
    "duration": 17,
    "start_time": "2024-07-19T09:44:52.438Z"
   },
   {
    "duration": 26,
    "start_time": "2024-07-19T09:44:52.459Z"
   },
   {
    "duration": 5,
    "start_time": "2024-07-19T09:44:52.487Z"
   },
   {
    "duration": 48,
    "start_time": "2024-07-19T09:44:52.494Z"
   },
   {
    "duration": 50,
    "start_time": "2024-07-19T09:44:52.544Z"
   },
   {
    "duration": 178,
    "start_time": "2024-07-19T09:44:52.596Z"
   },
   {
    "duration": 10,
    "start_time": "2024-07-19T09:44:52.776Z"
   },
   {
    "duration": 125,
    "start_time": "2024-07-19T09:44:52.788Z"
   },
   {
    "duration": 11,
    "start_time": "2024-07-19T09:44:52.915Z"
   },
   {
    "duration": 258,
    "start_time": "2024-07-19T09:44:52.928Z"
   },
   {
    "duration": 216,
    "start_time": "2024-07-19T09:44:53.188Z"
   },
   {
    "duration": 9,
    "start_time": "2024-07-19T09:44:53.406Z"
   },
   {
    "duration": 240,
    "start_time": "2024-07-19T09:44:53.417Z"
   },
   {
    "duration": 11,
    "start_time": "2024-07-19T09:44:53.658Z"
   },
   {
    "duration": 18,
    "start_time": "2024-07-19T09:44:53.671Z"
   },
   {
    "duration": 21,
    "start_time": "2024-07-19T09:44:53.691Z"
   },
   {
    "duration": 48,
    "start_time": "2024-07-19T09:44:53.714Z"
   },
   {
    "duration": 22,
    "start_time": "2024-07-19T09:44:53.764Z"
   },
   {
    "duration": 164,
    "start_time": "2024-07-19T09:44:53.788Z"
   },
   {
    "duration": 5,
    "start_time": "2024-07-19T09:44:53.956Z"
   },
   {
    "duration": 48,
    "start_time": "2024-07-19T09:44:53.962Z"
   },
   {
    "duration": 10,
    "start_time": "2024-07-19T09:44:54.012Z"
   },
   {
    "duration": 35,
    "start_time": "2024-07-19T09:44:54.023Z"
   },
   {
    "duration": 44,
    "start_time": "2024-07-19T09:44:54.060Z"
   },
   {
    "duration": 16,
    "start_time": "2024-07-19T09:44:54.105Z"
   },
   {
    "duration": 245,
    "start_time": "2024-07-19T09:44:54.123Z"
   },
   {
    "duration": 9,
    "start_time": "2024-07-19T09:44:54.369Z"
   },
   {
    "duration": 221,
    "start_time": "2024-07-19T09:44:54.380Z"
   },
   {
    "duration": 20,
    "start_time": "2024-07-19T09:44:54.603Z"
   },
   {
    "duration": 43,
    "start_time": "2024-07-19T09:44:54.625Z"
   },
   {
    "duration": 14,
    "start_time": "2024-07-19T09:44:54.670Z"
   },
   {
    "duration": 27,
    "start_time": "2024-07-19T09:44:54.686Z"
   },
   {
    "duration": 42,
    "start_time": "2024-07-19T09:44:54.715Z"
   },
   {
    "duration": 33,
    "start_time": "2024-07-19T09:44:54.759Z"
   },
   {
    "duration": 52,
    "start_time": "2024-07-19T09:44:54.793Z"
   },
   {
    "duration": 33,
    "start_time": "2024-07-19T09:44:54.847Z"
   },
   {
    "duration": 14,
    "start_time": "2024-07-19T09:45:05.301Z"
   },
   {
    "duration": 34,
    "start_time": "2024-07-19T09:53:28.893Z"
   },
   {
    "duration": 1189,
    "start_time": "2024-07-19T09:54:11.392Z"
   },
   {
    "duration": 69,
    "start_time": "2024-07-19T09:54:12.583Z"
   },
   {
    "duration": 4,
    "start_time": "2024-07-19T09:54:12.653Z"
   },
   {
    "duration": 304,
    "start_time": "2024-07-19T09:54:12.659Z"
   },
   {
    "duration": 375,
    "start_time": "2024-07-19T09:54:12.965Z"
   },
   {
    "duration": 15,
    "start_time": "2024-07-19T09:54:13.343Z"
   },
   {
    "duration": 22,
    "start_time": "2024-07-19T09:54:13.359Z"
   },
   {
    "duration": 11,
    "start_time": "2024-07-19T09:54:13.382Z"
   },
   {
    "duration": 5,
    "start_time": "2024-07-19T09:54:13.395Z"
   },
   {
    "duration": 20,
    "start_time": "2024-07-19T09:54:13.403Z"
   },
   {
    "duration": 5,
    "start_time": "2024-07-19T09:54:13.424Z"
   },
   {
    "duration": 7,
    "start_time": "2024-07-19T09:54:13.455Z"
   },
   {
    "duration": 16,
    "start_time": "2024-07-19T09:54:13.463Z"
   },
   {
    "duration": 202,
    "start_time": "2024-07-19T09:54:13.481Z"
   },
   {
    "duration": 11,
    "start_time": "2024-07-19T09:54:13.685Z"
   },
   {
    "duration": 126,
    "start_time": "2024-07-19T09:54:13.698Z"
   },
   {
    "duration": 11,
    "start_time": "2024-07-19T09:54:13.825Z"
   },
   {
    "duration": 193,
    "start_time": "2024-07-19T09:54:13.837Z"
   },
   {
    "duration": 212,
    "start_time": "2024-07-19T09:54:14.031Z"
   },
   {
    "duration": 13,
    "start_time": "2024-07-19T09:54:14.244Z"
   },
   {
    "duration": 253,
    "start_time": "2024-07-19T09:54:14.260Z"
   },
   {
    "duration": 10,
    "start_time": "2024-07-19T09:54:14.514Z"
   },
   {
    "duration": 31,
    "start_time": "2024-07-19T09:54:14.526Z"
   },
   {
    "duration": 16,
    "start_time": "2024-07-19T09:54:14.560Z"
   },
   {
    "duration": 23,
    "start_time": "2024-07-19T09:54:14.578Z"
   },
   {
    "duration": 68,
    "start_time": "2024-07-19T09:54:14.603Z"
   },
   {
    "duration": 158,
    "start_time": "2024-07-19T09:54:14.672Z"
   },
   {
    "duration": 4,
    "start_time": "2024-07-19T09:54:14.835Z"
   },
   {
    "duration": 25,
    "start_time": "2024-07-19T09:54:14.856Z"
   },
   {
    "duration": 11,
    "start_time": "2024-07-19T09:54:14.883Z"
   },
   {
    "duration": 23,
    "start_time": "2024-07-19T09:54:14.896Z"
   },
   {
    "duration": 53,
    "start_time": "2024-07-19T09:54:14.921Z"
   },
   {
    "duration": 9,
    "start_time": "2024-07-19T09:54:14.977Z"
   },
   {
    "duration": 265,
    "start_time": "2024-07-19T09:54:14.989Z"
   },
   {
    "duration": 11,
    "start_time": "2024-07-19T09:54:15.256Z"
   },
   {
    "duration": 215,
    "start_time": "2024-07-19T09:54:15.269Z"
   },
   {
    "duration": 113,
    "start_time": "2024-07-19T09:54:15.486Z"
   },
   {
    "duration": 0,
    "start_time": "2024-07-19T09:54:15.601Z"
   },
   {
    "duration": 0,
    "start_time": "2024-07-19T09:54:15.602Z"
   },
   {
    "duration": 0,
    "start_time": "2024-07-19T09:54:15.603Z"
   },
   {
    "duration": 0,
    "start_time": "2024-07-19T09:54:15.604Z"
   },
   {
    "duration": 0,
    "start_time": "2024-07-19T09:54:15.605Z"
   },
   {
    "duration": 0,
    "start_time": "2024-07-19T09:54:15.606Z"
   },
   {
    "duration": 0,
    "start_time": "2024-07-19T09:54:15.607Z"
   },
   {
    "duration": 0,
    "start_time": "2024-07-19T09:54:15.608Z"
   },
   {
    "duration": 36,
    "start_time": "2024-07-19T10:29:09.697Z"
   },
   {
    "duration": 79,
    "start_time": "2024-07-19T10:32:10.494Z"
   },
   {
    "duration": 25,
    "start_time": "2024-07-19T10:32:47.036Z"
   },
   {
    "duration": 1213,
    "start_time": "2024-07-19T10:33:00.796Z"
   },
   {
    "duration": 69,
    "start_time": "2024-07-19T10:33:02.011Z"
   },
   {
    "duration": 34,
    "start_time": "2024-07-19T10:33:02.082Z"
   },
   {
    "duration": 326,
    "start_time": "2024-07-19T10:33:02.118Z"
   },
   {
    "duration": 376,
    "start_time": "2024-07-19T10:33:02.446Z"
   },
   {
    "duration": 9,
    "start_time": "2024-07-19T10:33:02.824Z"
   },
   {
    "duration": 24,
    "start_time": "2024-07-19T10:33:02.835Z"
   },
   {
    "duration": 35,
    "start_time": "2024-07-19T10:33:02.861Z"
   },
   {
    "duration": 28,
    "start_time": "2024-07-19T10:33:02.898Z"
   },
   {
    "duration": 39,
    "start_time": "2024-07-19T10:33:02.929Z"
   },
   {
    "duration": 51,
    "start_time": "2024-07-19T10:33:02.970Z"
   },
   {
    "duration": 50,
    "start_time": "2024-07-19T10:33:03.022Z"
   },
   {
    "duration": 35,
    "start_time": "2024-07-19T10:33:03.074Z"
   },
   {
    "duration": 215,
    "start_time": "2024-07-19T10:33:03.111Z"
   },
   {
    "duration": 11,
    "start_time": "2024-07-19T10:33:03.328Z"
   },
   {
    "duration": 143,
    "start_time": "2024-07-19T10:33:03.340Z"
   },
   {
    "duration": 12,
    "start_time": "2024-07-19T10:33:03.484Z"
   },
   {
    "duration": 208,
    "start_time": "2024-07-19T10:33:03.497Z"
   },
   {
    "duration": 200,
    "start_time": "2024-07-19T10:33:03.707Z"
   },
   {
    "duration": 9,
    "start_time": "2024-07-19T10:33:03.908Z"
   },
   {
    "duration": 243,
    "start_time": "2024-07-19T10:33:03.919Z"
   },
   {
    "duration": 9,
    "start_time": "2024-07-19T10:33:04.163Z"
   },
   {
    "duration": 28,
    "start_time": "2024-07-19T10:33:04.174Z"
   },
   {
    "duration": 27,
    "start_time": "2024-07-19T10:33:04.204Z"
   },
   {
    "duration": 60,
    "start_time": "2024-07-19T10:33:04.233Z"
   },
   {
    "duration": 23,
    "start_time": "2024-07-19T10:33:04.295Z"
   },
   {
    "duration": 153,
    "start_time": "2024-07-19T10:33:04.320Z"
   },
   {
    "duration": 4,
    "start_time": "2024-07-19T10:33:04.477Z"
   },
   {
    "duration": 33,
    "start_time": "2024-07-19T10:33:04.483Z"
   },
   {
    "duration": 11,
    "start_time": "2024-07-19T10:33:04.518Z"
   },
   {
    "duration": 45,
    "start_time": "2024-07-19T10:33:04.531Z"
   },
   {
    "duration": 20,
    "start_time": "2024-07-19T10:33:04.578Z"
   },
   {
    "duration": 12,
    "start_time": "2024-07-19T10:33:04.600Z"
   },
   {
    "duration": 256,
    "start_time": "2024-07-19T10:33:04.613Z"
   },
   {
    "duration": 9,
    "start_time": "2024-07-19T10:33:04.871Z"
   },
   {
    "duration": 219,
    "start_time": "2024-07-19T10:33:04.881Z"
   },
   {
    "duration": 133,
    "start_time": "2024-07-19T10:33:05.102Z"
   },
   {
    "duration": 0,
    "start_time": "2024-07-19T10:33:05.236Z"
   },
   {
    "duration": 0,
    "start_time": "2024-07-19T10:33:05.238Z"
   },
   {
    "duration": 0,
    "start_time": "2024-07-19T10:33:05.239Z"
   },
   {
    "duration": 0,
    "start_time": "2024-07-19T10:33:05.240Z"
   },
   {
    "duration": 0,
    "start_time": "2024-07-19T10:33:05.241Z"
   },
   {
    "duration": 0,
    "start_time": "2024-07-19T10:33:05.255Z"
   },
   {
    "duration": 0,
    "start_time": "2024-07-19T10:33:05.257Z"
   },
   {
    "duration": 0,
    "start_time": "2024-07-19T10:33:05.258Z"
   },
   {
    "duration": 10,
    "start_time": "2024-07-19T10:34:24.772Z"
   },
   {
    "duration": 1214,
    "start_time": "2024-07-19T10:35:29.572Z"
   },
   {
    "duration": 70,
    "start_time": "2024-07-19T10:35:30.789Z"
   },
   {
    "duration": 8,
    "start_time": "2024-07-19T10:35:30.861Z"
   },
   {
    "duration": 357,
    "start_time": "2024-07-19T10:35:30.871Z"
   },
   {
    "duration": 357,
    "start_time": "2024-07-19T10:35:31.231Z"
   },
   {
    "duration": 7,
    "start_time": "2024-07-19T10:35:31.590Z"
   },
   {
    "duration": 42,
    "start_time": "2024-07-19T10:35:31.599Z"
   },
   {
    "duration": 29,
    "start_time": "2024-07-19T10:35:31.643Z"
   },
   {
    "duration": 34,
    "start_time": "2024-07-19T10:35:31.674Z"
   },
   {
    "duration": 45,
    "start_time": "2024-07-19T10:35:31.710Z"
   },
   {
    "duration": 28,
    "start_time": "2024-07-19T10:35:31.757Z"
   },
   {
    "duration": 15,
    "start_time": "2024-07-19T10:35:31.786Z"
   },
   {
    "duration": 73,
    "start_time": "2024-07-19T10:35:31.803Z"
   },
   {
    "duration": 187,
    "start_time": "2024-07-19T10:35:31.881Z"
   },
   {
    "duration": 12,
    "start_time": "2024-07-19T10:35:32.070Z"
   },
   {
    "duration": 117,
    "start_time": "2024-07-19T10:35:32.084Z"
   },
   {
    "duration": 13,
    "start_time": "2024-07-19T10:35:32.203Z"
   },
   {
    "duration": 213,
    "start_time": "2024-07-19T10:35:32.218Z"
   },
   {
    "duration": 213,
    "start_time": "2024-07-19T10:35:32.433Z"
   },
   {
    "duration": 15,
    "start_time": "2024-07-19T10:35:32.647Z"
   },
   {
    "duration": 237,
    "start_time": "2024-07-19T10:35:32.664Z"
   },
   {
    "duration": 12,
    "start_time": "2024-07-19T10:35:32.903Z"
   },
   {
    "duration": 22,
    "start_time": "2024-07-19T10:35:32.917Z"
   },
   {
    "duration": 30,
    "start_time": "2024-07-19T10:35:32.941Z"
   },
   {
    "duration": 25,
    "start_time": "2024-07-19T10:35:32.974Z"
   },
   {
    "duration": 55,
    "start_time": "2024-07-19T10:35:33.001Z"
   },
   {
    "duration": 152,
    "start_time": "2024-07-19T10:35:33.059Z"
   },
   {
    "duration": 4,
    "start_time": "2024-07-19T10:35:33.213Z"
   },
   {
    "duration": 46,
    "start_time": "2024-07-19T10:35:33.219Z"
   },
   {
    "duration": 59,
    "start_time": "2024-07-19T10:35:33.267Z"
   },
   {
    "duration": 25,
    "start_time": "2024-07-19T10:35:33.329Z"
   },
   {
    "duration": 24,
    "start_time": "2024-07-19T10:35:33.356Z"
   },
   {
    "duration": 33,
    "start_time": "2024-07-19T10:35:33.382Z"
   },
   {
    "duration": 239,
    "start_time": "2024-07-19T10:35:33.417Z"
   },
   {
    "duration": 9,
    "start_time": "2024-07-19T10:35:33.658Z"
   },
   {
    "duration": 243,
    "start_time": "2024-07-19T10:35:33.668Z"
   },
   {
    "duration": 113,
    "start_time": "2024-07-19T10:35:33.913Z"
   },
   {
    "duration": 1,
    "start_time": "2024-07-19T10:35:34.027Z"
   },
   {
    "duration": 0,
    "start_time": "2024-07-19T10:35:34.029Z"
   },
   {
    "duration": 0,
    "start_time": "2024-07-19T10:35:34.030Z"
   },
   {
    "duration": 0,
    "start_time": "2024-07-19T10:35:34.031Z"
   },
   {
    "duration": 0,
    "start_time": "2024-07-19T10:35:34.032Z"
   },
   {
    "duration": 0,
    "start_time": "2024-07-19T10:35:34.033Z"
   },
   {
    "duration": 0,
    "start_time": "2024-07-19T10:35:34.034Z"
   },
   {
    "duration": 0,
    "start_time": "2024-07-19T10:35:34.035Z"
   },
   {
    "duration": 10,
    "start_time": "2024-07-19T10:36:33.775Z"
   },
   {
    "duration": 10,
    "start_time": "2024-07-19T10:37:33.723Z"
   },
   {
    "duration": 3,
    "start_time": "2024-07-19T10:38:47.512Z"
   },
   {
    "duration": 19,
    "start_time": "2024-07-19T10:39:41.654Z"
   },
   {
    "duration": 3,
    "start_time": "2024-07-19T10:41:26.715Z"
   },
   {
    "duration": 5,
    "start_time": "2024-07-19T10:41:32.244Z"
   },
   {
    "duration": 5,
    "start_time": "2024-07-19T10:41:42.410Z"
   },
   {
    "duration": 17,
    "start_time": "2024-07-19T10:41:57.926Z"
   },
   {
    "duration": 23,
    "start_time": "2024-07-19T10:42:32.325Z"
   },
   {
    "duration": 1184,
    "start_time": "2024-07-19T10:42:39.418Z"
   },
   {
    "duration": 69,
    "start_time": "2024-07-19T10:42:40.604Z"
   },
   {
    "duration": 4,
    "start_time": "2024-07-19T10:42:40.675Z"
   },
   {
    "duration": 294,
    "start_time": "2024-07-19T10:42:40.681Z"
   },
   {
    "duration": 358,
    "start_time": "2024-07-19T10:42:40.977Z"
   },
   {
    "duration": 7,
    "start_time": "2024-07-19T10:42:41.337Z"
   },
   {
    "duration": 15,
    "start_time": "2024-07-19T10:42:41.345Z"
   },
   {
    "duration": 9,
    "start_time": "2024-07-19T10:42:41.362Z"
   },
   {
    "duration": 5,
    "start_time": "2024-07-19T10:42:41.373Z"
   },
   {
    "duration": 13,
    "start_time": "2024-07-19T10:42:41.381Z"
   },
   {
    "duration": 13,
    "start_time": "2024-07-19T10:42:41.395Z"
   },
   {
    "duration": 6,
    "start_time": "2024-07-19T10:42:41.409Z"
   },
   {
    "duration": 16,
    "start_time": "2024-07-19T10:42:41.454Z"
   },
   {
    "duration": 174,
    "start_time": "2024-07-19T10:42:41.472Z"
   },
   {
    "duration": 13,
    "start_time": "2024-07-19T10:42:41.655Z"
   },
   {
    "duration": 108,
    "start_time": "2024-07-19T10:42:41.670Z"
   },
   {
    "duration": 14,
    "start_time": "2024-07-19T10:42:41.780Z"
   },
   {
    "duration": 205,
    "start_time": "2024-07-19T10:42:41.796Z"
   },
   {
    "duration": 204,
    "start_time": "2024-07-19T10:42:42.002Z"
   },
   {
    "duration": 9,
    "start_time": "2024-07-19T10:42:42.207Z"
   },
   {
    "duration": 230,
    "start_time": "2024-07-19T10:42:42.218Z"
   },
   {
    "duration": 9,
    "start_time": "2024-07-19T10:42:42.456Z"
   },
   {
    "duration": 13,
    "start_time": "2024-07-19T10:42:42.467Z"
   },
   {
    "duration": 20,
    "start_time": "2024-07-19T10:42:42.481Z"
   },
   {
    "duration": 53,
    "start_time": "2024-07-19T10:42:42.503Z"
   },
   {
    "duration": 22,
    "start_time": "2024-07-19T10:42:42.558Z"
   },
   {
    "duration": 159,
    "start_time": "2024-07-19T10:42:42.581Z"
   },
   {
    "duration": 12,
    "start_time": "2024-07-19T10:42:42.743Z"
   },
   {
    "duration": 34,
    "start_time": "2024-07-19T10:42:42.757Z"
   },
   {
    "duration": 9,
    "start_time": "2024-07-19T10:42:42.793Z"
   },
   {
    "duration": 29,
    "start_time": "2024-07-19T10:42:42.804Z"
   },
   {
    "duration": 36,
    "start_time": "2024-07-19T10:42:42.835Z"
   },
   {
    "duration": 9,
    "start_time": "2024-07-19T10:42:42.872Z"
   },
   {
    "duration": 249,
    "start_time": "2024-07-19T10:42:42.883Z"
   },
   {
    "duration": 22,
    "start_time": "2024-07-19T10:42:43.134Z"
   },
   {
    "duration": 214,
    "start_time": "2024-07-19T10:42:43.158Z"
   },
   {
    "duration": 20,
    "start_time": "2024-07-19T10:42:43.374Z"
   },
   {
    "duration": 124,
    "start_time": "2024-07-19T10:42:43.395Z"
   },
   {
    "duration": 0,
    "start_time": "2024-07-19T10:42:43.520Z"
   },
   {
    "duration": 0,
    "start_time": "2024-07-19T10:42:43.522Z"
   },
   {
    "duration": 0,
    "start_time": "2024-07-19T10:42:43.523Z"
   },
   {
    "duration": 0,
    "start_time": "2024-07-19T10:42:43.524Z"
   },
   {
    "duration": 0,
    "start_time": "2024-07-19T10:42:43.525Z"
   },
   {
    "duration": 0,
    "start_time": "2024-07-19T10:42:43.526Z"
   },
   {
    "duration": 0,
    "start_time": "2024-07-19T10:42:43.527Z"
   },
   {
    "duration": 11,
    "start_time": "2024-07-19T10:43:55.680Z"
   },
   {
    "duration": 1193,
    "start_time": "2024-07-19T10:44:43.408Z"
   },
   {
    "duration": 69,
    "start_time": "2024-07-19T10:44:44.603Z"
   },
   {
    "duration": 3,
    "start_time": "2024-07-19T10:44:44.674Z"
   },
   {
    "duration": 306,
    "start_time": "2024-07-19T10:44:44.679Z"
   },
   {
    "duration": 382,
    "start_time": "2024-07-19T10:44:44.988Z"
   },
   {
    "duration": 8,
    "start_time": "2024-07-19T10:44:45.371Z"
   },
   {
    "duration": 33,
    "start_time": "2024-07-19T10:44:45.380Z"
   },
   {
    "duration": 22,
    "start_time": "2024-07-19T10:44:45.414Z"
   },
   {
    "duration": 16,
    "start_time": "2024-07-19T10:44:45.438Z"
   },
   {
    "duration": 32,
    "start_time": "2024-07-19T10:44:45.456Z"
   },
   {
    "duration": 5,
    "start_time": "2024-07-19T10:44:45.490Z"
   },
   {
    "duration": 23,
    "start_time": "2024-07-19T10:44:45.496Z"
   },
   {
    "duration": 16,
    "start_time": "2024-07-19T10:44:45.520Z"
   },
   {
    "duration": 178,
    "start_time": "2024-07-19T10:44:45.539Z"
   },
   {
    "duration": 11,
    "start_time": "2024-07-19T10:44:45.719Z"
   },
   {
    "duration": 113,
    "start_time": "2024-07-19T10:44:45.731Z"
   },
   {
    "duration": 10,
    "start_time": "2024-07-19T10:44:45.846Z"
   },
   {
    "duration": 195,
    "start_time": "2024-07-19T10:44:45.858Z"
   },
   {
    "duration": 220,
    "start_time": "2024-07-19T10:44:46.054Z"
   },
   {
    "duration": 11,
    "start_time": "2024-07-19T10:44:46.276Z"
   },
   {
    "duration": 253,
    "start_time": "2024-07-19T10:44:46.290Z"
   },
   {
    "duration": 14,
    "start_time": "2024-07-19T10:44:46.544Z"
   },
   {
    "duration": 41,
    "start_time": "2024-07-19T10:44:46.560Z"
   },
   {
    "duration": 19,
    "start_time": "2024-07-19T10:44:46.603Z"
   },
   {
    "duration": 35,
    "start_time": "2024-07-19T10:44:46.624Z"
   },
   {
    "duration": 22,
    "start_time": "2024-07-19T10:44:46.661Z"
   },
   {
    "duration": 170,
    "start_time": "2024-07-19T10:44:46.685Z"
   },
   {
    "duration": 4,
    "start_time": "2024-07-19T10:44:46.856Z"
   },
   {
    "duration": 26,
    "start_time": "2024-07-19T10:44:46.862Z"
   },
   {
    "duration": 9,
    "start_time": "2024-07-19T10:44:46.890Z"
   },
   {
    "duration": 68,
    "start_time": "2024-07-19T10:44:46.901Z"
   },
   {
    "duration": 23,
    "start_time": "2024-07-19T10:44:46.971Z"
   },
   {
    "duration": 10,
    "start_time": "2024-07-19T10:44:46.996Z"
   },
   {
    "duration": 262,
    "start_time": "2024-07-19T10:44:47.007Z"
   },
   {
    "duration": 9,
    "start_time": "2024-07-19T10:44:47.271Z"
   },
   {
    "duration": 261,
    "start_time": "2024-07-19T10:44:47.282Z"
   },
   {
    "duration": 19,
    "start_time": "2024-07-19T10:44:47.545Z"
   },
   {
    "duration": 157,
    "start_time": "2024-07-19T10:44:47.567Z"
   },
   {
    "duration": 0,
    "start_time": "2024-07-19T10:44:47.726Z"
   },
   {
    "duration": 0,
    "start_time": "2024-07-19T10:44:47.728Z"
   },
   {
    "duration": 0,
    "start_time": "2024-07-19T10:44:47.729Z"
   },
   {
    "duration": 0,
    "start_time": "2024-07-19T10:44:47.731Z"
   },
   {
    "duration": 0,
    "start_time": "2024-07-19T10:44:47.732Z"
   },
   {
    "duration": 0,
    "start_time": "2024-07-19T10:44:47.734Z"
   },
   {
    "duration": 0,
    "start_time": "2024-07-19T10:44:47.736Z"
   },
   {
    "duration": 18,
    "start_time": "2024-07-19T10:45:43.668Z"
   },
   {
    "duration": 14,
    "start_time": "2024-07-19T10:45:54.761Z"
   },
   {
    "duration": 6,
    "start_time": "2024-07-19T10:46:24.382Z"
   },
   {
    "duration": 19,
    "start_time": "2024-07-19T11:11:26.649Z"
   },
   {
    "duration": 34,
    "start_time": "2024-07-19T11:13:47.715Z"
   },
   {
    "duration": 30,
    "start_time": "2024-07-19T11:15:08.731Z"
   },
   {
    "duration": 16,
    "start_time": "2024-07-19T11:16:01.321Z"
   },
   {
    "duration": 4,
    "start_time": "2024-07-19T11:16:02.499Z"
   },
   {
    "duration": 15,
    "start_time": "2024-07-19T11:16:05.454Z"
   },
   {
    "duration": 4,
    "start_time": "2024-07-19T11:16:21.012Z"
   },
   {
    "duration": 14,
    "start_time": "2024-07-19T11:16:23.103Z"
   },
   {
    "duration": 5,
    "start_time": "2024-07-19T11:17:14.887Z"
   },
   {
    "duration": 16,
    "start_time": "2024-07-19T11:17:16.293Z"
   },
   {
    "duration": 34,
    "start_time": "2024-07-19T11:19:07.645Z"
   },
   {
    "duration": 47,
    "start_time": "2024-07-21T08:42:26.106Z"
   },
   {
    "duration": 5,
    "start_time": "2024-07-21T08:42:38.747Z"
   },
   {
    "duration": 1309,
    "start_time": "2024-07-21T08:42:44.050Z"
   },
   {
    "duration": 369,
    "start_time": "2024-07-21T08:42:45.361Z"
   },
   {
    "duration": 3,
    "start_time": "2024-07-21T08:42:45.731Z"
   },
   {
    "duration": 270,
    "start_time": "2024-07-21T08:42:45.736Z"
   },
   {
    "duration": 336,
    "start_time": "2024-07-21T08:42:46.008Z"
   },
   {
    "duration": 7,
    "start_time": "2024-07-21T08:42:46.346Z"
   },
   {
    "duration": 46,
    "start_time": "2024-07-21T08:42:46.355Z"
   },
   {
    "duration": 9,
    "start_time": "2024-07-21T08:42:46.403Z"
   },
   {
    "duration": 9,
    "start_time": "2024-07-21T08:42:46.413Z"
   },
   {
    "duration": 13,
    "start_time": "2024-07-21T08:42:46.423Z"
   },
   {
    "duration": 4,
    "start_time": "2024-07-21T08:42:46.437Z"
   },
   {
    "duration": 6,
    "start_time": "2024-07-21T08:42:46.442Z"
   },
   {
    "duration": 14,
    "start_time": "2024-07-21T08:42:46.449Z"
   },
   {
    "duration": 191,
    "start_time": "2024-07-21T08:42:46.466Z"
   },
   {
    "duration": 10,
    "start_time": "2024-07-21T08:42:46.658Z"
   },
   {
    "duration": 109,
    "start_time": "2024-07-21T08:42:46.670Z"
   },
   {
    "duration": 12,
    "start_time": "2024-07-21T08:42:46.780Z"
   },
   {
    "duration": 179,
    "start_time": "2024-07-21T08:42:46.793Z"
   },
   {
    "duration": 200,
    "start_time": "2024-07-21T08:42:46.974Z"
   },
   {
    "duration": 8,
    "start_time": "2024-07-21T08:42:47.176Z"
   },
   {
    "duration": 215,
    "start_time": "2024-07-21T08:42:47.186Z"
   },
   {
    "duration": 9,
    "start_time": "2024-07-21T08:42:47.403Z"
   },
   {
    "duration": 12,
    "start_time": "2024-07-21T08:42:47.424Z"
   },
   {
    "duration": 14,
    "start_time": "2024-07-21T08:42:47.438Z"
   },
   {
    "duration": 22,
    "start_time": "2024-07-21T08:42:47.454Z"
   },
   {
    "duration": 53,
    "start_time": "2024-07-21T08:42:47.477Z"
   },
   {
    "duration": 138,
    "start_time": "2024-07-21T08:42:47.532Z"
   },
   {
    "duration": 4,
    "start_time": "2024-07-21T08:42:47.671Z"
   },
   {
    "duration": 71,
    "start_time": "2024-07-21T08:42:47.676Z"
   },
   {
    "duration": 8,
    "start_time": "2024-07-21T08:42:47.749Z"
   },
   {
    "duration": 20,
    "start_time": "2024-07-21T08:42:47.758Z"
   },
   {
    "duration": 17,
    "start_time": "2024-07-21T08:42:47.780Z"
   },
   {
    "duration": 29,
    "start_time": "2024-07-21T08:42:47.798Z"
   },
   {
    "duration": 215,
    "start_time": "2024-07-21T08:42:47.828Z"
   },
   {
    "duration": 8,
    "start_time": "2024-07-21T08:42:48.044Z"
   },
   {
    "duration": 207,
    "start_time": "2024-07-21T08:42:48.053Z"
   },
   {
    "duration": 29,
    "start_time": "2024-07-21T08:42:48.262Z"
   },
   {
    "duration": 62,
    "start_time": "2024-07-21T08:42:48.292Z"
   },
   {
    "duration": 70,
    "start_time": "2024-07-21T08:42:48.355Z"
   },
   {
    "duration": 4,
    "start_time": "2024-07-21T08:42:48.427Z"
   },
   {
    "duration": 17,
    "start_time": "2024-07-21T08:42:48.436Z"
   },
   {
    "duration": 4,
    "start_time": "2024-07-21T08:42:48.455Z"
   },
   {
    "duration": 13,
    "start_time": "2024-07-21T08:42:48.460Z"
   },
   {
    "duration": 18,
    "start_time": "2024-07-21T08:42:48.475Z"
   },
   {
    "duration": 40,
    "start_time": "2024-07-21T08:42:48.494Z"
   },
   {
    "duration": 13,
    "start_time": "2024-07-21T08:42:48.536Z"
   },
   {
    "duration": 15,
    "start_time": "2024-07-21T08:42:48.551Z"
   },
   {
    "duration": 298,
    "start_time": "2024-07-21T08:47:54.568Z"
   },
   {
    "duration": 1163,
    "start_time": "2024-07-21T08:48:11.882Z"
   },
   {
    "duration": 74,
    "start_time": "2024-07-21T08:48:13.047Z"
   },
   {
    "duration": 3,
    "start_time": "2024-07-21T08:48:13.123Z"
   },
   {
    "duration": 285,
    "start_time": "2024-07-21T08:48:13.128Z"
   },
   {
    "duration": 341,
    "start_time": "2024-07-21T08:48:13.423Z"
   },
   {
    "duration": 7,
    "start_time": "2024-07-21T08:48:13.766Z"
   },
   {
    "duration": 7,
    "start_time": "2024-07-21T08:48:13.774Z"
   },
   {
    "duration": 11,
    "start_time": "2024-07-21T08:48:13.783Z"
   },
   {
    "duration": 29,
    "start_time": "2024-07-21T08:48:13.795Z"
   },
   {
    "duration": 14,
    "start_time": "2024-07-21T08:48:13.827Z"
   },
   {
    "duration": 4,
    "start_time": "2024-07-21T08:48:13.842Z"
   },
   {
    "duration": 8,
    "start_time": "2024-07-21T08:48:13.848Z"
   },
   {
    "duration": 14,
    "start_time": "2024-07-21T08:48:13.857Z"
   },
   {
    "duration": 186,
    "start_time": "2024-07-21T08:48:13.872Z"
   },
   {
    "duration": 10,
    "start_time": "2024-07-21T08:48:14.059Z"
   },
   {
    "duration": 102,
    "start_time": "2024-07-21T08:48:14.070Z"
   },
   {
    "duration": 10,
    "start_time": "2024-07-21T08:48:14.174Z"
   },
   {
    "duration": 178,
    "start_time": "2024-07-21T08:48:14.185Z"
   },
   {
    "duration": 201,
    "start_time": "2024-07-21T08:48:14.364Z"
   },
   {
    "duration": 8,
    "start_time": "2024-07-21T08:48:14.567Z"
   },
   {
    "duration": 221,
    "start_time": "2024-07-21T08:48:14.576Z"
   },
   {
    "duration": 9,
    "start_time": "2024-07-21T08:48:14.799Z"
   },
   {
    "duration": 24,
    "start_time": "2024-07-21T08:48:14.810Z"
   },
   {
    "duration": 19,
    "start_time": "2024-07-21T08:48:14.835Z"
   },
   {
    "duration": 22,
    "start_time": "2024-07-21T08:48:14.856Z"
   },
   {
    "duration": 46,
    "start_time": "2024-07-21T08:48:14.880Z"
   },
   {
    "duration": 148,
    "start_time": "2024-07-21T08:48:14.928Z"
   },
   {
    "duration": 3,
    "start_time": "2024-07-21T08:48:15.081Z"
   },
   {
    "duration": 30,
    "start_time": "2024-07-21T08:48:15.086Z"
   },
   {
    "duration": 11,
    "start_time": "2024-07-21T08:48:15.124Z"
   },
   {
    "duration": 24,
    "start_time": "2024-07-21T08:48:15.136Z"
   },
   {
    "duration": 19,
    "start_time": "2024-07-21T08:48:15.162Z"
   },
   {
    "duration": 9,
    "start_time": "2024-07-21T08:48:15.182Z"
   },
   {
    "duration": 252,
    "start_time": "2024-07-21T08:48:15.192Z"
   },
   {
    "duration": 8,
    "start_time": "2024-07-21T08:48:15.446Z"
   },
   {
    "duration": 199,
    "start_time": "2024-07-21T08:48:15.455Z"
   },
   {
    "duration": 30,
    "start_time": "2024-07-21T08:48:15.655Z"
   },
   {
    "duration": 44,
    "start_time": "2024-07-21T08:48:15.687Z"
   },
   {
    "duration": 30,
    "start_time": "2024-07-21T08:48:15.732Z"
   },
   {
    "duration": 2,
    "start_time": "2024-07-21T08:48:15.764Z"
   },
   {
    "duration": 12,
    "start_time": "2024-07-21T08:48:15.768Z"
   },
   {
    "duration": 3,
    "start_time": "2024-07-21T08:48:15.782Z"
   },
   {
    "duration": 12,
    "start_time": "2024-07-21T08:48:15.786Z"
   },
   {
    "duration": 4,
    "start_time": "2024-07-21T08:48:15.799Z"
   },
   {
    "duration": 34,
    "start_time": "2024-07-21T08:48:15.804Z"
   },
   {
    "duration": 15,
    "start_time": "2024-07-21T08:48:15.839Z"
   },
   {
    "duration": 19,
    "start_time": "2024-07-21T08:48:15.856Z"
   },
   {
    "duration": 4,
    "start_time": "2024-07-21T08:48:15.877Z"
   },
   {
    "duration": 4,
    "start_time": "2024-07-21T08:54:03.721Z"
   },
   {
    "duration": 17,
    "start_time": "2024-07-21T08:54:11.243Z"
   },
   {
    "duration": 113,
    "start_time": "2024-07-21T08:56:46.367Z"
   },
   {
    "duration": 21,
    "start_time": "2024-07-21T09:00:17.747Z"
   },
   {
    "duration": 20,
    "start_time": "2024-07-21T09:00:42.484Z"
   },
   {
    "duration": 22,
    "start_time": "2024-07-21T09:00:58.497Z"
   },
   {
    "duration": 19,
    "start_time": "2024-07-21T09:02:13.630Z"
   },
   {
    "duration": 15,
    "start_time": "2024-07-21T09:02:59.131Z"
   },
   {
    "duration": 9,
    "start_time": "2024-07-21T09:03:20.722Z"
   },
   {
    "duration": 5,
    "start_time": "2024-07-21T09:03:30.089Z"
   },
   {
    "duration": 28,
    "start_time": "2024-07-21T09:03:31.021Z"
   },
   {
    "duration": 15,
    "start_time": "2024-07-21T09:03:32.071Z"
   },
   {
    "duration": 15,
    "start_time": "2024-07-21T09:03:53.573Z"
   },
   {
    "duration": 15,
    "start_time": "2024-07-21T09:05:11.000Z"
   },
   {
    "duration": 5,
    "start_time": "2024-07-21T09:37:32.103Z"
   },
   {
    "duration": 4,
    "start_time": "2024-07-21T09:38:13.808Z"
   },
   {
    "duration": 5,
    "start_time": "2024-07-21T09:39:00.913Z"
   },
   {
    "duration": 4,
    "start_time": "2024-07-21T10:11:29.521Z"
   },
   {
    "duration": 1472,
    "start_time": "2024-07-22T09:49:17.678Z"
   },
   {
    "duration": 302,
    "start_time": "2024-07-22T09:49:19.152Z"
   },
   {
    "duration": 4,
    "start_time": "2024-07-22T09:49:19.456Z"
   },
   {
    "duration": 304,
    "start_time": "2024-07-22T09:49:19.462Z"
   },
   {
    "duration": 414,
    "start_time": "2024-07-22T09:49:19.768Z"
   },
   {
    "duration": 8,
    "start_time": "2024-07-22T09:49:20.183Z"
   },
   {
    "duration": 12,
    "start_time": "2024-07-22T09:49:20.192Z"
   },
   {
    "duration": 10,
    "start_time": "2024-07-22T09:49:20.206Z"
   },
   {
    "duration": 5,
    "start_time": "2024-07-22T09:49:20.218Z"
   },
   {
    "duration": 15,
    "start_time": "2024-07-22T09:49:20.226Z"
   },
   {
    "duration": 42,
    "start_time": "2024-07-22T09:49:20.243Z"
   },
   {
    "duration": 15,
    "start_time": "2024-07-22T09:49:20.287Z"
   },
   {
    "duration": 18,
    "start_time": "2024-07-22T09:49:20.304Z"
   },
   {
    "duration": 199,
    "start_time": "2024-07-22T09:49:20.324Z"
   },
   {
    "duration": 11,
    "start_time": "2024-07-22T09:49:20.525Z"
   },
   {
    "duration": 114,
    "start_time": "2024-07-22T09:49:20.538Z"
   },
   {
    "duration": 11,
    "start_time": "2024-07-22T09:49:20.653Z"
   },
   {
    "duration": 205,
    "start_time": "2024-07-22T09:49:20.665Z"
   },
   {
    "duration": 235,
    "start_time": "2024-07-22T09:49:20.872Z"
   },
   {
    "duration": 10,
    "start_time": "2024-07-22T09:49:21.109Z"
   },
   {
    "duration": 237,
    "start_time": "2024-07-22T09:49:21.121Z"
   },
   {
    "duration": 13,
    "start_time": "2024-07-22T09:49:21.360Z"
   },
   {
    "duration": 72,
    "start_time": "2024-07-22T09:49:21.381Z"
   },
   {
    "duration": 17,
    "start_time": "2024-07-22T09:49:21.454Z"
   },
   {
    "duration": 24,
    "start_time": "2024-07-22T09:49:21.473Z"
   },
   {
    "duration": 22,
    "start_time": "2024-07-22T09:49:21.499Z"
   },
   {
    "duration": 169,
    "start_time": "2024-07-22T09:49:21.523Z"
   },
   {
    "duration": 4,
    "start_time": "2024-07-22T09:49:21.696Z"
   },
   {
    "duration": 29,
    "start_time": "2024-07-22T09:49:21.702Z"
   },
   {
    "duration": 12,
    "start_time": "2024-07-22T09:49:21.733Z"
   },
   {
    "duration": 47,
    "start_time": "2024-07-22T09:49:21.747Z"
   },
   {
    "duration": 27,
    "start_time": "2024-07-22T09:49:21.797Z"
   },
   {
    "duration": 12,
    "start_time": "2024-07-22T09:49:21.826Z"
   },
   {
    "duration": 351,
    "start_time": "2024-07-22T09:49:21.841Z"
   },
   {
    "duration": 9,
    "start_time": "2024-07-22T09:49:22.194Z"
   },
   {
    "duration": 215,
    "start_time": "2024-07-22T09:49:22.205Z"
   },
   {
    "duration": 44,
    "start_time": "2024-07-22T09:49:22.422Z"
   },
   {
    "duration": 73,
    "start_time": "2024-07-22T09:49:22.467Z"
   },
   {
    "duration": 16,
    "start_time": "2024-07-22T09:49:22.542Z"
   },
   {
    "duration": 10,
    "start_time": "2024-07-22T09:49:22.561Z"
   },
   {
    "duration": 26,
    "start_time": "2024-07-22T09:49:22.573Z"
   },
   {
    "duration": 8,
    "start_time": "2024-07-22T09:49:22.601Z"
   },
   {
    "duration": 21,
    "start_time": "2024-07-22T09:49:22.612Z"
   },
   {
    "duration": 6,
    "start_time": "2024-07-22T09:49:22.635Z"
   },
   {
    "duration": 7,
    "start_time": "2024-07-22T09:49:22.642Z"
   },
   {
    "duration": 50,
    "start_time": "2024-07-22T09:49:22.651Z"
   },
   {
    "duration": 20,
    "start_time": "2024-07-22T09:49:22.703Z"
   },
   {
    "duration": 17,
    "start_time": "2024-07-22T09:49:22.725Z"
   },
   {
    "duration": 45,
    "start_time": "2024-07-22T09:49:22.744Z"
   },
   {
    "duration": 18,
    "start_time": "2024-07-22T09:49:22.790Z"
   },
   {
    "duration": 77,
    "start_time": "2024-07-22T09:49:22.810Z"
   },
   {
    "duration": 0,
    "start_time": "2024-07-22T09:49:22.889Z"
   },
   {
    "duration": 6,
    "start_time": "2024-07-22T09:49:44.091Z"
   },
   {
    "duration": 5,
    "start_time": "2024-07-22T11:47:18.099Z"
   },
   {
    "duration": 83,
    "start_time": "2024-07-22T11:47:57.512Z"
   },
   {
    "duration": 108,
    "start_time": "2024-07-22T11:48:02.378Z"
   },
   {
    "duration": 68,
    "start_time": "2024-07-22T11:52:10.890Z"
   },
   {
    "duration": 9,
    "start_time": "2024-07-22T11:53:10.888Z"
   },
   {
    "duration": 80,
    "start_time": "2024-07-22T11:55:20.634Z"
   },
   {
    "duration": 4,
    "start_time": "2024-07-22T12:53:57.314Z"
   },
   {
    "duration": 7,
    "start_time": "2024-07-22T12:58:19.927Z"
   },
   {
    "duration": 1228,
    "start_time": "2024-07-22T12:58:38.186Z"
   },
   {
    "duration": 70,
    "start_time": "2024-07-22T12:58:39.416Z"
   },
   {
    "duration": 3,
    "start_time": "2024-07-22T12:58:39.488Z"
   },
   {
    "duration": 320,
    "start_time": "2024-07-22T12:58:39.493Z"
   },
   {
    "duration": 359,
    "start_time": "2024-07-22T12:58:39.815Z"
   },
   {
    "duration": 10,
    "start_time": "2024-07-22T12:58:40.176Z"
   },
   {
    "duration": 16,
    "start_time": "2024-07-22T12:58:40.188Z"
   },
   {
    "duration": 15,
    "start_time": "2024-07-22T12:58:40.205Z"
   },
   {
    "duration": 5,
    "start_time": "2024-07-22T12:58:40.221Z"
   },
   {
    "duration": 15,
    "start_time": "2024-07-22T12:58:40.228Z"
   },
   {
    "duration": 38,
    "start_time": "2024-07-22T12:58:40.244Z"
   },
   {
    "duration": 15,
    "start_time": "2024-07-22T12:58:40.284Z"
   },
   {
    "duration": 16,
    "start_time": "2024-07-22T12:58:40.300Z"
   },
   {
    "duration": 178,
    "start_time": "2024-07-22T12:58:40.318Z"
   },
   {
    "duration": 11,
    "start_time": "2024-07-22T12:58:40.497Z"
   },
   {
    "duration": 114,
    "start_time": "2024-07-22T12:58:40.509Z"
   },
   {
    "duration": 11,
    "start_time": "2024-07-22T12:58:40.625Z"
   },
   {
    "duration": 187,
    "start_time": "2024-07-22T12:58:40.637Z"
   },
   {
    "duration": 215,
    "start_time": "2024-07-22T12:58:40.825Z"
   },
   {
    "duration": 9,
    "start_time": "2024-07-22T12:58:41.042Z"
   },
   {
    "duration": 253,
    "start_time": "2024-07-22T12:58:41.053Z"
   },
   {
    "duration": 14,
    "start_time": "2024-07-22T12:58:41.308Z"
   },
   {
    "duration": 17,
    "start_time": "2024-07-22T12:58:41.324Z"
   },
   {
    "duration": 44,
    "start_time": "2024-07-22T12:58:41.343Z"
   },
   {
    "duration": 23,
    "start_time": "2024-07-22T12:58:41.389Z"
   },
   {
    "duration": 22,
    "start_time": "2024-07-22T12:58:41.414Z"
   },
   {
    "duration": 182,
    "start_time": "2024-07-22T12:58:41.438Z"
   },
   {
    "duration": 4,
    "start_time": "2024-07-22T12:58:41.624Z"
   },
   {
    "duration": 46,
    "start_time": "2024-07-22T12:58:41.629Z"
   },
   {
    "duration": 9,
    "start_time": "2024-07-22T12:58:41.677Z"
   },
   {
    "duration": 21,
    "start_time": "2024-07-22T12:58:41.687Z"
   },
   {
    "duration": 19,
    "start_time": "2024-07-22T12:58:41.710Z"
   },
   {
    "duration": 8,
    "start_time": "2024-07-22T12:58:41.730Z"
   },
   {
    "duration": 264,
    "start_time": "2024-07-22T12:58:41.740Z"
   },
   {
    "duration": 8,
    "start_time": "2024-07-22T12:58:42.006Z"
   },
   {
    "duration": 206,
    "start_time": "2024-07-22T12:58:42.015Z"
   },
   {
    "duration": 32,
    "start_time": "2024-07-22T12:58:42.222Z"
   },
   {
    "duration": 48,
    "start_time": "2024-07-22T12:58:42.255Z"
   },
   {
    "duration": 16,
    "start_time": "2024-07-22T12:58:42.305Z"
   },
   {
    "duration": 3,
    "start_time": "2024-07-22T12:58:42.322Z"
   },
   {
    "duration": 14,
    "start_time": "2024-07-22T12:58:42.327Z"
   },
   {
    "duration": 3,
    "start_time": "2024-07-22T12:58:42.342Z"
   },
   {
    "duration": 15,
    "start_time": "2024-07-22T12:58:42.382Z"
   },
   {
    "duration": 4,
    "start_time": "2024-07-22T12:58:42.399Z"
   },
   {
    "duration": 10,
    "start_time": "2024-07-22T12:58:42.405Z"
   },
   {
    "duration": 29,
    "start_time": "2024-07-22T12:58:42.417Z"
   },
   {
    "duration": 46,
    "start_time": "2024-07-22T12:58:42.448Z"
   },
   {
    "duration": 17,
    "start_time": "2024-07-22T12:58:42.496Z"
   },
   {
    "duration": 15,
    "start_time": "2024-07-22T12:58:42.515Z"
   },
   {
    "duration": 22,
    "start_time": "2024-07-22T12:58:42.531Z"
   },
   {
    "duration": 31,
    "start_time": "2024-07-22T12:58:42.555Z"
   },
   {
    "duration": 6,
    "start_time": "2024-07-22T13:00:50.840Z"
   },
   {
    "duration": 7,
    "start_time": "2024-07-22T13:18:08.873Z"
   },
   {
    "duration": 7,
    "start_time": "2024-07-22T13:19:55.807Z"
   },
   {
    "duration": 5,
    "start_time": "2024-07-22T13:21:45.524Z"
   },
   {
    "duration": 8,
    "start_time": "2024-07-22T13:21:54.174Z"
   },
   {
    "duration": 6,
    "start_time": "2024-07-22T13:22:00.533Z"
   },
   {
    "duration": 73,
    "start_time": "2024-07-22T13:22:38.427Z"
   },
   {
    "duration": 79,
    "start_time": "2024-07-22T13:34:43.228Z"
   },
   {
    "duration": 6,
    "start_time": "2024-07-22T13:39:48.968Z"
   },
   {
    "duration": 5,
    "start_time": "2024-07-22T13:42:56.940Z"
   },
   {
    "duration": 65,
    "start_time": "2024-07-22T13:44:44.194Z"
   },
   {
    "duration": 1604,
    "start_time": "2024-07-22T13:57:39.699Z"
   },
   {
    "duration": 1224,
    "start_time": "2024-07-22T13:58:18.102Z"
   },
   {
    "duration": 71,
    "start_time": "2024-07-22T13:58:19.328Z"
   },
   {
    "duration": 3,
    "start_time": "2024-07-22T13:58:19.401Z"
   },
   {
    "duration": 295,
    "start_time": "2024-07-22T13:58:19.405Z"
   },
   {
    "duration": 370,
    "start_time": "2024-07-22T13:58:19.701Z"
   },
   {
    "duration": 15,
    "start_time": "2024-07-22T13:58:20.073Z"
   },
   {
    "duration": 50,
    "start_time": "2024-07-22T13:58:20.089Z"
   },
   {
    "duration": 11,
    "start_time": "2024-07-22T13:58:20.140Z"
   },
   {
    "duration": 5,
    "start_time": "2024-07-22T13:58:20.152Z"
   },
   {
    "duration": 17,
    "start_time": "2024-07-22T13:58:20.158Z"
   },
   {
    "duration": 7,
    "start_time": "2024-07-22T13:58:20.177Z"
   },
   {
    "duration": 11,
    "start_time": "2024-07-22T13:58:20.185Z"
   },
   {
    "duration": 17,
    "start_time": "2024-07-22T13:58:20.198Z"
   },
   {
    "duration": 206,
    "start_time": "2024-07-22T13:58:20.218Z"
   },
   {
    "duration": 11,
    "start_time": "2024-07-22T13:58:20.425Z"
   },
   {
    "duration": 157,
    "start_time": "2024-07-22T13:58:20.438Z"
   },
   {
    "duration": 12,
    "start_time": "2024-07-22T13:58:20.597Z"
   },
   {
    "duration": 194,
    "start_time": "2024-07-22T13:58:20.610Z"
   },
   {
    "duration": 235,
    "start_time": "2024-07-22T13:58:20.806Z"
   },
   {
    "duration": 10,
    "start_time": "2024-07-22T13:58:21.043Z"
   },
   {
    "duration": 247,
    "start_time": "2024-07-22T13:58:21.054Z"
   },
   {
    "duration": 9,
    "start_time": "2024-07-22T13:58:21.303Z"
   },
   {
    "duration": 15,
    "start_time": "2024-07-22T13:58:21.314Z"
   },
   {
    "duration": 15,
    "start_time": "2024-07-22T13:58:21.330Z"
   },
   {
    "duration": 56,
    "start_time": "2024-07-22T13:58:21.347Z"
   },
   {
    "duration": 21,
    "start_time": "2024-07-22T13:58:21.405Z"
   },
   {
    "duration": 180,
    "start_time": "2024-07-22T13:58:21.428Z"
   },
   {
    "duration": 3,
    "start_time": "2024-07-22T13:58:21.610Z"
   },
   {
    "duration": 39,
    "start_time": "2024-07-22T13:58:21.615Z"
   },
   {
    "duration": 29,
    "start_time": "2024-07-22T13:58:21.655Z"
   },
   {
    "duration": 21,
    "start_time": "2024-07-22T13:58:21.686Z"
   },
   {
    "duration": 23,
    "start_time": "2024-07-22T13:58:21.708Z"
   },
   {
    "duration": 9,
    "start_time": "2024-07-22T13:58:21.732Z"
   },
   {
    "duration": 274,
    "start_time": "2024-07-22T13:58:21.743Z"
   },
   {
    "duration": 9,
    "start_time": "2024-07-22T13:58:22.018Z"
   },
   {
    "duration": 223,
    "start_time": "2024-07-22T13:58:22.028Z"
   },
   {
    "duration": 52,
    "start_time": "2024-07-22T13:58:22.254Z"
   },
   {
    "duration": 31,
    "start_time": "2024-07-22T13:58:22.308Z"
   },
   {
    "duration": 46,
    "start_time": "2024-07-22T13:58:22.341Z"
   },
   {
    "duration": 3,
    "start_time": "2024-07-22T13:58:22.388Z"
   },
   {
    "duration": 17,
    "start_time": "2024-07-22T13:58:22.397Z"
   },
   {
    "duration": 82,
    "start_time": "2024-07-22T13:58:22.415Z"
   },
   {
    "duration": 19,
    "start_time": "2024-07-22T13:58:22.498Z"
   },
   {
    "duration": 4,
    "start_time": "2024-07-22T13:58:22.519Z"
   },
   {
    "duration": 11,
    "start_time": "2024-07-22T13:58:22.525Z"
   },
   {
    "duration": 42,
    "start_time": "2024-07-22T13:58:22.537Z"
   },
   {
    "duration": 16,
    "start_time": "2024-07-22T13:58:22.581Z"
   },
   {
    "duration": 17,
    "start_time": "2024-07-22T13:58:22.599Z"
   },
   {
    "duration": 28,
    "start_time": "2024-07-22T13:58:22.618Z"
   },
   {
    "duration": 47,
    "start_time": "2024-07-22T13:58:22.648Z"
   },
   {
    "duration": 5,
    "start_time": "2024-07-22T13:58:22.697Z"
   },
   {
    "duration": 11,
    "start_time": "2024-07-22T13:58:22.704Z"
   },
   {
    "duration": 23,
    "start_time": "2024-07-22T13:58:22.716Z"
   },
   {
    "duration": 42,
    "start_time": "2024-07-22T13:58:22.741Z"
   },
   {
    "duration": 1212,
    "start_time": "2024-07-22T13:58:22.784Z"
   },
   {
    "duration": 6,
    "start_time": "2024-07-22T13:58:53.684Z"
   },
   {
    "duration": 5,
    "start_time": "2024-07-22T13:59:57.174Z"
   },
   {
    "duration": 111,
    "start_time": "2024-07-22T14:01:01.046Z"
   },
   {
    "duration": 1223,
    "start_time": "2024-07-22T14:30:49.763Z"
   },
   {
    "duration": 401,
    "start_time": "2024-07-22T14:30:50.988Z"
   },
   {
    "duration": 2,
    "start_time": "2024-07-22T14:30:51.391Z"
   },
   {
    "duration": 237,
    "start_time": "2024-07-22T14:30:51.394Z"
   },
   {
    "duration": 281,
    "start_time": "2024-07-22T14:30:51.633Z"
   },
   {
    "duration": 6,
    "start_time": "2024-07-22T14:30:51.916Z"
   },
   {
    "duration": 7,
    "start_time": "2024-07-22T14:30:51.923Z"
   },
   {
    "duration": 12,
    "start_time": "2024-07-22T14:30:51.931Z"
   },
   {
    "duration": 3,
    "start_time": "2024-07-22T14:30:51.945Z"
   },
   {
    "duration": 11,
    "start_time": "2024-07-22T14:30:51.950Z"
   },
   {
    "duration": 3,
    "start_time": "2024-07-22T14:30:51.962Z"
   },
   {
    "duration": 30,
    "start_time": "2024-07-22T14:30:51.967Z"
   },
   {
    "duration": 19,
    "start_time": "2024-07-22T14:30:51.998Z"
   },
   {
    "duration": 143,
    "start_time": "2024-07-22T14:30:52.020Z"
   },
   {
    "duration": 9,
    "start_time": "2024-07-22T14:30:52.164Z"
   },
   {
    "duration": 91,
    "start_time": "2024-07-22T14:30:52.175Z"
   },
   {
    "duration": 9,
    "start_time": "2024-07-22T14:30:52.268Z"
   },
   {
    "duration": 151,
    "start_time": "2024-07-22T14:30:52.279Z"
   },
   {
    "duration": 167,
    "start_time": "2024-07-22T14:30:52.432Z"
   },
   {
    "duration": 8,
    "start_time": "2024-07-22T14:30:52.601Z"
   },
   {
    "duration": 210,
    "start_time": "2024-07-22T14:30:52.610Z"
   },
   {
    "duration": 8,
    "start_time": "2024-07-22T14:30:52.821Z"
   },
   {
    "duration": 19,
    "start_time": "2024-07-22T14:30:52.830Z"
   },
   {
    "duration": 26,
    "start_time": "2024-07-22T14:30:52.850Z"
   },
   {
    "duration": 19,
    "start_time": "2024-07-22T14:30:52.877Z"
   },
   {
    "duration": 18,
    "start_time": "2024-07-22T14:30:52.898Z"
   },
   {
    "duration": 128,
    "start_time": "2024-07-22T14:30:52.918Z"
   },
   {
    "duration": 3,
    "start_time": "2024-07-22T14:30:53.047Z"
   },
   {
    "duration": 21,
    "start_time": "2024-07-22T14:30:53.052Z"
   },
   {
    "duration": 24,
    "start_time": "2024-07-22T14:30:53.074Z"
   },
   {
    "duration": 17,
    "start_time": "2024-07-22T14:30:53.100Z"
   },
   {
    "duration": 17,
    "start_time": "2024-07-22T14:30:53.118Z"
   },
   {
    "duration": 7,
    "start_time": "2024-07-22T14:30:53.136Z"
   },
   {
    "duration": 220,
    "start_time": "2024-07-22T14:30:53.144Z"
   },
   {
    "duration": 7,
    "start_time": "2024-07-22T14:30:53.366Z"
   },
   {
    "duration": 156,
    "start_time": "2024-07-22T14:30:53.375Z"
   },
   {
    "duration": 26,
    "start_time": "2024-07-22T14:30:53.532Z"
   },
   {
    "duration": 40,
    "start_time": "2024-07-22T14:30:53.560Z"
   },
   {
    "duration": 12,
    "start_time": "2024-07-22T14:30:53.601Z"
   },
   {
    "duration": 4,
    "start_time": "2024-07-22T14:30:53.614Z"
   },
   {
    "duration": 12,
    "start_time": "2024-07-22T14:30:53.621Z"
   },
   {
    "duration": 2,
    "start_time": "2024-07-22T14:30:53.635Z"
   },
   {
    "duration": 13,
    "start_time": "2024-07-22T14:30:53.638Z"
   },
   {
    "duration": 8,
    "start_time": "2024-07-22T14:30:53.652Z"
   },
   {
    "duration": 6,
    "start_time": "2024-07-22T14:30:53.661Z"
   },
   {
    "duration": 43,
    "start_time": "2024-07-22T14:30:53.668Z"
   },
   {
    "duration": 12,
    "start_time": "2024-07-22T14:30:53.712Z"
   },
   {
    "duration": 12,
    "start_time": "2024-07-22T14:30:53.725Z"
   },
   {
    "duration": 85,
    "start_time": "2024-07-22T14:30:53.738Z"
   },
   {
    "duration": 46,
    "start_time": "2024-07-22T14:30:53.824Z"
   },
   {
    "duration": 5,
    "start_time": "2024-07-22T14:30:53.871Z"
   },
   {
    "duration": 10,
    "start_time": "2024-07-22T14:30:53.877Z"
   },
   {
    "duration": 10,
    "start_time": "2024-07-22T14:30:53.889Z"
   },
   {
    "duration": 5,
    "start_time": "2024-07-22T14:30:53.900Z"
   },
   {
    "duration": 5,
    "start_time": "2024-07-22T14:30:53.906Z"
   },
   {
    "duration": 10,
    "start_time": "2024-07-22T14:30:53.912Z"
   },
   {
    "duration": 1053,
    "start_time": "2024-07-22T19:00:37.928Z"
   },
   {
    "duration": 77,
    "start_time": "2024-07-22T19:00:38.983Z"
   },
   {
    "duration": 3,
    "start_time": "2024-07-22T19:00:39.061Z"
   },
   {
    "duration": 228,
    "start_time": "2024-07-22T19:00:39.065Z"
   },
   {
    "duration": 284,
    "start_time": "2024-07-22T19:00:39.296Z"
   },
   {
    "duration": 15,
    "start_time": "2024-07-22T19:00:39.581Z"
   },
   {
    "duration": 7,
    "start_time": "2024-07-22T19:00:39.597Z"
   },
   {
    "duration": 9,
    "start_time": "2024-07-22T19:00:39.605Z"
   },
   {
    "duration": 4,
    "start_time": "2024-07-22T19:00:39.616Z"
   },
   {
    "duration": 31,
    "start_time": "2024-07-22T19:00:39.622Z"
   },
   {
    "duration": 4,
    "start_time": "2024-07-22T19:00:39.654Z"
   },
   {
    "duration": 5,
    "start_time": "2024-07-22T19:00:39.659Z"
   },
   {
    "duration": 16,
    "start_time": "2024-07-22T19:00:39.665Z"
   },
   {
    "duration": 149,
    "start_time": "2024-07-22T19:00:39.682Z"
   },
   {
    "duration": 8,
    "start_time": "2024-07-22T19:00:39.832Z"
   },
   {
    "duration": 92,
    "start_time": "2024-07-22T19:00:39.841Z"
   },
   {
    "duration": 9,
    "start_time": "2024-07-22T19:00:39.935Z"
   },
   {
    "duration": 152,
    "start_time": "2024-07-22T19:00:39.946Z"
   },
   {
    "duration": 182,
    "start_time": "2024-07-22T19:00:40.099Z"
   },
   {
    "duration": 16,
    "start_time": "2024-07-22T19:00:40.283Z"
   },
   {
    "duration": 197,
    "start_time": "2024-07-22T19:00:40.301Z"
   },
   {
    "duration": 9,
    "start_time": "2024-07-22T19:00:40.499Z"
   },
   {
    "duration": 31,
    "start_time": "2024-07-22T19:00:40.509Z"
   },
   {
    "duration": 62,
    "start_time": "2024-07-22T19:00:40.541Z"
   },
   {
    "duration": 19,
    "start_time": "2024-07-22T19:00:40.604Z"
   },
   {
    "duration": 18,
    "start_time": "2024-07-22T19:00:40.625Z"
   },
   {
    "duration": 136,
    "start_time": "2024-07-22T19:00:40.644Z"
   },
   {
    "duration": 3,
    "start_time": "2024-07-22T19:00:40.783Z"
   },
   {
    "duration": 32,
    "start_time": "2024-07-22T19:00:40.796Z"
   },
   {
    "duration": 8,
    "start_time": "2024-07-22T19:00:40.829Z"
   },
   {
    "duration": 20,
    "start_time": "2024-07-22T19:00:40.838Z"
   },
   {
    "duration": 16,
    "start_time": "2024-07-22T19:00:40.860Z"
   },
   {
    "duration": 19,
    "start_time": "2024-07-22T19:00:40.877Z"
   },
   {
    "duration": 214,
    "start_time": "2024-07-22T19:00:40.898Z"
   },
   {
    "duration": 7,
    "start_time": "2024-07-22T19:00:41.114Z"
   },
   {
    "duration": 161,
    "start_time": "2024-07-22T19:00:41.122Z"
   },
   {
    "duration": 31,
    "start_time": "2024-07-22T19:00:41.284Z"
   },
   {
    "duration": 23,
    "start_time": "2024-07-22T19:00:41.316Z"
   },
   {
    "duration": 12,
    "start_time": "2024-07-22T19:00:41.341Z"
   },
   {
    "duration": 5,
    "start_time": "2024-07-22T19:00:41.354Z"
   },
   {
    "duration": 13,
    "start_time": "2024-07-22T19:00:41.360Z"
   },
   {
    "duration": 3,
    "start_time": "2024-07-22T19:00:41.396Z"
   },
   {
    "duration": 31,
    "start_time": "2024-07-22T19:00:41.401Z"
   },
   {
    "duration": 8,
    "start_time": "2024-07-22T19:00:41.433Z"
   },
   {
    "duration": 4,
    "start_time": "2024-07-22T19:00:41.442Z"
   },
   {
    "duration": 21,
    "start_time": "2024-07-22T19:00:41.447Z"
   },
   {
    "duration": 11,
    "start_time": "2024-07-22T19:00:41.470Z"
   },
   {
    "duration": 20,
    "start_time": "2024-07-22T19:00:41.482Z"
   },
   {
    "duration": 63,
    "start_time": "2024-07-22T19:00:41.503Z"
   },
   {
    "duration": 16,
    "start_time": "2024-07-22T19:00:41.568Z"
   },
   {
    "duration": 5,
    "start_time": "2024-07-22T19:00:41.585Z"
   },
   {
    "duration": 4,
    "start_time": "2024-07-22T19:00:41.592Z"
   },
   {
    "duration": 25,
    "start_time": "2024-07-22T19:00:41.597Z"
   },
   {
    "duration": 22,
    "start_time": "2024-07-22T19:00:41.624Z"
   },
   {
    "duration": 7,
    "start_time": "2024-07-22T19:00:41.648Z"
   },
   {
    "duration": 7,
    "start_time": "2024-07-22T19:00:41.656Z"
   },
   {
    "duration": 1147,
    "start_time": "2024-07-22T19:02:15.194Z"
   },
   {
    "duration": 76,
    "start_time": "2024-07-22T19:02:16.343Z"
   },
   {
    "duration": 4,
    "start_time": "2024-07-22T19:02:16.421Z"
   },
   {
    "duration": 239,
    "start_time": "2024-07-22T19:02:16.426Z"
   },
   {
    "duration": 309,
    "start_time": "2024-07-22T19:02:16.667Z"
   },
   {
    "duration": 6,
    "start_time": "2024-07-22T19:02:16.978Z"
   },
   {
    "duration": 7,
    "start_time": "2024-07-22T19:02:16.997Z"
   },
   {
    "duration": 10,
    "start_time": "2024-07-22T19:02:17.006Z"
   },
   {
    "duration": 5,
    "start_time": "2024-07-22T19:02:17.018Z"
   },
   {
    "duration": 13,
    "start_time": "2024-07-22T19:02:17.024Z"
   },
   {
    "duration": 5,
    "start_time": "2024-07-22T19:02:17.038Z"
   },
   {
    "duration": 16,
    "start_time": "2024-07-22T19:02:17.044Z"
   },
   {
    "duration": 45,
    "start_time": "2024-07-22T19:02:17.061Z"
   },
   {
    "duration": 148,
    "start_time": "2024-07-22T19:02:17.109Z"
   },
   {
    "duration": 11,
    "start_time": "2024-07-22T19:02:17.259Z"
   },
   {
    "duration": 93,
    "start_time": "2024-07-22T19:02:17.271Z"
   },
   {
    "duration": 10,
    "start_time": "2024-07-22T19:02:17.366Z"
   },
   {
    "duration": 177,
    "start_time": "2024-07-22T19:02:17.377Z"
   },
   {
    "duration": 185,
    "start_time": "2024-07-22T19:02:17.555Z"
   },
   {
    "duration": 9,
    "start_time": "2024-07-22T19:02:17.741Z"
   },
   {
    "duration": 222,
    "start_time": "2024-07-22T19:02:17.751Z"
   },
   {
    "duration": 9,
    "start_time": "2024-07-22T19:02:17.975Z"
   },
   {
    "duration": 12,
    "start_time": "2024-07-22T19:02:17.995Z"
   },
   {
    "duration": 25,
    "start_time": "2024-07-22T19:02:18.008Z"
   },
   {
    "duration": 20,
    "start_time": "2024-07-22T19:02:18.035Z"
   },
   {
    "duration": 20,
    "start_time": "2024-07-22T19:02:18.057Z"
   },
   {
    "duration": 130,
    "start_time": "2024-07-22T19:02:18.097Z"
   },
   {
    "duration": 4,
    "start_time": "2024-07-22T19:02:18.229Z"
   },
   {
    "duration": 20,
    "start_time": "2024-07-22T19:02:18.235Z"
   },
   {
    "duration": 9,
    "start_time": "2024-07-22T19:02:18.257Z"
   },
   {
    "duration": 44,
    "start_time": "2024-07-22T19:02:18.267Z"
   },
   {
    "duration": 17,
    "start_time": "2024-07-22T19:02:18.313Z"
   },
   {
    "duration": 8,
    "start_time": "2024-07-22T19:02:18.331Z"
   },
   {
    "duration": 233,
    "start_time": "2024-07-22T19:02:18.340Z"
   },
   {
    "duration": 8,
    "start_time": "2024-07-22T19:02:18.574Z"
   },
   {
    "duration": 167,
    "start_time": "2024-07-22T19:02:18.583Z"
   },
   {
    "duration": 25,
    "start_time": "2024-07-22T19:02:18.752Z"
   },
   {
    "duration": 39,
    "start_time": "2024-07-22T19:02:18.779Z"
   },
   {
    "duration": 14,
    "start_time": "2024-07-22T19:02:18.820Z"
   },
   {
    "duration": 3,
    "start_time": "2024-07-22T19:02:18.836Z"
   },
   {
    "duration": 12,
    "start_time": "2024-07-22T19:02:18.843Z"
   },
   {
    "duration": 3,
    "start_time": "2024-07-22T19:02:18.856Z"
   },
   {
    "duration": 42,
    "start_time": "2024-07-22T19:02:18.861Z"
   },
   {
    "duration": 72,
    "start_time": "2024-07-22T19:02:18.904Z"
   },
   {
    "duration": 8,
    "start_time": "2024-07-22T19:02:18.977Z"
   },
   {
    "duration": 23,
    "start_time": "2024-07-22T19:02:18.986Z"
   },
   {
    "duration": 13,
    "start_time": "2024-07-22T19:02:19.011Z"
   },
   {
    "duration": 23,
    "start_time": "2024-07-22T19:02:19.025Z"
   },
   {
    "duration": 21,
    "start_time": "2024-07-22T19:02:19.049Z"
   },
   {
    "duration": 27,
    "start_time": "2024-07-22T19:02:19.071Z"
   },
   {
    "duration": 5,
    "start_time": "2024-07-22T19:02:19.099Z"
   },
   {
    "duration": 6,
    "start_time": "2024-07-22T19:02:19.105Z"
   },
   {
    "duration": 13,
    "start_time": "2024-07-22T19:02:19.113Z"
   },
   {
    "duration": 4,
    "start_time": "2024-07-22T19:02:19.127Z"
   },
   {
    "duration": 5,
    "start_time": "2024-07-22T19:02:19.132Z"
   },
   {
    "duration": 5,
    "start_time": "2024-07-22T19:02:19.138Z"
   },
   {
    "duration": 12,
    "start_time": "2024-07-22T19:50:31.689Z"
   },
   {
    "duration": 11,
    "start_time": "2024-07-22T19:50:57.235Z"
   },
   {
    "duration": 1083,
    "start_time": "2024-07-22T20:20:44.995Z"
   },
   {
    "duration": 76,
    "start_time": "2024-07-22T20:20:46.080Z"
   },
   {
    "duration": 3,
    "start_time": "2024-07-22T20:20:46.157Z"
   },
   {
    "duration": 235,
    "start_time": "2024-07-22T20:20:46.162Z"
   },
   {
    "duration": 286,
    "start_time": "2024-07-22T20:20:46.398Z"
   },
   {
    "duration": 14,
    "start_time": "2024-07-22T20:20:46.685Z"
   },
   {
    "duration": 7,
    "start_time": "2024-07-22T20:20:46.700Z"
   },
   {
    "duration": 8,
    "start_time": "2024-07-22T20:20:46.708Z"
   },
   {
    "duration": 3,
    "start_time": "2024-07-22T20:20:46.718Z"
   },
   {
    "duration": 12,
    "start_time": "2024-07-22T20:20:46.723Z"
   },
   {
    "duration": 4,
    "start_time": "2024-07-22T20:20:46.736Z"
   },
   {
    "duration": 4,
    "start_time": "2024-07-22T20:20:46.741Z"
   },
   {
    "duration": 11,
    "start_time": "2024-07-22T20:20:46.747Z"
   },
   {
    "duration": 10,
    "start_time": "2024-07-22T20:20:46.796Z"
   },
   {
    "duration": 141,
    "start_time": "2024-07-22T20:20:46.807Z"
   },
   {
    "duration": 9,
    "start_time": "2024-07-22T20:20:46.949Z"
   },
   {
    "duration": 84,
    "start_time": "2024-07-22T20:20:46.959Z"
   },
   {
    "duration": 9,
    "start_time": "2024-07-22T20:20:47.045Z"
   },
   {
    "duration": 154,
    "start_time": "2024-07-22T20:20:47.056Z"
   },
   {
    "duration": 162,
    "start_time": "2024-07-22T20:20:47.211Z"
   },
   {
    "duration": 6,
    "start_time": "2024-07-22T20:20:47.375Z"
   },
   {
    "duration": 186,
    "start_time": "2024-07-22T20:20:47.383Z"
   },
   {
    "duration": 9,
    "start_time": "2024-07-22T20:20:47.570Z"
   },
   {
    "duration": 23,
    "start_time": "2024-07-22T20:20:47.580Z"
   },
   {
    "duration": 12,
    "start_time": "2024-07-22T20:20:47.605Z"
   },
   {
    "duration": 18,
    "start_time": "2024-07-22T20:20:47.618Z"
   },
   {
    "duration": 17,
    "start_time": "2024-07-22T20:20:47.637Z"
   },
   {
    "duration": 127,
    "start_time": "2024-07-22T20:20:47.657Z"
   },
   {
    "duration": 11,
    "start_time": "2024-07-22T20:20:47.786Z"
   },
   {
    "duration": 22,
    "start_time": "2024-07-22T20:20:47.798Z"
   },
   {
    "duration": 7,
    "start_time": "2024-07-22T20:20:47.821Z"
   },
   {
    "duration": 23,
    "start_time": "2024-07-22T20:20:47.829Z"
   },
   {
    "duration": 15,
    "start_time": "2024-07-22T20:20:47.853Z"
   },
   {
    "duration": 7,
    "start_time": "2024-07-22T20:20:47.869Z"
   },
   {
    "duration": 196,
    "start_time": "2024-07-22T20:20:47.896Z"
   },
   {
    "duration": 7,
    "start_time": "2024-07-22T20:20:48.093Z"
   },
   {
    "duration": 171,
    "start_time": "2024-07-22T20:20:48.102Z"
   },
   {
    "duration": 33,
    "start_time": "2024-07-22T20:20:48.274Z"
   },
   {
    "duration": 23,
    "start_time": "2024-07-22T20:20:48.308Z"
   },
   {
    "duration": 12,
    "start_time": "2024-07-22T20:20:48.332Z"
   },
   {
    "duration": 2,
    "start_time": "2024-07-22T20:20:48.345Z"
   },
   {
    "duration": 11,
    "start_time": "2024-07-22T20:20:48.348Z"
   },
   {
    "duration": 2,
    "start_time": "2024-07-22T20:20:48.360Z"
   },
   {
    "duration": 40,
    "start_time": "2024-07-22T20:20:48.363Z"
   },
   {
    "duration": 4,
    "start_time": "2024-07-22T20:20:48.404Z"
   },
   {
    "duration": 4,
    "start_time": "2024-07-22T20:20:48.409Z"
   },
   {
    "duration": 20,
    "start_time": "2024-07-22T20:20:48.414Z"
   },
   {
    "duration": 11,
    "start_time": "2024-07-22T20:20:48.436Z"
   },
   {
    "duration": 12,
    "start_time": "2024-07-22T20:20:48.448Z"
   },
   {
    "duration": 38,
    "start_time": "2024-07-22T20:20:48.462Z"
   },
   {
    "duration": 14,
    "start_time": "2024-07-22T20:20:48.502Z"
   },
   {
    "duration": 5,
    "start_time": "2024-07-22T20:20:48.518Z"
   },
   {
    "duration": 4,
    "start_time": "2024-07-22T20:20:48.524Z"
   },
   {
    "duration": 5,
    "start_time": "2024-07-22T20:20:48.529Z"
   },
   {
    "duration": 4,
    "start_time": "2024-07-22T20:20:48.535Z"
   },
   {
    "duration": 4,
    "start_time": "2024-07-22T20:20:48.541Z"
   },
   {
    "duration": 9,
    "start_time": "2024-07-22T20:20:48.547Z"
   },
   {
    "duration": 1185,
    "start_time": "2024-07-23T07:34:43.821Z"
   },
   {
    "duration": 285,
    "start_time": "2024-07-23T07:34:45.008Z"
   },
   {
    "duration": 3,
    "start_time": "2024-07-23T07:34:45.294Z"
   },
   {
    "duration": 299,
    "start_time": "2024-07-23T07:34:45.299Z"
   },
   {
    "duration": 274,
    "start_time": "2024-07-23T07:34:45.601Z"
   },
   {
    "duration": 6,
    "start_time": "2024-07-23T07:34:45.876Z"
   },
   {
    "duration": 18,
    "start_time": "2024-07-23T07:34:45.884Z"
   },
   {
    "duration": 8,
    "start_time": "2024-07-23T07:34:45.904Z"
   },
   {
    "duration": 4,
    "start_time": "2024-07-23T07:34:45.913Z"
   },
   {
    "duration": 11,
    "start_time": "2024-07-23T07:34:45.919Z"
   },
   {
    "duration": 4,
    "start_time": "2024-07-23T07:34:45.931Z"
   },
   {
    "duration": 7,
    "start_time": "2024-07-23T07:34:45.936Z"
   },
   {
    "duration": 58,
    "start_time": "2024-07-23T07:34:45.944Z"
   },
   {
    "duration": 9,
    "start_time": "2024-07-23T07:34:46.003Z"
   },
   {
    "duration": 143,
    "start_time": "2024-07-23T07:34:46.014Z"
   },
   {
    "duration": 9,
    "start_time": "2024-07-23T07:34:46.158Z"
   },
   {
    "duration": 94,
    "start_time": "2024-07-23T07:34:46.168Z"
   },
   {
    "duration": 9,
    "start_time": "2024-07-23T07:34:46.263Z"
   },
   {
    "duration": 163,
    "start_time": "2024-07-23T07:34:46.274Z"
   },
   {
    "duration": 156,
    "start_time": "2024-07-23T07:34:46.438Z"
   },
   {
    "duration": 9,
    "start_time": "2024-07-23T07:34:46.601Z"
   },
   {
    "duration": 301,
    "start_time": "2024-07-23T07:34:46.611Z"
   },
   {
    "duration": 9,
    "start_time": "2024-07-23T07:34:46.914Z"
   },
   {
    "duration": 105,
    "start_time": "2024-07-23T07:34:46.925Z"
   },
   {
    "duration": 13,
    "start_time": "2024-07-23T07:34:47.031Z"
   },
   {
    "duration": 28,
    "start_time": "2024-07-23T07:34:47.046Z"
   },
   {
    "duration": 15,
    "start_time": "2024-07-23T07:34:47.075Z"
   },
   {
    "duration": 103,
    "start_time": "2024-07-23T07:34:47.093Z"
   },
   {
    "duration": 4,
    "start_time": "2024-07-23T07:34:47.201Z"
   },
   {
    "duration": 23,
    "start_time": "2024-07-23T07:34:47.206Z"
   },
   {
    "duration": 10,
    "start_time": "2024-07-23T07:34:47.230Z"
   },
   {
    "duration": 25,
    "start_time": "2024-07-23T07:34:47.241Z"
   },
   {
    "duration": 45,
    "start_time": "2024-07-23T07:34:47.268Z"
   },
   {
    "duration": 6,
    "start_time": "2024-07-23T07:34:47.315Z"
   },
   {
    "duration": 194,
    "start_time": "2024-07-23T07:34:47.322Z"
   },
   {
    "duration": 8,
    "start_time": "2024-07-23T07:34:47.518Z"
   },
   {
    "duration": 197,
    "start_time": "2024-07-23T07:34:47.528Z"
   },
   {
    "duration": 30,
    "start_time": "2024-07-23T07:34:47.727Z"
   },
   {
    "duration": 53,
    "start_time": "2024-07-23T07:34:47.758Z"
   },
   {
    "duration": 12,
    "start_time": "2024-07-23T07:34:47.812Z"
   },
   {
    "duration": 11,
    "start_time": "2024-07-23T07:34:47.825Z"
   },
   {
    "duration": 13,
    "start_time": "2024-07-23T07:34:47.837Z"
   },
   {
    "duration": 3,
    "start_time": "2024-07-23T07:34:47.851Z"
   },
   {
    "duration": 17,
    "start_time": "2024-07-23T07:34:47.856Z"
   },
   {
    "duration": 34,
    "start_time": "2024-07-23T07:34:47.875Z"
   },
   {
    "duration": 4,
    "start_time": "2024-07-23T07:34:47.910Z"
   },
   {
    "duration": 39,
    "start_time": "2024-07-23T07:34:47.916Z"
   },
   {
    "duration": 11,
    "start_time": "2024-07-23T07:34:47.956Z"
   },
   {
    "duration": 34,
    "start_time": "2024-07-23T07:34:47.969Z"
   },
   {
    "duration": 16,
    "start_time": "2024-07-23T07:34:48.005Z"
   },
   {
    "duration": 15,
    "start_time": "2024-07-23T07:34:48.022Z"
   },
   {
    "duration": 8,
    "start_time": "2024-07-23T07:34:48.038Z"
   },
   {
    "duration": 15,
    "start_time": "2024-07-23T07:34:48.047Z"
   },
   {
    "duration": 39,
    "start_time": "2024-07-23T07:34:48.063Z"
   },
   {
    "duration": 9,
    "start_time": "2024-07-23T07:34:48.103Z"
   },
   {
    "duration": 15,
    "start_time": "2024-07-23T07:34:48.113Z"
   },
   {
    "duration": 14,
    "start_time": "2024-07-23T07:34:48.130Z"
   },
   {
    "duration": 115,
    "start_time": "2024-07-23T07:36:03.346Z"
   },
   {
    "duration": 75,
    "start_time": "2024-07-23T07:56:59.408Z"
   },
   {
    "duration": 70,
    "start_time": "2024-07-23T08:02:49.780Z"
   },
   {
    "duration": 69,
    "start_time": "2024-07-23T08:13:20.646Z"
   },
   {
    "duration": 98,
    "start_time": "2024-07-23T08:16:48.133Z"
   },
   {
    "duration": 95,
    "start_time": "2024-07-23T08:16:58.886Z"
   },
   {
    "duration": 1091,
    "start_time": "2024-07-23T09:33:15.214Z"
   },
   {
    "duration": 10,
    "start_time": "2024-07-23T09:33:55.205Z"
   },
   {
    "duration": 1786,
    "start_time": "2024-07-23T09:34:08.945Z"
   },
   {
    "duration": 7,
    "start_time": "2024-07-23T09:35:47.819Z"
   },
   {
    "duration": 10,
    "start_time": "2024-07-23T09:35:56.946Z"
   },
   {
    "duration": 10,
    "start_time": "2024-07-23T09:36:07.064Z"
   },
   {
    "duration": 11,
    "start_time": "2024-07-23T09:36:14.065Z"
   },
   {
    "duration": 1090,
    "start_time": "2024-07-23T09:36:31.518Z"
   },
   {
    "duration": 1094,
    "start_time": "2024-07-23T09:36:50.629Z"
   },
   {
    "duration": 1120,
    "start_time": "2024-07-23T09:37:02.003Z"
   },
   {
    "duration": 68,
    "start_time": "2024-07-23T09:37:03.124Z"
   },
   {
    "duration": 114,
    "start_time": "2024-07-23T09:37:03.193Z"
   },
   {
    "duration": 313,
    "start_time": "2024-07-23T09:37:03.309Z"
   },
   {
    "duration": 280,
    "start_time": "2024-07-23T09:37:03.623Z"
   },
   {
    "duration": 6,
    "start_time": "2024-07-23T09:37:03.904Z"
   },
   {
    "duration": 20,
    "start_time": "2024-07-23T09:37:03.912Z"
   },
   {
    "duration": 17,
    "start_time": "2024-07-23T09:37:03.934Z"
   },
   {
    "duration": 13,
    "start_time": "2024-07-23T09:37:03.952Z"
   },
   {
    "duration": 11,
    "start_time": "2024-07-23T09:37:03.967Z"
   },
   {
    "duration": 4,
    "start_time": "2024-07-23T09:37:03.980Z"
   },
   {
    "duration": 20,
    "start_time": "2024-07-23T09:37:03.985Z"
   },
   {
    "duration": 17,
    "start_time": "2024-07-23T09:37:04.007Z"
   },
   {
    "duration": 151,
    "start_time": "2024-07-23T09:37:04.026Z"
   },
   {
    "duration": 0,
    "start_time": "2024-07-23T09:37:04.179Z"
   },
   {
    "duration": 0,
    "start_time": "2024-07-23T09:37:04.180Z"
   },
   {
    "duration": 0,
    "start_time": "2024-07-23T09:37:04.181Z"
   },
   {
    "duration": 0,
    "start_time": "2024-07-23T09:37:04.181Z"
   },
   {
    "duration": 0,
    "start_time": "2024-07-23T09:37:04.182Z"
   },
   {
    "duration": 0,
    "start_time": "2024-07-23T09:37:04.183Z"
   },
   {
    "duration": 0,
    "start_time": "2024-07-23T09:37:04.184Z"
   },
   {
    "duration": 0,
    "start_time": "2024-07-23T09:37:04.184Z"
   },
   {
    "duration": 0,
    "start_time": "2024-07-23T09:37:04.185Z"
   },
   {
    "duration": 0,
    "start_time": "2024-07-23T09:37:04.186Z"
   },
   {
    "duration": 0,
    "start_time": "2024-07-23T09:37:04.201Z"
   },
   {
    "duration": 0,
    "start_time": "2024-07-23T09:37:04.203Z"
   },
   {
    "duration": 0,
    "start_time": "2024-07-23T09:37:04.204Z"
   },
   {
    "duration": 0,
    "start_time": "2024-07-23T09:37:04.205Z"
   },
   {
    "duration": 0,
    "start_time": "2024-07-23T09:37:04.206Z"
   },
   {
    "duration": 0,
    "start_time": "2024-07-23T09:37:04.207Z"
   },
   {
    "duration": 0,
    "start_time": "2024-07-23T09:37:04.208Z"
   },
   {
    "duration": 0,
    "start_time": "2024-07-23T09:37:04.210Z"
   },
   {
    "duration": 0,
    "start_time": "2024-07-23T09:37:04.211Z"
   },
   {
    "duration": 0,
    "start_time": "2024-07-23T09:37:04.212Z"
   },
   {
    "duration": 0,
    "start_time": "2024-07-23T09:37:04.213Z"
   },
   {
    "duration": 0,
    "start_time": "2024-07-23T09:37:04.214Z"
   },
   {
    "duration": 0,
    "start_time": "2024-07-23T09:37:04.216Z"
   },
   {
    "duration": 0,
    "start_time": "2024-07-23T09:37:04.219Z"
   },
   {
    "duration": 0,
    "start_time": "2024-07-23T09:37:04.220Z"
   },
   {
    "duration": 0,
    "start_time": "2024-07-23T09:37:04.222Z"
   },
   {
    "duration": 0,
    "start_time": "2024-07-23T09:37:04.224Z"
   },
   {
    "duration": 0,
    "start_time": "2024-07-23T09:37:04.225Z"
   },
   {
    "duration": 0,
    "start_time": "2024-07-23T09:37:04.226Z"
   },
   {
    "duration": 0,
    "start_time": "2024-07-23T09:37:04.227Z"
   },
   {
    "duration": 0,
    "start_time": "2024-07-23T09:37:04.228Z"
   },
   {
    "duration": 0,
    "start_time": "2024-07-23T09:37:04.229Z"
   },
   {
    "duration": 0,
    "start_time": "2024-07-23T09:37:04.230Z"
   },
   {
    "duration": 0,
    "start_time": "2024-07-23T09:37:04.235Z"
   },
   {
    "duration": 0,
    "start_time": "2024-07-23T09:37:04.244Z"
   },
   {
    "duration": 0,
    "start_time": "2024-07-23T09:37:04.301Z"
   },
   {
    "duration": 0,
    "start_time": "2024-07-23T09:37:04.302Z"
   },
   {
    "duration": 0,
    "start_time": "2024-07-23T09:37:04.304Z"
   },
   {
    "duration": 0,
    "start_time": "2024-07-23T09:37:04.305Z"
   },
   {
    "duration": 0,
    "start_time": "2024-07-23T09:37:04.307Z"
   },
   {
    "duration": 0,
    "start_time": "2024-07-23T09:37:04.308Z"
   },
   {
    "duration": 0,
    "start_time": "2024-07-23T09:37:04.309Z"
   },
   {
    "duration": 92,
    "start_time": "2024-07-23T09:37:24.690Z"
   },
   {
    "duration": 12,
    "start_time": "2024-07-23T09:37:44.460Z"
   },
   {
    "duration": 93,
    "start_time": "2024-07-23T09:39:18.053Z"
   },
   {
    "duration": 137,
    "start_time": "2024-07-23T09:39:34.967Z"
   },
   {
    "duration": 75,
    "start_time": "2024-07-23T09:40:28.365Z"
   },
   {
    "duration": 98,
    "start_time": "2024-07-23T09:40:33.591Z"
   },
   {
    "duration": 157,
    "start_time": "2024-07-23T09:42:08.900Z"
   },
   {
    "duration": 100,
    "start_time": "2024-07-23T09:42:54.633Z"
   },
   {
    "duration": 144,
    "start_time": "2024-07-23T09:43:20.294Z"
   },
   {
    "duration": 118,
    "start_time": "2024-07-23T09:43:37.907Z"
   },
   {
    "duration": 123,
    "start_time": "2024-07-23T09:43:43.727Z"
   },
   {
    "duration": 151,
    "start_time": "2024-07-23T09:44:56.045Z"
   },
   {
    "duration": 147,
    "start_time": "2024-07-23T09:45:26.471Z"
   },
   {
    "duration": 144,
    "start_time": "2024-07-23T09:45:41.224Z"
   },
   {
    "duration": 1101,
    "start_time": "2024-07-23T09:47:22.340Z"
   },
   {
    "duration": 68,
    "start_time": "2024-07-23T09:47:23.442Z"
   },
   {
    "duration": 55,
    "start_time": "2024-07-23T09:47:23.512Z"
   },
   {
    "duration": 234,
    "start_time": "2024-07-23T09:47:23.569Z"
   },
   {
    "duration": 303,
    "start_time": "2024-07-23T09:47:23.805Z"
   },
   {
    "duration": 8,
    "start_time": "2024-07-23T09:47:24.109Z"
   },
   {
    "duration": 29,
    "start_time": "2024-07-23T09:47:24.118Z"
   },
   {
    "duration": 17,
    "start_time": "2024-07-23T09:47:24.149Z"
   },
   {
    "duration": 15,
    "start_time": "2024-07-23T09:47:24.168Z"
   },
   {
    "duration": 27,
    "start_time": "2024-07-23T09:47:24.186Z"
   },
   {
    "duration": 8,
    "start_time": "2024-07-23T09:47:24.215Z"
   },
   {
    "duration": 14,
    "start_time": "2024-07-23T09:47:24.224Z"
   },
   {
    "duration": 23,
    "start_time": "2024-07-23T09:47:24.240Z"
   },
   {
    "duration": 152,
    "start_time": "2024-07-23T09:47:24.264Z"
   },
   {
    "duration": 12,
    "start_time": "2024-07-23T09:47:24.418Z"
   },
   {
    "duration": 97,
    "start_time": "2024-07-23T09:47:24.431Z"
   },
   {
    "duration": 12,
    "start_time": "2024-07-23T09:47:24.530Z"
   },
   {
    "duration": 174,
    "start_time": "2024-07-23T09:47:24.544Z"
   },
   {
    "duration": 199,
    "start_time": "2024-07-23T09:47:24.719Z"
   },
   {
    "duration": 9,
    "start_time": "2024-07-23T09:47:24.920Z"
   },
   {
    "duration": 185,
    "start_time": "2024-07-23T09:47:24.931Z"
   },
   {
    "duration": 10,
    "start_time": "2024-07-23T09:47:25.118Z"
   },
   {
    "duration": 99,
    "start_time": "2024-07-23T09:47:25.130Z"
   },
   {
    "duration": 12,
    "start_time": "2024-07-23T09:47:25.231Z"
   },
   {
    "duration": 18,
    "start_time": "2024-07-23T09:47:25.245Z"
   },
   {
    "duration": 65,
    "start_time": "2024-07-23T09:47:25.264Z"
   },
   {
    "duration": 109,
    "start_time": "2024-07-23T09:47:25.330Z"
   },
   {
    "duration": 3,
    "start_time": "2024-07-23T09:47:25.443Z"
   },
   {
    "duration": 55,
    "start_time": "2024-07-23T09:47:25.447Z"
   },
   {
    "duration": 86,
    "start_time": "2024-07-23T09:47:25.503Z"
   },
   {
    "duration": 32,
    "start_time": "2024-07-23T09:47:25.590Z"
   },
   {
    "duration": 15,
    "start_time": "2024-07-23T09:47:25.623Z"
   },
   {
    "duration": 6,
    "start_time": "2024-07-23T09:47:25.639Z"
   },
   {
    "duration": 195,
    "start_time": "2024-07-23T09:47:25.646Z"
   },
   {
    "duration": 7,
    "start_time": "2024-07-23T09:47:25.843Z"
   },
   {
    "duration": 188,
    "start_time": "2024-07-23T09:47:25.851Z"
   },
   {
    "duration": 26,
    "start_time": "2024-07-23T09:47:26.040Z"
   },
   {
    "duration": 45,
    "start_time": "2024-07-23T09:47:26.067Z"
   },
   {
    "duration": 20,
    "start_time": "2024-07-23T09:47:26.113Z"
   },
   {
    "duration": 56,
    "start_time": "2024-07-23T09:47:26.134Z"
   },
   {
    "duration": 31,
    "start_time": "2024-07-23T09:47:26.191Z"
   },
   {
    "duration": 16,
    "start_time": "2024-07-23T09:47:26.224Z"
   },
   {
    "duration": 57,
    "start_time": "2024-07-23T09:47:26.242Z"
   },
   {
    "duration": 45,
    "start_time": "2024-07-23T09:47:26.301Z"
   },
   {
    "duration": 11,
    "start_time": "2024-07-23T09:47:26.348Z"
   },
   {
    "duration": 50,
    "start_time": "2024-07-23T09:47:26.361Z"
   },
   {
    "duration": 14,
    "start_time": "2024-07-23T09:47:26.413Z"
   },
   {
    "duration": 31,
    "start_time": "2024-07-23T09:47:26.429Z"
   },
   {
    "duration": 17,
    "start_time": "2024-07-23T09:47:26.461Z"
   },
   {
    "duration": 35,
    "start_time": "2024-07-23T09:47:26.479Z"
   },
   {
    "duration": 13,
    "start_time": "2024-07-23T09:47:26.515Z"
   },
   {
    "duration": 14,
    "start_time": "2024-07-23T09:47:26.529Z"
   },
   {
    "duration": 18,
    "start_time": "2024-07-23T09:47:26.544Z"
   },
   {
    "duration": 19,
    "start_time": "2024-07-23T09:47:26.564Z"
   },
   {
    "duration": 40,
    "start_time": "2024-07-23T09:47:26.585Z"
   },
   {
    "duration": 11,
    "start_time": "2024-07-23T09:47:26.627Z"
   },
   {
    "duration": 75,
    "start_time": "2024-07-23T10:01:04.976Z"
   },
   {
    "duration": 151,
    "start_time": "2024-07-23T10:01:14.465Z"
   },
   {
    "duration": 154,
    "start_time": "2024-07-23T10:02:31.334Z"
   },
   {
    "duration": 172,
    "start_time": "2024-07-23T10:03:53.024Z"
   },
   {
    "duration": 154,
    "start_time": "2024-07-23T10:05:22.589Z"
   },
   {
    "duration": 152,
    "start_time": "2024-07-23T10:06:42.975Z"
   },
   {
    "duration": 122,
    "start_time": "2024-07-23T10:07:28.118Z"
   },
   {
    "duration": 3,
    "start_time": "2024-07-23T10:11:00.753Z"
   },
   {
    "duration": 4,
    "start_time": "2024-07-23T10:11:31.105Z"
   },
   {
    "duration": 1144,
    "start_time": "2024-07-23T10:16:00.895Z"
   },
   {
    "duration": 78,
    "start_time": "2024-07-23T10:16:02.040Z"
   },
   {
    "duration": 3,
    "start_time": "2024-07-23T10:16:02.119Z"
   },
   {
    "duration": 254,
    "start_time": "2024-07-23T10:16:02.123Z"
   },
   {
    "duration": 296,
    "start_time": "2024-07-23T10:16:02.378Z"
   },
   {
    "duration": 8,
    "start_time": "2024-07-23T10:16:02.676Z"
   },
   {
    "duration": 30,
    "start_time": "2024-07-23T10:16:02.685Z"
   },
   {
    "duration": 34,
    "start_time": "2024-07-23T10:16:02.716Z"
   },
   {
    "duration": 49,
    "start_time": "2024-07-23T10:16:02.752Z"
   },
   {
    "duration": 36,
    "start_time": "2024-07-23T10:16:02.804Z"
   },
   {
    "duration": 19,
    "start_time": "2024-07-23T10:16:02.842Z"
   },
   {
    "duration": 52,
    "start_time": "2024-07-23T10:16:02.863Z"
   },
   {
    "duration": 18,
    "start_time": "2024-07-23T10:16:02.917Z"
   },
   {
    "duration": 173,
    "start_time": "2024-07-23T10:16:02.937Z"
   },
   {
    "duration": 9,
    "start_time": "2024-07-23T10:16:03.111Z"
   },
   {
    "duration": 90,
    "start_time": "2024-07-23T10:16:03.121Z"
   },
   {
    "duration": 11,
    "start_time": "2024-07-23T10:16:03.213Z"
   },
   {
    "duration": 345,
    "start_time": "2024-07-23T10:16:03.225Z"
   },
   {
    "duration": 169,
    "start_time": "2024-07-23T10:16:03.572Z"
   },
   {
    "duration": 7,
    "start_time": "2024-07-23T10:16:03.742Z"
   },
   {
    "duration": 200,
    "start_time": "2024-07-23T10:16:03.750Z"
   },
   {
    "duration": 12,
    "start_time": "2024-07-23T10:16:03.952Z"
   },
   {
    "duration": 50,
    "start_time": "2024-07-23T10:16:03.965Z"
   },
   {
    "duration": 31,
    "start_time": "2024-07-23T10:16:04.017Z"
   },
   {
    "duration": 40,
    "start_time": "2024-07-23T10:16:04.049Z"
   },
   {
    "duration": 18,
    "start_time": "2024-07-23T10:16:04.090Z"
   },
   {
    "duration": 132,
    "start_time": "2024-07-23T10:16:04.109Z"
   },
   {
    "duration": 3,
    "start_time": "2024-07-23T10:16:04.244Z"
   },
   {
    "duration": 7,
    "start_time": "2024-07-23T10:16:04.249Z"
   },
   {
    "duration": 24,
    "start_time": "2024-07-23T10:16:04.258Z"
   },
   {
    "duration": 21,
    "start_time": "2024-07-23T10:16:04.284Z"
   },
   {
    "duration": 10,
    "start_time": "2024-07-23T10:16:04.307Z"
   },
   {
    "duration": 24,
    "start_time": "2024-07-23T10:16:04.319Z"
   },
   {
    "duration": 17,
    "start_time": "2024-07-23T10:16:04.345Z"
   },
   {
    "duration": 42,
    "start_time": "2024-07-23T10:16:04.364Z"
   },
   {
    "duration": 211,
    "start_time": "2024-07-23T10:16:04.407Z"
   },
   {
    "duration": 186071,
    "start_time": "2024-07-23T10:16:04.619Z"
   },
   {
    "duration": 14,
    "start_time": "2024-07-23T10:19:10.691Z"
   },
   {
    "duration": 194,
    "start_time": "2024-07-23T10:19:10.707Z"
   },
   {
    "duration": 34,
    "start_time": "2024-07-23T10:19:10.905Z"
   },
   {
    "duration": 25,
    "start_time": "2024-07-23T10:19:10.940Z"
   },
   {
    "duration": 51,
    "start_time": "2024-07-23T10:19:10.967Z"
   },
   {
    "duration": 3,
    "start_time": "2024-07-23T10:19:11.019Z"
   },
   {
    "duration": 13,
    "start_time": "2024-07-23T10:19:11.023Z"
   },
   {
    "duration": 3,
    "start_time": "2024-07-23T10:19:11.037Z"
   },
   {
    "duration": 17,
    "start_time": "2024-07-23T10:19:11.041Z"
   },
   {
    "duration": 4,
    "start_time": "2024-07-23T10:19:11.059Z"
   },
   {
    "duration": 39,
    "start_time": "2024-07-23T10:19:11.064Z"
   },
   {
    "duration": 34,
    "start_time": "2024-07-23T10:19:11.106Z"
   },
   {
    "duration": 17,
    "start_time": "2024-07-23T10:19:11.141Z"
   },
   {
    "duration": 16,
    "start_time": "2024-07-23T10:19:11.159Z"
   },
   {
    "duration": 39,
    "start_time": "2024-07-23T10:19:11.177Z"
   },
   {
    "duration": 31,
    "start_time": "2024-07-23T10:19:11.217Z"
   },
   {
    "duration": 6,
    "start_time": "2024-07-23T10:19:11.250Z"
   },
   {
    "duration": 10,
    "start_time": "2024-07-23T10:19:11.258Z"
   },
   {
    "duration": 7,
    "start_time": "2024-07-23T10:19:11.270Z"
   },
   {
    "duration": 24,
    "start_time": "2024-07-23T10:19:11.278Z"
   },
   {
    "duration": 7,
    "start_time": "2024-07-23T10:19:11.304Z"
   },
   {
    "duration": 13,
    "start_time": "2024-07-23T10:19:11.312Z"
   },
   {
    "duration": 143,
    "start_time": "2024-07-23T10:54:18.089Z"
   },
   {
    "duration": 154,
    "start_time": "2024-07-23T10:55:49.766Z"
   },
   {
    "duration": 128,
    "start_time": "2024-07-23T10:56:25.025Z"
   },
   {
    "duration": 127,
    "start_time": "2024-07-23T10:56:34.372Z"
   },
   {
    "duration": 76,
    "start_time": "2024-07-23T10:56:49.128Z"
   },
   {
    "duration": 231,
    "start_time": "2024-07-23T10:56:54.208Z"
   },
   {
    "duration": 197,
    "start_time": "2024-07-23T10:59:24.204Z"
   },
   {
    "duration": 64,
    "start_time": "2024-07-23T10:59:36.906Z"
   },
   {
    "duration": 164,
    "start_time": "2024-07-23T10:59:44.801Z"
   },
   {
    "duration": 123,
    "start_time": "2024-07-23T11:01:38.964Z"
   },
   {
    "duration": 152,
    "start_time": "2024-07-23T11:01:49.052Z"
   },
   {
    "duration": 158,
    "start_time": "2024-07-23T11:02:59.446Z"
   },
   {
    "duration": 162,
    "start_time": "2024-07-23T11:03:32.116Z"
   },
   {
    "duration": 165,
    "start_time": "2024-07-23T11:04:05.051Z"
   },
   {
    "duration": 146,
    "start_time": "2024-07-23T11:07:36.096Z"
   },
   {
    "duration": 13,
    "start_time": "2024-07-23T11:08:15.765Z"
   },
   {
    "duration": 149,
    "start_time": "2024-07-23T11:08:35.636Z"
   },
   {
    "duration": 151,
    "start_time": "2024-07-23T11:08:49.169Z"
   },
   {
    "duration": 151,
    "start_time": "2024-07-23T11:10:37.223Z"
   },
   {
    "duration": 1156,
    "start_time": "2024-07-23T11:13:52.352Z"
   },
   {
    "duration": 67,
    "start_time": "2024-07-23T11:13:53.510Z"
   },
   {
    "duration": 5,
    "start_time": "2024-07-23T11:13:53.579Z"
   },
   {
    "duration": 242,
    "start_time": "2024-07-23T11:13:53.586Z"
   },
   {
    "duration": 289,
    "start_time": "2024-07-23T11:13:53.830Z"
   },
   {
    "duration": 6,
    "start_time": "2024-07-23T11:13:54.121Z"
   },
   {
    "duration": 18,
    "start_time": "2024-07-23T11:13:54.129Z"
   },
   {
    "duration": 12,
    "start_time": "2024-07-23T11:13:54.148Z"
   },
   {
    "duration": 4,
    "start_time": "2024-07-23T11:13:54.161Z"
   },
   {
    "duration": 35,
    "start_time": "2024-07-23T11:13:54.167Z"
   },
   {
    "duration": 10,
    "start_time": "2024-07-23T11:13:54.204Z"
   },
   {
    "duration": 11,
    "start_time": "2024-07-23T11:13:54.216Z"
   },
   {
    "duration": 19,
    "start_time": "2024-07-23T11:13:54.229Z"
   },
   {
    "duration": 183,
    "start_time": "2024-07-23T11:13:54.250Z"
   },
   {
    "duration": 9,
    "start_time": "2024-07-23T11:13:54.434Z"
   },
   {
    "duration": 97,
    "start_time": "2024-07-23T11:13:54.444Z"
   },
   {
    "duration": 9,
    "start_time": "2024-07-23T11:13:54.542Z"
   },
   {
    "duration": 191,
    "start_time": "2024-07-23T11:13:54.552Z"
   },
   {
    "duration": 201,
    "start_time": "2024-07-23T11:13:54.745Z"
   },
   {
    "duration": 7,
    "start_time": "2024-07-23T11:13:54.947Z"
   },
   {
    "duration": 200,
    "start_time": "2024-07-23T11:13:54.955Z"
   },
   {
    "duration": 8,
    "start_time": "2024-07-23T11:13:55.157Z"
   },
   {
    "duration": 16,
    "start_time": "2024-07-23T11:13:55.166Z"
   },
   {
    "duration": 20,
    "start_time": "2024-07-23T11:13:55.207Z"
   },
   {
    "duration": 24,
    "start_time": "2024-07-23T11:13:55.229Z"
   },
   {
    "duration": 18,
    "start_time": "2024-07-23T11:13:55.254Z"
   },
   {
    "duration": 158,
    "start_time": "2024-07-23T11:13:55.273Z"
   },
   {
    "duration": 3,
    "start_time": "2024-07-23T11:13:55.434Z"
   },
   {
    "duration": 174,
    "start_time": "2024-07-23T11:13:55.438Z"
   },
   {
    "duration": 19,
    "start_time": "2024-07-23T11:13:55.614Z"
   },
   {
    "duration": 7,
    "start_time": "2024-07-23T11:13:55.634Z"
   },
   {
    "duration": 6,
    "start_time": "2024-07-23T11:13:55.642Z"
   },
   {
    "duration": 21,
    "start_time": "2024-07-23T11:13:55.649Z"
   },
   {
    "duration": 46,
    "start_time": "2024-07-23T11:13:55.672Z"
   },
   {
    "duration": 7,
    "start_time": "2024-07-23T11:13:55.720Z"
   },
   {
    "duration": 226,
    "start_time": "2024-07-23T11:13:55.728Z"
   },
   {
    "duration": 169,
    "start_time": "2024-07-23T11:13:55.956Z"
   },
   {
    "duration": 8,
    "start_time": "2024-07-23T11:13:56.127Z"
   },
   {
    "duration": 205,
    "start_time": "2024-07-23T11:13:56.137Z"
   },
   {
    "duration": 189,
    "start_time": "2024-07-23T11:13:56.343Z"
   },
   {
    "duration": 160,
    "start_time": "2024-07-23T11:13:56.534Z"
   },
   {
    "duration": 32,
    "start_time": "2024-07-23T11:17:51.089Z"
   },
   {
    "duration": 24,
    "start_time": "2024-07-23T11:17:51.122Z"
   },
   {
    "duration": 12,
    "start_time": "2024-07-23T11:17:51.147Z"
   },
   {
    "duration": 13,
    "start_time": "2024-07-23T11:17:51.160Z"
   },
   {
    "duration": 36,
    "start_time": "2024-07-23T11:17:51.174Z"
   },
   {
    "duration": 3,
    "start_time": "2024-07-23T11:17:51.211Z"
   },
   {
    "duration": 14,
    "start_time": "2024-07-23T11:17:51.216Z"
   },
   {
    "duration": 24,
    "start_time": "2024-07-23T11:17:51.232Z"
   },
   {
    "duration": 31,
    "start_time": "2024-07-23T11:17:51.257Z"
   },
   {
    "duration": 37,
    "start_time": "2024-07-23T11:17:51.289Z"
   },
   {
    "duration": 15,
    "start_time": "2024-07-23T11:17:51.328Z"
   },
   {
    "duration": 12,
    "start_time": "2024-07-23T11:17:51.344Z"
   },
   {
    "duration": 49,
    "start_time": "2024-07-23T11:17:51.358Z"
   },
   {
    "duration": 55,
    "start_time": "2024-07-23T11:17:51.409Z"
   },
   {
    "duration": 7,
    "start_time": "2024-07-23T11:17:51.466Z"
   },
   {
    "duration": 8,
    "start_time": "2024-07-23T11:17:51.474Z"
   },
   {
    "duration": 22,
    "start_time": "2024-07-23T11:17:51.484Z"
   },
   {
    "duration": 45,
    "start_time": "2024-07-23T11:17:51.507Z"
   },
   {
    "duration": 54,
    "start_time": "2024-07-23T11:17:51.553Z"
   },
   {
    "duration": 26,
    "start_time": "2024-07-23T11:17:51.608Z"
   },
   {
    "duration": 45,
    "start_time": "2024-07-23T11:21:55.331Z"
   },
   {
    "duration": 70,
    "start_time": "2024-07-23T11:22:13.015Z"
   },
   {
    "duration": 6,
    "start_time": "2024-07-23T11:22:59.114Z"
   },
   {
    "duration": 7,
    "start_time": "2024-07-23T11:23:13.166Z"
   },
   {
    "duration": 7,
    "start_time": "2024-07-23T11:23:30.346Z"
   },
   {
    "duration": 1675,
    "start_time": "2024-07-23T11:23:40.484Z"
   },
   {
    "duration": 305,
    "start_time": "2024-07-23T11:23:42.161Z"
   },
   {
    "duration": 3,
    "start_time": "2024-07-23T11:23:42.467Z"
   },
   {
    "duration": 239,
    "start_time": "2024-07-23T11:23:42.472Z"
   },
   {
    "duration": 266,
    "start_time": "2024-07-23T11:23:42.712Z"
   },
   {
    "duration": 5,
    "start_time": "2024-07-23T11:23:42.979Z"
   },
   {
    "duration": 21,
    "start_time": "2024-07-23T11:23:42.985Z"
   },
   {
    "duration": 17,
    "start_time": "2024-07-23T11:23:43.007Z"
   },
   {
    "duration": 3,
    "start_time": "2024-07-23T11:23:43.026Z"
   },
   {
    "duration": 12,
    "start_time": "2024-07-23T11:23:43.031Z"
   },
   {
    "duration": 12,
    "start_time": "2024-07-23T11:23:43.044Z"
   },
   {
    "duration": 18,
    "start_time": "2024-07-23T11:23:43.057Z"
   },
   {
    "duration": 28,
    "start_time": "2024-07-23T11:23:43.076Z"
   },
   {
    "duration": 163,
    "start_time": "2024-07-23T11:23:43.105Z"
   },
   {
    "duration": 8,
    "start_time": "2024-07-23T11:23:43.269Z"
   },
   {
    "duration": 148,
    "start_time": "2024-07-23T11:23:43.278Z"
   },
   {
    "duration": 10,
    "start_time": "2024-07-23T11:23:43.427Z"
   },
   {
    "duration": 220,
    "start_time": "2024-07-23T11:23:43.438Z"
   },
   {
    "duration": 180,
    "start_time": "2024-07-23T11:23:43.659Z"
   },
   {
    "duration": 7,
    "start_time": "2024-07-23T11:23:43.841Z"
   },
   {
    "duration": 245,
    "start_time": "2024-07-23T11:23:43.849Z"
   },
   {
    "duration": 12,
    "start_time": "2024-07-23T11:23:44.095Z"
   },
   {
    "duration": 17,
    "start_time": "2024-07-23T11:23:44.109Z"
   },
   {
    "duration": 13,
    "start_time": "2024-07-23T11:23:44.127Z"
   },
   {
    "duration": 23,
    "start_time": "2024-07-23T11:23:44.141Z"
   },
   {
    "duration": 48,
    "start_time": "2024-07-23T11:23:44.165Z"
   },
   {
    "duration": 134,
    "start_time": "2024-07-23T11:23:44.214Z"
   },
   {
    "duration": 3,
    "start_time": "2024-07-23T11:23:44.351Z"
   },
   {
    "duration": 4,
    "start_time": "2024-07-23T11:23:44.355Z"
   },
   {
    "duration": 41,
    "start_time": "2024-07-23T11:23:44.360Z"
   },
   {
    "duration": 6,
    "start_time": "2024-07-23T11:23:44.403Z"
   },
   {
    "duration": 4,
    "start_time": "2024-07-23T11:23:44.411Z"
   },
   {
    "duration": 27,
    "start_time": "2024-07-23T11:23:44.416Z"
   },
   {
    "duration": 16,
    "start_time": "2024-07-23T11:23:44.444Z"
   },
   {
    "duration": 13,
    "start_time": "2024-07-23T11:23:44.461Z"
   },
   {
    "duration": 207,
    "start_time": "2024-07-23T11:23:44.476Z"
   },
   {
    "duration": 145,
    "start_time": "2024-07-23T11:23:44.685Z"
   },
   {
    "duration": 6,
    "start_time": "2024-07-23T11:23:44.832Z"
   },
   {
    "duration": 179,
    "start_time": "2024-07-23T11:23:44.840Z"
   },
   {
    "duration": 167,
    "start_time": "2024-07-23T11:23:45.021Z"
   },
   {
    "duration": 176,
    "start_time": "2024-07-23T11:23:45.190Z"
   },
   {
    "duration": 39,
    "start_time": "2024-07-23T11:23:45.367Z"
   },
   {
    "duration": 24,
    "start_time": "2024-07-23T11:23:45.407Z"
   },
   {
    "duration": 11,
    "start_time": "2024-07-23T11:23:45.432Z"
   },
   {
    "duration": 15,
    "start_time": "2024-07-23T11:23:45.444Z"
   },
   {
    "duration": 30,
    "start_time": "2024-07-23T11:23:45.460Z"
   },
   {
    "duration": 7,
    "start_time": "2024-07-23T11:23:45.502Z"
   },
   {
    "duration": 18,
    "start_time": "2024-07-23T11:23:45.510Z"
   },
   {
    "duration": 10,
    "start_time": "2024-07-23T11:23:45.529Z"
   },
   {
    "duration": 88,
    "start_time": "2024-07-23T11:23:45.541Z"
   },
   {
    "duration": 23,
    "start_time": "2024-07-23T11:23:45.630Z"
   },
   {
    "duration": 12,
    "start_time": "2024-07-23T11:23:45.655Z"
   },
   {
    "duration": 12,
    "start_time": "2024-07-23T11:23:45.668Z"
   },
   {
    "duration": 10,
    "start_time": "2024-07-23T11:23:45.681Z"
   },
   {
    "duration": 20,
    "start_time": "2024-07-23T11:23:45.692Z"
   },
   {
    "duration": 5,
    "start_time": "2024-07-23T11:23:45.713Z"
   },
   {
    "duration": 7,
    "start_time": "2024-07-23T11:23:45.719Z"
   },
   {
    "duration": 7,
    "start_time": "2024-07-23T11:23:45.727Z"
   },
   {
    "duration": 6,
    "start_time": "2024-07-23T11:23:45.736Z"
   },
   {
    "duration": 7,
    "start_time": "2024-07-23T11:23:45.744Z"
   },
   {
    "duration": 5,
    "start_time": "2024-07-23T11:23:45.752Z"
   },
   {
    "duration": 144,
    "start_time": "2024-07-23T11:24:11.772Z"
   },
   {
    "duration": 74,
    "start_time": "2024-07-23T11:24:39.282Z"
   },
   {
    "duration": 137,
    "start_time": "2024-07-23T11:24:56.991Z"
   },
   {
    "duration": 184,
    "start_time": "2024-07-23T11:25:12.785Z"
   },
   {
    "duration": 293,
    "start_time": "2024-07-23T11:25:30.621Z"
   },
   {
    "duration": 101,
    "start_time": "2024-07-23T11:25:57.231Z"
   },
   {
    "duration": 106,
    "start_time": "2024-07-23T11:26:13.387Z"
   },
   {
    "duration": 9,
    "start_time": "2024-07-23T11:26:23.655Z"
   },
   {
    "duration": 8,
    "start_time": "2024-07-23T11:29:44.148Z"
   },
   {
    "duration": 1011,
    "start_time": "2024-07-23T11:32:25.944Z"
   },
   {
    "duration": 65,
    "start_time": "2024-07-23T11:32:26.957Z"
   },
   {
    "duration": 3,
    "start_time": "2024-07-23T11:32:27.023Z"
   },
   {
    "duration": 249,
    "start_time": "2024-07-23T11:32:27.028Z"
   },
   {
    "duration": 277,
    "start_time": "2024-07-23T11:32:27.279Z"
   },
   {
    "duration": 6,
    "start_time": "2024-07-23T11:32:27.557Z"
   },
   {
    "duration": 85,
    "start_time": "2024-07-23T11:32:27.564Z"
   },
   {
    "duration": 15,
    "start_time": "2024-07-23T11:32:27.650Z"
   },
   {
    "duration": 4,
    "start_time": "2024-07-23T11:32:27.666Z"
   },
   {
    "duration": 20,
    "start_time": "2024-07-23T11:32:27.672Z"
   },
   {
    "duration": 4,
    "start_time": "2024-07-23T11:32:27.694Z"
   },
   {
    "duration": 9,
    "start_time": "2024-07-23T11:32:27.699Z"
   },
   {
    "duration": 19,
    "start_time": "2024-07-23T11:32:27.710Z"
   },
   {
    "duration": 166,
    "start_time": "2024-07-23T11:32:27.730Z"
   },
   {
    "duration": 9,
    "start_time": "2024-07-23T11:32:27.897Z"
   },
   {
    "duration": 103,
    "start_time": "2024-07-23T11:32:27.907Z"
   },
   {
    "duration": 9,
    "start_time": "2024-07-23T11:32:28.012Z"
   },
   {
    "duration": 164,
    "start_time": "2024-07-23T11:32:28.022Z"
   },
   {
    "duration": 177,
    "start_time": "2024-07-23T11:32:28.187Z"
   },
   {
    "duration": 7,
    "start_time": "2024-07-23T11:32:28.365Z"
   },
   {
    "duration": 204,
    "start_time": "2024-07-23T11:32:28.373Z"
   },
   {
    "duration": 8,
    "start_time": "2024-07-23T11:32:28.578Z"
   },
   {
    "duration": 22,
    "start_time": "2024-07-23T11:32:28.587Z"
   },
   {
    "duration": 13,
    "start_time": "2024-07-23T11:32:28.610Z"
   },
   {
    "duration": 17,
    "start_time": "2024-07-23T11:32:28.624Z"
   },
   {
    "duration": 40,
    "start_time": "2024-07-23T11:32:28.642Z"
   },
   {
    "duration": 147,
    "start_time": "2024-07-23T11:32:28.683Z"
   },
   {
    "duration": 4,
    "start_time": "2024-07-23T11:32:28.835Z"
   },
   {
    "duration": 25,
    "start_time": "2024-07-23T11:32:28.840Z"
   },
   {
    "duration": 23,
    "start_time": "2024-07-23T11:32:28.867Z"
   },
   {
    "duration": 9,
    "start_time": "2024-07-23T11:32:28.901Z"
   },
   {
    "duration": 7,
    "start_time": "2024-07-23T11:32:28.911Z"
   },
   {
    "duration": 22,
    "start_time": "2024-07-23T11:32:28.920Z"
   },
   {
    "duration": 17,
    "start_time": "2024-07-23T11:32:28.943Z"
   },
   {
    "duration": 42,
    "start_time": "2024-07-23T11:32:28.962Z"
   },
   {
    "duration": 198,
    "start_time": "2024-07-23T11:32:29.006Z"
   },
   {
    "duration": 150,
    "start_time": "2024-07-23T11:32:29.206Z"
   },
   {
    "duration": 8,
    "start_time": "2024-07-23T11:32:29.358Z"
   },
   {
    "duration": 200,
    "start_time": "2024-07-23T11:32:29.367Z"
   },
   {
    "duration": 171,
    "start_time": "2024-07-23T11:32:29.569Z"
   },
   {
    "duration": 144,
    "start_time": "2024-07-23T11:32:29.741Z"
   },
   {
    "duration": 221104,
    "start_time": "2024-07-23T11:32:29.886Z"
   },
   {
    "duration": 31,
    "start_time": "2024-07-23T11:36:10.991Z"
   },
   {
    "duration": 23,
    "start_time": "2024-07-23T11:36:11.023Z"
   },
   {
    "duration": 13,
    "start_time": "2024-07-23T11:36:11.047Z"
   },
   {
    "duration": 10,
    "start_time": "2024-07-23T11:36:11.061Z"
   },
   {
    "duration": 36,
    "start_time": "2024-07-23T11:36:11.073Z"
   },
   {
    "duration": 3,
    "start_time": "2024-07-23T11:36:11.110Z"
   },
   {
    "duration": 29,
    "start_time": "2024-07-23T11:36:11.114Z"
   },
   {
    "duration": 16,
    "start_time": "2024-07-23T11:36:11.145Z"
   },
   {
    "duration": 31,
    "start_time": "2024-07-23T11:36:11.163Z"
   },
   {
    "duration": 51,
    "start_time": "2024-07-23T11:36:11.195Z"
   },
   {
    "duration": 13,
    "start_time": "2024-07-23T11:36:11.248Z"
   },
   {
    "duration": 25,
    "start_time": "2024-07-23T11:36:11.262Z"
   },
   {
    "duration": 39,
    "start_time": "2024-07-23T11:36:11.289Z"
   },
   {
    "duration": 20,
    "start_time": "2024-07-23T11:36:11.330Z"
   },
   {
    "duration": 12,
    "start_time": "2024-07-23T11:36:11.352Z"
   },
   {
    "duration": 8,
    "start_time": "2024-07-23T11:36:11.365Z"
   },
   {
    "duration": 8,
    "start_time": "2024-07-23T11:36:11.375Z"
   },
   {
    "duration": 25,
    "start_time": "2024-07-23T11:36:11.385Z"
   },
   {
    "duration": 9,
    "start_time": "2024-07-23T11:36:11.412Z"
   },
   {
    "duration": 110,
    "start_time": "2024-07-23T11:36:11.423Z"
   },
   {
    "duration": 71,
    "start_time": "2024-07-23T11:36:11.723Z"
   },
   {
    "duration": 0,
    "start_time": "2024-07-23T11:36:11.798Z"
   },
   {
    "duration": 139,
    "start_time": "2024-07-23T11:36:18.942Z"
   },
   {
    "duration": 149,
    "start_time": "2024-07-23T11:37:22.692Z"
   },
   {
    "duration": 7,
    "start_time": "2024-07-23T11:38:23.407Z"
   },
   {
    "duration": 7,
    "start_time": "2024-07-23T11:38:41.191Z"
   },
   {
    "duration": 1023,
    "start_time": "2024-07-23T11:49:23.133Z"
   },
   {
    "duration": 65,
    "start_time": "2024-07-23T11:49:24.158Z"
   },
   {
    "duration": 3,
    "start_time": "2024-07-23T11:49:24.225Z"
   },
   {
    "duration": 216,
    "start_time": "2024-07-23T11:49:24.229Z"
   },
   {
    "duration": 283,
    "start_time": "2024-07-23T11:49:24.446Z"
   },
   {
    "duration": 6,
    "start_time": "2024-07-23T11:49:24.731Z"
   },
   {
    "duration": 11,
    "start_time": "2024-07-23T11:49:24.738Z"
   },
   {
    "duration": 8,
    "start_time": "2024-07-23T11:49:24.750Z"
   },
   {
    "duration": 5,
    "start_time": "2024-07-23T11:49:24.760Z"
   },
   {
    "duration": 43,
    "start_time": "2024-07-23T11:49:24.767Z"
   },
   {
    "duration": 4,
    "start_time": "2024-07-23T11:49:24.811Z"
   },
   {
    "duration": 10,
    "start_time": "2024-07-23T11:49:24.817Z"
   },
   {
    "duration": 26,
    "start_time": "2024-07-23T11:49:24.828Z"
   },
   {
    "duration": 172,
    "start_time": "2024-07-23T11:49:24.855Z"
   },
   {
    "duration": 9,
    "start_time": "2024-07-23T11:49:25.028Z"
   },
   {
    "duration": 95,
    "start_time": "2024-07-23T11:49:25.039Z"
   },
   {
    "duration": 10,
    "start_time": "2024-07-23T11:49:25.135Z"
   },
   {
    "duration": 192,
    "start_time": "2024-07-23T11:49:25.146Z"
   },
   {
    "duration": 183,
    "start_time": "2024-07-23T11:49:25.339Z"
   },
   {
    "duration": 7,
    "start_time": "2024-07-23T11:49:25.524Z"
   },
   {
    "duration": 202,
    "start_time": "2024-07-23T11:49:25.532Z"
   },
   {
    "duration": 7,
    "start_time": "2024-07-23T11:49:25.736Z"
   },
   {
    "duration": 12,
    "start_time": "2024-07-23T11:49:25.744Z"
   },
   {
    "duration": 139,
    "start_time": "2024-07-23T11:49:25.757Z"
   },
   {
    "duration": 169,
    "start_time": "2024-07-23T11:49:25.897Z"
   },
   {
    "duration": 63,
    "start_time": "2024-07-23T11:49:26.067Z"
   },
   {
    "duration": 120,
    "start_time": "2024-07-23T11:49:26.131Z"
   },
   {
    "duration": 3,
    "start_time": "2024-07-23T11:49:26.255Z"
   },
   {
    "duration": 32,
    "start_time": "2024-07-23T11:49:26.259Z"
   },
   {
    "duration": 25,
    "start_time": "2024-07-23T11:49:26.292Z"
   },
   {
    "duration": 6,
    "start_time": "2024-07-23T11:49:26.319Z"
   },
   {
    "duration": 8,
    "start_time": "2024-07-23T11:49:26.327Z"
   },
   {
    "duration": 28,
    "start_time": "2024-07-23T11:49:26.336Z"
   },
   {
    "duration": 36,
    "start_time": "2024-07-23T11:49:26.366Z"
   },
   {
    "duration": 7,
    "start_time": "2024-07-23T11:49:26.404Z"
   },
   {
    "duration": 23,
    "start_time": "2024-07-23T11:49:26.413Z"
   },
   {
    "duration": 9,
    "start_time": "2024-07-23T11:49:26.438Z"
   },
   {
    "duration": 17,
    "start_time": "2024-07-23T11:49:26.448Z"
   },
   {
    "duration": 169,
    "start_time": "2024-07-23T11:49:26.467Z"
   },
   {
    "duration": 182,
    "start_time": "2024-07-23T11:49:26.638Z"
   },
   {
    "duration": 62,
    "start_time": "2024-07-23T11:49:26.822Z"
   },
   {
    "duration": 0,
    "start_time": "2024-07-23T11:49:26.886Z"
   },
   {
    "duration": 0,
    "start_time": "2024-07-23T11:49:26.887Z"
   },
   {
    "duration": 0,
    "start_time": "2024-07-23T11:49:26.888Z"
   },
   {
    "duration": 0,
    "start_time": "2024-07-23T11:49:26.888Z"
   },
   {
    "duration": 0,
    "start_time": "2024-07-23T11:49:26.890Z"
   },
   {
    "duration": 0,
    "start_time": "2024-07-23T11:49:26.890Z"
   },
   {
    "duration": 0,
    "start_time": "2024-07-23T11:49:26.891Z"
   },
   {
    "duration": 0,
    "start_time": "2024-07-23T11:49:26.892Z"
   },
   {
    "duration": 0,
    "start_time": "2024-07-23T11:49:26.893Z"
   },
   {
    "duration": 0,
    "start_time": "2024-07-23T11:49:26.894Z"
   },
   {
    "duration": 0,
    "start_time": "2024-07-23T11:49:26.895Z"
   },
   {
    "duration": 0,
    "start_time": "2024-07-23T11:49:26.896Z"
   },
   {
    "duration": 0,
    "start_time": "2024-07-23T11:49:26.896Z"
   },
   {
    "duration": 0,
    "start_time": "2024-07-23T11:49:26.897Z"
   },
   {
    "duration": 0,
    "start_time": "2024-07-23T11:49:26.897Z"
   },
   {
    "duration": 0,
    "start_time": "2024-07-23T11:49:26.898Z"
   },
   {
    "duration": 0,
    "start_time": "2024-07-23T11:49:26.899Z"
   },
   {
    "duration": 0,
    "start_time": "2024-07-23T11:49:26.900Z"
   },
   {
    "duration": 0,
    "start_time": "2024-07-23T11:49:26.900Z"
   },
   {
    "duration": 0,
    "start_time": "2024-07-23T11:49:26.901Z"
   },
   {
    "duration": 16,
    "start_time": "2024-07-23T11:54:13.373Z"
   },
   {
    "duration": 4,
    "start_time": "2024-07-23T11:58:28.514Z"
   },
   {
    "duration": 16,
    "start_time": "2024-07-23T11:58:42.878Z"
   },
   {
    "duration": 18,
    "start_time": "2024-07-23T12:01:21.085Z"
   },
   {
    "duration": 14,
    "start_time": "2024-07-23T12:01:27.032Z"
   },
   {
    "duration": 3,
    "start_time": "2024-07-23T12:03:22.561Z"
   },
   {
    "duration": 4,
    "start_time": "2024-07-23T12:03:33.022Z"
   },
   {
    "duration": 88,
    "start_time": "2024-07-23T12:05:18.139Z"
   },
   {
    "duration": 4,
    "start_time": "2024-07-23T12:05:19.448Z"
   },
   {
    "duration": 1073,
    "start_time": "2024-07-23T12:05:23.963Z"
   },
   {
    "duration": 69,
    "start_time": "2024-07-23T12:05:25.038Z"
   },
   {
    "duration": 3,
    "start_time": "2024-07-23T12:05:25.108Z"
   },
   {
    "duration": 258,
    "start_time": "2024-07-23T12:05:25.113Z"
   },
   {
    "duration": 271,
    "start_time": "2024-07-23T12:05:25.372Z"
   },
   {
    "duration": 7,
    "start_time": "2024-07-23T12:05:25.644Z"
   },
   {
    "duration": 17,
    "start_time": "2024-07-23T12:05:25.652Z"
   },
   {
    "duration": 28,
    "start_time": "2024-07-23T12:05:25.670Z"
   },
   {
    "duration": 49,
    "start_time": "2024-07-23T12:05:25.701Z"
   },
   {
    "duration": 40,
    "start_time": "2024-07-23T12:05:25.752Z"
   },
   {
    "duration": 5,
    "start_time": "2024-07-23T12:05:25.793Z"
   },
   {
    "duration": 7,
    "start_time": "2024-07-23T12:05:25.800Z"
   },
   {
    "duration": 11,
    "start_time": "2024-07-23T12:05:25.808Z"
   },
   {
    "duration": 171,
    "start_time": "2024-07-23T12:05:25.820Z"
   },
   {
    "duration": 13,
    "start_time": "2024-07-23T12:05:25.993Z"
   },
   {
    "duration": 189,
    "start_time": "2024-07-23T12:05:26.007Z"
   },
   {
    "duration": 9,
    "start_time": "2024-07-23T12:05:26.198Z"
   },
   {
    "duration": 166,
    "start_time": "2024-07-23T12:05:26.209Z"
   },
   {
    "duration": 183,
    "start_time": "2024-07-23T12:05:26.376Z"
   },
   {
    "duration": 7,
    "start_time": "2024-07-23T12:05:26.560Z"
   },
   {
    "duration": 197,
    "start_time": "2024-07-23T12:05:26.569Z"
   },
   {
    "duration": 8,
    "start_time": "2024-07-23T12:05:26.767Z"
   },
   {
    "duration": 33,
    "start_time": "2024-07-23T12:05:26.776Z"
   },
   {
    "duration": 19,
    "start_time": "2024-07-23T12:05:26.810Z"
   },
   {
    "duration": 29,
    "start_time": "2024-07-23T12:05:26.831Z"
   },
   {
    "duration": 16,
    "start_time": "2024-07-23T12:05:26.861Z"
   },
   {
    "duration": 139,
    "start_time": "2024-07-23T12:05:26.878Z"
   },
   {
    "duration": 3,
    "start_time": "2024-07-23T12:05:27.020Z"
   },
   {
    "duration": 16,
    "start_time": "2024-07-23T12:05:27.025Z"
   },
   {
    "duration": 50,
    "start_time": "2024-07-23T12:05:27.042Z"
   },
   {
    "duration": 7,
    "start_time": "2024-07-23T12:05:27.093Z"
   },
   {
    "duration": 12,
    "start_time": "2024-07-23T12:05:27.101Z"
   },
   {
    "duration": 29,
    "start_time": "2024-07-23T12:05:27.114Z"
   },
   {
    "duration": 16,
    "start_time": "2024-07-23T12:05:27.145Z"
   },
   {
    "duration": 10,
    "start_time": "2024-07-23T12:05:27.163Z"
   },
   {
    "duration": 6,
    "start_time": "2024-07-23T12:05:27.175Z"
   },
   {
    "duration": 24,
    "start_time": "2024-07-23T12:05:27.183Z"
   },
   {
    "duration": 6,
    "start_time": "2024-07-23T12:05:27.208Z"
   },
   {
    "duration": 172,
    "start_time": "2024-07-23T12:05:27.215Z"
   },
   {
    "duration": 156,
    "start_time": "2024-07-23T12:05:27.388Z"
   },
   {
    "duration": 13,
    "start_time": "2024-07-23T12:05:27.546Z"
   },
   {
    "duration": 81,
    "start_time": "2024-07-23T12:05:27.560Z"
   },
   {
    "duration": 0,
    "start_time": "2024-07-23T12:05:27.642Z"
   },
   {
    "duration": 0,
    "start_time": "2024-07-23T12:05:27.643Z"
   },
   {
    "duration": 0,
    "start_time": "2024-07-23T12:05:27.644Z"
   },
   {
    "duration": 0,
    "start_time": "2024-07-23T12:05:27.645Z"
   },
   {
    "duration": 0,
    "start_time": "2024-07-23T12:05:27.646Z"
   },
   {
    "duration": 0,
    "start_time": "2024-07-23T12:05:27.647Z"
   },
   {
    "duration": 0,
    "start_time": "2024-07-23T12:05:27.649Z"
   },
   {
    "duration": 0,
    "start_time": "2024-07-23T12:05:27.650Z"
   },
   {
    "duration": 0,
    "start_time": "2024-07-23T12:05:27.651Z"
   },
   {
    "duration": 0,
    "start_time": "2024-07-23T12:05:27.652Z"
   },
   {
    "duration": 0,
    "start_time": "2024-07-23T12:05:27.652Z"
   },
   {
    "duration": 0,
    "start_time": "2024-07-23T12:05:27.654Z"
   },
   {
    "duration": 0,
    "start_time": "2024-07-23T12:05:27.654Z"
   },
   {
    "duration": 0,
    "start_time": "2024-07-23T12:05:27.655Z"
   },
   {
    "duration": 0,
    "start_time": "2024-07-23T12:05:27.656Z"
   },
   {
    "duration": 0,
    "start_time": "2024-07-23T12:05:27.657Z"
   },
   {
    "duration": 0,
    "start_time": "2024-07-23T12:05:27.658Z"
   },
   {
    "duration": 0,
    "start_time": "2024-07-23T12:05:27.659Z"
   },
   {
    "duration": 0,
    "start_time": "2024-07-23T12:05:27.660Z"
   },
   {
    "duration": 8,
    "start_time": "2024-07-23T12:05:55.112Z"
   },
   {
    "duration": 12,
    "start_time": "2024-07-23T12:05:57.254Z"
   },
   {
    "duration": 1383,
    "start_time": "2024-07-23T12:06:41.048Z"
   },
   {
    "duration": 25,
    "start_time": "2024-07-23T12:12:02.737Z"
   },
   {
    "duration": 23,
    "start_time": "2024-07-23T12:12:20.917Z"
   },
   {
    "duration": 25,
    "start_time": "2024-07-23T12:12:38.988Z"
   },
   {
    "duration": 24,
    "start_time": "2024-07-23T12:13:26.260Z"
   },
   {
    "duration": 15,
    "start_time": "2024-07-23T12:15:30.722Z"
   },
   {
    "duration": 14,
    "start_time": "2024-07-23T12:16:02.012Z"
   },
   {
    "duration": 1014,
    "start_time": "2024-07-23T12:16:07.343Z"
   },
   {
    "duration": 65,
    "start_time": "2024-07-23T12:16:08.359Z"
   },
   {
    "duration": 3,
    "start_time": "2024-07-23T12:16:08.425Z"
   },
   {
    "duration": 258,
    "start_time": "2024-07-23T12:16:08.430Z"
   },
   {
    "duration": 341,
    "start_time": "2024-07-23T12:16:08.689Z"
   },
   {
    "duration": 6,
    "start_time": "2024-07-23T12:16:09.031Z"
   },
   {
    "duration": 24,
    "start_time": "2024-07-23T12:16:09.038Z"
   },
   {
    "duration": 44,
    "start_time": "2024-07-23T12:16:09.063Z"
   },
   {
    "duration": 4,
    "start_time": "2024-07-23T12:16:09.109Z"
   },
   {
    "duration": 12,
    "start_time": "2024-07-23T12:16:09.116Z"
   },
   {
    "duration": 8,
    "start_time": "2024-07-23T12:16:09.129Z"
   },
   {
    "duration": 11,
    "start_time": "2024-07-23T12:16:09.138Z"
   },
   {
    "duration": 25,
    "start_time": "2024-07-23T12:16:09.150Z"
   },
   {
    "duration": 191,
    "start_time": "2024-07-23T12:16:09.177Z"
   },
   {
    "duration": 8,
    "start_time": "2024-07-23T12:16:09.370Z"
   },
   {
    "duration": 104,
    "start_time": "2024-07-23T12:16:09.379Z"
   },
   {
    "duration": 9,
    "start_time": "2024-07-23T12:16:09.485Z"
   },
   {
    "duration": 148,
    "start_time": "2024-07-23T12:16:09.495Z"
   },
   {
    "duration": 183,
    "start_time": "2024-07-23T12:16:09.645Z"
   },
   {
    "duration": 7,
    "start_time": "2024-07-23T12:16:09.830Z"
   },
   {
    "duration": 198,
    "start_time": "2024-07-23T12:16:09.838Z"
   },
   {
    "duration": 9,
    "start_time": "2024-07-23T12:16:10.037Z"
   },
   {
    "duration": 209,
    "start_time": "2024-07-23T12:16:10.047Z"
   },
   {
    "duration": 57,
    "start_time": "2024-07-23T12:16:10.258Z"
   },
   {
    "duration": 42,
    "start_time": "2024-07-23T12:16:10.316Z"
   },
   {
    "duration": 45,
    "start_time": "2024-07-23T12:16:10.360Z"
   },
   {
    "duration": 124,
    "start_time": "2024-07-23T12:16:10.406Z"
   },
   {
    "duration": 3,
    "start_time": "2024-07-23T12:16:10.534Z"
   },
   {
    "duration": 18,
    "start_time": "2024-07-23T12:16:10.538Z"
   },
   {
    "duration": 28,
    "start_time": "2024-07-23T12:16:10.557Z"
   },
   {
    "duration": 6,
    "start_time": "2024-07-23T12:16:10.587Z"
   },
   {
    "duration": 3,
    "start_time": "2024-07-23T12:16:10.602Z"
   },
   {
    "duration": 24,
    "start_time": "2024-07-23T12:16:10.606Z"
   },
   {
    "duration": 15,
    "start_time": "2024-07-23T12:16:10.631Z"
   },
   {
    "duration": 6,
    "start_time": "2024-07-23T12:16:10.647Z"
   },
   {
    "duration": 10,
    "start_time": "2024-07-23T12:16:10.655Z"
   },
   {
    "duration": 50,
    "start_time": "2024-07-23T12:16:10.666Z"
   },
   {
    "duration": 7,
    "start_time": "2024-07-23T12:16:10.717Z"
   },
   {
    "duration": 158,
    "start_time": "2024-07-23T12:16:10.725Z"
   },
   {
    "duration": 154,
    "start_time": "2024-07-23T12:16:10.885Z"
   },
   {
    "duration": 14,
    "start_time": "2024-07-23T12:16:11.040Z"
   },
   {
    "duration": 34,
    "start_time": "2024-07-23T12:16:11.055Z"
   },
   {
    "duration": 28,
    "start_time": "2024-07-23T12:16:11.091Z"
   },
   {
    "duration": 11,
    "start_time": "2024-07-23T12:16:11.120Z"
   },
   {
    "duration": 13,
    "start_time": "2024-07-23T12:16:11.132Z"
   },
   {
    "duration": 16,
    "start_time": "2024-07-23T12:16:11.146Z"
   },
   {
    "duration": 3,
    "start_time": "2024-07-23T12:16:11.164Z"
   },
   {
    "duration": 41,
    "start_time": "2024-07-23T12:16:11.168Z"
   },
   {
    "duration": 5,
    "start_time": "2024-07-23T12:16:11.210Z"
   },
   {
    "duration": 7,
    "start_time": "2024-07-23T12:16:11.216Z"
   },
   {
    "duration": 39,
    "start_time": "2024-07-23T12:16:11.224Z"
   },
   {
    "duration": 11,
    "start_time": "2024-07-23T12:16:11.264Z"
   },
   {
    "duration": 25,
    "start_time": "2024-07-23T12:16:11.277Z"
   },
   {
    "duration": 23,
    "start_time": "2024-07-23T12:16:11.304Z"
   },
   {
    "duration": 17,
    "start_time": "2024-07-23T12:16:11.328Z"
   },
   {
    "duration": 4,
    "start_time": "2024-07-23T12:16:11.346Z"
   },
   {
    "duration": 10,
    "start_time": "2024-07-23T12:16:11.351Z"
   },
   {
    "duration": 17,
    "start_time": "2024-07-23T12:16:11.362Z"
   },
   {
    "duration": 21,
    "start_time": "2024-07-23T12:16:11.380Z"
   },
   {
    "duration": 5,
    "start_time": "2024-07-23T12:16:11.403Z"
   },
   {
    "duration": 15,
    "start_time": "2024-07-23T12:16:11.409Z"
   },
   {
    "duration": 11,
    "start_time": "2024-07-23T12:18:15.678Z"
   },
   {
    "duration": 1022,
    "start_time": "2024-07-23T12:18:20.931Z"
   },
   {
    "duration": 67,
    "start_time": "2024-07-23T12:18:21.955Z"
   },
   {
    "duration": 2,
    "start_time": "2024-07-23T12:18:22.023Z"
   },
   {
    "duration": 370,
    "start_time": "2024-07-23T12:18:22.027Z"
   },
   {
    "duration": 311,
    "start_time": "2024-07-23T12:18:22.401Z"
   },
   {
    "duration": 7,
    "start_time": "2024-07-23T12:18:22.714Z"
   },
   {
    "duration": 29,
    "start_time": "2024-07-23T12:18:22.723Z"
   },
   {
    "duration": 10,
    "start_time": "2024-07-23T12:18:22.753Z"
   },
   {
    "duration": 3,
    "start_time": "2024-07-23T12:18:22.764Z"
   },
   {
    "duration": 14,
    "start_time": "2024-07-23T12:18:22.770Z"
   },
   {
    "duration": 4,
    "start_time": "2024-07-23T12:18:22.801Z"
   },
   {
    "duration": 13,
    "start_time": "2024-07-23T12:18:22.806Z"
   },
   {
    "duration": 16,
    "start_time": "2024-07-23T12:18:22.820Z"
   },
   {
    "duration": 170,
    "start_time": "2024-07-23T12:18:22.837Z"
   },
   {
    "duration": 9,
    "start_time": "2024-07-23T12:18:23.008Z"
   },
   {
    "duration": 92,
    "start_time": "2024-07-23T12:18:23.018Z"
   },
   {
    "duration": 9,
    "start_time": "2024-07-23T12:18:23.111Z"
   },
   {
    "duration": 169,
    "start_time": "2024-07-23T12:18:23.121Z"
   },
   {
    "duration": 177,
    "start_time": "2024-07-23T12:18:23.292Z"
   },
   {
    "duration": 8,
    "start_time": "2024-07-23T12:18:23.470Z"
   },
   {
    "duration": 189,
    "start_time": "2024-07-23T12:18:23.479Z"
   },
   {
    "duration": 8,
    "start_time": "2024-07-23T12:18:23.669Z"
   },
   {
    "duration": 29,
    "start_time": "2024-07-23T12:18:23.678Z"
   },
   {
    "duration": 13,
    "start_time": "2024-07-23T12:18:23.709Z"
   },
   {
    "duration": 18,
    "start_time": "2024-07-23T12:18:23.723Z"
   },
   {
    "duration": 86,
    "start_time": "2024-07-23T12:18:23.743Z"
   },
   {
    "duration": 119,
    "start_time": "2024-07-23T12:18:23.831Z"
   },
   {
    "duration": 3,
    "start_time": "2024-07-23T12:18:23.955Z"
   },
   {
    "duration": 16,
    "start_time": "2024-07-23T12:18:23.959Z"
   },
   {
    "duration": 40,
    "start_time": "2024-07-23T12:18:23.976Z"
   },
   {
    "duration": 9,
    "start_time": "2024-07-23T12:18:24.018Z"
   },
   {
    "duration": 156,
    "start_time": "2024-07-23T12:18:24.029Z"
   },
   {
    "duration": 25,
    "start_time": "2024-07-23T12:18:24.186Z"
   },
   {
    "duration": 15,
    "start_time": "2024-07-23T12:18:24.213Z"
   },
   {
    "duration": 6,
    "start_time": "2024-07-23T12:18:24.230Z"
   },
   {
    "duration": 6,
    "start_time": "2024-07-23T12:18:24.238Z"
   },
   {
    "duration": 6,
    "start_time": "2024-07-23T12:18:24.245Z"
   },
   {
    "duration": 6,
    "start_time": "2024-07-23T12:18:24.253Z"
   },
   {
    "duration": 169,
    "start_time": "2024-07-23T12:18:24.302Z"
   },
   {
    "duration": 150,
    "start_time": "2024-07-23T12:18:24.473Z"
   },
   {
    "duration": 13,
    "start_time": "2024-07-23T12:18:24.625Z"
   },
   {
    "duration": 34,
    "start_time": "2024-07-23T12:18:24.640Z"
   },
   {
    "duration": 41,
    "start_time": "2024-07-23T12:18:24.675Z"
   },
   {
    "duration": 13,
    "start_time": "2024-07-23T12:18:24.718Z"
   },
   {
    "duration": 14,
    "start_time": "2024-07-23T12:18:24.733Z"
   },
   {
    "duration": 3,
    "start_time": "2024-07-23T12:18:24.748Z"
   },
   {
    "duration": 14,
    "start_time": "2024-07-23T12:18:24.752Z"
   },
   {
    "duration": 7,
    "start_time": "2024-07-23T12:18:24.767Z"
   },
   {
    "duration": 11,
    "start_time": "2024-07-23T12:18:24.801Z"
   },
   {
    "duration": 7,
    "start_time": "2024-07-23T12:18:24.814Z"
   },
   {
    "duration": 20,
    "start_time": "2024-07-23T12:18:24.822Z"
   },
   {
    "duration": 38,
    "start_time": "2024-07-23T12:18:24.843Z"
   },
   {
    "duration": 10,
    "start_time": "2024-07-23T12:18:24.882Z"
   },
   {
    "duration": 20,
    "start_time": "2024-07-23T12:18:24.894Z"
   },
   {
    "duration": 13,
    "start_time": "2024-07-23T12:18:24.915Z"
   },
   {
    "duration": 12,
    "start_time": "2024-07-23T12:18:24.930Z"
   },
   {
    "duration": 4,
    "start_time": "2024-07-23T12:18:24.943Z"
   },
   {
    "duration": 5,
    "start_time": "2024-07-23T12:18:24.948Z"
   },
   {
    "duration": 23,
    "start_time": "2024-07-23T12:18:24.954Z"
   },
   {
    "duration": 24,
    "start_time": "2024-07-23T12:18:24.978Z"
   },
   {
    "duration": 5,
    "start_time": "2024-07-23T12:18:25.004Z"
   },
   {
    "duration": 6,
    "start_time": "2024-07-23T12:18:25.010Z"
   },
   {
    "duration": 28,
    "start_time": "2024-07-23T12:18:50.444Z"
   },
   {
    "duration": 47,
    "start_time": "2024-07-24T09:40:14.646Z"
   },
   {
    "duration": 1406,
    "start_time": "2024-07-24T09:40:19.566Z"
   },
   {
    "duration": 267,
    "start_time": "2024-07-24T09:40:20.973Z"
   },
   {
    "duration": 3,
    "start_time": "2024-07-24T09:40:21.241Z"
   },
   {
    "duration": 338,
    "start_time": "2024-07-24T09:40:21.245Z"
   },
   {
    "duration": 351,
    "start_time": "2024-07-24T09:40:21.585Z"
   },
   {
    "duration": 21,
    "start_time": "2024-07-24T09:40:21.939Z"
   },
   {
    "duration": 8,
    "start_time": "2024-07-24T09:40:21.962Z"
   },
   {
    "duration": 17,
    "start_time": "2024-07-24T09:40:21.971Z"
   },
   {
    "duration": 13,
    "start_time": "2024-07-24T09:40:21.990Z"
   },
   {
    "duration": 18,
    "start_time": "2024-07-24T09:40:22.006Z"
   },
   {
    "duration": 38,
    "start_time": "2024-07-24T09:40:22.026Z"
   },
   {
    "duration": 22,
    "start_time": "2024-07-24T09:40:22.066Z"
   },
   {
    "duration": 15,
    "start_time": "2024-07-24T09:40:22.090Z"
   },
   {
    "duration": 199,
    "start_time": "2024-07-24T09:40:22.107Z"
   },
   {
    "duration": 9,
    "start_time": "2024-07-24T09:40:22.307Z"
   },
   {
    "duration": 105,
    "start_time": "2024-07-24T09:40:22.318Z"
   },
   {
    "duration": 10,
    "start_time": "2024-07-24T09:40:22.424Z"
   },
   {
    "duration": 183,
    "start_time": "2024-07-24T09:40:22.436Z"
   },
   {
    "duration": 199,
    "start_time": "2024-07-24T09:40:22.621Z"
   },
   {
    "duration": 10,
    "start_time": "2024-07-24T09:40:22.822Z"
   },
   {
    "duration": 239,
    "start_time": "2024-07-24T09:40:22.834Z"
   },
   {
    "duration": 9,
    "start_time": "2024-07-24T09:40:23.074Z"
   },
   {
    "duration": 19,
    "start_time": "2024-07-24T09:40:23.085Z"
   },
   {
    "duration": 34,
    "start_time": "2024-07-24T09:40:23.106Z"
   },
   {
    "duration": 32,
    "start_time": "2024-07-24T09:40:23.142Z"
   },
   {
    "duration": 22,
    "start_time": "2024-07-24T09:40:23.176Z"
   },
   {
    "duration": 166,
    "start_time": "2024-07-24T09:40:23.200Z"
   },
   {
    "duration": 4,
    "start_time": "2024-07-24T09:40:23.371Z"
   },
   {
    "duration": 22,
    "start_time": "2024-07-24T09:40:23.377Z"
   },
   {
    "duration": 26,
    "start_time": "2024-07-24T09:40:23.401Z"
   },
   {
    "duration": 11,
    "start_time": "2024-07-24T09:40:23.429Z"
   },
   {
    "duration": 22,
    "start_time": "2024-07-24T09:40:23.441Z"
   },
   {
    "duration": 22,
    "start_time": "2024-07-24T09:40:23.465Z"
   },
   {
    "duration": 19,
    "start_time": "2024-07-24T09:40:23.489Z"
   },
   {
    "duration": 9,
    "start_time": "2024-07-24T09:40:23.509Z"
   },
   {
    "duration": 47,
    "start_time": "2024-07-24T09:40:23.520Z"
   },
   {
    "duration": 43,
    "start_time": "2024-07-24T09:40:23.569Z"
   },
   {
    "duration": 18,
    "start_time": "2024-07-24T09:40:23.614Z"
   },
   {
    "duration": 171,
    "start_time": "2024-07-24T09:40:23.634Z"
   },
   {
    "duration": 227,
    "start_time": "2024-07-24T09:40:23.807Z"
   },
   {
    "duration": 27,
    "start_time": "2024-07-24T09:40:24.035Z"
   },
   {
    "duration": 31,
    "start_time": "2024-07-24T09:40:24.064Z"
   },
   {
    "duration": 66,
    "start_time": "2024-07-24T09:40:24.097Z"
   },
   {
    "duration": 0,
    "start_time": "2024-07-24T09:40:24.164Z"
   },
   {
    "duration": 0,
    "start_time": "2024-07-24T09:40:24.165Z"
   },
   {
    "duration": 0,
    "start_time": "2024-07-24T09:40:24.166Z"
   },
   {
    "duration": 0,
    "start_time": "2024-07-24T09:40:24.167Z"
   },
   {
    "duration": 0,
    "start_time": "2024-07-24T09:40:24.168Z"
   },
   {
    "duration": 0,
    "start_time": "2024-07-24T09:40:24.170Z"
   },
   {
    "duration": 0,
    "start_time": "2024-07-24T09:40:24.171Z"
   },
   {
    "duration": 0,
    "start_time": "2024-07-24T09:40:24.172Z"
   },
   {
    "duration": 0,
    "start_time": "2024-07-24T09:40:24.173Z"
   },
   {
    "duration": 0,
    "start_time": "2024-07-24T09:40:24.174Z"
   },
   {
    "duration": 0,
    "start_time": "2024-07-24T09:40:24.175Z"
   },
   {
    "duration": 0,
    "start_time": "2024-07-24T09:40:24.176Z"
   },
   {
    "duration": 0,
    "start_time": "2024-07-24T09:40:24.178Z"
   },
   {
    "duration": 0,
    "start_time": "2024-07-24T09:40:24.179Z"
   },
   {
    "duration": 0,
    "start_time": "2024-07-24T09:40:24.180Z"
   },
   {
    "duration": 0,
    "start_time": "2024-07-24T09:40:24.182Z"
   },
   {
    "duration": 0,
    "start_time": "2024-07-24T09:40:24.184Z"
   },
   {
    "duration": 0,
    "start_time": "2024-07-24T09:40:24.185Z"
   },
   {
    "duration": 0,
    "start_time": "2024-07-24T09:40:24.187Z"
   },
   {
    "duration": 31,
    "start_time": "2024-07-24T09:40:39.320Z"
   },
   {
    "duration": 27,
    "start_time": "2024-07-24T09:40:47.286Z"
   },
   {
    "duration": 1217,
    "start_time": "2024-07-24T09:41:02.864Z"
   },
   {
    "duration": 70,
    "start_time": "2024-07-24T09:41:04.083Z"
   },
   {
    "duration": 3,
    "start_time": "2024-07-24T09:41:04.155Z"
   },
   {
    "duration": 266,
    "start_time": "2024-07-24T09:41:04.160Z"
   },
   {
    "duration": 347,
    "start_time": "2024-07-24T09:41:04.427Z"
   },
   {
    "duration": 8,
    "start_time": "2024-07-24T09:41:04.776Z"
   },
   {
    "duration": 7,
    "start_time": "2024-07-24T09:41:04.786Z"
   },
   {
    "duration": 9,
    "start_time": "2024-07-24T09:41:04.794Z"
   },
   {
    "duration": 4,
    "start_time": "2024-07-24T09:41:04.805Z"
   },
   {
    "duration": 15,
    "start_time": "2024-07-24T09:41:04.811Z"
   },
   {
    "duration": 38,
    "start_time": "2024-07-24T09:41:04.827Z"
   },
   {
    "duration": 11,
    "start_time": "2024-07-24T09:41:04.866Z"
   },
   {
    "duration": 12,
    "start_time": "2024-07-24T09:41:04.878Z"
   },
   {
    "duration": 201,
    "start_time": "2024-07-24T09:41:04.892Z"
   },
   {
    "duration": 10,
    "start_time": "2024-07-24T09:41:05.094Z"
   },
   {
    "duration": 102,
    "start_time": "2024-07-24T09:41:05.106Z"
   },
   {
    "duration": 10,
    "start_time": "2024-07-24T09:41:05.209Z"
   },
   {
    "duration": 185,
    "start_time": "2024-07-24T09:41:05.220Z"
   },
   {
    "duration": 210,
    "start_time": "2024-07-24T09:41:05.406Z"
   },
   {
    "duration": 8,
    "start_time": "2024-07-24T09:41:05.618Z"
   },
   {
    "duration": 274,
    "start_time": "2024-07-24T09:41:05.628Z"
   },
   {
    "duration": 9,
    "start_time": "2024-07-24T09:41:05.904Z"
   },
   {
    "duration": 15,
    "start_time": "2024-07-24T09:41:05.915Z"
   },
   {
    "duration": 54,
    "start_time": "2024-07-24T09:41:05.932Z"
   },
   {
    "duration": 23,
    "start_time": "2024-07-24T09:41:05.988Z"
   },
   {
    "duration": 22,
    "start_time": "2024-07-24T09:41:06.013Z"
   },
   {
    "duration": 189,
    "start_time": "2024-07-24T09:41:06.037Z"
   },
   {
    "duration": 4,
    "start_time": "2024-07-24T09:41:06.230Z"
   },
   {
    "duration": 12,
    "start_time": "2024-07-24T09:41:06.235Z"
   },
   {
    "duration": 39,
    "start_time": "2024-07-24T09:41:06.248Z"
   },
   {
    "duration": 9,
    "start_time": "2024-07-24T09:41:06.289Z"
   },
   {
    "duration": 14,
    "start_time": "2024-07-24T09:41:06.300Z"
   },
   {
    "duration": 20,
    "start_time": "2024-07-24T09:41:06.316Z"
   },
   {
    "duration": 42,
    "start_time": "2024-07-24T09:41:06.337Z"
   },
   {
    "duration": 10,
    "start_time": "2024-07-24T09:41:06.381Z"
   },
   {
    "duration": 8,
    "start_time": "2024-07-24T09:41:06.393Z"
   },
   {
    "duration": 14,
    "start_time": "2024-07-24T09:41:06.402Z"
   },
   {
    "duration": 43,
    "start_time": "2024-07-24T09:41:06.418Z"
   },
   {
    "duration": 200,
    "start_time": "2024-07-24T09:41:06.464Z"
   },
   {
    "duration": 177,
    "start_time": "2024-07-24T09:41:06.666Z"
   },
   {
    "duration": 24,
    "start_time": "2024-07-24T09:41:06.845Z"
   },
   {
    "duration": 31,
    "start_time": "2024-07-24T09:41:06.871Z"
   },
   {
    "duration": 28,
    "start_time": "2024-07-24T09:41:06.904Z"
   },
   {
    "duration": 41,
    "start_time": "2024-07-24T09:41:06.934Z"
   },
   {
    "duration": 3,
    "start_time": "2024-07-24T09:41:06.977Z"
   },
   {
    "duration": 16,
    "start_time": "2024-07-24T09:41:06.981Z"
   },
   {
    "duration": 4,
    "start_time": "2024-07-24T09:41:06.999Z"
   },
   {
    "duration": 13,
    "start_time": "2024-07-24T09:41:07.005Z"
   },
   {
    "duration": 41,
    "start_time": "2024-07-24T09:41:07.020Z"
   },
   {
    "duration": 9,
    "start_time": "2024-07-24T09:41:07.063Z"
   },
   {
    "duration": 33,
    "start_time": "2024-07-24T09:41:07.074Z"
   },
   {
    "duration": 17,
    "start_time": "2024-07-24T09:41:07.109Z"
   },
   {
    "duration": 45,
    "start_time": "2024-07-24T09:41:07.128Z"
   },
   {
    "duration": 26,
    "start_time": "2024-07-24T09:41:07.174Z"
   },
   {
    "duration": 18,
    "start_time": "2024-07-24T09:41:07.202Z"
   },
   {
    "duration": 7,
    "start_time": "2024-07-24T09:41:07.221Z"
   },
   {
    "duration": 32,
    "start_time": "2024-07-24T09:41:07.230Z"
   },
   {
    "duration": 5,
    "start_time": "2024-07-24T09:41:07.263Z"
   },
   {
    "duration": 16,
    "start_time": "2024-07-24T09:41:07.270Z"
   },
   {
    "duration": 24,
    "start_time": "2024-07-24T09:41:07.287Z"
   },
   {
    "duration": 9,
    "start_time": "2024-07-24T09:41:07.312Z"
   },
   {
    "duration": 6,
    "start_time": "2024-07-24T09:52:28.295Z"
   },
   {
    "duration": 4,
    "start_time": "2024-07-24T09:52:30.671Z"
   },
   {
    "duration": 28,
    "start_time": "2024-07-24T09:52:31.172Z"
   },
   {
    "duration": 15,
    "start_time": "2024-07-24T09:52:37.196Z"
   },
   {
    "duration": 16,
    "start_time": "2024-07-24T09:54:48.934Z"
   },
   {
    "duration": 1153,
    "start_time": "2024-07-24T09:55:03.001Z"
   },
   {
    "duration": 66,
    "start_time": "2024-07-24T09:55:04.156Z"
   },
   {
    "duration": 3,
    "start_time": "2024-07-24T09:55:04.224Z"
   },
   {
    "duration": 268,
    "start_time": "2024-07-24T09:55:04.228Z"
   },
   {
    "duration": 349,
    "start_time": "2024-07-24T09:55:04.498Z"
   },
   {
    "duration": 12,
    "start_time": "2024-07-24T09:55:04.849Z"
   },
   {
    "duration": 10,
    "start_time": "2024-07-24T09:55:04.863Z"
   },
   {
    "duration": 11,
    "start_time": "2024-07-24T09:55:04.874Z"
   },
   {
    "duration": 4,
    "start_time": "2024-07-24T09:55:04.887Z"
   },
   {
    "duration": 13,
    "start_time": "2024-07-24T09:55:04.894Z"
   },
   {
    "duration": 4,
    "start_time": "2024-07-24T09:55:04.908Z"
   },
   {
    "duration": 7,
    "start_time": "2024-07-24T09:55:04.962Z"
   },
   {
    "duration": 13,
    "start_time": "2024-07-24T09:55:04.971Z"
   },
   {
    "duration": 228,
    "start_time": "2024-07-24T09:55:04.986Z"
   },
   {
    "duration": 10,
    "start_time": "2024-07-24T09:55:05.216Z"
   },
   {
    "duration": 116,
    "start_time": "2024-07-24T09:55:05.227Z"
   },
   {
    "duration": 13,
    "start_time": "2024-07-24T09:55:05.360Z"
   },
   {
    "duration": 221,
    "start_time": "2024-07-24T09:55:05.375Z"
   },
   {
    "duration": 217,
    "start_time": "2024-07-24T09:55:05.598Z"
   },
   {
    "duration": 9,
    "start_time": "2024-07-24T09:55:05.817Z"
   },
   {
    "duration": 268,
    "start_time": "2024-07-24T09:55:05.827Z"
   },
   {
    "duration": 9,
    "start_time": "2024-07-24T09:55:06.096Z"
   },
   {
    "duration": 38,
    "start_time": "2024-07-24T09:55:06.106Z"
   },
   {
    "duration": 23,
    "start_time": "2024-07-24T09:55:06.145Z"
   },
   {
    "duration": 22,
    "start_time": "2024-07-24T09:55:06.169Z"
   },
   {
    "duration": 21,
    "start_time": "2024-07-24T09:55:06.192Z"
   },
   {
    "duration": 192,
    "start_time": "2024-07-24T09:55:06.215Z"
   },
   {
    "duration": 3,
    "start_time": "2024-07-24T09:55:06.410Z"
   },
   {
    "duration": 21,
    "start_time": "2024-07-24T09:55:06.415Z"
   },
   {
    "duration": 35,
    "start_time": "2024-07-24T09:55:06.437Z"
   },
   {
    "duration": 8,
    "start_time": "2024-07-24T09:55:06.473Z"
   },
   {
    "duration": 12,
    "start_time": "2024-07-24T09:55:06.483Z"
   },
   {
    "duration": 29,
    "start_time": "2024-07-24T09:55:06.497Z"
   },
   {
    "duration": 41,
    "start_time": "2024-07-24T09:55:06.528Z"
   },
   {
    "duration": 7,
    "start_time": "2024-07-24T09:55:06.571Z"
   },
   {
    "duration": 13,
    "start_time": "2024-07-24T09:55:06.579Z"
   },
   {
    "duration": 9,
    "start_time": "2024-07-24T09:55:06.593Z"
   },
   {
    "duration": 7,
    "start_time": "2024-07-24T09:55:06.603Z"
   },
   {
    "duration": 219,
    "start_time": "2024-07-24T09:55:06.611Z"
   },
   {
    "duration": 178,
    "start_time": "2024-07-24T09:55:06.832Z"
   },
   {
    "duration": 17,
    "start_time": "2024-07-24T09:55:07.011Z"
   },
   {
    "duration": 56,
    "start_time": "2024-07-24T09:55:07.029Z"
   },
   {
    "duration": 28,
    "start_time": "2024-07-24T09:55:07.086Z"
   },
   {
    "duration": 47,
    "start_time": "2024-07-24T09:55:07.115Z"
   },
   {
    "duration": 3,
    "start_time": "2024-07-24T09:55:07.163Z"
   },
   {
    "duration": 19,
    "start_time": "2024-07-24T09:55:07.167Z"
   },
   {
    "duration": 4,
    "start_time": "2024-07-24T09:55:07.188Z"
   },
   {
    "duration": 14,
    "start_time": "2024-07-24T09:55:07.193Z"
   },
   {
    "duration": 56,
    "start_time": "2024-07-24T09:55:07.208Z"
   },
   {
    "duration": 31,
    "start_time": "2024-07-24T09:55:07.265Z"
   },
   {
    "duration": 35,
    "start_time": "2024-07-24T09:55:07.298Z"
   },
   {
    "duration": 14,
    "start_time": "2024-07-24T09:55:07.334Z"
   },
   {
    "duration": 29,
    "start_time": "2024-07-24T09:55:07.349Z"
   },
   {
    "duration": 17,
    "start_time": "2024-07-24T09:55:07.380Z"
   },
   {
    "duration": 5,
    "start_time": "2024-07-24T09:55:07.399Z"
   },
   {
    "duration": 9,
    "start_time": "2024-07-24T09:55:07.406Z"
   },
   {
    "duration": 47,
    "start_time": "2024-07-24T09:55:07.416Z"
   },
   {
    "duration": 6,
    "start_time": "2024-07-24T09:55:07.465Z"
   },
   {
    "duration": 7,
    "start_time": "2024-07-24T09:55:07.473Z"
   },
   {
    "duration": 4,
    "start_time": "2024-07-24T09:55:07.482Z"
   },
   {
    "duration": 36,
    "start_time": "2024-07-24T10:06:24.653Z"
   },
   {
    "duration": 14,
    "start_time": "2024-07-24T10:07:14.681Z"
   },
   {
    "duration": 17,
    "start_time": "2024-07-24T10:08:05.172Z"
   },
   {
    "duration": 1101,
    "start_time": "2024-07-24T10:08:39.683Z"
   },
   {
    "duration": 72,
    "start_time": "2024-07-24T10:08:40.786Z"
   },
   {
    "duration": 3,
    "start_time": "2024-07-24T10:08:40.859Z"
   },
   {
    "duration": 282,
    "start_time": "2024-07-24T10:08:40.864Z"
   },
   {
    "duration": 349,
    "start_time": "2024-07-24T10:08:41.149Z"
   },
   {
    "duration": 7,
    "start_time": "2024-07-24T10:08:41.500Z"
   },
   {
    "duration": 17,
    "start_time": "2024-07-24T10:08:41.509Z"
   },
   {
    "duration": 24,
    "start_time": "2024-07-24T10:08:41.528Z"
   },
   {
    "duration": 5,
    "start_time": "2024-07-24T10:08:41.560Z"
   },
   {
    "duration": 20,
    "start_time": "2024-07-24T10:08:41.567Z"
   },
   {
    "duration": 14,
    "start_time": "2024-07-24T10:08:41.589Z"
   },
   {
    "duration": 11,
    "start_time": "2024-07-24T10:08:41.604Z"
   },
   {
    "duration": 90,
    "start_time": "2024-07-24T10:08:41.616Z"
   },
   {
    "duration": 186,
    "start_time": "2024-07-24T10:08:41.709Z"
   },
   {
    "duration": 12,
    "start_time": "2024-07-24T10:08:41.896Z"
   },
   {
    "duration": 118,
    "start_time": "2024-07-24T10:08:41.909Z"
   },
   {
    "duration": 10,
    "start_time": "2024-07-24T10:08:42.029Z"
   },
   {
    "duration": 196,
    "start_time": "2024-07-24T10:08:42.041Z"
   },
   {
    "duration": 231,
    "start_time": "2024-07-24T10:08:42.239Z"
   },
   {
    "duration": 11,
    "start_time": "2024-07-24T10:08:42.472Z"
   },
   {
    "duration": 265,
    "start_time": "2024-07-24T10:08:42.485Z"
   },
   {
    "duration": 17,
    "start_time": "2024-07-24T10:08:42.752Z"
   },
   {
    "duration": 16,
    "start_time": "2024-07-24T10:08:42.771Z"
   },
   {
    "duration": 15,
    "start_time": "2024-07-24T10:08:42.788Z"
   },
   {
    "duration": 65,
    "start_time": "2024-07-24T10:08:42.804Z"
   },
   {
    "duration": 20,
    "start_time": "2024-07-24T10:08:42.870Z"
   },
   {
    "duration": 164,
    "start_time": "2024-07-24T10:08:42.892Z"
   },
   {
    "duration": 3,
    "start_time": "2024-07-24T10:08:43.060Z"
   },
   {
    "duration": 22,
    "start_time": "2024-07-24T10:08:43.065Z"
   },
   {
    "duration": 30,
    "start_time": "2024-07-24T10:08:43.088Z"
   },
   {
    "duration": 8,
    "start_time": "2024-07-24T10:08:43.119Z"
   },
   {
    "duration": 9,
    "start_time": "2024-07-24T10:08:43.129Z"
   },
   {
    "duration": 39,
    "start_time": "2024-07-24T10:08:43.139Z"
   },
   {
    "duration": 17,
    "start_time": "2024-07-24T10:08:43.179Z"
   },
   {
    "duration": 11,
    "start_time": "2024-07-24T10:08:43.198Z"
   },
   {
    "duration": 11,
    "start_time": "2024-07-24T10:08:43.210Z"
   },
   {
    "duration": 43,
    "start_time": "2024-07-24T10:08:43.222Z"
   },
   {
    "duration": 6,
    "start_time": "2024-07-24T10:08:43.267Z"
   },
   {
    "duration": 189,
    "start_time": "2024-07-24T10:08:43.275Z"
   },
   {
    "duration": 179,
    "start_time": "2024-07-24T10:08:43.466Z"
   },
   {
    "duration": 17,
    "start_time": "2024-07-24T10:08:43.662Z"
   },
   {
    "duration": 33,
    "start_time": "2024-07-24T10:08:43.681Z"
   },
   {
    "duration": 46,
    "start_time": "2024-07-24T10:08:43.716Z"
   },
   {
    "duration": 12,
    "start_time": "2024-07-24T10:08:43.763Z"
   },
   {
    "duration": 3,
    "start_time": "2024-07-24T10:08:43.776Z"
   },
   {
    "duration": 18,
    "start_time": "2024-07-24T10:08:43.780Z"
   },
   {
    "duration": 7,
    "start_time": "2024-07-24T10:08:43.800Z"
   },
   {
    "duration": 16,
    "start_time": "2024-07-24T10:08:43.808Z"
   },
   {
    "duration": 42,
    "start_time": "2024-07-24T10:08:43.826Z"
   },
   {
    "duration": 7,
    "start_time": "2024-07-24T10:08:43.869Z"
   },
   {
    "duration": 29,
    "start_time": "2024-07-24T10:08:43.877Z"
   },
   {
    "duration": 13,
    "start_time": "2024-07-24T10:08:43.907Z"
   },
   {
    "duration": 46,
    "start_time": "2024-07-24T10:08:43.922Z"
   },
   {
    "duration": 19,
    "start_time": "2024-07-24T10:08:43.969Z"
   },
   {
    "duration": 5,
    "start_time": "2024-07-24T10:08:43.989Z"
   },
   {
    "duration": 15,
    "start_time": "2024-07-24T10:08:43.995Z"
   },
   {
    "duration": 6,
    "start_time": "2024-07-24T10:08:44.011Z"
   },
   {
    "duration": 43,
    "start_time": "2024-07-24T10:08:44.019Z"
   },
   {
    "duration": 5,
    "start_time": "2024-07-24T10:08:44.063Z"
   },
   {
    "duration": 18,
    "start_time": "2024-07-24T10:08:44.071Z"
   },
   {
    "duration": 138,
    "start_time": "2024-07-24T10:08:44.091Z"
   },
   {
    "duration": 0,
    "start_time": "2024-07-24T10:08:44.230Z"
   },
   {
    "duration": 9,
    "start_time": "2024-07-24T10:08:51.539Z"
   },
   {
    "duration": 10,
    "start_time": "2024-07-24T10:09:06.743Z"
   },
   {
    "duration": 1202,
    "start_time": "2024-07-24T10:09:14.898Z"
   },
   {
    "duration": 66,
    "start_time": "2024-07-24T10:09:16.103Z"
   },
   {
    "duration": 3,
    "start_time": "2024-07-24T10:09:16.170Z"
   },
   {
    "duration": 269,
    "start_time": "2024-07-24T10:09:16.175Z"
   },
   {
    "duration": 341,
    "start_time": "2024-07-24T10:09:16.446Z"
   },
   {
    "duration": 7,
    "start_time": "2024-07-24T10:09:16.788Z"
   },
   {
    "duration": 9,
    "start_time": "2024-07-24T10:09:16.797Z"
   },
   {
    "duration": 10,
    "start_time": "2024-07-24T10:09:16.807Z"
   },
   {
    "duration": 5,
    "start_time": "2024-07-24T10:09:16.818Z"
   },
   {
    "duration": 47,
    "start_time": "2024-07-24T10:09:16.824Z"
   },
   {
    "duration": 4,
    "start_time": "2024-07-24T10:09:16.873Z"
   },
   {
    "duration": 11,
    "start_time": "2024-07-24T10:09:16.879Z"
   },
   {
    "duration": 14,
    "start_time": "2024-07-24T10:09:16.891Z"
   },
   {
    "duration": 229,
    "start_time": "2024-07-24T10:09:16.908Z"
   },
   {
    "duration": 24,
    "start_time": "2024-07-24T10:09:17.138Z"
   },
   {
    "duration": 99,
    "start_time": "2024-07-24T10:09:17.163Z"
   },
   {
    "duration": 10,
    "start_time": "2024-07-24T10:09:17.264Z"
   },
   {
    "duration": 192,
    "start_time": "2024-07-24T10:09:17.276Z"
   },
   {
    "duration": 231,
    "start_time": "2024-07-24T10:09:17.469Z"
   },
   {
    "duration": 10,
    "start_time": "2024-07-24T10:09:17.701Z"
   },
   {
    "duration": 240,
    "start_time": "2024-07-24T10:09:17.712Z"
   },
   {
    "duration": 10,
    "start_time": "2024-07-24T10:09:17.954Z"
   },
   {
    "duration": 19,
    "start_time": "2024-07-24T10:09:17.965Z"
   },
   {
    "duration": 16,
    "start_time": "2024-07-24T10:09:17.985Z"
   },
   {
    "duration": 65,
    "start_time": "2024-07-24T10:09:18.002Z"
   },
   {
    "duration": 20,
    "start_time": "2024-07-24T10:09:18.068Z"
   },
   {
    "duration": 155,
    "start_time": "2024-07-24T10:09:18.090Z"
   },
   {
    "duration": 3,
    "start_time": "2024-07-24T10:09:18.247Z"
   },
   {
    "duration": 15,
    "start_time": "2024-07-24T10:09:18.252Z"
   },
   {
    "duration": 24,
    "start_time": "2024-07-24T10:09:18.268Z"
   },
   {
    "duration": 8,
    "start_time": "2024-07-24T10:09:18.294Z"
   },
   {
    "duration": 6,
    "start_time": "2024-07-24T10:09:18.303Z"
   },
   {
    "duration": 52,
    "start_time": "2024-07-24T10:09:18.310Z"
   },
   {
    "duration": 18,
    "start_time": "2024-07-24T10:09:18.364Z"
   },
   {
    "duration": 12,
    "start_time": "2024-07-24T10:09:18.383Z"
   },
   {
    "duration": 8,
    "start_time": "2024-07-24T10:09:18.396Z"
   },
   {
    "duration": 7,
    "start_time": "2024-07-24T10:09:18.405Z"
   },
   {
    "duration": 49,
    "start_time": "2024-07-24T10:09:18.413Z"
   },
   {
    "duration": 184,
    "start_time": "2024-07-24T10:09:18.463Z"
   },
   {
    "duration": 177,
    "start_time": "2024-07-24T10:09:18.649Z"
   },
   {
    "duration": 33,
    "start_time": "2024-07-24T10:09:18.830Z"
   },
   {
    "duration": 35,
    "start_time": "2024-07-24T10:09:18.864Z"
   },
   {
    "duration": 28,
    "start_time": "2024-07-24T10:09:18.901Z"
   },
   {
    "duration": 39,
    "start_time": "2024-07-24T10:09:18.931Z"
   },
   {
    "duration": 4,
    "start_time": "2024-07-24T10:09:18.972Z"
   },
   {
    "duration": 20,
    "start_time": "2024-07-24T10:09:18.978Z"
   },
   {
    "duration": 30,
    "start_time": "2024-07-24T10:09:18.999Z"
   },
   {
    "duration": 38,
    "start_time": "2024-07-24T10:09:19.030Z"
   },
   {
    "duration": 4,
    "start_time": "2024-07-24T10:09:19.069Z"
   },
   {
    "duration": 5,
    "start_time": "2024-07-24T10:09:19.074Z"
   },
   {
    "duration": 30,
    "start_time": "2024-07-24T10:09:19.080Z"
   },
   {
    "duration": 13,
    "start_time": "2024-07-24T10:09:19.111Z"
   },
   {
    "duration": 15,
    "start_time": "2024-07-24T10:09:19.160Z"
   },
   {
    "duration": 34,
    "start_time": "2024-07-24T10:09:19.177Z"
   },
   {
    "duration": 26,
    "start_time": "2024-07-24T10:09:19.213Z"
   },
   {
    "duration": 20,
    "start_time": "2024-07-24T10:09:19.241Z"
   },
   {
    "duration": 14,
    "start_time": "2024-07-24T10:09:19.263Z"
   },
   {
    "duration": 7,
    "start_time": "2024-07-24T10:09:19.279Z"
   },
   {
    "duration": 8,
    "start_time": "2024-07-24T10:09:19.287Z"
   },
   {
    "duration": 13,
    "start_time": "2024-07-24T10:09:19.297Z"
   },
   {
    "duration": 6,
    "start_time": "2024-07-24T10:09:19.313Z"
   },
   {
    "duration": 15,
    "start_time": "2024-07-24T10:09:59.698Z"
   },
   {
    "duration": 1159,
    "start_time": "2024-07-24T10:10:17.709Z"
   },
   {
    "duration": 67,
    "start_time": "2024-07-24T10:10:18.870Z"
   },
   {
    "duration": 3,
    "start_time": "2024-07-24T10:10:18.938Z"
   },
   {
    "duration": 256,
    "start_time": "2024-07-24T10:10:18.942Z"
   },
   {
    "duration": 328,
    "start_time": "2024-07-24T10:10:19.200Z"
   },
   {
    "duration": 7,
    "start_time": "2024-07-24T10:10:19.529Z"
   },
   {
    "duration": 24,
    "start_time": "2024-07-24T10:10:19.537Z"
   },
   {
    "duration": 9,
    "start_time": "2024-07-24T10:10:19.562Z"
   },
   {
    "duration": 4,
    "start_time": "2024-07-24T10:10:19.573Z"
   },
   {
    "duration": 12,
    "start_time": "2024-07-24T10:10:19.578Z"
   },
   {
    "duration": 4,
    "start_time": "2024-07-24T10:10:19.591Z"
   },
   {
    "duration": 13,
    "start_time": "2024-07-24T10:10:19.596Z"
   },
   {
    "duration": 55,
    "start_time": "2024-07-24T10:10:19.611Z"
   },
   {
    "duration": 233,
    "start_time": "2024-07-24T10:10:19.669Z"
   },
   {
    "duration": 10,
    "start_time": "2024-07-24T10:10:19.904Z"
   },
   {
    "duration": 113,
    "start_time": "2024-07-24T10:10:19.916Z"
   },
   {
    "duration": 9,
    "start_time": "2024-07-24T10:10:20.031Z"
   },
   {
    "duration": 251,
    "start_time": "2024-07-24T10:10:20.042Z"
   },
   {
    "duration": 233,
    "start_time": "2024-07-24T10:10:20.295Z"
   },
   {
    "duration": 10,
    "start_time": "2024-07-24T10:10:20.529Z"
   },
   {
    "duration": 237,
    "start_time": "2024-07-24T10:10:20.541Z"
   },
   {
    "duration": 10,
    "start_time": "2024-07-24T10:10:20.780Z"
   },
   {
    "duration": 18,
    "start_time": "2024-07-24T10:10:20.792Z"
   },
   {
    "duration": 15,
    "start_time": "2024-07-24T10:10:20.812Z"
   },
   {
    "duration": 21,
    "start_time": "2024-07-24T10:10:20.860Z"
   },
   {
    "duration": 20,
    "start_time": "2024-07-24T10:10:20.883Z"
   },
   {
    "duration": 168,
    "start_time": "2024-07-24T10:10:20.904Z"
   },
   {
    "duration": 4,
    "start_time": "2024-07-24T10:10:21.073Z"
   },
   {
    "duration": 6,
    "start_time": "2024-07-24T10:10:21.078Z"
   },
   {
    "duration": 22,
    "start_time": "2024-07-24T10:10:21.085Z"
   },
   {
    "duration": 9,
    "start_time": "2024-07-24T10:10:21.108Z"
   },
   {
    "duration": 44,
    "start_time": "2024-07-24T10:10:21.118Z"
   },
   {
    "duration": 38,
    "start_time": "2024-07-24T10:10:21.163Z"
   },
   {
    "duration": 18,
    "start_time": "2024-07-24T10:10:21.203Z"
   },
   {
    "duration": 7,
    "start_time": "2024-07-24T10:10:21.222Z"
   },
   {
    "duration": 38,
    "start_time": "2024-07-24T10:10:21.231Z"
   },
   {
    "duration": 22,
    "start_time": "2024-07-24T10:10:21.271Z"
   },
   {
    "duration": 20,
    "start_time": "2024-07-24T10:10:21.294Z"
   },
   {
    "duration": 206,
    "start_time": "2024-07-24T10:10:21.315Z"
   },
   {
    "duration": 178,
    "start_time": "2024-07-24T10:10:21.523Z"
   },
   {
    "duration": 16,
    "start_time": "2024-07-24T10:10:21.705Z"
   },
   {
    "duration": 53,
    "start_time": "2024-07-24T10:10:21.723Z"
   },
   {
    "duration": 28,
    "start_time": "2024-07-24T10:10:21.778Z"
   },
   {
    "duration": 12,
    "start_time": "2024-07-24T10:10:21.808Z"
   },
   {
    "duration": 18,
    "start_time": "2024-07-24T10:10:21.822Z"
   },
   {
    "duration": 19,
    "start_time": "2024-07-24T10:10:21.861Z"
   },
   {
    "duration": 25,
    "start_time": "2024-07-24T10:10:21.881Z"
   },
   {
    "duration": 47,
    "start_time": "2024-07-24T10:10:21.908Z"
   },
   {
    "duration": 34,
    "start_time": "2024-07-24T10:10:21.957Z"
   },
   {
    "duration": 12,
    "start_time": "2024-07-24T10:10:21.993Z"
   },
   {
    "duration": 55,
    "start_time": "2024-07-24T10:10:22.007Z"
   },
   {
    "duration": 15,
    "start_time": "2024-07-24T10:10:22.064Z"
   },
   {
    "duration": 30,
    "start_time": "2024-07-24T10:10:22.081Z"
   },
   {
    "duration": 49,
    "start_time": "2024-07-24T10:10:22.113Z"
   },
   {
    "duration": 18,
    "start_time": "2024-07-24T10:10:22.164Z"
   },
   {
    "duration": 9,
    "start_time": "2024-07-24T10:10:22.184Z"
   },
   {
    "duration": 14,
    "start_time": "2024-07-24T10:10:22.195Z"
   },
   {
    "duration": 7,
    "start_time": "2024-07-24T10:10:22.211Z"
   },
   {
    "duration": 46,
    "start_time": "2024-07-24T10:10:22.220Z"
   },
   {
    "duration": 29,
    "start_time": "2024-07-24T10:10:22.268Z"
   },
   {
    "duration": 28,
    "start_time": "2024-07-24T10:10:22.299Z"
   },
   {
    "duration": 7,
    "start_time": "2024-07-24T10:12:56.085Z"
   },
   {
    "duration": 41,
    "start_time": "2024-07-24T10:13:00.634Z"
   },
   {
    "duration": 154,
    "start_time": "2024-07-24T10:16:07.676Z"
   },
   {
    "duration": 88,
    "start_time": "2024-07-24T10:18:40.015Z"
   },
   {
    "duration": 70,
    "start_time": "2024-07-24T10:18:56.587Z"
   },
   {
    "duration": 18,
    "start_time": "2024-07-24T10:23:29.020Z"
   },
   {
    "duration": 17,
    "start_time": "2024-07-24T10:24:36.704Z"
   },
   {
    "duration": 1108,
    "start_time": "2024-07-24T10:24:54.576Z"
   },
   {
    "duration": 66,
    "start_time": "2024-07-24T10:24:55.686Z"
   },
   {
    "duration": 3,
    "start_time": "2024-07-24T10:24:55.754Z"
   },
   {
    "duration": 290,
    "start_time": "2024-07-24T10:24:55.759Z"
   },
   {
    "duration": 360,
    "start_time": "2024-07-24T10:24:56.051Z"
   },
   {
    "duration": 7,
    "start_time": "2024-07-24T10:24:56.413Z"
   },
   {
    "duration": 8,
    "start_time": "2024-07-24T10:24:56.422Z"
   },
   {
    "duration": 34,
    "start_time": "2024-07-24T10:24:56.432Z"
   },
   {
    "duration": 4,
    "start_time": "2024-07-24T10:24:56.468Z"
   },
   {
    "duration": 15,
    "start_time": "2024-07-24T10:24:56.475Z"
   },
   {
    "duration": 5,
    "start_time": "2024-07-24T10:24:56.491Z"
   },
   {
    "duration": 8,
    "start_time": "2024-07-24T10:24:56.498Z"
   },
   {
    "duration": 13,
    "start_time": "2024-07-24T10:24:56.508Z"
   },
   {
    "duration": 186,
    "start_time": "2024-07-24T10:24:56.561Z"
   },
   {
    "duration": 18,
    "start_time": "2024-07-24T10:24:56.749Z"
   },
   {
    "duration": 93,
    "start_time": "2024-07-24T10:24:56.769Z"
   },
   {
    "duration": 10,
    "start_time": "2024-07-24T10:24:56.864Z"
   },
   {
    "duration": 187,
    "start_time": "2024-07-24T10:24:56.875Z"
   },
   {
    "duration": 196,
    "start_time": "2024-07-24T10:24:57.064Z"
   },
   {
    "duration": 9,
    "start_time": "2024-07-24T10:24:57.262Z"
   },
   {
    "duration": 244,
    "start_time": "2024-07-24T10:24:57.273Z"
   },
   {
    "duration": 9,
    "start_time": "2024-07-24T10:24:57.518Z"
   },
   {
    "duration": 12,
    "start_time": "2024-07-24T10:24:57.529Z"
   },
   {
    "duration": 14,
    "start_time": "2024-07-24T10:24:57.561Z"
   },
   {
    "duration": 20,
    "start_time": "2024-07-24T10:24:57.577Z"
   },
   {
    "duration": 19,
    "start_time": "2024-07-24T10:24:57.599Z"
   },
   {
    "duration": 195,
    "start_time": "2024-07-24T10:24:57.620Z"
   },
   {
    "duration": 4,
    "start_time": "2024-07-24T10:24:57.818Z"
   },
   {
    "duration": 4,
    "start_time": "2024-07-24T10:24:57.824Z"
   },
   {
    "duration": 48,
    "start_time": "2024-07-24T10:24:57.830Z"
   },
   {
    "duration": 11,
    "start_time": "2024-07-24T10:24:57.880Z"
   },
   {
    "duration": 7,
    "start_time": "2024-07-24T10:24:57.893Z"
   },
   {
    "duration": 61,
    "start_time": "2024-07-24T10:24:57.901Z"
   },
   {
    "duration": 26,
    "start_time": "2024-07-24T10:24:57.964Z"
   },
   {
    "duration": 10,
    "start_time": "2024-07-24T10:24:57.992Z"
   },
   {
    "duration": 10,
    "start_time": "2024-07-24T10:24:58.004Z"
   },
   {
    "duration": 52,
    "start_time": "2024-07-24T10:24:58.016Z"
   },
   {
    "duration": 7,
    "start_time": "2024-07-24T10:24:58.070Z"
   },
   {
    "duration": 198,
    "start_time": "2024-07-24T10:24:58.079Z"
   },
   {
    "duration": 176,
    "start_time": "2024-07-24T10:24:58.278Z"
   },
   {
    "duration": 20,
    "start_time": "2024-07-24T10:24:58.455Z"
   },
   {
    "duration": 32,
    "start_time": "2024-07-24T10:24:58.476Z"
   },
   {
    "duration": 59,
    "start_time": "2024-07-24T10:24:58.510Z"
   },
   {
    "duration": 11,
    "start_time": "2024-07-24T10:24:58.570Z"
   },
   {
    "duration": 3,
    "start_time": "2024-07-24T10:24:58.582Z"
   },
   {
    "duration": 13,
    "start_time": "2024-07-24T10:24:58.586Z"
   },
   {
    "duration": 3,
    "start_time": "2024-07-24T10:24:58.601Z"
   },
   {
    "duration": 19,
    "start_time": "2024-07-24T10:24:58.605Z"
   },
   {
    "duration": 36,
    "start_time": "2024-07-24T10:24:58.626Z"
   },
   {
    "duration": 5,
    "start_time": "2024-07-24T10:24:58.664Z"
   },
   {
    "duration": 32,
    "start_time": "2024-07-24T10:24:58.670Z"
   },
   {
    "duration": 11,
    "start_time": "2024-07-24T10:24:58.704Z"
   },
   {
    "duration": 46,
    "start_time": "2024-07-24T10:24:58.716Z"
   },
   {
    "duration": 17,
    "start_time": "2024-07-24T10:24:58.763Z"
   },
   {
    "duration": 8,
    "start_time": "2024-07-24T10:24:58.782Z"
   },
   {
    "duration": 76,
    "start_time": "2024-07-24T10:24:58.792Z"
   },
   {
    "duration": 120,
    "start_time": "2024-07-24T10:24:58.870Z"
   },
   {
    "duration": 0,
    "start_time": "2024-07-24T10:24:58.992Z"
   },
   {
    "duration": 0,
    "start_time": "2024-07-24T10:24:58.993Z"
   },
   {
    "duration": 0,
    "start_time": "2024-07-24T10:24:58.995Z"
   },
   {
    "duration": 0,
    "start_time": "2024-07-24T10:24:58.996Z"
   },
   {
    "duration": 0,
    "start_time": "2024-07-24T10:24:58.998Z"
   },
   {
    "duration": 7,
    "start_time": "2024-07-24T10:27:10.566Z"
   },
   {
    "duration": 1123,
    "start_time": "2024-07-24T10:27:53.450Z"
   },
   {
    "duration": 65,
    "start_time": "2024-07-24T10:27:54.575Z"
   },
   {
    "duration": 3,
    "start_time": "2024-07-24T10:27:54.642Z"
   },
   {
    "duration": 308,
    "start_time": "2024-07-24T10:27:54.646Z"
   },
   {
    "duration": 324,
    "start_time": "2024-07-24T10:27:54.962Z"
   },
   {
    "duration": 6,
    "start_time": "2024-07-24T10:27:55.288Z"
   },
   {
    "duration": 8,
    "start_time": "2024-07-24T10:27:55.296Z"
   },
   {
    "duration": 10,
    "start_time": "2024-07-24T10:27:55.306Z"
   },
   {
    "duration": 4,
    "start_time": "2024-07-24T10:27:55.317Z"
   },
   {
    "duration": 50,
    "start_time": "2024-07-24T10:27:55.323Z"
   },
   {
    "duration": 4,
    "start_time": "2024-07-24T10:27:55.375Z"
   },
   {
    "duration": 16,
    "start_time": "2024-07-24T10:27:55.381Z"
   },
   {
    "duration": 14,
    "start_time": "2024-07-24T10:27:55.399Z"
   },
   {
    "duration": 225,
    "start_time": "2024-07-24T10:27:55.417Z"
   },
   {
    "duration": 20,
    "start_time": "2024-07-24T10:27:55.645Z"
   },
   {
    "duration": 106,
    "start_time": "2024-07-24T10:27:55.667Z"
   },
   {
    "duration": 13,
    "start_time": "2024-07-24T10:27:55.775Z"
   },
   {
    "duration": 207,
    "start_time": "2024-07-24T10:27:55.790Z"
   },
   {
    "duration": 225,
    "start_time": "2024-07-24T10:27:55.998Z"
   },
   {
    "duration": 11,
    "start_time": "2024-07-24T10:27:56.225Z"
   },
   {
    "duration": 255,
    "start_time": "2024-07-24T10:27:56.238Z"
   },
   {
    "duration": 10,
    "start_time": "2024-07-24T10:27:56.495Z"
   },
   {
    "duration": 15,
    "start_time": "2024-07-24T10:27:56.507Z"
   },
   {
    "duration": 54,
    "start_time": "2024-07-24T10:27:56.524Z"
   },
   {
    "duration": 27,
    "start_time": "2024-07-24T10:27:56.580Z"
   },
   {
    "duration": 53,
    "start_time": "2024-07-24T10:27:56.609Z"
   },
   {
    "duration": 150,
    "start_time": "2024-07-24T10:27:56.664Z"
   },
   {
    "duration": 3,
    "start_time": "2024-07-24T10:27:56.816Z"
   },
   {
    "duration": 22,
    "start_time": "2024-07-24T10:27:56.820Z"
   },
   {
    "duration": 52,
    "start_time": "2024-07-24T10:27:56.844Z"
   },
   {
    "duration": 16,
    "start_time": "2024-07-24T10:27:56.898Z"
   },
   {
    "duration": 30,
    "start_time": "2024-07-24T10:27:56.915Z"
   },
   {
    "duration": 51,
    "start_time": "2024-07-24T10:27:56.946Z"
   },
   {
    "duration": 32,
    "start_time": "2024-07-24T10:27:56.998Z"
   },
   {
    "duration": 28,
    "start_time": "2024-07-24T10:27:57.031Z"
   },
   {
    "duration": 17,
    "start_time": "2024-07-24T10:27:57.060Z"
   },
   {
    "duration": 14,
    "start_time": "2024-07-24T10:27:57.078Z"
   },
   {
    "duration": 22,
    "start_time": "2024-07-24T10:27:57.093Z"
   },
   {
    "duration": 174,
    "start_time": "2024-07-24T10:27:57.117Z"
   },
   {
    "duration": 169,
    "start_time": "2024-07-24T10:27:57.293Z"
   },
   {
    "duration": 16,
    "start_time": "2024-07-24T10:27:57.466Z"
   },
   {
    "duration": 54,
    "start_time": "2024-07-24T10:27:57.483Z"
   },
   {
    "duration": 47,
    "start_time": "2024-07-24T10:27:57.539Z"
   },
   {
    "duration": 25,
    "start_time": "2024-07-24T10:27:57.587Z"
   },
   {
    "duration": 24,
    "start_time": "2024-07-24T10:27:57.613Z"
   },
   {
    "duration": 37,
    "start_time": "2024-07-24T10:27:57.638Z"
   },
   {
    "duration": 19,
    "start_time": "2024-07-24T10:27:57.676Z"
   },
   {
    "duration": 25,
    "start_time": "2024-07-24T10:27:57.696Z"
   },
   {
    "duration": 14,
    "start_time": "2024-07-24T10:27:57.723Z"
   },
   {
    "duration": 28,
    "start_time": "2024-07-24T10:27:57.739Z"
   },
   {
    "duration": 38,
    "start_time": "2024-07-24T10:27:57.768Z"
   },
   {
    "duration": 13,
    "start_time": "2024-07-24T10:27:57.808Z"
   },
   {
    "duration": 26,
    "start_time": "2024-07-24T10:27:57.823Z"
   },
   {
    "duration": 33,
    "start_time": "2024-07-24T10:27:57.851Z"
   },
   {
    "duration": 16,
    "start_time": "2024-07-24T10:27:57.885Z"
   },
   {
    "duration": 131,
    "start_time": "2024-07-24T10:27:57.903Z"
   },
   {
    "duration": 0,
    "start_time": "2024-07-24T10:27:58.037Z"
   },
   {
    "duration": 0,
    "start_time": "2024-07-24T10:27:58.038Z"
   },
   {
    "duration": 0,
    "start_time": "2024-07-24T10:27:58.039Z"
   },
   {
    "duration": 0,
    "start_time": "2024-07-24T10:27:58.041Z"
   },
   {
    "duration": 0,
    "start_time": "2024-07-24T10:27:58.043Z"
   },
   {
    "duration": 70,
    "start_time": "2024-07-24T10:29:27.425Z"
   },
   {
    "duration": 1330,
    "start_time": "2024-07-24T10:48:57.819Z"
   },
   {
    "duration": 342,
    "start_time": "2024-07-24T10:48:59.151Z"
   },
   {
    "duration": 4,
    "start_time": "2024-07-24T10:48:59.494Z"
   },
   {
    "duration": 279,
    "start_time": "2024-07-24T10:48:59.499Z"
   },
   {
    "duration": 338,
    "start_time": "2024-07-24T10:48:59.781Z"
   },
   {
    "duration": 10,
    "start_time": "2024-07-24T10:49:00.123Z"
   },
   {
    "duration": 44,
    "start_time": "2024-07-24T10:49:00.135Z"
   },
   {
    "duration": 53,
    "start_time": "2024-07-24T10:49:00.181Z"
   },
   {
    "duration": 167,
    "start_time": "2024-07-24T10:49:00.236Z"
   },
   {
    "duration": 56,
    "start_time": "2024-07-24T10:49:00.404Z"
   },
   {
    "duration": 9,
    "start_time": "2024-07-24T10:49:00.462Z"
   },
   {
    "duration": 14,
    "start_time": "2024-07-24T10:49:00.473Z"
   },
   {
    "duration": 36,
    "start_time": "2024-07-24T10:49:00.488Z"
   },
   {
    "duration": 193,
    "start_time": "2024-07-24T10:49:00.527Z"
   },
   {
    "duration": 10,
    "start_time": "2024-07-24T10:49:00.721Z"
   },
   {
    "duration": 112,
    "start_time": "2024-07-24T10:49:00.732Z"
   },
   {
    "duration": 11,
    "start_time": "2024-07-24T10:49:00.845Z"
   },
   {
    "duration": 192,
    "start_time": "2024-07-24T10:49:00.857Z"
   },
   {
    "duration": 210,
    "start_time": "2024-07-24T10:49:01.050Z"
   },
   {
    "duration": 8,
    "start_time": "2024-07-24T10:49:01.261Z"
   },
   {
    "duration": 225,
    "start_time": "2024-07-24T10:49:01.271Z"
   },
   {
    "duration": 9,
    "start_time": "2024-07-24T10:49:01.498Z"
   },
   {
    "duration": 19,
    "start_time": "2024-07-24T10:49:01.523Z"
   },
   {
    "duration": 15,
    "start_time": "2024-07-24T10:49:01.544Z"
   },
   {
    "duration": 20,
    "start_time": "2024-07-24T10:49:01.561Z"
   },
   {
    "duration": 20,
    "start_time": "2024-07-24T10:49:01.582Z"
   },
   {
    "duration": 152,
    "start_time": "2024-07-24T10:49:01.625Z"
   },
   {
    "duration": 3,
    "start_time": "2024-07-24T10:49:01.778Z"
   },
   {
    "duration": 67,
    "start_time": "2024-07-24T10:49:01.783Z"
   },
   {
    "duration": 36,
    "start_time": "2024-07-24T10:49:01.852Z"
   },
   {
    "duration": 14,
    "start_time": "2024-07-24T10:49:01.890Z"
   },
   {
    "duration": 36,
    "start_time": "2024-07-24T10:49:01.905Z"
   },
   {
    "duration": 38,
    "start_time": "2024-07-24T10:49:01.943Z"
   },
   {
    "duration": 18,
    "start_time": "2024-07-24T10:49:01.983Z"
   },
   {
    "duration": 8,
    "start_time": "2024-07-24T10:49:02.002Z"
   },
   {
    "duration": 32,
    "start_time": "2024-07-24T10:49:02.011Z"
   },
   {
    "duration": 10,
    "start_time": "2024-07-24T10:49:02.044Z"
   },
   {
    "duration": 10,
    "start_time": "2024-07-24T10:49:02.056Z"
   },
   {
    "duration": 186,
    "start_time": "2024-07-24T10:49:02.067Z"
   },
   {
    "duration": 174,
    "start_time": "2024-07-24T10:49:02.254Z"
   },
   {
    "duration": 17,
    "start_time": "2024-07-24T10:49:02.431Z"
   },
   {
    "duration": 35,
    "start_time": "2024-07-24T10:49:02.449Z"
   },
   {
    "duration": 46,
    "start_time": "2024-07-24T10:49:02.485Z"
   },
   {
    "duration": 13,
    "start_time": "2024-07-24T10:49:02.533Z"
   },
   {
    "duration": 4,
    "start_time": "2024-07-24T10:49:02.547Z"
   },
   {
    "duration": 20,
    "start_time": "2024-07-24T10:49:02.553Z"
   },
   {
    "duration": 8,
    "start_time": "2024-07-24T10:49:02.574Z"
   },
   {
    "duration": 21,
    "start_time": "2024-07-24T10:49:02.584Z"
   },
   {
    "duration": 35,
    "start_time": "2024-07-24T10:49:02.607Z"
   },
   {
    "duration": 23,
    "start_time": "2024-07-24T10:49:02.643Z"
   },
   {
    "duration": 29,
    "start_time": "2024-07-24T10:49:02.667Z"
   },
   {
    "duration": 12,
    "start_time": "2024-07-24T10:49:02.698Z"
   },
   {
    "duration": 23,
    "start_time": "2024-07-24T10:49:02.712Z"
   },
   {
    "duration": 20,
    "start_time": "2024-07-24T10:49:02.737Z"
   },
   {
    "duration": 6,
    "start_time": "2024-07-24T10:49:02.758Z"
   },
   {
    "duration": 126,
    "start_time": "2024-07-24T10:49:02.766Z"
   },
   {
    "duration": 0,
    "start_time": "2024-07-24T10:49:02.893Z"
   },
   {
    "duration": 0,
    "start_time": "2024-07-24T10:49:02.895Z"
   },
   {
    "duration": 0,
    "start_time": "2024-07-24T10:49:02.897Z"
   },
   {
    "duration": 0,
    "start_time": "2024-07-24T10:49:02.898Z"
   },
   {
    "duration": 0,
    "start_time": "2024-07-24T10:49:02.899Z"
   },
   {
    "duration": 5,
    "start_time": "2024-07-24T10:54:21.886Z"
   },
   {
    "duration": 11,
    "start_time": "2024-07-25T08:13:07.465Z"
   },
   {
    "duration": 7,
    "start_time": "2024-07-25T08:13:44.026Z"
   },
   {
    "duration": 1074,
    "start_time": "2024-07-25T08:13:50.013Z"
   },
   {
    "duration": 132,
    "start_time": "2024-07-25T08:13:51.089Z"
   },
   {
    "duration": 0,
    "start_time": "2024-07-25T08:13:51.224Z"
   },
   {
    "duration": 0,
    "start_time": "2024-07-25T08:13:51.225Z"
   },
   {
    "duration": 0,
    "start_time": "2024-07-25T08:13:51.226Z"
   },
   {
    "duration": 0,
    "start_time": "2024-07-25T08:13:51.227Z"
   },
   {
    "duration": 0,
    "start_time": "2024-07-25T08:13:51.228Z"
   },
   {
    "duration": 0,
    "start_time": "2024-07-25T08:13:51.229Z"
   },
   {
    "duration": 0,
    "start_time": "2024-07-25T08:13:51.229Z"
   },
   {
    "duration": 0,
    "start_time": "2024-07-25T08:13:51.230Z"
   },
   {
    "duration": 0,
    "start_time": "2024-07-25T08:13:51.231Z"
   },
   {
    "duration": 0,
    "start_time": "2024-07-25T08:13:51.232Z"
   },
   {
    "duration": 0,
    "start_time": "2024-07-25T08:13:51.233Z"
   },
   {
    "duration": 0,
    "start_time": "2024-07-25T08:13:51.233Z"
   },
   {
    "duration": 0,
    "start_time": "2024-07-25T08:13:51.234Z"
   },
   {
    "duration": 0,
    "start_time": "2024-07-25T08:13:51.235Z"
   },
   {
    "duration": 0,
    "start_time": "2024-07-25T08:13:51.236Z"
   },
   {
    "duration": 0,
    "start_time": "2024-07-25T08:13:51.237Z"
   },
   {
    "duration": 0,
    "start_time": "2024-07-25T08:13:51.237Z"
   },
   {
    "duration": 0,
    "start_time": "2024-07-25T08:13:51.238Z"
   },
   {
    "duration": 0,
    "start_time": "2024-07-25T08:13:51.239Z"
   },
   {
    "duration": 0,
    "start_time": "2024-07-25T08:13:51.240Z"
   },
   {
    "duration": 0,
    "start_time": "2024-07-25T08:13:51.240Z"
   },
   {
    "duration": 0,
    "start_time": "2024-07-25T08:13:51.241Z"
   },
   {
    "duration": 0,
    "start_time": "2024-07-25T08:13:51.242Z"
   },
   {
    "duration": 0,
    "start_time": "2024-07-25T08:13:51.243Z"
   },
   {
    "duration": 0,
    "start_time": "2024-07-25T08:13:51.244Z"
   },
   {
    "duration": 0,
    "start_time": "2024-07-25T08:13:51.245Z"
   },
   {
    "duration": 0,
    "start_time": "2024-07-25T08:13:51.246Z"
   },
   {
    "duration": 0,
    "start_time": "2024-07-25T08:13:51.247Z"
   },
   {
    "duration": 0,
    "start_time": "2024-07-25T08:13:51.247Z"
   },
   {
    "duration": 0,
    "start_time": "2024-07-25T08:13:51.248Z"
   },
   {
    "duration": 0,
    "start_time": "2024-07-25T08:13:51.249Z"
   },
   {
    "duration": 0,
    "start_time": "2024-07-25T08:13:51.250Z"
   },
   {
    "duration": 0,
    "start_time": "2024-07-25T08:13:51.251Z"
   },
   {
    "duration": 0,
    "start_time": "2024-07-25T08:13:51.251Z"
   },
   {
    "duration": 0,
    "start_time": "2024-07-25T08:13:51.252Z"
   },
   {
    "duration": 0,
    "start_time": "2024-07-25T08:13:51.253Z"
   },
   {
    "duration": 0,
    "start_time": "2024-07-25T08:13:51.254Z"
   },
   {
    "duration": 0,
    "start_time": "2024-07-25T08:13:51.254Z"
   },
   {
    "duration": 0,
    "start_time": "2024-07-25T08:13:51.255Z"
   },
   {
    "duration": 0,
    "start_time": "2024-07-25T08:13:51.256Z"
   },
   {
    "duration": 0,
    "start_time": "2024-07-25T08:13:51.312Z"
   },
   {
    "duration": 0,
    "start_time": "2024-07-25T08:13:51.312Z"
   },
   {
    "duration": 0,
    "start_time": "2024-07-25T08:13:51.313Z"
   },
   {
    "duration": 0,
    "start_time": "2024-07-25T08:13:51.315Z"
   },
   {
    "duration": 1,
    "start_time": "2024-07-25T08:13:51.315Z"
   },
   {
    "duration": 0,
    "start_time": "2024-07-25T08:13:51.317Z"
   },
   {
    "duration": 0,
    "start_time": "2024-07-25T08:13:51.318Z"
   },
   {
    "duration": 0,
    "start_time": "2024-07-25T08:13:51.318Z"
   },
   {
    "duration": 1095,
    "start_time": "2024-07-25T08:15:43.915Z"
   },
   {
    "duration": 274,
    "start_time": "2024-07-25T08:15:45.012Z"
   },
   {
    "duration": 3,
    "start_time": "2024-07-25T08:15:45.287Z"
   },
   {
    "duration": 314,
    "start_time": "2024-07-25T08:15:45.292Z"
   },
   {
    "duration": 317,
    "start_time": "2024-07-25T08:15:45.611Z"
   },
   {
    "duration": 6,
    "start_time": "2024-07-25T08:15:45.930Z"
   },
   {
    "duration": 15,
    "start_time": "2024-07-25T08:15:45.937Z"
   },
   {
    "duration": 40,
    "start_time": "2024-07-25T08:15:45.953Z"
   },
   {
    "duration": 11,
    "start_time": "2024-07-25T08:15:45.994Z"
   },
   {
    "duration": 27,
    "start_time": "2024-07-25T08:15:46.006Z"
   },
   {
    "duration": 5,
    "start_time": "2024-07-25T08:15:46.035Z"
   },
   {
    "duration": 7,
    "start_time": "2024-07-25T08:15:46.041Z"
   },
   {
    "duration": 43,
    "start_time": "2024-07-25T08:15:46.049Z"
   },
   {
    "duration": 170,
    "start_time": "2024-07-25T08:15:46.095Z"
   },
   {
    "duration": 9,
    "start_time": "2024-07-25T08:15:46.266Z"
   },
   {
    "duration": 107,
    "start_time": "2024-07-25T08:15:46.276Z"
   },
   {
    "duration": 10,
    "start_time": "2024-07-25T08:15:46.385Z"
   },
   {
    "duration": 177,
    "start_time": "2024-07-25T08:15:46.396Z"
   },
   {
    "duration": 184,
    "start_time": "2024-07-25T08:15:46.574Z"
   },
   {
    "duration": 8,
    "start_time": "2024-07-25T08:15:46.759Z"
   },
   {
    "duration": 205,
    "start_time": "2024-07-25T08:15:46.768Z"
   },
   {
    "duration": 10,
    "start_time": "2024-07-25T08:15:46.975Z"
   },
   {
    "duration": 33,
    "start_time": "2024-07-25T08:15:46.987Z"
   },
   {
    "duration": 45,
    "start_time": "2024-07-25T08:15:47.022Z"
   },
   {
    "duration": 29,
    "start_time": "2024-07-25T08:15:47.070Z"
   },
   {
    "duration": 27,
    "start_time": "2024-07-25T08:15:47.101Z"
   },
   {
    "duration": 135,
    "start_time": "2024-07-25T08:15:47.130Z"
   },
   {
    "duration": 4,
    "start_time": "2024-07-25T08:15:47.266Z"
   },
   {
    "duration": 8,
    "start_time": "2024-07-25T08:15:47.271Z"
   },
   {
    "duration": 57,
    "start_time": "2024-07-25T08:15:47.280Z"
   },
   {
    "duration": 29,
    "start_time": "2024-07-25T08:15:47.338Z"
   },
   {
    "duration": 3,
    "start_time": "2024-07-25T08:15:47.369Z"
   },
   {
    "duration": 17,
    "start_time": "2024-07-25T08:15:47.373Z"
   },
   {
    "duration": 16,
    "start_time": "2024-07-25T08:15:47.392Z"
   },
   {
    "duration": 8,
    "start_time": "2024-07-25T08:15:47.409Z"
   },
   {
    "duration": 7,
    "start_time": "2024-07-25T08:15:47.419Z"
   },
   {
    "duration": 27,
    "start_time": "2024-07-25T08:15:47.427Z"
   },
   {
    "duration": 9,
    "start_time": "2024-07-25T08:15:47.456Z"
   },
   {
    "duration": 95,
    "start_time": "2024-07-25T08:15:47.467Z"
   },
   {
    "duration": 102,
    "start_time": "2024-07-25T08:15:47.563Z"
   },
   {
    "duration": 98,
    "start_time": "2024-07-25T08:15:47.669Z"
   },
   {
    "duration": 90,
    "start_time": "2024-07-25T08:15:47.768Z"
   },
   {
    "duration": 132,
    "start_time": "2024-07-25T08:15:47.860Z"
   },
   {
    "duration": 0,
    "start_time": "2024-07-25T08:15:47.993Z"
   },
   {
    "duration": 0,
    "start_time": "2024-07-25T08:15:47.994Z"
   },
   {
    "duration": 0,
    "start_time": "2024-07-25T08:15:47.995Z"
   },
   {
    "duration": 0,
    "start_time": "2024-07-25T08:15:47.996Z"
   },
   {
    "duration": 0,
    "start_time": "2024-07-25T08:15:47.997Z"
   },
   {
    "duration": 0,
    "start_time": "2024-07-25T08:15:47.998Z"
   },
   {
    "duration": 0,
    "start_time": "2024-07-25T08:15:48.012Z"
   },
   {
    "duration": 76,
    "start_time": "2024-07-25T08:19:20.021Z"
   },
   {
    "duration": 5655,
    "start_time": "2024-07-25T08:19:27.858Z"
   },
   {
    "duration": 1165,
    "start_time": "2024-07-25T08:19:54.230Z"
   },
   {
    "duration": 68,
    "start_time": "2024-07-25T08:19:55.397Z"
   },
   {
    "duration": 3,
    "start_time": "2024-07-25T08:19:55.467Z"
   },
   {
    "duration": 258,
    "start_time": "2024-07-25T08:19:55.473Z"
   },
   {
    "duration": 324,
    "start_time": "2024-07-25T08:19:55.733Z"
   },
   {
    "duration": 6,
    "start_time": "2024-07-25T08:19:56.058Z"
   },
   {
    "duration": 7,
    "start_time": "2024-07-25T08:19:56.065Z"
   },
   {
    "duration": 8,
    "start_time": "2024-07-25T08:19:56.074Z"
   },
   {
    "duration": 32,
    "start_time": "2024-07-25T08:19:56.083Z"
   },
   {
    "duration": 18,
    "start_time": "2024-07-25T08:19:56.117Z"
   },
   {
    "duration": 11,
    "start_time": "2024-07-25T08:19:56.136Z"
   },
   {
    "duration": 12,
    "start_time": "2024-07-25T08:19:56.148Z"
   },
   {
    "duration": 15,
    "start_time": "2024-07-25T08:19:56.161Z"
   },
   {
    "duration": 201,
    "start_time": "2024-07-25T08:19:56.177Z"
   },
   {
    "duration": 10,
    "start_time": "2024-07-25T08:19:56.379Z"
   },
   {
    "duration": 93,
    "start_time": "2024-07-25T08:19:56.390Z"
   },
   {
    "duration": 9,
    "start_time": "2024-07-25T08:19:56.485Z"
   },
   {
    "duration": 185,
    "start_time": "2024-07-25T08:19:56.496Z"
   },
   {
    "duration": 190,
    "start_time": "2024-07-25T08:19:56.682Z"
   },
   {
    "duration": 8,
    "start_time": "2024-07-25T08:19:56.874Z"
   },
   {
    "duration": 229,
    "start_time": "2024-07-25T08:19:56.883Z"
   },
   {
    "duration": 11,
    "start_time": "2024-07-25T08:19:57.115Z"
   },
   {
    "duration": 12,
    "start_time": "2024-07-25T08:19:57.128Z"
   },
   {
    "duration": 20,
    "start_time": "2024-07-25T08:19:57.142Z"
   },
   {
    "duration": 63,
    "start_time": "2024-07-25T08:19:57.164Z"
   },
   {
    "duration": 29,
    "start_time": "2024-07-25T08:19:57.229Z"
   },
   {
    "duration": 152,
    "start_time": "2024-07-25T08:19:57.262Z"
   },
   {
    "duration": 3,
    "start_time": "2024-07-25T08:19:57.417Z"
   },
   {
    "duration": 5,
    "start_time": "2024-07-25T08:19:57.422Z"
   },
   {
    "duration": 21,
    "start_time": "2024-07-25T08:19:57.428Z"
   },
   {
    "duration": 8,
    "start_time": "2024-07-25T08:19:57.450Z"
   },
   {
    "duration": 4,
    "start_time": "2024-07-25T08:19:57.460Z"
   },
   {
    "duration": 56,
    "start_time": "2024-07-25T08:19:57.466Z"
   },
   {
    "duration": 18,
    "start_time": "2024-07-25T08:19:57.524Z"
   },
   {
    "duration": 8,
    "start_time": "2024-07-25T08:19:57.544Z"
   },
   {
    "duration": 7,
    "start_time": "2024-07-25T08:19:57.554Z"
   },
   {
    "duration": 16,
    "start_time": "2024-07-25T08:19:57.562Z"
   },
   {
    "duration": 40,
    "start_time": "2024-07-25T08:19:57.579Z"
   },
   {
    "duration": 107,
    "start_time": "2024-07-25T08:19:57.621Z"
   },
   {
    "duration": 108,
    "start_time": "2024-07-25T08:19:57.729Z"
   },
   {
    "duration": 107,
    "start_time": "2024-07-25T08:19:57.838Z"
   },
   {
    "duration": 90,
    "start_time": "2024-07-25T08:19:57.946Z"
   },
   {
    "duration": 86,
    "start_time": "2024-07-25T08:19:58.038Z"
   },
   {
    "duration": 5778,
    "start_time": "2024-07-25T08:19:58.125Z"
   },
   {
    "duration": 22,
    "start_time": "2024-07-25T08:20:03.904Z"
   },
   {
    "duration": 69,
    "start_time": "2024-07-25T08:20:03.928Z"
   },
   {
    "duration": 187,
    "start_time": "2024-07-25T08:20:03.999Z"
   },
   {
    "duration": 68,
    "start_time": "2024-07-25T08:20:04.188Z"
   },
   {
    "duration": 55,
    "start_time": "2024-07-25T08:20:04.258Z"
   },
   {
    "duration": 38,
    "start_time": "2024-07-25T08:20:04.315Z"
   },
   {
    "duration": 1357,
    "start_time": "2024-07-25T08:47:34.374Z"
   },
   {
    "duration": 369,
    "start_time": "2024-07-25T08:47:35.733Z"
   },
   {
    "duration": 3,
    "start_time": "2024-07-25T08:47:36.103Z"
   },
   {
    "duration": 311,
    "start_time": "2024-07-25T08:47:36.108Z"
   },
   {
    "duration": 348,
    "start_time": "2024-07-25T08:47:36.421Z"
   },
   {
    "duration": 7,
    "start_time": "2024-07-25T08:47:36.770Z"
   },
   {
    "duration": 10,
    "start_time": "2024-07-25T08:47:36.784Z"
   },
   {
    "duration": 19,
    "start_time": "2024-07-25T08:47:36.796Z"
   },
   {
    "duration": 11,
    "start_time": "2024-07-25T08:47:36.816Z"
   },
   {
    "duration": 14,
    "start_time": "2024-07-25T08:47:36.828Z"
   },
   {
    "duration": 5,
    "start_time": "2024-07-25T08:47:36.844Z"
   },
   {
    "duration": 7,
    "start_time": "2024-07-25T08:47:36.850Z"
   },
   {
    "duration": 33,
    "start_time": "2024-07-25T08:47:36.858Z"
   },
   {
    "duration": 202,
    "start_time": "2024-07-25T08:47:36.894Z"
   },
   {
    "duration": 10,
    "start_time": "2024-07-25T08:47:37.098Z"
   },
   {
    "duration": 174,
    "start_time": "2024-07-25T08:47:37.109Z"
   },
   {
    "duration": 31,
    "start_time": "2024-07-25T08:47:37.284Z"
   },
   {
    "duration": 185,
    "start_time": "2024-07-25T08:47:37.316Z"
   },
   {
    "duration": 213,
    "start_time": "2024-07-25T08:47:37.502Z"
   },
   {
    "duration": 9,
    "start_time": "2024-07-25T08:47:37.717Z"
   },
   {
    "duration": 222,
    "start_time": "2024-07-25T08:47:37.727Z"
   },
   {
    "duration": 10,
    "start_time": "2024-07-25T08:47:37.950Z"
   },
   {
    "duration": 24,
    "start_time": "2024-07-25T08:47:37.962Z"
   },
   {
    "duration": 15,
    "start_time": "2024-07-25T08:47:37.988Z"
   },
   {
    "duration": 21,
    "start_time": "2024-07-25T08:47:38.004Z"
   },
   {
    "duration": 20,
    "start_time": "2024-07-25T08:47:38.027Z"
   },
   {
    "duration": 168,
    "start_time": "2024-07-25T08:47:38.048Z"
   },
   {
    "duration": 4,
    "start_time": "2024-07-25T08:47:38.218Z"
   },
   {
    "duration": 10,
    "start_time": "2024-07-25T08:47:38.223Z"
   },
   {
    "duration": 26,
    "start_time": "2024-07-25T08:47:38.235Z"
   },
   {
    "duration": 21,
    "start_time": "2024-07-25T08:47:38.264Z"
   },
   {
    "duration": 13,
    "start_time": "2024-07-25T08:47:38.287Z"
   },
   {
    "duration": 24,
    "start_time": "2024-07-25T08:47:38.302Z"
   },
   {
    "duration": 20,
    "start_time": "2024-07-25T08:47:38.328Z"
   },
   {
    "duration": 7,
    "start_time": "2024-07-25T08:47:38.350Z"
   },
   {
    "duration": 43,
    "start_time": "2024-07-25T08:47:38.359Z"
   },
   {
    "duration": 11,
    "start_time": "2024-07-25T08:47:38.404Z"
   },
   {
    "duration": 10,
    "start_time": "2024-07-25T08:47:38.417Z"
   },
   {
    "duration": 182,
    "start_time": "2024-07-25T08:47:38.430Z"
   },
   {
    "duration": 115,
    "start_time": "2024-07-25T08:47:38.614Z"
   },
   {
    "duration": 107,
    "start_time": "2024-07-25T08:47:38.733Z"
   },
   {
    "duration": 98,
    "start_time": "2024-07-25T08:47:38.842Z"
   },
   {
    "duration": 78,
    "start_time": "2024-07-25T08:47:38.942Z"
   },
   {
    "duration": 5495,
    "start_time": "2024-07-25T08:47:39.022Z"
   },
   {
    "duration": 19,
    "start_time": "2024-07-25T08:47:44.519Z"
   },
   {
    "duration": 6,
    "start_time": "2024-07-25T08:47:44.539Z"
   },
   {
    "duration": 168,
    "start_time": "2024-07-25T08:47:44.547Z"
   },
   {
    "duration": 84,
    "start_time": "2024-07-25T08:47:44.716Z"
   },
   {
    "duration": 46,
    "start_time": "2024-07-25T08:47:44.802Z"
   },
   {
    "duration": 65,
    "start_time": "2024-07-25T08:47:44.850Z"
   },
   {
    "duration": 48,
    "start_time": "2024-07-25T10:16:37.938Z"
   },
   {
    "duration": 1315,
    "start_time": "2024-07-25T10:16:42.156Z"
   },
   {
    "duration": 395,
    "start_time": "2024-07-25T10:16:43.473Z"
   },
   {
    "duration": 3,
    "start_time": "2024-07-25T10:16:43.870Z"
   },
   {
    "duration": 287,
    "start_time": "2024-07-25T10:16:43.874Z"
   },
   {
    "duration": 350,
    "start_time": "2024-07-25T10:16:44.163Z"
   },
   {
    "duration": 11,
    "start_time": "2024-07-25T10:16:44.514Z"
   },
   {
    "duration": 9,
    "start_time": "2024-07-25T10:16:44.527Z"
   },
   {
    "duration": 11,
    "start_time": "2024-07-25T10:16:44.537Z"
   },
   {
    "duration": 6,
    "start_time": "2024-07-25T10:16:44.550Z"
   },
   {
    "duration": 15,
    "start_time": "2024-07-25T10:16:44.558Z"
   },
   {
    "duration": 6,
    "start_time": "2024-07-25T10:16:44.575Z"
   },
   {
    "duration": 46,
    "start_time": "2024-07-25T10:16:44.582Z"
   },
   {
    "duration": 12,
    "start_time": "2024-07-25T10:16:44.631Z"
   },
   {
    "duration": 204,
    "start_time": "2024-07-25T10:16:44.646Z"
   },
   {
    "duration": 9,
    "start_time": "2024-07-25T10:16:44.852Z"
   },
   {
    "duration": 109,
    "start_time": "2024-07-25T10:16:44.863Z"
   },
   {
    "duration": 10,
    "start_time": "2024-07-25T10:16:44.973Z"
   },
   {
    "duration": 191,
    "start_time": "2024-07-25T10:16:44.985Z"
   },
   {
    "duration": 208,
    "start_time": "2024-07-25T10:16:45.178Z"
   },
   {
    "duration": 9,
    "start_time": "2024-07-25T10:16:45.388Z"
   },
   {
    "duration": 244,
    "start_time": "2024-07-25T10:16:45.398Z"
   },
   {
    "duration": 10,
    "start_time": "2024-07-25T10:16:45.644Z"
   },
   {
    "duration": 15,
    "start_time": "2024-07-25T10:16:45.656Z"
   },
   {
    "duration": 17,
    "start_time": "2024-07-25T10:16:45.673Z"
   },
   {
    "duration": 51,
    "start_time": "2024-07-25T10:16:45.691Z"
   },
   {
    "duration": 21,
    "start_time": "2024-07-25T10:16:45.744Z"
   },
   {
    "duration": 187,
    "start_time": "2024-07-25T10:16:45.767Z"
   },
   {
    "duration": 4,
    "start_time": "2024-07-25T10:16:45.956Z"
   },
   {
    "duration": 13,
    "start_time": "2024-07-25T10:16:45.962Z"
   },
   {
    "duration": 25,
    "start_time": "2024-07-25T10:16:45.977Z"
   },
   {
    "duration": 26,
    "start_time": "2024-07-25T10:16:46.004Z"
   },
   {
    "duration": 4,
    "start_time": "2024-07-25T10:16:46.032Z"
   },
   {
    "duration": 24,
    "start_time": "2024-07-25T10:16:46.038Z"
   },
   {
    "duration": 20,
    "start_time": "2024-07-25T10:16:46.064Z"
   },
   {
    "duration": 39,
    "start_time": "2024-07-25T10:16:46.086Z"
   },
   {
    "duration": 9,
    "start_time": "2024-07-25T10:16:46.127Z"
   },
   {
    "duration": 8,
    "start_time": "2024-07-25T10:16:46.138Z"
   },
   {
    "duration": 7,
    "start_time": "2024-07-25T10:16:46.148Z"
   },
   {
    "duration": 137,
    "start_time": "2024-07-25T10:16:46.157Z"
   },
   {
    "duration": 140,
    "start_time": "2024-07-25T10:16:46.296Z"
   },
   {
    "duration": 115,
    "start_time": "2024-07-25T10:16:46.440Z"
   },
   {
    "duration": 104,
    "start_time": "2024-07-25T10:16:46.557Z"
   },
   {
    "duration": 86,
    "start_time": "2024-07-25T10:16:46.663Z"
   },
   {
    "duration": 5705,
    "start_time": "2024-07-25T10:16:46.751Z"
   },
   {
    "duration": 20,
    "start_time": "2024-07-25T10:16:52.457Z"
   },
   {
    "duration": 6,
    "start_time": "2024-07-25T10:16:52.479Z"
   },
   {
    "duration": 178,
    "start_time": "2024-07-25T10:16:52.487Z"
   },
   {
    "duration": 84,
    "start_time": "2024-07-25T10:16:52.666Z"
   },
   {
    "duration": 19,
    "start_time": "2024-07-25T10:16:52.752Z"
   },
   {
    "duration": 129,
    "start_time": "2024-07-25T10:16:52.773Z"
   },
   {
    "duration": 47,
    "start_time": "2024-07-25T10:16:52.904Z"
   },
   {
    "duration": 6,
    "start_time": "2024-07-25T10:23:37.319Z"
   },
   {
    "duration": 35,
    "start_time": "2024-07-25T10:29:21.084Z"
   },
   {
    "duration": 29,
    "start_time": "2024-07-25T10:29:32.757Z"
   },
   {
    "duration": 41,
    "start_time": "2024-07-25T10:29:36.616Z"
   },
   {
    "duration": 31,
    "start_time": "2024-07-25T10:29:46.647Z"
   },
   {
    "duration": 19,
    "start_time": "2024-07-25T10:30:39.554Z"
   },
   {
    "duration": 50,
    "start_time": "2024-07-25T10:30:50.244Z"
   },
   {
    "duration": 17,
    "start_time": "2024-07-25T10:37:06.656Z"
   },
   {
    "duration": 103,
    "start_time": "2024-07-25T10:40:33.297Z"
   },
   {
    "duration": 1212,
    "start_time": "2024-07-25T10:41:09.738Z"
   },
   {
    "duration": 77,
    "start_time": "2024-07-25T10:41:10.952Z"
   },
   {
    "duration": 3,
    "start_time": "2024-07-25T10:41:11.031Z"
   },
   {
    "duration": 291,
    "start_time": "2024-07-25T10:41:11.036Z"
   },
   {
    "duration": 351,
    "start_time": "2024-07-25T10:41:11.329Z"
   },
   {
    "duration": 7,
    "start_time": "2024-07-25T10:41:11.681Z"
   },
   {
    "duration": 26,
    "start_time": "2024-07-25T10:41:11.690Z"
   },
   {
    "duration": 17,
    "start_time": "2024-07-25T10:41:11.718Z"
   },
   {
    "duration": 4,
    "start_time": "2024-07-25T10:41:11.737Z"
   },
   {
    "duration": 13,
    "start_time": "2024-07-25T10:41:11.744Z"
   },
   {
    "duration": 5,
    "start_time": "2024-07-25T10:41:11.758Z"
   },
   {
    "duration": 6,
    "start_time": "2024-07-25T10:41:11.764Z"
   },
   {
    "duration": 22,
    "start_time": "2024-07-25T10:41:11.772Z"
   },
   {
    "duration": 218,
    "start_time": "2024-07-25T10:41:11.795Z"
   },
   {
    "duration": 17,
    "start_time": "2024-07-25T10:41:12.015Z"
   },
   {
    "duration": 102,
    "start_time": "2024-07-25T10:41:12.033Z"
   },
   {
    "duration": 10,
    "start_time": "2024-07-25T10:41:12.137Z"
   },
   {
    "duration": 188,
    "start_time": "2024-07-25T10:41:12.148Z"
   },
   {
    "duration": 232,
    "start_time": "2024-07-25T10:41:12.338Z"
   },
   {
    "duration": 9,
    "start_time": "2024-07-25T10:41:12.572Z"
   },
   {
    "duration": 242,
    "start_time": "2024-07-25T10:41:12.582Z"
   },
   {
    "duration": 9,
    "start_time": "2024-07-25T10:41:12.826Z"
   },
   {
    "duration": 53,
    "start_time": "2024-07-25T10:41:12.840Z"
   },
   {
    "duration": 16,
    "start_time": "2024-07-25T10:41:12.896Z"
   },
   {
    "duration": 21,
    "start_time": "2024-07-25T10:41:12.914Z"
   },
   {
    "duration": 23,
    "start_time": "2024-07-25T10:41:12.937Z"
   },
   {
    "duration": 198,
    "start_time": "2024-07-25T10:41:12.962Z"
   },
   {
    "duration": 5,
    "start_time": "2024-07-25T10:41:13.164Z"
   },
   {
    "duration": 6,
    "start_time": "2024-07-25T10:41:13.170Z"
   },
   {
    "duration": 51,
    "start_time": "2024-07-25T10:41:13.178Z"
   },
   {
    "duration": 11,
    "start_time": "2024-07-25T10:41:13.231Z"
   },
   {
    "duration": 4,
    "start_time": "2024-07-25T10:41:13.244Z"
   },
   {
    "duration": 25,
    "start_time": "2024-07-25T10:41:13.250Z"
   },
   {
    "duration": 57,
    "start_time": "2024-07-25T10:41:13.277Z"
   },
   {
    "duration": 9,
    "start_time": "2024-07-25T10:41:13.335Z"
   },
   {
    "duration": 7,
    "start_time": "2024-07-25T10:41:13.346Z"
   },
   {
    "duration": 7,
    "start_time": "2024-07-25T10:41:13.355Z"
   },
   {
    "duration": 7,
    "start_time": "2024-07-25T10:41:13.364Z"
   },
   {
    "duration": 178,
    "start_time": "2024-07-25T10:41:13.373Z"
   },
   {
    "duration": 119,
    "start_time": "2024-07-25T10:41:13.553Z"
   },
   {
    "duration": 110,
    "start_time": "2024-07-25T10:41:13.673Z"
   },
   {
    "duration": 110,
    "start_time": "2024-07-25T10:41:13.784Z"
   },
   {
    "duration": 89,
    "start_time": "2024-07-25T10:41:13.896Z"
   },
   {
    "duration": 5463,
    "start_time": "2024-07-25T10:41:13.986Z"
   },
   {
    "duration": 20,
    "start_time": "2024-07-25T10:41:19.451Z"
   },
   {
    "duration": 6,
    "start_time": "2024-07-25T10:41:19.472Z"
   },
   {
    "duration": 224,
    "start_time": "2024-07-25T10:41:19.480Z"
   },
   {
    "duration": 18,
    "start_time": "2024-07-25T10:41:19.706Z"
   },
   {
    "duration": 18,
    "start_time": "2024-07-25T10:41:19.726Z"
   },
   {
    "duration": 126,
    "start_time": "2024-07-25T10:41:19.745Z"
   },
   {
    "duration": 17,
    "start_time": "2024-07-25T10:42:15.434Z"
   },
   {
    "duration": 12,
    "start_time": "2024-07-25T10:43:33.765Z"
   },
   {
    "duration": 392,
    "start_time": "2024-07-25T10:43:51.830Z"
   },
   {
    "duration": 16,
    "start_time": "2024-07-25T10:44:11.508Z"
   },
   {
    "duration": 13,
    "start_time": "2024-07-25T10:45:40.763Z"
   },
   {
    "duration": 11,
    "start_time": "2024-07-25T10:49:09.265Z"
   },
   {
    "duration": 392,
    "start_time": "2024-07-25T10:49:15.246Z"
   },
   {
    "duration": 3,
    "start_time": "2024-07-25T10:50:00.436Z"
   },
   {
    "duration": 1190,
    "start_time": "2024-07-25T10:50:11.955Z"
   },
   {
    "duration": 71,
    "start_time": "2024-07-25T10:50:13.147Z"
   },
   {
    "duration": 3,
    "start_time": "2024-07-25T10:50:13.220Z"
   },
   {
    "duration": 300,
    "start_time": "2024-07-25T10:50:13.225Z"
   },
   {
    "duration": 351,
    "start_time": "2024-07-25T10:50:13.527Z"
   },
   {
    "duration": 7,
    "start_time": "2024-07-25T10:50:13.880Z"
   },
   {
    "duration": 7,
    "start_time": "2024-07-25T10:50:13.888Z"
   },
   {
    "duration": 31,
    "start_time": "2024-07-25T10:50:13.897Z"
   },
   {
    "duration": 5,
    "start_time": "2024-07-25T10:50:13.929Z"
   },
   {
    "duration": 14,
    "start_time": "2024-07-25T10:50:13.937Z"
   },
   {
    "duration": 5,
    "start_time": "2024-07-25T10:50:13.953Z"
   },
   {
    "duration": 7,
    "start_time": "2024-07-25T10:50:13.959Z"
   },
   {
    "duration": 13,
    "start_time": "2024-07-25T10:50:13.967Z"
   },
   {
    "duration": 238,
    "start_time": "2024-07-25T10:50:13.982Z"
   },
   {
    "duration": 10,
    "start_time": "2024-07-25T10:50:14.223Z"
   },
   {
    "duration": 111,
    "start_time": "2024-07-25T10:50:14.235Z"
   },
   {
    "duration": 10,
    "start_time": "2024-07-25T10:50:14.348Z"
   },
   {
    "duration": 194,
    "start_time": "2024-07-25T10:50:14.360Z"
   },
   {
    "duration": 214,
    "start_time": "2024-07-25T10:50:14.556Z"
   },
   {
    "duration": 8,
    "start_time": "2024-07-25T10:50:14.771Z"
   },
   {
    "duration": 239,
    "start_time": "2024-07-25T10:50:14.781Z"
   },
   {
    "duration": 10,
    "start_time": "2024-07-25T10:50:15.022Z"
   },
   {
    "duration": 24,
    "start_time": "2024-07-25T10:50:15.034Z"
   },
   {
    "duration": 15,
    "start_time": "2024-07-25T10:50:15.060Z"
   },
   {
    "duration": 50,
    "start_time": "2024-07-25T10:50:15.076Z"
   },
   {
    "duration": 22,
    "start_time": "2024-07-25T10:50:15.127Z"
   },
   {
    "duration": 162,
    "start_time": "2024-07-25T10:50:15.151Z"
   },
   {
    "duration": 3,
    "start_time": "2024-07-25T10:50:15.324Z"
   },
   {
    "duration": 5,
    "start_time": "2024-07-25T10:50:15.329Z"
   },
   {
    "duration": 25,
    "start_time": "2024-07-25T10:50:15.335Z"
   },
   {
    "duration": 10,
    "start_time": "2024-07-25T10:50:15.361Z"
   },
   {
    "duration": 3,
    "start_time": "2024-07-25T10:50:15.373Z"
   },
   {
    "duration": 121,
    "start_time": "2024-07-25T10:50:15.378Z"
   },
   {
    "duration": 20,
    "start_time": "2024-07-25T10:50:15.501Z"
   },
   {
    "duration": 9,
    "start_time": "2024-07-25T10:50:15.523Z"
   },
   {
    "duration": 9,
    "start_time": "2024-07-25T10:50:15.535Z"
   },
   {
    "duration": 10,
    "start_time": "2024-07-25T10:50:15.546Z"
   },
   {
    "duration": 8,
    "start_time": "2024-07-25T10:50:15.558Z"
   },
   {
    "duration": 159,
    "start_time": "2024-07-25T10:50:15.567Z"
   },
   {
    "duration": 119,
    "start_time": "2024-07-25T10:50:15.727Z"
   },
   {
    "duration": 112,
    "start_time": "2024-07-25T10:50:15.848Z"
   },
   {
    "duration": 105,
    "start_time": "2024-07-25T10:50:15.962Z"
   },
   {
    "duration": 92,
    "start_time": "2024-07-25T10:50:16.069Z"
   },
   {
    "duration": 5585,
    "start_time": "2024-07-25T10:50:16.163Z"
   },
   {
    "duration": 20,
    "start_time": "2024-07-25T10:50:21.750Z"
   },
   {
    "duration": 7,
    "start_time": "2024-07-25T10:50:21.771Z"
   },
   {
    "duration": 183,
    "start_time": "2024-07-25T10:50:21.780Z"
   },
   {
    "duration": 7,
    "start_time": "2024-07-25T10:50:21.965Z"
   },
   {
    "duration": 18,
    "start_time": "2024-07-25T10:50:21.973Z"
   },
   {
    "duration": 36,
    "start_time": "2024-07-25T10:50:21.992Z"
   },
   {
    "duration": 3,
    "start_time": "2024-07-25T10:50:22.030Z"
   },
   {
    "duration": 611,
    "start_time": "2024-07-25T10:50:22.034Z"
   },
   {
    "duration": 12,
    "start_time": "2024-07-25T10:51:06.604Z"
   },
   {
    "duration": 4,
    "start_time": "2024-07-25T10:51:17.911Z"
   },
   {
    "duration": 12,
    "start_time": "2024-07-25T10:51:18.731Z"
   },
   {
    "duration": 416,
    "start_time": "2024-07-25T10:51:48.660Z"
   },
   {
    "duration": 11,
    "start_time": "2024-07-25T10:53:06.277Z"
   },
   {
    "duration": 19,
    "start_time": "2024-07-25T10:54:23.668Z"
   },
   {
    "duration": 1218,
    "start_time": "2024-07-25T10:54:33.618Z"
   },
   {
    "duration": 70,
    "start_time": "2024-07-25T10:54:34.838Z"
   },
   {
    "duration": 25,
    "start_time": "2024-07-25T10:54:34.909Z"
   },
   {
    "duration": 275,
    "start_time": "2024-07-25T10:54:34.936Z"
   },
   {
    "duration": 337,
    "start_time": "2024-07-25T10:54:35.213Z"
   },
   {
    "duration": 7,
    "start_time": "2024-07-25T10:54:35.551Z"
   },
   {
    "duration": 7,
    "start_time": "2024-07-25T10:54:35.560Z"
   },
   {
    "duration": 9,
    "start_time": "2024-07-25T10:54:35.569Z"
   },
   {
    "duration": 4,
    "start_time": "2024-07-25T10:54:35.580Z"
   },
   {
    "duration": 50,
    "start_time": "2024-07-25T10:54:35.586Z"
   },
   {
    "duration": 75,
    "start_time": "2024-07-25T10:54:35.637Z"
   },
   {
    "duration": 6,
    "start_time": "2024-07-25T10:54:35.714Z"
   },
   {
    "duration": 12,
    "start_time": "2024-07-25T10:54:35.721Z"
   },
   {
    "duration": 205,
    "start_time": "2024-07-25T10:54:35.735Z"
   },
   {
    "duration": 10,
    "start_time": "2024-07-25T10:54:35.942Z"
   },
   {
    "duration": 118,
    "start_time": "2024-07-25T10:54:35.953Z"
   },
   {
    "duration": 10,
    "start_time": "2024-07-25T10:54:36.073Z"
   },
   {
    "duration": 192,
    "start_time": "2024-07-25T10:54:36.084Z"
   },
   {
    "duration": 211,
    "start_time": "2024-07-25T10:54:36.278Z"
   },
   {
    "duration": 9,
    "start_time": "2024-07-25T10:54:36.490Z"
   },
   {
    "duration": 240,
    "start_time": "2024-07-25T10:54:36.500Z"
   },
   {
    "duration": 8,
    "start_time": "2024-07-25T10:54:36.742Z"
   },
   {
    "duration": 26,
    "start_time": "2024-07-25T10:54:36.752Z"
   },
   {
    "duration": 14,
    "start_time": "2024-07-25T10:54:36.780Z"
   },
   {
    "duration": 48,
    "start_time": "2024-07-25T10:54:36.795Z"
   },
   {
    "duration": 99,
    "start_time": "2024-07-25T10:54:36.845Z"
   },
   {
    "duration": 150,
    "start_time": "2024-07-25T10:54:36.946Z"
   },
   {
    "duration": 3,
    "start_time": "2024-07-25T10:54:37.100Z"
   },
   {
    "duration": 21,
    "start_time": "2024-07-25T10:54:37.104Z"
   },
   {
    "duration": 23,
    "start_time": "2024-07-25T10:54:37.126Z"
   },
   {
    "duration": 8,
    "start_time": "2024-07-25T10:54:37.151Z"
   },
   {
    "duration": 3,
    "start_time": "2024-07-25T10:54:37.161Z"
   },
   {
    "duration": 60,
    "start_time": "2024-07-25T10:54:37.166Z"
   },
   {
    "duration": 19,
    "start_time": "2024-07-25T10:54:37.228Z"
   },
   {
    "duration": 8,
    "start_time": "2024-07-25T10:54:37.248Z"
   },
   {
    "duration": 8,
    "start_time": "2024-07-25T10:54:37.257Z"
   },
   {
    "duration": 10,
    "start_time": "2024-07-25T10:54:37.266Z"
   },
   {
    "duration": 47,
    "start_time": "2024-07-25T10:54:37.277Z"
   },
   {
    "duration": 106,
    "start_time": "2024-07-25T10:54:37.326Z"
   },
   {
    "duration": 120,
    "start_time": "2024-07-25T10:54:37.434Z"
   },
   {
    "duration": 105,
    "start_time": "2024-07-25T10:54:37.556Z"
   },
   {
    "duration": 105,
    "start_time": "2024-07-25T10:54:37.662Z"
   },
   {
    "duration": 84,
    "start_time": "2024-07-25T10:54:37.769Z"
   },
   {
    "duration": 5620,
    "start_time": "2024-07-25T10:54:37.855Z"
   },
   {
    "duration": 19,
    "start_time": "2024-07-25T10:54:43.477Z"
   },
   {
    "duration": 29,
    "start_time": "2024-07-25T10:54:43.498Z"
   },
   {
    "duration": 163,
    "start_time": "2024-07-25T10:54:43.529Z"
   },
   {
    "duration": 5,
    "start_time": "2024-07-25T10:54:43.694Z"
   },
   {
    "duration": 53,
    "start_time": "2024-07-25T10:54:43.701Z"
   },
   {
    "duration": 12,
    "start_time": "2024-07-25T10:54:43.755Z"
   },
   {
    "duration": 4,
    "start_time": "2024-07-25T10:54:43.768Z"
   },
   {
    "duration": 15,
    "start_time": "2024-07-25T10:54:43.773Z"
   },
   {
    "duration": 164,
    "start_time": "2024-07-25T10:54:43.790Z"
   },
   {
    "duration": 0,
    "start_time": "2024-07-25T10:54:43.956Z"
   },
   {
    "duration": 20,
    "start_time": "2024-07-25T10:55:18.476Z"
   },
   {
    "duration": 1158,
    "start_time": "2024-07-25T10:55:23.792Z"
   },
   {
    "duration": 71,
    "start_time": "2024-07-25T10:55:24.952Z"
   },
   {
    "duration": 3,
    "start_time": "2024-07-25T10:55:25.025Z"
   },
   {
    "duration": 333,
    "start_time": "2024-07-25T10:55:25.029Z"
   },
   {
    "duration": 333,
    "start_time": "2024-07-25T10:55:25.364Z"
   },
   {
    "duration": 7,
    "start_time": "2024-07-25T10:55:25.699Z"
   },
   {
    "duration": 9,
    "start_time": "2024-07-25T10:55:25.707Z"
   },
   {
    "duration": 10,
    "start_time": "2024-07-25T10:55:25.723Z"
   },
   {
    "duration": 4,
    "start_time": "2024-07-25T10:55:25.735Z"
   },
   {
    "duration": 12,
    "start_time": "2024-07-25T10:55:25.741Z"
   },
   {
    "duration": 4,
    "start_time": "2024-07-25T10:55:25.755Z"
   },
   {
    "duration": 12,
    "start_time": "2024-07-25T10:55:25.760Z"
   },
   {
    "duration": 13,
    "start_time": "2024-07-25T10:55:25.773Z"
   },
   {
    "duration": 361,
    "start_time": "2024-07-25T10:55:25.789Z"
   },
   {
    "duration": 10,
    "start_time": "2024-07-25T10:55:26.152Z"
   },
   {
    "duration": 163,
    "start_time": "2024-07-25T10:55:26.163Z"
   },
   {
    "duration": 11,
    "start_time": "2024-07-25T10:55:26.327Z"
   },
   {
    "duration": 246,
    "start_time": "2024-07-25T10:55:26.339Z"
   },
   {
    "duration": 205,
    "start_time": "2024-07-25T10:55:26.586Z"
   },
   {
    "duration": 8,
    "start_time": "2024-07-25T10:55:26.793Z"
   },
   {
    "duration": 232,
    "start_time": "2024-07-25T10:55:26.803Z"
   },
   {
    "duration": 10,
    "start_time": "2024-07-25T10:55:27.036Z"
   },
   {
    "duration": 12,
    "start_time": "2024-07-25T10:55:27.047Z"
   },
   {
    "duration": 14,
    "start_time": "2024-07-25T10:55:27.061Z"
   },
   {
    "duration": 64,
    "start_time": "2024-07-25T10:55:27.076Z"
   },
   {
    "duration": 28,
    "start_time": "2024-07-25T10:55:27.142Z"
   },
   {
    "duration": 161,
    "start_time": "2024-07-25T10:55:27.171Z"
   },
   {
    "duration": 4,
    "start_time": "2024-07-25T10:55:27.334Z"
   },
   {
    "duration": 6,
    "start_time": "2024-07-25T10:55:27.340Z"
   },
   {
    "duration": 29,
    "start_time": "2024-07-25T10:55:27.348Z"
   },
   {
    "duration": 46,
    "start_time": "2024-07-25T10:55:27.379Z"
   },
   {
    "duration": 4,
    "start_time": "2024-07-25T10:55:27.428Z"
   },
   {
    "duration": 63,
    "start_time": "2024-07-25T10:55:27.435Z"
   },
   {
    "duration": 20,
    "start_time": "2024-07-25T10:55:27.500Z"
   },
   {
    "duration": 8,
    "start_time": "2024-07-25T10:55:27.522Z"
   },
   {
    "duration": 10,
    "start_time": "2024-07-25T10:55:27.532Z"
   },
   {
    "duration": 9,
    "start_time": "2024-07-25T10:55:27.544Z"
   },
   {
    "duration": 8,
    "start_time": "2024-07-25T10:55:27.555Z"
   },
   {
    "duration": 145,
    "start_time": "2024-07-25T10:55:27.565Z"
   },
   {
    "duration": 119,
    "start_time": "2024-07-25T10:55:27.712Z"
   },
   {
    "duration": 106,
    "start_time": "2024-07-25T10:55:27.835Z"
   },
   {
    "duration": 105,
    "start_time": "2024-07-25T10:55:27.943Z"
   },
   {
    "duration": 87,
    "start_time": "2024-07-25T10:55:28.050Z"
   },
   {
    "duration": 5663,
    "start_time": "2024-07-25T10:55:28.138Z"
   },
   {
    "duration": 32,
    "start_time": "2024-07-25T10:55:33.802Z"
   },
   {
    "duration": 7,
    "start_time": "2024-07-25T10:55:33.835Z"
   },
   {
    "duration": 197,
    "start_time": "2024-07-25T10:55:33.843Z"
   },
   {
    "duration": 6,
    "start_time": "2024-07-25T10:55:34.041Z"
   },
   {
    "duration": 18,
    "start_time": "2024-07-25T10:55:34.048Z"
   },
   {
    "duration": 17,
    "start_time": "2024-07-25T10:55:34.068Z"
   },
   {
    "duration": 4,
    "start_time": "2024-07-25T10:55:34.087Z"
   },
   {
    "duration": 18,
    "start_time": "2024-07-25T10:55:34.125Z"
   },
   {
    "duration": 127,
    "start_time": "2024-07-25T10:55:34.145Z"
   },
   {
    "duration": 1162,
    "start_time": "2024-07-25T10:59:32.355Z"
   },
   {
    "duration": 70,
    "start_time": "2024-07-25T10:59:33.519Z"
   },
   {
    "duration": 3,
    "start_time": "2024-07-25T10:59:33.591Z"
   },
   {
    "duration": 272,
    "start_time": "2024-07-25T10:59:33.596Z"
   },
   {
    "duration": 333,
    "start_time": "2024-07-25T10:59:33.869Z"
   },
   {
    "duration": 8,
    "start_time": "2024-07-25T10:59:34.203Z"
   },
   {
    "duration": 7,
    "start_time": "2024-07-25T10:59:34.224Z"
   },
   {
    "duration": 17,
    "start_time": "2024-07-25T10:59:34.232Z"
   },
   {
    "duration": 5,
    "start_time": "2024-07-25T10:59:34.251Z"
   },
   {
    "duration": 13,
    "start_time": "2024-07-25T10:59:34.258Z"
   },
   {
    "duration": 4,
    "start_time": "2024-07-25T10:59:34.273Z"
   },
   {
    "duration": 10,
    "start_time": "2024-07-25T10:59:34.279Z"
   },
   {
    "duration": 45,
    "start_time": "2024-07-25T10:59:34.290Z"
   },
   {
    "duration": 192,
    "start_time": "2024-07-25T10:59:34.336Z"
   },
   {
    "duration": 10,
    "start_time": "2024-07-25T10:59:34.529Z"
   },
   {
    "duration": 106,
    "start_time": "2024-07-25T10:59:34.541Z"
   },
   {
    "duration": 10,
    "start_time": "2024-07-25T10:59:34.649Z"
   },
   {
    "duration": 181,
    "start_time": "2024-07-25T10:59:34.661Z"
   },
   {
    "duration": 208,
    "start_time": "2024-07-25T10:59:34.844Z"
   },
   {
    "duration": 9,
    "start_time": "2024-07-25T10:59:35.053Z"
   },
   {
    "duration": 239,
    "start_time": "2024-07-25T10:59:35.063Z"
   },
   {
    "duration": 9,
    "start_time": "2024-07-25T10:59:35.303Z"
   },
   {
    "duration": 25,
    "start_time": "2024-07-25T10:59:35.313Z"
   },
   {
    "duration": 15,
    "start_time": "2024-07-25T10:59:35.339Z"
   },
   {
    "duration": 21,
    "start_time": "2024-07-25T10:59:35.356Z"
   },
   {
    "duration": 48,
    "start_time": "2024-07-25T10:59:35.378Z"
   },
   {
    "duration": 150,
    "start_time": "2024-07-25T10:59:35.428Z"
   },
   {
    "duration": 4,
    "start_time": "2024-07-25T10:59:35.581Z"
   },
   {
    "duration": 15,
    "start_time": "2024-07-25T10:59:35.586Z"
   },
   {
    "duration": 34,
    "start_time": "2024-07-25T10:59:35.602Z"
   },
   {
    "duration": 8,
    "start_time": "2024-07-25T10:59:35.637Z"
   },
   {
    "duration": 94,
    "start_time": "2024-07-25T10:59:35.647Z"
   },
   {
    "duration": 26,
    "start_time": "2024-07-25T10:59:35.743Z"
   },
   {
    "duration": 19,
    "start_time": "2024-07-25T10:59:35.771Z"
   },
   {
    "duration": 8,
    "start_time": "2024-07-25T10:59:35.792Z"
   },
   {
    "duration": 23,
    "start_time": "2024-07-25T10:59:35.801Z"
   },
   {
    "duration": 8,
    "start_time": "2024-07-25T10:59:35.826Z"
   },
   {
    "duration": 7,
    "start_time": "2024-07-25T10:59:35.836Z"
   },
   {
    "duration": 154,
    "start_time": "2024-07-25T10:59:35.844Z"
   },
   {
    "duration": 112,
    "start_time": "2024-07-25T10:59:36.000Z"
   },
   {
    "duration": 116,
    "start_time": "2024-07-25T10:59:36.114Z"
   },
   {
    "duration": 104,
    "start_time": "2024-07-25T10:59:36.231Z"
   },
   {
    "duration": 77,
    "start_time": "2024-07-25T10:59:36.337Z"
   },
   {
    "duration": 5431,
    "start_time": "2024-07-25T10:59:36.425Z"
   },
   {
    "duration": 20,
    "start_time": "2024-07-25T10:59:41.858Z"
   },
   {
    "duration": 46,
    "start_time": "2024-07-25T10:59:41.879Z"
   },
   {
    "duration": 153,
    "start_time": "2024-07-25T10:59:41.927Z"
   },
   {
    "duration": 6,
    "start_time": "2024-07-25T10:59:42.081Z"
   },
   {
    "duration": 82,
    "start_time": "2024-07-25T10:59:42.088Z"
   },
   {
    "duration": 0,
    "start_time": "2024-07-25T10:59:42.172Z"
   },
   {
    "duration": 0,
    "start_time": "2024-07-25T10:59:42.173Z"
   },
   {
    "duration": 0,
    "start_time": "2024-07-25T10:59:42.174Z"
   },
   {
    "duration": 0,
    "start_time": "2024-07-25T10:59:42.175Z"
   },
   {
    "duration": 0,
    "start_time": "2024-07-25T10:59:42.176Z"
   },
   {
    "duration": 1189,
    "start_time": "2024-07-25T11:00:27.564Z"
   },
   {
    "duration": 74,
    "start_time": "2024-07-25T11:00:28.755Z"
   },
   {
    "duration": 3,
    "start_time": "2024-07-25T11:00:28.830Z"
   },
   {
    "duration": 302,
    "start_time": "2024-07-25T11:00:28.835Z"
   },
   {
    "duration": 354,
    "start_time": "2024-07-25T11:00:29.139Z"
   },
   {
    "duration": 8,
    "start_time": "2024-07-25T11:00:29.495Z"
   },
   {
    "duration": 21,
    "start_time": "2024-07-25T11:00:29.504Z"
   },
   {
    "duration": 12,
    "start_time": "2024-07-25T11:00:29.526Z"
   },
   {
    "duration": 4,
    "start_time": "2024-07-25T11:00:29.540Z"
   },
   {
    "duration": 13,
    "start_time": "2024-07-25T11:00:29.547Z"
   },
   {
    "duration": 4,
    "start_time": "2024-07-25T11:00:29.562Z"
   },
   {
    "duration": 7,
    "start_time": "2024-07-25T11:00:29.568Z"
   },
   {
    "duration": 59,
    "start_time": "2024-07-25T11:00:29.577Z"
   },
   {
    "duration": 218,
    "start_time": "2024-07-25T11:00:29.638Z"
   },
   {
    "duration": 12,
    "start_time": "2024-07-25T11:00:29.858Z"
   },
   {
    "duration": 131,
    "start_time": "2024-07-25T11:00:29.872Z"
   },
   {
    "duration": 21,
    "start_time": "2024-07-25T11:00:30.005Z"
   },
   {
    "duration": 228,
    "start_time": "2024-07-25T11:00:30.028Z"
   },
   {
    "duration": 215,
    "start_time": "2024-07-25T11:00:30.258Z"
   },
   {
    "duration": 9,
    "start_time": "2024-07-25T11:00:30.475Z"
   },
   {
    "duration": 240,
    "start_time": "2024-07-25T11:00:30.486Z"
   },
   {
    "duration": 10,
    "start_time": "2024-07-25T11:00:30.727Z"
   },
   {
    "duration": 41,
    "start_time": "2024-07-25T11:00:30.739Z"
   },
   {
    "duration": 43,
    "start_time": "2024-07-25T11:00:30.782Z"
   },
   {
    "duration": 137,
    "start_time": "2024-07-25T11:00:30.827Z"
   },
   {
    "duration": 45,
    "start_time": "2024-07-25T11:00:30.966Z"
   },
   {
    "duration": 151,
    "start_time": "2024-07-25T11:00:31.013Z"
   },
   {
    "duration": 3,
    "start_time": "2024-07-25T11:00:31.168Z"
   },
   {
    "duration": 29,
    "start_time": "2024-07-25T11:00:31.173Z"
   },
   {
    "duration": 53,
    "start_time": "2024-07-25T11:00:31.203Z"
   },
   {
    "duration": 9,
    "start_time": "2024-07-25T11:00:31.258Z"
   },
   {
    "duration": 21,
    "start_time": "2024-07-25T11:00:31.269Z"
   },
   {
    "duration": 36,
    "start_time": "2024-07-25T11:00:31.291Z"
   },
   {
    "duration": 24,
    "start_time": "2024-07-25T11:00:31.329Z"
   },
   {
    "duration": 9,
    "start_time": "2024-07-25T11:00:31.354Z"
   },
   {
    "duration": 24,
    "start_time": "2024-07-25T11:00:31.364Z"
   },
   {
    "duration": 9,
    "start_time": "2024-07-25T11:00:31.390Z"
   },
   {
    "duration": 28,
    "start_time": "2024-07-25T11:00:31.401Z"
   },
   {
    "duration": 170,
    "start_time": "2024-07-25T11:00:31.431Z"
   },
   {
    "duration": 123,
    "start_time": "2024-07-25T11:00:31.602Z"
   },
   {
    "duration": 109,
    "start_time": "2024-07-25T11:00:31.727Z"
   },
   {
    "duration": 105,
    "start_time": "2024-07-25T11:00:31.838Z"
   },
   {
    "duration": 85,
    "start_time": "2024-07-25T11:00:31.945Z"
   },
   {
    "duration": 5723,
    "start_time": "2024-07-25T11:00:32.032Z"
   },
   {
    "duration": 20,
    "start_time": "2024-07-25T11:00:37.756Z"
   },
   {
    "duration": 7,
    "start_time": "2024-07-25T11:00:37.778Z"
   },
   {
    "duration": 178,
    "start_time": "2024-07-25T11:00:37.787Z"
   },
   {
    "duration": 6,
    "start_time": "2024-07-25T11:00:37.967Z"
   },
   {
    "duration": 52,
    "start_time": "2024-07-25T11:00:37.974Z"
   },
   {
    "duration": 49,
    "start_time": "2024-07-25T11:00:59.018Z"
   },
   {
    "duration": 52,
    "start_time": "2024-07-25T11:02:21.285Z"
   },
   {
    "duration": 108,
    "start_time": "2024-07-25T11:02:34.346Z"
   },
   {
    "duration": 9,
    "start_time": "2024-07-25T11:05:27.762Z"
   },
   {
    "duration": 8,
    "start_time": "2024-07-25T11:07:01.752Z"
   },
   {
    "duration": 56,
    "start_time": "2024-07-25T11:08:37.318Z"
   },
   {
    "duration": 1188,
    "start_time": "2024-07-25T11:08:54.023Z"
   },
   {
    "duration": 71,
    "start_time": "2024-07-25T11:08:55.213Z"
   },
   {
    "duration": 4,
    "start_time": "2024-07-25T11:08:55.285Z"
   },
   {
    "duration": 291,
    "start_time": "2024-07-25T11:08:55.291Z"
   },
   {
    "duration": 348,
    "start_time": "2024-07-25T11:08:55.583Z"
   },
   {
    "duration": 9,
    "start_time": "2024-07-25T11:08:55.933Z"
   },
   {
    "duration": 10,
    "start_time": "2024-07-25T11:08:55.944Z"
   },
   {
    "duration": 14,
    "start_time": "2024-07-25T11:08:55.956Z"
   },
   {
    "duration": 5,
    "start_time": "2024-07-25T11:08:55.977Z"
   },
   {
    "duration": 52,
    "start_time": "2024-07-25T11:08:55.984Z"
   },
   {
    "duration": 5,
    "start_time": "2024-07-25T11:08:56.037Z"
   },
   {
    "duration": 6,
    "start_time": "2024-07-25T11:08:56.044Z"
   },
   {
    "duration": 13,
    "start_time": "2024-07-25T11:08:56.052Z"
   },
   {
    "duration": 225,
    "start_time": "2024-07-25T11:08:56.067Z"
   },
   {
    "duration": 10,
    "start_time": "2024-07-25T11:08:56.294Z"
   },
   {
    "duration": 103,
    "start_time": "2024-07-25T11:08:56.305Z"
   },
   {
    "duration": 21,
    "start_time": "2024-07-25T11:08:56.409Z"
   },
   {
    "duration": 180,
    "start_time": "2024-07-25T11:08:56.432Z"
   },
   {
    "duration": 208,
    "start_time": "2024-07-25T11:08:56.614Z"
   },
   {
    "duration": 9,
    "start_time": "2024-07-25T11:08:56.824Z"
   },
   {
    "duration": 238,
    "start_time": "2024-07-25T11:08:56.834Z"
   },
   {
    "duration": 9,
    "start_time": "2024-07-25T11:08:57.074Z"
   },
   {
    "duration": 19,
    "start_time": "2024-07-25T11:08:57.084Z"
   },
   {
    "duration": 33,
    "start_time": "2024-07-25T11:08:57.105Z"
   },
   {
    "duration": 23,
    "start_time": "2024-07-25T11:08:57.140Z"
   },
   {
    "duration": 20,
    "start_time": "2024-07-25T11:08:57.165Z"
   },
   {
    "duration": 176,
    "start_time": "2024-07-25T11:08:57.187Z"
   },
   {
    "duration": 4,
    "start_time": "2024-07-25T11:08:57.366Z"
   },
   {
    "duration": 7,
    "start_time": "2024-07-25T11:08:57.371Z"
   },
   {
    "duration": 24,
    "start_time": "2024-07-25T11:08:57.379Z"
   },
   {
    "duration": 26,
    "start_time": "2024-07-25T11:08:57.405Z"
   },
   {
    "duration": 54,
    "start_time": "2024-07-25T11:08:57.433Z"
   },
   {
    "duration": 22,
    "start_time": "2024-07-25T11:08:57.489Z"
   },
   {
    "duration": 19,
    "start_time": "2024-07-25T11:08:57.513Z"
   },
   {
    "duration": 7,
    "start_time": "2024-07-25T11:08:57.534Z"
   },
   {
    "duration": 7,
    "start_time": "2024-07-25T11:08:57.543Z"
   },
   {
    "duration": 7,
    "start_time": "2024-07-25T11:08:57.551Z"
   },
   {
    "duration": 7,
    "start_time": "2024-07-25T11:08:57.560Z"
   },
   {
    "duration": 144,
    "start_time": "2024-07-25T11:08:57.569Z"
   },
   {
    "duration": 120,
    "start_time": "2024-07-25T11:08:57.714Z"
   },
   {
    "duration": 113,
    "start_time": "2024-07-25T11:08:57.835Z"
   },
   {
    "duration": 109,
    "start_time": "2024-07-25T11:08:57.949Z"
   },
   {
    "duration": 84,
    "start_time": "2024-07-25T11:08:58.060Z"
   },
   {
    "duration": 5404,
    "start_time": "2024-07-25T11:08:58.146Z"
   },
   {
    "duration": 20,
    "start_time": "2024-07-25T11:09:03.552Z"
   },
   {
    "duration": 6,
    "start_time": "2024-07-25T11:09:03.573Z"
   },
   {
    "duration": 177,
    "start_time": "2024-07-25T11:09:03.580Z"
   },
   {
    "duration": 5,
    "start_time": "2024-07-25T11:09:03.759Z"
   },
   {
    "duration": 12,
    "start_time": "2024-07-25T11:09:03.765Z"
   },
   {
    "duration": 8,
    "start_time": "2024-07-25T11:19:43.291Z"
   },
   {
    "duration": 1155,
    "start_time": "2024-07-25T11:21:23.928Z"
   },
   {
    "duration": 71,
    "start_time": "2024-07-25T11:21:25.085Z"
   },
   {
    "duration": 3,
    "start_time": "2024-07-25T11:21:25.158Z"
   },
   {
    "duration": 322,
    "start_time": "2024-07-25T11:21:25.163Z"
   },
   {
    "duration": 538,
    "start_time": "2024-07-25T11:21:25.486Z"
   },
   {
    "duration": 7,
    "start_time": "2024-07-25T11:21:26.026Z"
   },
   {
    "duration": 14,
    "start_time": "2024-07-25T11:21:26.035Z"
   },
   {
    "duration": 12,
    "start_time": "2024-07-25T11:21:26.050Z"
   },
   {
    "duration": 5,
    "start_time": "2024-07-25T11:21:26.063Z"
   },
   {
    "duration": 60,
    "start_time": "2024-07-25T11:21:26.071Z"
   },
   {
    "duration": 5,
    "start_time": "2024-07-25T11:21:26.132Z"
   },
   {
    "duration": 6,
    "start_time": "2024-07-25T11:21:26.138Z"
   },
   {
    "duration": 12,
    "start_time": "2024-07-25T11:21:26.146Z"
   },
   {
    "duration": 257,
    "start_time": "2024-07-25T11:21:26.160Z"
   },
   {
    "duration": 14,
    "start_time": "2024-07-25T11:21:26.418Z"
   },
   {
    "duration": 107,
    "start_time": "2024-07-25T11:21:26.433Z"
   },
   {
    "duration": 10,
    "start_time": "2024-07-25T11:21:26.542Z"
   },
   {
    "duration": 191,
    "start_time": "2024-07-25T11:21:26.554Z"
   },
   {
    "duration": 218,
    "start_time": "2024-07-25T11:21:26.747Z"
   },
   {
    "duration": 9,
    "start_time": "2024-07-25T11:21:26.966Z"
   },
   {
    "duration": 241,
    "start_time": "2024-07-25T11:21:26.976Z"
   },
   {
    "duration": 13,
    "start_time": "2024-07-25T11:21:27.218Z"
   },
   {
    "duration": 13,
    "start_time": "2024-07-25T11:21:27.232Z"
   },
   {
    "duration": 15,
    "start_time": "2024-07-25T11:21:27.246Z"
   },
   {
    "duration": 23,
    "start_time": "2024-07-25T11:21:27.263Z"
   },
   {
    "duration": 55,
    "start_time": "2024-07-25T11:21:27.287Z"
   },
   {
    "duration": 172,
    "start_time": "2024-07-25T11:21:27.344Z"
   },
   {
    "duration": 5,
    "start_time": "2024-07-25T11:21:27.520Z"
   },
   {
    "duration": 3,
    "start_time": "2024-07-25T11:21:27.527Z"
   },
   {
    "duration": 25,
    "start_time": "2024-07-25T11:21:27.532Z"
   },
   {
    "duration": 10,
    "start_time": "2024-07-25T11:21:27.558Z"
   },
   {
    "duration": 4,
    "start_time": "2024-07-25T11:21:27.569Z"
   },
   {
    "duration": 66,
    "start_time": "2024-07-25T11:21:27.575Z"
   },
   {
    "duration": 21,
    "start_time": "2024-07-25T11:21:27.642Z"
   },
   {
    "duration": 8,
    "start_time": "2024-07-25T11:21:27.665Z"
   },
   {
    "duration": 8,
    "start_time": "2024-07-25T11:21:27.674Z"
   },
   {
    "duration": 8,
    "start_time": "2024-07-25T11:21:27.684Z"
   },
   {
    "duration": 8,
    "start_time": "2024-07-25T11:21:27.725Z"
   },
   {
    "duration": 147,
    "start_time": "2024-07-25T11:21:27.734Z"
   },
   {
    "duration": 114,
    "start_time": "2024-07-25T11:21:27.882Z"
   },
   {
    "duration": 116,
    "start_time": "2024-07-25T11:21:27.998Z"
   },
   {
    "duration": 103,
    "start_time": "2024-07-25T11:21:28.123Z"
   },
   {
    "duration": 79,
    "start_time": "2024-07-25T11:21:28.228Z"
   },
   {
    "duration": 1816,
    "start_time": "2024-07-25T11:47:35.041Z"
   },
   {
    "duration": 354,
    "start_time": "2024-07-25T11:47:36.859Z"
   },
   {
    "duration": 4,
    "start_time": "2024-07-25T11:47:37.214Z"
   },
   {
    "duration": 272,
    "start_time": "2024-07-25T11:47:37.220Z"
   },
   {
    "duration": 333,
    "start_time": "2024-07-25T11:47:37.494Z"
   },
   {
    "duration": 7,
    "start_time": "2024-07-25T11:47:37.828Z"
   },
   {
    "duration": 24,
    "start_time": "2024-07-25T11:47:37.837Z"
   },
   {
    "duration": 10,
    "start_time": "2024-07-25T11:47:37.862Z"
   },
   {
    "duration": 4,
    "start_time": "2024-07-25T11:47:37.873Z"
   },
   {
    "duration": 12,
    "start_time": "2024-07-25T11:47:37.879Z"
   },
   {
    "duration": 4,
    "start_time": "2024-07-25T11:47:37.893Z"
   },
   {
    "duration": 29,
    "start_time": "2024-07-25T11:47:37.898Z"
   },
   {
    "duration": 13,
    "start_time": "2024-07-25T11:47:37.929Z"
   },
   {
    "duration": 195,
    "start_time": "2024-07-25T11:47:37.945Z"
   },
   {
    "duration": 10,
    "start_time": "2024-07-25T11:47:38.141Z"
   },
   {
    "duration": 103,
    "start_time": "2024-07-25T11:47:38.153Z"
   },
   {
    "duration": 11,
    "start_time": "2024-07-25T11:47:38.257Z"
   },
   {
    "duration": 177,
    "start_time": "2024-07-25T11:47:38.269Z"
   },
   {
    "duration": 201,
    "start_time": "2024-07-25T11:47:38.448Z"
   },
   {
    "duration": 8,
    "start_time": "2024-07-25T11:47:38.651Z"
   },
   {
    "duration": 227,
    "start_time": "2024-07-25T11:47:38.660Z"
   },
   {
    "duration": 9,
    "start_time": "2024-07-25T11:47:38.889Z"
   },
   {
    "duration": 25,
    "start_time": "2024-07-25T11:47:38.900Z"
   },
   {
    "duration": 16,
    "start_time": "2024-07-25T11:47:38.927Z"
   },
   {
    "duration": 20,
    "start_time": "2024-07-25T11:47:38.944Z"
   },
   {
    "duration": 100,
    "start_time": "2024-07-25T11:47:38.966Z"
   },
   {
    "duration": 182,
    "start_time": "2024-07-25T11:47:39.068Z"
   },
   {
    "duration": 3,
    "start_time": "2024-07-25T11:47:39.252Z"
   },
   {
    "duration": 14,
    "start_time": "2024-07-25T11:47:39.256Z"
   },
   {
    "duration": 27,
    "start_time": "2024-07-25T11:47:39.272Z"
   },
   {
    "duration": 9,
    "start_time": "2024-07-25T11:47:39.301Z"
   },
   {
    "duration": 3,
    "start_time": "2024-07-25T11:47:39.325Z"
   },
   {
    "duration": 29,
    "start_time": "2024-07-25T11:47:39.329Z"
   },
   {
    "duration": 19,
    "start_time": "2024-07-25T11:47:39.360Z"
   },
   {
    "duration": 9,
    "start_time": "2024-07-25T11:47:39.381Z"
   },
   {
    "duration": 32,
    "start_time": "2024-07-25T11:47:39.392Z"
   },
   {
    "duration": 10,
    "start_time": "2024-07-25T11:47:39.426Z"
   },
   {
    "duration": 8,
    "start_time": "2024-07-25T11:47:39.437Z"
   },
   {
    "duration": 131,
    "start_time": "2024-07-25T11:47:39.446Z"
   },
   {
    "duration": 136,
    "start_time": "2024-07-25T11:47:39.579Z"
   },
   {
    "duration": 105,
    "start_time": "2024-07-25T11:47:39.726Z"
   },
   {
    "duration": 103,
    "start_time": "2024-07-25T11:47:39.832Z"
   },
   {
    "duration": 94,
    "start_time": "2024-07-25T11:47:39.937Z"
   },
   {
    "duration": 5577,
    "start_time": "2024-07-25T11:47:40.033Z"
   },
   {
    "duration": 29,
    "start_time": "2024-07-25T11:47:45.612Z"
   },
   {
    "duration": 26,
    "start_time": "2024-07-25T11:47:45.643Z"
   },
   {
    "duration": 150,
    "start_time": "2024-07-25T11:47:45.671Z"
   },
   {
    "duration": 6,
    "start_time": "2024-07-25T11:47:45.824Z"
   },
   {
    "duration": 44,
    "start_time": "2024-07-25T11:47:45.832Z"
   },
   {
    "duration": 7,
    "start_time": "2024-07-25T11:47:45.878Z"
   },
   {
    "duration": 13,
    "start_time": "2024-07-25T11:47:45.887Z"
   },
   {
    "duration": 6,
    "start_time": "2024-07-25T11:48:31.731Z"
   },
   {
    "duration": 7,
    "start_time": "2024-07-25T11:52:42.815Z"
   },
   {
    "duration": 1269,
    "start_time": "2024-07-25T11:52:53.276Z"
   },
   {
    "duration": 73,
    "start_time": "2024-07-25T11:52:54.547Z"
   },
   {
    "duration": 3,
    "start_time": "2024-07-25T11:52:54.622Z"
   },
   {
    "duration": 287,
    "start_time": "2024-07-25T11:52:54.627Z"
   },
   {
    "duration": 373,
    "start_time": "2024-07-25T11:52:54.916Z"
   },
   {
    "duration": 7,
    "start_time": "2024-07-25T11:52:55.290Z"
   },
   {
    "duration": 24,
    "start_time": "2024-07-25T11:52:55.300Z"
   },
   {
    "duration": 14,
    "start_time": "2024-07-25T11:52:55.327Z"
   },
   {
    "duration": 4,
    "start_time": "2024-07-25T11:52:55.343Z"
   },
   {
    "duration": 13,
    "start_time": "2024-07-25T11:52:55.350Z"
   },
   {
    "duration": 5,
    "start_time": "2024-07-25T11:52:55.364Z"
   },
   {
    "duration": 6,
    "start_time": "2024-07-25T11:52:55.370Z"
   },
   {
    "duration": 48,
    "start_time": "2024-07-25T11:52:55.378Z"
   },
   {
    "duration": 201,
    "start_time": "2024-07-25T11:52:55.427Z"
   },
   {
    "duration": 10,
    "start_time": "2024-07-25T11:52:55.630Z"
   },
   {
    "duration": 109,
    "start_time": "2024-07-25T11:52:55.642Z"
   },
   {
    "duration": 11,
    "start_time": "2024-07-25T11:52:55.752Z"
   },
   {
    "duration": 185,
    "start_time": "2024-07-25T11:52:55.765Z"
   },
   {
    "duration": 210,
    "start_time": "2024-07-25T11:52:55.953Z"
   },
   {
    "duration": 10,
    "start_time": "2024-07-25T11:52:56.164Z"
   },
   {
    "duration": 242,
    "start_time": "2024-07-25T11:52:56.175Z"
   },
   {
    "duration": 12,
    "start_time": "2024-07-25T11:52:56.418Z"
   },
   {
    "duration": 12,
    "start_time": "2024-07-25T11:52:56.432Z"
   },
   {
    "duration": 15,
    "start_time": "2024-07-25T11:52:56.445Z"
   },
   {
    "duration": 21,
    "start_time": "2024-07-25T11:52:56.461Z"
   },
   {
    "duration": 49,
    "start_time": "2024-07-25T11:52:56.484Z"
   },
   {
    "duration": 148,
    "start_time": "2024-07-25T11:52:56.534Z"
   },
   {
    "duration": 4,
    "start_time": "2024-07-25T11:52:56.685Z"
   },
   {
    "duration": 6,
    "start_time": "2024-07-25T11:52:56.690Z"
   },
   {
    "duration": 35,
    "start_time": "2024-07-25T11:52:56.698Z"
   },
   {
    "duration": 9,
    "start_time": "2024-07-25T11:52:56.734Z"
   },
   {
    "duration": 3,
    "start_time": "2024-07-25T11:52:56.744Z"
   },
   {
    "duration": 24,
    "start_time": "2024-07-25T11:52:56.749Z"
   },
   {
    "duration": 17,
    "start_time": "2024-07-25T11:52:56.775Z"
   },
   {
    "duration": 32,
    "start_time": "2024-07-25T11:52:56.794Z"
   },
   {
    "duration": 8,
    "start_time": "2024-07-25T11:52:56.827Z"
   },
   {
    "duration": 7,
    "start_time": "2024-07-25T11:52:56.836Z"
   },
   {
    "duration": 7,
    "start_time": "2024-07-25T11:52:56.844Z"
   },
   {
    "duration": 128,
    "start_time": "2024-07-25T11:52:56.853Z"
   },
   {
    "duration": 113,
    "start_time": "2024-07-25T11:52:56.983Z"
   },
   {
    "duration": 107,
    "start_time": "2024-07-25T11:52:57.098Z"
   },
   {
    "duration": 106,
    "start_time": "2024-07-25T11:52:57.207Z"
   },
   {
    "duration": 80,
    "start_time": "2024-07-25T11:52:57.315Z"
   },
   {
    "duration": 5541,
    "start_time": "2024-07-25T11:52:57.397Z"
   },
   {
    "duration": 21,
    "start_time": "2024-07-25T11:53:02.940Z"
   },
   {
    "duration": 6,
    "start_time": "2024-07-25T11:53:02.962Z"
   },
   {
    "duration": 178,
    "start_time": "2024-07-25T11:53:02.970Z"
   },
   {
    "duration": 6,
    "start_time": "2024-07-25T11:53:03.149Z"
   },
   {
    "duration": 118,
    "start_time": "2024-07-25T11:53:03.156Z"
   },
   {
    "duration": 0,
    "start_time": "2024-07-25T11:53:03.275Z"
   },
   {
    "duration": 0,
    "start_time": "2024-07-25T11:53:03.276Z"
   },
   {
    "duration": 0,
    "start_time": "2024-07-25T11:53:03.278Z"
   },
   {
    "duration": 0,
    "start_time": "2024-07-25T11:53:03.279Z"
   },
   {
    "duration": 6,
    "start_time": "2024-07-25T11:53:34.235Z"
   },
   {
    "duration": 1230,
    "start_time": "2024-07-25T11:54:48.825Z"
   },
   {
    "duration": 71,
    "start_time": "2024-07-25T11:54:50.057Z"
   },
   {
    "duration": 7,
    "start_time": "2024-07-25T11:54:50.130Z"
   },
   {
    "duration": 330,
    "start_time": "2024-07-25T11:54:50.139Z"
   },
   {
    "duration": 367,
    "start_time": "2024-07-25T11:54:50.471Z"
   },
   {
    "duration": 7,
    "start_time": "2024-07-25T11:54:50.839Z"
   },
   {
    "duration": 14,
    "start_time": "2024-07-25T11:54:50.848Z"
   },
   {
    "duration": 11,
    "start_time": "2024-07-25T11:54:50.863Z"
   },
   {
    "duration": 4,
    "start_time": "2024-07-25T11:54:50.876Z"
   },
   {
    "duration": 42,
    "start_time": "2024-07-25T11:54:50.883Z"
   },
   {
    "duration": 5,
    "start_time": "2024-07-25T11:54:50.926Z"
   },
   {
    "duration": 6,
    "start_time": "2024-07-25T11:54:50.933Z"
   },
   {
    "duration": 13,
    "start_time": "2024-07-25T11:54:50.940Z"
   },
   {
    "duration": 229,
    "start_time": "2024-07-25T11:54:50.954Z"
   },
   {
    "duration": 11,
    "start_time": "2024-07-25T11:54:51.185Z"
   },
   {
    "duration": 110,
    "start_time": "2024-07-25T11:54:51.198Z"
   },
   {
    "duration": 20,
    "start_time": "2024-07-25T11:54:51.310Z"
   },
   {
    "duration": 192,
    "start_time": "2024-07-25T11:54:51.332Z"
   },
   {
    "duration": 216,
    "start_time": "2024-07-25T11:54:51.525Z"
   },
   {
    "duration": 8,
    "start_time": "2024-07-25T11:54:51.743Z"
   },
   {
    "duration": 238,
    "start_time": "2024-07-25T11:54:51.753Z"
   },
   {
    "duration": 10,
    "start_time": "2024-07-25T11:54:51.992Z"
   },
   {
    "duration": 70,
    "start_time": "2024-07-25T11:54:52.004Z"
   },
   {
    "duration": 15,
    "start_time": "2024-07-25T11:54:52.076Z"
   },
   {
    "duration": 23,
    "start_time": "2024-07-25T11:54:52.093Z"
   },
   {
    "duration": 21,
    "start_time": "2024-07-25T11:54:52.118Z"
   },
   {
    "duration": 155,
    "start_time": "2024-07-25T11:54:52.140Z"
   },
   {
    "duration": 3,
    "start_time": "2024-07-25T11:54:52.299Z"
   },
   {
    "duration": 9,
    "start_time": "2024-07-25T11:54:52.304Z"
   },
   {
    "duration": 24,
    "start_time": "2024-07-25T11:54:52.323Z"
   },
   {
    "duration": 9,
    "start_time": "2024-07-25T11:54:52.349Z"
   },
   {
    "duration": 4,
    "start_time": "2024-07-25T11:54:52.359Z"
   },
   {
    "duration": 22,
    "start_time": "2024-07-25T11:54:52.364Z"
   },
   {
    "duration": 49,
    "start_time": "2024-07-25T11:54:52.388Z"
   },
   {
    "duration": 13,
    "start_time": "2024-07-25T11:54:52.439Z"
   },
   {
    "duration": 9,
    "start_time": "2024-07-25T11:54:52.454Z"
   },
   {
    "duration": 8,
    "start_time": "2024-07-25T11:54:52.464Z"
   },
   {
    "duration": 8,
    "start_time": "2024-07-25T11:54:52.473Z"
   },
   {
    "duration": 144,
    "start_time": "2024-07-25T11:54:52.482Z"
   },
   {
    "duration": 121,
    "start_time": "2024-07-25T11:54:52.628Z"
   },
   {
    "duration": 111,
    "start_time": "2024-07-25T11:54:52.751Z"
   },
   {
    "duration": 106,
    "start_time": "2024-07-25T11:54:52.864Z"
   },
   {
    "duration": 94,
    "start_time": "2024-07-25T11:54:52.972Z"
   },
   {
    "duration": 5678,
    "start_time": "2024-07-25T11:54:53.067Z"
   },
   {
    "duration": 22,
    "start_time": "2024-07-25T11:54:58.747Z"
   },
   {
    "duration": 7,
    "start_time": "2024-07-25T11:54:58.771Z"
   },
   {
    "duration": 184,
    "start_time": "2024-07-25T11:54:58.780Z"
   },
   {
    "duration": 7,
    "start_time": "2024-07-25T11:54:58.965Z"
   },
   {
    "duration": 7,
    "start_time": "2024-07-25T11:54:58.973Z"
   },
   {
    "duration": 79,
    "start_time": "2024-07-25T11:54:58.981Z"
   },
   {
    "duration": 81,
    "start_time": "2024-07-25T11:54:59.062Z"
   },
   {
    "duration": 18,
    "start_time": "2024-07-25T11:54:59.145Z"
   },
   {
    "duration": 7,
    "start_time": "2024-07-25T11:58:48.575Z"
   },
   {
    "duration": 8,
    "start_time": "2024-07-25T12:00:50.690Z"
   },
   {
    "duration": 1182,
    "start_time": "2024-07-25T12:00:56.474Z"
   },
   {
    "duration": 72,
    "start_time": "2024-07-25T12:00:57.658Z"
   },
   {
    "duration": 3,
    "start_time": "2024-07-25T12:00:57.731Z"
   },
   {
    "duration": 291,
    "start_time": "2024-07-25T12:00:57.736Z"
   },
   {
    "duration": 357,
    "start_time": "2024-07-25T12:00:58.029Z"
   },
   {
    "duration": 8,
    "start_time": "2024-07-25T12:00:58.387Z"
   },
   {
    "duration": 9,
    "start_time": "2024-07-25T12:00:58.396Z"
   },
   {
    "duration": 26,
    "start_time": "2024-07-25T12:00:58.406Z"
   },
   {
    "duration": 5,
    "start_time": "2024-07-25T12:00:58.434Z"
   },
   {
    "duration": 30,
    "start_time": "2024-07-25T12:00:58.441Z"
   },
   {
    "duration": 5,
    "start_time": "2024-07-25T12:00:58.472Z"
   },
   {
    "duration": 6,
    "start_time": "2024-07-25T12:00:58.479Z"
   },
   {
    "duration": 13,
    "start_time": "2024-07-25T12:00:58.486Z"
   },
   {
    "duration": 216,
    "start_time": "2024-07-25T12:00:58.501Z"
   },
   {
    "duration": 11,
    "start_time": "2024-07-25T12:00:58.723Z"
   },
   {
    "duration": 107,
    "start_time": "2024-07-25T12:00:58.735Z"
   },
   {
    "duration": 11,
    "start_time": "2024-07-25T12:00:58.844Z"
   },
   {
    "duration": 193,
    "start_time": "2024-07-25T12:00:58.856Z"
   },
   {
    "duration": 221,
    "start_time": "2024-07-25T12:00:59.050Z"
   },
   {
    "duration": 9,
    "start_time": "2024-07-25T12:00:59.272Z"
   },
   {
    "duration": 243,
    "start_time": "2024-07-25T12:00:59.282Z"
   },
   {
    "duration": 9,
    "start_time": "2024-07-25T12:00:59.527Z"
   },
   {
    "duration": 68,
    "start_time": "2024-07-25T12:00:59.537Z"
   },
   {
    "duration": 22,
    "start_time": "2024-07-25T12:00:59.608Z"
   },
   {
    "duration": 27,
    "start_time": "2024-07-25T12:00:59.632Z"
   },
   {
    "duration": 22,
    "start_time": "2024-07-25T12:00:59.660Z"
   },
   {
    "duration": 173,
    "start_time": "2024-07-25T12:00:59.683Z"
   },
   {
    "duration": 3,
    "start_time": "2024-07-25T12:00:59.860Z"
   },
   {
    "duration": 18,
    "start_time": "2024-07-25T12:00:59.864Z"
   },
   {
    "duration": 26,
    "start_time": "2024-07-25T12:00:59.883Z"
   },
   {
    "duration": 15,
    "start_time": "2024-07-25T12:00:59.910Z"
   },
   {
    "duration": 3,
    "start_time": "2024-07-25T12:00:59.926Z"
   },
   {
    "duration": 21,
    "start_time": "2024-07-25T12:00:59.931Z"
   },
   {
    "duration": 19,
    "start_time": "2024-07-25T12:00:59.953Z"
   },
   {
    "duration": 9,
    "start_time": "2024-07-25T12:00:59.973Z"
   },
   {
    "duration": 7,
    "start_time": "2024-07-25T12:00:59.983Z"
   },
   {
    "duration": 9,
    "start_time": "2024-07-25T12:01:00.025Z"
   },
   {
    "duration": 114,
    "start_time": "2024-07-25T12:01:00.035Z"
   },
   {
    "duration": 135,
    "start_time": "2024-07-25T12:01:00.151Z"
   },
   {
    "duration": 116,
    "start_time": "2024-07-25T12:01:00.287Z"
   },
   {
    "duration": 110,
    "start_time": "2024-07-25T12:01:00.404Z"
   },
   {
    "duration": 97,
    "start_time": "2024-07-25T12:01:00.516Z"
   },
   {
    "duration": 81,
    "start_time": "2024-07-25T12:01:00.623Z"
   },
   {
    "duration": 5492,
    "start_time": "2024-07-25T12:01:00.706Z"
   },
   {
    "duration": 32,
    "start_time": "2024-07-25T12:01:06.199Z"
   },
   {
    "duration": 7,
    "start_time": "2024-07-25T12:01:06.232Z"
   },
   {
    "duration": 164,
    "start_time": "2024-07-25T12:01:06.241Z"
   },
   {
    "duration": 6,
    "start_time": "2024-07-25T12:01:06.407Z"
   },
   {
    "duration": 14,
    "start_time": "2024-07-25T12:01:06.415Z"
   },
   {
    "duration": 18,
    "start_time": "2024-07-25T12:01:06.431Z"
   },
   {
    "duration": 8,
    "start_time": "2024-07-25T12:01:06.450Z"
   },
   {
    "duration": 8,
    "start_time": "2024-07-25T12:01:06.460Z"
   },
   {
    "duration": 16,
    "start_time": "2024-07-25T12:01:06.470Z"
   },
   {
    "duration": 1218,
    "start_time": "2024-07-25T12:01:46.134Z"
   },
   {
    "duration": 72,
    "start_time": "2024-07-25T12:01:47.354Z"
   },
   {
    "duration": 3,
    "start_time": "2024-07-25T12:01:47.431Z"
   },
   {
    "duration": 301,
    "start_time": "2024-07-25T12:01:47.436Z"
   },
   {
    "duration": 354,
    "start_time": "2024-07-25T12:01:47.739Z"
   },
   {
    "duration": 7,
    "start_time": "2024-07-25T12:01:48.095Z"
   },
   {
    "duration": 20,
    "start_time": "2024-07-25T12:01:48.104Z"
   },
   {
    "duration": 11,
    "start_time": "2024-07-25T12:01:48.126Z"
   },
   {
    "duration": 5,
    "start_time": "2024-07-25T12:01:48.141Z"
   },
   {
    "duration": 14,
    "start_time": "2024-07-25T12:01:48.148Z"
   },
   {
    "duration": 5,
    "start_time": "2024-07-25T12:01:48.164Z"
   },
   {
    "duration": 8,
    "start_time": "2024-07-25T12:01:48.170Z"
   },
   {
    "duration": 50,
    "start_time": "2024-07-25T12:01:48.179Z"
   },
   {
    "duration": 199,
    "start_time": "2024-07-25T12:01:48.230Z"
   },
   {
    "duration": 9,
    "start_time": "2024-07-25T12:01:48.431Z"
   },
   {
    "duration": 109,
    "start_time": "2024-07-25T12:01:48.441Z"
   },
   {
    "duration": 10,
    "start_time": "2024-07-25T12:01:48.552Z"
   },
   {
    "duration": 193,
    "start_time": "2024-07-25T12:01:48.563Z"
   },
   {
    "duration": 214,
    "start_time": "2024-07-25T12:01:48.757Z"
   },
   {
    "duration": 9,
    "start_time": "2024-07-25T12:01:48.972Z"
   },
   {
    "duration": 232,
    "start_time": "2024-07-25T12:01:48.982Z"
   },
   {
    "duration": 15,
    "start_time": "2024-07-25T12:01:49.215Z"
   },
   {
    "duration": 15,
    "start_time": "2024-07-25T12:01:49.232Z"
   },
   {
    "duration": 17,
    "start_time": "2024-07-25T12:01:49.249Z"
   },
   {
    "duration": 21,
    "start_time": "2024-07-25T12:01:49.268Z"
   },
   {
    "duration": 46,
    "start_time": "2024-07-25T12:01:49.291Z"
   },
   {
    "duration": 159,
    "start_time": "2024-07-25T12:01:49.341Z"
   },
   {
    "duration": 2,
    "start_time": "2024-07-25T12:01:49.503Z"
   },
   {
    "duration": 5,
    "start_time": "2024-07-25T12:01:49.506Z"
   },
   {
    "duration": 23,
    "start_time": "2024-07-25T12:01:49.524Z"
   },
   {
    "duration": 76,
    "start_time": "2024-07-25T12:01:49.548Z"
   },
   {
    "duration": 4,
    "start_time": "2024-07-25T12:01:49.626Z"
   },
   {
    "duration": 22,
    "start_time": "2024-07-25T12:01:49.631Z"
   },
   {
    "duration": 19,
    "start_time": "2024-07-25T12:01:49.654Z"
   },
   {
    "duration": 7,
    "start_time": "2024-07-25T12:01:49.675Z"
   },
   {
    "duration": 9,
    "start_time": "2024-07-25T12:01:49.684Z"
   },
   {
    "duration": 9,
    "start_time": "2024-07-25T12:01:49.723Z"
   },
   {
    "duration": 9,
    "start_time": "2024-07-25T12:01:49.734Z"
   },
   {
    "duration": 132,
    "start_time": "2024-07-25T12:01:49.744Z"
   },
   {
    "duration": 116,
    "start_time": "2024-07-25T12:01:49.879Z"
   },
   {
    "duration": 115,
    "start_time": "2024-07-25T12:01:49.997Z"
   },
   {
    "duration": 129,
    "start_time": "2024-07-25T12:01:50.114Z"
   },
   {
    "duration": 86,
    "start_time": "2024-07-25T12:01:50.245Z"
   },
   {
    "duration": 5592,
    "start_time": "2024-07-25T12:01:50.333Z"
   },
   {
    "duration": 21,
    "start_time": "2024-07-25T12:01:55.927Z"
   },
   {
    "duration": 8,
    "start_time": "2024-07-25T12:01:55.950Z"
   },
   {
    "duration": 179,
    "start_time": "2024-07-25T12:01:55.959Z"
   },
   {
    "duration": 6,
    "start_time": "2024-07-25T12:01:56.140Z"
   },
   {
    "duration": 10,
    "start_time": "2024-07-25T12:01:56.148Z"
   },
   {
    "duration": 17,
    "start_time": "2024-07-25T12:01:56.159Z"
   },
   {
    "duration": 8,
    "start_time": "2024-07-25T12:01:56.178Z"
   },
   {
    "duration": 39,
    "start_time": "2024-07-25T12:01:56.188Z"
   },
   {
    "duration": 8,
    "start_time": "2024-07-25T12:01:56.229Z"
   },
   {
    "duration": 10,
    "start_time": "2024-07-25T12:05:15.168Z"
   },
   {
    "duration": 7,
    "start_time": "2024-07-25T12:07:49.242Z"
   },
   {
    "duration": 1174,
    "start_time": "2024-07-25T12:07:57.386Z"
   },
   {
    "duration": 72,
    "start_time": "2024-07-25T12:07:58.562Z"
   },
   {
    "duration": 3,
    "start_time": "2024-07-25T12:07:58.635Z"
   },
   {
    "duration": 288,
    "start_time": "2024-07-25T12:07:58.640Z"
   },
   {
    "duration": 354,
    "start_time": "2024-07-25T12:07:58.929Z"
   },
   {
    "duration": 7,
    "start_time": "2024-07-25T12:07:59.284Z"
   },
   {
    "duration": 7,
    "start_time": "2024-07-25T12:07:59.293Z"
   },
   {
    "duration": 28,
    "start_time": "2024-07-25T12:07:59.301Z"
   },
   {
    "duration": 5,
    "start_time": "2024-07-25T12:07:59.330Z"
   },
   {
    "duration": 13,
    "start_time": "2024-07-25T12:07:59.338Z"
   },
   {
    "duration": 5,
    "start_time": "2024-07-25T12:07:59.353Z"
   },
   {
    "duration": 6,
    "start_time": "2024-07-25T12:07:59.359Z"
   },
   {
    "duration": 13,
    "start_time": "2024-07-25T12:07:59.367Z"
   },
   {
    "duration": 246,
    "start_time": "2024-07-25T12:07:59.382Z"
   },
   {
    "duration": 13,
    "start_time": "2024-07-25T12:07:59.629Z"
   },
   {
    "duration": 110,
    "start_time": "2024-07-25T12:07:59.645Z"
   },
   {
    "duration": 11,
    "start_time": "2024-07-25T12:07:59.756Z"
   },
   {
    "duration": 191,
    "start_time": "2024-07-25T12:07:59.768Z"
   },
   {
    "duration": 223,
    "start_time": "2024-07-25T12:07:59.960Z"
   },
   {
    "duration": 11,
    "start_time": "2024-07-25T12:08:00.185Z"
   },
   {
    "duration": 259,
    "start_time": "2024-07-25T12:08:00.198Z"
   },
   {
    "duration": 10,
    "start_time": "2024-07-25T12:08:00.459Z"
   },
   {
    "duration": 28,
    "start_time": "2024-07-25T12:08:00.470Z"
   },
   {
    "duration": 28,
    "start_time": "2024-07-25T12:08:00.500Z"
   },
   {
    "duration": 30,
    "start_time": "2024-07-25T12:08:00.529Z"
   },
   {
    "duration": 26,
    "start_time": "2024-07-25T12:08:00.561Z"
   },
   {
    "duration": 150,
    "start_time": "2024-07-25T12:08:00.588Z"
   },
   {
    "duration": 2,
    "start_time": "2024-07-25T12:08:00.741Z"
   },
   {
    "duration": 17,
    "start_time": "2024-07-25T12:08:00.745Z"
   },
   {
    "duration": 45,
    "start_time": "2024-07-25T12:08:00.763Z"
   },
   {
    "duration": 61,
    "start_time": "2024-07-25T12:08:00.810Z"
   },
   {
    "duration": 27,
    "start_time": "2024-07-25T12:08:00.873Z"
   },
   {
    "duration": 56,
    "start_time": "2024-07-25T12:08:00.902Z"
   },
   {
    "duration": 47,
    "start_time": "2024-07-25T12:08:00.961Z"
   },
   {
    "duration": 104,
    "start_time": "2024-07-25T12:08:01.010Z"
   },
   {
    "duration": 93,
    "start_time": "2024-07-25T12:08:01.116Z"
   },
   {
    "duration": 23,
    "start_time": "2024-07-25T12:08:01.210Z"
   },
   {
    "duration": 22,
    "start_time": "2024-07-25T12:08:01.234Z"
   },
   {
    "duration": 138,
    "start_time": "2024-07-25T12:08:01.258Z"
   },
   {
    "duration": 128,
    "start_time": "2024-07-25T12:08:01.398Z"
   },
   {
    "duration": 115,
    "start_time": "2024-07-25T12:08:01.527Z"
   },
   {
    "duration": 116,
    "start_time": "2024-07-25T12:08:01.643Z"
   },
   {
    "duration": 93,
    "start_time": "2024-07-25T12:08:01.760Z"
   },
   {
    "duration": 5629,
    "start_time": "2024-07-25T12:08:01.854Z"
   },
   {
    "duration": 20,
    "start_time": "2024-07-25T12:08:07.484Z"
   },
   {
    "duration": 23,
    "start_time": "2024-07-25T12:08:07.505Z"
   },
   {
    "duration": 161,
    "start_time": "2024-07-25T12:08:07.529Z"
   },
   {
    "duration": 5,
    "start_time": "2024-07-25T12:08:07.692Z"
   },
   {
    "duration": 5,
    "start_time": "2024-07-25T12:08:07.699Z"
   },
   {
    "duration": 32,
    "start_time": "2024-07-25T12:08:07.706Z"
   },
   {
    "duration": 18,
    "start_time": "2024-07-25T12:08:07.739Z"
   },
   {
    "duration": 8,
    "start_time": "2024-07-25T12:08:07.759Z"
   },
   {
    "duration": 8,
    "start_time": "2024-07-25T12:08:07.769Z"
   },
   {
    "duration": 11,
    "start_time": "2024-07-25T12:08:07.778Z"
   },
   {
    "duration": 1215,
    "start_time": "2024-07-25T12:08:28.034Z"
   },
   {
    "duration": 71,
    "start_time": "2024-07-25T12:08:29.251Z"
   },
   {
    "duration": 3,
    "start_time": "2024-07-25T12:08:29.324Z"
   },
   {
    "duration": 316,
    "start_time": "2024-07-25T12:08:29.329Z"
   },
   {
    "duration": 342,
    "start_time": "2024-07-25T12:08:29.647Z"
   },
   {
    "duration": 7,
    "start_time": "2024-07-25T12:08:29.990Z"
   },
   {
    "duration": 38,
    "start_time": "2024-07-25T12:08:29.999Z"
   },
   {
    "duration": 77,
    "start_time": "2024-07-25T12:08:30.038Z"
   },
   {
    "duration": 28,
    "start_time": "2024-07-25T12:08:30.116Z"
   },
   {
    "duration": 80,
    "start_time": "2024-07-25T12:08:30.147Z"
   },
   {
    "duration": 25,
    "start_time": "2024-07-25T12:08:30.229Z"
   },
   {
    "duration": 36,
    "start_time": "2024-07-25T12:08:30.256Z"
   },
   {
    "duration": 46,
    "start_time": "2024-07-25T12:08:30.294Z"
   },
   {
    "duration": 205,
    "start_time": "2024-07-25T12:08:30.342Z"
   },
   {
    "duration": 11,
    "start_time": "2024-07-25T12:08:30.548Z"
   },
   {
    "duration": 202,
    "start_time": "2024-07-25T12:08:30.560Z"
   },
   {
    "duration": 17,
    "start_time": "2024-07-25T12:08:30.763Z"
   },
   {
    "duration": 207,
    "start_time": "2024-07-25T12:08:30.782Z"
   },
   {
    "duration": 213,
    "start_time": "2024-07-25T12:08:30.991Z"
   },
   {
    "duration": 8,
    "start_time": "2024-07-25T12:08:31.206Z"
   },
   {
    "duration": 238,
    "start_time": "2024-07-25T12:08:31.224Z"
   },
   {
    "duration": 10,
    "start_time": "2024-07-25T12:08:31.464Z"
   },
   {
    "duration": 17,
    "start_time": "2024-07-25T12:08:31.475Z"
   },
   {
    "duration": 31,
    "start_time": "2024-07-25T12:08:31.494Z"
   },
   {
    "duration": 23,
    "start_time": "2024-07-25T12:08:31.526Z"
   },
   {
    "duration": 107,
    "start_time": "2024-07-25T12:08:31.550Z"
   },
   {
    "duration": 154,
    "start_time": "2024-07-25T12:08:31.658Z"
   },
   {
    "duration": 3,
    "start_time": "2024-07-25T12:08:31.816Z"
   },
   {
    "duration": 96,
    "start_time": "2024-07-25T12:08:31.824Z"
   },
   {
    "duration": 37,
    "start_time": "2024-07-25T12:08:31.922Z"
   },
   {
    "duration": 8,
    "start_time": "2024-07-25T12:08:31.961Z"
   },
   {
    "duration": 8,
    "start_time": "2024-07-25T12:08:31.971Z"
   },
   {
    "duration": 29,
    "start_time": "2024-07-25T12:08:31.981Z"
   },
   {
    "duration": 18,
    "start_time": "2024-07-25T12:08:32.011Z"
   },
   {
    "duration": 7,
    "start_time": "2024-07-25T12:08:32.031Z"
   },
   {
    "duration": 9,
    "start_time": "2024-07-25T12:08:32.039Z"
   },
   {
    "duration": 8,
    "start_time": "2024-07-25T12:08:32.050Z"
   },
   {
    "duration": 66,
    "start_time": "2024-07-25T12:08:32.060Z"
   },
   {
    "duration": 121,
    "start_time": "2024-07-25T12:08:32.128Z"
   },
   {
    "duration": 127,
    "start_time": "2024-07-25T12:08:32.250Z"
   },
   {
    "duration": 111,
    "start_time": "2024-07-25T12:08:32.379Z"
   },
   {
    "duration": 111,
    "start_time": "2024-07-25T12:08:32.492Z"
   },
   {
    "duration": 87,
    "start_time": "2024-07-25T12:08:32.605Z"
   },
   {
    "duration": 5503,
    "start_time": "2024-07-25T12:08:32.694Z"
   },
   {
    "duration": 30,
    "start_time": "2024-07-25T12:08:38.199Z"
   },
   {
    "duration": 6,
    "start_time": "2024-07-25T12:08:38.231Z"
   },
   {
    "duration": 165,
    "start_time": "2024-07-25T12:08:38.239Z"
   },
   {
    "duration": 6,
    "start_time": "2024-07-25T12:08:38.405Z"
   },
   {
    "duration": 15,
    "start_time": "2024-07-25T12:08:38.412Z"
   },
   {
    "duration": 16,
    "start_time": "2024-07-25T12:08:38.429Z"
   },
   {
    "duration": 10,
    "start_time": "2024-07-25T12:08:38.446Z"
   },
   {
    "duration": 16,
    "start_time": "2024-07-25T12:08:38.457Z"
   },
   {
    "duration": 8,
    "start_time": "2024-07-25T12:08:38.474Z"
   },
   {
    "duration": 11,
    "start_time": "2024-07-25T12:08:38.483Z"
   },
   {
    "duration": 1170,
    "start_time": "2024-07-25T12:09:12.281Z"
   },
   {
    "duration": 72,
    "start_time": "2024-07-25T12:09:13.452Z"
   },
   {
    "duration": 3,
    "start_time": "2024-07-25T12:09:13.525Z"
   },
   {
    "duration": 294,
    "start_time": "2024-07-25T12:09:13.530Z"
   },
   {
    "duration": 345,
    "start_time": "2024-07-25T12:09:13.826Z"
   },
   {
    "duration": 7,
    "start_time": "2024-07-25T12:09:14.173Z"
   },
   {
    "duration": 7,
    "start_time": "2024-07-25T12:09:14.182Z"
   },
   {
    "duration": 11,
    "start_time": "2024-07-25T12:09:14.190Z"
   },
   {
    "duration": 21,
    "start_time": "2024-07-25T12:09:14.203Z"
   },
   {
    "duration": 14,
    "start_time": "2024-07-25T12:09:14.227Z"
   },
   {
    "duration": 5,
    "start_time": "2024-07-25T12:09:14.243Z"
   },
   {
    "duration": 6,
    "start_time": "2024-07-25T12:09:14.249Z"
   },
   {
    "duration": 16,
    "start_time": "2024-07-25T12:09:14.257Z"
   },
   {
    "duration": 226,
    "start_time": "2024-07-25T12:09:14.274Z"
   },
   {
    "duration": 10,
    "start_time": "2024-07-25T12:09:14.502Z"
   },
   {
    "duration": 91,
    "start_time": "2024-07-25T12:09:14.525Z"
   },
   {
    "duration": 10,
    "start_time": "2024-07-25T12:09:14.624Z"
   },
   {
    "duration": 190,
    "start_time": "2024-07-25T12:09:14.636Z"
   },
   {
    "duration": 213,
    "start_time": "2024-07-25T12:09:14.828Z"
   },
   {
    "duration": 8,
    "start_time": "2024-07-25T12:09:15.042Z"
   },
   {
    "duration": 297,
    "start_time": "2024-07-25T12:09:15.052Z"
   },
   {
    "duration": 10,
    "start_time": "2024-07-25T12:09:15.350Z"
   },
   {
    "duration": 14,
    "start_time": "2024-07-25T12:09:15.361Z"
   },
   {
    "duration": 16,
    "start_time": "2024-07-25T12:09:15.376Z"
   },
   {
    "duration": 45,
    "start_time": "2024-07-25T12:09:15.393Z"
   },
   {
    "duration": 21,
    "start_time": "2024-07-25T12:09:15.439Z"
   },
   {
    "duration": 158,
    "start_time": "2024-07-25T12:09:15.461Z"
   },
   {
    "duration": 2,
    "start_time": "2024-07-25T12:09:15.626Z"
   },
   {
    "duration": 5,
    "start_time": "2024-07-25T12:09:15.629Z"
   },
   {
    "duration": 22,
    "start_time": "2024-07-25T12:09:15.636Z"
   },
   {
    "duration": 9,
    "start_time": "2024-07-25T12:09:15.659Z"
   },
   {
    "duration": 4,
    "start_time": "2024-07-25T12:09:15.669Z"
   },
   {
    "duration": 53,
    "start_time": "2024-07-25T12:09:15.674Z"
   },
   {
    "duration": 20,
    "start_time": "2024-07-25T12:09:15.729Z"
   },
   {
    "duration": 7,
    "start_time": "2024-07-25T12:09:15.751Z"
   },
   {
    "duration": 7,
    "start_time": "2024-07-25T12:09:15.760Z"
   },
   {
    "duration": 12,
    "start_time": "2024-07-25T12:09:15.769Z"
   },
   {
    "duration": 7,
    "start_time": "2024-07-25T12:09:15.782Z"
   },
   {
    "duration": 142,
    "start_time": "2024-07-25T12:09:15.791Z"
   },
   {
    "duration": 118,
    "start_time": "2024-07-25T12:09:15.935Z"
   },
   {
    "duration": 110,
    "start_time": "2024-07-25T12:09:16.055Z"
   },
   {
    "duration": 104,
    "start_time": "2024-07-25T12:09:16.167Z"
   },
   {
    "duration": 95,
    "start_time": "2024-07-25T12:09:16.273Z"
   },
   {
    "duration": 5955,
    "start_time": "2024-07-25T12:09:16.370Z"
   },
   {
    "duration": 22,
    "start_time": "2024-07-25T12:09:22.326Z"
   },
   {
    "duration": 7,
    "start_time": "2024-07-25T12:09:22.350Z"
   },
   {
    "duration": 177,
    "start_time": "2024-07-25T12:09:22.359Z"
   },
   {
    "duration": 6,
    "start_time": "2024-07-25T12:09:22.538Z"
   },
   {
    "duration": 6,
    "start_time": "2024-07-25T12:09:22.545Z"
   },
   {
    "duration": 18,
    "start_time": "2024-07-25T12:09:22.552Z"
   },
   {
    "duration": 9,
    "start_time": "2024-07-25T12:09:22.573Z"
   },
   {
    "duration": 42,
    "start_time": "2024-07-25T12:09:22.584Z"
   },
   {
    "duration": 8,
    "start_time": "2024-07-25T12:09:22.628Z"
   },
   {
    "duration": 11,
    "start_time": "2024-07-25T12:09:22.638Z"
   },
   {
    "duration": 1233,
    "start_time": "2024-07-25T12:11:27.018Z"
   },
   {
    "duration": 72,
    "start_time": "2024-07-25T12:11:28.252Z"
   },
   {
    "duration": 3,
    "start_time": "2024-07-25T12:11:28.326Z"
   },
   {
    "duration": 294,
    "start_time": "2024-07-25T12:11:28.331Z"
   },
   {
    "duration": 350,
    "start_time": "2024-07-25T12:11:28.626Z"
   },
   {
    "duration": 7,
    "start_time": "2024-07-25T12:11:28.978Z"
   },
   {
    "duration": 9,
    "start_time": "2024-07-25T12:11:28.987Z"
   },
   {
    "duration": 26,
    "start_time": "2024-07-25T12:11:28.998Z"
   },
   {
    "duration": 45,
    "start_time": "2024-07-25T12:11:29.026Z"
   },
   {
    "duration": 23,
    "start_time": "2024-07-25T12:11:29.074Z"
   },
   {
    "duration": 5,
    "start_time": "2024-07-25T12:11:29.098Z"
   },
   {
    "duration": 54,
    "start_time": "2024-07-25T12:11:29.104Z"
   },
   {
    "duration": 47,
    "start_time": "2024-07-25T12:11:29.160Z"
   },
   {
    "duration": 191,
    "start_time": "2024-07-25T12:11:29.208Z"
   },
   {
    "duration": 10,
    "start_time": "2024-07-25T12:11:29.401Z"
   },
   {
    "duration": 101,
    "start_time": "2024-07-25T12:11:29.413Z"
   },
   {
    "duration": 10,
    "start_time": "2024-07-25T12:11:29.524Z"
   },
   {
    "duration": 207,
    "start_time": "2024-07-25T12:11:29.536Z"
   },
   {
    "duration": 209,
    "start_time": "2024-07-25T12:11:29.744Z"
   },
   {
    "duration": 8,
    "start_time": "2024-07-25T12:11:29.955Z"
   },
   {
    "duration": 261,
    "start_time": "2024-07-25T12:11:29.965Z"
   },
   {
    "duration": 9,
    "start_time": "2024-07-25T12:11:30.228Z"
   },
   {
    "duration": 61,
    "start_time": "2024-07-25T12:11:30.239Z"
   },
   {
    "duration": 64,
    "start_time": "2024-07-25T12:11:30.302Z"
   },
   {
    "duration": 75,
    "start_time": "2024-07-25T12:11:30.367Z"
   },
   {
    "duration": 48,
    "start_time": "2024-07-25T12:11:30.444Z"
   },
   {
    "duration": 148,
    "start_time": "2024-07-25T12:11:30.493Z"
   },
   {
    "duration": 3,
    "start_time": "2024-07-25T12:11:30.644Z"
   },
   {
    "duration": 26,
    "start_time": "2024-07-25T12:11:30.648Z"
   },
   {
    "duration": 46,
    "start_time": "2024-07-25T12:11:30.675Z"
   },
   {
    "duration": 9,
    "start_time": "2024-07-25T12:11:30.723Z"
   },
   {
    "duration": 55,
    "start_time": "2024-07-25T12:11:30.734Z"
   },
   {
    "duration": 53,
    "start_time": "2024-07-25T12:11:30.791Z"
   },
   {
    "duration": 33,
    "start_time": "2024-07-25T12:11:30.846Z"
   },
   {
    "duration": 16,
    "start_time": "2024-07-25T12:11:30.881Z"
   },
   {
    "duration": 17,
    "start_time": "2024-07-25T12:11:30.898Z"
   },
   {
    "duration": 25,
    "start_time": "2024-07-25T12:11:30.916Z"
   },
   {
    "duration": 13,
    "start_time": "2024-07-25T12:11:30.943Z"
   },
   {
    "duration": 122,
    "start_time": "2024-07-25T12:11:30.958Z"
   },
   {
    "duration": 110,
    "start_time": "2024-07-25T12:11:31.082Z"
   },
   {
    "duration": 117,
    "start_time": "2024-07-25T12:11:31.193Z"
   },
   {
    "duration": 112,
    "start_time": "2024-07-25T12:11:31.312Z"
   },
   {
    "duration": 78,
    "start_time": "2024-07-25T12:11:31.426Z"
   },
   {
    "duration": 5934,
    "start_time": "2024-07-25T12:11:31.506Z"
   },
   {
    "duration": 20,
    "start_time": "2024-07-25T12:11:37.442Z"
   },
   {
    "duration": 7,
    "start_time": "2024-07-25T12:11:37.463Z"
   },
   {
    "duration": 170,
    "start_time": "2024-07-25T12:11:37.471Z"
   },
   {
    "duration": 5,
    "start_time": "2024-07-25T12:11:37.643Z"
   },
   {
    "duration": 5,
    "start_time": "2024-07-25T12:11:37.650Z"
   },
   {
    "duration": 16,
    "start_time": "2024-07-25T12:11:37.656Z"
   },
   {
    "duration": 10,
    "start_time": "2024-07-25T12:11:37.674Z"
   },
   {
    "duration": 7,
    "start_time": "2024-07-25T12:11:37.685Z"
   },
   {
    "duration": 37,
    "start_time": "2024-07-25T12:11:37.693Z"
   },
   {
    "duration": 11,
    "start_time": "2024-07-25T12:11:37.731Z"
   },
   {
    "duration": 12,
    "start_time": "2024-07-25T12:40:52.110Z"
   },
   {
    "duration": 45,
    "start_time": "2024-07-25T13:06:47.319Z"
   },
   {
    "duration": 1247,
    "start_time": "2024-07-25T13:07:40.342Z"
   },
   {
    "duration": 73,
    "start_time": "2024-07-25T13:07:41.591Z"
   },
   {
    "duration": 4,
    "start_time": "2024-07-25T13:07:41.665Z"
   },
   {
    "duration": 336,
    "start_time": "2024-07-25T13:07:41.671Z"
   },
   {
    "duration": 363,
    "start_time": "2024-07-25T13:07:42.008Z"
   },
   {
    "duration": 7,
    "start_time": "2024-07-25T13:07:42.373Z"
   },
   {
    "duration": 7,
    "start_time": "2024-07-25T13:07:42.382Z"
   },
   {
    "duration": 36,
    "start_time": "2024-07-25T13:07:42.390Z"
   },
   {
    "duration": 5,
    "start_time": "2024-07-25T13:07:42.427Z"
   },
   {
    "duration": 14,
    "start_time": "2024-07-25T13:07:42.435Z"
   },
   {
    "duration": 5,
    "start_time": "2024-07-25T13:07:42.451Z"
   },
   {
    "duration": 14,
    "start_time": "2024-07-25T13:07:42.457Z"
   },
   {
    "duration": 13,
    "start_time": "2024-07-25T13:07:42.473Z"
   },
   {
    "duration": 237,
    "start_time": "2024-07-25T13:07:42.487Z"
   },
   {
    "duration": 10,
    "start_time": "2024-07-25T13:07:42.725Z"
   },
   {
    "duration": 112,
    "start_time": "2024-07-25T13:07:42.737Z"
   },
   {
    "duration": 11,
    "start_time": "2024-07-25T13:07:42.851Z"
   },
   {
    "duration": 194,
    "start_time": "2024-07-25T13:07:42.863Z"
   },
   {
    "duration": 218,
    "start_time": "2024-07-25T13:07:43.059Z"
   },
   {
    "duration": 9,
    "start_time": "2024-07-25T13:07:43.278Z"
   },
   {
    "duration": 242,
    "start_time": "2024-07-25T13:07:43.288Z"
   },
   {
    "duration": 9,
    "start_time": "2024-07-25T13:07:43.532Z"
   },
   {
    "duration": 13,
    "start_time": "2024-07-25T13:07:43.543Z"
   },
   {
    "duration": 17,
    "start_time": "2024-07-25T13:07:43.557Z"
   },
   {
    "duration": 56,
    "start_time": "2024-07-25T13:07:43.575Z"
   },
   {
    "duration": 22,
    "start_time": "2024-07-25T13:07:43.632Z"
   },
   {
    "duration": 170,
    "start_time": "2024-07-25T13:07:43.655Z"
   },
   {
    "duration": 3,
    "start_time": "2024-07-25T13:07:43.829Z"
   },
   {
    "duration": 6,
    "start_time": "2024-07-25T13:07:43.833Z"
   },
   {
    "duration": 27,
    "start_time": "2024-07-25T13:07:43.840Z"
   },
   {
    "duration": 9,
    "start_time": "2024-07-25T13:07:43.869Z"
   },
   {
    "duration": 3,
    "start_time": "2024-07-25T13:07:43.880Z"
   },
   {
    "duration": 59,
    "start_time": "2024-07-25T13:07:43.885Z"
   },
   {
    "duration": 19,
    "start_time": "2024-07-25T13:07:43.945Z"
   },
   {
    "duration": 69,
    "start_time": "2024-07-25T13:07:43.966Z"
   },
   {
    "duration": 13,
    "start_time": "2024-07-25T13:07:44.036Z"
   },
   {
    "duration": 9,
    "start_time": "2024-07-25T13:07:44.051Z"
   },
   {
    "duration": 8,
    "start_time": "2024-07-25T13:07:44.061Z"
   },
   {
    "duration": 126,
    "start_time": "2024-07-25T13:07:44.070Z"
   },
   {
    "duration": 119,
    "start_time": "2024-07-25T13:07:44.198Z"
   },
   {
    "duration": 122,
    "start_time": "2024-07-25T13:07:44.324Z"
   },
   {
    "duration": 110,
    "start_time": "2024-07-25T13:07:44.447Z"
   },
   {
    "duration": 97,
    "start_time": "2024-07-25T13:07:44.559Z"
   },
   {
    "duration": 5761,
    "start_time": "2024-07-25T13:07:44.658Z"
   },
   {
    "duration": 21,
    "start_time": "2024-07-25T13:07:50.424Z"
   },
   {
    "duration": 7,
    "start_time": "2024-07-25T13:07:50.446Z"
   },
   {
    "duration": 181,
    "start_time": "2024-07-25T13:07:50.455Z"
   },
   {
    "duration": 6,
    "start_time": "2024-07-25T13:07:50.637Z"
   },
   {
    "duration": 7,
    "start_time": "2024-07-25T13:07:50.645Z"
   },
   {
    "duration": 11,
    "start_time": "2024-07-25T13:07:50.654Z"
   },
   {
    "duration": 1421,
    "start_time": "2024-07-25T14:45:44.452Z"
   },
   {
    "duration": 290,
    "start_time": "2024-07-25T14:45:45.875Z"
   },
   {
    "duration": 3,
    "start_time": "2024-07-25T14:45:46.167Z"
   },
   {
    "duration": 308,
    "start_time": "2024-07-25T14:45:46.172Z"
   },
   {
    "duration": 357,
    "start_time": "2024-07-25T14:45:46.482Z"
   },
   {
    "duration": 8,
    "start_time": "2024-07-25T14:45:46.846Z"
   },
   {
    "duration": 13,
    "start_time": "2024-07-25T14:45:46.855Z"
   },
   {
    "duration": 26,
    "start_time": "2024-07-25T14:45:46.869Z"
   },
   {
    "duration": 18,
    "start_time": "2024-07-25T14:45:46.897Z"
   },
   {
    "duration": 46,
    "start_time": "2024-07-25T14:45:46.918Z"
   },
   {
    "duration": 56,
    "start_time": "2024-07-25T14:45:46.965Z"
   },
   {
    "duration": 23,
    "start_time": "2024-07-25T14:45:47.022Z"
   },
   {
    "duration": 12,
    "start_time": "2024-07-25T14:45:47.047Z"
   },
   {
    "duration": 211,
    "start_time": "2024-07-25T14:45:47.061Z"
   },
   {
    "duration": 12,
    "start_time": "2024-07-25T14:45:47.274Z"
   },
   {
    "duration": 100,
    "start_time": "2024-07-25T14:45:47.287Z"
   },
   {
    "duration": 10,
    "start_time": "2024-07-25T14:45:47.389Z"
   },
   {
    "duration": 200,
    "start_time": "2024-07-25T14:45:47.401Z"
   },
   {
    "duration": 237,
    "start_time": "2024-07-25T14:45:47.602Z"
   },
   {
    "duration": 15,
    "start_time": "2024-07-25T14:45:47.841Z"
   },
   {
    "duration": 253,
    "start_time": "2024-07-25T14:45:47.857Z"
   },
   {
    "duration": 9,
    "start_time": "2024-07-25T14:45:48.112Z"
   },
   {
    "duration": 35,
    "start_time": "2024-07-25T14:45:48.123Z"
   },
   {
    "duration": 41,
    "start_time": "2024-07-25T14:45:48.159Z"
   },
   {
    "duration": 21,
    "start_time": "2024-07-25T14:45:48.202Z"
   },
   {
    "duration": 31,
    "start_time": "2024-07-25T14:45:48.225Z"
   },
   {
    "duration": 149,
    "start_time": "2024-07-25T14:45:48.257Z"
   },
   {
    "duration": 2,
    "start_time": "2024-07-25T14:45:48.410Z"
   },
   {
    "duration": 42,
    "start_time": "2024-07-25T14:45:48.414Z"
   },
   {
    "duration": 32,
    "start_time": "2024-07-25T14:45:48.457Z"
   },
   {
    "duration": 9,
    "start_time": "2024-07-25T14:45:48.490Z"
   },
   {
    "duration": 6,
    "start_time": "2024-07-25T14:45:48.501Z"
   },
   {
    "duration": 31,
    "start_time": "2024-07-25T14:45:48.509Z"
   },
   {
    "duration": 27,
    "start_time": "2024-07-25T14:45:48.546Z"
   },
   {
    "duration": 9,
    "start_time": "2024-07-25T14:45:48.574Z"
   },
   {
    "duration": 18,
    "start_time": "2024-07-25T14:45:48.585Z"
   },
   {
    "duration": 14,
    "start_time": "2024-07-25T14:45:48.605Z"
   },
   {
    "duration": 32,
    "start_time": "2024-07-25T14:45:48.624Z"
   },
   {
    "duration": 128,
    "start_time": "2024-07-25T14:45:48.659Z"
   },
   {
    "duration": 109,
    "start_time": "2024-07-25T14:45:48.788Z"
   },
   {
    "duration": 114,
    "start_time": "2024-07-25T14:45:48.898Z"
   },
   {
    "duration": 111,
    "start_time": "2024-07-25T14:45:49.013Z"
   },
   {
    "duration": 85,
    "start_time": "2024-07-25T14:45:49.125Z"
   },
   {
    "duration": 5527,
    "start_time": "2024-07-25T14:45:49.211Z"
   },
   {
    "duration": 23,
    "start_time": "2024-07-25T14:45:54.739Z"
   },
   {
    "duration": 7,
    "start_time": "2024-07-25T14:45:54.763Z"
   },
   {
    "duration": 179,
    "start_time": "2024-07-25T14:45:54.771Z"
   },
   {
    "duration": 5,
    "start_time": "2024-07-25T14:45:54.951Z"
   },
   {
    "duration": 25,
    "start_time": "2024-07-25T14:45:54.958Z"
   },
   {
    "duration": 26,
    "start_time": "2024-07-25T14:45:54.984Z"
   },
   {
    "duration": 1485,
    "start_time": "2025-01-17T14:31:48.575Z"
   },
   {
    "duration": 307,
    "start_time": "2025-01-17T14:31:50.062Z"
   },
   {
    "duration": 3,
    "start_time": "2025-01-17T14:31:50.372Z"
   },
   {
    "duration": 332,
    "start_time": "2025-01-17T14:31:50.377Z"
   },
   {
    "duration": 459,
    "start_time": "2025-01-17T14:31:50.711Z"
   },
   {
    "duration": 8,
    "start_time": "2025-01-17T14:31:51.172Z"
   },
   {
    "duration": 14,
    "start_time": "2025-01-17T14:31:51.181Z"
   },
   {
    "duration": 63,
    "start_time": "2025-01-17T14:31:51.197Z"
   },
   {
    "duration": 6,
    "start_time": "2025-01-17T14:31:51.262Z"
   },
   {
    "duration": 16,
    "start_time": "2025-01-17T14:31:51.269Z"
   },
   {
    "duration": 9,
    "start_time": "2025-01-17T14:31:51.287Z"
   },
   {
    "duration": 24,
    "start_time": "2025-01-17T14:31:51.297Z"
   },
   {
    "duration": 16,
    "start_time": "2025-01-17T14:31:51.323Z"
   },
   {
    "duration": 203,
    "start_time": "2025-01-17T14:31:51.342Z"
   },
   {
    "duration": 14,
    "start_time": "2025-01-17T14:31:51.547Z"
   },
   {
    "duration": 110,
    "start_time": "2025-01-17T14:31:51.563Z"
   },
   {
    "duration": 11,
    "start_time": "2025-01-17T14:31:51.675Z"
   },
   {
    "duration": 319,
    "start_time": "2025-01-17T14:31:51.688Z"
   },
   {
    "duration": 387,
    "start_time": "2025-01-17T14:31:52.009Z"
   },
   {
    "duration": 9,
    "start_time": "2025-01-17T14:31:52.397Z"
   },
   {
    "duration": 225,
    "start_time": "2025-01-17T14:31:52.409Z"
   },
   {
    "duration": 11,
    "start_time": "2025-01-17T14:31:52.636Z"
   },
   {
    "duration": 16,
    "start_time": "2025-01-17T14:31:52.659Z"
   },
   {
    "duration": 25,
    "start_time": "2025-01-17T14:31:52.677Z"
   },
   {
    "duration": 25,
    "start_time": "2025-01-17T14:31:52.704Z"
   },
   {
    "duration": 51,
    "start_time": "2025-01-17T14:31:52.731Z"
   },
   {
    "duration": 172,
    "start_time": "2025-01-17T14:31:52.784Z"
   },
   {
    "duration": 3,
    "start_time": "2025-01-17T14:31:52.960Z"
   },
   {
    "duration": 28,
    "start_time": "2025-01-17T14:31:52.965Z"
   },
   {
    "duration": 10,
    "start_time": "2025-01-17T14:31:52.994Z"
   },
   {
    "duration": 14,
    "start_time": "2025-01-17T14:31:53.006Z"
   },
   {
    "duration": 56,
    "start_time": "2025-01-17T14:31:53.022Z"
   },
   {
    "duration": 22,
    "start_time": "2025-01-17T14:31:53.079Z"
   },
   {
    "duration": 10,
    "start_time": "2025-01-17T14:31:53.103Z"
   },
   {
    "duration": 22,
    "start_time": "2025-01-17T14:31:53.114Z"
   },
   {
    "duration": 30,
    "start_time": "2025-01-17T14:31:53.138Z"
   },
   {
    "duration": 10,
    "start_time": "2025-01-17T14:31:53.170Z"
   },
   {
    "duration": 152,
    "start_time": "2025-01-17T14:31:53.182Z"
   },
   {
    "duration": 141,
    "start_time": "2025-01-17T14:31:53.336Z"
   },
   {
    "duration": 128,
    "start_time": "2025-01-17T14:31:53.480Z"
   },
   {
    "duration": 116,
    "start_time": "2025-01-17T14:31:53.612Z"
   },
   {
    "duration": 97,
    "start_time": "2025-01-17T14:31:53.730Z"
   },
   {
    "duration": 5540,
    "start_time": "2025-01-17T14:31:53.829Z"
   },
   {
    "duration": 22,
    "start_time": "2025-01-17T14:31:59.371Z"
   },
   {
    "duration": 7,
    "start_time": "2025-01-17T14:31:59.394Z"
   },
   {
    "duration": 198,
    "start_time": "2025-01-17T14:31:59.403Z"
   },
   {
    "duration": 8,
    "start_time": "2025-01-17T14:31:59.604Z"
   },
   {
    "duration": 12,
    "start_time": "2025-01-17T14:31:59.614Z"
   },
   {
    "duration": 41,
    "start_time": "2025-01-17T14:31:59.628Z"
   }
  ],
  "kernelspec": {
   "display_name": "Python 3 (ipykernel)",
   "language": "python",
   "name": "python3"
  },
  "language_info": {
   "codemirror_mode": {
    "name": "ipython",
    "version": 3
   },
   "file_extension": ".py",
   "mimetype": "text/x-python",
   "name": "python",
   "nbconvert_exporter": "python",
   "pygments_lexer": "ipython3",
   "version": "3.9.5"
  },
  "toc": {
   "base_numbering": 1,
   "nav_menu": {},
   "number_sections": true,
   "sideBar": true,
   "skip_h1_title": true,
   "title_cell": "Table of Contents",
   "title_sidebar": "Contents",
   "toc_cell": false,
   "toc_position": {},
   "toc_section_display": true,
   "toc_window_display": false
  }
 },
 "nbformat": 4,
 "nbformat_minor": 5
}
